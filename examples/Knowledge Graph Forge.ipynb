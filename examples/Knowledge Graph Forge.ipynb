{
 "cells": [
  {
   "cell_type": "markdown",
   "metadata": {},
   "source": [
    "Pierre-Alexandre v17.09.2019"
   ]
  },
  {
   "cell_type": "code",
   "execution_count": null,
   "metadata": {
    "ExecuteTime": {
     "end_time": "2019-09-12T12:34:10.954705Z",
     "start_time": "2019-09-12T12:34:10.807372Z"
    }
   },
   "outputs": [],
   "source": [
    "! python -V"
   ]
  },
  {
   "cell_type": "markdown",
   "metadata": {},
   "source": [
    "**Installations**"
   ]
  },
  {
   "cell_type": "code",
   "execution_count": null,
   "metadata": {
    "ExecuteTime": {
     "end_time": "2019-09-12T12:34:10.965402Z",
     "start_time": "2019-09-12T12:34:10.958762Z"
    }
   },
   "outputs": [],
   "source": [
    "! pip install kgforge"
   ]
  },
  {
   "cell_type": "code",
   "execution_count": null,
   "metadata": {
    "ExecuteTime": {
     "end_time": "2019-09-12T12:34:10.980630Z",
     "start_time": "2019-09-12T12:34:10.973095Z"
    }
   },
   "outputs": [],
   "source": [
    "! pip install allensdk"
   ]
  },
  {
   "cell_type": "code",
   "execution_count": null,
   "metadata": {
    "ExecuteTime": {
     "end_time": "2019-09-12T12:34:10.990775Z",
     "start_time": "2019-09-12T12:34:10.984745Z"
    }
   },
   "outputs": [],
   "source": [
    "! pip install git+https://github.com/BlueBrain/TMD"
   ]
  },
  {
   "cell_type": "markdown",
   "metadata": {},
   "source": [
    "**Imports**"
   ]
  },
  {
   "cell_type": "code",
   "execution_count": null,
   "metadata": {
    "ExecuteTime": {
     "end_time": "2019-09-12T12:34:10.999752Z",
     "start_time": "2019-09-12T12:34:10.994443Z"
    }
   },
   "outputs": [],
   "source": [
    "import json"
   ]
  },
  {
   "cell_type": "code",
   "execution_count": null,
   "metadata": {
    "ExecuteTime": {
     "end_time": "2019-09-12T12:34:11.714700Z",
     "start_time": "2019-09-12T12:34:11.003773Z"
    }
   },
   "outputs": [],
   "source": [
    "from kgforge.core import KnowledgeGraphForge, Resource\n",
    "from kgforge.core.transforming import Mapping\n",
    "from kgforge.specializations.mappers import DictionaryMapper"
   ]
  },
  {
   "cell_type": "code",
   "execution_count": null,
   "metadata": {
    "ExecuteTime": {
     "end_time": "2019-09-12T12:34:11.935189Z",
     "start_time": "2019-09-12T12:34:11.716919Z"
    }
   },
   "outputs": [],
   "source": [
    "from allensdk.core.cell_types_cache import CellTypesCache\n",
    "from allensdk.api.queries.cell_types_api import CellTypesApi"
   ]
  },
  {
   "cell_type": "code",
   "execution_count": null,
   "metadata": {
    "ExecuteTime": {
     "end_time": "2019-09-12T12:34:11.989541Z",
     "start_time": "2019-09-12T12:34:11.939751Z"
    }
   },
   "outputs": [],
   "source": [
    "import tmd"
   ]
  },
  {
   "cell_type": "markdown",
   "metadata": {},
   "source": [
    "**Setup**"
   ]
  },
  {
   "cell_type": "code",
   "execution_count": null,
   "metadata": {
    "ExecuteTime": {
     "end_time": "2019-09-12T12:34:11.995395Z",
     "start_time": "2019-09-12T12:34:11.991969Z"
    }
   },
   "outputs": [],
   "source": [
    "TOKEN = \"<token>\""
   ]
  },
  {
   "cell_type": "code",
   "execution_count": null,
   "metadata": {
    "ExecuteTime": {
     "end_time": "2019-09-12T12:34:12.001710Z",
     "start_time": "2019-09-12T12:34:11.997386Z"
    }
   },
   "outputs": [],
   "source": [
    "forge = KnowledgeGraphForge.from_config(\"bbp_prod_session.yml\", bucket=\"bbp/<project>\", token=TOKEN)"
   ]
  },
  {
   "cell_type": "markdown",
   "metadata": {},
   "source": [
    "---"
   ]
  },
  {
   "cell_type": "markdown",
   "metadata": {},
   "source": [
    "## User Journey A - Data Integration\n",
    "\n",
    "1. Retrieve a human neuron morphologies from the Allen Cell Types Database\n",
    "2. Integrate these neuron morphologies into the Blue Brain Knowledge Graph\n",
    "    - Retrieve the complete metadata of the selection of neuron morphologies\n",
    "    - Integrate the Subject entities\n",
    "    - Integrate the Patched Cell entities\n",
    "    - Integrate the Neuron Morphology entities\n",
    "3. Save the mappings to later share them and track their changes"
   ]
  },
  {
   "cell_type": "markdown",
   "metadata": {
    "colab_type": "text",
    "id": "9W5M5Ck9Tq7q"
   },
   "source": [
    "### 1 - Retrieve a human neuron morphologies from the Allen Cell Types Database"
   ]
  },
  {
   "cell_type": "code",
   "execution_count": null,
   "metadata": {
    "ExecuteTime": {
     "end_time": "2019-09-12T12:34:12.017196Z",
     "start_time": "2019-09-12T12:34:12.013002Z"
    }
   },
   "outputs": [],
   "source": [
    "ALLEN_DIR = \"allen_cell_types_db\""
   ]
  },
  {
   "cell_type": "code",
   "execution_count": null,
   "metadata": {
    "ExecuteTime": {
     "end_time": "2019-09-12T12:34:12.025656Z",
     "start_time": "2019-09-12T12:34:12.020548Z"
    }
   },
   "outputs": [],
   "source": [
    "LIMIT = 2"
   ]
  },
  {
   "cell_type": "code",
   "execution_count": null,
   "metadata": {
    "ExecuteTime": {
     "end_time": "2019-09-12T12:34:12.041356Z",
     "start_time": "2019-09-12T12:34:12.029056Z"
    }
   },
   "outputs": [],
   "source": [
    "ctc = CellTypesCache(manifest_file=f\"{ALLEN_DIR}/manifest.json\")"
   ]
  },
  {
   "cell_type": "code",
   "execution_count": null,
   "metadata": {
    "ExecuteTime": {
     "end_time": "2019-09-12T12:34:12.102274Z",
     "start_time": "2019-09-12T12:34:12.043904Z"
    }
   },
   "outputs": [],
   "source": [
    "human_cells = ctc.get_cells(species=[CellTypesApi.HUMAN], require_reconstruction=True)"
   ]
  },
  {
   "cell_type": "code",
   "execution_count": null,
   "metadata": {
    "ExecuteTime": {
     "end_time": "2019-09-12T12:34:12.108855Z",
     "start_time": "2019-09-12T12:34:12.104642Z"
    }
   },
   "outputs": [],
   "source": [
    "human_cell_ids = [x[\"id\"] for x in human_cells][:LIMIT]"
   ]
  },
  {
   "cell_type": "code",
   "execution_count": null,
   "metadata": {
    "ExecuteTime": {
     "end_time": "2019-09-12T12:34:12.114296Z",
     "start_time": "2019-09-12T12:34:12.110781Z"
    }
   },
   "outputs": [],
   "source": [
    "human_cell_reconstructions = [ctc.get_reconstruction(x) for x in human_cell_ids]"
   ]
  },
  {
   "cell_type": "markdown",
   "metadata": {},
   "source": [
    "### 2 - Integrate these neuron morphologies into the Blue Brain Knowledge Graph"
   ]
  },
  {
   "cell_type": "markdown",
   "metadata": {},
   "source": [
    "Data integrated into the Blue Brain Knowledge Graph follow the Blue Brain Knowledge Graph Schema.\n",
    "\n",
    "In the current case, this means that the data from the Allen Cell Types Database should be represented this way:"
   ]
  },
  {
   "cell_type": "markdown",
   "metadata": {},
   "source": [
    "![Provenance](https://docs.google.com/uc?id=1Hoz3wK3vNkLxdhKNZXK53NOE6qKuBh7o)"
   ]
  },
  {
   "cell_type": "markdown",
   "metadata": {},
   "source": [
    "**Retrieve the complete metadata of the selection of neuron morphologies**"
   ]
  },
  {
   "cell_type": "code",
   "execution_count": null,
   "metadata": {
    "ExecuteTime": {
     "end_time": "2019-09-12T12:34:12.164676Z",
     "start_time": "2019-09-12T12:34:12.116514Z"
    }
   },
   "outputs": [],
   "source": [
    "with open(f\"{ALLEN_DIR}/cells.json\") as f:\n",
    "    allen_cell_types_metadata = json.load(f)"
   ]
  },
  {
   "cell_type": "code",
   "execution_count": null,
   "metadata": {
    "ExecuteTime": {
     "end_time": "2019-09-12T12:34:12.177353Z",
     "start_time": "2019-09-12T12:34:12.166465Z"
    }
   },
   "outputs": [],
   "source": [
    "human_cell_metadata = [x for x in allen_cell_types_metadata if x[\"specimen__id\"] in human_cell_ids]"
   ]
  },
  {
   "cell_type": "markdown",
   "metadata": {},
   "source": [
    "**Integrate the Subject entities**"
   ]
  },
  {
   "cell_type": "code",
   "execution_count": null,
   "metadata": {
    "ExecuteTime": {
     "end_time": "2019-09-12T12:34:12.207677Z",
     "start_time": "2019-09-12T12:34:12.199805Z"
    }
   },
   "outputs": [],
   "source": [
    "subject_mapping = Mapping(\"\"\"\n",
    "    type: Subject\n",
    "    id: forge.identifiers.format(\"subjects\", x.donor__id)\n",
    "    identifier: x.donor__id\n",
    "    name: x.donor__name\n",
    "    sex: forge.ontologies.resolve(\"sex\", x.donor__sex)\n",
    "    species: forge.ontologies.resolve(\"species\", x.donor__species)\n",
    "\"\"\")"
   ]
  },
  {
   "cell_type": "code",
   "execution_count": null,
   "metadata": {
    "ExecuteTime": {
     "end_time": "2019-09-12T12:34:12.223316Z",
     "start_time": "2019-09-12T12:34:12.209983Z"
    },
    "scrolled": true
   },
   "outputs": [],
   "source": [
    "subjects = forge.transforming.map(human_cell_metadata, DictionaryMapper, subject_mapping)"
   ]
  },
  {
   "cell_type": "code",
   "execution_count": null,
   "metadata": {
    "ExecuteTime": {
     "end_time": "2019-09-12T12:34:12.237181Z",
     "start_time": "2019-09-12T12:34:12.229573Z"
    }
   },
   "outputs": [],
   "source": [
    "forge.modeling.validate(subjects)"
   ]
  },
  {
   "cell_type": "code",
   "execution_count": null,
   "metadata": {
    "ExecuteTime": {
     "end_time": "2019-09-12T12:34:12.248767Z",
     "start_time": "2019-09-12T12:34:12.243465Z"
    }
   },
   "outputs": [],
   "source": [
    "forge.storing.register(subjects)"
   ]
  },
  {
   "cell_type": "markdown",
   "metadata": {},
   "source": [
    "**Integrate the Patched Cell entities**"
   ]
  },
  {
   "cell_type": "code",
   "execution_count": null,
   "metadata": {
    "ExecuteTime": {
     "end_time": "2019-09-12T12:34:12.279723Z",
     "start_time": "2019-09-12T12:34:12.272579Z"
    }
   },
   "outputs": [],
   "source": [
    "patchedcell_mapping = Mapping(\"\"\"\n",
    "    type: PatchedCell\n",
    "    id: forge.identifiers.format(\"patchedcells\", x.specimen__id)\n",
    "    brainLocation:\n",
    "    {\n",
    "        type: BrainLocation\n",
    "        brainRegion:\n",
    "        {\n",
    "            id: f\"http://api.brain-map.org/api/v2/data/Structure/{x.structure__id}\"\n",
    "            label: x.structure__acronym\n",
    "        }\n",
    "    }\n",
    "    contribution:\n",
    "    {\n",
    "        type: Contribution\n",
    "        agent:\n",
    "        {\n",
    "            # 'Organization' is a subclass of 'Agent'.\n",
    "            type: Organization\n",
    "            id: https://www.grid.ac/institutes/grid.417881.3\n",
    "        }\n",
    "    }\n",
    "    derivation:\n",
    "    {\n",
    "        type: Derivation\n",
    "        entity:\n",
    "        {\n",
    "            # 'Subject' is a subclass of 'Entity'.\n",
    "            type: Subject\n",
    "            id: x.donor__id\n",
    "        }\n",
    "    }\n",
    "    identifier: x.specimen__id\n",
    "    name: x.specimen__name\n",
    "    # This property is not part of the PatchedCell shape at the moment (09.08.2019).\n",
    "    subject:\n",
    "    {\n",
    "        type: Subject\n",
    "        id: x.donor__id\n",
    "    }\n",
    "\"\"\")"
   ]
  },
  {
   "cell_type": "code",
   "execution_count": null,
   "metadata": {
    "ExecuteTime": {
     "end_time": "2019-09-12T12:34:12.297226Z",
     "start_time": "2019-09-12T12:34:12.282581Z"
    }
   },
   "outputs": [],
   "source": [
    "patchedcells = forge.transforming.map(human_cell_metadata, DictionaryMapper, patchedcell_mapping)"
   ]
  },
  {
   "cell_type": "code",
   "execution_count": null,
   "metadata": {
    "ExecuteTime": {
     "end_time": "2019-09-12T12:34:12.306729Z",
     "start_time": "2019-09-12T12:34:12.300764Z"
    }
   },
   "outputs": [],
   "source": [
    "forge.modeling.valdiate(patchedcells)"
   ]
  },
  {
   "cell_type": "code",
   "execution_count": null,
   "metadata": {
    "ExecuteTime": {
     "end_time": "2019-09-12T12:34:12.314502Z",
     "start_time": "2019-09-12T12:34:12.310229Z"
    }
   },
   "outputs": [],
   "source": [
    "forge.storing.register(patchedcells)"
   ]
  },
  {
   "cell_type": "markdown",
   "metadata": {},
   "source": [
    "**Integrate the Neuron Morphology entities**"
   ]
  },
  {
   "cell_type": "code",
   "execution_count": null,
   "metadata": {
    "ExecuteTime": {
     "end_time": "2019-09-12T12:34:12.333912Z",
     "start_time": "2019-09-12T12:34:12.328045Z"
    }
   },
   "outputs": [],
   "source": [
    "neuronmorphology_mapping = Mapping(\"\"\"\n",
    "    # There is no NeuronMorphologyShape nor NeuronMorphology type in Neuroshapes at the moment (09.08.2019).\n",
    "    # Using ReconstructedPatchedCellShape meanwhile.\n",
    "    type: NeuronMorphology\n",
    "    id: forge.identifiers.format(\"neuronmorphologies\", x.specimen__id)\n",
    "    # This property is not part of the ReconstructedPatchedCell shape at the moment (09.08.2019).\n",
    "    apicalDendrite: x.tag__apical\n",
    "    brainLocation:\n",
    "    {\n",
    "        type: BrainLocation\n",
    "        brainRegion:\n",
    "        {\n",
    "            id: f\"http://api.brain-map.org/api/v2/data/Structure/{x.structure__id}\"\n",
    "            label: x.structure__acronym\n",
    "        }\n",
    "        coordinatesInBrainAtlas:\n",
    "        {\n",
    "            valueX: x.csl__x\n",
    "            valueY: x.csl__y\n",
    "            valueZ: x.csl__z\n",
    "        }\n",
    "        layer: forge.ontologies.resolve(\"brain region\", x.structure__layer, \"layer\")\n",
    "    }\n",
    "    contribution:\n",
    "    {\n",
    "        type: Contribution\n",
    "        agent:\n",
    "        {\n",
    "            # 'Organization' is a subclass of 'Agent'.\n",
    "            type: Organization\n",
    "            id: https://www.grid.ac/institutes/grid.417881.3\n",
    "        }\n",
    "    }\n",
    "    derivation:\n",
    "    [\n",
    "        {\n",
    "            type: Derivation\n",
    "            entity:\n",
    "            {\n",
    "                # 'Subject' is a subclass of 'Entity'.\n",
    "                type: Subject\n",
    "                id: x.donor__id\n",
    "            }\n",
    "        }\n",
    "        {\n",
    "            type: Derivation\n",
    "            entity:\n",
    "            {\n",
    "                # 'PatchedCell' is a subclass of 'Entity'.\n",
    "                type: PatchedCell\n",
    "                id: x.specimen__id\n",
    "            }\n",
    "        }\n",
    "    ]\n",
    "    distribution: forge.files.as_resource(f\"./allen_cell_types_db/specimen_{x.specimen__id}/reconstruction.swc\")\n",
    "    identifier: x.specimen__id\n",
    "    name: x.specimen__name\n",
    "    # This property is not part of the ReconstructedPatchedCell shape at the moment (09.08.2019).\n",
    "    subject:\n",
    "    {\n",
    "        type: Subject\n",
    "        id: x.donor__id\n",
    "    }\n",
    "\"\"\")"
   ]
  },
  {
   "cell_type": "code",
   "execution_count": null,
   "metadata": {
    "ExecuteTime": {
     "end_time": "2019-09-12T12:34:12.347485Z",
     "start_time": "2019-09-12T12:34:12.336339Z"
    },
    "scrolled": false
   },
   "outputs": [],
   "source": [
    "neuronmorphologies = forge.transforming.map(human_cell_metadata, DictionaryMapper, neuronmorphology_mapping)"
   ]
  },
  {
   "cell_type": "code",
   "execution_count": null,
   "metadata": {
    "ExecuteTime": {
     "end_time": "2019-09-12T12:34:12.355318Z",
     "start_time": "2019-09-12T12:34:12.349963Z"
    }
   },
   "outputs": [],
   "source": [
    "forge.modeling.validate(neuronmorphologies)"
   ]
  },
  {
   "cell_type": "code",
   "execution_count": null,
   "metadata": {
    "ExecuteTime": {
     "end_time": "2019-09-12T12:34:12.362192Z",
     "start_time": "2019-09-12T12:34:12.358117Z"
    }
   },
   "outputs": [],
   "source": [
    "forge.storing.register(neuronmorphologies)"
   ]
  },
  {
   "cell_type": "markdown",
   "metadata": {},
   "source": [
    "### [NEW] 3 - Save the mappings to later share them and track their changes"
   ]
  },
  {
   "cell_type": "code",
   "execution_count": null,
   "metadata": {
    "ExecuteTime": {
     "end_time": "2019-09-12T12:34:12.366819Z",
     "start_time": "2019-09-12T12:34:12.363878Z"
    }
   },
   "outputs": [],
   "source": [
    "MAPPINGS_FOLDER = \"./neuroshapes/mappings/allen_cell_types_database_v2019-08-08\""
   ]
  },
  {
   "cell_type": "code",
   "execution_count": null,
   "metadata": {
    "ExecuteTime": {
     "end_time": "2019-09-12T12:34:12.374564Z",
     "start_time": "2019-09-12T12:34:12.369308Z"
    }
   },
   "outputs": [],
   "source": [
    "subject_mapping.save(f\"{MAPPINGS_FOLDER}/subject.hjson\")"
   ]
  },
  {
   "cell_type": "code",
   "execution_count": null,
   "metadata": {
    "ExecuteTime": {
     "end_time": "2019-09-12T12:34:12.383755Z",
     "start_time": "2019-09-12T12:34:12.378222Z"
    }
   },
   "outputs": [],
   "source": [
    "patchedcell_mapping.save(f\"{MAPPINGS_FOLDER}/patchedcell.hjson\")"
   ]
  },
  {
   "cell_type": "code",
   "execution_count": null,
   "metadata": {
    "ExecuteTime": {
     "end_time": "2019-09-12T12:34:12.394014Z",
     "start_time": "2019-09-12T12:34:12.386119Z"
    }
   },
   "outputs": [],
   "source": [
    "neuronmorphology_mapping.save(f\"{MAPPINGS_FOLDER}/neuronmorphology.hjson\")"
   ]
  },
  {
   "cell_type": "markdown",
   "metadata": {},
   "source": [
    "---"
   ]
  },
  {
   "cell_type": "markdown",
   "metadata": {},
   "source": [
    "## User Journey B - Data Exploration\n",
    "\n",
    "1. Discover which neuron morphologies are in the Blue Brain Knowledge Graph\n",
    "2. Regroup as a dataset a selection of these neuron morphologies\n",
    "    - Select neuron morphologies in the cortical layer V and with intact apical dendrites\n",
    "    - Register the selected neuron morphologies as a dataset\n",
    "    - Give this first revision of the dataset a human-friendly name"
   ]
  },
  {
   "cell_type": "code",
   "execution_count": null,
   "metadata": {
    "ExecuteTime": {
     "end_time": "2019-09-12T12:34:12.400246Z",
     "start_time": "2019-09-12T12:34:12.396228Z"
    }
   },
   "outputs": [],
   "source": [
    "p = forge.modeling.paths(\"NeuronMorphology\")"
   ]
  },
  {
   "cell_type": "markdown",
   "metadata": {},
   "source": [
    "### [NEW] 1 - Discover which neuron morphologies are in the Blue Brain Knowledge Graph"
   ]
  },
  {
   "cell_type": "code",
   "execution_count": null,
   "metadata": {
    "ExecuteTime": {
     "end_time": "2019-09-12T12:34:12.417097Z",
     "start_time": "2019-09-12T12:34:12.402269Z"
    }
   },
   "outputs": [],
   "source": [
    "forge.querying.search(p.type == \"NeuronMorphology\")"
   ]
  },
  {
   "cell_type": "markdown",
   "metadata": {},
   "source": [
    "### 2 - Regroup as a dataset a selection of these neuron morphologies"
   ]
  },
  {
   "cell_type": "markdown",
   "metadata": {},
   "source": [
    "**Select neuron morphologies in the cortical layer V and with intact apical dendrites**"
   ]
  },
  {
   "cell_type": "code",
   "execution_count": null,
   "metadata": {
    "ExecuteTime": {
     "end_time": "2019-09-13T12:17:03.862921Z",
     "start_time": "2019-09-13T12:17:03.845456Z"
    }
   },
   "outputs": [],
   "source": [
    "neuronmorphologies = forge.querying.search(p.type == \"NeuronMorphology\", p.brainLocation.layer == \"5\",\n",
    "                                           p.apicalDendrite == \"intact\", resolving=\"fuzzy\", lookup=\"children\")"
   ]
  },
  {
   "cell_type": "markdown",
   "metadata": {},
   "source": [
    "**Register the selected neuron morphologies as a dataset**"
   ]
  },
  {
   "cell_type": "code",
   "execution_count": null,
   "metadata": {
    "ExecuteTime": {
     "end_time": "2019-09-12T12:34:18.724239Z",
     "start_time": "2019-09-12T12:34:18.720349Z"
    }
   },
   "outputs": [],
   "source": [
    "AGENT_ID = \"<contributor ID>\""
   ]
  },
  {
   "cell_type": "code",
   "execution_count": null,
   "metadata": {
    "ExecuteTime": {
     "end_time": "2019-09-12T12:34:19.014010Z",
     "start_time": "2019-09-12T12:34:19.006687Z"
    }
   },
   "outputs": [],
   "source": [
    "contribution = Resource(type=\"Contribution\", agent=AGENT_ID)"
   ]
  },
  {
   "cell_type": "code",
   "execution_count": null,
   "metadata": {
    "ExecuteTime": {
     "end_time": "2019-09-12T12:34:19.409720Z",
     "start_time": "2019-09-12T12:34:19.402637Z"
    }
   },
   "outputs": [],
   "source": [
    "has_part = forge.transforming.reshape(neuronmorphologies, keep=[\"id\", \"type\", \"name\", \"distribution.contentUrl\"],\n",
    "                                      versioned=True)"
   ]
  },
  {
   "cell_type": "code",
   "execution_count": null,
   "metadata": {
    "ExecuteTime": {
     "end_time": "2019-09-12T12:34:19.613340Z",
     "start_time": "2019-09-12T12:34:19.605146Z"
    }
   },
   "outputs": [],
   "source": [
    "# According to Neuroshapes on 09.08.2019, 'type', 'subject', 'brainLocation' are also required.\n",
    "dataset = Resource(type=\"Dataset\",\n",
    "                   name=\"All layer 5 morphologies with intact apical dendrites\",\n",
    "                   contribution=contribution,\n",
    "                   description=\"Neuron morphologies to be used for Topological Morphology Descriptor analysis\",\n",
    "                   # This property is not part of the Dataset shape at the moment (09.08.2019).\n",
    "                   hasPart=has_part)"
   ]
  },
  {
   "cell_type": "code",
   "execution_count": null,
   "metadata": {
    "ExecuteTime": {
     "end_time": "2019-09-12T12:34:19.842914Z",
     "start_time": "2019-09-12T12:34:19.830081Z"
    }
   },
   "outputs": [],
   "source": [
    "forge.storing.register(dataset)"
   ]
  },
  {
   "cell_type": "markdown",
   "metadata": {},
   "source": [
    "**Give the first revision of the dataset a human-friendly label**"
   ]
  },
  {
   "cell_type": "code",
   "execution_count": null,
   "metadata": {
    "ExecuteTime": {
     "end_time": "2019-09-12T12:34:20.355059Z",
     "start_time": "2019-09-12T12:34:20.351787Z"
    }
   },
   "outputs": [],
   "source": [
    "TAG = \"v2019-08-20\""
   ]
  },
  {
   "cell_type": "code",
   "execution_count": null,
   "metadata": {
    "ExecuteTime": {
     "end_time": "2019-09-12T12:34:20.594568Z",
     "start_time": "2019-09-12T12:34:20.584629Z"
    }
   },
   "outputs": [],
   "source": [
    "forges.storing.name_version(dataset, TAG)"
   ]
  },
  {
   "cell_type": "markdown",
   "metadata": {},
   "source": [
    "---"
   ]
  },
  {
   "cell_type": "markdown",
   "metadata": {},
   "source": [
    "## User Journey C - Data Analytics\n",
    "\n",
    "1. Retrieve a specific dataset from the Blue Brain Knowledge Graph\n",
    "    - Retrieve the dataset entity\n",
    "    - Download the reconstruction files of the neuron morphologies of the dataset\n",
    "2. Perform a topological analysis of the neuron morphologies from the dataset\n",
    "    - Visualize the persistence diagram\n",
    "    - Visualize the persistence barcode\n",
    "    - Visualize and save the persistence image\n",
    "3. Register the analysis result with its provenance into the Blue Brain Knwoledge Graph"
   ]
  },
  {
   "cell_type": "code",
   "execution_count": null,
   "metadata": {
    "ExecuteTime": {
     "end_time": "2019-09-12T12:34:23.468950Z",
     "start_time": "2019-09-12T12:34:23.464897Z"
    }
   },
   "outputs": [],
   "source": [
    "DOWNLOAD_FOLDER = f\"./reconstructions_{TAG}/\""
   ]
  },
  {
   "cell_type": "code",
   "execution_count": null,
   "metadata": {
    "ExecuteTime": {
     "end_time": "2019-09-12T12:34:23.687660Z",
     "start_time": "2019-09-12T12:34:23.677447Z"
    }
   },
   "outputs": [],
   "source": [
    "ANALYSIS_FOLDER = \"./analysis/\""
   ]
  },
  {
   "cell_type": "code",
   "execution_count": null,
   "metadata": {
    "ExecuteTime": {
     "end_time": "2019-09-12T12:34:23.884989Z",
     "start_time": "2019-09-12T12:34:23.877609Z"
    }
   },
   "outputs": [],
   "source": [
    "OUTPUT_NAME = \"persistence_image\""
   ]
  },
  {
   "cell_type": "markdown",
   "metadata": {},
   "source": [
    "### 1 - Retrieve a specific dataset from the Blue Brain Knowledge Graph"
   ]
  },
  {
   "cell_type": "markdown",
   "metadata": {},
   "source": [
    "**Retrieve the dataset entity**"
   ]
  },
  {
   "cell_type": "code",
   "execution_count": null,
   "metadata": {
    "ExecuteTime": {
     "end_time": "2019-09-12T12:34:24.492795Z",
     "start_time": "2019-09-12T12:34:24.487964Z"
    }
   },
   "outputs": [],
   "source": [
    "dataset = forge.querying.retrieve(id=\"<dataset ID>\", version=TAG)"
   ]
  },
  {
   "cell_type": "markdown",
   "metadata": {},
   "source": [
    "**Download the reconstruction files of the neuron morphologies of the dataset**"
   ]
  },
  {
   "cell_type": "code",
   "execution_count": null,
   "metadata": {
    "ExecuteTime": {
     "end_time": "2019-09-12T12:34:24.935026Z",
     "start_time": "2019-09-12T12:34:24.927195Z"
    }
   },
   "outputs": [],
   "source": [
    "forge.querying.download(dataset, follow=\"hasPart.distribution.contentUrl\", DOWNLOAD_FOLDER)"
   ]
  },
  {
   "cell_type": "markdown",
   "metadata": {},
   "source": [
    "### 2 - Perform a topological analysis of the neuron morphologies from the dataset"
   ]
  },
  {
   "cell_type": "code",
   "execution_count": null,
   "metadata": {
    "ExecuteTime": {
     "end_time": "2019-09-12T12:34:37.482376Z",
     "start_time": "2019-09-12T12:34:37.478103Z"
    }
   },
   "outputs": [],
   "source": [
    "from pathlib import Path"
   ]
  },
  {
   "cell_type": "code",
   "execution_count": null,
   "metadata": {
    "ExecuteTime": {
     "end_time": "2019-09-12T12:35:02.405134Z",
     "start_time": "2019-09-12T12:35:02.396421Z"
    }
   },
   "outputs": [],
   "source": [
    "Path(DOWNLOAD_FOLDER).mkdir(exist_ok=True)"
   ]
  },
  {
   "cell_type": "code",
   "execution_count": null,
   "metadata": {
    "ExecuteTime": {
     "end_time": "2019-09-12T12:35:03.794751Z",
     "start_time": "2019-09-12T12:35:03.786528Z"
    }
   },
   "outputs": [],
   "source": [
    "pop = tmd.io.load_population(DOWNLOAD_FOLDER)"
   ]
  },
  {
   "cell_type": "code",
   "execution_count": null,
   "metadata": {
    "ExecuteTime": {
     "end_time": "2019-09-12T12:35:04.240094Z",
     "start_time": "2019-09-12T12:35:04.235493Z"
    }
   },
   "outputs": [],
   "source": [
    "phs = [tmd.methods.get_persistence_diagram(x.apical[0]) for x in pop.neurons]"
   ]
  },
  {
   "cell_type": "code",
   "execution_count": null,
   "metadata": {
    "ExecuteTime": {
     "end_time": "2019-09-12T12:35:04.625128Z",
     "start_time": "2019-09-12T12:35:04.619465Z"
    }
   },
   "outputs": [],
   "source": [
    "phs_flattened = tmd.analysis.collapse(phs)"
   ]
  },
  {
   "cell_type": "markdown",
   "metadata": {},
   "source": [
    "**Visualize the persistence diagram**"
   ]
  },
  {
   "cell_type": "code",
   "execution_count": null,
   "metadata": {
    "ExecuteTime": {
     "end_time": "2019-09-12T12:35:05.478878Z",
     "start_time": "2019-09-12T12:35:05.256775Z"
    }
   },
   "outputs": [],
   "source": [
    "from tmd.view import plot"
   ]
  },
  {
   "cell_type": "code",
   "execution_count": null,
   "metadata": {
    "ExecuteTime": {
     "end_time": "2019-09-12T12:35:06.019167Z",
     "start_time": "2019-09-12T12:35:05.801461Z"
    }
   },
   "outputs": [],
   "source": [
    "plot.diagram(phs_flattened)"
   ]
  },
  {
   "cell_type": "markdown",
   "metadata": {},
   "source": [
    "**Visualize the persistence barcode**"
   ]
  },
  {
   "cell_type": "code",
   "execution_count": null,
   "metadata": {
    "ExecuteTime": {
     "end_time": "2019-09-12T12:35:09.434827Z",
     "start_time": "2019-09-12T12:35:09.207960Z"
    }
   },
   "outputs": [],
   "source": [
    "plot.barcode(phs_flattened)"
   ]
  },
  {
   "cell_type": "markdown",
   "metadata": {},
   "source": [
    "**Visualize and save the persistence image**"
   ]
  },
  {
   "cell_type": "code",
   "execution_count": null,
   "metadata": {
    "ExecuteTime": {
     "end_time": "2019-09-12T12:35:11.825463Z",
     "start_time": "2019-09-12T12:35:11.801555Z"
    }
   },
   "outputs": [],
   "source": [
    "plot.persistence_image(phs_flattened, output_path=ANALYSIS_FOLDER, output_name=OUTPUT_NAME)"
   ]
  },
  {
   "cell_type": "markdown",
   "metadata": {},
   "source": [
    "### 3 - Register the analysis result with its provenance into the Blue Brain Knwoledge Graph"
   ]
  },
  {
   "cell_type": "code",
   "execution_count": null,
   "metadata": {},
   "outputs": [],
   "source": [
    "derived = forge.transforming.reshape(dataset, keep=[\"id\", \"type\"], versioned=True)"
   ]
  },
  {
   "cell_type": "code",
   "execution_count": null,
   "metadata": {
    "ExecuteTime": {
     "end_time": "2019-09-12T12:36:11.422151Z",
     "start_time": "2019-09-12T12:36:11.410665Z"
    }
   },
   "outputs": [],
   "source": [
    "# According to Neuroshapes on 09.08.2019, 'used' (2 times) ans 'generated' are also required.\n",
    "analysis = Resource(type=\"Analysis\",\n",
    "                    name=\"Persistence image\",\n",
    "                    derivation=Resource(type=\"Derivation\", entity=derived),\n",
    "                    distribution=forge.files.as_resource(f\"./{ANALYSIS_FOLDER}/{OUTPUT_NAME}.png\"),\n",
    "                    contribution=Resource(type=\"Contribution\", agent=AGENT_ID))"
   ]
  },
  {
   "cell_type": "code",
   "execution_count": null,
   "metadata": {
    "ExecuteTime": {
     "end_time": "2019-09-12T12:36:46.926500Z",
     "start_time": "2019-09-12T12:36:46.916439Z"
    }
   },
   "outputs": [],
   "source": [
    "forge.storing.register(analysis)"
   ]
  },
  {
   "cell_type": "code",
   "execution_count": null,
   "metadata": {},
   "outputs": [],
   "source": []
  }
 ],
 "metadata": {
  "colab": {
   "collapsed_sections": [],
   "name": "Step by step jupyter notebook for bringing data to Nexus v1.ipynb",
   "provenance": [],
   "version": "0.3.2"
  },
  "kernelspec": {
   "display_name": "Python 3",
   "language": "python",
   "name": "python3"
  },
  "language_info": {
   "codemirror_mode": {
    "name": "ipython",
    "version": 3
   },
   "file_extension": ".py",
   "mimetype": "text/x-python",
   "name": "python",
   "nbconvert_exporter": "python",
   "pygments_lexer": "ipython3",
   "version": "3.6.9"
  },
  "varInspector": {
   "cols": {
    "lenName": 16,
    "lenType": 16,
    "lenVar": 40
   },
   "kernels_config": {
    "python": {
     "delete_cmd_postfix": "",
     "delete_cmd_prefix": "del ",
     "library": "var_list.py",
     "varRefreshCmd": "print(var_dic_list())"
    },
    "r": {
     "delete_cmd_postfix": ") ",
     "delete_cmd_prefix": "rm(",
     "library": "var_list.r",
     "varRefreshCmd": "cat(var_dic_list()) "
    }
   },
   "types_to_exclude": [
    "module",
    "function",
    "builtin_function_or_method",
    "instance",
    "_Feature"
   ],
   "window_display": false
  }
 },
 "nbformat": 4,
 "nbformat_minor": 1
}

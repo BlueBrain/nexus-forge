{
 "cells": [
  {
   "cell_type": "markdown",
   "metadata": {
    "ExecuteTime": {
     "end_time": "2019-09-23T18:50:19.036357Z",
     "start_time": "2019-09-23T18:50:19.031896Z"
    }
   },
   "source": [
    "# RDF Conversions\n",
    "\n",
    "This notebook demonstrates how to [convert](https://nexus-forge.readthedocs.io/en/latest/interaction.html#converting) data in any RDF format (n3, Turtle, ...) to Resources and vice-versa. "
   ]
  },
  {
   "cell_type": "code",
   "execution_count": 1,
   "metadata": {
    "ExecuteTime": {
     "end_time": "2019-09-23T18:50:20.068658Z",
     "start_time": "2019-09-23T18:50:19.054054Z"
    }
   },
   "outputs": [],
   "source": [
    "from kgforge.core import KnowledgeGraphForge"
   ]
  },
  {
   "cell_type": "markdown",
   "metadata": {},
   "source": [
    "A configuration file is needed in order to create a KnowledgeGraphForge session. A configuration can be generated using the notebook [00-Initialization.ipynb](00%20-%20Initialization.ipynb)."
   ]
  },
  {
   "cell_type": "code",
   "execution_count": 2,
   "metadata": {},
   "outputs": [],
   "source": [
    "forge = KnowledgeGraphForge(\"../../configurations/forge.yml\")"
   ]
  },
  {
   "cell_type": "markdown",
   "metadata": {},
   "source": [
    "## Imports"
   ]
  },
  {
   "cell_type": "code",
   "execution_count": 3,
   "metadata": {},
   "outputs": [],
   "source": [
    "from kgforge.core import Resource"
   ]
  },
  {
   "cell_type": "markdown",
   "metadata": {},
   "source": [
    "## Resource to rdflib.Graph"
   ]
  },
  {
   "cell_type": "code",
   "execution_count": 17,
   "metadata": {},
   "outputs": [],
   "source": [
    "jane = Resource(type=\"Person\", name=\"Jane Doe\")"
   ]
  },
  {
   "cell_type": "code",
   "execution_count": 18,
   "metadata": {},
   "outputs": [
    {
     "name": "stdout",
     "output_type": "stream",
     "text": [
      "<action> _register_one\n",
      "<succeeded> True\n"
     ]
    }
   ],
   "source": [
    "forge.register(jane)"
   ]
  },
  {
   "cell_type": "code",
   "execution_count": 19,
   "metadata": {},
   "outputs": [],
   "source": [
    "graph = forge.as_graph(jane)"
   ]
  },
  {
   "cell_type": "code",
   "execution_count": 20,
   "metadata": {},
   "outputs": [
    {
     "data": {
      "text/plain": [
       "True"
      ]
     },
     "execution_count": 20,
     "metadata": {},
     "output_type": "execute_result"
    }
   ],
   "source": [
    "len(graph) == 2"
   ]
  },
  {
   "cell_type": "code",
   "execution_count": 21,
   "metadata": {},
   "outputs": [
    {
     "name": "stdout",
     "output_type": "stream",
     "text": [
      "(rdflib.term.URIRef('https://sandbox.bluebrainnexus.io/v1/resources/github-users/mfsy/_/e75061b0-8054-47e1-965b-260b3af3204f'), rdflib.term.URIRef('http://www.w3.org/1999/02/22-rdf-syntax-ns#type'), rdflib.term.URIRef('http://schema.org/Person'))\n",
      "(rdflib.term.URIRef('https://sandbox.bluebrainnexus.io/v1/resources/github-users/mfsy/_/e75061b0-8054-47e1-965b-260b3af3204f'), rdflib.term.URIRef('http://schema.org/name'), rdflib.term.Literal('Jane Doe'))\n"
     ]
    }
   ],
   "source": [
    "for triple in graph:\n",
    "    print(triple)"
   ]
  },
  {
   "cell_type": "code",
   "execution_count": 22,
   "metadata": {},
   "outputs": [
    {
     "data": {
      "text/plain": [
       "14"
      ]
     },
     "execution_count": 22,
     "metadata": {},
     "output_type": "execute_result"
    }
   ],
   "source": [
    "graph_store_metadata = forge.as_graph(jane, store_metadata=True)\n",
    "len(graph_store_metadata)"
   ]
  },
  {
   "cell_type": "code",
   "execution_count": 23,
   "metadata": {},
   "outputs": [
    {
     "name": "stdout",
     "output_type": "stream",
     "text": [
      "(rdflib.term.URIRef('https://sandbox.bluebrainnexus.io/v1/resources/github-users/mfsy/_/e75061b0-8054-47e1-965b-260b3af3204f'), rdflib.term.URIRef('https://bluebrain.github.io/nexus/vocabulary/outgoing'), rdflib.term.URIRef('https://sandbox.bluebrainnexus.io/v1/resources/github-users/mfsy/_/e75061b0-8054-47e1-965b-260b3af3204f/outgoing'))\n",
      "(rdflib.term.URIRef('https://sandbox.bluebrainnexus.io/v1/resources/github-users/mfsy/_/e75061b0-8054-47e1-965b-260b3af3204f'), rdflib.term.URIRef('https://bluebrain.github.io/nexus/vocabulary/constrainedBy'), rdflib.term.URIRef('https://bluebrain.github.io/nexus/schemas/unconstrained.json'))\n",
      "(rdflib.term.URIRef('https://sandbox.bluebrainnexus.io/v1/resources/github-users/mfsy/_/e75061b0-8054-47e1-965b-260b3af3204f'), rdflib.term.URIRef('https://bluebrain.github.io/nexus/vocabulary/schemaProject'), rdflib.term.URIRef('https://sandbox.bluebrainnexus.io/v1/projects/github-users/mfsy'))\n",
      "(rdflib.term.URIRef('https://sandbox.bluebrainnexus.io/v1/resources/github-users/mfsy/_/e75061b0-8054-47e1-965b-260b3af3204f'), rdflib.term.URIRef('https://bluebrain.github.io/nexus/vocabulary/createdBy'), rdflib.term.URIRef('https://sandbox.bluebrainnexus.io/v1/realms/github/users/mfsy'))\n",
      "(rdflib.term.URIRef('https://sandbox.bluebrainnexus.io/v1/resources/github-users/mfsy/_/e75061b0-8054-47e1-965b-260b3af3204f'), rdflib.term.URIRef('https://bluebrain.github.io/nexus/vocabulary/deprecated'), rdflib.term.Literal('false', datatype=rdflib.term.URIRef('http://www.w3.org/2001/XMLSchema#boolean')))\n",
      "(rdflib.term.URIRef('https://sandbox.bluebrainnexus.io/v1/resources/github-users/mfsy/_/e75061b0-8054-47e1-965b-260b3af3204f'), rdflib.term.URIRef('https://bluebrain.github.io/nexus/vocabulary/rev'), rdflib.term.Literal('1', datatype=rdflib.term.URIRef('http://www.w3.org/2001/XMLSchema#integer')))\n",
      "(rdflib.term.URIRef('https://sandbox.bluebrainnexus.io/v1/resources/github-users/mfsy/_/e75061b0-8054-47e1-965b-260b3af3204f'), rdflib.term.URIRef('http://www.w3.org/1999/02/22-rdf-syntax-ns#type'), rdflib.term.URIRef('http://schema.org/Person'))\n",
      "(rdflib.term.URIRef('https://sandbox.bluebrainnexus.io/v1/resources/github-users/mfsy/_/e75061b0-8054-47e1-965b-260b3af3204f'), rdflib.term.URIRef('http://schema.org/name'), rdflib.term.Literal('Jane Doe'))\n",
      "(rdflib.term.URIRef('https://sandbox.bluebrainnexus.io/v1/resources/github-users/mfsy/_/e75061b0-8054-47e1-965b-260b3af3204f'), rdflib.term.URIRef('https://bluebrain.github.io/nexus/vocabulary/incoming'), rdflib.term.URIRef('https://sandbox.bluebrainnexus.io/v1/resources/github-users/mfsy/_/e75061b0-8054-47e1-965b-260b3af3204f/incoming'))\n",
      "(rdflib.term.URIRef('https://sandbox.bluebrainnexus.io/v1/resources/github-users/mfsy/_/e75061b0-8054-47e1-965b-260b3af3204f'), rdflib.term.URIRef('https://bluebrain.github.io/nexus/vocabulary/project'), rdflib.term.URIRef('https://sandbox.bluebrainnexus.io/v1/projects/github-users/mfsy'))\n",
      "(rdflib.term.URIRef('https://sandbox.bluebrainnexus.io/v1/resources/github-users/mfsy/_/e75061b0-8054-47e1-965b-260b3af3204f'), rdflib.term.URIRef('https://bluebrain.github.io/nexus/vocabulary/updatedAt'), rdflib.term.Literal('2021-08-23T09:50:21.828000+00:00', datatype=rdflib.term.URIRef('http://www.w3.org/2001/XMLSchema#dateTime')))\n",
      "(rdflib.term.URIRef('https://sandbox.bluebrainnexus.io/v1/resources/github-users/mfsy/_/e75061b0-8054-47e1-965b-260b3af3204f'), rdflib.term.URIRef('https://bluebrain.github.io/nexus/vocabulary/createdAt'), rdflib.term.Literal('2021-08-23T09:50:21.828000+00:00', datatype=rdflib.term.URIRef('http://www.w3.org/2001/XMLSchema#dateTime')))\n",
      "(rdflib.term.URIRef('https://sandbox.bluebrainnexus.io/v1/resources/github-users/mfsy/_/e75061b0-8054-47e1-965b-260b3af3204f'), rdflib.term.URIRef('https://bluebrain.github.io/nexus/vocabulary/updatedBy'), rdflib.term.URIRef('https://sandbox.bluebrainnexus.io/v1/realms/github/users/mfsy'))\n",
      "(rdflib.term.URIRef('https://sandbox.bluebrainnexus.io/v1/resources/github-users/mfsy/_/e75061b0-8054-47e1-965b-260b3af3204f'), rdflib.term.URIRef('https://bluebrain.github.io/nexus/vocabulary/self'), rdflib.term.URIRef('https://sandbox.bluebrainnexus.io/v1/resources/github-users/mfsy/_/e75061b0-8054-47e1-965b-260b3af3204f'))\n"
     ]
    }
   ],
   "source": [
    "for triple in graph_store_metadata:\n",
    "    print(triple)"
   ]
  },
  {
   "cell_type": "markdown",
   "metadata": {},
   "source": [
    "## rdflib.Graph to Resource"
   ]
  },
  {
   "cell_type": "code",
   "execution_count": 24,
   "metadata": {},
   "outputs": [],
   "source": [
    "#data in n3 format\n",
    "data = '''\n",
    "@prefix schema: <http://schema.org/> .\n",
    "[] a schema:Person;\n",
    "     schema:name \"Jane Doe\" ;\n",
    "     schema:knows <http://example.org/JohnDoe>;\n",
    "     schema:affiliation <https://www.grid.ac/institutes/grid.5333.6>.\n",
    "\n",
    "<http://example.org/JohnDoe> a schema:Person;\n",
    "     schema:name \"John Doe\" .\n",
    "     \n",
    "<https://www.grid.ac/institutes/grid.5333.6> a schema:Organization;\n",
    "     schema:name \"EPFL\" .\n",
    "'''"
   ]
  },
  {
   "cell_type": "code",
   "execution_count": 25,
   "metadata": {},
   "outputs": [
    {
     "data": {
      "text/plain": [
       "8"
      ]
     },
     "execution_count": 25,
     "metadata": {},
     "output_type": "execute_result"
    }
   ],
   "source": [
    "import rdflib\n",
    "graph = rdflib.Graph()\n",
    "graph.parse(data=data, format=\"n3\")\n",
    "len(graph)"
   ]
  },
  {
   "cell_type": "code",
   "execution_count": 26,
   "metadata": {},
   "outputs": [],
   "source": [
    "resources = forge.from_graph(graph)"
   ]
  },
  {
   "cell_type": "code",
   "execution_count": 27,
   "metadata": {},
   "outputs": [
    {
     "data": {
      "text/plain": [
       "True"
      ]
     },
     "execution_count": 27,
     "metadata": {},
     "output_type": "execute_result"
    }
   ],
   "source": [
    "len(resources) == 3"
   ]
  },
  {
   "cell_type": "markdown",
   "metadata": {},
   "source": [
    "### Apply a JSON-LD Frame"
   ]
  },
  {
   "cell_type": "code",
   "execution_count": 28,
   "metadata": {},
   "outputs": [],
   "source": [
    "frame = {\n",
    "        \"@type\": [ 'http://schema.org/Person'],\n",
    "        \"@embed\": True\n",
    "}  \n",
    "resources = forge.from_graph(data=graph, frame= frame)"
   ]
  },
  {
   "cell_type": "code",
   "execution_count": 29,
   "metadata": {},
   "outputs": [
    {
     "data": {
      "text/plain": [
       "True"
      ]
     },
     "execution_count": 29,
     "metadata": {},
     "output_type": "execute_result"
    }
   ],
   "source": [
    "len(resources) == 2"
   ]
  },
  {
   "cell_type": "code",
   "execution_count": 30,
   "metadata": {},
   "outputs": [
    {
     "data": {
      "text/plain": [
       "[{'@context': {'rdf': 'http://www.w3.org/1999/02/22-rdf-syntax-ns#',\n",
       "   'rdfs': 'http://www.w3.org/2000/01/rdf-schema#',\n",
       "   'schema': 'http://schema.org/',\n",
       "   'xsd': 'http://www.w3.org/2001/XMLSchema#'},\n",
       "  '@type': 'schema:Person',\n",
       "  'schema:affiliation': {'@id': 'https://www.grid.ac/institutes/grid.5333.6',\n",
       "   '@type': 'schema:Organization',\n",
       "   'schema:name': 'EPFL'},\n",
       "  'schema:knows': {'@id': 'http://example.org/JohnDoe',\n",
       "   '@type': 'schema:Person',\n",
       "   'schema:name': 'John Doe'},\n",
       "  'schema:name': 'Jane Doe'},\n",
       " {'@context': {'rdf': 'http://www.w3.org/1999/02/22-rdf-syntax-ns#',\n",
       "   'rdfs': 'http://www.w3.org/2000/01/rdf-schema#',\n",
       "   'schema': 'http://schema.org/',\n",
       "   'xsd': 'http://www.w3.org/2001/XMLSchema#'},\n",
       "  '@id': 'http://example.org/JohnDoe',\n",
       "  '@type': 'schema:Person',\n",
       "  'schema:name': 'John Doe'}]"
      ]
     },
     "execution_count": 30,
     "metadata": {},
     "output_type": "execute_result"
    }
   ],
   "source": [
    "forge.as_jsonld(resources)"
   ]
  },
  {
   "cell_type": "markdown",
   "metadata": {},
   "source": [
    "### Select a Type"
   ]
  },
  {
   "cell_type": "code",
   "execution_count": 31,
   "metadata": {},
   "outputs": [],
   "source": [
    "_type= [\"http://schema.org/Organization\"]\n",
    "resources = forge.from_graph(data=graph, type= _type)"
   ]
  },
  {
   "cell_type": "code",
   "execution_count": 32,
   "metadata": {},
   "outputs": [
    {
     "data": {
      "text/plain": [
       "True"
      ]
     },
     "execution_count": 32,
     "metadata": {},
     "output_type": "execute_result"
    }
   ],
   "source": [
    "isinstance(resources, Resource)"
   ]
  },
  {
   "cell_type": "code",
   "execution_count": 33,
   "metadata": {},
   "outputs": [
    {
     "name": "stdout",
     "output_type": "stream",
     "text": [
      "{\n",
      "    context:\n",
      "    {\n",
      "        rdf: http://www.w3.org/1999/02/22-rdf-syntax-ns#\n",
      "        rdfs: http://www.w3.org/2000/01/rdf-schema#\n",
      "        schema: http://schema.org/\n",
      "        xsd: http://www.w3.org/2001/XMLSchema#\n",
      "    }\n",
      "    id: https://www.grid.ac/institutes/grid.5333.6\n",
      "    type: schema:Organization\n",
      "    \"schema:name\": EPFL\n",
      "}\n"
     ]
    }
   ],
   "source": [
    "print(resources)"
   ]
  },
  {
   "cell_type": "code",
   "execution_count": 34,
   "metadata": {},
   "outputs": [
    {
     "data": {
      "text/plain": [
       "True"
      ]
     },
     "execution_count": 34,
     "metadata": {},
     "output_type": "execute_result"
    }
   ],
   "source": [
    "isinstance(resources, Resource)"
   ]
  },
  {
   "cell_type": "code",
   "execution_count": 35,
   "metadata": {},
   "outputs": [],
   "source": [
    "epfl_json = {'id': 'https://www.grid.ac/institutes/grid.5333.6',\n",
    "  'type': 'schema:Organization',\n",
    "  'schema:name': 'EPFL'}"
   ]
  },
  {
   "cell_type": "code",
   "execution_count": 36,
   "metadata": {},
   "outputs": [
    {
     "data": {
      "text/plain": [
       "True"
      ]
     },
     "execution_count": 36,
     "metadata": {},
     "output_type": "execute_result"
    }
   ],
   "source": [
    "epfl_json == forge.as_json(resources)"
   ]
  },
  {
   "cell_type": "markdown",
   "metadata": {},
   "source": [
    "### Use the forge Model context"
   ]
  },
  {
   "cell_type": "code",
   "execution_count": 37,
   "metadata": {},
   "outputs": [],
   "source": [
    "_type= [\"http://schema.org/Organization\"]\n",
    "resources = forge.from_graph(data=graph, type= _type, use_model_context=True)"
   ]
  },
  {
   "cell_type": "code",
   "execution_count": 38,
   "metadata": {},
   "outputs": [
    {
     "data": {
      "text/plain": [
       "True"
      ]
     },
     "execution_count": 38,
     "metadata": {},
     "output_type": "execute_result"
    }
   ],
   "source": [
    "isinstance(resources, Resource)"
   ]
  }
 ],
 "metadata": {
  "kernelspec": {
   "display_name": "Python (nexusforgelatest)",
   "language": "python",
   "name": "nexusforgelatest"
  },
  "language_info": {
   "codemirror_mode": {
    "name": "ipython",
    "version": 3
   },
   "file_extension": ".py",
   "mimetype": "text/x-python",
   "name": "python",
   "nbconvert_exporter": "python",
   "pygments_lexer": "ipython3",
   "version": "3.6.10"
  }
 },
 "nbformat": 4,
 "nbformat_minor": 4
}

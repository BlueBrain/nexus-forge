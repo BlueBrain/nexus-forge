{
 "cells": [
  {
   "cell_type": "markdown",
   "metadata": {},
   "source": [
    "# DataFrame Conversions\n",
    "\n",
    "This notebook demonstrates the Resources conversion to pandas DataFrame and vice-versa. It can be used with one of the two stores: \n",
    "* The Demo Store, which is an in-memory store. Some features demonstrated in this notebook are not supported for this store. Do not use it for production.\n",
    "* Nexus, which uses [Blue Bran Nexus](https://bluebrainnexus.io/) as a backend."
   ]
  },
  {
   "cell_type": "code",
   "execution_count": 1,
   "metadata": {
    "ExecuteTime": {
     "end_time": "2019-09-23T18:50:20.068658Z",
     "start_time": "2019-09-23T18:50:19.054054Z"
    }
   },
   "outputs": [],
   "source": [
    "from kgforge.core import KnowledgeGraphForge"
   ]
  },
  {
   "cell_type": "markdown",
   "metadata": {},
   "source": [
    "## Create the Forge using Demo Store and Demo Model"
   ]
  },
  {
   "cell_type": "code",
   "execution_count": 2,
   "metadata": {},
   "outputs": [],
   "source": [
    "forge = KnowledgeGraphForge(\"../../configurations/demo-forge.yml\")"
   ]
  },
  {
   "cell_type": "markdown",
   "metadata": {},
   "source": [
    "## Create the Forge using Nexus Store and RDF Model"
   ]
  },
  {
   "cell_type": "markdown",
   "metadata": {},
   "source": [
    "To run the demo using Nexus, use the next three cells. Provide the Nexus token and the organization and project you want to use."
   ]
  },
  {
   "cell_type": "code",
   "execution_count": null,
   "metadata": {},
   "outputs": [],
   "source": [
    "import getpass"
   ]
  },
  {
   "cell_type": "code",
   "execution_count": null,
   "metadata": {},
   "outputs": [],
   "source": [
    "token = getpass.getpass()"
   ]
  },
  {
   "cell_type": "code",
   "execution_count": null,
   "metadata": {},
   "outputs": [],
   "source": [
    "bucket = \"dke/kgforge_tests\""
   ]
  },
  {
   "cell_type": "code",
   "execution_count": null,
   "metadata": {},
   "outputs": [],
   "source": [
    "forge = KnowledgeGraphForge(\"../../configurations/demo-forge-nexus.yml\", bucket=bucket, token=token)"
   ]
  },
  {
   "cell_type": "markdown",
   "metadata": {},
   "source": [
    "# Imports"
   ]
  },
  {
   "cell_type": "code",
   "execution_count": 3,
   "metadata": {},
   "outputs": [],
   "source": [
    "from kgforge.core import Resource"
   ]
  },
  {
   "cell_type": "code",
   "execution_count": 4,
   "metadata": {},
   "outputs": [],
   "source": [
    "import pandas as pd\n",
    "import numpy as np"
   ]
  },
  {
   "cell_type": "markdown",
   "metadata": {},
   "source": [
    "## List of Resource to DataFrame"
   ]
  },
  {
   "cell_type": "code",
   "execution_count": 5,
   "metadata": {},
   "outputs": [],
   "source": [
    "address = Resource(type=\"PostalAddress\", country=\"Switzerland\", locality=\"Geneva\")"
   ]
  },
  {
   "cell_type": "code",
   "execution_count": 6,
   "metadata": {},
   "outputs": [],
   "source": [
    "jane = Resource(type=\"Person\", name=\"Jane Doe\", address=address, email=\"(missing)\")"
   ]
  },
  {
   "cell_type": "code",
   "execution_count": 7,
   "metadata": {},
   "outputs": [],
   "source": [
    "john = Resource(type=\"Person\", name=\"John Smith\", email=\"john.smith@epfl.ch\")"
   ]
  },
  {
   "cell_type": "code",
   "execution_count": 8,
   "metadata": {},
   "outputs": [],
   "source": [
    "persons = [jane, john]"
   ]
  },
  {
   "cell_type": "code",
   "execution_count": 9,
   "metadata": {},
   "outputs": [
    {
     "name": "stdout",
     "output_type": "stream",
     "text": [
      "<count> 2\n",
      "<action> _register_one\n",
      "<succeeded> True\n"
     ]
    }
   ],
   "source": [
    "forge.register(persons)"
   ]
  },
  {
   "cell_type": "code",
   "execution_count": 10,
   "metadata": {},
   "outputs": [
    {
     "name": "stdout",
     "output_type": "stream",
     "text": [
      "{\n",
      "    id: 19c2f696-678f-4664-be55-d1e87db6db5c\n",
      "    type: Person\n",
      "    address:\n",
      "    {\n",
      "        type: PostalAddress\n",
      "        country: Switzerland\n",
      "        locality: Geneva\n",
      "    }\n",
      "    email: (missing)\n",
      "    name: Jane Doe\n",
      "}\n"
     ]
    }
   ],
   "source": [
    "print(jane)"
   ]
  },
  {
   "cell_type": "code",
   "execution_count": 11,
   "metadata": {},
   "outputs": [
    {
     "name": "stdout",
     "output_type": "stream",
     "text": [
      "{\n",
      "    id: 040368e9-d0c4-4bd3-8234-3dab02daebd6\n",
      "    type: Person\n",
      "    email: john.smith@epfl.ch\n",
      "    name: John Smith\n",
      "}\n"
     ]
    }
   ],
   "source": [
    "print(john)"
   ]
  },
  {
   "cell_type": "code",
   "execution_count": 12,
   "metadata": {},
   "outputs": [
    {
     "name": "stdout",
     "output_type": "stream",
     "text": [
      "{'version': 1, 'deprecated': False}\n"
     ]
    }
   ],
   "source": [
    "print(john._store_metadata)"
   ]
  },
  {
   "cell_type": "code",
   "execution_count": 13,
   "metadata": {},
   "outputs": [
    {
     "data": {
      "text/html": [
       "<div>\n",
       "<style scoped>\n",
       "    .dataframe tbody tr th:only-of-type {\n",
       "        vertical-align: middle;\n",
       "    }\n",
       "\n",
       "    .dataframe tbody tr th {\n",
       "        vertical-align: top;\n",
       "    }\n",
       "\n",
       "    .dataframe thead th {\n",
       "        text-align: right;\n",
       "    }\n",
       "</style>\n",
       "<table border=\"1\" class=\"dataframe\">\n",
       "  <thead>\n",
       "    <tr style=\"text-align: right;\">\n",
       "      <th></th>\n",
       "      <th>id</th>\n",
       "      <th>type</th>\n",
       "      <th>address.type</th>\n",
       "      <th>address.country</th>\n",
       "      <th>address.locality</th>\n",
       "      <th>email</th>\n",
       "      <th>name</th>\n",
       "    </tr>\n",
       "  </thead>\n",
       "  <tbody>\n",
       "    <tr>\n",
       "      <th>0</th>\n",
       "      <td>19c2f696-678f-4664-be55-d1e87db6db5c</td>\n",
       "      <td>Person</td>\n",
       "      <td>PostalAddress</td>\n",
       "      <td>Switzerland</td>\n",
       "      <td>Geneva</td>\n",
       "      <td>(missing)</td>\n",
       "      <td>Jane Doe</td>\n",
       "    </tr>\n",
       "    <tr>\n",
       "      <th>1</th>\n",
       "      <td>040368e9-d0c4-4bd3-8234-3dab02daebd6</td>\n",
       "      <td>Person</td>\n",
       "      <td>NaN</td>\n",
       "      <td>NaN</td>\n",
       "      <td>NaN</td>\n",
       "      <td>john.smith@epfl.ch</td>\n",
       "      <td>John Smith</td>\n",
       "    </tr>\n",
       "  </tbody>\n",
       "</table>\n",
       "</div>"
      ],
      "text/plain": [
       "                                     id    type   address.type  \\\n",
       "0  19c2f696-678f-4664-be55-d1e87db6db5c  Person  PostalAddress   \n",
       "1  040368e9-d0c4-4bd3-8234-3dab02daebd6  Person            NaN   \n",
       "\n",
       "  address.country address.locality               email        name  \n",
       "0     Switzerland           Geneva           (missing)    Jane Doe  \n",
       "1             NaN              NaN  john.smith@epfl.ch  John Smith  "
      ]
     },
     "execution_count": 13,
     "metadata": {},
     "output_type": "execute_result"
    }
   ],
   "source": [
    "forge.as_dataframe(persons)"
   ]
  },
  {
   "cell_type": "code",
   "execution_count": 14,
   "metadata": {},
   "outputs": [
    {
     "data": {
      "text/html": [
       "<div>\n",
       "<style scoped>\n",
       "    .dataframe tbody tr th:only-of-type {\n",
       "        vertical-align: middle;\n",
       "    }\n",
       "\n",
       "    .dataframe tbody tr th {\n",
       "        vertical-align: top;\n",
       "    }\n",
       "\n",
       "    .dataframe thead th {\n",
       "        text-align: right;\n",
       "    }\n",
       "</style>\n",
       "<table border=\"1\" class=\"dataframe\">\n",
       "  <thead>\n",
       "    <tr style=\"text-align: right;\">\n",
       "      <th></th>\n",
       "      <th>id</th>\n",
       "      <th>type</th>\n",
       "      <th>address.type</th>\n",
       "      <th>address.country</th>\n",
       "      <th>address.locality</th>\n",
       "      <th>email</th>\n",
       "      <th>name</th>\n",
       "    </tr>\n",
       "  </thead>\n",
       "  <tbody>\n",
       "    <tr>\n",
       "      <th>0</th>\n",
       "      <td>19c2f696-678f-4664-be55-d1e87db6db5c</td>\n",
       "      <td>Person</td>\n",
       "      <td>PostalAddress</td>\n",
       "      <td>Switzerland</td>\n",
       "      <td>Geneva</td>\n",
       "      <td>NaN</td>\n",
       "      <td>Jane Doe</td>\n",
       "    </tr>\n",
       "    <tr>\n",
       "      <th>1</th>\n",
       "      <td>040368e9-d0c4-4bd3-8234-3dab02daebd6</td>\n",
       "      <td>Person</td>\n",
       "      <td>NaN</td>\n",
       "      <td>NaN</td>\n",
       "      <td>NaN</td>\n",
       "      <td>john.smith@epfl.ch</td>\n",
       "      <td>John Smith</td>\n",
       "    </tr>\n",
       "  </tbody>\n",
       "</table>\n",
       "</div>"
      ],
      "text/plain": [
       "                                     id    type   address.type  \\\n",
       "0  19c2f696-678f-4664-be55-d1e87db6db5c  Person  PostalAddress   \n",
       "1  040368e9-d0c4-4bd3-8234-3dab02daebd6  Person            NaN   \n",
       "\n",
       "  address.country address.locality               email        name  \n",
       "0     Switzerland           Geneva                 NaN    Jane Doe  \n",
       "1             NaN              NaN  john.smith@epfl.ch  John Smith  "
      ]
     },
     "execution_count": 14,
     "metadata": {},
     "output_type": "execute_result"
    }
   ],
   "source": [
    "forge.as_dataframe(persons, na=\"(missing)\")"
   ]
  },
  {
   "cell_type": "code",
   "execution_count": 15,
   "metadata": {},
   "outputs": [
    {
     "data": {
      "text/html": [
       "<div>\n",
       "<style scoped>\n",
       "    .dataframe tbody tr th:only-of-type {\n",
       "        vertical-align: middle;\n",
       "    }\n",
       "\n",
       "    .dataframe tbody tr th {\n",
       "        vertical-align: top;\n",
       "    }\n",
       "\n",
       "    .dataframe thead th {\n",
       "        text-align: right;\n",
       "    }\n",
       "</style>\n",
       "<table border=\"1\" class=\"dataframe\">\n",
       "  <thead>\n",
       "    <tr style=\"text-align: right;\">\n",
       "      <th></th>\n",
       "      <th>id</th>\n",
       "      <th>type</th>\n",
       "      <th>address__type</th>\n",
       "      <th>address__country</th>\n",
       "      <th>address__locality</th>\n",
       "      <th>email</th>\n",
       "      <th>name</th>\n",
       "    </tr>\n",
       "  </thead>\n",
       "  <tbody>\n",
       "    <tr>\n",
       "      <th>0</th>\n",
       "      <td>19c2f696-678f-4664-be55-d1e87db6db5c</td>\n",
       "      <td>Person</td>\n",
       "      <td>PostalAddress</td>\n",
       "      <td>Switzerland</td>\n",
       "      <td>Geneva</td>\n",
       "      <td>(missing)</td>\n",
       "      <td>Jane Doe</td>\n",
       "    </tr>\n",
       "    <tr>\n",
       "      <th>1</th>\n",
       "      <td>040368e9-d0c4-4bd3-8234-3dab02daebd6</td>\n",
       "      <td>Person</td>\n",
       "      <td>NaN</td>\n",
       "      <td>NaN</td>\n",
       "      <td>NaN</td>\n",
       "      <td>john.smith@epfl.ch</td>\n",
       "      <td>John Smith</td>\n",
       "    </tr>\n",
       "  </tbody>\n",
       "</table>\n",
       "</div>"
      ],
      "text/plain": [
       "                                     id    type  address__type  \\\n",
       "0  19c2f696-678f-4664-be55-d1e87db6db5c  Person  PostalAddress   \n",
       "1  040368e9-d0c4-4bd3-8234-3dab02daebd6  Person            NaN   \n",
       "\n",
       "  address__country address__locality               email        name  \n",
       "0      Switzerland            Geneva           (missing)    Jane Doe  \n",
       "1              NaN               NaN  john.smith@epfl.ch  John Smith  "
      ]
     },
     "execution_count": 15,
     "metadata": {},
     "output_type": "execute_result"
    }
   ],
   "source": [
    "forge.as_dataframe(persons, nesting=\"__\")"
   ]
  },
  {
   "cell_type": "code",
   "execution_count": 16,
   "metadata": {},
   "outputs": [],
   "source": [
    "#forge.as_dataframe(persons, expanded=True)"
   ]
  },
  {
   "cell_type": "code",
   "execution_count": 17,
   "metadata": {},
   "outputs": [
    {
     "data": {
      "text/html": [
       "<div>\n",
       "<style scoped>\n",
       "    .dataframe tbody tr th:only-of-type {\n",
       "        vertical-align: middle;\n",
       "    }\n",
       "\n",
       "    .dataframe tbody tr th {\n",
       "        vertical-align: top;\n",
       "    }\n",
       "\n",
       "    .dataframe thead th {\n",
       "        text-align: right;\n",
       "    }\n",
       "</style>\n",
       "<table border=\"1\" class=\"dataframe\">\n",
       "  <thead>\n",
       "    <tr style=\"text-align: right;\">\n",
       "      <th></th>\n",
       "      <th>id</th>\n",
       "      <th>type</th>\n",
       "      <th>address.type</th>\n",
       "      <th>address.country</th>\n",
       "      <th>address.locality</th>\n",
       "      <th>email</th>\n",
       "      <th>name</th>\n",
       "      <th>deprecated</th>\n",
       "      <th>version</th>\n",
       "    </tr>\n",
       "  </thead>\n",
       "  <tbody>\n",
       "    <tr>\n",
       "      <th>0</th>\n",
       "      <td>19c2f696-678f-4664-be55-d1e87db6db5c</td>\n",
       "      <td>Person</td>\n",
       "      <td>PostalAddress</td>\n",
       "      <td>Switzerland</td>\n",
       "      <td>Geneva</td>\n",
       "      <td>(missing)</td>\n",
       "      <td>Jane Doe</td>\n",
       "      <td>False</td>\n",
       "      <td>1</td>\n",
       "    </tr>\n",
       "    <tr>\n",
       "      <th>1</th>\n",
       "      <td>040368e9-d0c4-4bd3-8234-3dab02daebd6</td>\n",
       "      <td>Person</td>\n",
       "      <td>NaN</td>\n",
       "      <td>NaN</td>\n",
       "      <td>NaN</td>\n",
       "      <td>john.smith@epfl.ch</td>\n",
       "      <td>John Smith</td>\n",
       "      <td>False</td>\n",
       "      <td>1</td>\n",
       "    </tr>\n",
       "  </tbody>\n",
       "</table>\n",
       "</div>"
      ],
      "text/plain": [
       "                                     id    type   address.type  \\\n",
       "0  19c2f696-678f-4664-be55-d1e87db6db5c  Person  PostalAddress   \n",
       "1  040368e9-d0c4-4bd3-8234-3dab02daebd6  Person            NaN   \n",
       "\n",
       "  address.country address.locality               email        name  \\\n",
       "0     Switzerland           Geneva           (missing)    Jane Doe   \n",
       "1             NaN              NaN  john.smith@epfl.ch  John Smith   \n",
       "\n",
       "   deprecated  version  \n",
       "0       False        1  \n",
       "1       False        1  "
      ]
     },
     "execution_count": 17,
     "metadata": {},
     "output_type": "execute_result"
    }
   ],
   "source": [
    "forge.as_dataframe(persons, store_metadata=True)"
   ]
  },
  {
   "cell_type": "markdown",
   "metadata": {},
   "source": [
    "## DataFrame to list of Resource"
   ]
  },
  {
   "cell_type": "code",
   "execution_count": 18,
   "metadata": {},
   "outputs": [],
   "source": [
    "data = pd.DataFrame([\n",
    "    {\n",
    "        \"id\": \"33532569-70eb-4648-a7f1-f7ea22b0ce38\",\n",
    "        \"type\": \"Person\",\n",
    "        \"address.type\": \"PostalAddress\",\n",
    "        \"address.country\": \"Switzerland\",\n",
    "        \"address.locality\": \"Geneva\",\n",
    "        \"email\": \"(missing)\",\n",
    "        \"name\": \"Jane Doe\",\n",
    "    },\n",
    "    {\n",
    "        \"id\": \"45e018f4-9ade-4ad0-bdcf-63902bf51cc1\",\n",
    "        \"type\": \"Person\",\n",
    "        \"address.type\": np.nan,\n",
    "        \"address.country\": np.nan,\n",
    "        \"address.locality\": np.nan,\n",
    "        \"email\": \"john.smith@epfl.ch\",\n",
    "        \"name\": \"John Smith\",\n",
    "    }\n",
    "])"
   ]
  },
  {
   "cell_type": "code",
   "execution_count": 19,
   "metadata": {},
   "outputs": [
    {
     "data": {
      "text/html": [
       "<div>\n",
       "<style scoped>\n",
       "    .dataframe tbody tr th:only-of-type {\n",
       "        vertical-align: middle;\n",
       "    }\n",
       "\n",
       "    .dataframe tbody tr th {\n",
       "        vertical-align: top;\n",
       "    }\n",
       "\n",
       "    .dataframe thead th {\n",
       "        text-align: right;\n",
       "    }\n",
       "</style>\n",
       "<table border=\"1\" class=\"dataframe\">\n",
       "  <thead>\n",
       "    <tr style=\"text-align: right;\">\n",
       "      <th></th>\n",
       "      <th>id</th>\n",
       "      <th>type</th>\n",
       "      <th>address.type</th>\n",
       "      <th>address.country</th>\n",
       "      <th>address.locality</th>\n",
       "      <th>email</th>\n",
       "      <th>name</th>\n",
       "    </tr>\n",
       "  </thead>\n",
       "  <tbody>\n",
       "    <tr>\n",
       "      <th>0</th>\n",
       "      <td>33532569-70eb-4648-a7f1-f7ea22b0ce38</td>\n",
       "      <td>Person</td>\n",
       "      <td>PostalAddress</td>\n",
       "      <td>Switzerland</td>\n",
       "      <td>Geneva</td>\n",
       "      <td>(missing)</td>\n",
       "      <td>Jane Doe</td>\n",
       "    </tr>\n",
       "    <tr>\n",
       "      <th>1</th>\n",
       "      <td>45e018f4-9ade-4ad0-bdcf-63902bf51cc1</td>\n",
       "      <td>Person</td>\n",
       "      <td>NaN</td>\n",
       "      <td>NaN</td>\n",
       "      <td>NaN</td>\n",
       "      <td>john.smith@epfl.ch</td>\n",
       "      <td>John Smith</td>\n",
       "    </tr>\n",
       "  </tbody>\n",
       "</table>\n",
       "</div>"
      ],
      "text/plain": [
       "                                     id    type   address.type  \\\n",
       "0  33532569-70eb-4648-a7f1-f7ea22b0ce38  Person  PostalAddress   \n",
       "1  45e018f4-9ade-4ad0-bdcf-63902bf51cc1  Person            NaN   \n",
       "\n",
       "  address.country address.locality               email        name  \n",
       "0     Switzerland           Geneva           (missing)    Jane Doe  \n",
       "1             NaN              NaN  john.smith@epfl.ch  John Smith  "
      ]
     },
     "execution_count": 19,
     "metadata": {},
     "output_type": "execute_result"
    }
   ],
   "source": [
    "data"
   ]
  },
  {
   "cell_type": "code",
   "execution_count": 20,
   "metadata": {},
   "outputs": [],
   "source": [
    "resources = forge.from_dataframe(data)"
   ]
  },
  {
   "cell_type": "code",
   "execution_count": 21,
   "metadata": {},
   "outputs": [],
   "source": [
    "address = Resource(type=\"PostalAddress\", country=\"Switzerland\", locality=\"Geneva\")"
   ]
  },
  {
   "cell_type": "code",
   "execution_count": 22,
   "metadata": {},
   "outputs": [],
   "source": [
    "jane = Resource(id=\"33532569-70eb-4648-a7f1-f7ea22b0ce38\", type=\"Person\", name=\"Jane Doe\", address=address, email=\"(missing)\")"
   ]
  },
  {
   "cell_type": "code",
   "execution_count": 23,
   "metadata": {},
   "outputs": [],
   "source": [
    "john = Resource(id=\"45e018f4-9ade-4ad0-bdcf-63902bf51cc1\", type=\"Person\", name=\"John Smith\", email=\"john.smith@epfl.ch\")"
   ]
  },
  {
   "cell_type": "code",
   "execution_count": 24,
   "metadata": {},
   "outputs": [],
   "source": [
    "persons = [jane, john]"
   ]
  },
  {
   "cell_type": "code",
   "execution_count": 25,
   "metadata": {},
   "outputs": [
    {
     "data": {
      "text/plain": [
       "True"
      ]
     },
     "execution_count": 25,
     "metadata": {},
     "output_type": "execute_result"
    }
   ],
   "source": [
    "resources == persons"
   ]
  },
  {
   "cell_type": "code",
   "execution_count": 26,
   "metadata": {},
   "outputs": [],
   "source": [
    "resources_na = forge.from_dataframe(data, na=\"(missing)\")"
   ]
  },
  {
   "cell_type": "code",
   "execution_count": 27,
   "metadata": {},
   "outputs": [
    {
     "name": "stdout",
     "output_type": "stream",
     "text": [
      "{\n",
      "    id: 33532569-70eb-4648-a7f1-f7ea22b0ce38\n",
      "    type: Person\n",
      "    address:\n",
      "    {\n",
      "        type: PostalAddress\n",
      "        country: Switzerland\n",
      "        locality: Geneva\n",
      "    }\n",
      "    email: (missing)\n",
      "    name: Jane Doe\n",
      "}\n"
     ]
    }
   ],
   "source": [
    "print(resources[0])"
   ]
  },
  {
   "cell_type": "code",
   "execution_count": 28,
   "metadata": {},
   "outputs": [
    {
     "name": "stdout",
     "output_type": "stream",
     "text": [
      "{\n",
      "    id: 33532569-70eb-4648-a7f1-f7ea22b0ce38\n",
      "    type: Person\n",
      "    address:\n",
      "    {\n",
      "        type: PostalAddress\n",
      "        country: Switzerland\n",
      "        locality: Geneva\n",
      "    }\n",
      "    name: Jane Doe\n",
      "}\n"
     ]
    }
   ],
   "source": [
    "print(resources_na[0])"
   ]
  },
  {
   "cell_type": "code",
   "execution_count": 29,
   "metadata": {},
   "outputs": [],
   "source": [
    "resources_nesting = forge.from_dataframe(data, nesting=\"__\")"
   ]
  },
  {
   "cell_type": "code",
   "execution_count": 30,
   "metadata": {},
   "outputs": [
    {
     "name": "stdout",
     "output_type": "stream",
     "text": [
      "{\n",
      "    id: 33532569-70eb-4648-a7f1-f7ea22b0ce38\n",
      "    type: Person\n",
      "    address:\n",
      "    {\n",
      "        type: PostalAddress\n",
      "        country: Switzerland\n",
      "        locality: Geneva\n",
      "    }\n",
      "    email: (missing)\n",
      "    name: Jane Doe\n",
      "}\n"
     ]
    }
   ],
   "source": [
    "print(resources[0])"
   ]
  },
  {
   "cell_type": "code",
   "execution_count": 31,
   "metadata": {},
   "outputs": [
    {
     "name": "stdout",
     "output_type": "stream",
     "text": [
      "{\n",
      "    id: 33532569-70eb-4648-a7f1-f7ea22b0ce38\n",
      "    type: Person\n",
      "    address.country: Switzerland\n",
      "    address.locality: Geneva\n",
      "    address.type: PostalAddress\n",
      "    email: (missing)\n",
      "    name: Jane Doe\n",
      "}\n"
     ]
    }
   ],
   "source": [
    "print(resources_nesting[0])"
   ]
  },
  {
   "cell_type": "code",
   "execution_count": null,
   "metadata": {},
   "outputs": [],
   "source": []
  }
 ],
 "metadata": {
  "kernelspec": {
   "display_name": "kgforge(v2)",
   "language": "python",
   "name": "kgforge"
  },
  "language_info": {
   "codemirror_mode": {
    "name": "ipython",
    "version": 3
   },
   "file_extension": ".py",
   "mimetype": "text/x-python",
   "name": "python",
   "nbconvert_exporter": "python",
   "pygments_lexer": "ipython3",
   "version": "3.7.5"
  }
 },
 "nbformat": 4,
 "nbformat_minor": 4
}

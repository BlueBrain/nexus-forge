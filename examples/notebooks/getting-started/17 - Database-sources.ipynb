{
 "cells": [
  {
   "cell_type": "markdown",
   "metadata": {},
   "source": [
    "# Querying external database sources of interest\n",
    "\n",
    "* Enable users to integrate data from external databases of interest within BBP KG\n",
    "* While using the Nexus Forge interface and BMO vocabulary as much as possible as\n",
    "* While benefiting from out of the box (meta)data transformation to make them ready for BBP internal pipelines and applications\n",
    "* Demo with Mouselight, NeuroElectro, UniProt"
   ]
  },
  {
   "cell_type": "code",
   "execution_count": 1,
   "metadata": {
    "ExecuteTime": {
     "end_time": "2019-09-23T18:50:20.068658Z",
     "start_time": "2019-09-23T18:50:19.054054Z"
    }
   },
   "outputs": [],
   "source": [
    "import os\n",
    "import uuid\n",
    "import json\n",
    "\n",
    "from kgforge.core import KnowledgeGraphForge\n",
    "from kgforge.specializations.resources import Dataset"
   ]
  },
  {
   "cell_type": "code",
   "execution_count": 2,
   "metadata": {},
   "outputs": [],
   "source": [
    "# import getpass\n",
    "# TOKEN = getpass.getpass()"
   ]
  },
  {
   "cell_type": "code",
   "execution_count": 3,
   "metadata": {},
   "outputs": [],
   "source": [
    "endpoint = \"https://staging.nise.bbp.epfl.ch/nexus/v1\"\n",
    "BUCKET = \"bbp/atlas\"\n",
    "forge = KnowledgeGraphForge(\"../../configurations/database-sources/prod-nexus-sources.yml\",\n",
    "                            # endpoint=endpoint,\n",
    "                            bucket=BUCKET, debug=True)"
   ]
  },
  {
   "cell_type": "markdown",
   "metadata": {},
   "source": [
    "# List of Data sources"
   ]
  },
  {
   "cell_type": "code",
   "execution_count": 4,
   "metadata": {},
   "outputs": [
    {
     "name": "stdout",
     "output_type": "stream",
     "text": [
      "Available Database sources:\n",
      "UniProt\n",
      "NeuroElectro\n",
      "NeuroMorpho\n"
     ]
    }
   ],
   "source": [
    "forge.dataset_sources(pretty=True)"
   ]
  },
  {
   "cell_type": "code",
   "execution_count": 5,
   "metadata": {},
   "outputs": [],
   "source": [
    "sources = forge.dataset_sources()"
   ]
  },
  {
   "cell_type": "code",
   "execution_count": 6,
   "metadata": {},
   "outputs": [],
   "source": [
    "\n",
    "data = {\n",
    "       'origin': 'store',\n",
    "       'source': 'DemoStore',\n",
    "       'model': { \n",
    "          'name': 'DemoModel',\n",
    "          'origin': 'directory',\n",
    "          'source': \"../../../tests/data/demo-model/\" \n",
    "        }\n",
    "}\n"
   ]
  },
  {
   "cell_type": "code",
   "execution_count": 7,
   "metadata": {},
   "outputs": [],
   "source": [
    "from kgforge.specializations.databases import StoreDatabase\n",
    "ds = StoreDatabase(forge, name=\"DemoDB\", **data)"
   ]
  },
  {
   "cell_type": "code",
   "execution_count": 8,
   "metadata": {},
   "outputs": [],
   "source": [
    "forge.add_dataset_source(ds)"
   ]
  },
  {
   "cell_type": "code",
   "execution_count": 9,
   "metadata": {},
   "outputs": [
    {
     "name": "stdout",
     "output_type": "stream",
     "text": [
      "Available Database sources:\n",
      "UniProt\n",
      "NeuroElectro\n",
      "NeuroMorpho\n",
      "DemoDB\n"
     ]
    }
   ],
   "source": [
    "forge.dataset_sources(pretty=True)"
   ]
  },
  {
   "cell_type": "markdown",
   "metadata": {},
   "source": [
    "# Data source metadata"
   ]
  },
  {
   "cell_type": "code",
   "execution_count": 10,
   "metadata": {},
   "outputs": [],
   "source": [
    "neuroelectro = sources['NeuroElectro']"
   ]
  },
  {
   "cell_type": "markdown",
   "metadata": {},
   "source": [
    "## Get data mappings (hold transformations logic) per data type\n",
    "\n",
    "* Data mappings are used to transform results obtained from the external data sources so that they are ready for consumption by BBP tools\n",
    "* Perform automatic ontology linking"
   ]
  },
  {
   "cell_type": "code",
   "execution_count": 11,
   "metadata": {},
   "outputs": [
    {
     "name": "stdout",
     "output_type": "stream",
     "text": [
      "Managed mappings for the data source per entity type and mapping type:\n",
      "   - ElectrophysiologicalFeatureAnnotation:\n",
      "        * DictionaryMapping\n",
      "   - ParameterAnnotation:\n",
      "        * DictionaryMapping\n",
      "   - ParameterBody:\n",
      "        * DictionaryMapping\n",
      "   - ScholarlyArticle:\n",
      "        * DictionaryMapping\n",
      "   - SeriesBody:\n",
      "        * DictionaryMapping\n"
     ]
    }
   ],
   "source": [
    "forge.mappings(source=\"NeuroElectro\")"
   ]
  },
  {
   "cell_type": "code",
   "execution_count": 12,
   "metadata": {},
   "outputs": [
    {
     "name": "stdout",
     "output_type": "stream",
     "text": [
      "Managed mappings for the data source per entity type and mapping type:\n",
      "   - Gene:\n",
      "        * DictionaryMapping\n",
      "   - Protein:\n",
      "        * DictionaryMapping\n"
     ]
    }
   ],
   "source": [
    "forge.mappings('UniProt')"
   ]
  },
  {
   "cell_type": "code",
   "execution_count": 13,
   "metadata": {},
   "outputs": [],
   "source": [
    "from kgforge.specializations.mappings import DictionaryMapping\n",
    "mapping = forge.mapping(entity=\"ScholarlyArticle\", source=\"NeuroElectro\")"
   ]
  },
  {
   "cell_type": "code",
   "execution_count": 14,
   "metadata": {},
   "outputs": [
    {
     "name": "stdout",
     "output_type": "stream",
     "text": [
      "{\n",
      "    id: forge.format(\"identifier\", \"scholarlyarticles\", x.id)\n",
      "    type:\n",
      "    [\n",
      "        Entity\n",
      "        ScholarlyArticle\n",
      "    ]\n",
      "    abstract: x.abstract\n",
      "    author: x.authors_shaped\n",
      "    datePublished: x.date_issued\n",
      "    identifier: x.identifiers\n",
      "    isPartOf:\n",
      "    {\n",
      "        type: Periodical\n",
      "        issn: x.issn\n",
      "        name: x.journal\n",
      "        publisher: x.publisher\n",
      "    }\n",
      "    name: f\"article_{x.id}\"\n",
      "    sameAs: x.full_text_link\n",
      "    title: x.title\n",
      "    url: x.full_text_link\n",
      "}\n"
     ]
    }
   ],
   "source": [
    "print(mapping)"
   ]
  },
  {
   "cell_type": "code",
   "execution_count": 15,
   "metadata": {},
   "outputs": [
    {
     "name": "stdout",
     "output_type": "stream",
     "text": [
      "Available Database sources:\n",
      "UniProt\n"
     ]
    }
   ],
   "source": [
    "forge.dataset_sources(type_='Gene', pretty=True)"
   ]
  },
  {
   "cell_type": "markdown",
   "metadata": {},
   "source": [
    "# Search and Access data from data source\n",
    "\n",
    "* Mapping are automatically applied to search results\n",
    "* takes a mn for now => working on making it faster "
   ]
  },
  {
   "cell_type": "code",
   "execution_count": 16,
   "metadata": {},
   "outputs": [
    {
     "name": "stdout",
     "output_type": "stream",
     "text": [
      "Submitted query:\n",
      "   PREFIX bmc: <https://bbp.epfl.ch/ontologies/core/bmc/>\n",
      "   PREFIX bmo: <https://bbp.epfl.ch/ontologies/core/bmo/>\n",
      "   PREFIX commonshapes: <https://neuroshapes.org/commons/>\n",
      "   PREFIX datashapes: <https://neuroshapes.org/dash/>\n",
      "   PREFIX dc: <http://purl.org/dc/elements/1.1/>\n",
      "   PREFIX dcat: <http://www.w3.org/ns/dcat#>\n",
      "   PREFIX dcterms: <http://purl.org/dc/terms/>\n",
      "   PREFIX mba: <http://api.brain-map.org/api/v2/data/Structure/>\n",
      "   PREFIX nsg: <https://neuroshapes.org/>\n",
      "   PREFIX nxv: <https://bluebrain.github.io/nexus/vocabulary/>\n",
      "   PREFIX oa: <http://www.w3.org/ns/oa#>\n",
      "   PREFIX obo: <http://purl.obolibrary.org/obo/>\n",
      "   PREFIX owl: <http://www.w3.org/2002/07/owl#>\n",
      "   PREFIX prov: <http://www.w3.org/ns/prov#>\n",
      "   PREFIX rdf: <http://www.w3.org/1999/02/22-rdf-syntax-ns#>\n",
      "   PREFIX rdfs: <http://www.w3.org/2000/01/rdf-schema#>\n",
      "   PREFIX schema: <http://schema.org/>\n",
      "   PREFIX sh: <http://www.w3.org/ns/shacl#>\n",
      "   PREFIX shsh: <http://www.w3.org/ns/shacl-shacl#>\n",
      "   PREFIX skos: <http://www.w3.org/2004/02/skos/core#>\n",
      "   PREFIX vann: <http://purl.org/vocab/vann/>\n",
      "   PREFIX void: <http://rdfs.org/ns/void#>\n",
      "   PREFIX xml: <http://www.w3.org/XML/1998/namespace/>\n",
      "   PREFIX xsd: <http://www.w3.org/2001/XMLSchema#>\n",
      "   PREFIX : <https://bbp.epfl.ch/nexus/v1/resources/bbp/atlas/_/>\n",
      "   SELECT ?id ?_constrainedBy ?_createdAt ?_createdBy ?_deprecated ?_incoming ?_outgoing ?_project ?_rev ?_schemaProject ?_self ?_updatedAt ?_updatedBy WHERE { Graph ?g {?id rdf:type schema:ScholarlyArticle;\n",
      "    <https://bluebrain.github.io/nexus/vocabulary/constrainedBy> ?_constrainedBy;\n",
      "    <https://bluebrain.github.io/nexus/vocabulary/createdAt> ?_createdAt;\n",
      "    <https://bluebrain.github.io/nexus/vocabulary/createdBy> ?_createdBy;\n",
      "    <https://bluebrain.github.io/nexus/vocabulary/deprecated> ?_deprecated;\n",
      "    <https://bluebrain.github.io/nexus/vocabulary/incoming> ?_incoming;\n",
      "    <https://bluebrain.github.io/nexus/vocabulary/outgoing> ?_outgoing;\n",
      "    <https://bluebrain.github.io/nexus/vocabulary/project> ?_project;\n",
      "    <https://bluebrain.github.io/nexus/vocabulary/rev> ?_rev;\n",
      "    <https://bluebrain.github.io/nexus/vocabulary/schemaProject> ?_schemaProject;\n",
      "    <https://bluebrain.github.io/nexus/vocabulary/self> ?_self;\n",
      "    <https://bluebrain.github.io/nexus/vocabulary/updatedAt> ?_updatedAt;\n",
      "    <https://bluebrain.github.io/nexus/vocabulary/updatedBy> ?_updatedBy . \n",
      "    Filter (?_deprecated = 'false'^^xsd:boolean)\n",
      "   Filter (?_project = <https://bbp.epfl.ch/nexus/v1/projects/bbp/neuroelectro>)}}  LIMIT 2\n",
      "\n"
     ]
    }
   ],
   "source": [
    "filters = {\"type\":\"ScholarlyArticle\"}\n",
    "#map=True, use_cache=True, # download=True\n",
    "resources = forge.search(filters, dataset_source=\"NeuroElectro\", limit=2, debug=True) \n",
    "# Add function for checking datsource health => reqsuire health url from db\n"
   ]
  },
  {
   "cell_type": "code",
   "execution_count": 17,
   "metadata": {},
   "outputs": [
    {
     "data": {
      "text/plain": [
       "2"
      ]
     },
     "execution_count": 17,
     "metadata": {},
     "output_type": "execute_result"
    }
   ],
   "source": [
    "len(resources)"
   ]
  },
  {
   "cell_type": "code",
   "execution_count": 18,
   "metadata": {},
   "outputs": [
    {
     "name": "stdout",
     "output_type": "stream",
     "text": [
      "{\n",
      "    context: https://bbp.neuroshapes.org\n",
      "    id: https://bbp.epfl.ch/neurosciencegraph/data/scholarlyarticles/35177\n",
      "    type:\n",
      "    [\n",
      "        Entity\n",
      "        ScholarlyArticle\n",
      "    ]\n",
      "    abstract: On the one hand, neuronal activity can cause changes in pH; on the other hand, changes in pH can modulate neuronal activity. Consequently, the pH of the brain is regulated at various levels. Here we show that steady-state pH and acid extrusion were diminished in cultured hippocampal neurons of mice with a targeted disruption of the Na(+)-driven Cl(-)/HCO(3)(-) exchanger Slc4a8. Because Slc4a8 was found to predominantly localize to presynaptic nerve endings, we hypothesize that Slc4a8 is a key regulator of presynaptic pH. Supporting this hypothesis, spontaneous glutamate release in the CA1 pyramidal layer was reduced but could be rescued by increasing the intracellular pH. The reduced excitability in vitro correlated with an increased seizure threshold in vivo. Together with the altered kinetics of stimulated synaptic vesicle release, these data suggest that Slc4a8 modulates glutamate release in a pH-dependent manner.\n",
      "    author:\n",
      "    [\n",
      "        {\n",
      "            type: Person\n",
      "            familyName: Sinning\n",
      "            givenName: Anne\n",
      "        }\n",
      "        {\n",
      "            type: Person\n",
      "            familyName: Liebmann\n",
      "            givenName: Lutz\n",
      "        }\n",
      "        {\n",
      "            type: Person\n",
      "            familyName: Kougioumtzes\n",
      "            givenName: Alexandra\n",
      "        }\n",
      "        {\n",
      "            type: Person\n",
      "            familyName: Westermann\n",
      "            givenName: Martin\n",
      "        }\n",
      "        {\n",
      "            type: Person\n",
      "            familyName: Bruehl\n",
      "            givenName: Claus\n",
      "        }\n",
      "        {\n",
      "            type: Person\n",
      "            familyName: Hübner\n",
      "            givenName: Christian A\n",
      "        }\n",
      "    ]\n",
      "    datePublished: 2011-5-18\n",
      "    identifier:\n",
      "    [\n",
      "        {\n",
      "            propertyID: PMID\n",
      "            value: 21593314\n",
      "        }\n",
      "        {\n",
      "            propertyID: doi\n",
      "            value: 10.1523/JNEUROSCI.0269-11.2011\n",
      "        }\n",
      "    ]\n",
      "    isPartOf:\n",
      "    {\n",
      "        type: Periodical\n",
      "        issn: 0270-6474\n",
      "        name: The Journal of neuroscience : the official journal of the Society for Neuroscience\n",
      "        publisher: Society for Neuroscience\n",
      "    }\n",
      "    name: article_35177\n",
      "    sameAs: http://www.jneurosci.org/content/31/20/7300.long\n",
      "    title: Synaptic glutamate release is modulated by the Na+ -driven Cl-/HCO₃⁻ exchanger Slc4a8.\n",
      "    url: http://www.jneurosci.org/content/31/20/7300.long\n",
      "}\n"
     ]
    }
   ],
   "source": [
    "print(resources[0])"
   ]
  },
  {
   "cell_type": "code",
   "execution_count": 19,
   "metadata": {},
   "outputs": [],
   "source": [
    "uquery = \"\"\"\n",
    "PREFIX up: <http://purl.uniprot.org/core/>\n",
    "SELECT ?protein\n",
    "WHERE {\n",
    "  ?protein a up:Protein ;\n",
    "  up:reviewed true.\n",
    "}\n",
    "\"\"\""
   ]
  },
  {
   "cell_type": "code",
   "execution_count": 20,
   "metadata": {},
   "outputs": [
    {
     "name": "stdout",
     "output_type": "stream",
     "text": [
      "Submitted query:\n",
      "   \n",
      "   PREFIX up: <http://purl.uniprot.org/core/>\n",
      "   SELECT ?protein\n",
      "   WHERE {\n",
      "     ?protein a up:Protein ;\n",
      "     up:reviewed true.\n",
      "   }\n",
      "     LIMIT 10\n",
      "\n"
     ]
    }
   ],
   "source": [
    "uresources = forge.sparql(query=uquery, dataset_source='UniProt', limit=10, debug=True)"
   ]
  },
  {
   "cell_type": "code",
   "execution_count": 21,
   "metadata": {},
   "outputs": [
    {
     "data": {
      "text/plain": [
       "10"
      ]
     },
     "execution_count": 21,
     "metadata": {},
     "output_type": "execute_result"
    }
   ],
   "source": [
    "len(uresources)"
   ]
  },
  {
   "cell_type": "code",
   "execution_count": 22,
   "metadata": {},
   "outputs": [
    {
     "data": {
      "text/plain": [
       "Resource(_last_action=None, _validated=False, _synchronized=False, _store_metadata=None, _inner_sync=False, protein='http://purl.uniprot.org/uniprot/A0B137')"
      ]
     },
     "execution_count": 22,
     "metadata": {},
     "output_type": "execute_result"
    }
   ],
   "source": [
    "uresources[0]"
   ]
  },
  {
   "cell_type": "markdown",
   "metadata": {},
   "source": [
    "## Use Filters to search"
   ]
  },
  {
   "cell_type": "code",
   "execution_count": 23,
   "metadata": {},
   "outputs": [],
   "source": [
    "from kgforge.core.wrappings.paths import Filter, FilterOperator"
   ]
  },
  {
   "cell_type": "code",
   "execution_count": 24,
   "metadata": {},
   "outputs": [
    {
     "name": "stdout",
     "output_type": "stream",
     "text": [
      "Submitted query:\n",
      "   PREFIX up: <http://purl.uniprot.org/core/>\n",
      "   PREFIX owl: <http://www.w3.org/2002/07/owl#>\n",
      "   PREFIX owl2xml: <http://www.w3.org/2006/12/owl2-xml#>\n",
      "   PREFIX swrlb: <http://www.w3.org/2003/11/swrlb#>\n",
      "   PREFIX protege: <http://protege.stanford.edu/plugins/owl/protege#>\n",
      "   PREFIX swrl: <http://www.w3.org/2003/11/swrl#>\n",
      "   PREFIX xsd: <http://www.w3.org/2001/XMLSchema#>\n",
      "   PREFIX skos: <http://www.w3.org/2004/02/skos/core#>\n",
      "   PREFIX rdfs: <http://www.w3.org/2000/01/rdf-schema#>\n",
      "   PREFIX dc11: <http://purl.org/dc/terms/>\n",
      "   PREFIX rdf: <http://www.w3.org/1999/02/22-rdf-syntax-ns#>\n",
      "   PREFIX foaf: <http://xmlns.com/foaf/0.1/>\n",
      "   SELECT ?id WHERE {?id rdf:type up:Protein;\n",
      "    up:reviewed ?v1 . \n",
      "    FILTER(?v1 = 'true'^^xsd:boolean)\n",
      "   }  LIMIT 10\n",
      "\n"
     ]
    }
   ],
   "source": [
    "\n",
    "proteins = forge.search({'type': 'Protein', 'up:reviewed': True}, dataset_source='UniProt', limit=10, debug=True)"
   ]
  },
  {
   "cell_type": "code",
   "execution_count": 25,
   "metadata": {},
   "outputs": [
    {
     "data": {
      "text/plain": [
       "Resource(_last_action=None, _validated=False, _synchronized=False, _store_metadata=None, id='http://purl.uniprot.org/uniprot/A0B137', _inner_sync=False)"
      ]
     },
     "execution_count": 25,
     "metadata": {},
     "output_type": "execute_result"
    }
   ],
   "source": [
    "proteins[0]"
   ]
  },
  {
   "cell_type": "markdown",
   "metadata": {},
   "source": [
    "# Map resources"
   ]
  },
  {
   "cell_type": "code",
   "execution_count": 26,
   "metadata": {},
   "outputs": [],
   "source": [
    "uniprot = sources['UniProt']"
   ]
  },
  {
   "cell_type": "code",
   "execution_count": 27,
   "metadata": {},
   "outputs": [],
   "source": [
    "complete_query = \"\"\"\n",
    "PREFIX up: <http://purl.uniprot.org/core/>\n",
    "SELECT ?id ?gene ?label ?subject ?gene_label\n",
    "WHERE {\n",
    "  ?id a up:Protein ;\n",
    "  up:reviewed true ;\n",
    "  up:encodedBy ?gene ;\n",
    "  up:recommendedName / up:fullName ?label ;\n",
    "  up:organism / up:scientificName ?subject .\n",
    "  ?gene skos:prefLabel ?gene_label . \n",
    "}\n",
    "\"\"\""
   ]
  },
  {
   "cell_type": "code",
   "execution_count": 28,
   "metadata": {},
   "outputs": [],
   "source": [
    "raw_proteins = uniprot.sparql(complete_query)"
   ]
  },
  {
   "cell_type": "code",
   "execution_count": 29,
   "metadata": {},
   "outputs": [],
   "source": [
    "new_resource = uniprot.map(raw_proteins[0], 'Protein')"
   ]
  },
  {
   "cell_type": "code",
   "execution_count": 30,
   "metadata": {},
   "outputs": [
    {
     "name": "stdout",
     "output_type": "stream",
     "text": [
      "[\n",
      "    {\n",
      "        \"@context\": \"https://bbp.neuroshapes.org\",\n",
      "        \"@id\": \"https://bbp.epfl.ch/neurosciencegraph/data/proteins/P0DJN9\",\n",
      "        \"@type\": [\n",
      "            \"Entity\",\n",
      "            \"Protein\"\n",
      "        ],\n",
      "        \"encodedBy\": {\n",
      "            \"@id\": \"http://purl.uniprot.org/uniprot/P0DJN9#gene-MD5A00DD99270221B359AB0AE338E423668\",\n",
      "            \"label\": \"acsF\"\n",
      "        },\n",
      "        \"identifier\": {\n",
      "            \"propertyID\": \"UniProtKB\",\n",
      "            \"value\": \"P0DJN9\"\n",
      "        },\n",
      "        \"name\": \"Protein P0DJN9 from UniProtKB\",\n",
      "        \"label\": \"Aerobic magnesium-protoporphyrin IX monomethyl ester [oxidative] cyclase\",\n",
      "        \"subject\": {\n",
      "            \"label\": \"Rubrivivax gelatinosus\"\n",
      "        }\n",
      "    }\n",
      "]\n"
     ]
    }
   ],
   "source": [
    "\n",
    "print(json.dumps(forge.as_jsonld(new_resource), indent=4))"
   ]
  },
  {
   "cell_type": "markdown",
   "metadata": {},
   "source": [
    "### same result could be obtain from a dictionary and a DictionaryMapping instance"
   ]
  },
  {
   "cell_type": "code",
   "execution_count": 31,
   "metadata": {},
   "outputs": [
    {
     "name": "stdout",
     "output_type": "stream",
     "text": [
      "[\n",
      "    {\n",
      "        \"@context\": \"https://bbp.neuroshapes.org\",\n",
      "        \"@id\": \"https://bbp.epfl.ch/neurosciencegraph/data/proteins/P0DJN9\",\n",
      "        \"@type\": [\n",
      "            \"Entity\",\n",
      "            \"Protein\"\n",
      "        ],\n",
      "        \"encodedBy\": {\n",
      "            \"@id\": \"http://purl.uniprot.org/uniprot/P0DJN9#gene-MD5A00DD99270221B359AB0AE338E423668\",\n",
      "            \"label\": \"acsF\"\n",
      "        },\n",
      "        \"identifier\": {\n",
      "            \"propertyID\": \"UniProtKB\",\n",
      "            \"value\": \"P0DJN9\"\n",
      "        },\n",
      "        \"name\": \"Protein P0DJN9 from UniProtKB\",\n",
      "        \"label\": \"Aerobic magnesium-protoporphyrin IX monomethyl ester [oxidative] cyclase\",\n",
      "        \"subject\": {\n",
      "            \"label\": \"Rubrivivax gelatinosus\"\n",
      "        }\n",
      "    }\n",
      "]\n"
     ]
    }
   ],
   "source": [
    "dict_resource = forge.as_json(raw_proteins[0])\n",
    "mapping = DictionaryMapping.load(\"../../database-sources/UniProt/mappings/DictionaryMapping/Protein.hjson\")\n",
    "print(json.dumps(forge.as_jsonld(uniprot.map(dict_resource, mapping)), indent=4))"
   ]
  },
  {
   "cell_type": "markdown",
   "metadata": {},
   "source": [
    "## Query the NeuroMorpho WebService"
   ]
  },
  {
   "cell_type": "code",
   "execution_count": 32,
   "metadata": {},
   "outputs": [],
   "source": [
    "neuromorpho = sources['NeuroMorpho']"
   ]
  },
  {
   "cell_type": "code",
   "execution_count": 33,
   "metadata": {},
   "outputs": [],
   "source": [
    "nmo_filters = {\"species\": \"rat,mouse,human\", \"response_loc\": [\"_embedded\", \"neuronResources\"]}"
   ]
  },
  {
   "cell_type": "code",
   "execution_count": 56,
   "metadata": {},
   "outputs": [
    {
     "name": "stderr",
     "output_type": "stream",
     "text": [
      "/opt/miniconda3/envs/kgforge/lib/python3.7/site-packages/urllib3/connectionpool.py:1052: InsecureRequestWarning: Unverified HTTPS request is being made to host 'neuromorpho.org'. Adding certificate verification is strongly advised. See: https://urllib3.readthedocs.io/en/1.26.x/advanced-usage.html#ssl-warnings\n",
      "  InsecureRequestWarning,\n"
     ]
    }
   ],
   "source": [
    "nmo_resources = forge.search(nmo_filters, dataset_source='NeuroMorpho', size=3, searchendpoint='select_query', q=\"species:mouse\")"
   ]
  },
  {
   "cell_type": "code",
   "execution_count": 50,
   "metadata": {},
   "outputs": [
    {
     "data": {
      "text/plain": [
       "Resource(_last_action=None, _validated=False, _synchronized=False, _store_metadata=None, id='http://purl.obolibrary.org/obo/UBERON_0002301', type='Class', label='Neocortical Layer', _inner_sync=False, prefLabel='Neocortical Layer', subClassOf='bmo:BrainLayer')"
      ]
     },
     "execution_count": 50,
     "metadata": {},
     "output_type": "execute_result"
    }
   ],
   "source": [
    "forge.resolve(nmo_resources[0].brain_region[0], scope='ontology', strategy='BEST_MATCH')"
   ]
  },
  {
   "cell_type": "code",
   "execution_count": 51,
   "metadata": {},
   "outputs": [
    {
     "data": {
      "text/plain": [
       "['neocortex', 'occipital', 'layer 6']"
      ]
     },
     "execution_count": 51,
     "metadata": {},
     "output_type": "execute_result"
    }
   ],
   "source": [
    "nmo_resources[0].brain_region"
   ]
  },
  {
   "cell_type": "markdown",
   "metadata": {},
   "source": [
    "### Format date"
   ]
  },
  {
   "cell_type": "code",
   "execution_count": 35,
   "metadata": {},
   "outputs": [],
   "source": [
    "from datetime import datetime"
   ]
  },
  {
   "cell_type": "code",
   "execution_count": 36,
   "metadata": {},
   "outputs": [],
   "source": [
    "for resource in nmo_resources:\n",
    "    resource.bbpID =  str(uuid.uuid4())\n",
    "    date_ints = [int(p) for p in resource.deposition_date.split('-')]\n",
    "    date_str = datetime(*date_ints)\n",
    "    resource.date_formatted = date_str.strftime(\"%Y-%m-%dT%H:%M:%S\")"
   ]
  },
  {
   "cell_type": "code",
   "execution_count": 37,
   "metadata": {},
   "outputs": [],
   "source": [
    "new_morphologies = neuromorpho.map(nmo_resources, 'NeuronMorphology')"
   ]
  },
  {
   "cell_type": "code",
   "execution_count": 38,
   "metadata": {},
   "outputs": [],
   "source": [
    "format_file = neuromorpho.service.files_download['endpoint'] + \"/{}/CNG version/{}.CNG.swc\""
   ]
  },
  {
   "cell_type": "markdown",
   "metadata": {},
   "source": [
    "## Attach file as distribution with morphologies"
   ]
  },
  {
   "cell_type": "code",
   "execution_count": 39,
   "metadata": {},
   "outputs": [],
   "source": [
    "import morphio"
   ]
  },
  {
   "cell_type": "code",
   "execution_count": 40,
   "metadata": {},
   "outputs": [
    {
     "name": "stderr",
     "output_type": "stream",
     "text": [
      "/opt/miniconda3/envs/kgforge/lib/python3.7/site-packages/urllib3/connectionpool.py:1052: InsecureRequestWarning: Unverified HTTPS request is being made to host 'neuromorpho.org'. Adding certificate verification is strongly advised. See: https://urllib3.readthedocs.io/en/1.26.x/advanced-usage.html#ssl-warnings\n",
      "  InsecureRequestWarning,\n",
      "/opt/miniconda3/envs/kgforge/lib/python3.7/site-packages/urllib3/connectionpool.py:1052: InsecureRequestWarning: Unverified HTTPS request is being made to host 'neuromorpho.org'. Adding certificate verification is strongly advised. See: https://urllib3.readthedocs.io/en/1.26.x/advanced-usage.html#ssl-warnings\n",
      "  InsecureRequestWarning,\n",
      "/opt/miniconda3/envs/kgforge/lib/python3.7/site-packages/urllib3/connectionpool.py:1052: InsecureRequestWarning: Unverified HTTPS request is being made to host 'neuromorpho.org'. Adding certificate verification is strongly advised. See: https://urllib3.readthedocs.io/en/1.26.x/advanced-usage.html#ssl-warnings\n",
      "  InsecureRequestWarning,\n"
     ]
    }
   ],
   "source": [
    "for morphology in new_morphologies:\n",
    "    url = format_file.format(morphology.archive.lower(), morphology.name)\n",
    "    base_name = ''.join(url.split('.')[:-2])\n",
    "    file_path = f\"./downloaded/{base_name.split('/')[-1]}\"\n",
    "    swc = file_path + '.swc'\n",
    "    neuromorpho.download(url, swc)\n",
    "    neuromorpho.attach_file(morphology, swc, content_type='application/swc')\n",
    "    # Generate other morphology files\n",
    "    m = morphio.mut.Morphology(swc)\n",
    "    for extension in ['h5', 'asc']:\n",
    "        path = f\"{file_path}.{extension}\"\n",
    "        m.write(path)\n",
    "        neuromorpho.attach_file(morphology, path, content_type=f'application/{extension}')\n",
    "    m.write(file_path+'.asc')"
   ]
  },
  {
   "cell_type": "code",
   "execution_count": 44,
   "metadata": {},
   "outputs": [
    {
     "name": "stdout",
     "output_type": "stream",
     "text": [
      "<action> _register_one\n",
      "<succeeded> False\n",
      "<error> RegistrationError: 400 Client Error: Bad Request for url: https://bbp.epfl.ch/nexus/v1/resources/bbp/atlas/datashapes%3Aneuronmorphology\n"
     ]
    }
   ],
   "source": [
    "forge.register(new_morphologies[0], schema_id=\"datashapes:neuronmorphology\")"
   ]
  },
  {
   "cell_type": "code",
   "execution_count": 42,
   "metadata": {},
   "outputs": [],
   "source": [
    "# forge.validate(new_morphologies[0], type_=\"NeuronMorphology\")"
   ]
  },
  {
   "cell_type": "code",
   "execution_count": 45,
   "metadata": {},
   "outputs": [
    {
     "name": "stdout",
     "output_type": "stream",
     "text": [
      "{\n",
      "    id: https://bbp.epfl.ch/neurosciencegraph/data/neuronmorphologies/neuromorpho/0b869f02-85b3-4c49-9cb3-5d6f12bbde28\n",
      "    type:\n",
      "    [\n",
      "        Dataset\n",
      "        NeuronMorphology\n",
      "    ]\n",
      "    archive: Scanziani\n",
      "    brainLocation:\n",
      "    {\n",
      "        type: BrainLocation\n",
      "    }\n",
      "    contribution:\n",
      "    {\n",
      "        type: Contribution\n",
      "        agent:\n",
      "        {\n",
      "            id: https://ror.org/02jqj7156\n",
      "            type: Organization\n",
      "            label: George Mason University\n",
      "        }\n",
      "    }\n",
      "    dateCreated:\n",
      "    {\n",
      "        type: xsd:dateTime\n",
      "        @value: 2012-07-01T00:00:00\n",
      "    }\n",
      "    description: Morphology of TypeA-10 obtained from NeuroMorpho API.\n",
      "    distribution:\n",
      "    [\n",
      "        {\n",
      "            type: DataDownload\n",
      "            atLocation:\n",
      "            {\n",
      "                type: Location\n",
      "                location: file:///gpfs/bbp.cscs.ch/data/project/proj39/nexus/bbp/atlas/0/4/8/5/1/9/5/c/TypeA-10.swc\n",
      "                store:\n",
      "                {\n",
      "                    id: https://bbp.epfl.ch/neurosciencegraph/data/2f120131-0bbc-4a7e-b84b-52f7f00eec9e\n",
      "                    type: RemoteDiskStorage\n",
      "                    _rev: 1\n",
      "                }\n",
      "            }\n",
      "            contentSize:\n",
      "            {\n",
      "                unitCode: bytes\n",
      "                value: 80865\n",
      "            }\n",
      "            contentUrl: https://bbp.epfl.ch/nexus/v1/files/bbp/atlas/85d5c8d9-788d-4777-b62f-825b2ff12a51\n",
      "            digest:\n",
      "            {\n",
      "                algorithm: SHA-256\n",
      "                value: d0e898900e129fe41173eb0fe36bd84bd87a2100acb303e0ee96bf584eccfae0\n",
      "            }\n",
      "            encodingFormat: application/swc\n",
      "            name: TypeA-10.swc\n",
      "        }\n",
      "        {\n",
      "            type: DataDownload\n",
      "            atLocation:\n",
      "            {\n",
      "                type: Location\n",
      "                location: file:///gpfs/bbp.cscs.ch/data/project/proj39/nexus/bbp/atlas/c/f/7/d/4/6/8/7/TypeA-10.h5\n",
      "                store:\n",
      "                {\n",
      "                    id: https://bbp.epfl.ch/neurosciencegraph/data/2f120131-0bbc-4a7e-b84b-52f7f00eec9e\n",
      "                    type: RemoteDiskStorage\n",
      "                    _rev: 1\n",
      "                }\n",
      "            }\n",
      "            contentSize:\n",
      "            {\n",
      "                unitCode: bytes\n",
      "                value: 45952\n",
      "            }\n",
      "            contentUrl: https://bbp.epfl.ch/nexus/v1/files/bbp/atlas/03edd654-0c39-4069-9b24-c7e3d68cd3ad\n",
      "            digest:\n",
      "            {\n",
      "                algorithm: SHA-256\n",
      "                value: 6cd5a3786e5502ce9443616089924ca8d22718a765d8e8202a5619f34b4afc9e\n",
      "            }\n",
      "            encodingFormat: application/h5\n",
      "            name: TypeA-10.h5\n",
      "        }\n",
      "        {\n",
      "            type: DataDownload\n",
      "            atLocation:\n",
      "            {\n",
      "                type: Location\n",
      "                location: file:///gpfs/bbp.cscs.ch/data/project/proj39/nexus/bbp/atlas/a/0/4/e/6/9/d/9/TypeA-10.asc\n",
      "                store:\n",
      "                {\n",
      "                    id: https://bbp.epfl.ch/neurosciencegraph/data/2f120131-0bbc-4a7e-b84b-52f7f00eec9e\n",
      "                    type: RemoteDiskStorage\n",
      "                    _rev: 1\n",
      "                }\n",
      "            }\n",
      "            contentSize:\n",
      "            {\n",
      "                unitCode: bytes\n",
      "                value: 147432\n",
      "            }\n",
      "            contentUrl: https://bbp.epfl.ch/nexus/v1/files/bbp/atlas/00a51e52-b9f5-47e6-b61f-c640820d01bf\n",
      "            digest:\n",
      "            {\n",
      "                algorithm: SHA-256\n",
      "                value: a2469aceb35eb4569f9b2826ff099fb362f25bd5501ba468b269e8d1a1a3d93c\n",
      "            }\n",
      "            encodingFormat: application/asc\n",
      "            name: TypeA-10.asc\n",
      "        }\n",
      "    ]\n",
      "    generation:\n",
      "    {\n",
      "        type: Generation\n",
      "        activity:\n",
      "        {\n",
      "            type: nsg:NeuronMorphologyReconstruction\n",
      "        }\n",
      "    }\n",
      "    identifier:\n",
      "    {\n",
      "        propertyID: NeuroMorhoID\n",
      "        value: 10047\n",
      "    }\n",
      "    license:\n",
      "    {\n",
      "        id: https://neuromorpho.org\n",
      "        type: License\n",
      "    }\n",
      "    name: TypeA-10\n",
      "    objectOfStudy:\n",
      "    {\n",
      "        id: http://bbp.epfl.ch/neurosciencegraph/taxonomies/objectsofstudy/singlecells\n",
      "        type: ObjectOfStudy\n",
      "        label: Single Cell\n",
      "    }\n",
      "    stain: biocytin\n",
      "    subject:\n",
      "    {\n",
      "        type: Subject\n",
      "        species:\n",
      "        {\n",
      "            id: http://purl.obolibrary.org/obo/NCBITaxon_10088\n",
      "            type: Class\n",
      "            label: Mouse\n",
      "            subClassOf: obo:NCBITaxon_9989\n",
      "        }\n",
      "    }\n",
      "    version: 8.4.7\n",
      "}\n"
     ]
    }
   ],
   "source": [
    "print(new_morphologies[0])"
   ]
  }
 ],
 "metadata": {
  "kernelspec": {
   "display_name": "Python 3.7.13 ('kgforge')",
   "language": "python",
   "name": "python3"
  },
  "language_info": {
   "codemirror_mode": {
    "name": "ipython",
    "version": 3
   },
   "file_extension": ".py",
   "mimetype": "text/x-python",
   "name": "python",
   "nbconvert_exporter": "python",
   "pygments_lexer": "ipython3",
   "version": "3.7.13"
  },
  "vscode": {
   "interpreter": {
    "hash": "9ac393a5ddd595f2c78ea58b15bf8d269850a4413729cbea5c5fae9013762763"
   }
  }
 },
 "nbformat": 4,
 "nbformat_minor": 4
}

{
 "cells": [
  {
   "cell_type": "markdown",
   "metadata": {},
   "source": [
    "# Querying external database sources of interest\n",
    "\n",
    "* Enable users to integrate data from external databases of interest within BBP KG\n",
    "* While using the Nexus Forge interface and BMO vocabulary as much as possible as\n",
    "* While benefiting from out of the box (meta)data transformation to make them ready for BBP internal pipelines and applications\n",
    "* Demo with Mouselight, NeuroElectro, UniProt"
   ]
  },
  {
   "cell_type": "code",
   "execution_count": 1,
   "metadata": {
    "ExecuteTime": {
     "end_time": "2019-09-23T18:50:20.068658Z",
     "start_time": "2019-09-23T18:50:19.054054Z"
    }
   },
   "outputs": [],
   "source": [
    "import json\n",
    "\n",
    "from kgforge.core import KnowledgeGraphForge\n",
    "from kgforge.specializations.resources import Dataset"
   ]
  },
  {
   "cell_type": "code",
   "execution_count": 2,
   "metadata": {},
   "outputs": [],
   "source": [
    "endpoint = \"https://staging.nise.bbp.epfl.ch/nexus/v1\"\n",
    "BUCKET = \"neurosciencegraph/datamodels\"\n",
    "forge = KnowledgeGraphForge(\"../../configurations/database-sources/prod-nexus-sources_progress.yml\", endpoint=endpoint, bucket=BUCKET)"
   ]
  },
  {
   "cell_type": "markdown",
   "metadata": {},
   "source": [
    "# List of Data sources"
   ]
  },
  {
   "cell_type": "code",
   "execution_count": 3,
   "metadata": {},
   "outputs": [
    {
     "name": "stdout",
     "output_type": "stream",
     "text": [
      "Available Database sources:\n",
      "UniProt\n",
      "NeuroElectro\n",
      "MouseLight\n"
     ]
    }
   ],
   "source": [
    "forge.db_sources(pretty=True)"
   ]
  },
  {
   "cell_type": "code",
   "execution_count": 4,
   "metadata": {},
   "outputs": [],
   "source": [
    "sources = forge.db_sources()"
   ]
  },
  {
   "cell_type": "code",
   "execution_count": 5,
   "metadata": {},
   "outputs": [],
   "source": [
    "\n",
    "data = {\n",
    "       'origin': 'store',\n",
    "       'source': 'DemoStore',\n",
    "       'model': { \n",
    "          'name': 'DemoModel',\n",
    "          'origin': 'directory',\n",
    "          'source': \"../../../tests/data/demo-model/\" \n",
    "        }\n",
    "}\n"
   ]
  },
  {
   "cell_type": "code",
   "execution_count": 6,
   "metadata": {},
   "outputs": [],
   "source": [
    "from kgforge.specializations.databases import StoreDatabase\n",
    "ds = StoreDatabase(forge, name=\"DemoDB\", **data)"
   ]
  },
  {
   "cell_type": "code",
   "execution_count": 7,
   "metadata": {},
   "outputs": [],
   "source": [
    "forge.add_db_source(ds)"
   ]
  },
  {
   "cell_type": "code",
   "execution_count": 8,
   "metadata": {},
   "outputs": [
    {
     "name": "stdout",
     "output_type": "stream",
     "text": [
      "Available Database sources:\n",
      "UniProt\n",
      "NeuroElectro\n",
      "MouseLight\n",
      "DemoDB\n"
     ]
    }
   ],
   "source": [
    "forge.db_sources(pretty=True)"
   ]
  },
  {
   "cell_type": "markdown",
   "metadata": {},
   "source": [
    "# Data source metadata"
   ]
  },
  {
   "cell_type": "code",
   "execution_count": 9,
   "metadata": {},
   "outputs": [],
   "source": [
    "neuroelectro = sources['NeuroElectro']"
   ]
  },
  {
   "cell_type": "markdown",
   "metadata": {},
   "source": [
    "## Get data mappings (hold transformations logic) per data type\n",
    "\n",
    "* Data mappings are used to transform results obtained from the external data sources so that they are ready for consumption by BBP tools\n",
    "* Perform automatic ontology linking"
   ]
  },
  {
   "cell_type": "code",
   "execution_count": 10,
   "metadata": {},
   "outputs": [
    {
     "data": {
      "text/plain": [
       "{'ElectrophysiologicalFeatureAnnotation': ['DictionaryMapping'],\n",
       " 'ParameterAnnotation': ['DictionaryMapping'],\n",
       " 'ParameterBody': ['DictionaryMapping'],\n",
       " 'ScholarlyArticle': ['DictionaryMapping'],\n",
       " 'SeriesBody': ['DictionaryMapping']}"
      ]
     },
     "execution_count": 10,
     "metadata": {},
     "output_type": "execute_result"
    }
   ],
   "source": [
    "forge.mappings(\"NeuroElectro\")"
   ]
  },
  {
   "cell_type": "code",
   "execution_count": 11,
   "metadata": {},
   "outputs": [
    {
     "data": {
      "text/plain": [
       "{'Gene': ['DictionaryMapping'], 'Protein': ['DictionaryMapping']}"
      ]
     },
     "execution_count": 11,
     "metadata": {},
     "output_type": "execute_result"
    }
   ],
   "source": [
    "forge.mappings('UniProt')"
   ]
  },
  {
   "cell_type": "code",
   "execution_count": 12,
   "metadata": {},
   "outputs": [],
   "source": [
    "from kgforge.specializations.mappings import DictionaryMapping\n",
    "mapping = forge.mapping(\"ScholarlyArticle\", \"NeuroElectro\")\n",
    "direct_mapping = neuroelectro.mapping(\"ScholarlyArticle\", type=DictionaryMapping)"
   ]
  },
  {
   "cell_type": "code",
   "execution_count": 13,
   "metadata": {},
   "outputs": [
    {
     "name": "stdout",
     "output_type": "stream",
     "text": [
      "{\n",
      "    id: forge.format(\"identifier\", \"scholarlyarticles\", x.id)\n",
      "    type:\n",
      "    [\n",
      "        Entity\n",
      "        ScholarlyArticle\n",
      "    ]\n",
      "    abstract: x.abstract\n",
      "    author: x.authors_shaped\n",
      "    datePublished: x.date_issued\n",
      "    identifier: x.identifiers\n",
      "    isPartOf:\n",
      "    {\n",
      "        type: Periodical\n",
      "        issn: x.issn\n",
      "        name: x.journal\n",
      "        publisher: x.publisher\n",
      "    }\n",
      "    name: f\"article_{x.id}\"\n",
      "    sameAs: x.full_text_link\n",
      "    title: x.title\n",
      "    url: x.full_text_link\n",
      "}\n"
     ]
    }
   ],
   "source": [
    "print(mapping)"
   ]
  },
  {
   "cell_type": "code",
   "execution_count": 14,
   "metadata": {},
   "outputs": [
    {
     "name": "stdout",
     "output_type": "stream",
     "text": [
      "{\n",
      "    id: forge.format(\"identifier\", \"scholarlyarticles\", x.id)\n",
      "    type:\n",
      "    [\n",
      "        Entity\n",
      "        ScholarlyArticle\n",
      "    ]\n",
      "    abstract: x.abstract\n",
      "    author: x.authors_shaped\n",
      "    datePublished: x.date_issued\n",
      "    identifier: x.identifiers\n",
      "    isPartOf:\n",
      "    {\n",
      "        type: Periodical\n",
      "        issn: x.issn\n",
      "        name: x.journal\n",
      "        publisher: x.publisher\n",
      "    }\n",
      "    name: f\"article_{x.id}\"\n",
      "    sameAs: x.full_text_link\n",
      "    title: x.title\n",
      "    url: x.full_text_link\n",
      "}\n"
     ]
    }
   ],
   "source": [
    "print(direct_mapping)"
   ]
  },
  {
   "cell_type": "code",
   "execution_count": 15,
   "metadata": {},
   "outputs": [
    {
     "name": "stdout",
     "output_type": "stream",
     "text": [
      "Available Database sources:\n",
      "UniProt\n"
     ]
    }
   ],
   "source": [
    "forge.db_sources(mappings='Gene', pretty=True)"
   ]
  },
  {
   "cell_type": "markdown",
   "metadata": {},
   "source": [
    "# Search and Access data from data source\n",
    "\n",
    "* Mapping are automatically applied to search results\n",
    "* takes a mn for now => working on making it faster "
   ]
  },
  {
   "cell_type": "code",
   "execution_count": 16,
   "metadata": {},
   "outputs": [
    {
     "name": "stdout",
     "output_type": "stream",
     "text": [
      "Submitted query:\n",
      "   PREFIX bmc: <https://bbp.epfl.ch/ontologies/core/bmc/>\n",
      "   PREFIX bmo: <https://bbp.epfl.ch/ontologies/core/bmo/>\n",
      "   PREFIX commonshapes: <https://neuroshapes.org/commons/>\n",
      "   PREFIX datashapes: <https://neuroshapes.org/dash/>\n",
      "   PREFIX dc: <http://purl.org/dc/elements/1.1/>\n",
      "   PREFIX dcat: <http://www.w3.org/ns/dcat#>\n",
      "   PREFIX dcterms: <http://purl.org/dc/terms/>\n",
      "   PREFIX mba: <http://api.brain-map.org/api/v2/data/Structure/>\n",
      "   PREFIX nsg: <https://neuroshapes.org/>\n",
      "   PREFIX nxv: <https://bluebrain.github.io/nexus/vocabulary/>\n",
      "   PREFIX oa: <http://www.w3.org/ns/oa#>\n",
      "   PREFIX obo: <http://purl.obolibrary.org/obo/>\n",
      "   PREFIX owl: <http://www.w3.org/2002/07/owl#>\n",
      "   PREFIX prov: <http://www.w3.org/ns/prov#>\n",
      "   PREFIX rdf: <http://www.w3.org/1999/02/22-rdf-syntax-ns#>\n",
      "   PREFIX rdfs: <http://www.w3.org/2000/01/rdf-schema#>\n",
      "   PREFIX schema: <http://schema.org/>\n",
      "   PREFIX sh: <http://www.w3.org/ns/shacl#>\n",
      "   PREFIX shsh: <http://www.w3.org/ns/shacl-shacl#>\n",
      "   PREFIX skos: <http://www.w3.org/2004/02/skos/core#>\n",
      "   PREFIX vann: <http://purl.org/vocab/vann/>\n",
      "   PREFIX void: <http://rdfs.org/ns/void#>\n",
      "   PREFIX xml: <http://www.w3.org/XML/1998/namespace/>\n",
      "   PREFIX xsd: <http://www.w3.org/2001/XMLSchema#>\n",
      "   PREFIX : <https://bbp.neuroshapes.org/>\n",
      "   SELECT ?id ?_constrainedBy ?_createdAt ?_createdBy ?_deprecated ?_incoming ?_outgoing ?_project ?_rev ?_schemaProject ?_self ?_updatedAt ?_updatedBy WHERE { Graph ?g {?id rdf:type schema:ScholarlyArticle;\n",
      "    <https://bluebrain.github.io/nexus/vocabulary/constrainedBy> ?_constrainedBy;\n",
      "    <https://bluebrain.github.io/nexus/vocabulary/createdAt> ?_createdAt;\n",
      "    <https://bluebrain.github.io/nexus/vocabulary/createdBy> ?_createdBy;\n",
      "    <https://bluebrain.github.io/nexus/vocabulary/deprecated> ?_deprecated;\n",
      "    <https://bluebrain.github.io/nexus/vocabulary/incoming> ?_incoming;\n",
      "    <https://bluebrain.github.io/nexus/vocabulary/outgoing> ?_outgoing;\n",
      "    <https://bluebrain.github.io/nexus/vocabulary/project> ?_project;\n",
      "    <https://bluebrain.github.io/nexus/vocabulary/rev> ?_rev;\n",
      "    <https://bluebrain.github.io/nexus/vocabulary/schemaProject> ?_schemaProject;\n",
      "    <https://bluebrain.github.io/nexus/vocabulary/self> ?_self;\n",
      "    <https://bluebrain.github.io/nexus/vocabulary/updatedAt> ?_updatedAt;\n",
      "    <https://bluebrain.github.io/nexus/vocabulary/updatedBy> ?_updatedBy . \n",
      "    Filter (?_deprecated = 'false'^^xsd:boolean)\n",
      "   Filter (?_project = <https://staging.nise.bbp.epfl.ch/nexus/v1/projects/bbp/neuroelectro>)}}  LIMIT 2\n",
      "\n"
     ]
    }
   ],
   "source": [
    "filters = {\"type\":\"ScholarlyArticle\"}\n",
    "#map=True, use_cache=True, # download=True\n",
    "resources = forge.search(filters, db_source=\"NeuroElectro\", limit=2, debug=True) \n",
    "# Add function for checking datsource health => reqsuire health url from db\n"
   ]
  },
  {
   "cell_type": "code",
   "execution_count": 17,
   "metadata": {},
   "outputs": [
    {
     "data": {
      "text/plain": [
       "2"
      ]
     },
     "execution_count": 17,
     "metadata": {},
     "output_type": "execute_result"
    }
   ],
   "source": [
    "len(resources)"
   ]
  },
  {
   "cell_type": "code",
   "execution_count": 18,
   "metadata": {},
   "outputs": [
    {
     "name": "stdout",
     "output_type": "stream",
     "text": [
      "{\n",
      "    context: https://bbp.neuroshapes.org\n",
      "    id: https://bbp.epfl.ch/neurosciencegraph/data/scholarlyarticles/91941\n",
      "    type:\n",
      "    [\n",
      "        Entity\n",
      "        ScholarlyArticle\n",
      "    ]\n",
      "    abstract: Neurons in the medial septal/diagonal band complex (MS/DB) in vivo exhibit rhythmic burst-firing activity that is phase-locked with the hippocampal theta rhythm. The aim was to assess the morphology of local axon collaterals of electrophysiologically identified MS/DB neurons using intracellular recording and biocytin injection in vitro. Cells were classified according to previous criteria into slow-firing, fast-spiking, regular-spiking, and burst-firing neurons; previous work has suggested that the slow-firing neurons are cholinergic and that the other types are GABAergic. A novel finding was the existence of two types of burst-firing neuron. Type I burst-firing neurons had significantly longer duration after hyperpolarisation potentials when held at -60 mV, and at -75 mV, type I neurons exhibited a low-threshold spike with more rapid activation and inactivation kinetics than those of type II neurons. We have, also for the first time, described the main features of the local axon collaterals of the five neuron types. All filled neurons possessed a main axon that gave forth 1-12 local primary axon collaterals. All electrophysiological types, except for the type I burst-firing neuron, had a main axon that coursed toward the fornix. Myelination of the main axon was a prominent feature of all but the slow-firing neurons. Branching of the primary axon collaterals of the fast-spiking and type I burst-firing neurons was more extensive than that of the other cell types, with those of the slow-firing neurons exhibiting the least branching. All cell types possessed axon collaterals of the en passant type, and some in addition had twiglike or basketlike axon terminals. All cell types made synapses on distal dendrites; a proportion of the fast-spiking and burst-firing cells in addition had basketlike terminals that made synaptic contacts on proximal dendrites and on somata. Two morphological types of somata were postsynaptic to the basket cells: large (20-30-microm) oval cells with dark cytoplasm, and large oval cells with paler cytoplasm, often with an apical dendrite. The presence of lamellar bodies in the large dark neurons suggests that they may be cholinergic neurons, because previous work has localised these structures in some neurons that stain for choline acetyltransferase. Our work suggests therefore that there may be GABAergic neurons in the MS/DB that form basket synaptic contacts on at least two types of target cell, possibly cholinergic and GABAergic neurons, which means that the basket cells could play a key role in the generation of rhythmic activity in the MS/DB.\n",
      "    author:\n",
      "    [\n",
      "        {\n",
      "            type: Person\n",
      "            familyName: Henderson\n",
      "            givenName: Z\n",
      "        }\n",
      "        {\n",
      "            type: Person\n",
      "            familyName: Morris\n",
      "            givenName: N P\n",
      "        }\n",
      "        {\n",
      "            type: Person\n",
      "            familyName: Grimwood\n",
      "            givenName: P\n",
      "        }\n",
      "        {\n",
      "            type: Person\n",
      "            familyName: Fiddler\n",
      "            givenName: G\n",
      "        }\n",
      "        {\n",
      "            type: Person\n",
      "            familyName: Yang\n",
      "            givenName: H W\n",
      "        }\n",
      "        {\n",
      "            type: Person\n",
      "            familyName: Appenteng\n",
      "            givenName: K\n",
      "        }\n",
      "    ]\n",
      "    datePublished: 2001-2-12\n",
      "    identifier:\n",
      "    [\n",
      "        {\n",
      "            propertyID: PMID\n",
      "            value: 11169477\n",
      "        }\n",
      "        {\n",
      "            propertyID: doi\n",
      "            value: 10.1002/1096-9861(20010212)430:3<410::aid-cne1040>3.0.co;2-i\n",
      "        }\n",
      "    ]\n",
      "    isPartOf:\n",
      "    {\n",
      "        type: Periodical\n",
      "        issn: 0021-9967\n",
      "        name: The Journal of comparative neurology\n",
      "    }\n",
      "    name: article_91941\n",
      "    sameAs: http%3A%2F%2Fonlinelibrary.wiley.com%2Fdoi%2F10.1002%2F1096-9861%2820010212%29430%3A3%3C410%3A%3AAID-CNE1040%3E3.0.CO%3B2-I%2Fabstract%3Bjsessionid%3D1C9F6EE828E8DCFCF6E6F5CEA0D5DE57.f01t03\n",
      "    title: Morphology of local axon collaterals of electrophysiologically characterised neurons in the rat medial septal/ diagonal band complex.\n",
      "    url: http%3A%2F%2Fonlinelibrary.wiley.com%2Fdoi%2F10.1002%2F1096-9861%2820010212%29430%3A3%3C410%3A%3AAID-CNE1040%3E3.0.CO%3B2-I%2Fabstract%3Bjsessionid%3D1C9F6EE828E8DCFCF6E6F5CEA0D5DE57.f01t03\n",
      "}\n"
     ]
    }
   ],
   "source": [
    "print(resources[0])"
   ]
  },
  {
   "cell_type": "code",
   "execution_count": 19,
   "metadata": {},
   "outputs": [],
   "source": [
    "uquery = \"\"\"\n",
    "PREFIX up: <http://purl.uniprot.org/core/>\n",
    "SELECT ?protein\n",
    "WHERE {\n",
    "  ?protein a up:Protein ;\n",
    "  up:reviewed true.\n",
    "}\n",
    "\"\"\""
   ]
  },
  {
   "cell_type": "code",
   "execution_count": 20,
   "metadata": {},
   "outputs": [
    {
     "name": "stdout",
     "output_type": "stream",
     "text": [
      "Submitted query:\n",
      "   \n",
      "   PREFIX up: <http://purl.uniprot.org/core/>\n",
      "   SELECT ?protein\n",
      "   WHERE {\n",
      "     ?protein a up:Protein ;\n",
      "     up:reviewed true.\n",
      "   }\n",
      "     LIMIT 10\n",
      "\n"
     ]
    }
   ],
   "source": [
    "uresources = forge.sparql(query=uquery, db_source='UniProt', limit=10, debug=True)"
   ]
  },
  {
   "cell_type": "code",
   "execution_count": 21,
   "metadata": {},
   "outputs": [
    {
     "data": {
      "text/plain": [
       "10"
      ]
     },
     "execution_count": 21,
     "metadata": {},
     "output_type": "execute_result"
    }
   ],
   "source": [
    "len(uresources)"
   ]
  },
  {
   "cell_type": "code",
   "execution_count": 22,
   "metadata": {},
   "outputs": [
    {
     "data": {
      "text/plain": [
       "Resource(_last_action=None, _validated=False, _synchronized=False, _store_metadata=None, _inner_sync=False, protein='http://purl.uniprot.org/uniprot/A0B137')"
      ]
     },
     "execution_count": 22,
     "metadata": {},
     "output_type": "execute_result"
    }
   ],
   "source": [
    "uresources[0]"
   ]
  },
  {
   "cell_type": "code",
   "execution_count": 23,
   "metadata": {},
   "outputs": [],
   "source": [
    "uniprot = sources['UniProt']"
   ]
  },
  {
   "cell_type": "code",
   "execution_count": 24,
   "metadata": {},
   "outputs": [],
   "source": [
    "complete_query = \"\"\"\n",
    "PREFIX up: <http://purl.uniprot.org/core/>\n",
    "SELECT ?protein ?gene\n",
    "WHERE {\n",
    "  ?protein a up:Protein ;\n",
    "  up:reviewed true ;\n",
    "  up:encodedBy ?gene; .\n",
    "  ?gene prefLabel ?gene_label\n",
    "  \n",
    "}\n",
    "\"\"\""
   ]
  },
  {
   "cell_type": "code",
   "execution_count": 25,
   "metadata": {},
   "outputs": [],
   "source": [
    "from kgforge.core.wrappings.paths import Filter, FilterOperator"
   ]
  },
  {
   "cell_type": "code",
   "execution_count": 26,
   "metadata": {},
   "outputs": [
    {
     "name": "stdout",
     "output_type": "stream",
     "text": [
      "Submitted query:\n",
      "   PREFIX up: <http://purl.uniprot.org/core/>\n",
      "   PREFIX owl: <http://www.w3.org/2002/07/owl#>\n",
      "   PREFIX owl2xml: <http://www.w3.org/2006/12/owl2-xml#>\n",
      "   PREFIX swrlb: <http://www.w3.org/2003/11/swrlb#>\n",
      "   PREFIX protege: <http://protege.stanford.edu/plugins/owl/protege#>\n",
      "   PREFIX swrl: <http://www.w3.org/2003/11/swrl#>\n",
      "   PREFIX xsd: <http://www.w3.org/2001/XMLSchema#>\n",
      "   PREFIX skos: <http://www.w3.org/2004/02/skos/core#>\n",
      "   PREFIX rdfs: <http://www.w3.org/2000/01/rdf-schema#>\n",
      "   PREFIX dc11: <http://purl.org/dc/terms/>\n",
      "   PREFIX rdf: <http://www.w3.org/1999/02/22-rdf-syntax-ns#>\n",
      "   PREFIX foaf: <http://xmlns.com/foaf/0.1/>\n",
      "   SELECT ?id WHERE {?id rdf:type up:Protein;\n",
      "    up:reviewed ?v1 . \n",
      "    FILTER(?v1 = 'true'^^xsd:boolean)\n",
      "   }  LIMIT 10\n",
      "\n"
     ]
    }
   ],
   "source": [
    "\n",
    "\n",
    "proteins = forge.search({'type': 'Protein', 'up:reviewed': True}, db_source='UniProt', limit=10, debug=True)"
   ]
  },
  {
   "cell_type": "code",
   "execution_count": 27,
   "metadata": {},
   "outputs": [
    {
     "data": {
      "text/plain": [
       "Resource(_last_action=None, _validated=False, _synchronized=False, _store_metadata=None, id='http://purl.uniprot.org/uniprot/A0B137', _inner_sync=False)"
      ]
     },
     "execution_count": 27,
     "metadata": {},
     "output_type": "execute_result"
    }
   ],
   "source": [
    "proteins[0]"
   ]
  },
  {
   "cell_type": "code",
   "execution_count": 28,
   "metadata": {},
   "outputs": [],
   "source": [
    "uniprot = sources['UniProt']"
   ]
  },
  {
   "cell_type": "code",
   "execution_count": 29,
   "metadata": {},
   "outputs": [],
   "source": [
    "genes = forge.search({'type': 'Gene'}, db_source='UniProt', limit=10)"
   ]
  },
  {
   "cell_type": "code",
   "execution_count": 30,
   "metadata": {},
   "outputs": [
    {
     "data": {
      "text/plain": [
       "Resource(_last_action=None, _validated=False, _synchronized=False, _store_metadata=None, id='http://purl.uniprot.org/uniprot/A1KV59#gene-MD5C1D876E2DCF48FF8A37D8833A1B756B4', _inner_sync=False)"
      ]
     },
     "execution_count": 30,
     "metadata": {},
     "output_type": "execute_result"
    }
   ],
   "source": [
    "genes[0]"
   ]
  },
  {
   "cell_type": "markdown",
   "metadata": {},
   "source": [
    "# Save in BBP KG (Nexus)"
   ]
  },
  {
   "cell_type": "markdown",
   "metadata": {},
   "source": [
    "## Access"
   ]
  },
  {
   "cell_type": "markdown",
   "metadata": {},
   "source": [
    "### Set filters"
   ]
  },
  {
   "cell_type": "code",
   "execution_count": 31,
   "metadata": {},
   "outputs": [],
   "source": [
    "_type = \"NeuronMorphology\"\n",
    "filters = {\"type\": _type}"
   ]
  },
  {
   "cell_type": "markdown",
   "metadata": {},
   "source": [
    "### Run Query"
   ]
  },
  {
   "cell_type": "code",
   "execution_count": 33,
   "metadata": {},
   "outputs": [
    {
     "name": "stdout",
     "output_type": "stream",
     "text": [
      "10 dataset(s) of type NeuronMorphology found\n"
     ]
    }
   ],
   "source": [
    "limit = 10  # You can limit the number of results, pass `None` to fetch all the results\n",
    "\n",
    "data = forge.search(filters, db_source='MouseLight', limit=limit)\n",
    "\n",
    "print(f\"{str(len(data))} dataset(s) of type {_type} found\")"
   ]
  },
  {
   "cell_type": "markdown",
   "metadata": {},
   "source": [
    "### Display the results as pandas dataframe"
   ]
  },
  {
   "cell_type": "code",
   "execution_count": 34,
   "metadata": {},
   "outputs": [
    {
     "data": {
      "text/html": [
       "<div>\n",
       "<style scoped>\n",
       "    .dataframe tbody tr th:only-of-type {\n",
       "        vertical-align: middle;\n",
       "    }\n",
       "\n",
       "    .dataframe tbody tr th {\n",
       "        vertical-align: top;\n",
       "    }\n",
       "\n",
       "    .dataframe thead th {\n",
       "        text-align: right;\n",
       "    }\n",
       "</style>\n",
       "<table border=\"1\" class=\"dataframe\">\n",
       "  <thead>\n",
       "    <tr style=\"text-align: right;\">\n",
       "      <th></th>\n",
       "      <th>id</th>\n",
       "      <th>brainLocation.brainRegion.id</th>\n",
       "      <th>brainLocation.brainRegion.label</th>\n",
       "      <th>contribution.type</th>\n",
       "      <th>contribution.agent.id</th>\n",
       "      <th>contribution.agent.type</th>\n",
       "      <th>contribution.agent.label</th>\n",
       "      <th>distribution.contentUrl</th>\n",
       "      <th>distribution.encodingFormat</th>\n",
       "      <th>distribution.name</th>\n",
       "      <th>name</th>\n",
       "      <th>subject.type</th>\n",
       "      <th>subject.species.id</th>\n",
       "      <th>subject.species.label</th>\n",
       "      <th>subject.strain.label</th>\n",
       "    </tr>\n",
       "  </thead>\n",
       "  <tbody>\n",
       "    <tr>\n",
       "      <th>0</th>\n",
       "      <td>https://bbp.epfl.ch/neurosciencegraph/data/neu...</td>\n",
       "      <td>http://api.brain-map.org/api/v2/data/Structure...</td>\n",
       "      <td>Primary motor area Layer 5</td>\n",
       "      <td>Contribution</td>\n",
       "      <td>https://www.grid.ac/institutes/grid.443970.d</td>\n",
       "      <td>Organization</td>\n",
       "      <td>Janelia Research Campus</td>\n",
       "      <td>https://staging.nise.bbp.epfl.ch/nexus/v1/file...</td>\n",
       "      <td>application/swc</td>\n",
       "      <td>AA1050.swc</td>\n",
       "      <td>AA1050</td>\n",
       "      <td>Subject</td>\n",
       "      <td>http://purl.obolibrary.org/obo/NCBITaxon_10090</td>\n",
       "      <td>Mus musculus</td>\n",
       "      <td>Sim1-Cre</td>\n",
       "    </tr>\n",
       "    <tr>\n",
       "      <th>1</th>\n",
       "      <td>https://bbp.epfl.ch/neurosciencegraph/data/neu...</td>\n",
       "      <td>http://api.brain-map.org/api/v2/data/Structure...</td>\n",
       "      <td>Primary somatosensory area mouth layer 5</td>\n",
       "      <td>Contribution</td>\n",
       "      <td>https://www.grid.ac/institutes/grid.443970.d</td>\n",
       "      <td>Organization</td>\n",
       "      <td>Janelia Research Campus</td>\n",
       "      <td>https://staging.nise.bbp.epfl.ch/nexus/v1/file...</td>\n",
       "      <td>application/swc</td>\n",
       "      <td>AA1049.swc</td>\n",
       "      <td>AA1049</td>\n",
       "      <td>Subject</td>\n",
       "      <td>http://purl.obolibrary.org/obo/NCBITaxon_10090</td>\n",
       "      <td>Mus musculus</td>\n",
       "      <td>Sim1-Cre</td>\n",
       "    </tr>\n",
       "    <tr>\n",
       "      <th>2</th>\n",
       "      <td>https://bbp.epfl.ch/neurosciencegraph/data/neu...</td>\n",
       "      <td>http://api.brain-map.org/api/v2/data/Structure...</td>\n",
       "      <td>Retrosplenial area ventral part layer 5</td>\n",
       "      <td>Contribution</td>\n",
       "      <td>https://www.grid.ac/institutes/grid.443970.d</td>\n",
       "      <td>Organization</td>\n",
       "      <td>Janelia Research Campus</td>\n",
       "      <td>https://staging.nise.bbp.epfl.ch/nexus/v1/file...</td>\n",
       "      <td>application/swc</td>\n",
       "      <td>AA1045.swc</td>\n",
       "      <td>AA1045</td>\n",
       "      <td>Subject</td>\n",
       "      <td>http://purl.obolibrary.org/obo/NCBITaxon_10090</td>\n",
       "      <td>Mus musculus</td>\n",
       "      <td>Sim1-Cre</td>\n",
       "    </tr>\n",
       "    <tr>\n",
       "      <th>3</th>\n",
       "      <td>https://bbp.epfl.ch/neurosciencegraph/data/neu...</td>\n",
       "      <td>http://api.brain-map.org/api/v2/data/Structure...</td>\n",
       "      <td>Parafascicular nucleus</td>\n",
       "      <td>Contribution</td>\n",
       "      <td>https://www.grid.ac/institutes/grid.443970.d</td>\n",
       "      <td>Organization</td>\n",
       "      <td>Janelia Research Campus</td>\n",
       "      <td>https://staging.nise.bbp.epfl.ch/nexus/v1/file...</td>\n",
       "      <td>application/swc</td>\n",
       "      <td>AA1046.swc</td>\n",
       "      <td>AA1046</td>\n",
       "      <td>Subject</td>\n",
       "      <td>http://purl.obolibrary.org/obo/NCBITaxon_10090</td>\n",
       "      <td>Mus musculus</td>\n",
       "      <td>Sim1-Cre</td>\n",
       "    </tr>\n",
       "    <tr>\n",
       "      <th>4</th>\n",
       "      <td>https://bbp.epfl.ch/neurosciencegraph/data/neu...</td>\n",
       "      <td>http://api.brain-map.org/api/v2/data/Structure...</td>\n",
       "      <td>Medial mammillary nucleus</td>\n",
       "      <td>Contribution</td>\n",
       "      <td>https://www.grid.ac/institutes/grid.443970.d</td>\n",
       "      <td>Organization</td>\n",
       "      <td>Janelia Research Campus</td>\n",
       "      <td>https://staging.nise.bbp.epfl.ch/nexus/v1/file...</td>\n",
       "      <td>application/swc</td>\n",
       "      <td>AA1048.swc</td>\n",
       "      <td>AA1048</td>\n",
       "      <td>Subject</td>\n",
       "      <td>http://purl.obolibrary.org/obo/NCBITaxon_10090</td>\n",
       "      <td>Mus musculus</td>\n",
       "      <td>Sim1-Cre</td>\n",
       "    </tr>\n",
       "    <tr>\n",
       "      <th>5</th>\n",
       "      <td>https://bbp.epfl.ch/neurosciencegraph/data/neu...</td>\n",
       "      <td>http://api.brain-map.org/api/v2/data/Structure...</td>\n",
       "      <td>Primary somatosensory area mouth layer 5</td>\n",
       "      <td>Contribution</td>\n",
       "      <td>https://www.grid.ac/institutes/grid.443970.d</td>\n",
       "      <td>Organization</td>\n",
       "      <td>Janelia Research Campus</td>\n",
       "      <td>https://staging.nise.bbp.epfl.ch/nexus/v1/file...</td>\n",
       "      <td>application/swc</td>\n",
       "      <td>AA1051.swc</td>\n",
       "      <td>AA1051</td>\n",
       "      <td>Subject</td>\n",
       "      <td>http://purl.obolibrary.org/obo/NCBITaxon_10090</td>\n",
       "      <td>Mus musculus</td>\n",
       "      <td>Sim1-Cre</td>\n",
       "    </tr>\n",
       "    <tr>\n",
       "      <th>6</th>\n",
       "      <td>https://bbp.epfl.ch/neurosciencegraph/data/neu...</td>\n",
       "      <td>http://api.brain-map.org/api/v2/data/Structure...</td>\n",
       "      <td>Entorhinal area lateral part</td>\n",
       "      <td>Contribution</td>\n",
       "      <td>https://www.grid.ac/institutes/grid.443970.d</td>\n",
       "      <td>Organization</td>\n",
       "      <td>Janelia Research Campus</td>\n",
       "      <td>https://staging.nise.bbp.epfl.ch/nexus/v1/file...</td>\n",
       "      <td>application/swc</td>\n",
       "      <td>AA1047.swc</td>\n",
       "      <td>AA1047</td>\n",
       "      <td>Subject</td>\n",
       "      <td>http://purl.obolibrary.org/obo/NCBITaxon_10090</td>\n",
       "      <td>Mus musculus</td>\n",
       "      <td>Sim1-Cre</td>\n",
       "    </tr>\n",
       "    <tr>\n",
       "      <th>7</th>\n",
       "      <td>https://bbp.epfl.ch/neurosciencegraph/data/neu...</td>\n",
       "      <td>http://api.brain-map.org/api/v2/data/Structure...</td>\n",
       "      <td>Primary motor area Layer 6a</td>\n",
       "      <td>Contribution</td>\n",
       "      <td>https://www.grid.ac/institutes/grid.443970.d</td>\n",
       "      <td>Organization</td>\n",
       "      <td>Janelia Research Campus</td>\n",
       "      <td>https://staging.nise.bbp.epfl.ch/nexus/v1/file...</td>\n",
       "      <td>application/swc</td>\n",
       "      <td>AA1043.swc</td>\n",
       "      <td>AA1043</td>\n",
       "      <td>Subject</td>\n",
       "      <td>http://purl.obolibrary.org/obo/NCBITaxon_10090</td>\n",
       "      <td>Mus musculus</td>\n",
       "      <td>Sim1-Cre</td>\n",
       "    </tr>\n",
       "    <tr>\n",
       "      <th>8</th>\n",
       "      <td>https://bbp.epfl.ch/neurosciencegraph/data/neu...</td>\n",
       "      <td>http://api.brain-map.org/api/v2/data/Structure...</td>\n",
       "      <td>Medial mammillary nucleus</td>\n",
       "      <td>Contribution</td>\n",
       "      <td>https://www.grid.ac/institutes/grid.443970.d</td>\n",
       "      <td>Organization</td>\n",
       "      <td>Janelia Research Campus</td>\n",
       "      <td>https://staging.nise.bbp.epfl.ch/nexus/v1/file...</td>\n",
       "      <td>application/swc</td>\n",
       "      <td>AA1041.swc</td>\n",
       "      <td>AA1041</td>\n",
       "      <td>Subject</td>\n",
       "      <td>http://purl.obolibrary.org/obo/NCBITaxon_10090</td>\n",
       "      <td>Mus musculus</td>\n",
       "      <td>Sim1-Cre</td>\n",
       "    </tr>\n",
       "    <tr>\n",
       "      <th>9</th>\n",
       "      <td>https://bbp.epfl.ch/neurosciencegraph/data/neu...</td>\n",
       "      <td>http://api.brain-map.org/api/v2/data/Structure...</td>\n",
       "      <td>Medial mammillary nucleus</td>\n",
       "      <td>Contribution</td>\n",
       "      <td>https://www.grid.ac/institutes/grid.443970.d</td>\n",
       "      <td>Organization</td>\n",
       "      <td>Janelia Research Campus</td>\n",
       "      <td>https://staging.nise.bbp.epfl.ch/nexus/v1/file...</td>\n",
       "      <td>application/swc</td>\n",
       "      <td>AA1039.swc</td>\n",
       "      <td>AA1039</td>\n",
       "      <td>Subject</td>\n",
       "      <td>http://purl.obolibrary.org/obo/NCBITaxon_10090</td>\n",
       "      <td>Mus musculus</td>\n",
       "      <td>Sim1-Cre</td>\n",
       "    </tr>\n",
       "  </tbody>\n",
       "</table>\n",
       "</div>"
      ],
      "text/plain": [
       "                                                  id  \\\n",
       "0  https://bbp.epfl.ch/neurosciencegraph/data/neu...   \n",
       "1  https://bbp.epfl.ch/neurosciencegraph/data/neu...   \n",
       "2  https://bbp.epfl.ch/neurosciencegraph/data/neu...   \n",
       "3  https://bbp.epfl.ch/neurosciencegraph/data/neu...   \n",
       "4  https://bbp.epfl.ch/neurosciencegraph/data/neu...   \n",
       "5  https://bbp.epfl.ch/neurosciencegraph/data/neu...   \n",
       "6  https://bbp.epfl.ch/neurosciencegraph/data/neu...   \n",
       "7  https://bbp.epfl.ch/neurosciencegraph/data/neu...   \n",
       "8  https://bbp.epfl.ch/neurosciencegraph/data/neu...   \n",
       "9  https://bbp.epfl.ch/neurosciencegraph/data/neu...   \n",
       "\n",
       "                        brainLocation.brainRegion.id  \\\n",
       "0  http://api.brain-map.org/api/v2/data/Structure...   \n",
       "1  http://api.brain-map.org/api/v2/data/Structure...   \n",
       "2  http://api.brain-map.org/api/v2/data/Structure...   \n",
       "3  http://api.brain-map.org/api/v2/data/Structure...   \n",
       "4  http://api.brain-map.org/api/v2/data/Structure...   \n",
       "5  http://api.brain-map.org/api/v2/data/Structure...   \n",
       "6  http://api.brain-map.org/api/v2/data/Structure...   \n",
       "7  http://api.brain-map.org/api/v2/data/Structure...   \n",
       "8  http://api.brain-map.org/api/v2/data/Structure...   \n",
       "9  http://api.brain-map.org/api/v2/data/Structure...   \n",
       "\n",
       "            brainLocation.brainRegion.label contribution.type  \\\n",
       "0                Primary motor area Layer 5      Contribution   \n",
       "1  Primary somatosensory area mouth layer 5      Contribution   \n",
       "2   Retrosplenial area ventral part layer 5      Contribution   \n",
       "3                    Parafascicular nucleus      Contribution   \n",
       "4                 Medial mammillary nucleus      Contribution   \n",
       "5  Primary somatosensory area mouth layer 5      Contribution   \n",
       "6              Entorhinal area lateral part      Contribution   \n",
       "7               Primary motor area Layer 6a      Contribution   \n",
       "8                 Medial mammillary nucleus      Contribution   \n",
       "9                 Medial mammillary nucleus      Contribution   \n",
       "\n",
       "                          contribution.agent.id contribution.agent.type  \\\n",
       "0  https://www.grid.ac/institutes/grid.443970.d            Organization   \n",
       "1  https://www.grid.ac/institutes/grid.443970.d            Organization   \n",
       "2  https://www.grid.ac/institutes/grid.443970.d            Organization   \n",
       "3  https://www.grid.ac/institutes/grid.443970.d            Organization   \n",
       "4  https://www.grid.ac/institutes/grid.443970.d            Organization   \n",
       "5  https://www.grid.ac/institutes/grid.443970.d            Organization   \n",
       "6  https://www.grid.ac/institutes/grid.443970.d            Organization   \n",
       "7  https://www.grid.ac/institutes/grid.443970.d            Organization   \n",
       "8  https://www.grid.ac/institutes/grid.443970.d            Organization   \n",
       "9  https://www.grid.ac/institutes/grid.443970.d            Organization   \n",
       "\n",
       "  contribution.agent.label                            distribution.contentUrl  \\\n",
       "0  Janelia Research Campus  https://staging.nise.bbp.epfl.ch/nexus/v1/file...   \n",
       "1  Janelia Research Campus  https://staging.nise.bbp.epfl.ch/nexus/v1/file...   \n",
       "2  Janelia Research Campus  https://staging.nise.bbp.epfl.ch/nexus/v1/file...   \n",
       "3  Janelia Research Campus  https://staging.nise.bbp.epfl.ch/nexus/v1/file...   \n",
       "4  Janelia Research Campus  https://staging.nise.bbp.epfl.ch/nexus/v1/file...   \n",
       "5  Janelia Research Campus  https://staging.nise.bbp.epfl.ch/nexus/v1/file...   \n",
       "6  Janelia Research Campus  https://staging.nise.bbp.epfl.ch/nexus/v1/file...   \n",
       "7  Janelia Research Campus  https://staging.nise.bbp.epfl.ch/nexus/v1/file...   \n",
       "8  Janelia Research Campus  https://staging.nise.bbp.epfl.ch/nexus/v1/file...   \n",
       "9  Janelia Research Campus  https://staging.nise.bbp.epfl.ch/nexus/v1/file...   \n",
       "\n",
       "  distribution.encodingFormat distribution.name    name subject.type  \\\n",
       "0             application/swc        AA1050.swc  AA1050      Subject   \n",
       "1             application/swc        AA1049.swc  AA1049      Subject   \n",
       "2             application/swc        AA1045.swc  AA1045      Subject   \n",
       "3             application/swc        AA1046.swc  AA1046      Subject   \n",
       "4             application/swc        AA1048.swc  AA1048      Subject   \n",
       "5             application/swc        AA1051.swc  AA1051      Subject   \n",
       "6             application/swc        AA1047.swc  AA1047      Subject   \n",
       "7             application/swc        AA1043.swc  AA1043      Subject   \n",
       "8             application/swc        AA1041.swc  AA1041      Subject   \n",
       "9             application/swc        AA1039.swc  AA1039      Subject   \n",
       "\n",
       "                               subject.species.id subject.species.label  \\\n",
       "0  http://purl.obolibrary.org/obo/NCBITaxon_10090          Mus musculus   \n",
       "1  http://purl.obolibrary.org/obo/NCBITaxon_10090          Mus musculus   \n",
       "2  http://purl.obolibrary.org/obo/NCBITaxon_10090          Mus musculus   \n",
       "3  http://purl.obolibrary.org/obo/NCBITaxon_10090          Mus musculus   \n",
       "4  http://purl.obolibrary.org/obo/NCBITaxon_10090          Mus musculus   \n",
       "5  http://purl.obolibrary.org/obo/NCBITaxon_10090          Mus musculus   \n",
       "6  http://purl.obolibrary.org/obo/NCBITaxon_10090          Mus musculus   \n",
       "7  http://purl.obolibrary.org/obo/NCBITaxon_10090          Mus musculus   \n",
       "8  http://purl.obolibrary.org/obo/NCBITaxon_10090          Mus musculus   \n",
       "9  http://purl.obolibrary.org/obo/NCBITaxon_10090          Mus musculus   \n",
       "\n",
       "  subject.strain.label  \n",
       "0             Sim1-Cre  \n",
       "1             Sim1-Cre  \n",
       "2             Sim1-Cre  \n",
       "3             Sim1-Cre  \n",
       "4             Sim1-Cre  \n",
       "5             Sim1-Cre  \n",
       "6             Sim1-Cre  \n",
       "7             Sim1-Cre  \n",
       "8             Sim1-Cre  \n",
       "9             Sim1-Cre  "
      ]
     },
     "execution_count": 34,
     "metadata": {},
     "output_type": "execute_result"
    }
   ],
   "source": [
    "property_to_display = [\"id\",\"name\",\"subject\",\"brainLocation.brainRegion.id\",\"brainLocation.brainRegion.label\",\"brainLocation.layer.id\",\"brainLocation.layer.label\", \"contribution\",\"brainLocation.layer.id\",\"brainLocation.layer.label\",\"distribution.name\",\"distribution.contentUrl\",\"distribution.encodingFormat\"]\n",
    "reshaped_data = forge.reshape(data, keep=property_to_display)\n",
    "\n",
    "forge.as_dataframe(reshaped_data)"
   ]
  },
  {
   "cell_type": "code",
   "execution_count": null,
   "metadata": {},
   "outputs": [],
   "source": []
  }
 ],
 "metadata": {
  "kernelspec": {
   "display_name": "Python 3.7.13 ('kgforge')",
   "language": "python",
   "name": "python3"
  },
  "language_info": {
   "codemirror_mode": {
    "name": "ipython",
    "version": 3
   },
   "file_extension": ".py",
   "mimetype": "text/x-python",
   "name": "python",
   "nbconvert_exporter": "python",
   "pygments_lexer": "ipython3",
   "version": "3.7.13"
  },
  "vscode": {
   "interpreter": {
    "hash": "9ac393a5ddd595f2c78ea58b15bf8d269850a4413729cbea5c5fae9013762763"
   }
  }
 },
 "nbformat": 4,
 "nbformat_minor": 4
}

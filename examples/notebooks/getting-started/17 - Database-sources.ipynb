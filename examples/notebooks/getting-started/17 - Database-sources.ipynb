{
 "cells": [
  {
   "cell_type": "markdown",
   "metadata": {},
   "source": [
    "# Querying external database sources of interest\n",
    "\n",
    "* Enable users to integrate data from external databases of interest within BBP KG\n",
    "* While using the Nexus Forge interface and BMO vocabulary as much as possible as\n",
    "* While benefiting from out of the box (meta)data transformation to make them ready for BBP internal pipelines and applications\n",
    "* Demo with Mouselight, NeuroElectro, UniProt"
   ]
  },
  {
   "cell_type": "code",
   "execution_count": 1,
   "metadata": {
    "ExecuteTime": {
     "end_time": "2019-09-23T18:50:20.068658Z",
     "start_time": "2019-09-23T18:50:19.054054Z"
    }
   },
   "outputs": [],
   "source": [
    "import json\n",
    "\n",
    "from kgforge.core import KnowledgeGraphForge\n",
    "from kgforge.specializations.resources import Dataset"
   ]
  },
  {
   "cell_type": "code",
   "execution_count": 2,
   "metadata": {},
   "outputs": [],
   "source": [
    "endpoint = \"https://staging.nise.bbp.epfl.ch/nexus/v1\"\n",
    "BUCKET = \"neurosciencegraph/datamodels\"\n",
    "forge = KnowledgeGraphForge(\"../../configurations/database-sources/prod-nexus-sources_progress.yml\", endpoint=endpoint, bucket=BUCKET)"
   ]
  },
  {
   "cell_type": "markdown",
   "metadata": {},
   "source": [
    "# List of Data sources"
   ]
  },
  {
   "cell_type": "code",
   "execution_count": 3,
   "metadata": {},
   "outputs": [
    {
     "name": "stdout",
     "output_type": "stream",
     "text": [
      "Available Database sources:\n",
      "UniProt\n",
      "NeuroElectro\n",
      "MouseLight\n"
     ]
    }
   ],
   "source": [
    "forge.db_sources(pretty=True)"
   ]
  },
  {
   "cell_type": "code",
   "execution_count": 4,
   "metadata": {},
   "outputs": [],
   "source": [
    "sources = forge.db_sources()"
   ]
  },
  {
   "cell_type": "code",
   "execution_count": 5,
   "metadata": {},
   "outputs": [],
   "source": [
    "\n",
    "data = {\n",
    "       'origin': 'store',\n",
    "       'source': 'DemoStore',\n",
    "       'model': { \n",
    "          'name': 'DemoModel',\n",
    "          'origin': 'directory',\n",
    "          'source': \"../../../tests/data/demo-model/\" \n",
    "        }\n",
    "}\n"
   ]
  },
  {
   "cell_type": "code",
   "execution_count": 6,
   "metadata": {},
   "outputs": [],
   "source": [
    "from kgforge.specializations.databases import StoreDatabase\n",
    "ds = StoreDatabase(forge, name=\"DemoDB\", **data)"
   ]
  },
  {
   "cell_type": "code",
   "execution_count": 7,
   "metadata": {},
   "outputs": [],
   "source": [
    "forge.add_db_source(ds)"
   ]
  },
  {
   "cell_type": "code",
   "execution_count": 8,
   "metadata": {},
   "outputs": [
    {
     "name": "stdout",
     "output_type": "stream",
     "text": [
      "Available Database sources:\n",
      "UniProt\n",
      "NeuroElectro\n",
      "MouseLight\n",
      "DemoDB\n"
     ]
    }
   ],
   "source": [
    "forge.db_sources(pretty=True)"
   ]
  },
  {
   "cell_type": "markdown",
   "metadata": {},
   "source": [
    "# Data source metadata"
   ]
  },
  {
   "cell_type": "code",
   "execution_count": 9,
   "metadata": {},
   "outputs": [],
   "source": [
    "neuroelectro = sources['NeuroElectro']"
   ]
  },
  {
   "cell_type": "markdown",
   "metadata": {},
   "source": [
    "## Get data mappings (hold transformations logic) per data type\n",
    "\n",
    "* Data mappings are used to transform results obtained from the external data sources so that they are ready for consumption by BBP tools\n",
    "* Perform automatic ontology linking"
   ]
  },
  {
   "cell_type": "code",
   "execution_count": 10,
   "metadata": {},
   "outputs": [
    {
     "data": {
      "text/plain": [
       "{'ElectrophysiologicalFeatureAnnotation': ['DictionaryMapping'],\n",
       " 'ParameterAnnotation': ['DictionaryMapping'],\n",
       " 'ParameterBody': ['DictionaryMapping'],\n",
       " 'ScholarlyArticle': ['DictionaryMapping'],\n",
       " 'SeriesBody': ['DictionaryMapping']}"
      ]
     },
     "execution_count": 10,
     "metadata": {},
     "output_type": "execute_result"
    }
   ],
   "source": [
    "forge.mappings(\"NeuroElectro\")"
   ]
  },
  {
   "cell_type": "code",
   "execution_count": 11,
   "metadata": {},
   "outputs": [
    {
     "data": {
      "text/plain": [
       "{'Gene': ['DictionaryMapping'], 'Protein': ['DictionaryMapping']}"
      ]
     },
     "execution_count": 11,
     "metadata": {},
     "output_type": "execute_result"
    }
   ],
   "source": [
    "forge.mappings('UniProt')"
   ]
  },
  {
   "cell_type": "code",
   "execution_count": 12,
   "metadata": {},
   "outputs": [],
   "source": [
    "from kgforge.specializations.mappings import DictionaryMapping\n",
    "mapping = forge.mapping(\"ScholarlyArticle\", \"NeuroElectro\")\n",
    "direct_mapping = neuroelectro.mapping(\"ScholarlyArticle\", type=DictionaryMapping)"
   ]
  },
  {
   "cell_type": "code",
   "execution_count": 13,
   "metadata": {},
   "outputs": [
    {
     "name": "stdout",
     "output_type": "stream",
     "text": [
      "{\n",
      "    id: forge.format(\"identifier\", \"scholarlyarticles\", x.id)\n",
      "    type:\n",
      "    [\n",
      "        Entity\n",
      "        ScholarlyArticle\n",
      "    ]\n",
      "    abstract: x.abstract\n",
      "    author: x.authors_shaped\n",
      "    datePublished: x.date_issued\n",
      "    identifier: x.identifiers\n",
      "    isPartOf:\n",
      "    {\n",
      "        type: Periodical\n",
      "        issn: x.issn\n",
      "        name: x.journal\n",
      "        publisher: x.publisher\n",
      "    }\n",
      "    name: f\"article_{x.id}\"\n",
      "    sameAs: x.full_text_link\n",
      "    title: x.title\n",
      "    url: x.full_text_link\n",
      "}\n"
     ]
    }
   ],
   "source": [
    "print(mapping)"
   ]
  },
  {
   "cell_type": "code",
   "execution_count": 14,
   "metadata": {},
   "outputs": [
    {
     "name": "stdout",
     "output_type": "stream",
     "text": [
      "{\n",
      "    id: forge.format(\"identifier\", \"scholarlyarticles\", x.id)\n",
      "    type:\n",
      "    [\n",
      "        Entity\n",
      "        ScholarlyArticle\n",
      "    ]\n",
      "    abstract: x.abstract\n",
      "    author: x.authors_shaped\n",
      "    datePublished: x.date_issued\n",
      "    identifier: x.identifiers\n",
      "    isPartOf:\n",
      "    {\n",
      "        type: Periodical\n",
      "        issn: x.issn\n",
      "        name: x.journal\n",
      "        publisher: x.publisher\n",
      "    }\n",
      "    name: f\"article_{x.id}\"\n",
      "    sameAs: x.full_text_link\n",
      "    title: x.title\n",
      "    url: x.full_text_link\n",
      "}\n"
     ]
    }
   ],
   "source": [
    "print(direct_mapping)"
   ]
  },
  {
   "cell_type": "code",
   "execution_count": 15,
   "metadata": {},
   "outputs": [
    {
     "name": "stdout",
     "output_type": "stream",
     "text": [
      "Available Database sources:\n",
      "UniProt\n"
     ]
    }
   ],
   "source": [
    "forge.db_sources(mappings='Gene', pretty=True)"
   ]
  },
  {
   "cell_type": "markdown",
   "metadata": {},
   "source": [
    "# Search and Access data from data source\n",
    "\n",
    "* Mapping are automatically applied to search results\n",
    "* takes a mn for now => working on making it faster "
   ]
  },
  {
   "cell_type": "code",
   "execution_count": 16,
   "metadata": {},
   "outputs": [
    {
     "name": "stdout",
     "output_type": "stream",
     "text": [
      "Submitted query:\n",
      "   PREFIX bmc: <https://bbp.epfl.ch/ontologies/core/bmc/>\n",
      "   PREFIX bmo: <https://bbp.epfl.ch/ontologies/core/bmo/>\n",
      "   PREFIX commonshapes: <https://neuroshapes.org/commons/>\n",
      "   PREFIX datashapes: <https://neuroshapes.org/dash/>\n",
      "   PREFIX dc: <http://purl.org/dc/elements/1.1/>\n",
      "   PREFIX dcat: <http://www.w3.org/ns/dcat#>\n",
      "   PREFIX dcterms: <http://purl.org/dc/terms/>\n",
      "   PREFIX mba: <http://api.brain-map.org/api/v2/data/Structure/>\n",
      "   PREFIX nsg: <https://neuroshapes.org/>\n",
      "   PREFIX nxv: <https://bluebrain.github.io/nexus/vocabulary/>\n",
      "   PREFIX oa: <http://www.w3.org/ns/oa#>\n",
      "   PREFIX obo: <http://purl.obolibrary.org/obo/>\n",
      "   PREFIX owl: <http://www.w3.org/2002/07/owl#>\n",
      "   PREFIX prov: <http://www.w3.org/ns/prov#>\n",
      "   PREFIX rdf: <http://www.w3.org/1999/02/22-rdf-syntax-ns#>\n",
      "   PREFIX rdfs: <http://www.w3.org/2000/01/rdf-schema#>\n",
      "   PREFIX schema: <http://schema.org/>\n",
      "   PREFIX sh: <http://www.w3.org/ns/shacl#>\n",
      "   PREFIX shsh: <http://www.w3.org/ns/shacl-shacl#>\n",
      "   PREFIX skos: <http://www.w3.org/2004/02/skos/core#>\n",
      "   PREFIX vann: <http://purl.org/vocab/vann/>\n",
      "   PREFIX void: <http://rdfs.org/ns/void#>\n",
      "   PREFIX xml: <http://www.w3.org/XML/1998/namespace/>\n",
      "   PREFIX xsd: <http://www.w3.org/2001/XMLSchema#>\n",
      "   PREFIX : <https://bbp.neuroshapes.org/>\n",
      "   SELECT ?id ?_constrainedBy ?_createdAt ?_createdBy ?_deprecated ?_incoming ?_outgoing ?_project ?_rev ?_schemaProject ?_self ?_updatedAt ?_updatedBy WHERE { Graph ?g {?id rdf:type schema:ScholarlyArticle;\n",
      "    <https://bluebrain.github.io/nexus/vocabulary/constrainedBy> ?_constrainedBy;\n",
      "    <https://bluebrain.github.io/nexus/vocabulary/createdAt> ?_createdAt;\n",
      "    <https://bluebrain.github.io/nexus/vocabulary/createdBy> ?_createdBy;\n",
      "    <https://bluebrain.github.io/nexus/vocabulary/deprecated> ?_deprecated;\n",
      "    <https://bluebrain.github.io/nexus/vocabulary/incoming> ?_incoming;\n",
      "    <https://bluebrain.github.io/nexus/vocabulary/outgoing> ?_outgoing;\n",
      "    <https://bluebrain.github.io/nexus/vocabulary/project> ?_project;\n",
      "    <https://bluebrain.github.io/nexus/vocabulary/rev> ?_rev;\n",
      "    <https://bluebrain.github.io/nexus/vocabulary/schemaProject> ?_schemaProject;\n",
      "    <https://bluebrain.github.io/nexus/vocabulary/self> ?_self;\n",
      "    <https://bluebrain.github.io/nexus/vocabulary/updatedAt> ?_updatedAt;\n",
      "    <https://bluebrain.github.io/nexus/vocabulary/updatedBy> ?_updatedBy . \n",
      "    Filter (?_deprecated = 'false'^^xsd:boolean)\n",
      "   Filter (?_project = <https://staging.nise.bbp.epfl.ch/nexus/v1/projects/bbp/neuroelectro>)}}  LIMIT 2\n",
      "\n"
     ]
    }
   ],
   "source": [
    "filters = {\"type\":\"ScholarlyArticle\"}\n",
    "#map=True, use_cache=True, # download=True\n",
    "resources = forge.search(filters, db_source=\"NeuroElectro\", limit=2, debug=True) \n",
    "# Add function for checking datsource health => reqsuire health url from db\n"
   ]
  },
  {
   "cell_type": "code",
   "execution_count": 17,
   "metadata": {},
   "outputs": [
    {
     "data": {
      "text/plain": [
       "2"
      ]
     },
     "execution_count": 17,
     "metadata": {},
     "output_type": "execute_result"
    }
   ],
   "source": [
    "len(resources)"
   ]
  },
  {
   "cell_type": "code",
   "execution_count": 18,
   "metadata": {},
   "outputs": [
    {
     "name": "stdout",
     "output_type": "stream",
     "text": [
      "{\n",
      "    context: https://bbp.neuroshapes.org\n",
      "    id: https://bbp.epfl.ch/neurosciencegraph/data/scholarlyarticles/72136\n",
      "    type:\n",
      "    [\n",
      "        Entity\n",
      "        ScholarlyArticle\n",
      "    ]\n",
      "    abstract: We investigated the effects of muscarinic acetylcholine receptor (mAChR) activation on GABAergic synaptic transmission in rat hippocampal neurons. Current-clamp recordings revealed that methacholine produced membrane depolarization and action potential firing. Methacholine augmented the bicuculline-sensitive and GABA(A) -mediated frequency of spontaneous inhibitory postsynaptic currents (sIPSCs); the action of methacholine had a slow onset and longer duration. The increase in methacholine-evoked sIPSCs was completely inhibited by atropine and was insensitive to glutamatergic receptor blockers. Interestingly, methacholine action was not inhibited by intracellular perfusion with GDP-β-S, suggesting that muscarinic effects on membrane excitability and sIPSC frequency are mainly presynaptic. McN-A-343 and pirenzepine, selective agonist and antagonist of the m1 mAChR subtype, respectively, neither enhanced sIPSCs nor inhibited the methacholine effect. However, the m3-m5 mAChR antagonist 4-DAMP, and the m2-m4 mAChR antagonist himbacine inhibited the methacholine effect. U73122, an IP(3) production inhibitor, and 2APB, an IP(3) receptor blocker, drastically decreased the methacholine effect. Recording of miniature events revealed that besides the effect exerted by methacholine on membrane firing properties and sIPSC frequency, muscarinic receptors also enhanced the frequency of mIPSCs with no effect on their amplitude, possibly modulating the molecular machinery subserving vesicle docking and fusion and suggesting a tight colocalization at the active zone of the presynaptic terminals. These data strongly suggest that by activating presynaptic m2, m3, m4 and m5 mAChRs, methacholine can increase membrane excitability and enhance efficiency in the GABA release machinery, perhaps through a mechanism involving the release of calcium from the endoplasmic reticulum.\n",
      "    author:\n",
      "    [\n",
      "        {\n",
      "            type: Person\n",
      "            familyName: González\n",
      "            givenName: J C\n",
      "        }\n",
      "        {\n",
      "            type: Person\n",
      "            familyName: Albiñana\n",
      "            givenName: E\n",
      "        }\n",
      "        {\n",
      "            type: Person\n",
      "            familyName: Baldelli\n",
      "            givenName: P\n",
      "        }\n",
      "        {\n",
      "            type: Person\n",
      "            familyName: García\n",
      "            givenName: A G\n",
      "        }\n",
      "        {\n",
      "            type: Person\n",
      "            familyName: Hernández-Guijo\n",
      "            givenName: J M\n",
      "        }\n",
      "    ]\n",
      "    datePublished: 2011-1\n",
      "    identifier:\n",
      "    [\n",
      "        {\n",
      "            propertyID: PMID\n",
      "            value: 21091801\n",
      "        }\n",
      "    ]\n",
      "    isPartOf:\n",
      "    {\n",
      "        type: Periodical\n",
      "        issn: 0953-816X\n",
      "        name: The European journal of neuroscience\n",
      "    }\n",
      "    name: article_72136\n",
      "    sameAs: http://onlinelibrary.wiley.com/doi/10.1111/j.1460-9568.2010.07475.x/abstract;jsessionid=E294450D87316113388F9E234F3F8A39.d02t01\n",
      "    title: Presynaptic muscarinic receptor subtypes involved in the enhancement of spontaneous GABAergic postsynaptic currents in hippocampal neurons.\n",
      "    url: http://onlinelibrary.wiley.com/doi/10.1111/j.1460-9568.2010.07475.x/abstract;jsessionid=E294450D87316113388F9E234F3F8A39.d02t01\n",
      "}\n"
     ]
    }
   ],
   "source": [
    "print(resources[0])"
   ]
  },
  {
   "cell_type": "code",
   "execution_count": 19,
   "metadata": {},
   "outputs": [],
   "source": [
    "uquery = \"\"\"\n",
    "PREFIX up: <http://purl.uniprot.org/core/>\n",
    "SELECT ?protein\n",
    "WHERE {\n",
    "  ?protein a up:Protein ;\n",
    "  up:reviewed true.\n",
    "}\n",
    "\"\"\""
   ]
  },
  {
   "cell_type": "code",
   "execution_count": 20,
   "metadata": {},
   "outputs": [
    {
     "name": "stdout",
     "output_type": "stream",
     "text": [
      "Submitted query:\n",
      "   \n",
      "   PREFIX up: <http://purl.uniprot.org/core/>\n",
      "   SELECT ?protein\n",
      "   WHERE {\n",
      "     ?protein a up:Protein ;\n",
      "     up:reviewed true.\n",
      "   }\n",
      "     LIMIT 10\n",
      "\n"
     ]
    }
   ],
   "source": [
    "uresources = forge.sparql(query=uquery, db_source='UniProt', limit=10, debug=True)"
   ]
  },
  {
   "cell_type": "code",
   "execution_count": 21,
   "metadata": {},
   "outputs": [
    {
     "data": {
      "text/plain": [
       "10"
      ]
     },
     "execution_count": 21,
     "metadata": {},
     "output_type": "execute_result"
    }
   ],
   "source": [
    "len(uresources)"
   ]
  },
  {
   "cell_type": "code",
   "execution_count": 22,
   "metadata": {},
   "outputs": [
    {
     "data": {
      "text/plain": [
       "Resource(_last_action=None, _validated=False, _synchronized=False, _store_metadata=None, _inner_sync=False, protein='http://purl.uniprot.org/uniprot/A0B137')"
      ]
     },
     "execution_count": 22,
     "metadata": {},
     "output_type": "execute_result"
    }
   ],
   "source": [
    "uresources[0]"
   ]
  },
  {
   "cell_type": "markdown",
   "metadata": {},
   "source": [
    "## Use Filters to search"
   ]
  },
  {
   "cell_type": "code",
   "execution_count": 23,
   "metadata": {},
   "outputs": [],
   "source": [
    "from kgforge.core.wrappings.paths import Filter, FilterOperator"
   ]
  },
  {
   "cell_type": "code",
   "execution_count": 24,
   "metadata": {},
   "outputs": [
    {
     "name": "stdout",
     "output_type": "stream",
     "text": [
      "Submitted query:\n",
      "   PREFIX up: <http://purl.uniprot.org/core/>\n",
      "   PREFIX owl: <http://www.w3.org/2002/07/owl#>\n",
      "   PREFIX owl2xml: <http://www.w3.org/2006/12/owl2-xml#>\n",
      "   PREFIX swrlb: <http://www.w3.org/2003/11/swrlb#>\n",
      "   PREFIX protege: <http://protege.stanford.edu/plugins/owl/protege#>\n",
      "   PREFIX swrl: <http://www.w3.org/2003/11/swrl#>\n",
      "   PREFIX xsd: <http://www.w3.org/2001/XMLSchema#>\n",
      "   PREFIX skos: <http://www.w3.org/2004/02/skos/core#>\n",
      "   PREFIX rdfs: <http://www.w3.org/2000/01/rdf-schema#>\n",
      "   PREFIX dc11: <http://purl.org/dc/terms/>\n",
      "   PREFIX rdf: <http://www.w3.org/1999/02/22-rdf-syntax-ns#>\n",
      "   PREFIX foaf: <http://xmlns.com/foaf/0.1/>\n",
      "   SELECT ?id WHERE {?id rdf:type up:Protein;\n",
      "    up:reviewed ?v1 . \n",
      "    FILTER(?v1 = 'true'^^xsd:boolean)\n",
      "   }  LIMIT 10\n",
      "\n"
     ]
    }
   ],
   "source": [
    "\n",
    "proteins = forge.search({'type': 'Protein', 'up:reviewed': True}, db_source='UniProt', limit=10, debug=True)"
   ]
  },
  {
   "cell_type": "code",
   "execution_count": 25,
   "metadata": {},
   "outputs": [
    {
     "data": {
      "text/plain": [
       "Resource(_last_action=None, _validated=False, _synchronized=False, _store_metadata=None, id='http://purl.uniprot.org/uniprot/A0B137', _inner_sync=False)"
      ]
     },
     "execution_count": 25,
     "metadata": {},
     "output_type": "execute_result"
    }
   ],
   "source": [
    "proteins[0]"
   ]
  },
  {
   "cell_type": "markdown",
   "metadata": {},
   "source": [
    "# Map resources"
   ]
  },
  {
   "cell_type": "code",
   "execution_count": 26,
   "metadata": {},
   "outputs": [],
   "source": [
    "uniprot = sources['UniProt']"
   ]
  },
  {
   "cell_type": "code",
   "execution_count": 27,
   "metadata": {},
   "outputs": [],
   "source": [
    "complete_query = \"\"\"\n",
    "PREFIX up: <http://purl.uniprot.org/core/>\n",
    "SELECT ?id ?gene ?label ?subject ?gene_label\n",
    "WHERE {\n",
    "  ?id a up:Protein ;\n",
    "  up:reviewed true ;\n",
    "  up:encodedBy ?gene ;\n",
    "  up:recommendedName / up:fullName ?label ;\n",
    "  up:organism / up:scientificName ?subject .\n",
    "  ?gene skos:prefLabel ?gene_label . \n",
    "}\n",
    "\"\"\""
   ]
  },
  {
   "cell_type": "code",
   "execution_count": 28,
   "metadata": {},
   "outputs": [],
   "source": [
    "raw_proteins = uniprot.sparql(complete_query)"
   ]
  },
  {
   "cell_type": "code",
   "execution_count": 30,
   "metadata": {},
   "outputs": [],
   "source": [
    "new_resource = uniprot.map_resources(raw_proteins[0], 'Protein')"
   ]
  },
  {
   "cell_type": "code",
   "execution_count": 31,
   "metadata": {},
   "outputs": [
    {
     "name": "stdout",
     "output_type": "stream",
     "text": [
      "[\n",
      "    {\n",
      "        \"@context\": \"https://bbp.neuroshapes.org\",\n",
      "        \"@id\": \"https://bbp.epfl.ch/neurosciencegraph/data/proteins/P0DJN9\",\n",
      "        \"@type\": [\n",
      "            \"Entity\",\n",
      "            \"Protein\"\n",
      "        ],\n",
      "        \"encodedBy\": {\n",
      "            \"@id\": \"http://purl.uniprot.org/uniprot/P0DJN9#gene-MD5A00DD99270221B359AB0AE338E423668\",\n",
      "            \"label\": \"acsF\"\n",
      "        },\n",
      "        \"identifier\": {\n",
      "            \"propertyID\": \"UniProtKB\",\n",
      "            \"value\": \"P0DJN9\"\n",
      "        },\n",
      "        \"name\": \"Protein P0DJN9 from UniProtKB\",\n",
      "        \"label\": \"Aerobic magnesium-protoporphyrin IX monomethyl ester [oxidative] cyclase\",\n",
      "        \"subject\": {\n",
      "            \"label\": \"Rubrivivax gelatinosus\"\n",
      "        }\n",
      "    }\n",
      "]\n"
     ]
    }
   ],
   "source": [
    "\n",
    "print(json.dumps(forge.as_jsonld(new_resource), indent=4))"
   ]
  },
  {
   "cell_type": "markdown",
   "metadata": {},
   "source": [
    "# Save in BBP KG (Nexus)"
   ]
  },
  {
   "cell_type": "markdown",
   "metadata": {},
   "source": [
    "## Access"
   ]
  },
  {
   "cell_type": "markdown",
   "metadata": {},
   "source": [
    "### Set filters"
   ]
  },
  {
   "cell_type": "code",
   "execution_count": 32,
   "metadata": {},
   "outputs": [],
   "source": [
    "_type = \"NeuronMorphology\"\n",
    "filters = {\"type\": _type}"
   ]
  },
  {
   "cell_type": "markdown",
   "metadata": {},
   "source": [
    "### Run Query"
   ]
  },
  {
   "cell_type": "code",
   "execution_count": 33,
   "metadata": {},
   "outputs": [
    {
     "name": "stdout",
     "output_type": "stream",
     "text": [
      "10 dataset(s) of type NeuronMorphology found\n"
     ]
    }
   ],
   "source": [
    "limit = 10  # You can limit the number of results, pass `None` to fetch all the results\n",
    "\n",
    "data = forge.search(filters, db_source='MouseLight', limit=limit)\n",
    "\n",
    "print(f\"{str(len(data))} dataset(s) of type {_type} found\")"
   ]
  },
  {
   "cell_type": "markdown",
   "metadata": {},
   "source": [
    "### Display the results as pandas dataframe"
   ]
  },
  {
   "cell_type": "code",
   "execution_count": 34,
   "metadata": {},
   "outputs": [
    {
     "data": {
      "text/html": [
       "<div>\n",
       "<style scoped>\n",
       "    .dataframe tbody tr th:only-of-type {\n",
       "        vertical-align: middle;\n",
       "    }\n",
       "\n",
       "    .dataframe tbody tr th {\n",
       "        vertical-align: top;\n",
       "    }\n",
       "\n",
       "    .dataframe thead th {\n",
       "        text-align: right;\n",
       "    }\n",
       "</style>\n",
       "<table border=\"1\" class=\"dataframe\">\n",
       "  <thead>\n",
       "    <tr style=\"text-align: right;\">\n",
       "      <th></th>\n",
       "      <th>id</th>\n",
       "      <th>brainLocation.brainRegion.id</th>\n",
       "      <th>brainLocation.brainRegion.label</th>\n",
       "      <th>brainLocation.layer</th>\n",
       "      <th>contribution.type</th>\n",
       "      <th>contribution.agent.id</th>\n",
       "      <th>contribution.agent.type</th>\n",
       "      <th>distribution.contentUrl</th>\n",
       "      <th>distribution.encodingFormat</th>\n",
       "      <th>distribution.name</th>\n",
       "      <th>name</th>\n",
       "      <th>subject.id</th>\n",
       "      <th>subject.type</th>\n",
       "    </tr>\n",
       "  </thead>\n",
       "  <tbody>\n",
       "    <tr>\n",
       "      <th>0</th>\n",
       "      <td>https://bbp.epfl.ch/neurosciencegraph/data/neu...</td>\n",
       "      <td>http://api.brain-map.org/api/v2/data/Structure...</td>\n",
       "      <td>VISp5</td>\n",
       "      <td>5</td>\n",
       "      <td>Contribution</td>\n",
       "      <td>https://www.grid.ac/institutes/grid.417881.3</td>\n",
       "      <td>Organization</td>\n",
       "      <td>https://staging.nexus.ocp.bbp.epfl.ch/v1/files...</td>\n",
       "      <td>application/swc</td>\n",
       "      <td>reconstruction.swc</td>\n",
       "      <td>Htr3a-Cre_NO152;Ai14-314467.03.02.01</td>\n",
       "      <td>https://bbp.epfl.ch/neurosciencegraph/data/sub...</td>\n",
       "      <td>Subject</td>\n",
       "    </tr>\n",
       "    <tr>\n",
       "      <th>1</th>\n",
       "      <td>https://bbp.epfl.ch/neurosciencegraph/data/neu...</td>\n",
       "      <td>http://api.brain-map.org/api/v2/data/Structure...</td>\n",
       "      <td>VISp5</td>\n",
       "      <td>5</td>\n",
       "      <td>Contribution</td>\n",
       "      <td>https://www.grid.ac/institutes/grid.417881.3</td>\n",
       "      <td>Organization</td>\n",
       "      <td>https://staging.nexus.ocp.bbp.epfl.ch/v1/files...</td>\n",
       "      <td>application/swc</td>\n",
       "      <td>reconstruction.swc</td>\n",
       "      <td>Pvalb-IRES-Cre;Ai14-185362.03.01.01</td>\n",
       "      <td>https://bbp.epfl.ch/neurosciencegraph/data/sub...</td>\n",
       "      <td>Subject</td>\n",
       "    </tr>\n",
       "    <tr>\n",
       "      <th>2</th>\n",
       "      <td>https://bbp.epfl.ch/neurosciencegraph/data/neu...</td>\n",
       "      <td>http://api.brain-map.org/api/v2/data/Structure...</td>\n",
       "      <td>VISli6a</td>\n",
       "      <td>6a</td>\n",
       "      <td>Contribution</td>\n",
       "      <td>https://www.grid.ac/institutes/grid.417881.3</td>\n",
       "      <td>Organization</td>\n",
       "      <td>https://staging.nexus.ocp.bbp.epfl.ch/v1/files...</td>\n",
       "      <td>application/swc</td>\n",
       "      <td>reconstruction.swc</td>\n",
       "      <td>Chrna2-Cre_OE25;Ai14(BT)-280154.04.01.01</td>\n",
       "      <td>https://bbp.epfl.ch/neurosciencegraph/data/sub...</td>\n",
       "      <td>Subject</td>\n",
       "    </tr>\n",
       "    <tr>\n",
       "      <th>3</th>\n",
       "      <td>https://bbp.epfl.ch/neurosciencegraph/data/neu...</td>\n",
       "      <td>http://api.brain-map.org/api/v2/data/Structure...</td>\n",
       "      <td>MTG</td>\n",
       "      <td>5</td>\n",
       "      <td>Contribution</td>\n",
       "      <td>https://www.grid.ac/institutes/grid.417881.3</td>\n",
       "      <td>Organization</td>\n",
       "      <td>https://staging.nexus.ocp.bbp.epfl.ch/v1/files...</td>\n",
       "      <td>application/swc</td>\n",
       "      <td>reconstruction.swc</td>\n",
       "      <td>H16.06.008.01.26.04</td>\n",
       "      <td>https://bbp.epfl.ch/neurosciencegraph/data/sub...</td>\n",
       "      <td>Subject</td>\n",
       "    </tr>\n",
       "    <tr>\n",
       "      <th>4</th>\n",
       "      <td>https://bbp.epfl.ch/neurosciencegraph/data/neu...</td>\n",
       "      <td>http://api.brain-map.org/api/v2/data/Structure...</td>\n",
       "      <td>VISp5</td>\n",
       "      <td>5</td>\n",
       "      <td>Contribution</td>\n",
       "      <td>https://www.grid.ac/institutes/grid.417881.3</td>\n",
       "      <td>Organization</td>\n",
       "      <td>https://staging.nexus.ocp.bbp.epfl.ch/v1/files...</td>\n",
       "      <td>application/swc</td>\n",
       "      <td>reconstruction.swc</td>\n",
       "      <td>Rorb-IRES2-Cre-D;Ai14-168053.05.01.01</td>\n",
       "      <td>https://bbp.epfl.ch/neurosciencegraph/data/sub...</td>\n",
       "      <td>Subject</td>\n",
       "    </tr>\n",
       "    <tr>\n",
       "      <th>5</th>\n",
       "      <td>https://bbp.epfl.ch/neurosciencegraph/data/neu...</td>\n",
       "      <td>http://api.brain-map.org/api/v2/data/Structure...</td>\n",
       "      <td>VISp6b</td>\n",
       "      <td>6b</td>\n",
       "      <td>Contribution</td>\n",
       "      <td>https://www.grid.ac/institutes/grid.417881.3</td>\n",
       "      <td>Organization</td>\n",
       "      <td>https://staging.nexus.ocp.bbp.epfl.ch/v1/files...</td>\n",
       "      <td>application/swc</td>\n",
       "      <td>reconstruction.swc</td>\n",
       "      <td>Ctgf-2A-dgCre;Ai14(IVSCC)-230665.02.02.01</td>\n",
       "      <td>https://bbp.epfl.ch/neurosciencegraph/data/sub...</td>\n",
       "      <td>Subject</td>\n",
       "    </tr>\n",
       "    <tr>\n",
       "      <th>6</th>\n",
       "      <td>https://bbp.epfl.ch/neurosciencegraph/data/neu...</td>\n",
       "      <td>http://api.brain-map.org/api/v2/data/Structure/33</td>\n",
       "      <td>VISp6a</td>\n",
       "      <td>6a</td>\n",
       "      <td>Contribution</td>\n",
       "      <td>https://www.grid.ac/institutes/grid.417881.3</td>\n",
       "      <td>Organization</td>\n",
       "      <td>https://staging.nexus.ocp.bbp.epfl.ch/v1/files...</td>\n",
       "      <td>application/swc</td>\n",
       "      <td>reconstruction.swc</td>\n",
       "      <td>Nos1-CreERT2;Sst-IRES-FlpO;Ai65-304714.02.01.01</td>\n",
       "      <td>https://bbp.epfl.ch/neurosciencegraph/data/sub...</td>\n",
       "      <td>Subject</td>\n",
       "    </tr>\n",
       "    <tr>\n",
       "      <th>7</th>\n",
       "      <td>https://bbp.epfl.ch/neurosciencegraph/data/neu...</td>\n",
       "      <td>http://api.brain-map.org/api/v2/data/Structure...</td>\n",
       "      <td>MTG</td>\n",
       "      <td>3</td>\n",
       "      <td>Contribution</td>\n",
       "      <td>https://www.grid.ac/institutes/grid.417881.3</td>\n",
       "      <td>Organization</td>\n",
       "      <td>https://staging.nexus.ocp.bbp.epfl.ch/v1/files...</td>\n",
       "      <td>application/swc</td>\n",
       "      <td>reconstruction.swc</td>\n",
       "      <td>H16.06.010.01.03.04.01</td>\n",
       "      <td>https://bbp.epfl.ch/neurosciencegraph/data/sub...</td>\n",
       "      <td>Subject</td>\n",
       "    </tr>\n",
       "    <tr>\n",
       "      <th>8</th>\n",
       "      <td>https://bbp.epfl.ch/neurosciencegraph/data/neu...</td>\n",
       "      <td>http://api.brain-map.org/api/v2/data/Structure...</td>\n",
       "      <td>VISp4</td>\n",
       "      <td>4</td>\n",
       "      <td>Contribution</td>\n",
       "      <td>https://www.grid.ac/institutes/grid.417881.3</td>\n",
       "      <td>Organization</td>\n",
       "      <td>https://staging.nexus.ocp.bbp.epfl.ch/v1/files...</td>\n",
       "      <td>application/swc</td>\n",
       "      <td>reconstruction.swc</td>\n",
       "      <td>Nr5a1-Cre;Ai14-187780.03.02.01</td>\n",
       "      <td>https://bbp.epfl.ch/neurosciencegraph/data/sub...</td>\n",
       "      <td>Subject</td>\n",
       "    </tr>\n",
       "    <tr>\n",
       "      <th>9</th>\n",
       "      <td>https://bbp.epfl.ch/neurosciencegraph/data/neu...</td>\n",
       "      <td>http://api.brain-map.org/api/v2/data/Structure...</td>\n",
       "      <td>VISp2/3</td>\n",
       "      <td>2/3</td>\n",
       "      <td>Contribution</td>\n",
       "      <td>https://www.grid.ac/institutes/grid.417881.3</td>\n",
       "      <td>Organization</td>\n",
       "      <td>https://staging.nexus.ocp.bbp.epfl.ch/v1/files...</td>\n",
       "      <td>application/swc</td>\n",
       "      <td>reconstruction.swc</td>\n",
       "      <td>Slc17a6-IRES-Cre;Ai14-190263.04.01.01</td>\n",
       "      <td>https://bbp.epfl.ch/neurosciencegraph/data/sub...</td>\n",
       "      <td>Subject</td>\n",
       "    </tr>\n",
       "  </tbody>\n",
       "</table>\n",
       "</div>"
      ],
      "text/plain": [
       "                                                  id  \\\n",
       "0  https://bbp.epfl.ch/neurosciencegraph/data/neu...   \n",
       "1  https://bbp.epfl.ch/neurosciencegraph/data/neu...   \n",
       "2  https://bbp.epfl.ch/neurosciencegraph/data/neu...   \n",
       "3  https://bbp.epfl.ch/neurosciencegraph/data/neu...   \n",
       "4  https://bbp.epfl.ch/neurosciencegraph/data/neu...   \n",
       "5  https://bbp.epfl.ch/neurosciencegraph/data/neu...   \n",
       "6  https://bbp.epfl.ch/neurosciencegraph/data/neu...   \n",
       "7  https://bbp.epfl.ch/neurosciencegraph/data/neu...   \n",
       "8  https://bbp.epfl.ch/neurosciencegraph/data/neu...   \n",
       "9  https://bbp.epfl.ch/neurosciencegraph/data/neu...   \n",
       "\n",
       "                        brainLocation.brainRegion.id  \\\n",
       "0  http://api.brain-map.org/api/v2/data/Structure...   \n",
       "1  http://api.brain-map.org/api/v2/data/Structure...   \n",
       "2  http://api.brain-map.org/api/v2/data/Structure...   \n",
       "3  http://api.brain-map.org/api/v2/data/Structure...   \n",
       "4  http://api.brain-map.org/api/v2/data/Structure...   \n",
       "5  http://api.brain-map.org/api/v2/data/Structure...   \n",
       "6  http://api.brain-map.org/api/v2/data/Structure/33   \n",
       "7  http://api.brain-map.org/api/v2/data/Structure...   \n",
       "8  http://api.brain-map.org/api/v2/data/Structure...   \n",
       "9  http://api.brain-map.org/api/v2/data/Structure...   \n",
       "\n",
       "  brainLocation.brainRegion.label brainLocation.layer contribution.type  \\\n",
       "0                           VISp5                   5      Contribution   \n",
       "1                           VISp5                   5      Contribution   \n",
       "2                         VISli6a                  6a      Contribution   \n",
       "3                             MTG                   5      Contribution   \n",
       "4                           VISp5                   5      Contribution   \n",
       "5                          VISp6b                  6b      Contribution   \n",
       "6                          VISp6a                  6a      Contribution   \n",
       "7                             MTG                   3      Contribution   \n",
       "8                           VISp4                   4      Contribution   \n",
       "9                         VISp2/3                 2/3      Contribution   \n",
       "\n",
       "                          contribution.agent.id contribution.agent.type  \\\n",
       "0  https://www.grid.ac/institutes/grid.417881.3            Organization   \n",
       "1  https://www.grid.ac/institutes/grid.417881.3            Organization   \n",
       "2  https://www.grid.ac/institutes/grid.417881.3            Organization   \n",
       "3  https://www.grid.ac/institutes/grid.417881.3            Organization   \n",
       "4  https://www.grid.ac/institutes/grid.417881.3            Organization   \n",
       "5  https://www.grid.ac/institutes/grid.417881.3            Organization   \n",
       "6  https://www.grid.ac/institutes/grid.417881.3            Organization   \n",
       "7  https://www.grid.ac/institutes/grid.417881.3            Organization   \n",
       "8  https://www.grid.ac/institutes/grid.417881.3            Organization   \n",
       "9  https://www.grid.ac/institutes/grid.417881.3            Organization   \n",
       "\n",
       "                             distribution.contentUrl  \\\n",
       "0  https://staging.nexus.ocp.bbp.epfl.ch/v1/files...   \n",
       "1  https://staging.nexus.ocp.bbp.epfl.ch/v1/files...   \n",
       "2  https://staging.nexus.ocp.bbp.epfl.ch/v1/files...   \n",
       "3  https://staging.nexus.ocp.bbp.epfl.ch/v1/files...   \n",
       "4  https://staging.nexus.ocp.bbp.epfl.ch/v1/files...   \n",
       "5  https://staging.nexus.ocp.bbp.epfl.ch/v1/files...   \n",
       "6  https://staging.nexus.ocp.bbp.epfl.ch/v1/files...   \n",
       "7  https://staging.nexus.ocp.bbp.epfl.ch/v1/files...   \n",
       "8  https://staging.nexus.ocp.bbp.epfl.ch/v1/files...   \n",
       "9  https://staging.nexus.ocp.bbp.epfl.ch/v1/files...   \n",
       "\n",
       "  distribution.encodingFormat   distribution.name  \\\n",
       "0             application/swc  reconstruction.swc   \n",
       "1             application/swc  reconstruction.swc   \n",
       "2             application/swc  reconstruction.swc   \n",
       "3             application/swc  reconstruction.swc   \n",
       "4             application/swc  reconstruction.swc   \n",
       "5             application/swc  reconstruction.swc   \n",
       "6             application/swc  reconstruction.swc   \n",
       "7             application/swc  reconstruction.swc   \n",
       "8             application/swc  reconstruction.swc   \n",
       "9             application/swc  reconstruction.swc   \n",
       "\n",
       "                                              name  \\\n",
       "0             Htr3a-Cre_NO152;Ai14-314467.03.02.01   \n",
       "1              Pvalb-IRES-Cre;Ai14-185362.03.01.01   \n",
       "2         Chrna2-Cre_OE25;Ai14(BT)-280154.04.01.01   \n",
       "3                              H16.06.008.01.26.04   \n",
       "4            Rorb-IRES2-Cre-D;Ai14-168053.05.01.01   \n",
       "5        Ctgf-2A-dgCre;Ai14(IVSCC)-230665.02.02.01   \n",
       "6  Nos1-CreERT2;Sst-IRES-FlpO;Ai65-304714.02.01.01   \n",
       "7                           H16.06.010.01.03.04.01   \n",
       "8                   Nr5a1-Cre;Ai14-187780.03.02.01   \n",
       "9            Slc17a6-IRES-Cre;Ai14-190263.04.01.01   \n",
       "\n",
       "                                          subject.id subject.type  \n",
       "0  https://bbp.epfl.ch/neurosciencegraph/data/sub...      Subject  \n",
       "1  https://bbp.epfl.ch/neurosciencegraph/data/sub...      Subject  \n",
       "2  https://bbp.epfl.ch/neurosciencegraph/data/sub...      Subject  \n",
       "3  https://bbp.epfl.ch/neurosciencegraph/data/sub...      Subject  \n",
       "4  https://bbp.epfl.ch/neurosciencegraph/data/sub...      Subject  \n",
       "5  https://bbp.epfl.ch/neurosciencegraph/data/sub...      Subject  \n",
       "6  https://bbp.epfl.ch/neurosciencegraph/data/sub...      Subject  \n",
       "7  https://bbp.epfl.ch/neurosciencegraph/data/sub...      Subject  \n",
       "8  https://bbp.epfl.ch/neurosciencegraph/data/sub...      Subject  \n",
       "9  https://bbp.epfl.ch/neurosciencegraph/data/sub...      Subject  "
      ]
     },
     "execution_count": 34,
     "metadata": {},
     "output_type": "execute_result"
    }
   ],
   "source": [
    "property_to_display = [\"id\",\"name\",\"subject\",\"brainLocation.brainRegion.id\",\"brainLocation.brainRegion.label\",\"brainLocation.layer.id\",\"brainLocation.layer.label\", \"contribution\",\"brainLocation.layer.id\",\"brainLocation.layer.label\",\"distribution.name\",\"distribution.contentUrl\",\"distribution.encodingFormat\"]\n",
    "reshaped_data = forge.reshape(data, keep=property_to_display)\n",
    "\n",
    "forge.as_dataframe(reshaped_data)"
   ]
  },
  {
   "cell_type": "code",
   "execution_count": null,
   "metadata": {},
   "outputs": [],
   "source": []
  }
 ],
 "metadata": {
  "kernelspec": {
   "display_name": "Python 3.7.13 ('kgforge')",
   "language": "python",
   "name": "python3"
  },
  "language_info": {
   "codemirror_mode": {
    "name": "ipython",
    "version": 3
   },
   "file_extension": ".py",
   "mimetype": "text/x-python",
   "name": "python",
   "nbconvert_exporter": "python",
   "pygments_lexer": "ipython3",
   "version": "3.7.13"
  },
  "vscode": {
   "interpreter": {
    "hash": "9ac393a5ddd595f2c78ea58b15bf8d269850a4413729cbea5c5fae9013762763"
   }
  }
 },
 "nbformat": 4,
 "nbformat_minor": 4
}

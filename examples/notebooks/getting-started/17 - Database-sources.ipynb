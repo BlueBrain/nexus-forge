{
 "cells": [
  {
   "cell_type": "markdown",
   "metadata": {},
   "source": [
    "# Querying external database sources of interest\n",
    "\n",
    "* Enable users to integrate data from external databases of interest within BBP KG\n",
    "* While using the Nexus Forge interface and BMO vocabulary as much as possible as\n",
    "* While benefiting from out of the box (meta)data transformation to make them ready for BBP internal pipelines and applications\n",
    "* Demo with Mouselight, NeuroElectro, UniProt"
   ]
  },
  {
   "cell_type": "code",
   "execution_count": 1,
   "metadata": {
    "ExecuteTime": {
     "end_time": "2019-09-23T18:50:20.068658Z",
     "start_time": "2019-09-23T18:50:19.054054Z"
    }
   },
   "outputs": [],
   "source": [
    "import json\n",
    "\n",
    "from kgforge.core import KnowledgeGraphForge\n",
    "from kgforge.specializations.resources import Dataset"
   ]
  },
  {
   "cell_type": "code",
   "execution_count": 32,
   "metadata": {},
   "outputs": [],
   "source": [
    "import getpass\n",
    "TOKEN = getpass.getpass()"
   ]
  },
  {
   "cell_type": "code",
   "execution_count": 33,
   "metadata": {},
   "outputs": [],
   "source": [
    "endpoint = \"https://staging.nise.bbp.epfl.ch/nexus/v1\"\n",
    "BUCKET = \"neurosciencegraph/datamodels\"\n",
    "forge = KnowledgeGraphForge(\"../../configurations/database-sources/prod-nexus-sources.yml\",\n",
    "token=TOKEN, endpoint=endpoint, bucket=BUCKET)"
   ]
  },
  {
   "cell_type": "markdown",
   "metadata": {},
   "source": [
    "# List of Data sources"
   ]
  },
  {
   "cell_type": "code",
   "execution_count": 3,
   "metadata": {},
   "outputs": [
    {
     "name": "stdout",
     "output_type": "stream",
     "text": [
      "Available Database sources:\n",
      "UniProt\n",
      "NeuroElectro\n"
     ]
    }
   ],
   "source": [
    "forge.db_sources(pretty=True)"
   ]
  },
  {
   "cell_type": "code",
   "execution_count": 4,
   "metadata": {},
   "outputs": [],
   "source": [
    "sources = forge.db_sources()"
   ]
  },
  {
   "cell_type": "code",
   "execution_count": 5,
   "metadata": {},
   "outputs": [],
   "source": [
    "\n",
    "data = {\n",
    "       'origin': 'store',\n",
    "       'source': 'DemoStore',\n",
    "       'model': { \n",
    "          'name': 'DemoModel',\n",
    "          'origin': 'directory',\n",
    "          'source': \"../../../tests/data/demo-model/\" \n",
    "        }\n",
    "}\n"
   ]
  },
  {
   "cell_type": "code",
   "execution_count": 6,
   "metadata": {},
   "outputs": [],
   "source": [
    "from kgforge.specializations.databases import StoreDatabase\n",
    "ds = StoreDatabase(forge, name=\"DemoDB\", **data)"
   ]
  },
  {
   "cell_type": "code",
   "execution_count": 7,
   "metadata": {},
   "outputs": [],
   "source": [
    "forge.add_db_source(ds)"
   ]
  },
  {
   "cell_type": "code",
   "execution_count": 8,
   "metadata": {},
   "outputs": [
    {
     "name": "stdout",
     "output_type": "stream",
     "text": [
      "Available Database sources:\n",
      "UniProt\n",
      "NeuroElectro\n",
      "DemoDB\n"
     ]
    }
   ],
   "source": [
    "forge.db_sources(pretty=True)"
   ]
  },
  {
   "cell_type": "markdown",
   "metadata": {},
   "source": [
    "# Data source metadata"
   ]
  },
  {
   "cell_type": "code",
   "execution_count": 9,
   "metadata": {},
   "outputs": [],
   "source": [
    "neuroelectro = sources['NeuroElectro']"
   ]
  },
  {
   "cell_type": "markdown",
   "metadata": {},
   "source": [
    "## Get data mappings (hold transformations logic) per data type\n",
    "\n",
    "* Data mappings are used to transform results obtained from the external data sources so that they are ready for consumption by BBP tools\n",
    "* Perform automatic ontology linking"
   ]
  },
  {
   "cell_type": "code",
   "execution_count": 10,
   "metadata": {},
   "outputs": [
    {
     "name": "stdout",
     "output_type": "stream",
     "text": [
      "Managed mappings for the data source per entity type and mapping type:\n",
      "   - ElectrophysiologicalFeatureAnnotation:\n",
      "        * DictionaryMapping\n",
      "   - ParameterAnnotation:\n",
      "        * DictionaryMapping\n",
      "   - ParameterBody:\n",
      "        * DictionaryMapping\n",
      "   - ScholarlyArticle:\n",
      "        * DictionaryMapping\n",
      "   - SeriesBody:\n",
      "        * DictionaryMapping\n"
     ]
    }
   ],
   "source": [
    "forge.mappings(source=\"NeuroElectro\")"
   ]
  },
  {
   "cell_type": "code",
   "execution_count": 11,
   "metadata": {},
   "outputs": [
    {
     "name": "stdout",
     "output_type": "stream",
     "text": [
      "Managed mappings for the data source per entity type and mapping type:\n",
      "   - Gene:\n",
      "        * DictionaryMapping\n",
      "   - Protein:\n",
      "        * DictionaryMapping\n"
     ]
    }
   ],
   "source": [
    "forge.mappings('UniProt')"
   ]
  },
  {
   "cell_type": "code",
   "execution_count": 12,
   "metadata": {},
   "outputs": [],
   "source": [
    "from kgforge.specializations.mappings import DictionaryMapping\n",
    "mapping = forge.mapping(entity=\"ScholarlyArticle\", source=\"NeuroElectro\")"
   ]
  },
  {
   "cell_type": "code",
   "execution_count": 13,
   "metadata": {},
   "outputs": [
    {
     "name": "stdout",
     "output_type": "stream",
     "text": [
      "{\n",
      "    id: forge.format(\"identifier\", \"scholarlyarticles\", x.id)\n",
      "    type:\n",
      "    [\n",
      "        Entity\n",
      "        ScholarlyArticle\n",
      "    ]\n",
      "    abstract: x.abstract\n",
      "    author: x.authors_shaped\n",
      "    datePublished: x.date_issued\n",
      "    identifier: x.identifiers\n",
      "    isPartOf:\n",
      "    {\n",
      "        type: Periodical\n",
      "        issn: x.issn\n",
      "        name: x.journal\n",
      "        publisher: x.publisher\n",
      "    }\n",
      "    name: f\"article_{x.id}\"\n",
      "    sameAs: x.full_text_link\n",
      "    title: x.title\n",
      "    url: x.full_text_link\n",
      "}\n"
     ]
    }
   ],
   "source": [
    "print(mapping)"
   ]
  },
  {
   "cell_type": "code",
   "execution_count": 14,
   "metadata": {},
   "outputs": [
    {
     "name": "stdout",
     "output_type": "stream",
     "text": [
      "<action> db_sources\n",
      "<error> AttributeError: 'StoreDatabase' object has no attribute 'datatypes'\n",
      "\n"
     ]
    }
   ],
   "source": [
    "forge.db_sources(type_='Gene', pretty=True)"
   ]
  },
  {
   "cell_type": "markdown",
   "metadata": {},
   "source": [
    "# Search and Access data from data source\n",
    "\n",
    "* Mapping are automatically applied to search results\n",
    "* takes a mn for now => working on making it faster "
   ]
  },
  {
   "cell_type": "code",
   "execution_count": 15,
   "metadata": {},
   "outputs": [
    {
     "name": "stdout",
     "output_type": "stream",
     "text": [
      "Submitted query:\n",
      "   PREFIX bmc: <https://bbp.epfl.ch/ontologies/core/bmc/>\n",
      "   PREFIX bmo: <https://bbp.epfl.ch/ontologies/core/bmo/>\n",
      "   PREFIX commonshapes: <https://neuroshapes.org/commons/>\n",
      "   PREFIX datashapes: <https://neuroshapes.org/dash/>\n",
      "   PREFIX dc: <http://purl.org/dc/elements/1.1/>\n",
      "   PREFIX dcat: <http://www.w3.org/ns/dcat#>\n",
      "   PREFIX dcterms: <http://purl.org/dc/terms/>\n",
      "   PREFIX mba: <http://api.brain-map.org/api/v2/data/Structure/>\n",
      "   PREFIX nsg: <https://neuroshapes.org/>\n",
      "   PREFIX nxv: <https://bluebrain.github.io/nexus/vocabulary/>\n",
      "   PREFIX oa: <http://www.w3.org/ns/oa#>\n",
      "   PREFIX obo: <http://purl.obolibrary.org/obo/>\n",
      "   PREFIX owl: <http://www.w3.org/2002/07/owl#>\n",
      "   PREFIX prov: <http://www.w3.org/ns/prov#>\n",
      "   PREFIX rdf: <http://www.w3.org/1999/02/22-rdf-syntax-ns#>\n",
      "   PREFIX rdfs: <http://www.w3.org/2000/01/rdf-schema#>\n",
      "   PREFIX schema: <http://schema.org/>\n",
      "   PREFIX sh: <http://www.w3.org/ns/shacl#>\n",
      "   PREFIX shsh: <http://www.w3.org/ns/shacl-shacl#>\n",
      "   PREFIX skos: <http://www.w3.org/2004/02/skos/core#>\n",
      "   PREFIX vann: <http://purl.org/vocab/vann/>\n",
      "   PREFIX void: <http://rdfs.org/ns/void#>\n",
      "   PREFIX xml: <http://www.w3.org/XML/1998/namespace/>\n",
      "   PREFIX xsd: <http://www.w3.org/2001/XMLSchema#>\n",
      "   PREFIX : <https://bbp.neuroshapes.org/>\n",
      "   SELECT ?id ?_constrainedBy ?_createdAt ?_createdBy ?_deprecated ?_incoming ?_outgoing ?_project ?_rev ?_schemaProject ?_self ?_updatedAt ?_updatedBy WHERE { Graph ?g {?id rdf:type schema:ScholarlyArticle;\n",
      "    <https://bluebrain.github.io/nexus/vocabulary/constrainedBy> ?_constrainedBy;\n",
      "    <https://bluebrain.github.io/nexus/vocabulary/createdAt> ?_createdAt;\n",
      "    <https://bluebrain.github.io/nexus/vocabulary/createdBy> ?_createdBy;\n",
      "    <https://bluebrain.github.io/nexus/vocabulary/deprecated> ?_deprecated;\n",
      "    <https://bluebrain.github.io/nexus/vocabulary/incoming> ?_incoming;\n",
      "    <https://bluebrain.github.io/nexus/vocabulary/outgoing> ?_outgoing;\n",
      "    <https://bluebrain.github.io/nexus/vocabulary/project> ?_project;\n",
      "    <https://bluebrain.github.io/nexus/vocabulary/rev> ?_rev;\n",
      "    <https://bluebrain.github.io/nexus/vocabulary/schemaProject> ?_schemaProject;\n",
      "    <https://bluebrain.github.io/nexus/vocabulary/self> ?_self;\n",
      "    <https://bluebrain.github.io/nexus/vocabulary/updatedAt> ?_updatedAt;\n",
      "    <https://bluebrain.github.io/nexus/vocabulary/updatedBy> ?_updatedBy . \n",
      "    Filter (?_deprecated = 'false'^^xsd:boolean)\n",
      "   Filter (?_project = <https://staging.nise.bbp.epfl.ch/nexus/v1/projects/bbp/neuroelectro>)}}  LIMIT 2\n",
      "\n"
     ]
    }
   ],
   "source": [
    "filters = {\"type\":\"ScholarlyArticle\"}\n",
    "#map=True, use_cache=True, # download=True\n",
    "resources = forge.search(filters, db_source=\"NeuroElectro\", limit=2, debug=True) \n",
    "# Add function for checking datsource health => reqsuire health url from db\n"
   ]
  },
  {
   "cell_type": "code",
   "execution_count": 16,
   "metadata": {},
   "outputs": [
    {
     "data": {
      "text/plain": [
       "2"
      ]
     },
     "execution_count": 16,
     "metadata": {},
     "output_type": "execute_result"
    }
   ],
   "source": [
    "len(resources)"
   ]
  },
  {
   "cell_type": "code",
   "execution_count": 17,
   "metadata": {},
   "outputs": [
    {
     "name": "stdout",
     "output_type": "stream",
     "text": [
      "{\n",
      "    context: https://bbp.neuroshapes.org\n",
      "    id: https://bbp.epfl.ch/neurosciencegraph/data/scholarlyarticles/35463\n",
      "    type:\n",
      "    [\n",
      "        Entity\n",
      "        ScholarlyArticle\n",
      "    ]\n",
      "    abstract: Rationally, an increased intrinsic excitability of dorsal horn neurons could be a factor contributing to alter the gain of the nociceptive system during central sensitization, however direct evidence is scarce. Here we have examined this hypothesis using current and voltage-clamp recordings from dorsal horn neurons in the spinal cord in vitro preparation obtained from mice pups of either sex. Cords were extracted from carrageenan-pretreated and control animals to allow for comparison. Dorsal horn neurons from treated animals showed significantly larger and faster synaptic responses. Synaptic changes started developing shortly after inflammation (1 h) and developed further after a longer-term inflammation (20 h). However, these neurons showed biphasic changes in membrane excitability with an increase shortly after inflammation and a decrease in the longer term. Concomitant changes were observed in transient (I(A)) and sustained potassium currents (I(DR)). Prolonged superfusion of naive spinal cords with NMDA led to a decreased neuronal excitability and to increased potassium currents. Results suggest that excitability plays a role more complex than expected during the process of central sensitization of dorsal horn neurons and that modulation of potassium currents may contribute to shape the changing states of excitability. The decreased excitability observed after long-term inflammation is interpreted as a homeostatic correction to an abnormal state of synaptic activity.\n",
      "    author:\n",
      "    [\n",
      "        {\n",
      "            type: Person\n",
      "            familyName: Rivera-Arconada\n",
      "            givenName: Ivan\n",
      "        }\n",
      "        {\n",
      "            type: Person\n",
      "            familyName: Lopez-Garcia\n",
      "            givenName: Jose A\n",
      "        }\n",
      "    ]\n",
      "    datePublished: 2010-4-14\n",
      "    identifier:\n",
      "    [\n",
      "        {\n",
      "            propertyID: PMID\n",
      "            value: 20392959\n",
      "        }\n",
      "        {\n",
      "            propertyID: doi\n",
      "            value: 10.1523/JNEUROSCI.4359-09.2010\n",
      "        }\n",
      "    ]\n",
      "    isPartOf:\n",
      "    {\n",
      "        type: Periodical\n",
      "        issn: 0270-6474\n",
      "        name: The Journal of neuroscience : the official journal of the Society for Neuroscience\n",
      "        publisher: Society for Neuroscience\n",
      "    }\n",
      "    name: article_35463\n",
      "    sameAs: http://www.jneurosci.org/content/30/15/5376.long\n",
      "    title: Changes in membrane excitability and potassium currents in sensitized dorsal horn neurons of mice pups.\n",
      "    url: http://www.jneurosci.org/content/30/15/5376.long\n",
      "}\n"
     ]
    }
   ],
   "source": [
    "print(resources[0])"
   ]
  },
  {
   "cell_type": "code",
   "execution_count": 18,
   "metadata": {},
   "outputs": [],
   "source": [
    "uquery = \"\"\"\n",
    "PREFIX up: <http://purl.uniprot.org/core/>\n",
    "SELECT ?protein\n",
    "WHERE {\n",
    "  ?protein a up:Protein ;\n",
    "  up:reviewed true.\n",
    "}\n",
    "\"\"\""
   ]
  },
  {
   "cell_type": "code",
   "execution_count": 19,
   "metadata": {},
   "outputs": [
    {
     "name": "stdout",
     "output_type": "stream",
     "text": [
      "Submitted query:\n",
      "   \n",
      "   PREFIX up: <http://purl.uniprot.org/core/>\n",
      "   SELECT ?protein\n",
      "   WHERE {\n",
      "     ?protein a up:Protein ;\n",
      "     up:reviewed true.\n",
      "   }\n",
      "     LIMIT 10\n",
      "\n"
     ]
    }
   ],
   "source": [
    "uresources = forge.sparql(query=uquery, db_source='UniProt', limit=10, debug=True)"
   ]
  },
  {
   "cell_type": "code",
   "execution_count": 20,
   "metadata": {},
   "outputs": [
    {
     "data": {
      "text/plain": [
       "10"
      ]
     },
     "execution_count": 20,
     "metadata": {},
     "output_type": "execute_result"
    }
   ],
   "source": [
    "len(uresources)"
   ]
  },
  {
   "cell_type": "code",
   "execution_count": 21,
   "metadata": {},
   "outputs": [
    {
     "data": {
      "text/plain": [
       "Resource(_last_action=None, _validated=False, _synchronized=False, _store_metadata=None, _inner_sync=False, protein='http://purl.uniprot.org/uniprot/A0B137')"
      ]
     },
     "execution_count": 21,
     "metadata": {},
     "output_type": "execute_result"
    }
   ],
   "source": [
    "uresources[0]"
   ]
  },
  {
   "cell_type": "markdown",
   "metadata": {},
   "source": [
    "## Use Filters to search"
   ]
  },
  {
   "cell_type": "code",
   "execution_count": 22,
   "metadata": {},
   "outputs": [],
   "source": [
    "from kgforge.core.wrappings.paths import Filter, FilterOperator"
   ]
  },
  {
   "cell_type": "code",
   "execution_count": 23,
   "metadata": {},
   "outputs": [
    {
     "name": "stdout",
     "output_type": "stream",
     "text": [
      "Submitted query:\n",
      "   PREFIX up: <http://purl.uniprot.org/core/>\n",
      "   PREFIX owl: <http://www.w3.org/2002/07/owl#>\n",
      "   PREFIX owl2xml: <http://www.w3.org/2006/12/owl2-xml#>\n",
      "   PREFIX swrlb: <http://www.w3.org/2003/11/swrlb#>\n",
      "   PREFIX protege: <http://protege.stanford.edu/plugins/owl/protege#>\n",
      "   PREFIX swrl: <http://www.w3.org/2003/11/swrl#>\n",
      "   PREFIX xsd: <http://www.w3.org/2001/XMLSchema#>\n",
      "   PREFIX skos: <http://www.w3.org/2004/02/skos/core#>\n",
      "   PREFIX rdfs: <http://www.w3.org/2000/01/rdf-schema#>\n",
      "   PREFIX dc11: <http://purl.org/dc/terms/>\n",
      "   PREFIX rdf: <http://www.w3.org/1999/02/22-rdf-syntax-ns#>\n",
      "   PREFIX foaf: <http://xmlns.com/foaf/0.1/>\n",
      "   SELECT ?id WHERE {?id rdf:type up:Protein;\n",
      "    up:reviewed ?v1 . \n",
      "    FILTER(?v1 = 'true'^^xsd:boolean)\n",
      "   }  LIMIT 10\n",
      "\n"
     ]
    }
   ],
   "source": [
    "\n",
    "proteins = forge.search({'type': 'Protein', 'up:reviewed': True}, db_source='UniProt', limit=10, debug=True)"
   ]
  },
  {
   "cell_type": "code",
   "execution_count": 24,
   "metadata": {},
   "outputs": [
    {
     "data": {
      "text/plain": [
       "Resource(_last_action=None, _validated=False, _synchronized=False, _store_metadata=None, id='http://purl.uniprot.org/uniprot/A0B137', _inner_sync=False)"
      ]
     },
     "execution_count": 24,
     "metadata": {},
     "output_type": "execute_result"
    }
   ],
   "source": [
    "proteins[0]"
   ]
  },
  {
   "cell_type": "markdown",
   "metadata": {},
   "source": [
    "# Map resources"
   ]
  },
  {
   "cell_type": "code",
   "execution_count": 25,
   "metadata": {},
   "outputs": [],
   "source": [
    "uniprot = sources['UniProt']"
   ]
  },
  {
   "cell_type": "code",
   "execution_count": 26,
   "metadata": {},
   "outputs": [],
   "source": [
    "complete_query = \"\"\"\n",
    "PREFIX up: <http://purl.uniprot.org/core/>\n",
    "SELECT ?id ?gene ?label ?subject ?gene_label\n",
    "WHERE {\n",
    "  ?id a up:Protein ;\n",
    "  up:reviewed true ;\n",
    "  up:encodedBy ?gene ;\n",
    "  up:recommendedName / up:fullName ?label ;\n",
    "  up:organism / up:scientificName ?subject .\n",
    "  ?gene skos:prefLabel ?gene_label . \n",
    "}\n",
    "\"\"\""
   ]
  },
  {
   "cell_type": "code",
   "execution_count": 27,
   "metadata": {},
   "outputs": [],
   "source": [
    "raw_proteins = uniprot.sparql(complete_query)"
   ]
  },
  {
   "cell_type": "code",
   "execution_count": 28,
   "metadata": {},
   "outputs": [],
   "source": [
    "new_resource = uniprot.map(raw_proteins[0], 'Protein')"
   ]
  },
  {
   "cell_type": "code",
   "execution_count": 29,
   "metadata": {},
   "outputs": [
    {
     "name": "stdout",
     "output_type": "stream",
     "text": [
      "[\n",
      "    {\n",
      "        \"@context\": \"https://bbp.neuroshapes.org\",\n",
      "        \"@id\": \"https://bbp.epfl.ch/neurosciencegraph/data/proteins/P0DJN9\",\n",
      "        \"@type\": [\n",
      "            \"Entity\",\n",
      "            \"Protein\"\n",
      "        ],\n",
      "        \"encodedBy\": {\n",
      "            \"@id\": \"http://purl.uniprot.org/uniprot/P0DJN9#gene-MD5A00DD99270221B359AB0AE338E423668\",\n",
      "            \"label\": \"acsF\"\n",
      "        },\n",
      "        \"identifier\": {\n",
      "            \"propertyID\": \"UniProtKB\",\n",
      "            \"value\": \"P0DJN9\"\n",
      "        },\n",
      "        \"name\": \"Protein P0DJN9 from UniProtKB\",\n",
      "        \"label\": \"Aerobic magnesium-protoporphyrin IX monomethyl ester [oxidative] cyclase\",\n",
      "        \"subject\": {\n",
      "            \"label\": \"Rubrivivax gelatinosus\"\n",
      "        }\n",
      "    }\n",
      "]\n"
     ]
    }
   ],
   "source": [
    "\n",
    "print(json.dumps(forge.as_jsonld(new_resource), indent=4))"
   ]
  },
  {
   "cell_type": "markdown",
   "metadata": {},
   "source": [
    "### same result could be obtain from a dictionary and a DictionaryMapping instance"
   ]
  },
  {
   "cell_type": "code",
   "execution_count": 31,
   "metadata": {},
   "outputs": [
    {
     "name": "stdout",
     "output_type": "stream",
     "text": [
      "[\n",
      "    {\n",
      "        \"@context\": \"https://bbp.neuroshapes.org\",\n",
      "        \"@id\": \"https://bbp.epfl.ch/neurosciencegraph/data/proteins/P0DJN9\",\n",
      "        \"@type\": [\n",
      "            \"Entity\",\n",
      "            \"Protein\"\n",
      "        ],\n",
      "        \"encodedBy\": {\n",
      "            \"@id\": \"http://purl.uniprot.org/uniprot/P0DJN9#gene-MD5A00DD99270221B359AB0AE338E423668\",\n",
      "            \"label\": \"acsF\"\n",
      "        },\n",
      "        \"identifier\": {\n",
      "            \"propertyID\": \"UniProtKB\",\n",
      "            \"value\": \"P0DJN9\"\n",
      "        },\n",
      "        \"name\": \"Protein P0DJN9 from UniProtKB\",\n",
      "        \"label\": \"Aerobic magnesium-protoporphyrin IX monomethyl ester [oxidative] cyclase\",\n",
      "        \"subject\": {\n",
      "            \"label\": \"Rubrivivax gelatinosus\"\n",
      "        }\n",
      "    }\n",
      "]\n"
     ]
    }
   ],
   "source": [
    "dict_resource = forge.as_json(raw_proteins[0])\n",
    "mapping = DictionaryMapping.load(\"../../database-sources/UniProt/mappings/DictionaryMapping/Protein.hjson\")\n",
    "print(json.dumps(forge.as_jsonld(uniprot.map(dict_resource, mapping)), indent=4))"
   ]
  }
 ],
 "metadata": {
  "kernelspec": {
   "display_name": "Python 3.7.13 ('kgforge')",
   "language": "python",
   "name": "python3"
  },
  "language_info": {
   "codemirror_mode": {
    "name": "ipython",
    "version": 3
   },
   "file_extension": ".py",
   "mimetype": "text/x-python",
   "name": "python",
   "nbconvert_exporter": "python",
   "pygments_lexer": "ipython3",
   "version": "3.7.13"
  },
  "vscode": {
   "interpreter": {
    "hash": "9ac393a5ddd595f2c78ea58b15bf8d269850a4413729cbea5c5fae9013762763"
   }
  }
 },
 "nbformat": 4,
 "nbformat_minor": 4
}

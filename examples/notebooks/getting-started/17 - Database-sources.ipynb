{
 "cells": [
  {
   "cell_type": "markdown",
   "metadata": {},
   "source": [
    "# Querying external database sources of interest\n",
    "\n",
    "* Enable users to integrate data from external databases of interest within BBP KG\n",
    "* While using the Nexus Forge interface and BMO vocabulary as much as possible as\n",
    "* While benefiting from out of the box (meta)data transformation to make them ready for BBP internal pipelines and applications\n",
    "* Demo with Mouselight, NeuroElectro, UniProt"
   ]
  },
  {
   "cell_type": "code",
   "execution_count": 1,
   "metadata": {
    "ExecuteTime": {
     "end_time": "2019-09-23T18:50:20.068658Z",
     "start_time": "2019-09-23T18:50:19.054054Z"
    }
   },
   "outputs": [],
   "source": [
    "import json\n",
    "\n",
    "from kgforge.core import KnowledgeGraphForge\n",
    "from kgforge.specializations.resources import Dataset"
   ]
  },
  {
   "cell_type": "code",
   "execution_count": 2,
   "metadata": {},
   "outputs": [
    {
     "name": "stdout",
     "output_type": "stream",
     "text": [
      "I am in BBNexus store\n",
      "I am in BBNexus store\n",
      "I am in BBNexus store\n",
      "I am in BBNexus store\n",
      "Configuration {'origin': 'store', 'source': 'SPARQLStore', 'endpoint': 'http://purl.uniprot.org/core/', 'searchendpoints': {'sparql': {'endpoint': 'https://sparql.uniprot.org/sparql'}}, 'model': {'origin': 'directory', 'source': '/Users/cgonzale/Documents/code/nexus-forge/examples/database_sources/UniProt', 'context': {'iri': 'https://bbp.epfl.ch/jsonldcontext/db/uniprot', 'bucket': 'jsonld_context.json'}}}\n",
      "store config {'endpoint': 'http://purl.uniprot.org/core/', 'searchendpoints': {'sparql': {'endpoint': 'https://sparql.uniprot.org/sparql'}}, 'model_context': <kgforge.core.commons.context.Context object at 0x7fb137dcf3d0>}\n",
      "inside SPARQL Store\n",
      "initializing service\n",
      "Configuration {'origin': 'store', 'source': 'BlueBrainNexus', 'bucket': 'bbp/neuroelectro', 'model': {'origin': 'directory', 'source': '/Users/cgonzale/Documents/code/nexus-forge/examples/database_sources/NeuroElectro', 'context': {'bucket': 'jsonld_context.json'}}, 'endpoint': 'https://staging.nise.bbp.epfl.ch/nexus/v1', 'searchendpoints': {'sparql': {'endpoint': 'https://bluebrain.github.io/nexus/vocabulary/defaultSparqlIndex'}, 'elastic': {'endpoint': 'https://bbp.epfl.ch/neurosciencegraph/data/views/aggreg-es/dataset', 'mapping': 'https://bbp.epfl.ch/neurosciencegraph/data/views/es/dataset', 'default_str_keyword_field': 'keyword'}}, 'vocabulary': {'metadata': {'iri': 'https://bluebrain.github.io/nexus/contexts/metadata.json', 'local_iri': 'https://bluebrainnexus.io/contexts/metadata.json'}, 'namespace': 'https://bluebrain.github.io/nexus/vocabulary/', 'deprecated_property': 'https://bluebrain.github.io/nexus/vocabulary/deprecated', 'project_property': 'https://bluebrain.github.io/nexus/vocabulary/project'}, 'max_connection': 50, 'token': 'eyJhbGciOiJSUzI1NiIsInR5cCIgOiAiSldUIiwia2lkIiA6ICI5T0R3Z1JSTFVsTTJHbFphVDZjVklnenJsb0lzUWJmbTBDck1icXNjNHQ4In0.eyJleHAiOjE2NjYwMjkyNjEsImlhdCI6MTY2NjAxODIzNSwiYXV0aF90aW1lIjoxNjY2MDAwNDYxLCJqdGkiOiIxNjQwNTBkOS04OTAzLTQzMjItOWQyZi0xOGQ0ODg3MTYzYWEiLCJpc3MiOiJodHRwczovL2JicGF1dGguZXBmbC5jaC9hdXRoL3JlYWxtcy9CQlAiLCJhdWQiOiJodHRwczovL3NsYWNrLmNvbSIsInN1YiI6ImY6MGZkYWRlZjctYjJiOS00OTJiLWFmNDYtYzY1NDkyZDQ1OWMyOmNnb256YWxlIiwidHlwIjoiQmVhcmVyIiwiYXpwIjoiYmJwLW5pc2Utc3RhZ2luZy1uZXh1cy1mdXNpb24iLCJub25jZSI6IjEwOWM0NDA5YjExZjRkNjI4YjM2NmM2N2MxOGU0MDk5Iiwic2Vzc2lvbl9zdGF0ZSI6ImE4OGU5OWI4LTdmNDQtNGVmNS05YzQ2LWU0ZGJhZmEzZTJhYSIsImFjciI6IjAiLCJyZWFsbV9hY2Nlc3MiOnsicm9sZXMiOlsiYmJwLXBhbS1hdXRoZW50aWNhdGlvbiIsIm9mZmxpbmVfYWNjZXNzIiwidXNlciIsImRlZmF1bHQtcm9sZXMtYmJwIl19LCJyZXNvdXJjZV9hY2Nlc3MiOnsiaHR0cHM6Ly9zbGFjay5jb20iOnsicm9sZXMiOlsic2xhY2tfdXNlcl9yb2xlIl19fSwic2NvcGUiOiJvcGVuaWQgbmV4dXMgcHJvZmlsZSBsb2NhdGlvbiBlbWFpbCIsInNpZCI6ImE4OGU5OWI4LTdmNDQtNGVmNS05YzQ2LWU0ZGJhZmEzZTJhYSIsImVtYWlsX3ZlcmlmaWVkIjp0cnVlLCJuYW1lIjoiQ3Jpc3RpbmEgRWxpemFiZXRoIEdvbnphbGV6IEVzcGlub3phIiwiZ3JvdXBzIjpbIi9iYnAtZGV2LXByb2oxMDkiLCIvYmJwLWRrZS1kZXYiLCIvYmJwLWRldi1wcm9qNjQiLCIvYmJwLWRldi1wcm9qMTE2IiwiL2JicC1vdS1ka2UiLCIvYmJwLWRldi1wcm9qODQiLCIvYmJwLWRrZS1zdGFnaW5nIiwiL2JicC11c2VyLXByb2ozOSIsIi9iYnAtdXNlci1wcm9qNjQiLCIvYmJwLW91LW5ldXJvaW5mb3JtYXRpY3MiLCIvYmJwLXVzZXItcmVsZWFzZS1sMiIsIi9iYnAtb3UtbmV4dXMiLCIvYmJwLXVzZXItY29yZWJsdXJvbiIsIi9iYnAtZGV2LXByb2oxNDEiLCIvYmJwLWRldi1wcm9qMTE1IiwiL2JicC1vdS1zaW11bGF0aW9ubmV1cm9zY2llbmNlIiwiL2JicC1kcy1leHBlcmltZW50IiwiL2JicC1zdmMtbHh2aXoiLCIvYmJwLXVzZXItcHJvajEwNiIsIi9iYnAtc3ZjLXZpeiIsIi9iYnAtdXNlci1yZWxlYXNlLWwxIiwiL2JicC1kZXYtcHJvajU1IiwiL2JicC1kZXYtcHJvajEzNCIsIi9iYnAtZnVsbCIsIi9iYnAtc3ZjLWdpdGxhYiIsIi9iYnAtY29sbGFiLWxpbmthYmxlLWFjY291bnRzIiwiL2JicC1kZXYtcmVmaW5lbWVudHByb3AiLCIvYmJwLWRldi1wcm9qODMiLCIvYmJwLWl0Yy1kYXRhaW50ZWdyYXRpb24iLCIvYmJwLWRldi1wcm9qMTA1IiwiL2JicC1zdmMtYmc0IiwiL2JicC1kZXYtcHJvajgyIiwiL2JicC1zcnYtbGluc3J2MiIsIi9iYnAtdXNlci1wcm9qOTQiLCIvYmJwLWRldi1wcm9qNzIiLCIvYmJwLXVzZXItcHJvajEyMyIsIi9iYnAtZHMtaHBjIiwiL2JicC1ka2UtcHJvZHVjdGlvbiIsIi9iYnAtdXNlci1wcm9qMTE2IiwiL2JicC1kZXYtcHJvajEzNiIsIi9iYnAtdXNlci1yZWxlYXNlLWwwIiwiL2JicF9jb25mbHVlbmNlIiwiL2JicC1vdS1lcGZsIiwiL2JicC11c2VyLXByb2oxMTQiLCIvYmJwLXN2Yy1ocGMiLCIvYmJwLXVzZXItcHJvajQyIiwiL2JicC1zdmMtY29kZSIsIi9iYnAtZGV2LXByb2oxMzIiLCIvYmJwLXN2Yy1zbGFjayIsIi9iYnAtbmV4dXMtZGV2IiwiL2JicC1zdGFmZiIsIi9iYnAtZGV2LWhicHZpeiIsIi9iYnAtZGV2LXByb2plY3Rwcm9wIiwiL2JicC1zdmMta3ViZXJuZXRlcyIsIi9iYnAtc3ZjLXN0YXR1cyIsIi9iYnAtcHVibGljYXRpb25zIiwiL2JicC11c2VyLXByb2ozIl0sImxvY2F0aW9uIjoiQjEgMyAyODQuMDUyIiwicHJlZmVycmVkX3VzZXJuYW1lIjoiY2dvbnphbGUiLCJnaXZlbl9uYW1lIjoiQ3Jpc3RpbmEgRWxpemFiZXRoIEdvbnphbGV6IiwiZmFtaWx5X25hbWUiOiJFc3Bpbm96YSIsImVtYWlsIjoiY3Jpc3RpbmEuZ29uemFsZXplc3Bpbm96YUBlcGZsLmNoIn0.XHZ55pSp2zRQcgcvsXHYWS2adj12K411PtQaZesiABtKH9tgsjz0dgY_4ijneBHdHd1zgmqNRFqnHHd78EMD7XoHtmbpZOI5h1t12wK2YbI35mOwLfS1RcRnT6kKMuiFe5m4AzW1XWwHn9AcO_xeZTbixL2vqPLfdPg1jzk5uW-rgs3Sg-77Kr3LEBVTzVSHSokhtTqjHNY2EQlBljmpJpGCno-6keLX5LrNERFek303oJrAIgvfGSCcpKoHYYWCPiReD4-cjd8l-zMCVrfxCeuRhihVSpNGgPX67F4O7u8EnU_EMeA39eg9HSp5KahhrGwecCzqPMVg4R37cysz_Q', 'versioned_id_template': '{x.id}?rev={x._store_metadata._rev}', 'file_resource_mapping': 'https://raw.githubusercontent.com/BlueBrain/nexus-forge/master/examples/configurations/nexus-store/file-to-resource-mapping.hjson', 'model_context': <kgforge.core.commons.context.Context object at 0x7fb1383e2f50>, 'name': 'BlueBrainNexus'}\n",
      "store config {'bucket': 'bbp/neuroelectro', 'endpoint': 'https://staging.nise.bbp.epfl.ch/nexus/v1', 'searchendpoints': {'sparql': {'endpoint': 'https://bluebrain.github.io/nexus/vocabulary/defaultSparqlIndex'}, 'elastic': {'endpoint': 'https://bbp.epfl.ch/neurosciencegraph/data/views/aggreg-es/dataset', 'mapping': 'https://bbp.epfl.ch/neurosciencegraph/data/views/es/dataset', 'default_str_keyword_field': 'keyword'}}, 'vocabulary': {'metadata': {'iri': 'https://bluebrain.github.io/nexus/contexts/metadata.json', 'local_iri': 'https://bluebrainnexus.io/contexts/metadata.json'}, 'namespace': 'https://bluebrain.github.io/nexus/vocabulary/', 'deprecated_property': 'https://bluebrain.github.io/nexus/vocabulary/deprecated', 'project_property': 'https://bluebrain.github.io/nexus/vocabulary/project'}, 'max_connection': 50, 'token': 'eyJhbGciOiJSUzI1NiIsInR5cCIgOiAiSldUIiwia2lkIiA6ICI5T0R3Z1JSTFVsTTJHbFphVDZjVklnenJsb0lzUWJmbTBDck1icXNjNHQ4In0.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.XHZ55pSp2zRQcgcvsXHYWS2adj12K411PtQaZesiABtKH9tgsjz0dgY_4ijneBHdHd1zgmqNRFqnHHd78EMD7XoHtmbpZOI5h1t12wK2YbI35mOwLfS1RcRnT6kKMuiFe5m4AzW1XWwHn9AcO_xeZTbixL2vqPLfdPg1jzk5uW-rgs3Sg-77Kr3LEBVTzVSHSokhtTqjHNY2EQlBljmpJpGCno-6keLX5LrNERFek303oJrAIgvfGSCcpKoHYYWCPiReD4-cjd8l-zMCVrfxCeuRhihVSpNGgPX67F4O7u8EnU_EMeA39eg9HSp5KahhrGwecCzqPMVg4R37cysz_Q', 'versioned_id_template': '{x.id}?rev={x._store_metadata._rev}', 'file_resource_mapping': 'https://raw.githubusercontent.com/BlueBrain/nexus-forge/master/examples/configurations/nexus-store/file-to-resource-mapping.hjson', 'model_context': None}\n",
      "I am in BBNexus store\n"
     ]
    }
   ],
   "source": [
    "endpoint = \"https://staging.nise.bbp.epfl.ch/nexus/v1\"\n",
    "BUCKET = \"neurosciencegraph/datamodels\"\n",
    "forge = KnowledgeGraphForge(\"../../configurations/database-sources/prod-nexus-sources_progress.yml\", endpoint=endpoint, bucket=BUCKET)"
   ]
  },
  {
   "cell_type": "markdown",
   "metadata": {},
   "source": [
    "# List of Data sources"
   ]
  },
  {
   "cell_type": "code",
   "execution_count": 3,
   "metadata": {},
   "outputs": [
    {
     "name": "stdout",
     "output_type": "stream",
     "text": [
      "Available Database sources:\n",
      "UniProt\n",
      "NeuroElectro\n"
     ]
    }
   ],
   "source": [
    "forge.db_sources(pretty=True)"
   ]
  },
  {
   "cell_type": "code",
   "execution_count": 4,
   "metadata": {},
   "outputs": [],
   "source": [
    "sources = forge.db_sources()"
   ]
  },
  {
   "cell_type": "code",
   "execution_count": 5,
   "metadata": {},
   "outputs": [],
   "source": [
    "\n",
    "data = {\n",
    "       'origin': 'store',\n",
    "       'source': 'DemoStore',\n",
    "       'model': { \n",
    "          'name': 'DemoModel',\n",
    "          'origin': 'directory',\n",
    "          'source': \"../../../tests/data/demo-model/\" \n",
    "        }\n",
    "}\n"
   ]
  },
  {
   "cell_type": "code",
   "execution_count": 6,
   "metadata": {},
   "outputs": [
    {
     "name": "stdout",
     "output_type": "stream",
     "text": [
      "store config {'model_context': None}\n"
     ]
    }
   ],
   "source": [
    "from kgforge.specializations.databases import StoreDatabase\n",
    "ds = StoreDatabase(forge, name=\"DemoDB\", **data)"
   ]
  },
  {
   "cell_type": "code",
   "execution_count": 7,
   "metadata": {},
   "outputs": [],
   "source": [
    "# print(ds)"
   ]
  },
  {
   "cell_type": "code",
   "execution_count": 8,
   "metadata": {},
   "outputs": [
    {
     "name": "stdout",
     "output_type": "stream",
     "text": [
      "Available Database sources:\n",
      "UniProt\n",
      "NeuroElectro\n"
     ]
    }
   ],
   "source": [
    "forge.db_sources(pretty=True)"
   ]
  },
  {
   "cell_type": "markdown",
   "metadata": {},
   "source": [
    "# Data source metadata"
   ]
  },
  {
   "cell_type": "code",
   "execution_count": 9,
   "metadata": {},
   "outputs": [],
   "source": [
    "neuroelectro = sources['NeuroElectro']"
   ]
  },
  {
   "cell_type": "markdown",
   "metadata": {},
   "source": [
    "## Get data mappings (hold transformations logic) per data type\n",
    "\n",
    "* Data mappings are used to transform results obtained from the external data sources so that they are ready for consumption by BBP tools\n",
    "* Perform automatic ontology linking"
   ]
  },
  {
   "cell_type": "code",
   "execution_count": 10,
   "metadata": {},
   "outputs": [
    {
     "data": {
      "text/plain": [
       "{'ElectrophysiologicalFeatureAnnotation': ['DictionaryMapping'],\n",
       " 'ParameterAnnotation': ['DictionaryMapping'],\n",
       " 'ParameterBody': ['DictionaryMapping'],\n",
       " 'ScholarlyArticle': ['DictionaryMapping'],\n",
       " 'SeriesBody': ['DictionaryMapping']}"
      ]
     },
     "execution_count": 10,
     "metadata": {},
     "output_type": "execute_result"
    }
   ],
   "source": [
    "forge.mappings(\"NeuroElectro\")"
   ]
  },
  {
   "cell_type": "code",
   "execution_count": 11,
   "metadata": {},
   "outputs": [
    {
     "data": {
      "text/plain": [
       "{'Gene': ['DictionaryMapping'], 'Protein': ['DictionaryMapping']}"
      ]
     },
     "execution_count": 11,
     "metadata": {},
     "output_type": "execute_result"
    }
   ],
   "source": [
    "forge.mappings('UniProt')"
   ]
  },
  {
   "cell_type": "code",
   "execution_count": 12,
   "metadata": {},
   "outputs": [],
   "source": [
    "from kgforge.specializations.mappings import DictionaryMapping\n",
    "mapping = forge.mapping(\"ScholarlyArticle\", \"NeuroElectro\")\n",
    "direct_mapping = neuroelectro.mapping(\"ScholarlyArticle\", type=DictionaryMapping)"
   ]
  },
  {
   "cell_type": "code",
   "execution_count": 13,
   "metadata": {},
   "outputs": [
    {
     "name": "stdout",
     "output_type": "stream",
     "text": [
      "{\n",
      "    id: forge.format(\"identifier\", \"scholarlyarticles\", x.id)\n",
      "    type:\n",
      "    [\n",
      "        Entity\n",
      "        ScholarlyArticle\n",
      "    ]\n",
      "    abstract: x.abstract\n",
      "    author: x.authors_shaped\n",
      "    datePublished: x.date_issued\n",
      "    identifier: x.identifiers\n",
      "    isPartOf:\n",
      "    {\n",
      "        type: Periodical\n",
      "        issn: x.issn\n",
      "        name: x.journal\n",
      "        publisher: x.publisher\n",
      "    }\n",
      "    name: f\"article_{x.id}\"\n",
      "    sameAs: x.full_text_link\n",
      "    title: x.title\n",
      "    url: x.full_text_link\n",
      "}\n"
     ]
    }
   ],
   "source": [
    "print(mapping)"
   ]
  },
  {
   "cell_type": "code",
   "execution_count": 14,
   "metadata": {},
   "outputs": [
    {
     "name": "stdout",
     "output_type": "stream",
     "text": [
      "{\n",
      "    id: forge.format(\"identifier\", \"scholarlyarticles\", x.id)\n",
      "    type:\n",
      "    [\n",
      "        Entity\n",
      "        ScholarlyArticle\n",
      "    ]\n",
      "    abstract: x.abstract\n",
      "    author: x.authors_shaped\n",
      "    datePublished: x.date_issued\n",
      "    identifier: x.identifiers\n",
      "    isPartOf:\n",
      "    {\n",
      "        type: Periodical\n",
      "        issn: x.issn\n",
      "        name: x.journal\n",
      "        publisher: x.publisher\n",
      "    }\n",
      "    name: f\"article_{x.id}\"\n",
      "    sameAs: x.full_text_link\n",
      "    title: x.title\n",
      "    url: x.full_text_link\n",
      "}\n"
     ]
    }
   ],
   "source": [
    "print(direct_mapping)"
   ]
  },
  {
   "cell_type": "code",
   "execution_count": 15,
   "metadata": {},
   "outputs": [
    {
     "data": {
      "text/plain": [
       "{'UniProt': StoreDatabase(context=<kgforge.core.commons.context.Context object at 0x7fb137dcf3d0>, type='Database', _dirpath='/Users/cgonzale/Documents/code/nexus-forge/examples/database_sources/UniProt', _forge=<kgforge.core.forge.KnowledgeGraphForge object at 0x7fb136a9f610>, name='UniProt', service=SPARQLStore(context=None, bucket=None, endpoint='http://purl.uniprot.org/core/', file_mapping=None, metadata_context=None, model_context=<kgforge.core.commons.context.Context object at 0x7fb137dcf3d0>, service=<kgforge.specializations.stores.databases.service.Service object at 0x7fb134137d10>, token=None, versioned_id_template=None), source='SPARQLStore')}"
      ]
     },
     "execution_count": 15,
     "metadata": {},
     "output_type": "execute_result"
    }
   ],
   "source": [
    "forge.db_sources(mappings='Gene')"
   ]
  },
  {
   "cell_type": "markdown",
   "metadata": {},
   "source": [
    "# Search and Access data from data source\n",
    "\n",
    "* Mapping are automatically applied to search results\n",
    "* takes a mn for now => working on making it faster "
   ]
  },
  {
   "cell_type": "code",
   "execution_count": 18,
   "metadata": {},
   "outputs": [
    {
     "name": "stdout",
     "output_type": "stream",
     "text": [
      "<action> search\n",
      "<error> ValueError: context model missing\n",
      "\n"
     ]
    }
   ],
   "source": [
    "# Type, source or target brain region, \n",
    "filters = {\"type\":\"ScholarlyArticle\"}\n",
    "#map=True, use_cache=True, # download=True\n",
    "resources = forge.search(filters, db_source=\"NeuroElectro\", limit=2) \n",
    "# ADd function for checking datsource health => reqsuire health url from db\n"
   ]
  },
  {
   "cell_type": "code",
   "execution_count": 19,
   "metadata": {},
   "outputs": [
    {
     "ename": "TypeError",
     "evalue": "object of type 'NoneType' has no len()",
     "output_type": "error",
     "traceback": [
      "\u001b[0;31m---------------------------------------------------------------------------\u001b[0m",
      "\u001b[0;31mTypeError\u001b[0m                                 Traceback (most recent call last)",
      "\u001b[0;32m/var/folders/6p/k45nvhcs7v1_n9bd5g67wc3ctt8hpq/T/ipykernel_81136/3721108832.py\u001b[0m in \u001b[0;36m<module>\u001b[0;34m\u001b[0m\n\u001b[0;32m----> 1\u001b[0;31m \u001b[0mlen\u001b[0m\u001b[0;34m(\u001b[0m\u001b[0mresources\u001b[0m\u001b[0;34m)\u001b[0m\u001b[0;34m\u001b[0m\u001b[0;34m\u001b[0m\u001b[0m\n\u001b[0m",
      "\u001b[0;31mTypeError\u001b[0m: object of type 'NoneType' has no len()"
     ]
    }
   ],
   "source": [
    "len(resources)"
   ]
  },
  {
   "cell_type": "code",
   "execution_count": null,
   "metadata": {},
   "outputs": [
    {
     "name": "stdout",
     "output_type": "stream",
     "text": [
      "{\n",
      "    context: https://bbp.neuroshapes.org\n",
      "    id: https://bbp.epfl.ch/neurosciencegraph/data/scholarlyarticles/14353\n",
      "    type:\n",
      "    [\n",
      "        Entity\n",
      "        ScholarlyArticle\n",
      "    ]\n",
      "    abstract: Cerebellar Purkinje cells (PCs) from spinocerebellar ataxia type 1 (SCA1) transgenic mice develop dendritic and somatic atrophy with age. Inositol 1,4,5-trisphosphate receptor type 1 and the sarco/endoplasmic reticulum Ca(2+) ATPase pump, which regulate [Ca(2+)](i), are expressed at lower levels in these cells compared with the levels in cells from wild-type (WT) mice. To examine PCs in SCA1 mice, we used whole-cell patch clamp recording combined with fluorometric [Ca(2+)](i) and [Na(+)](i) measurements in cerebellar slices. PCs in SCA1 mice had Na(+) spikes, Ca(2+) spikes, climbing fiber (CF) electrical responses, parallel fiber (PF) electrical responses, and metabotropic glutamate receptor (mGluR)-mediated, PF-evoked Ca(2+) release from intracellular stores that were qualitatively similar to those recorded from WT mice. Under our experimental conditions, it was easier to evoke the mGluR-mediated secondary [Ca(2+)](i) increase in SCA1 PCs. The membrane resistance of SCA1 PCs was 3.3 times higher than that of WT cells, which correlated with the 1.7 times smaller cell body size. Most SCA1 PCs (but not WT) had a delayed onset (about 50--200 ms) to Na(+) spike firing induced by current injection. This delay was increased by hyperpolarizing prepulses and was eliminated by 4-aminopyridine, which suggests that this delay was due to enhancement of the A-like K(+) conductance in the SCA1 PCs. In response to CF stimulation, most PCs in mutant and WT mice had rapid, widespread [Ca(2+)](i) changes that recovered in <200 ms. Some SCA1 PCs showed a slow, localized, secondary Ca(2+) transient following the initial CF Ca(2+) transient, which may reflect release of Ca(2+) from intracellular stores. Thus, with these exceptions, the basic physiological properties of mutant PCs are similar to those of WT neurons, even with dramatic alteration of their morphology and downregulation of Ca(2+) handling molecules.\n",
      "    author:\n",
      "    [\n",
      "        {\n",
      "            type: Person\n",
      "            familyName: Inoue\n",
      "            givenName: T\n",
      "        }\n",
      "        {\n",
      "            type: Person\n",
      "            familyName: Lin\n",
      "            givenName: X\n",
      "        }\n",
      "        {\n",
      "            type: Person\n",
      "            familyName: Kohlmeier\n",
      "            givenName: K A\n",
      "        }\n",
      "        {\n",
      "            type: Person\n",
      "            familyName: Orr\n",
      "            givenName: H T\n",
      "        }\n",
      "        {\n",
      "            type: Person\n",
      "            familyName: Zoghbi\n",
      "            givenName: H Y\n",
      "        }\n",
      "        {\n",
      "            type: Person\n",
      "            familyName: Ross\n",
      "            givenName: W N\n",
      "        }\n",
      "    ]\n",
      "    datePublished: 2001-4\n",
      "    identifier:\n",
      "    [\n",
      "        {\n",
      "            propertyID: PMID\n",
      "            value: 11287496\n",
      "        }\n",
      "        {\n",
      "            propertyID: doi\n",
      "            value: 10.1152/jn.2001.85.4.1750\n",
      "        }\n",
      "    ]\n",
      "    isPartOf:\n",
      "    {\n",
      "        type: Periodical\n",
      "        issn: 0022-3077\n",
      "        name: Journal of neurophysiology\n",
      "    }\n",
      "    name: article_14353\n",
      "    sameAs: http://jn.physiology.org/content/85/4/1750.long\n",
      "    title: Calcium dynamics and electrophysiological properties of cerebellar Purkinje cells in SCA1 transgenic mice.\n",
      "    url: http://jn.physiology.org/content/85/4/1750.long\n",
      "}\n"
     ]
    }
   ],
   "source": [
    "print(resources[0])"
   ]
  },
  {
   "cell_type": "code",
   "execution_count": null,
   "metadata": {},
   "outputs": [],
   "source": [
    "uquery = \"\"\"\n",
    "PREFIX up: <http://purl.uniprot.org/core/>\n",
    "SELECT ?protein\n",
    "WHERE {\n",
    "  ?protein a up:Protein ;\n",
    "  up:reviewed true.\n",
    "}\n",
    "\"\"\""
   ]
  },
  {
   "cell_type": "code",
   "execution_count": null,
   "metadata": {},
   "outputs": [
    {
     "name": "stdout",
     "output_type": "stream",
     "text": [
      "query in sparql \n",
      "PREFIX up: <http://purl.uniprot.org/core/>\n",
      "SELECT ?protein\n",
      "WHERE {\n",
      "  ?protein a up:Protein ;\n",
      "  up:reviewed true.\n",
      "}\n",
      "\n",
      "Submitted query:\n",
      "   \n",
      "   PREFIX up: <http://purl.uniprot.org/core/>\n",
      "   SELECT ?protein\n",
      "   WHERE {\n",
      "     ?protein a up:Protein ;\n",
      "     up:reviewed true.\n",
      "   }\n",
      "     LIMIT 10\n",
      "\n",
      "amount of results = 10\n"
     ]
    }
   ],
   "source": [
    "uresources = forge.sparql(query=uquery, db_source='UniProt', limit=10, debug=True)"
   ]
  },
  {
   "cell_type": "code",
   "execution_count": null,
   "metadata": {},
   "outputs": [
    {
     "data": {
      "text/plain": [
       "10"
      ]
     },
     "execution_count": 24,
     "metadata": {},
     "output_type": "execute_result"
    }
   ],
   "source": [
    "len(uresources)"
   ]
  },
  {
   "cell_type": "code",
   "execution_count": null,
   "metadata": {},
   "outputs": [
    {
     "data": {
      "text/plain": [
       "Resource(_last_action=None, _validated=False, _synchronized=False, _store_metadata=None, _inner_sync=False, protein=Resource(_last_action=None, _validated=False, _synchronized=False, _store_metadata=None, id='http://purl.uniprot.org/uniprot/A0A131MCZ8', _inner_sync=False, annotationScore=5.0, comments=[{'texts': [{'evidences': [{'evidenceCode': 'ECO:0000269', 'source': 'PubMed', 'id': '27564576'}], 'value': 'Probable metal transporter. Probably acts redundantly with the other metal transport proteins cnnm-1, cnnm-2, cnnm-4 and cnnm-5 to regulate Mg(2+) homeostasis. Promotes postembryonic gonad development by regulating Mg(2+) levels, probably via AMPK signaling'}], 'commentType': 'FUNCTION'}, {'commentType': 'SUBCELLULAR LOCATION', 'subcellularLocations': [{'location': {'evidences': [{'evidenceCode': 'ECO:0000269', 'source': 'PubMed', 'id': '27564576'}], 'value': 'Basolateral cell membrane', 'id': 'SL-0026'}, 'topology': {'evidences': [{'evidenceCode': 'ECO:0000255'}], 'value': 'Multi-pass membrane protein', 'id': 'SL-9909'}}]}, {'commentType': 'ALTERNATIVE PRODUCTS', 'events': ['Alternative splicing'], 'isoforms': [{'name': {'evidences': [{'evidenceCode': 'ECO:0000312', 'source': 'WormBase', 'id': 'C33D12.2a'}], 'value': 'a'}, 'isoformIds': ['A0A131MCZ8-1'], 'isoformSequenceStatus': 'Displayed'}, {'name': {'evidences': [{'evidenceCode': 'ECO:0000312', 'source': 'WormBase', 'id': 'C33D12.2b'}], 'value': 'b'}, 'isoformIds': ['A0A131MCZ8-2'], 'sequenceIds': ['VSP_058662'], 'isoformSequenceStatus': 'Described'}, {'name': {'evidences': [{'evidenceCode': 'ECO:0000312', 'source': 'WormBase', 'id': 'C33D12.2c'}], 'value': 'c'}, 'isoformIds': ['A0A131MCZ8-3'], 'sequenceIds': ['VSP_058663', 'VSP_058664'], 'isoformSequenceStatus': 'Described'}, {'name': {'evidences': [{'evidenceCode': 'ECO:0000312', 'source': 'WormBase', 'id': 'C33D12.2d'}], 'value': 'd'}, 'isoformIds': ['A0A131MCZ8-4'], 'sequenceIds': ['VSP_058662', 'VSP_058663', 'VSP_058664'], 'isoformSequenceStatus': 'Described'}]}, {'texts': [{'evidences': [{'evidenceCode': 'ECO:0000269', 'source': 'PubMed', 'id': '27564576'}], 'value': 'Highly expressed in the intestine and in neurons, but it is also expressed in a variety of tissues including the pharynx, hypodermis, rectum and in muscles'}], 'commentType': 'TISSUE SPECIFICITY'}, {'texts': [{'evidences': [{'evidenceCode': 'ECO:0000269', 'source': 'PubMed', 'id': '27564576'}], 'value': 'No visible phenotype. Double knockout with cnnm-1 results in increased levels of intestinal Mg(2+) and reduced levels in other tissues. This Mg(2+) deficiency in tissues leads to a reduced lifespan, 100% sterility, and smaller animals that exhibit a developmental delay with defective gonad development and which therefore do not produce oocytes or form vulva. In addition, the gonad development defect in the cnnm-1 and cnnm-3 double knockout is rescued when the AMPK alpha subunit aak-2 is also knocked out. Double knockout with cnnm-2 results in 22% sterility. Quintuple knockout with cnnm-1, cnnm-2, cnnm-4 and cnnm-5 results in a reduced lifespan and 100% sterility'}], 'commentType': 'DISRUPTION PHENOTYPE'}, {'texts': [{'evidences': [{'evidenceCode': 'ECO:0000305'}], 'value': 'Belongs to the ACDP family'}], 'commentType': 'SIMILARITY'}], entryAudit={'firstPublicDate': '2016-11-30', 'lastAnnotationUpdateDate': '2022-08-03', 'lastSequenceUpdateDate': '2016-05-11', 'entryVersion': 37, 'sequenceVersion': 1}, entryType='UniProtKB reviewed (Swiss-Prot)', extraAttributes={'countByCommentType': {'FUNCTION': 1, 'SUBCELLULAR LOCATION': 1, 'ALTERNATIVE PRODUCTS': 4, 'TISSUE SPECIFICITY': 1, 'DISRUPTION PHENOTYPE': 1, 'SIMILARITY': 1}, 'countByFeatureType': {'Signal': 1, 'Chain': 1, 'Topological domain': 5, 'Transmembrane': 4, 'Domain': 3, 'Glycosylation': 7, 'Alternative sequence': 3}, 'uniParcId': 'UPI00077FE610'}, features=[{'type': 'Signal', 'location': {'start': {'value': 1, 'modifier': 'EXACT'}, 'end': {'value': 23, 'modifier': 'EXACT'}}, 'description': '', 'evidences': [{'evidenceCode': 'ECO:0000255'}]}, {'type': 'Chain', 'location': {'start': {'value': 24, 'modifier': 'EXACT'}, 'end': {'value': 797, 'modifier': 'EXACT'}}, 'description': 'Metal transporter cnnm-3', 'evidences': [{'evidenceCode': 'ECO:0000305'}], 'featureId': 'PRO_5007283697'}, {'type': 'Topological domain', 'location': {'start': {'value': 24, 'modifier': 'EXACT'}, 'end': {'value': 200, 'modifier': 'EXACT'}}, 'description': 'Extracellular', 'evidences': [{'evidenceCode': 'ECO:0000305'}]}, {'type': 'Transmembrane', 'location': {'start': {'value': 201, 'modifier': 'EXACT'}, 'end': {'value': 221, 'modifier': 'EXACT'}}, 'description': 'Helical', 'evidences': [{'evidenceCode': 'ECO:0000255'}]}, {'type': 'Topological domain', 'location': {'start': {'value': 222, 'modifier': 'EXACT'}, 'end': {'value': 255, 'modifier': 'EXACT'}}, 'description': 'Cytoplasmic', 'evidences': [{'evidenceCode': 'ECO:0000305'}]}, {'type': 'Transmembrane', 'location': {'start': {'value': 256, 'modifier': 'EXACT'}, 'end': {'value': 276, 'modifier': 'EXACT'}}, 'description': 'Helical', 'evidences': [{'evidenceCode': 'ECO:0000255'}]}, {'type': 'Topological domain', 'location': {'start': {'value': 277, 'modifier': 'EXACT'}, 'end': {'value': 280, 'modifier': 'EXACT'}}, 'description': 'Extracellular', 'evidences': [{'evidenceCode': 'ECO:0000305'}]}, {'type': 'Transmembrane', 'location': {'start': {'value': 281, 'modifier': 'EXACT'}, 'end': {'value': 301, 'modifier': 'EXACT'}}, 'description': 'Helical', 'evidences': [{'evidenceCode': 'ECO:0000255'}]}, {'type': 'Topological domain', 'location': {'start': {'value': 302, 'modifier': 'EXACT'}, 'end': {'value': 322, 'modifier': 'EXACT'}}, 'description': 'Cytoplasmic', 'evidences': [{'evidenceCode': 'ECO:0000305'}]}, {'type': 'Transmembrane', 'location': {'start': {'value': 323, 'modifier': 'EXACT'}, 'end': {'value': 343, 'modifier': 'EXACT'}}, 'description': 'Helical', 'evidences': [{'evidenceCode': 'ECO:0000255'}]}, {'type': 'Topological domain', 'location': {'start': {'value': 344, 'modifier': 'EXACT'}, 'end': {'value': 797, 'modifier': 'EXACT'}}, 'description': 'Extracellular', 'evidences': [{'evidenceCode': 'ECO:0000305'}]}, {'type': 'Domain', 'location': {'start': {'value': 193, 'modifier': 'EXACT'}, 'end': {'value': 373, 'modifier': 'EXACT'}}, 'description': 'CNNM transmembrane', 'evidences': [{'evidenceCode': 'ECO:0000255', 'source': 'PROSITE-ProRule', 'id': 'PRU01193'}]}, {'type': 'Domain', 'location': {'start': {'value': 393, 'modifier': 'EXACT'}, 'end': {'value': 454, 'modifier': 'EXACT'}}, 'description': 'CBS 1', 'evidences': [{'evidenceCode': 'ECO:0000255', 'source': 'PROSITE-ProRule', 'id': 'PRU00703'}]}, {'type': 'Domain', 'location': {'start': {'value': 461, 'modifier': 'EXACT'}, 'end': {'value': 527, 'modifier': 'EXACT'}}, 'description': 'CBS 2', 'evidences': [{'evidenceCode': 'ECO:0000255', 'source': 'PROSITE-ProRule', 'id': 'PRU00703'}]}, {'type': 'Glycosylation', 'location': {'start': {'value': 31, 'modifier': 'EXACT'}, 'end': {'value': 31, 'modifier': 'EXACT'}}, 'description': 'N-linked (GlcNAc...) asparagine', 'evidences': [{'evidenceCode': 'ECO:0000255', 'source': 'PROSITE-ProRule', 'id': 'PRU00498'}], 'featureId': ''}, {'type': 'Glycosylation', 'location': {'start': {'value': 42, 'modifier': 'EXACT'}, 'end': {'value': 42, 'modifier': 'EXACT'}}, 'description': 'N-linked (GlcNAc...) asparagine', 'evidences': [{'evidenceCode': 'ECO:0000255', 'source': 'PROSITE-ProRule', 'id': 'PRU00498'}], 'featureId': ''}, {'type': 'Glycosylation', 'location': {'start': {'value': 676, 'modifier': 'EXACT'}, 'end': {'value': 676, 'modifier': 'EXACT'}}, 'description': 'N-linked (GlcNAc...) asparagine', 'evidences': [{'evidenceCode': 'ECO:0000255', 'source': 'PROSITE-ProRule', 'id': 'PRU00498'}], 'featureId': ''}, {'type': 'Glycosylation', 'location': {'start': {'value': 692, 'modifier': 'EXACT'}, 'end': {'value': 692, 'modifier': 'EXACT'}}, 'description': 'N-linked (GlcNAc...) asparagine', 'evidences': [{'evidenceCode': 'ECO:0000255', 'source': 'PROSITE-ProRule', 'id': 'PRU00498'}], 'featureId': ''}, {'type': 'Glycosylation', 'location': {'start': {'value': 724, 'modifier': 'EXACT'}, 'end': {'value': 724, 'modifier': 'EXACT'}}, 'description': 'N-linked (GlcNAc...) asparagine', 'evidences': [{'evidenceCode': 'ECO:0000255', 'source': 'PROSITE-ProRule', 'id': 'PRU00498'}], 'featureId': ''}, {'type': 'Glycosylation', 'location': {'start': {'value': 731, 'modifier': 'EXACT'}, 'end': {'value': 731, 'modifier': 'EXACT'}}, 'description': 'N-linked (GlcNAc...) asparagine', 'evidences': [{'evidenceCode': 'ECO:0000255', 'source': 'PROSITE-ProRule', 'id': 'PRU00498'}], 'featureId': ''}, {'type': 'Glycosylation', 'location': {'start': {'value': 761, 'modifier': 'EXACT'}, 'end': {'value': 761, 'modifier': 'EXACT'}}, 'description': 'N-linked (GlcNAc...) asparagine', 'evidences': [{'evidenceCode': 'ECO:0000255', 'source': 'PROSITE-ProRule', 'id': 'PRU00498'}], 'featureId': ''}, {'type': 'Alternative sequence', 'location': {'start': {'value': 1, 'modifier': 'EXACT'}, 'end': {'value': 547, 'modifier': 'EXACT'}}, 'description': 'in isoform b and isoform d', 'evidences': [{'evidenceCode': 'ECO:0000305'}], 'featureId': 'VSP_058662', 'alternativeSequence': {}}, {'type': 'Alternative sequence', 'location': {'start': {'value': 753, 'modifier': 'EXACT'}, 'end': {'value': 766, 'modifier': 'EXACT'}}, 'description': 'in isoform c and isoform d', 'evidences': [{'evidenceCode': 'ECO:0000305'}], 'featureId': 'VSP_058663', 'alternativeSequence': {'originalSequence': 'DAVSTPIRNGSVKL', 'alternativeSequences': ['KYLIGRWKRRGTYV']}}, {'type': 'Alternative sequence', 'location': {'start': {'value': 767, 'modifier': 'EXACT'}, 'end': {'value': 797, 'modifier': 'EXACT'}}, 'description': 'in isoform c and isoform d', 'evidences': [{'evidenceCode': 'ECO:0000305'}], 'featureId': 'VSP_058664', 'alternativeSequence': {}}], genes=[{'geneName': {'evidences': [{'evidenceCode': 'ECO:0000312', 'source': 'WormBase', 'id': 'C33D12.2a'}], 'value': 'cnnm-3'}, 'orfNames': [{'evidences': [{'evidenceCode': 'ECO:0000312', 'source': 'WormBase', 'id': 'C33D12.2a'}], 'value': 'C33D12.2'}]}], keywords=[{'id': 'KW-0025', 'category': 'Coding sequence diversity', 'name': 'Alternative splicing'}, {'id': 'KW-0129', 'category': 'Domain', 'name': 'CBS domain'}, {'id': 'KW-1003', 'category': 'Cellular component', 'name': 'Cell membrane'}, {'id': 'KW-0325', 'category': 'PTM', 'name': 'Glycoprotein'}, {'id': 'KW-0406', 'category': 'Biological process', 'name': 'Ion transport'}, {'id': 'KW-0472', 'category': 'Cellular component', 'name': 'Membrane'}, {'id': 'KW-1185', 'category': 'Technical term', 'name': 'Reference proteome'}, {'id': 'KW-0677', 'category': 'Domain', 'name': 'Repeat'}, {'id': 'KW-0732', 'category': 'Domain', 'name': 'Signal'}, {'id': 'KW-0812', 'category': 'Domain', 'name': 'Transmembrane'}, {'id': 'KW-1133', 'category': 'Domain', 'name': 'Transmembrane helix'}, {'id': 'KW-0813', 'category': 'Biological process', 'name': 'Transport'}], organism={'scientificName': 'Caenorhabditis elegans', 'taxonId': 6239, 'evidences': [{'evidenceCode': 'ECO:0000312', 'source': 'Proteomes', 'id': 'UP000001940'}], 'lineage': ['Eukaryota', 'Metazoa', 'Ecdysozoa', 'Nematoda', 'Chromadorea', 'Rhabditida', 'Rhabditina', 'Rhabditomorpha', 'Rhabditoidea', 'Rhabditidae', 'Peloderinae', 'Caenorhabditis']}, primaryAccession='A0A131MCZ8', proteinDescription={'recommendedName': {'fullName': {'evidences': [{'evidenceCode': 'ECO:0000305'}], 'value': 'Metal transporter cnnm-3'}}, 'alternativeNames': [{'fullName': {'evidences': [{'evidenceCode': 'ECO:0000312', 'source': 'WormBase', 'id': 'C33D12.2a'}], 'value': 'CNNM family homolog 3'}}], 'flag': 'Precursor'}, proteinExistence='2: Evidence at transcript level', references=[{'citation': {'id': '9851916', 'citationType': 'journal article', 'authoringGroup': ['The C. elegans sequencing consortium'], 'citationCrossReferences': [{'database': 'PubMed', 'id': '9851916'}, {'database': 'DOI', 'id': '10.1126/science.282.5396.2012'}], 'title': 'Genome sequence of the nematode C. elegans: a platform for investigating biology.', 'publicationDate': '1998', 'journal': 'Science', 'firstPage': '2012', 'lastPage': '2018', 'volume': '282'}, 'referencePositions': ['NUCLEOTIDE SEQUENCE [LARGE SCALE GENOMIC DNA]'], 'referenceComments': [{'evidences': [{'evidenceCode': 'ECO:0000312', 'source': 'Proteomes', 'id': 'UP000001940'}], 'value': 'Bristol N2', 'type': 'STRAIN'}], 'evidences': [{'evidenceCode': 'ECO:0000312', 'source': 'Proteomes', 'id': 'UP000001940'}]}, {'citation': {'id': '27564576', 'citationType': 'journal article', 'authors': ['Ishii T.', 'Funato Y.', 'Hashizume O.', 'Yamazaki D.', 'Hirata Y.', 'Nishiwaki K.', 'Kono N.', 'Arai H.', 'Miki H.'], 'citationCrossReferences': [{'database': 'PubMed', 'id': '27564576'}, {'database': 'DOI', 'id': '10.1371/journal.pgen.1006276'}], 'title': 'Mg2+ extrusion from intestinal epithelia by CNNM proteins is essential for gonadogenesis via AMPK-TORC1 signaling in Caenorhabditis elegans.', 'publicationDate': '2016', 'journal': 'PLoS Genet.', 'firstPage': 'E1006276', 'lastPage': 'E1006276', 'volume': '12'}, 'referencePositions': ['FUNCTION', 'SUBCELLULAR LOCATION', 'TISSUE SPECIFICITY', 'DISRUPTION PHENOTYPE'], 'evidences': [{'evidenceCode': 'ECO:0000305'}]}], secondaryAccessions=['A0A131MBV5', 'A0A131MD56', 'Q21469'], sequence={'value': 'MSKTPWALGLLIFLLTFTSPLSSSPVRSTDNSTSSKGLLNVNSSVILEPSILPSSASKPESLHLSKVRVSGLRLEAHASSTENIVLGHNKKHNVVVVPNKNVRVVLFGQNFQDIGALTFTADGSCKDLAHFFEADFSSMTPIRVVVEMSFPKTTESKDSFKLCVSEKFYANPQFVIVEDPFTMVTTEIPPVDEYMPKWLSWICLLILLCFSGLFSGLNLGLMTLSPYELQLYIASGTEQEKRDAGRILPIRKKGNQLLCTLLIGNVVVNVGVSLLMDQLVGSGFAVLVAATSCIVVFGEIIPQALCVKLGLPIGARTIPITQVLLFLMYPLTWPISKVLDIFLKEELTRSLERNKLVEMLKLSEKSIIGGQSDEFKMVLGALELYDKTVAHAMTRYEDIFMLPHTLTLGAGMVTQILDMGYTRIPIYENDRKNIVALLFVKDLALLDPDDNHNVMKIASIYNHEVRRVLVDMPLRNMLEEFKRGEYHMALVERLVEQEDKDPIYELCGLITLEDIIEEIIQCEIIDETDAVCDNVHRKKRQRKRNHDMSQIVNTAHAKCAINIQMLAVTIQVMSTCHKIFSSNYILPTILEKLIRKNCKKVETTQFSCLKEVGVVQPKPAVLFTKGEFSNKFIMILSGRAVVTIGKEEMRLEAGAWHSFGTEVLDAMAEAIERSLNQSTSRSTVSLNTEITNNSIGFIPDFDTVILYECVFCEITAADLLLAYNSSQIMQNNTKMQVVRSNSRISLIEEIPKDAVSTPIRNGSVKLRTVSEGETVHLLPKNMECHFNKQEKYEEEEE', 'length': 797, 'molWeight': 89288, 'crc64': '25AD3EA350EB4E85', 'md5': 'CDB9455358FB9B5496A1D047EF2A79FD'}, uniProtKBCrossReferences=[{'database': 'EMBL', 'id': 'BX284606', 'properties': [{'key': 'ProteinId', 'value': 'CCD66487.1'}, {'key': 'Status', 'value': '-'}, {'key': 'MoleculeType', 'value': 'Genomic_DNA'}]}, {'database': 'EMBL', 'id': 'BX284606', 'properties': [{'key': 'ProteinId', 'value': 'CZR14596.1'}, {'key': 'Status', 'value': '-'}, {'key': 'MoleculeType', 'value': 'Genomic_DNA'}]}, {'database': 'EMBL', 'id': 'BX284606', 'properties': [{'key': 'ProteinId', 'value': 'CZR14597.1'}, {'key': 'Status', 'value': '-'}, {'key': 'MoleculeType', 'value': 'Genomic_DNA'}]}, {'database': 'EMBL', 'id': 'BX284606', 'properties': [{'key': 'ProteinId', 'value': 'CZR14608.1'}, {'key': 'Status', 'value': '-'}, {'key': 'MoleculeType', 'value': 'Genomic_DNA'}]}, {'database': 'PIR', 'id': 'T16631', 'properties': [{'key': 'EntryName', 'value': 'T16631'}]}, {'database': 'RefSeq', 'id': 'NP_001309670.1', 'properties': [{'key': 'NucleotideSequenceId', 'value': 'NM_001322613.1'}], 'isoformId': 'A0A131MCZ8-1'}, {'database': 'RefSeq', 'id': 'NP_001309671.1', 'properties': [{'key': 'NucleotideSequenceId', 'value': 'NM_001322614.1'}]}, {'database': 'RefSeq', 'id': 'NP_001309682.1', 'properties': [{'key': 'NucleotideSequenceId', 'value': 'NM_001322615.1'}]}, {'database': 'RefSeq', 'id': 'NP_508520.1', 'properties': [{'key': 'NucleotideSequenceId', 'value': 'NM_076119.3'}]}, {'database': 'AlphaFoldDB', 'id': 'A0A131MCZ8', 'properties': [{'key': 'Description', 'value': '-'}]}, {'database': 'SMR', 'id': 'A0A131MCZ8', 'properties': [{'key': 'Description', 'value': '-'}]}, {'database': 'IntAct', 'id': 'A0A131MCZ8', 'properties': [{'key': 'Interactions', 'value': '1'}]}, {'database': 'STRING', 'id': '6239.C33D12.2', 'properties': [{'key': 'Description', 'value': '-'}]}, {'database': 'PaxDb', 'id': 'A0A131MCZ8', 'properties': [{'key': 'Description', 'value': '-'}]}, {'database': 'EnsemblMetazoa', 'id': 'C33D12.2a.1', 'properties': [{'key': 'ProteinId', 'value': 'C33D12.2a.1'}, {'key': 'GeneId', 'value': 'WBGene00016343'}], 'isoformId': 'A0A131MCZ8-1'}, {'database': 'EnsemblMetazoa', 'id': 'C33D12.2b.1', 'properties': [{'key': 'ProteinId', 'value': 'C33D12.2b.1'}, {'key': 'GeneId', 'value': 'WBGene00016343'}], 'isoformId': 'A0A131MCZ8-2'}, {'database': 'EnsemblMetazoa', 'id': 'C33D12.2b.2', 'properties': [{'key': 'ProteinId', 'value': 'C33D12.2b.2'}, {'key': 'GeneId', 'value': 'WBGene00016343'}], 'isoformId': 'A0A131MCZ8-2'}, {'database': 'EnsemblMetazoa', 'id': 'C33D12.2b.3', 'properties': [{'key': 'ProteinId', 'value': 'C33D12.2b.3'}, {'key': 'GeneId', 'value': 'WBGene00016343'}], 'isoformId': 'A0A131MCZ8-2'}, {'database': 'EnsemblMetazoa', 'id': 'C33D12.2b.4', 'properties': [{'key': 'ProteinId', 'value': 'C33D12.2b.4'}, {'key': 'GeneId', 'value': 'WBGene00016343'}], 'isoformId': 'A0A131MCZ8-2'}, {'database': 'EnsemblMetazoa', 'id': 'C33D12.2b.5', 'properties': [{'key': 'ProteinId', 'value': 'C33D12.2b.5'}, {'key': 'GeneId', 'value': 'WBGene00016343'}], 'isoformId': 'A0A131MCZ8-2'}, {'database': 'EnsemblMetazoa', 'id': 'C33D12.2b.6', 'properties': [{'key': 'ProteinId', 'value': 'C33D12.2b.6'}, {'key': 'GeneId', 'value': 'WBGene00016343'}], 'isoformId': 'A0A131MCZ8-2'}, {'database': 'EnsemblMetazoa', 'id': 'C33D12.2c.1', 'properties': [{'key': 'ProteinId', 'value': 'C33D12.2c.1'}, {'key': 'GeneId', 'value': 'WBGene00016343'}], 'isoformId': 'A0A131MCZ8-3'}, {'database': 'EnsemblMetazoa', 'id': 'C33D12.2d.1', 'properties': [{'key': 'ProteinId', 'value': 'C33D12.2d.1'}, {'key': 'GeneId', 'value': 'WBGene00016343'}], 'isoformId': 'A0A131MCZ8-4'}, {'database': 'GeneID', 'id': '180591', 'properties': [{'key': 'Description', 'value': '-'}]}, {'database': 'KEGG', 'id': 'cel:CELE_C33D12.2', 'properties': [{'key': 'Description', 'value': '-'}]}, {'database': 'UCSC', 'id': 'M02F4.3', 'properties': [{'key': 'OrganismName', 'value': 'c. elegans'}]}, {'database': 'CTD', 'id': '180591', 'properties': [{'key': 'Description', 'value': '-'}]}, {'database': 'WormBase', 'id': 'C33D12.2a', 'properties': [{'key': 'ProteinId', 'value': 'CE51453'}, {'key': 'GeneId', 'value': 'WBGene00016343'}, {'key': 'GeneName', 'value': 'cnnm-3'}], 'isoformId': 'A0A131MCZ8-1'}, {'database': 'WormBase', 'id': 'C33D12.2b', 'properties': [{'key': 'ProteinId', 'value': 'CE04764'}, {'key': 'GeneId', 'value': 'WBGene00016343'}, {'key': 'GeneName', 'value': 'cnnm-3'}], 'isoformId': 'A0A131MCZ8-2'}, {'database': 'WormBase', 'id': 'C33D12.2c', 'properties': [{'key': 'ProteinId', 'value': 'CE51420'}, {'key': 'GeneId', 'value': 'WBGene00016343'}, {'key': 'GeneName', 'value': 'cnnm-3'}], 'isoformId': 'A0A131MCZ8-3'}, {'database': 'WormBase', 'id': 'C33D12.2d', 'properties': [{'key': 'ProteinId', 'value': 'CE51314'}, {'key': 'GeneId', 'value': 'WBGene00016343'}, {'key': 'GeneName', 'value': 'cnnm-3'}], 'isoformId': 'A0A131MCZ8-4'}, {'database': 'eggNOG', 'id': 'KOG2118', 'properties': [{'key': 'ToxonomicScope', 'value': 'Eukaryota'}]}, {'database': 'GeneTree', 'id': 'ENSGT00940000169533', 'properties': [{'key': 'Description', 'value': '-'}]}, {'database': 'OMA', 'id': 'MSTCHKI', 'properties': [{'key': 'Fingerprint', 'value': '-'}]}, {'database': 'OrthoDB', 'id': '1446644at2759', 'properties': [{'key': 'Description', 'value': '-'}]}, {'database': 'PRO', 'id': 'PR:A0A131MCZ8', 'properties': [{'key': 'Description', 'value': '-'}]}, {'database': 'Proteomes', 'id': 'UP000001940', 'properties': [{'key': 'Component', 'value': 'Chromosome X'}]}, {'database': 'Bgee', 'id': 'WBGene00016343', 'properties': [{'key': 'ExpressionPatterns', 'value': 'Expressed in larva and 3 other tissues'}]}, {'database': 'GO', 'id': 'GO:0016323', 'properties': [{'key': 'GoTerm', 'value': 'C:basolateral plasma membrane'}, {'key': 'GoEvidenceType', 'value': 'IDA:UniProtKB'}], 'evidences': [{'evidenceCode': 'ECO:0000314', 'source': 'PubMed', 'id': '27564576'}]}, {'database': 'GO', 'id': 'GO:0016021', 'properties': [{'key': 'GoTerm', 'value': 'C:integral component of membrane'}, {'key': 'GoEvidenceType', 'value': 'IEA:UniProtKB-KW'}]}, {'database': 'GO', 'id': 'GO:0043231', 'properties': [{'key': 'GoTerm', 'value': 'C:intracellular membrane-bounded organelle'}, {'key': 'GoEvidenceType', 'value': 'IBA:GO_Central'}], 'evidences': [{'evidenceCode': 'ECO:0000318', 'source': 'PubMed', 'id': '21873635'}]}, {'database': 'GO', 'id': 'GO:0005886', 'properties': [{'key': 'GoTerm', 'value': 'C:plasma membrane'}, {'key': 'GoEvidenceType', 'value': 'IBA:GO_Central'}], 'evidences': [{'evidenceCode': 'ECO:0000318', 'source': 'PubMed', 'id': '21873635'}]}, {'database': 'GO', 'id': 'GO:0022857', 'properties': [{'key': 'GoTerm', 'value': 'F:transmembrane transporter activity'}, {'key': 'GoEvidenceType', 'value': 'IBA:GO_Central'}], 'evidences': [{'evidenceCode': 'ECO:0000318', 'source': 'PubMed', 'id': '21873635'}]}, {'database': 'GO', 'id': 'GO:0008340', 'properties': [{'key': 'GoTerm', 'value': 'P:determination of adult lifespan'}, {'key': 'GoEvidenceType', 'value': 'IMP:UniProtKB'}], 'evidences': [{'evidenceCode': 'ECO:0000315', 'source': 'PubMed', 'id': '27564576'}]}, {'database': 'GO', 'id': 'GO:0045087', 'properties': [{'key': 'GoTerm', 'value': 'P:innate immune response'}, {'key': 'GoEvidenceType', 'value': 'HEP:WormBase'}], 'evidences': [{'evidenceCode': 'ECO:0007007', 'source': 'PubMed', 'id': '16968778'}]}, {'database': 'GO', 'id': 'GO:0010960', 'properties': [{'key': 'GoTerm', 'value': 'P:magnesium ion homeostasis'}, {'key': 'GoEvidenceType', 'value': 'IGI:UniProtKB'}], 'evidences': [{'evidenceCode': 'ECO:0000316', 'source': 'PubMed', 'id': '27564576'}]}, {'database': 'GO', 'id': 'GO:0015693', 'properties': [{'key': 'GoTerm', 'value': 'P:magnesium ion transport'}, {'key': 'GoEvidenceType', 'value': 'IGI:UniProtKB'}], 'evidences': [{'evidenceCode': 'ECO:0000316', 'source': 'PubMed', 'id': '27564576'}]}, {'database': 'GO', 'id': 'GO:1905941', 'properties': [{'key': 'GoTerm', 'value': 'P:positive regulation of gonad development'}, {'key': 'GoEvidenceType', 'value': 'IGI:UniProtKB'}], 'evidences': [{'evidenceCode': 'ECO:0000316', 'source': 'PubMed', 'id': '27564576'}, {'evidenceCode': 'ECO:0000316', 'source': 'PubMed', 'id': '27564576'}, {'evidenceCode': 'ECO:0000316', 'source': 'PubMed', 'id': '27564576'}]}, {'database': 'GO', 'id': 'GO:0040018', 'properties': [{'key': 'GoTerm', 'value': 'P:positive regulation of multicellular organism growth'}, {'key': 'GoEvidenceType', 'value': 'IGI:UniProtKB'}], 'evidences': [{'evidenceCode': 'ECO:0000316', 'source': 'PubMed', 'id': '27564576'}]}, {'database': 'GO', 'id': 'GO:0040026', 'properties': [{'key': 'GoTerm', 'value': 'P:positive regulation of vulval development'}, {'key': 'GoEvidenceType', 'value': 'IGI:UniProtKB'}], 'evidences': [{'evidenceCode': 'ECO:0000316', 'source': 'PubMed', 'id': '27564576'}]}, {'database': 'GO', 'id': 'GO:0032026', 'properties': [{'key': 'GoTerm', 'value': 'P:response to magnesium ion'}, {'key': 'GoEvidenceType', 'value': 'IGI:UniProtKB'}], 'evidences': [{'evidenceCode': 'ECO:0000316', 'source': 'PubMed', 'id': '27564576'}]}, {'database': 'CDD', 'id': 'cd04590', 'properties': [{'key': 'EntryName', 'value': 'CBS_pair_CorC_HlyC_assoc'}, {'key': 'MatchStatus', 'value': '1'}]}, {'database': 'Gene3D', 'id': '3.10.580.10', 'properties': [{'key': 'EntryName', 'value': '-'}, {'key': 'MatchStatus', 'value': '1'}]}, {'database': 'InterPro', 'id': 'IPR045095', 'properties': [{'key': 'EntryName', 'value': 'ACDP'}]}, {'database': 'InterPro', 'id': 'IPR000644', 'properties': [{'key': 'EntryName', 'value': 'CBS_dom'}]}, {'database': 'InterPro', 'id': 'IPR046342', 'properties': [{'key': 'EntryName', 'value': 'CBS_dom_sf'}]}, {'database': 'InterPro', 'id': 'IPR002550', 'properties': [{'key': 'EntryName', 'value': 'CNNM'}]}, {'database': 'InterPro', 'id': 'IPR044751', 'properties': [{'key': 'EntryName', 'value': 'Ion_transp-like_CBS'}]}, {'database': 'PANTHER', 'id': 'PTHR12064', 'properties': [{'key': 'EntryName', 'value': 'PTHR12064'}, {'key': 'MatchStatus', 'value': '1'}]}, {'database': 'Pfam', 'id': 'PF01595', 'properties': [{'key': 'EntryName', 'value': 'DUF21'}, {'key': 'MatchStatus', 'value': '1'}]}, {'database': 'SUPFAM', 'id': 'SSF54631', 'properties': [{'key': 'EntryName', 'value': 'SSF54631'}, {'key': 'MatchStatus', 'value': '1'}]}, {'database': 'PROSITE', 'id': 'PS51371', 'properties': [{'key': 'EntryName', 'value': 'CBS'}, {'key': 'MatchStatus', 'value': '2'}]}, {'database': 'PROSITE', 'id': 'PS51846', 'properties': [{'key': 'EntryName', 'value': 'CNNM'}, {'key': 'MatchStatus', 'value': '1'}]}], uniProtkbId='CNNM3_CAEEL'))"
      ]
     },
     "execution_count": 42,
     "metadata": {},
     "output_type": "execute_result"
    }
   ],
   "source": [
    "uresources[0]"
   ]
  },
  {
   "cell_type": "code",
   "execution_count": null,
   "metadata": {},
   "outputs": [],
   "source": [
    "# uresources"
   ]
  },
  {
   "cell_type": "code",
   "execution_count": null,
   "metadata": {},
   "outputs": [],
   "source": [
    "from kgforge.core.wrappings.paths import Filter, FilterOperator"
   ]
  },
  {
   "cell_type": "code",
   "execution_count": null,
   "metadata": {},
   "outputs": [
    {
     "name": "stdout",
     "output_type": "stream",
     "text": [
      "query in sparql SELECT ?id WHERE {?id type Protein;\n",
      " up:reviewed ?v1 . \n",
      " FILTER(?v1 = 'true'^^xsd:boolean)\n",
      "}\n",
      "Submitted query:\n",
      "   PREFIX up: <http://purl.uniprot.org/core/>\n",
      "   PREFIX owl: <http://www.w3.org/2002/07/owl#>\n",
      "   PREFIX owl2xml: <http://www.w3.org/2006/12/owl2-xml#>\n",
      "   PREFIX swrlb: <http://www.w3.org/2003/11/swrlb#>\n",
      "   PREFIX protege: <http://protege.stanford.edu/plugins/owl/protege#>\n",
      "   PREFIX swrl: <http://www.w3.org/2003/11/swrl#>\n",
      "   PREFIX xsd: <http://www.w3.org/2001/XMLSchema#>\n",
      "   PREFIX skos: <http://www.w3.org/2004/02/skos/core#>\n",
      "   PREFIX rdfs: <http://www.w3.org/2000/01/rdf-schema#>\n",
      "   PREFIX dc11: <http://purl.org/dc/terms/>\n",
      "   PREFIX rdf: <http://www.w3.org/1999/02/22-rdf-syntax-ns#>\n",
      "   PREFIX foaf: <http://xmlns.com/foaf/0.1/>\n",
      "   SELECT ?id WHERE {?id rdf:type up:Protein;\n",
      "    up:reviewed ?v1 . \n",
      "    FILTER(?v1 = 'true'^^xsd:boolean)\n",
      "   }  LIMIT 10\n",
      "\n",
      "amount of results = 10\n"
     ]
    }
   ],
   "source": [
    "\n",
    "\n",
    "proteins = forge.search({'type': 'Protein', 'up:reviewed': True}, db_source='UniProt', limit=10, debug=True)"
   ]
  },
  {
   "cell_type": "code",
   "execution_count": null,
   "metadata": {},
   "outputs": [],
   "source": [
    "uniprot = sources['UniProt']"
   ]
  },
  {
   "cell_type": "code",
   "execution_count": null,
   "metadata": {},
   "outputs": [
    {
     "data": {
      "text/plain": [
       "{'up': 'http://purl.uniprot.org/core/',\n",
       " 'owl': 'http://www.w3.org/2002/07/owl#',\n",
       " 'owl2xml': 'http://www.w3.org/2006/12/owl2-xml#',\n",
       " 'swrlb': 'http://www.w3.org/2003/11/swrlb#',\n",
       " 'protege': 'http://protege.stanford.edu/plugins/owl/protege#',\n",
       " 'swrl': 'http://www.w3.org/2003/11/swrl#',\n",
       " 'xsd': 'http://www.w3.org/2001/XMLSchema#',\n",
       " 'skos': 'http://www.w3.org/2004/02/skos/core#',\n",
       " 'rdfs': 'http://www.w3.org/2000/01/rdf-schema#',\n",
       " 'dc11': 'http://purl.org/dc/terms/',\n",
       " 'rdf': 'http://www.w3.org/1999/02/22-rdf-syntax-ns#',\n",
       " 'foaf': 'http://xmlns.com/foaf/0.1/'}"
      ]
     },
     "execution_count": 29,
     "metadata": {},
     "output_type": "execute_result"
    }
   ],
   "source": [
    "uniprot._store.context.prefixes"
   ]
  },
  {
   "cell_type": "code",
   "execution_count": null,
   "metadata": {},
   "outputs": [
    {
     "name": "stdout",
     "output_type": "stream",
     "text": [
      "query in sparql SELECT ?id WHERE {?id type Gene . \n",
      " \n",
      "}\n",
      "amount of results = 10\n"
     ]
    }
   ],
   "source": [
    "genes = forge.search({'type': 'Gene'}, db_source='UniProt', limit=10)"
   ]
  },
  {
   "cell_type": "code",
   "execution_count": null,
   "metadata": {},
   "outputs": [
    {
     "data": {
      "text/plain": [
       "Resource(_last_action=None, _validated=False, _synchronized=False, _store_metadata=None, id=Resource(_last_action=None, _validated=False, _synchronized=False, _store_metadata=None, id='http://purl.uniprot.org/uniprot/H5SQ95#gene-MD58301D33AF640374C84A4DA4CAF383BE6', _inner_sync=False, annotationScore=2.0, comments=[{'texts': [{'evidences': [{'evidenceCode': 'ECO:0000305', 'source': 'PubMed', 'id': '28087277'}], 'value': 'May function as a protein modifier covalently attached to lysine residues of substrate proteins. This may serve to target the modified proteins for degradation by proteasomes'}], 'commentType': 'FUNCTION'}, {'texts': [{'evidences': [{'evidenceCode': 'ECO:0000255', 'source': 'HAMAP-Rule', 'id': 'MF_02133'}], 'value': 'Belongs to the ubiquitin-like protein UBact family'}], 'commentType': 'SIMILARITY'}], entryAudit={'firstPublicDate': '2017-10-25', 'lastAnnotationUpdateDate': '2022-05-25', 'lastSequenceUpdateDate': '2012-04-18', 'entryVersion': 15, 'sequenceVersion': 1}, entryType='UniProtKB reviewed (Swiss-Prot)', extraAttributes={'countByCommentType': {'FUNCTION': 1, 'SIMILARITY': 1}, 'countByFeatureType': {'Chain': 1, 'Region': 1, 'Compositional bias': 1, 'Cross-link': 1}, 'uniParcId': 'UPI00024DBA4F'}, features=[{'type': 'Chain', 'location': {'start': {'value': 1, 'modifier': 'EXACT'}, 'end': {'value': 56, 'modifier': 'EXACT'}}, 'description': 'Prokaryotic ubiquitin-like protein UBact', 'featureId': 'PRO_0000441772'}, {'type': 'Region', 'location': {'start': {'value': 1, 'modifier': 'EXACT'}, 'end': {'value': 56, 'modifier': 'EXACT'}}, 'description': 'Disordered', 'evidences': [{'evidenceCode': 'ECO:0000256', 'source': 'SAM', 'id': 'MobiDB-lite'}]}, {'type': 'Compositional bias', 'location': {'start': {'value': 26, 'modifier': 'EXACT'}, 'end': {'value': 56, 'modifier': 'EXACT'}}, 'description': 'Basic and acidic residues', 'evidences': [{'evidenceCode': 'ECO:0000256', 'source': 'SAM', 'id': 'MobiDB-lite'}]}, {'type': 'Cross-link', 'location': {'start': {'value': 56, 'modifier': 'EXACT'}, 'end': {'value': 56, 'modifier': 'EXACT'}}, 'description': 'Isoglutamyl lysine isopeptide (Glu-Lys) (interchain with K-? in acceptor proteins)', 'evidences': [{'evidenceCode': 'ECO:0000305'}]}], genes=[{'geneName': {'evidences': [{'evidenceCode': 'ECO:0000303', 'source': 'PubMed', 'id': '28087277'}], 'value': 'ubact'}, 'orfNames': [{'evidences': [{'evidenceCode': 'ECO:0000312', 'source': 'EMBL', 'id': 'BAL58331.1'}], 'value': 'HGMM_OP1C026'}]}], keywords=[{'id': 'KW-1017', 'category': 'PTM', 'name': 'Isopeptide bond'}, {'id': 'KW-0833', 'category': 'Biological process', 'name': 'Ubl conjugation pathway'}], organism={'scientificName': 'Acetothermus autotrophicum', 'taxonId': 1446466, 'lineage': ['Bacteria', 'Candidatus Bipolaricaulota', 'Candidatus Acetothermum']}, primaryAccession='H5SQ95', proteinDescription={'recommendedName': {'fullName': {'evidences': [{'evidenceCode': 'ECO:0000303', 'source': 'PubMed', 'id': '28087277'}], 'value': 'Prokaryotic ubiquitin-like protein UBact'}}}, proteinExistence='3: Inferred from homology', references=[{'citation': {'id': '22303444', 'citationType': 'journal article', 'authors': ['Takami H.', 'Noguchi H.', 'Takaki Y.', 'Uchiyama I.', 'Toyoda A.', 'Nishi S.', 'Chee G.J.', 'Arai W.', 'Nunoura T.', 'Itoh T.', 'Hattori M.', 'Takai K.'], 'citationCrossReferences': [{'database': 'PubMed', 'id': '22303444'}, {'database': 'DOI', 'id': '10.1371/journal.pone.0030559'}], 'title': 'A deeply branching thermophilic bacterium with an ancient acetyl-CoA pathway dominates a subsurface ecosystem.', 'publicationDate': '2012', 'journal': 'PLoS ONE', 'firstPage': 'E30559', 'lastPage': 'E30559', 'volume': '7'}, 'referencePositions': ['NUCLEOTIDE SEQUENCE [LARGE SCALE GENOMIC DNA]']}, {'citation': {'id': '28087277', 'citationType': 'journal article', 'authors': ['Lehmann G.', 'Udasin R.G.', 'Livneh I.', 'Ciechanover A.'], 'citationCrossReferences': [{'database': 'PubMed', 'id': '28087277'}, {'database': 'DOI', 'id': '10.1016/j.bbrc.2017.01.037'}], 'title': 'Identification of UBact, a ubiquitin-like protein, along with other homologous components of a conjugation system and the proteasome in different gram-negative bacteria.', 'publicationDate': '2017', 'journal': 'Biochem. Biophys. Res. Commun.', 'firstPage': '946', 'lastPage': '950', 'volume': '483'}, 'referencePositions': ['PREDICTED FUNCTION']}], sequence={'value': 'MPERIVKPMPQDPVTKPGDEGPRTPNVPKPDTERLLERMRRVDPRQAQRYRQRSGE', 'length': 56, 'molWeight': 6594, 'crc64': '323CA0429FBA02D0', 'md5': 'EF137CE5E7D3D2D873E21B0ECFB25FF6'}, uniProtKBCrossReferences=[{'database': 'EMBL', 'id': 'AP011800', 'properties': [{'key': 'ProteinId', 'value': 'BAL58331.1'}, {'key': 'Status', 'value': '-'}, {'key': 'MoleculeType', 'value': 'Genomic_DNA'}]}, {'database': 'AlphaFoldDB', 'id': 'H5SQ95', 'properties': [{'key': 'Description', 'value': '-'}]}, {'database': 'SMR', 'id': 'H5SQ95', 'properties': [{'key': 'Description', 'value': '-'}]}, {'database': 'GO', 'id': 'GO:0031386', 'properties': [{'key': 'GoTerm', 'value': 'F:protein tag'}, {'key': 'GoEvidenceType', 'value': 'IEA:UniProtKB-UniRule'}]}, {'database': 'HAMAP', 'id': 'MF_02133', 'properties': [{'key': 'EntryName', 'value': 'UBact'}, {'key': 'MatchStatus', 'value': '1'}]}, {'database': 'InterPro', 'id': 'IPR037543', 'properties': [{'key': 'EntryName', 'value': 'UBact'}]}], uniProtkbId='UBACT_ACEAU'), _inner_sync=False)"
      ]
     },
     "execution_count": 31,
     "metadata": {},
     "output_type": "execute_result"
    }
   ],
   "source": [
    "genes[0]"
   ]
  },
  {
   "cell_type": "markdown",
   "metadata": {},
   "source": [
    "# Save in BBP KG (Nexus)"
   ]
  },
  {
   "cell_type": "code",
   "execution_count": null,
   "metadata": {},
   "outputs": [],
   "source": [
    "# forge.register(resources)"
   ]
  },
  {
   "cell_type": "markdown",
   "metadata": {},
   "source": [
    "## Access"
   ]
  },
  {
   "cell_type": "markdown",
   "metadata": {},
   "source": [
    "### Set filters"
   ]
  },
  {
   "cell_type": "code",
   "execution_count": null,
   "metadata": {},
   "outputs": [],
   "source": [
    "_type = \"NeuronMorphology\"\n",
    "filters = {\"type\": _type}"
   ]
  },
  {
   "cell_type": "markdown",
   "metadata": {},
   "source": [
    "### Run Query"
   ]
  },
  {
   "cell_type": "code",
   "execution_count": null,
   "metadata": {},
   "outputs": [
    {
     "name": "stdout",
     "output_type": "stream",
     "text": [
      "10 dataset(s) of type NeuronMorphology found\n"
     ]
    }
   ],
   "source": [
    "limit = 10  # You can limit the number of results, pass `None` to fetch all the results\n",
    "\n",
    "data = forge.search(filters, db_source='MouseLight', limit=limit)\n",
    "\n",
    "print(f\"{str(len(data))} dataset(s) of type {_type} found\")"
   ]
  },
  {
   "cell_type": "markdown",
   "metadata": {},
   "source": [
    "### Display the results as pandas dataframe"
   ]
  },
  {
   "cell_type": "code",
   "execution_count": null,
   "metadata": {},
   "outputs": [
    {
     "data": {
      "text/html": [
       "<div>\n",
       "<style scoped>\n",
       "    .dataframe tbody tr th:only-of-type {\n",
       "        vertical-align: middle;\n",
       "    }\n",
       "\n",
       "    .dataframe tbody tr th {\n",
       "        vertical-align: top;\n",
       "    }\n",
       "\n",
       "    .dataframe thead th {\n",
       "        text-align: right;\n",
       "    }\n",
       "</style>\n",
       "<table border=\"1\" class=\"dataframe\">\n",
       "  <thead>\n",
       "    <tr style=\"text-align: right;\">\n",
       "      <th></th>\n",
       "      <th>id</th>\n",
       "      <th>brainLocation.brainRegion.id</th>\n",
       "      <th>brainLocation.brainRegion.label</th>\n",
       "      <th>contribution.type</th>\n",
       "      <th>contribution.agent.id</th>\n",
       "      <th>contribution.agent.type</th>\n",
       "      <th>contribution.agent.label</th>\n",
       "      <th>distribution.contentUrl</th>\n",
       "      <th>distribution.encodingFormat</th>\n",
       "      <th>distribution.name</th>\n",
       "      <th>name</th>\n",
       "      <th>subject.type</th>\n",
       "      <th>subject.species.id</th>\n",
       "      <th>subject.species.label</th>\n",
       "      <th>subject.strain.label</th>\n",
       "    </tr>\n",
       "  </thead>\n",
       "  <tbody>\n",
       "    <tr>\n",
       "      <th>0</th>\n",
       "      <td>https://bbp.epfl.ch/neurosciencegraph/data/neu...</td>\n",
       "      <td>http://api.brain-map.org/api/v2/data/Structure...</td>\n",
       "      <td>Primary motor area Layer 5</td>\n",
       "      <td>Contribution</td>\n",
       "      <td>https://www.grid.ac/institutes/grid.443970.d</td>\n",
       "      <td>Organization</td>\n",
       "      <td>Janelia Research Campus</td>\n",
       "      <td>https://staging.nise.bbp.epfl.ch/nexus/v1/file...</td>\n",
       "      <td>application/swc</td>\n",
       "      <td>AA1050.swc</td>\n",
       "      <td>AA1050</td>\n",
       "      <td>Subject</td>\n",
       "      <td>http://purl.obolibrary.org/obo/NCBITaxon_10090</td>\n",
       "      <td>Mus musculus</td>\n",
       "      <td>Sim1-Cre</td>\n",
       "    </tr>\n",
       "    <tr>\n",
       "      <th>1</th>\n",
       "      <td>https://bbp.epfl.ch/neurosciencegraph/data/neu...</td>\n",
       "      <td>http://api.brain-map.org/api/v2/data/Structure...</td>\n",
       "      <td>Primary somatosensory area mouth layer 5</td>\n",
       "      <td>Contribution</td>\n",
       "      <td>https://www.grid.ac/institutes/grid.443970.d</td>\n",
       "      <td>Organization</td>\n",
       "      <td>Janelia Research Campus</td>\n",
       "      <td>https://staging.nise.bbp.epfl.ch/nexus/v1/file...</td>\n",
       "      <td>application/swc</td>\n",
       "      <td>AA1049.swc</td>\n",
       "      <td>AA1049</td>\n",
       "      <td>Subject</td>\n",
       "      <td>http://purl.obolibrary.org/obo/NCBITaxon_10090</td>\n",
       "      <td>Mus musculus</td>\n",
       "      <td>Sim1-Cre</td>\n",
       "    </tr>\n",
       "    <tr>\n",
       "      <th>2</th>\n",
       "      <td>https://bbp.epfl.ch/neurosciencegraph/data/neu...</td>\n",
       "      <td>http://api.brain-map.org/api/v2/data/Structure...</td>\n",
       "      <td>Retrosplenial area ventral part layer 5</td>\n",
       "      <td>Contribution</td>\n",
       "      <td>https://www.grid.ac/institutes/grid.443970.d</td>\n",
       "      <td>Organization</td>\n",
       "      <td>Janelia Research Campus</td>\n",
       "      <td>https://staging.nise.bbp.epfl.ch/nexus/v1/file...</td>\n",
       "      <td>application/swc</td>\n",
       "      <td>AA1045.swc</td>\n",
       "      <td>AA1045</td>\n",
       "      <td>Subject</td>\n",
       "      <td>http://purl.obolibrary.org/obo/NCBITaxon_10090</td>\n",
       "      <td>Mus musculus</td>\n",
       "      <td>Sim1-Cre</td>\n",
       "    </tr>\n",
       "    <tr>\n",
       "      <th>3</th>\n",
       "      <td>https://bbp.epfl.ch/neurosciencegraph/data/neu...</td>\n",
       "      <td>http://api.brain-map.org/api/v2/data/Structure...</td>\n",
       "      <td>Parafascicular nucleus</td>\n",
       "      <td>Contribution</td>\n",
       "      <td>https://www.grid.ac/institutes/grid.443970.d</td>\n",
       "      <td>Organization</td>\n",
       "      <td>Janelia Research Campus</td>\n",
       "      <td>https://staging.nise.bbp.epfl.ch/nexus/v1/file...</td>\n",
       "      <td>application/swc</td>\n",
       "      <td>AA1046.swc</td>\n",
       "      <td>AA1046</td>\n",
       "      <td>Subject</td>\n",
       "      <td>http://purl.obolibrary.org/obo/NCBITaxon_10090</td>\n",
       "      <td>Mus musculus</td>\n",
       "      <td>Sim1-Cre</td>\n",
       "    </tr>\n",
       "    <tr>\n",
       "      <th>4</th>\n",
       "      <td>https://bbp.epfl.ch/neurosciencegraph/data/neu...</td>\n",
       "      <td>http://api.brain-map.org/api/v2/data/Structure...</td>\n",
       "      <td>Medial mammillary nucleus</td>\n",
       "      <td>Contribution</td>\n",
       "      <td>https://www.grid.ac/institutes/grid.443970.d</td>\n",
       "      <td>Organization</td>\n",
       "      <td>Janelia Research Campus</td>\n",
       "      <td>https://staging.nise.bbp.epfl.ch/nexus/v1/file...</td>\n",
       "      <td>application/swc</td>\n",
       "      <td>AA1048.swc</td>\n",
       "      <td>AA1048</td>\n",
       "      <td>Subject</td>\n",
       "      <td>http://purl.obolibrary.org/obo/NCBITaxon_10090</td>\n",
       "      <td>Mus musculus</td>\n",
       "      <td>Sim1-Cre</td>\n",
       "    </tr>\n",
       "    <tr>\n",
       "      <th>5</th>\n",
       "      <td>https://bbp.epfl.ch/neurosciencegraph/data/neu...</td>\n",
       "      <td>http://api.brain-map.org/api/v2/data/Structure...</td>\n",
       "      <td>Primary somatosensory area mouth layer 5</td>\n",
       "      <td>Contribution</td>\n",
       "      <td>https://www.grid.ac/institutes/grid.443970.d</td>\n",
       "      <td>Organization</td>\n",
       "      <td>Janelia Research Campus</td>\n",
       "      <td>https://staging.nise.bbp.epfl.ch/nexus/v1/file...</td>\n",
       "      <td>application/swc</td>\n",
       "      <td>AA1051.swc</td>\n",
       "      <td>AA1051</td>\n",
       "      <td>Subject</td>\n",
       "      <td>http://purl.obolibrary.org/obo/NCBITaxon_10090</td>\n",
       "      <td>Mus musculus</td>\n",
       "      <td>Sim1-Cre</td>\n",
       "    </tr>\n",
       "    <tr>\n",
       "      <th>6</th>\n",
       "      <td>https://bbp.epfl.ch/neurosciencegraph/data/neu...</td>\n",
       "      <td>http://api.brain-map.org/api/v2/data/Structure...</td>\n",
       "      <td>Entorhinal area lateral part</td>\n",
       "      <td>Contribution</td>\n",
       "      <td>https://www.grid.ac/institutes/grid.443970.d</td>\n",
       "      <td>Organization</td>\n",
       "      <td>Janelia Research Campus</td>\n",
       "      <td>https://staging.nise.bbp.epfl.ch/nexus/v1/file...</td>\n",
       "      <td>application/swc</td>\n",
       "      <td>AA1047.swc</td>\n",
       "      <td>AA1047</td>\n",
       "      <td>Subject</td>\n",
       "      <td>http://purl.obolibrary.org/obo/NCBITaxon_10090</td>\n",
       "      <td>Mus musculus</td>\n",
       "      <td>Sim1-Cre</td>\n",
       "    </tr>\n",
       "    <tr>\n",
       "      <th>7</th>\n",
       "      <td>https://bbp.epfl.ch/neurosciencegraph/data/neu...</td>\n",
       "      <td>http://api.brain-map.org/api/v2/data/Structure...</td>\n",
       "      <td>Primary motor area Layer 6a</td>\n",
       "      <td>Contribution</td>\n",
       "      <td>https://www.grid.ac/institutes/grid.443970.d</td>\n",
       "      <td>Organization</td>\n",
       "      <td>Janelia Research Campus</td>\n",
       "      <td>https://staging.nise.bbp.epfl.ch/nexus/v1/file...</td>\n",
       "      <td>application/swc</td>\n",
       "      <td>AA1043.swc</td>\n",
       "      <td>AA1043</td>\n",
       "      <td>Subject</td>\n",
       "      <td>http://purl.obolibrary.org/obo/NCBITaxon_10090</td>\n",
       "      <td>Mus musculus</td>\n",
       "      <td>Sim1-Cre</td>\n",
       "    </tr>\n",
       "    <tr>\n",
       "      <th>8</th>\n",
       "      <td>https://bbp.epfl.ch/neurosciencegraph/data/neu...</td>\n",
       "      <td>http://api.brain-map.org/api/v2/data/Structure...</td>\n",
       "      <td>Medial mammillary nucleus</td>\n",
       "      <td>Contribution</td>\n",
       "      <td>https://www.grid.ac/institutes/grid.443970.d</td>\n",
       "      <td>Organization</td>\n",
       "      <td>Janelia Research Campus</td>\n",
       "      <td>https://staging.nise.bbp.epfl.ch/nexus/v1/file...</td>\n",
       "      <td>application/swc</td>\n",
       "      <td>AA1041.swc</td>\n",
       "      <td>AA1041</td>\n",
       "      <td>Subject</td>\n",
       "      <td>http://purl.obolibrary.org/obo/NCBITaxon_10090</td>\n",
       "      <td>Mus musculus</td>\n",
       "      <td>Sim1-Cre</td>\n",
       "    </tr>\n",
       "    <tr>\n",
       "      <th>9</th>\n",
       "      <td>https://bbp.epfl.ch/neurosciencegraph/data/neu...</td>\n",
       "      <td>http://api.brain-map.org/api/v2/data/Structure...</td>\n",
       "      <td>Medial mammillary nucleus</td>\n",
       "      <td>Contribution</td>\n",
       "      <td>https://www.grid.ac/institutes/grid.443970.d</td>\n",
       "      <td>Organization</td>\n",
       "      <td>Janelia Research Campus</td>\n",
       "      <td>https://staging.nise.bbp.epfl.ch/nexus/v1/file...</td>\n",
       "      <td>application/swc</td>\n",
       "      <td>AA1039.swc</td>\n",
       "      <td>AA1039</td>\n",
       "      <td>Subject</td>\n",
       "      <td>http://purl.obolibrary.org/obo/NCBITaxon_10090</td>\n",
       "      <td>Mus musculus</td>\n",
       "      <td>Sim1-Cre</td>\n",
       "    </tr>\n",
       "  </tbody>\n",
       "</table>\n",
       "</div>"
      ],
      "text/plain": [
       "                                                  id  \\\n",
       "0  https://bbp.epfl.ch/neurosciencegraph/data/neu...   \n",
       "1  https://bbp.epfl.ch/neurosciencegraph/data/neu...   \n",
       "2  https://bbp.epfl.ch/neurosciencegraph/data/neu...   \n",
       "3  https://bbp.epfl.ch/neurosciencegraph/data/neu...   \n",
       "4  https://bbp.epfl.ch/neurosciencegraph/data/neu...   \n",
       "5  https://bbp.epfl.ch/neurosciencegraph/data/neu...   \n",
       "6  https://bbp.epfl.ch/neurosciencegraph/data/neu...   \n",
       "7  https://bbp.epfl.ch/neurosciencegraph/data/neu...   \n",
       "8  https://bbp.epfl.ch/neurosciencegraph/data/neu...   \n",
       "9  https://bbp.epfl.ch/neurosciencegraph/data/neu...   \n",
       "\n",
       "                        brainLocation.brainRegion.id  \\\n",
       "0  http://api.brain-map.org/api/v2/data/Structure...   \n",
       "1  http://api.brain-map.org/api/v2/data/Structure...   \n",
       "2  http://api.brain-map.org/api/v2/data/Structure...   \n",
       "3  http://api.brain-map.org/api/v2/data/Structure...   \n",
       "4  http://api.brain-map.org/api/v2/data/Structure...   \n",
       "5  http://api.brain-map.org/api/v2/data/Structure...   \n",
       "6  http://api.brain-map.org/api/v2/data/Structure...   \n",
       "7  http://api.brain-map.org/api/v2/data/Structure...   \n",
       "8  http://api.brain-map.org/api/v2/data/Structure...   \n",
       "9  http://api.brain-map.org/api/v2/data/Structure...   \n",
       "\n",
       "            brainLocation.brainRegion.label contribution.type  \\\n",
       "0                Primary motor area Layer 5      Contribution   \n",
       "1  Primary somatosensory area mouth layer 5      Contribution   \n",
       "2   Retrosplenial area ventral part layer 5      Contribution   \n",
       "3                    Parafascicular nucleus      Contribution   \n",
       "4                 Medial mammillary nucleus      Contribution   \n",
       "5  Primary somatosensory area mouth layer 5      Contribution   \n",
       "6              Entorhinal area lateral part      Contribution   \n",
       "7               Primary motor area Layer 6a      Contribution   \n",
       "8                 Medial mammillary nucleus      Contribution   \n",
       "9                 Medial mammillary nucleus      Contribution   \n",
       "\n",
       "                          contribution.agent.id contribution.agent.type  \\\n",
       "0  https://www.grid.ac/institutes/grid.443970.d            Organization   \n",
       "1  https://www.grid.ac/institutes/grid.443970.d            Organization   \n",
       "2  https://www.grid.ac/institutes/grid.443970.d            Organization   \n",
       "3  https://www.grid.ac/institutes/grid.443970.d            Organization   \n",
       "4  https://www.grid.ac/institutes/grid.443970.d            Organization   \n",
       "5  https://www.grid.ac/institutes/grid.443970.d            Organization   \n",
       "6  https://www.grid.ac/institutes/grid.443970.d            Organization   \n",
       "7  https://www.grid.ac/institutes/grid.443970.d            Organization   \n",
       "8  https://www.grid.ac/institutes/grid.443970.d            Organization   \n",
       "9  https://www.grid.ac/institutes/grid.443970.d            Organization   \n",
       "\n",
       "  contribution.agent.label                            distribution.contentUrl  \\\n",
       "0  Janelia Research Campus  https://staging.nise.bbp.epfl.ch/nexus/v1/file...   \n",
       "1  Janelia Research Campus  https://staging.nise.bbp.epfl.ch/nexus/v1/file...   \n",
       "2  Janelia Research Campus  https://staging.nise.bbp.epfl.ch/nexus/v1/file...   \n",
       "3  Janelia Research Campus  https://staging.nise.bbp.epfl.ch/nexus/v1/file...   \n",
       "4  Janelia Research Campus  https://staging.nise.bbp.epfl.ch/nexus/v1/file...   \n",
       "5  Janelia Research Campus  https://staging.nise.bbp.epfl.ch/nexus/v1/file...   \n",
       "6  Janelia Research Campus  https://staging.nise.bbp.epfl.ch/nexus/v1/file...   \n",
       "7  Janelia Research Campus  https://staging.nise.bbp.epfl.ch/nexus/v1/file...   \n",
       "8  Janelia Research Campus  https://staging.nise.bbp.epfl.ch/nexus/v1/file...   \n",
       "9  Janelia Research Campus  https://staging.nise.bbp.epfl.ch/nexus/v1/file...   \n",
       "\n",
       "  distribution.encodingFormat distribution.name    name subject.type  \\\n",
       "0             application/swc        AA1050.swc  AA1050      Subject   \n",
       "1             application/swc        AA1049.swc  AA1049      Subject   \n",
       "2             application/swc        AA1045.swc  AA1045      Subject   \n",
       "3             application/swc        AA1046.swc  AA1046      Subject   \n",
       "4             application/swc        AA1048.swc  AA1048      Subject   \n",
       "5             application/swc        AA1051.swc  AA1051      Subject   \n",
       "6             application/swc        AA1047.swc  AA1047      Subject   \n",
       "7             application/swc        AA1043.swc  AA1043      Subject   \n",
       "8             application/swc        AA1041.swc  AA1041      Subject   \n",
       "9             application/swc        AA1039.swc  AA1039      Subject   \n",
       "\n",
       "                               subject.species.id subject.species.label  \\\n",
       "0  http://purl.obolibrary.org/obo/NCBITaxon_10090          Mus musculus   \n",
       "1  http://purl.obolibrary.org/obo/NCBITaxon_10090          Mus musculus   \n",
       "2  http://purl.obolibrary.org/obo/NCBITaxon_10090          Mus musculus   \n",
       "3  http://purl.obolibrary.org/obo/NCBITaxon_10090          Mus musculus   \n",
       "4  http://purl.obolibrary.org/obo/NCBITaxon_10090          Mus musculus   \n",
       "5  http://purl.obolibrary.org/obo/NCBITaxon_10090          Mus musculus   \n",
       "6  http://purl.obolibrary.org/obo/NCBITaxon_10090          Mus musculus   \n",
       "7  http://purl.obolibrary.org/obo/NCBITaxon_10090          Mus musculus   \n",
       "8  http://purl.obolibrary.org/obo/NCBITaxon_10090          Mus musculus   \n",
       "9  http://purl.obolibrary.org/obo/NCBITaxon_10090          Mus musculus   \n",
       "\n",
       "  subject.strain.label  \n",
       "0             Sim1-Cre  \n",
       "1             Sim1-Cre  \n",
       "2             Sim1-Cre  \n",
       "3             Sim1-Cre  \n",
       "4             Sim1-Cre  \n",
       "5             Sim1-Cre  \n",
       "6             Sim1-Cre  \n",
       "7             Sim1-Cre  \n",
       "8             Sim1-Cre  \n",
       "9             Sim1-Cre  "
      ]
     },
     "execution_count": 35,
     "metadata": {},
     "output_type": "execute_result"
    }
   ],
   "source": [
    "property_to_display = [\"id\",\"name\",\"subject\",\"brainLocation.brainRegion.id\",\"brainLocation.brainRegion.label\",\"brainLocation.layer.id\",\"brainLocation.layer.label\", \"contribution\",\"brainLocation.layer.id\",\"brainLocation.layer.label\",\"distribution.name\",\"distribution.contentUrl\",\"distribution.encodingFormat\"]\n",
    "reshaped_data = forge.reshape(data, keep=property_to_display)\n",
    "\n",
    "forge.as_dataframe(reshaped_data)"
   ]
  },
  {
   "cell_type": "markdown",
   "metadata": {},
   "source": [
    "### Download"
   ]
  },
  {
   "cell_type": "code",
   "execution_count": null,
   "metadata": {},
   "outputs": [
    {
     "name": "stdout",
     "output_type": "stream",
     "text": [
      "<action> _download\n",
      "<error> DownloadingError: Downloading from neurosciencegraph/datamodels:404, message='Not Found', url=URL('https://staging.nise.bbp.epfl.ch/nexus/v1/files/neurosciencegraph/datamodels/665642bf-4d60-45be-853b-ace965f0057f')\n",
      "\n"
     ]
    }
   ],
   "source": [
    "dirpath = \"./downloaded/\"\n",
    "forge.download(data, \"distribution.contentUrl\", dirpath)"
   ]
  },
  {
   "cell_type": "markdown",
   "metadata": {},
   "source": [
    "### Try query"
   ]
  },
  {
   "cell_type": "code",
   "execution_count": null,
   "metadata": {},
   "outputs": [
    {
     "name": "stdout",
     "output_type": "stream",
     "text": [
      "Submitted query:\n",
      "   \n",
      "   # PREFIXES\n",
      "   SELECT ?id WHERE {\n",
      "       ?id a nsg:DetailedCircuit\n",
      "   } LIMIT 100\n",
      "\n",
      "<action> _sparql\n",
      "<error> QueryingError: 400 Client Error: Bad Request for url: https://staging.nise.bbp.epfl.ch/nexus/v1/views/neurosciencegraph/datamodels/https%3A%2F%2Fbluebrain.github.io%2Fnexus%2Fvocabulary%2FdefaultSparqlIndex/sparql\n",
      "\n"
     ]
    }
   ],
   "source": [
    "mquery = \"\"\"\n",
    "# PREFIXES\n",
    "SELECT ?id WHERE {\n",
    "    ?id a nsg:DetailedCircuit\n",
    "} LIMIT 100\n",
    "\"\"\"\n",
    "\n",
    "forge.sparql(mquery, debug=True, rewrite=False)"
   ]
  },
  {
   "cell_type": "code",
   "execution_count": null,
   "metadata": {},
   "outputs": [
    {
     "name": "stdout",
     "output_type": "stream",
     "text": [
      "Submitted query:\n",
      "   \n",
      "   # PREFIXES\n",
      "   SELECT ?id WHERE {\n",
      "       ?id a nsg:DetailedCircuit\n",
      "   } LIMIT 100\n",
      "\n",
      "<action> _sparql\n",
      "<error> QueryingError: 400 Client Error: Bad Request for url: https://staging.nise.bbp.epfl.ch/nexus/v1/views/neurosciencegraph/datamodels/https%3A%2F%2Fbluebrain.github.io%2Fnexus%2Fvocabulary%2FdefaultSparqlIndex/sparql\n",
      "\n"
     ]
    }
   ],
   "source": [
    "forge.sparql(mquery, debug=True, rewrite=False)"
   ]
  },
  {
   "cell_type": "code",
   "execution_count": null,
   "metadata": {},
   "outputs": [],
   "source": []
  },
  {
   "cell_type": "code",
   "execution_count": null,
   "metadata": {},
   "outputs": [],
   "source": [
    "example_region = forge.retrieve(\"http://api.brain-map.org/api/v2/data/Structure/614454282\")"
   ]
  },
  {
   "cell_type": "code",
   "execution_count": null,
   "metadata": {},
   "outputs": [],
   "source": [
    "query = \"\"\"\n",
    "SELECT ?id ?label ?preflabel\n",
    "WHERE {\n",
    "  ?id subClassOf \"nsg:BrainRegion\" .\n",
    "}\n",
    " \"\"\""
   ]
  },
  {
   "cell_type": "code",
   "execution_count": null,
   "metadata": {},
   "outputs": [
    {
     "name": "stdout",
     "output_type": "stream",
     "text": [
      "Submitted query:\n",
      "   PREFIX bmc: <https://bbp.epfl.ch/ontologies/core/bmc/>\n",
      "   PREFIX bmo: <https://bbp.epfl.ch/ontologies/core/bmo/>\n",
      "   PREFIX commonshapes: <https://neuroshapes.org/commons/>\n",
      "   PREFIX datashapes: <https://neuroshapes.org/dash/>\n",
      "   PREFIX dc: <http://purl.org/dc/elements/1.1/>\n",
      "   PREFIX dcat: <http://www.w3.org/ns/dcat#>\n",
      "   PREFIX dcterms: <http://purl.org/dc/terms/>\n",
      "   PREFIX mba: <http://api.brain-map.org/api/v2/data/Structure/>\n",
      "   PREFIX nsg: <https://neuroshapes.org/>\n",
      "   PREFIX nxv: <https://bluebrain.github.io/nexus/vocabulary/>\n",
      "   PREFIX oa: <http://www.w3.org/ns/oa#>\n",
      "   PREFIX obo: <http://purl.obolibrary.org/obo/>\n",
      "   PREFIX owl: <http://www.w3.org/2002/07/owl#>\n",
      "   PREFIX prov: <http://www.w3.org/ns/prov#>\n",
      "   PREFIX rdf: <http://www.w3.org/1999/02/22-rdf-syntax-ns#>\n",
      "   PREFIX rdfs: <http://www.w3.org/2000/01/rdf-schema#>\n",
      "   PREFIX schema: <http://schema.org/>\n",
      "   PREFIX sh: <http://www.w3.org/ns/shacl#>\n",
      "   PREFIX shsh: <http://www.w3.org/ns/shacl-shacl#>\n",
      "   PREFIX skos: <http://www.w3.org/2004/02/skos/core#>\n",
      "   PREFIX vann: <http://purl.org/vocab/vann/>\n",
      "   PREFIX void: <http://rdfs.org/ns/void#>\n",
      "   PREFIX xml: <http://www.w3.org/XML/1998/namespace/>\n",
      "   PREFIX xsd: <http://www.w3.org/2001/XMLSchema#>\n",
      "   PREFIX : <https://bbp.neuroshapes.org/>\n",
      "   \n",
      "   SELECT ?id ?label ?preflabel\n",
      "   WHERE {\n",
      "     ?id rdfs:subClassOf \"nsg:BrainRegion\" .\n",
      "   }\n",
      "      LIMIT 100\n",
      "\n"
     ]
    }
   ],
   "source": [
    "bregions = forge.sparql(query, limit=100, debug=True)"
   ]
  },
  {
   "cell_type": "code",
   "execution_count": null,
   "metadata": {},
   "outputs": [
    {
     "data": {
      "text/plain": [
       "[]"
      ]
     },
     "execution_count": 67,
     "metadata": {},
     "output_type": "execute_result"
    }
   ],
   "source": [
    "bregions"
   ]
  },
  {
   "cell_type": "code",
   "execution_count": null,
   "metadata": {},
   "outputs": [
    {
     "data": {
      "text/plain": [
       "{'context': 'https://neuroshapes.org',\n",
       " 'id': 'http://api.brain-map.org/api/v2/data/Structure/614454282',\n",
       " 'type': 'Class',\n",
       " 'atlas_id': 966,\n",
       " 'color_hex_triplet': '1F9D5A',\n",
       " 'graph_order': 20,\n",
       " 'hemisphere_id': 3,\n",
       " 'identifier': '614454282',\n",
       " 'isDefinedBy': 'http://bbp.epfl.ch/neurosciencegraph/ontologies/core/brainregion',\n",
       " 'isPartOf': 'mba:943',\n",
       " 'notation': 'MOp2',\n",
       " 'rdfs:label': 'Primary motor area, Layer 2',\n",
       " 'skos:prefLabel': 'Primary motor area, Layer 2',\n",
       " 'st_level': 11,\n",
       " 'subClassOf': ['nsg:BrainRegion'],\n",
       " '_last_action': Action(error=None, message=None, operation='retrieve', succeeded=True),\n",
       " '_validated': False,\n",
       " '_inner_sync': True,\n",
       " '_synchronized': True,\n",
       " '_store_metadata': {'id': 'mba:614454282',\n",
       "  '_constrainedBy': 'https://neuroshapes.org/dash/ontologyentity',\n",
       "  '_createdAt': '2022-05-27T07:24:49.109Z',\n",
       "  '_createdBy': 'https://staging.nise.bbp.epfl.ch/nexus/v1/realms/serviceaccounts/users/service-account-brain-modeling-ontology-ci-cd',\n",
       "  '_deprecated': False,\n",
       "  '_incoming': 'https://staging.nise.bbp.epfl.ch/nexus/v1/resources/neurosciencegraph/datamodels/datashapes:ontologyentity/http:%2F%2Fapi.brain-map.org%2Fapi%2Fv2%2Fdata%2FStructure%2F614454282/incoming',\n",
       "  '_outgoing': 'https://staging.nise.bbp.epfl.ch/nexus/v1/resources/neurosciencegraph/datamodels/datashapes:ontologyentity/http:%2F%2Fapi.brain-map.org%2Fapi%2Fv2%2Fdata%2FStructure%2F614454282/outgoing',\n",
       "  '_project': 'https://staging.nise.bbp.epfl.ch/nexus/v1/projects/neurosciencegraph/datamodels',\n",
       "  '_rev': 8,\n",
       "  '_schemaProject': 'https://staging.nise.bbp.epfl.ch/nexus/v1/projects/neurosciencegraph/datamodels',\n",
       "  '_self': 'https://staging.nise.bbp.epfl.ch/nexus/v1/resources/neurosciencegraph/datamodels/datashapes:ontologyentity/http:%2F%2Fapi.brain-map.org%2Fapi%2Fv2%2Fdata%2FStructure%2F614454282',\n",
       "  '_updatedAt': '2022-06-17T22:48:31.217Z',\n",
       "  '_updatedBy': 'https://staging.nise.bbp.epfl.ch/nexus/v1/realms/serviceaccounts/users/service-account-nexus-sa'}}"
      ]
     },
     "execution_count": 45,
     "metadata": {},
     "output_type": "execute_result"
    }
   ],
   "source": [
    "example_region.__dict__"
   ]
  },
  {
   "cell_type": "code",
   "execution_count": null,
   "metadata": {},
   "outputs": [],
   "source": []
  }
 ],
 "metadata": {
  "kernelspec": {
   "display_name": "Python 3.7.13 ('kgforge')",
   "language": "python",
   "name": "python3"
  },
  "language_info": {
   "codemirror_mode": {
    "name": "ipython",
    "version": 3
   },
   "file_extension": ".py",
   "mimetype": "text/x-python",
   "name": "python",
   "nbconvert_exporter": "python",
   "pygments_lexer": "ipython3",
   "version": "3.7.13"
  },
  "vscode": {
   "interpreter": {
    "hash": "9ac393a5ddd595f2c78ea58b15bf8d269850a4413729cbea5c5fae9013762763"
   }
  }
 },
 "nbformat": 4,
 "nbformat_minor": 4
}

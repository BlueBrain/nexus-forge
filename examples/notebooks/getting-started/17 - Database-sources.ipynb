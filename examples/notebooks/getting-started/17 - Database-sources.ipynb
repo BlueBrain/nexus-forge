{
 "cells": [
  {
   "cell_type": "markdown",
   "metadata": {},
   "source": [
    "# Querying external database sources of interest\n",
    "\n",
    "* Enable users to integrate data from external databases of interest within BBP KG\n",
    "* While using the Nexus Forge interface and BMO vocabulary as much as possible as\n",
    "* While benefiting from out of the box (meta)data transformation to make them ready for BBP internal pipelines and applications\n",
    "* Demo with Mouselight, NeuroElectro, UniProt"
   ]
  },
  {
   "cell_type": "code",
   "execution_count": 1,
   "metadata": {
    "ExecuteTime": {
     "end_time": "2019-09-23T18:50:20.068658Z",
     "start_time": "2019-09-23T18:50:19.054054Z"
    }
   },
   "outputs": [],
   "source": [
    "import json\n",
    "\n",
    "from kgforge.core import KnowledgeGraphForge\n",
    "from kgforge.specializations.resources import Dataset"
   ]
  },
  {
   "cell_type": "code",
   "execution_count": 2,
   "metadata": {},
   "outputs": [],
   "source": [
    "endpoint = \"https://staging.nise.bbp.epfl.ch/nexus/v1\"\n",
    "BUCKET = \"neurosciencegraph/datamodels\"\n",
    "forge = KnowledgeGraphForge(\"../../configurations/database-sources/prod-nexus-sources.yml\", endpoint=endpoint, bucket=BUCKET)"
   ]
  },
  {
   "cell_type": "markdown",
   "metadata": {},
   "source": [
    "# List of Data sources"
   ]
  },
  {
   "cell_type": "code",
   "execution_count": 3,
   "metadata": {},
   "outputs": [
    {
     "name": "stdout",
     "output_type": "stream",
     "text": [
      "Available Database sources:\n",
      "UniProt\n",
      "NeuroElectro\n",
      "MouseLight\n"
     ]
    }
   ],
   "source": [
    "forge.db_sources(pretty=True)"
   ]
  },
  {
   "cell_type": "code",
   "execution_count": 4,
   "metadata": {},
   "outputs": [],
   "source": [
    "sources = forge.db_sources(pretty=False)"
   ]
  },
  {
   "cell_type": "code",
   "execution_count": 5,
   "metadata": {},
   "outputs": [],
   "source": [
    "\n",
    "data = {\n",
    "       'store':{\n",
    "          'name': 'DemoStore'\n",
    "       },\n",
    "        'model': { \n",
    "          'name': 'DemoModel',\n",
    "          'origin': 'directory',\n",
    "          'source': \"../../../tests/data/demo-model/\" \n",
    "        }\n",
    "}\n"
   ]
  },
  {
   "cell_type": "code",
   "execution_count": 6,
   "metadata": {},
   "outputs": [],
   "source": [
    "from kgforge.specializations.resources import DatabaseSource\n",
    "ds = DatabaseSource(forge, name=\"DemoDB\", from_forge=False, **data)"
   ]
  },
  {
   "cell_type": "code",
   "execution_count": 7,
   "metadata": {},
   "outputs": [
    {
     "name": "stdout",
     "output_type": "stream",
     "text": [
      "{\n",
      "    type: Database\n",
      "    _store:\n",
      "    {\n",
      "        context: null\n",
      "        bucket: null\n",
      "        endpoint: null\n",
      "        file_mapping: null\n",
      "        metadata_context: null\n",
      "        model_context: null\n",
      "        service:\n",
      "        {\n",
      "            archives: {}\n",
      "            records: {}\n",
      "            tags: {}\n",
      "        }\n",
      "        token: null\n",
      "        versioned_id_template: null\n",
      "    }\n",
      "    model:\n",
      "    {\n",
      "        origin: directory\n",
      "        source: ../../../tests/data/demo-model/\n",
      "    }\n",
      "    name: DemoDB\n",
      "    store:\n",
      "    {\n",
      "        name: DemoStore\n",
      "    }\n",
      "}\n"
     ]
    }
   ],
   "source": [
    "print(ds)"
   ]
  },
  {
   "cell_type": "code",
   "execution_count": 8,
   "metadata": {},
   "outputs": [
    {
     "name": "stdout",
     "output_type": "stream",
     "text": [
      "Available Database sources:\n",
      "UniProt\n",
      "NeuroElectro\n",
      "MouseLight\n",
      "DemoDB\n"
     ]
    }
   ],
   "source": [
    "forge.db_sources(pretty=True)"
   ]
  },
  {
   "cell_type": "markdown",
   "metadata": {},
   "source": [
    "# Data source metadata"
   ]
  },
  {
   "cell_type": "code",
   "execution_count": 9,
   "metadata": {},
   "outputs": [],
   "source": [
    "mouselight = sources[\"MouseLight\"]"
   ]
  },
  {
   "cell_type": "markdown",
   "metadata": {},
   "source": [
    "## Name, description, url, license, protocol => more can be added through configuration"
   ]
  },
  {
   "cell_type": "code",
   "execution_count": 10,
   "metadata": {},
   "outputs": [
    {
     "name": "stdout",
     "output_type": "stream",
     "text": [
      "MouseLight\n",
      "https://www.janelia.org/project-team/mouselight/resources\n",
      "{'id': 'https://creativecommons.org/licenses/by-nc/4.0', 'label': 'CC BY-NC 4.0'}\n"
     ]
    }
   ],
   "source": [
    "print(mouselight.name)\n",
    "print(mouselight.protocol)\n",
    "print(mouselight.license)"
   ]
  },
  {
   "cell_type": "markdown",
   "metadata": {},
   "source": [
    "## Get data mappings (hold transformations logic) per data type\n",
    "\n",
    "* Data mappings are used to transform results obtained from the external data sources so that they are ready for consumption by BBP tools\n",
    "* Perform automatic ontology linking"
   ]
  },
  {
   "cell_type": "code",
   "execution_count": 11,
   "metadata": {},
   "outputs": [
    {
     "data": {
      "text/plain": [
       "{'NeuronMorphology': ['DictionaryMapping']}"
      ]
     },
     "execution_count": 11,
     "metadata": {},
     "output_type": "execute_result"
    }
   ],
   "source": [
    "forge.mappings(\"MouseLight\", pretty=False)"
   ]
  },
  {
   "cell_type": "code",
   "execution_count": 12,
   "metadata": {},
   "outputs": [
    {
     "name": "stdout",
     "output_type": "stream",
     "text": [
      "Managed mappings for the data source per entity type and mapping type:\n",
      "   - NeuronElectrophysiologicalFeature:\n",
      "        * DictionaryMapping\n"
     ]
    }
   ],
   "source": [
    "forge.mappings('UniProt', pretty=True)"
   ]
  },
  {
   "cell_type": "code",
   "execution_count": 13,
   "metadata": {},
   "outputs": [
    {
     "name": "stdout",
     "output_type": "stream",
     "text": [
      "Managed mappings for the data source per entity type and mapping type:\n",
      "   - ElectrophysiologicalFeatureAnnotation:\n",
      "        * DictionaryMapping\n",
      "   - ParameterAnnotation:\n",
      "        * DictionaryMapping\n",
      "   - ParameterBody:\n",
      "        * DictionaryMapping\n",
      "   - ScholarlyArticle:\n",
      "        * DictionaryMapping\n",
      "   - SeriesBody:\n",
      "        * DictionaryMapping\n"
     ]
    }
   ],
   "source": [
    "forge.mappings('NeuroElectro', pretty=True)"
   ]
  },
  {
   "cell_type": "code",
   "execution_count": 14,
   "metadata": {},
   "outputs": [],
   "source": [
    "from kgforge.specializations.mappings import DictionaryMapping\n",
    "mapping = forge.mapping(\"NeuronMorphology\", \"MouseLight\", type=DictionaryMapping)\n",
    "direct_mapping = mouselight.mapping(\"NeuronMorphology\", type=DictionaryMapping)"
   ]
  },
  {
   "cell_type": "code",
   "execution_count": 15,
   "metadata": {},
   "outputs": [
    {
     "name": "stdout",
     "output_type": "stream",
     "text": [
      "{\n",
      "    id: forge.format(\"identifier\", \"neuronmorphologies/mouselight\", x.neurons[0][\"idString\"])\n",
      "    type:\n",
      "    [\n",
      "        Dataset\n",
      "        NeuronMorphology\n",
      "    ]\n",
      "    brainLocation:\n",
      "    {\n",
      "        type: BrainLocation\n",
      "        brainRegion:\n",
      "        {\n",
      "            id: f\"http://api.brain-map.org/api/v2/data/Structure/{x.neurons[0]['soma']['allenId']}\"\n",
      "            label: x.neurons[0][\"allenLabel\"]\n",
      "        }\n",
      "        coordinatesInBrainAtlas:\n",
      "        {\n",
      "            valueX: x.neurons[0][\"soma\"][\"x\"]\n",
      "            valueY: x.neurons[0][\"soma\"][\"y\"]\n",
      "            valueZ: x.neurons[0][\"soma\"][\"z\"]\n",
      "        }\n",
      "    }\n",
      "    contribution:\n",
      "    {\n",
      "        type: Contribution\n",
      "        agent:\n",
      "        {\n",
      "            id: https://www.grid.ac/institutes/grid.443970.d\n",
      "            type: Organization\n",
      "            label: Janelia Research Campus\n",
      "        }\n",
      "    }\n",
      "    dateCreated: x.neurons[0][\"sample\"][\"date\"]\n",
      "    description: x.neurons[0][\"annotationSpace\"][\"description\"]\n",
      "    distribution: forge.attach(f\"./mouselight/{x.neurons[0]['idString']}.swc\", content_type=\"application/swc\")\n",
      "    fluorophore: x.neurons[0][\"label\"][\"fluorophore\"]\n",
      "    generation:\n",
      "    {\n",
      "        type: Generation\n",
      "        activity:\n",
      "        {\n",
      "            type: nsg:NeuronMorphologyReconstruction\n",
      "            hadProtocol: {}\n",
      "        }\n",
      "    }\n",
      "    identifier: x.neurons[0][\"idString\"]\n",
      "    license:\n",
      "    {\n",
      "        id: https://mouselight.janelia.org\n",
      "        type: License\n",
      "    }\n",
      "    name: x.neurons[0][\"idString\"]\n",
      "    objectOfStudy:\n",
      "    {\n",
      "        id: http://bbp.epfl.ch/neurosciencegraph/taxonomies/objectsofstudy/singlecells\n",
      "        type: ObjectOfStudy\n",
      "        label: Single Cell\n",
      "    }\n",
      "    subject:\n",
      "    {\n",
      "        type: Subject\n",
      "        species:\n",
      "        {\n",
      "            id: http://purl.obolibrary.org/obo/NCBITaxon_10090\n",
      "            label: Mus musculus\n",
      "        }\n",
      "        strain:\n",
      "        {\n",
      "            label: x.neurons[0][\"sample\"][\"strain\"]\n",
      "        }\n",
      "    }\n",
      "    version: x.neurons[0][\"annotationSpace\"][\"version\"]\n",
      "    virus: x.neurons[0][\"label\"][\"virus\"]\n",
      "}\n"
     ]
    }
   ],
   "source": [
    "print(mapping)"
   ]
  },
  {
   "cell_type": "code",
   "execution_count": 16,
   "metadata": {},
   "outputs": [
    {
     "name": "stdout",
     "output_type": "stream",
     "text": [
      "{\n",
      "    id: forge.format(\"identifier\", \"neuronmorphologies/mouselight\", x.neurons[0][\"idString\"])\n",
      "    type:\n",
      "    [\n",
      "        Dataset\n",
      "        NeuronMorphology\n",
      "    ]\n",
      "    brainLocation:\n",
      "    {\n",
      "        type: BrainLocation\n",
      "        brainRegion:\n",
      "        {\n",
      "            id: f\"http://api.brain-map.org/api/v2/data/Structure/{x.neurons[0]['soma']['allenId']}\"\n",
      "            label: x.neurons[0][\"allenLabel\"]\n",
      "        }\n",
      "        coordinatesInBrainAtlas:\n",
      "        {\n",
      "            valueX: x.neurons[0][\"soma\"][\"x\"]\n",
      "            valueY: x.neurons[0][\"soma\"][\"y\"]\n",
      "            valueZ: x.neurons[0][\"soma\"][\"z\"]\n",
      "        }\n",
      "    }\n",
      "    contribution:\n",
      "    {\n",
      "        type: Contribution\n",
      "        agent:\n",
      "        {\n",
      "            id: https://www.grid.ac/institutes/grid.443970.d\n",
      "            type: Organization\n",
      "            label: Janelia Research Campus\n",
      "        }\n",
      "    }\n",
      "    dateCreated: x.neurons[0][\"sample\"][\"date\"]\n",
      "    description: x.neurons[0][\"annotationSpace\"][\"description\"]\n",
      "    distribution: forge.attach(f\"./mouselight/{x.neurons[0]['idString']}.swc\", content_type=\"application/swc\")\n",
      "    fluorophore: x.neurons[0][\"label\"][\"fluorophore\"]\n",
      "    generation:\n",
      "    {\n",
      "        type: Generation\n",
      "        activity:\n",
      "        {\n",
      "            type: nsg:NeuronMorphologyReconstruction\n",
      "            hadProtocol: {}\n",
      "        }\n",
      "    }\n",
      "    identifier: x.neurons[0][\"idString\"]\n",
      "    license:\n",
      "    {\n",
      "        id: https://mouselight.janelia.org\n",
      "        type: License\n",
      "    }\n",
      "    name: x.neurons[0][\"idString\"]\n",
      "    objectOfStudy:\n",
      "    {\n",
      "        id: http://bbp.epfl.ch/neurosciencegraph/taxonomies/objectsofstudy/singlecells\n",
      "        type: ObjectOfStudy\n",
      "        label: Single Cell\n",
      "    }\n",
      "    subject:\n",
      "    {\n",
      "        type: Subject\n",
      "        species:\n",
      "        {\n",
      "            id: http://purl.obolibrary.org/obo/NCBITaxon_10090\n",
      "            label: Mus musculus\n",
      "        }\n",
      "        strain:\n",
      "        {\n",
      "            label: x.neurons[0][\"sample\"][\"strain\"]\n",
      "        }\n",
      "    }\n",
      "    version: x.neurons[0][\"annotationSpace\"][\"version\"]\n",
      "    virus: x.neurons[0][\"label\"][\"virus\"]\n",
      "}\n"
     ]
    }
   ],
   "source": [
    "print(direct_mapping)"
   ]
  },
  {
   "cell_type": "code",
   "execution_count": 17,
   "metadata": {},
   "outputs": [
    {
     "name": "stdout",
     "output_type": "stream",
     "text": [
      "Available Database sources:\n",
      "MouseLight\n"
     ]
    }
   ],
   "source": [
    "forge.db_sources(with_datatype='NeuronMorphology', pretty=True)"
   ]
  },
  {
   "cell_type": "code",
   "execution_count": 18,
   "metadata": {},
   "outputs": [],
   "source": [
    "ne = sources['NeuroElectro']"
   ]
  },
  {
   "cell_type": "markdown",
   "metadata": {},
   "source": [
    "# Search and Access data from data source\n",
    "\n",
    "* Mapping are automatically applied to search results\n",
    "* takes a mn for now => working on making it faster "
   ]
  },
  {
   "cell_type": "code",
   "execution_count": 19,
   "metadata": {},
   "outputs": [],
   "source": [
    "# Type, source or target brain region, \n",
    "filters = {\"type\":\"ScholarlyArticle\"}\n",
    "#map=True, use_cache=True, # download=True\n",
    "resources = forge.search(filters, db_source=\"NeuroElectro\", limit=2) \n",
    "# ADd function for checking datsource health => reqsuire health url from db\n"
   ]
  },
  {
   "cell_type": "code",
   "execution_count": 20,
   "metadata": {},
   "outputs": [
    {
     "data": {
      "text/plain": [
       "2"
      ]
     },
     "execution_count": 20,
     "metadata": {},
     "output_type": "execute_result"
    }
   ],
   "source": [
    "len(resources)"
   ]
  },
  {
   "cell_type": "code",
   "execution_count": 21,
   "metadata": {},
   "outputs": [
    {
     "name": "stdout",
     "output_type": "stream",
     "text": [
      "{\n",
      "    context: https://bbp.neuroshapes.org\n",
      "    id: https://bbp.epfl.ch/neurosciencegraph/data/scholarlyarticles/35463\n",
      "    type:\n",
      "    [\n",
      "        Entity\n",
      "        ScholarlyArticle\n",
      "    ]\n",
      "    abstract: Rationally, an increased intrinsic excitability of dorsal horn neurons could be a factor contributing to alter the gain of the nociceptive system during central sensitization, however direct evidence is scarce. Here we have examined this hypothesis using current and voltage-clamp recordings from dorsal horn neurons in the spinal cord in vitro preparation obtained from mice pups of either sex. Cords were extracted from carrageenan-pretreated and control animals to allow for comparison. Dorsal horn neurons from treated animals showed significantly larger and faster synaptic responses. Synaptic changes started developing shortly after inflammation (1 h) and developed further after a longer-term inflammation (20 h). However, these neurons showed biphasic changes in membrane excitability with an increase shortly after inflammation and a decrease in the longer term. Concomitant changes were observed in transient (I(A)) and sustained potassium currents (I(DR)). Prolonged superfusion of naive spinal cords with NMDA led to a decreased neuronal excitability and to increased potassium currents. Results suggest that excitability plays a role more complex than expected during the process of central sensitization of dorsal horn neurons and that modulation of potassium currents may contribute to shape the changing states of excitability. The decreased excitability observed after long-term inflammation is interpreted as a homeostatic correction to an abnormal state of synaptic activity.\n",
      "    author:\n",
      "    [\n",
      "        {\n",
      "            type: Person\n",
      "            familyName: Rivera-Arconada\n",
      "            givenName: Ivan\n",
      "        }\n",
      "        {\n",
      "            type: Person\n",
      "            familyName: Lopez-Garcia\n",
      "            givenName: Jose A\n",
      "        }\n",
      "    ]\n",
      "    datePublished: 2010-4-14\n",
      "    identifier:\n",
      "    [\n",
      "        {\n",
      "            propertyID: PMID\n",
      "            value: 20392959\n",
      "        }\n",
      "        {\n",
      "            propertyID: doi\n",
      "            value: 10.1523/JNEUROSCI.4359-09.2010\n",
      "        }\n",
      "    ]\n",
      "    isPartOf:\n",
      "    {\n",
      "        type: Periodical\n",
      "        issn: 0270-6474\n",
      "        name: The Journal of neuroscience : the official journal of the Society for Neuroscience\n",
      "        publisher: Society for Neuroscience\n",
      "    }\n",
      "    name: article_35463\n",
      "    sameAs: http://www.jneurosci.org/content/30/15/5376.long\n",
      "    title: Changes in membrane excitability and potassium currents in sensitized dorsal horn neurons of mice pups.\n",
      "    url: http://www.jneurosci.org/content/30/15/5376.long\n",
      "}\n"
     ]
    }
   ],
   "source": [
    "print(resources[0])"
   ]
  },
  {
   "cell_type": "code",
   "execution_count": 22,
   "metadata": {},
   "outputs": [],
   "source": [
    "uquery = \"\"\"\n",
    "PREFIX up: <http://purl.uniprot.org/core/>\n",
    "SELECT ?protein\n",
    "WHERE {\n",
    "  ?protein a up:Protein .\n",
    "  ?protein up:reviewed true .\n",
    "}\n",
    "\"\"\""
   ]
  },
  {
   "cell_type": "code",
   "execution_count": 23,
   "metadata": {},
   "outputs": [
    {
     "name": "stdout",
     "output_type": "stream",
     "text": [
      "Submitted query:\n",
      "   \n",
      "   PREFIX up: <http://purl.uniprot.org/core/>\n",
      "   SELECT ?protein\n",
      "   WHERE {\n",
      "     ?protein a up:Protein .\n",
      "     ?protein up:reviewed true .\n",
      "   }\n",
      "     LIMIT 10\n",
      "\n"
     ]
    }
   ],
   "source": [
    "uresources = forge.sparql(query=uquery, db_source='UniProt', limit=10, debug=True)"
   ]
  },
  {
   "cell_type": "code",
   "execution_count": 24,
   "metadata": {},
   "outputs": [
    {
     "name": "stdout",
     "output_type": "stream",
     "text": [
      "<action> search\n",
      "<error> ValueError: context model missing\n",
      "\n"
     ]
    }
   ],
   "source": [
    "forge.search({\"type\": 'Protein'}, db_source='UniProt')"
   ]
  },
  {
   "cell_type": "markdown",
   "metadata": {},
   "source": [
    "# Save in BBP KG (Nexus)"
   ]
  },
  {
   "cell_type": "code",
   "execution_count": 25,
   "metadata": {},
   "outputs": [],
   "source": [
    "# forge.register(resources)"
   ]
  },
  {
   "cell_type": "markdown",
   "metadata": {},
   "source": [
    "## Access"
   ]
  },
  {
   "cell_type": "markdown",
   "metadata": {},
   "source": [
    "### Set filters"
   ]
  },
  {
   "cell_type": "code",
   "execution_count": 26,
   "metadata": {},
   "outputs": [],
   "source": [
    "_type = \"NeuronMorphology\"\n",
    "filters = {\"type\": _type}"
   ]
  },
  {
   "cell_type": "markdown",
   "metadata": {},
   "source": [
    "### Run Query"
   ]
  },
  {
   "cell_type": "code",
   "execution_count": 27,
   "metadata": {},
   "outputs": [
    {
     "name": "stdout",
     "output_type": "stream",
     "text": [
      "0 dataset(s) of type NeuronMorphology found\n"
     ]
    }
   ],
   "source": [
    "limit = 10  # You can limit the number of results, pass `None` to fetch all the results\n",
    "\n",
    "data = forge.search(filters, limit=limit)\n",
    "\n",
    "print(f\"{str(len(data))} dataset(s) of type {_type} found\")"
   ]
  },
  {
   "cell_type": "markdown",
   "metadata": {},
   "source": [
    "### Display the results as pandas dataframe"
   ]
  },
  {
   "cell_type": "code",
   "execution_count": 28,
   "metadata": {},
   "outputs": [
    {
     "data": {
      "text/html": [
       "<div>\n",
       "<style scoped>\n",
       "    .dataframe tbody tr th:only-of-type {\n",
       "        vertical-align: middle;\n",
       "    }\n",
       "\n",
       "    .dataframe tbody tr th {\n",
       "        vertical-align: top;\n",
       "    }\n",
       "\n",
       "    .dataframe thead th {\n",
       "        text-align: right;\n",
       "    }\n",
       "</style>\n",
       "<table border=\"1\" class=\"dataframe\">\n",
       "  <thead>\n",
       "    <tr style=\"text-align: right;\">\n",
       "      <th></th>\n",
       "    </tr>\n",
       "  </thead>\n",
       "  <tbody>\n",
       "  </tbody>\n",
       "</table>\n",
       "</div>"
      ],
      "text/plain": [
       "Empty DataFrame\n",
       "Columns: []\n",
       "Index: []"
      ]
     },
     "execution_count": 28,
     "metadata": {},
     "output_type": "execute_result"
    }
   ],
   "source": [
    "property_to_display = [\"id\",\"name\",\"subject\",\"brainLocation.brainRegion.id\",\"brainLocation.brainRegion.label\",\"brainLocation.layer.id\",\"brainLocation.layer.label\", \"contribution\",\"brainLocation.layer.id\",\"brainLocation.layer.label\",\"distribution.name\",\"distribution.contentUrl\",\"distribution.encodingFormat\"]\n",
    "reshaped_data = forge.reshape(data, keep=property_to_display)\n",
    "\n",
    "forge.as_dataframe(reshaped_data)"
   ]
  },
  {
   "cell_type": "markdown",
   "metadata": {},
   "source": [
    "### Download"
   ]
  },
  {
   "cell_type": "code",
   "execution_count": 29,
   "metadata": {},
   "outputs": [
    {
     "name": "stdout",
     "output_type": "stream",
     "text": [
      "<action> download\n",
      "<error> DownloadingError: path to follow 'distribution.contentUrl' was not found in any provided resource.\n",
      "\n"
     ]
    }
   ],
   "source": [
    "dirpath = \"./downloaded/\"\n",
    "forge.download(data, \"distribution.contentUrl\", dirpath)"
   ]
  }
 ],
 "metadata": {
  "kernelspec": {
   "display_name": "Python 3.7.13 ('kgforge')",
   "language": "python",
   "name": "python3"
  },
  "language_info": {
   "codemirror_mode": {
    "name": "ipython",
    "version": 3
   },
   "file_extension": ".py",
   "mimetype": "text/x-python",
   "name": "python",
   "nbconvert_exporter": "python",
   "pygments_lexer": "ipython3",
   "version": "3.7.13"
  },
  "vscode": {
   "interpreter": {
    "hash": "9ac393a5ddd595f2c78ea58b15bf8d269850a4413729cbea5c5fae9013762763"
   }
  }
 },
 "nbformat": 4,
 "nbformat_minor": 4
}

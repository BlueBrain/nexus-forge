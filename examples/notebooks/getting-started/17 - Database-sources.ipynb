{
 "cells": [
  {
   "cell_type": "markdown",
   "metadata": {},
   "source": [
    "# Querying external database sources of interest\n",
    "\n",
    "* Enable users to integrate data from external databases of interest within BBP KG\n",
    "* While using the Nexus Forge interface and BMO vocabulary as much as possible as\n",
    "* While benefiting from out of the box (meta)data transformation to make them ready for BBP internal pipelines and applications\n",
    "* Demo with Mouselight, NeuroElectro, UniProt"
   ]
  },
  {
   "cell_type": "code",
   "execution_count": 1,
   "metadata": {
    "ExecuteTime": {
     "end_time": "2019-09-23T18:50:20.068658Z",
     "start_time": "2019-09-23T18:50:19.054054Z"
    }
   },
   "outputs": [],
   "source": [
    "import json\n",
    "\n",
    "from kgforge.core import KnowledgeGraphForge\n",
    "from kgforge.specializations.resources import Dataset"
   ]
  },
  {
   "cell_type": "code",
   "execution_count": 2,
   "metadata": {},
   "outputs": [],
   "source": [
    "endpoint = \"https://staging.nise.bbp.epfl.ch/nexus/v1\"\n",
    "BUCKET = \"neurosciencegraph/datamodels\"\n",
    "forge = KnowledgeGraphForge(\"../../configurations/database-sources/prod-nexus-sources.yml\", endpoint=endpoint, bucket=BUCKET)"
   ]
  },
  {
   "cell_type": "markdown",
   "metadata": {},
   "source": [
    "# List of Data sources"
   ]
  },
  {
   "cell_type": "code",
   "execution_count": 3,
   "metadata": {},
   "outputs": [
    {
     "name": "stdout",
     "output_type": "stream",
     "text": [
      "Available Database sources:\n",
      "UniProt\n",
      "NeuroElectro\n",
      "MouseLight\n"
     ]
    }
   ],
   "source": [
    "forge.db_sources(pretty=True)"
   ]
  },
  {
   "cell_type": "code",
   "execution_count": 4,
   "metadata": {},
   "outputs": [],
   "source": [
    "sources = forge.db_sources(pretty=False)"
   ]
  },
  {
   "cell_type": "code",
   "execution_count": 5,
   "metadata": {},
   "outputs": [],
   "source": [
    "\n",
    "data = {\n",
    "       'store':{\n",
    "          'name': 'DemoStore'\n",
    "       },\n",
    "        'model': { \n",
    "          'name': 'DemoModel',\n",
    "          'origin': 'directory',\n",
    "          'source': \"../../../tests/data/demo-model/\" \n",
    "        }\n",
    "}\n"
   ]
  },
  {
   "cell_type": "code",
   "execution_count": 6,
   "metadata": {},
   "outputs": [],
   "source": [
    "from kgforge.specializations.resources import DatabaseSource\n",
    "ds = DatabaseSource(forge, name=\"DemoDB\", from_forge=False, **data)"
   ]
  },
  {
   "cell_type": "code",
   "execution_count": 7,
   "metadata": {},
   "outputs": [],
   "source": [
    "# print(ds)"
   ]
  },
  {
   "cell_type": "code",
   "execution_count": 8,
   "metadata": {},
   "outputs": [
    {
     "name": "stdout",
     "output_type": "stream",
     "text": [
      "Available Database sources:\n",
      "UniProt\n",
      "NeuroElectro\n",
      "MouseLight\n",
      "DemoDB\n"
     ]
    }
   ],
   "source": [
    "forge.db_sources(pretty=True)"
   ]
  },
  {
   "cell_type": "markdown",
   "metadata": {},
   "source": [
    "# Data source metadata"
   ]
  },
  {
   "cell_type": "code",
   "execution_count": 9,
   "metadata": {},
   "outputs": [],
   "source": [
    "mouselight = sources[\"MouseLight\"]"
   ]
  },
  {
   "cell_type": "markdown",
   "metadata": {},
   "source": [
    "## Name, description, url, license, protocol => more can be added through configuration"
   ]
  },
  {
   "cell_type": "code",
   "execution_count": 10,
   "metadata": {},
   "outputs": [
    {
     "name": "stdout",
     "output_type": "stream",
     "text": [
      "MouseLight\n",
      "https://www.janelia.org/project-team/mouselight/resources\n",
      "{'id': 'https://creativecommons.org/licenses/by-nc/4.0', 'label': 'CC BY-NC 4.0'}\n"
     ]
    }
   ],
   "source": [
    "print(mouselight.name)\n",
    "print(mouselight.protocol)\n",
    "print(mouselight.license)"
   ]
  },
  {
   "cell_type": "markdown",
   "metadata": {},
   "source": [
    "## Get data mappings (hold transformations logic) per data type\n",
    "\n",
    "* Data mappings are used to transform results obtained from the external data sources so that they are ready for consumption by BBP tools\n",
    "* Perform automatic ontology linking"
   ]
  },
  {
   "cell_type": "code",
   "execution_count": 11,
   "metadata": {},
   "outputs": [
    {
     "data": {
      "text/plain": [
       "{'NeuronMorphology': ['DictionaryMapping']}"
      ]
     },
     "execution_count": 11,
     "metadata": {},
     "output_type": "execute_result"
    }
   ],
   "source": [
    "forge.mappings(\"MouseLight\", pretty=False)"
   ]
  },
  {
   "cell_type": "code",
   "execution_count": 12,
   "metadata": {},
   "outputs": [
    {
     "name": "stdout",
     "output_type": "stream",
     "text": [
      "Managed mappings for the data source per entity type and mapping type:\n",
      "   - NeuronElectrophysiologicalFeature:\n",
      "        * DictionaryMapping\n"
     ]
    }
   ],
   "source": [
    "forge.mappings('UniProt', pretty=True)"
   ]
  },
  {
   "cell_type": "code",
   "execution_count": 13,
   "metadata": {},
   "outputs": [
    {
     "name": "stdout",
     "output_type": "stream",
     "text": [
      "Managed mappings for the data source per entity type and mapping type:\n",
      "   - ElectrophysiologicalFeatureAnnotation:\n",
      "        * DictionaryMapping\n",
      "   - ParameterAnnotation:\n",
      "        * DictionaryMapping\n",
      "   - ParameterBody:\n",
      "        * DictionaryMapping\n",
      "   - ScholarlyArticle:\n",
      "        * DictionaryMapping\n",
      "   - SeriesBody:\n",
      "        * DictionaryMapping\n"
     ]
    }
   ],
   "source": [
    "forge.mappings('NeuroElectro', pretty=True)"
   ]
  },
  {
   "cell_type": "code",
   "execution_count": 14,
   "metadata": {},
   "outputs": [],
   "source": [
    "from kgforge.specializations.mappings import DictionaryMapping\n",
    "mapping = forge.mapping(\"NeuronMorphology\", \"MouseLight\", type=DictionaryMapping)\n",
    "direct_mapping = mouselight.mapping(\"NeuronMorphology\", type=DictionaryMapping)"
   ]
  },
  {
   "cell_type": "code",
   "execution_count": 15,
   "metadata": {},
   "outputs": [
    {
     "name": "stdout",
     "output_type": "stream",
     "text": [
      "{\n",
      "    id: forge.format(\"identifier\", \"neuronmorphologies/mouselight\", x.neurons[0][\"idString\"])\n",
      "    type:\n",
      "    [\n",
      "        Dataset\n",
      "        NeuronMorphology\n",
      "    ]\n",
      "    brainLocation:\n",
      "    {\n",
      "        type: BrainLocation\n",
      "        brainRegion:\n",
      "        {\n",
      "            id: f\"http://api.brain-map.org/api/v2/data/Structure/{x.neurons[0]['soma']['allenId']}\"\n",
      "            label: x.neurons[0][\"allenLabel\"]\n",
      "        }\n",
      "        coordinatesInBrainAtlas:\n",
      "        {\n",
      "            valueX: x.neurons[0][\"soma\"][\"x\"]\n",
      "            valueY: x.neurons[0][\"soma\"][\"y\"]\n",
      "            valueZ: x.neurons[0][\"soma\"][\"z\"]\n",
      "        }\n",
      "    }\n",
      "    contribution:\n",
      "    {\n",
      "        type: Contribution\n",
      "        agent:\n",
      "        {\n",
      "            id: https://www.grid.ac/institutes/grid.443970.d\n",
      "            type: Organization\n",
      "            label: Janelia Research Campus\n",
      "        }\n",
      "    }\n",
      "    dateCreated: x.neurons[0][\"sample\"][\"date\"]\n",
      "    description: x.neurons[0][\"annotationSpace\"][\"description\"]\n",
      "    distribution: forge.attach(f\"./mouselight/{x.neurons[0]['idString']}.swc\", content_type=\"application/swc\")\n",
      "    fluorophore: x.neurons[0][\"label\"][\"fluorophore\"]\n",
      "    generation:\n",
      "    {\n",
      "        type: Generation\n",
      "        activity:\n",
      "        {\n",
      "            type: nsg:NeuronMorphologyReconstruction\n",
      "            hadProtocol: {}\n",
      "        }\n",
      "    }\n",
      "    identifier: x.neurons[0][\"idString\"]\n",
      "    license:\n",
      "    {\n",
      "        id: https://mouselight.janelia.org\n",
      "        type: License\n",
      "    }\n",
      "    name: x.neurons[0][\"idString\"]\n",
      "    objectOfStudy:\n",
      "    {\n",
      "        id: http://bbp.epfl.ch/neurosciencegraph/taxonomies/objectsofstudy/singlecells\n",
      "        type: ObjectOfStudy\n",
      "        label: Single Cell\n",
      "    }\n",
      "    subject:\n",
      "    {\n",
      "        type: Subject\n",
      "        species:\n",
      "        {\n",
      "            id: http://purl.obolibrary.org/obo/NCBITaxon_10090\n",
      "            label: Mus musculus\n",
      "        }\n",
      "        strain:\n",
      "        {\n",
      "            label: x.neurons[0][\"sample\"][\"strain\"]\n",
      "        }\n",
      "    }\n",
      "    version: x.neurons[0][\"annotationSpace\"][\"version\"]\n",
      "    virus: x.neurons[0][\"label\"][\"virus\"]\n",
      "}\n"
     ]
    }
   ],
   "source": [
    "print(mapping)"
   ]
  },
  {
   "cell_type": "code",
   "execution_count": 16,
   "metadata": {},
   "outputs": [
    {
     "name": "stdout",
     "output_type": "stream",
     "text": [
      "{\n",
      "    id: forge.format(\"identifier\", \"neuronmorphologies/mouselight\", x.neurons[0][\"idString\"])\n",
      "    type:\n",
      "    [\n",
      "        Dataset\n",
      "        NeuronMorphology\n",
      "    ]\n",
      "    brainLocation:\n",
      "    {\n",
      "        type: BrainLocation\n",
      "        brainRegion:\n",
      "        {\n",
      "            id: f\"http://api.brain-map.org/api/v2/data/Structure/{x.neurons[0]['soma']['allenId']}\"\n",
      "            label: x.neurons[0][\"allenLabel\"]\n",
      "        }\n",
      "        coordinatesInBrainAtlas:\n",
      "        {\n",
      "            valueX: x.neurons[0][\"soma\"][\"x\"]\n",
      "            valueY: x.neurons[0][\"soma\"][\"y\"]\n",
      "            valueZ: x.neurons[0][\"soma\"][\"z\"]\n",
      "        }\n",
      "    }\n",
      "    contribution:\n",
      "    {\n",
      "        type: Contribution\n",
      "        agent:\n",
      "        {\n",
      "            id: https://www.grid.ac/institutes/grid.443970.d\n",
      "            type: Organization\n",
      "            label: Janelia Research Campus\n",
      "        }\n",
      "    }\n",
      "    dateCreated: x.neurons[0][\"sample\"][\"date\"]\n",
      "    description: x.neurons[0][\"annotationSpace\"][\"description\"]\n",
      "    distribution: forge.attach(f\"./mouselight/{x.neurons[0]['idString']}.swc\", content_type=\"application/swc\")\n",
      "    fluorophore: x.neurons[0][\"label\"][\"fluorophore\"]\n",
      "    generation:\n",
      "    {\n",
      "        type: Generation\n",
      "        activity:\n",
      "        {\n",
      "            type: nsg:NeuronMorphologyReconstruction\n",
      "            hadProtocol: {}\n",
      "        }\n",
      "    }\n",
      "    identifier: x.neurons[0][\"idString\"]\n",
      "    license:\n",
      "    {\n",
      "        id: https://mouselight.janelia.org\n",
      "        type: License\n",
      "    }\n",
      "    name: x.neurons[0][\"idString\"]\n",
      "    objectOfStudy:\n",
      "    {\n",
      "        id: http://bbp.epfl.ch/neurosciencegraph/taxonomies/objectsofstudy/singlecells\n",
      "        type: ObjectOfStudy\n",
      "        label: Single Cell\n",
      "    }\n",
      "    subject:\n",
      "    {\n",
      "        type: Subject\n",
      "        species:\n",
      "        {\n",
      "            id: http://purl.obolibrary.org/obo/NCBITaxon_10090\n",
      "            label: Mus musculus\n",
      "        }\n",
      "        strain:\n",
      "        {\n",
      "            label: x.neurons[0][\"sample\"][\"strain\"]\n",
      "        }\n",
      "    }\n",
      "    version: x.neurons[0][\"annotationSpace\"][\"version\"]\n",
      "    virus: x.neurons[0][\"label\"][\"virus\"]\n",
      "}\n"
     ]
    }
   ],
   "source": [
    "print(direct_mapping)"
   ]
  },
  {
   "cell_type": "code",
   "execution_count": 17,
   "metadata": {},
   "outputs": [
    {
     "name": "stdout",
     "output_type": "stream",
     "text": [
      "Available Database sources:\n",
      "MouseLight\n"
     ]
    }
   ],
   "source": [
    "forge.db_sources(with_datatype='NeuronMorphology', pretty=True)"
   ]
  },
  {
   "cell_type": "code",
   "execution_count": 18,
   "metadata": {},
   "outputs": [],
   "source": [
    "ne = sources['NeuroElectro']"
   ]
  },
  {
   "cell_type": "markdown",
   "metadata": {},
   "source": [
    "# Search and Access data from data source\n",
    "\n",
    "* Mapping are automatically applied to search results\n",
    "* takes a mn for now => working on making it faster "
   ]
  },
  {
   "cell_type": "code",
   "execution_count": 19,
   "metadata": {},
   "outputs": [
    {
     "name": "stdout",
     "output_type": "stream",
     "text": [
      "query in rewrite_sparql SELECT ?id ?_constrainedBy ?_createdAt ?_createdBy ?_deprecated ?_incoming ?_outgoing ?_project ?_rev ?_schemaProject ?_self ?_updatedAt ?_updatedBy WHERE { Graph ?g {?id type ScholarlyArticle;\n",
      " <https://bluebrain.github.io/nexus/vocabulary/constrainedBy> ?_constrainedBy;\n",
      " <https://bluebrain.github.io/nexus/vocabulary/createdAt> ?_createdAt;\n",
      " <https://bluebrain.github.io/nexus/vocabulary/createdBy> ?_createdBy;\n",
      " <https://bluebrain.github.io/nexus/vocabulary/deprecated> ?_deprecated;\n",
      " <https://bluebrain.github.io/nexus/vocabulary/incoming> ?_incoming;\n",
      " <https://bluebrain.github.io/nexus/vocabulary/outgoing> ?_outgoing;\n",
      " <https://bluebrain.github.io/nexus/vocabulary/project> ?_project;\n",
      " <https://bluebrain.github.io/nexus/vocabulary/rev> ?_rev;\n",
      " <https://bluebrain.github.io/nexus/vocabulary/schemaProject> ?_schemaProject;\n",
      " <https://bluebrain.github.io/nexus/vocabulary/self> ?_self;\n",
      " <https://bluebrain.github.io/nexus/vocabulary/updatedAt> ?_updatedAt;\n",
      " <https://bluebrain.github.io/nexus/vocabulary/updatedBy> ?_updatedBy . \n",
      " Filter (?_deprecated = 'false'^^xsd:boolean)\n",
      "Filter (?_project = <https://staging.nise.bbp.epfl.ch/nexus/v1/projects/bbp/neuroelectro>)}}\n"
     ]
    }
   ],
   "source": [
    "# Type, source or target brain region, \n",
    "filters = {\"type\":\"ScholarlyArticle\"}\n",
    "#map=True, use_cache=True, # download=True\n",
    "resources = forge.search(filters, db_source=\"NeuroElectro\", limit=2) \n",
    "# ADd function for checking datsource health => reqsuire health url from db\n"
   ]
  },
  {
   "cell_type": "code",
   "execution_count": 20,
   "metadata": {},
   "outputs": [
    {
     "data": {
      "text/plain": [
       "2"
      ]
     },
     "execution_count": 20,
     "metadata": {},
     "output_type": "execute_result"
    }
   ],
   "source": [
    "len(resources)"
   ]
  },
  {
   "cell_type": "code",
   "execution_count": 21,
   "metadata": {},
   "outputs": [
    {
     "name": "stdout",
     "output_type": "stream",
     "text": [
      "{\n",
      "    context: https://bbp.neuroshapes.org\n",
      "    id: https://bbp.epfl.ch/neurosciencegraph/data/scholarlyarticles/91941\n",
      "    type:\n",
      "    [\n",
      "        Entity\n",
      "        ScholarlyArticle\n",
      "    ]\n",
      "    abstract: Neurons in the medial septal/diagonal band complex (MS/DB) in vivo exhibit rhythmic burst-firing activity that is phase-locked with the hippocampal theta rhythm. The aim was to assess the morphology of local axon collaterals of electrophysiologically identified MS/DB neurons using intracellular recording and biocytin injection in vitro. Cells were classified according to previous criteria into slow-firing, fast-spiking, regular-spiking, and burst-firing neurons; previous work has suggested that the slow-firing neurons are cholinergic and that the other types are GABAergic. A novel finding was the existence of two types of burst-firing neuron. Type I burst-firing neurons had significantly longer duration after hyperpolarisation potentials when held at -60 mV, and at -75 mV, type I neurons exhibited a low-threshold spike with more rapid activation and inactivation kinetics than those of type II neurons. We have, also for the first time, described the main features of the local axon collaterals of the five neuron types. All filled neurons possessed a main axon that gave forth 1-12 local primary axon collaterals. All electrophysiological types, except for the type I burst-firing neuron, had a main axon that coursed toward the fornix. Myelination of the main axon was a prominent feature of all but the slow-firing neurons. Branching of the primary axon collaterals of the fast-spiking and type I burst-firing neurons was more extensive than that of the other cell types, with those of the slow-firing neurons exhibiting the least branching. All cell types possessed axon collaterals of the en passant type, and some in addition had twiglike or basketlike axon terminals. All cell types made synapses on distal dendrites; a proportion of the fast-spiking and burst-firing cells in addition had basketlike terminals that made synaptic contacts on proximal dendrites and on somata. Two morphological types of somata were postsynaptic to the basket cells: large (20-30-microm) oval cells with dark cytoplasm, and large oval cells with paler cytoplasm, often with an apical dendrite. The presence of lamellar bodies in the large dark neurons suggests that they may be cholinergic neurons, because previous work has localised these structures in some neurons that stain for choline acetyltransferase. Our work suggests therefore that there may be GABAergic neurons in the MS/DB that form basket synaptic contacts on at least two types of target cell, possibly cholinergic and GABAergic neurons, which means that the basket cells could play a key role in the generation of rhythmic activity in the MS/DB.\n",
      "    author:\n",
      "    [\n",
      "        {\n",
      "            type: Person\n",
      "            familyName: Henderson\n",
      "            givenName: Z\n",
      "        }\n",
      "        {\n",
      "            type: Person\n",
      "            familyName: Morris\n",
      "            givenName: N P\n",
      "        }\n",
      "        {\n",
      "            type: Person\n",
      "            familyName: Grimwood\n",
      "            givenName: P\n",
      "        }\n",
      "        {\n",
      "            type: Person\n",
      "            familyName: Fiddler\n",
      "            givenName: G\n",
      "        }\n",
      "        {\n",
      "            type: Person\n",
      "            familyName: Yang\n",
      "            givenName: H W\n",
      "        }\n",
      "        {\n",
      "            type: Person\n",
      "            familyName: Appenteng\n",
      "            givenName: K\n",
      "        }\n",
      "    ]\n",
      "    datePublished: 2001-2-12\n",
      "    identifier:\n",
      "    [\n",
      "        {\n",
      "            propertyID: PMID\n",
      "            value: 11169477\n",
      "        }\n",
      "        {\n",
      "            propertyID: doi\n",
      "            value: 10.1002/1096-9861(20010212)430:3<410::aid-cne1040>3.0.co;2-i\n",
      "        }\n",
      "    ]\n",
      "    isPartOf:\n",
      "    {\n",
      "        type: Periodical\n",
      "        issn: 0021-9967\n",
      "        name: The Journal of comparative neurology\n",
      "    }\n",
      "    name: article_91941\n",
      "    sameAs: http%3A%2F%2Fonlinelibrary.wiley.com%2Fdoi%2F10.1002%2F1096-9861%2820010212%29430%3A3%3C410%3A%3AAID-CNE1040%3E3.0.CO%3B2-I%2Fabstract%3Bjsessionid%3D1C9F6EE828E8DCFCF6E6F5CEA0D5DE57.f01t03\n",
      "    title: Morphology of local axon collaterals of electrophysiologically characterised neurons in the rat medial septal/ diagonal band complex.\n",
      "    url: http%3A%2F%2Fonlinelibrary.wiley.com%2Fdoi%2F10.1002%2F1096-9861%2820010212%29430%3A3%3C410%3A%3AAID-CNE1040%3E3.0.CO%3B2-I%2Fabstract%3Bjsessionid%3D1C9F6EE828E8DCFCF6E6F5CEA0D5DE57.f01t03\n",
      "}\n"
     ]
    }
   ],
   "source": [
    "print(resources[0])"
   ]
  },
  {
   "cell_type": "code",
   "execution_count": 22,
   "metadata": {},
   "outputs": [],
   "source": [
    "uquery = \"\"\"\n",
    "PREFIX up: <http://purl.uniprot.org/core/>\n",
    "SELECT ?protein\n",
    "WHERE {\n",
    "  ?protein a up:Protein ;\n",
    "  up:reviewed true.\n",
    "}\n",
    "\"\"\""
   ]
  },
  {
   "cell_type": "code",
   "execution_count": 23,
   "metadata": {},
   "outputs": [
    {
     "name": "stdout",
     "output_type": "stream",
     "text": [
      "query in sparql \n",
      "PREFIX up: <http://purl.uniprot.org/core/>\n",
      "SELECT ?protein\n",
      "WHERE {\n",
      "  ?protein a up:Protein ;\n",
      "  up:reviewed true.\n",
      "}\n",
      "\n",
      "query in rewrite_sparql \n",
      "PREFIX up: <http://purl.uniprot.org/core/>\n",
      "SELECT ?protein\n",
      "WHERE {\n",
      "  ?protein a up:Protein ;\n",
      "  up:reviewed true.\n",
      "}\n",
      "\n",
      "Submitted query:\n",
      "   \n",
      "   PREFIX up: <http://purl.uniprot.org/core/>\n",
      "   SELECT ?protein\n",
      "   WHERE {\n",
      "     ?protein a up:Protein ;\n",
      "     up:reviewed true.\n",
      "   }\n",
      "     LIMIT 10\n",
      "\n",
      "amount of results = 10\n"
     ]
    }
   ],
   "source": [
    "uresources = forge.sparql(query=uquery, db_source='UniProt', limit=10, debug=True)"
   ]
  },
  {
   "cell_type": "code",
   "execution_count": 24,
   "metadata": {},
   "outputs": [
    {
     "data": {
      "text/plain": [
       "10"
      ]
     },
     "execution_count": 24,
     "metadata": {},
     "output_type": "execute_result"
    }
   ],
   "source": [
    "len(uresources)"
   ]
  },
  {
   "cell_type": "code",
   "execution_count": 25,
   "metadata": {},
   "outputs": [],
   "source": [
    "# uresources"
   ]
  },
  {
   "cell_type": "code",
   "execution_count": 26,
   "metadata": {},
   "outputs": [],
   "source": [
    "from kgforge.core.wrappings.paths import Filter, FilterOperator"
   ]
  },
  {
   "cell_type": "code",
   "execution_count": 27,
   "metadata": {},
   "outputs": [
    {
     "name": "stdout",
     "output_type": "stream",
     "text": [
      "query in sparql SELECT ?id WHERE {?id type Protein;\n",
      " up:reviewed ?v1 . \n",
      " FILTER(?v1 = 'true'^^xsd:boolean)\n",
      "}\n",
      "query in rewrite_sparql SELECT ?id WHERE {?id type Protein;\n",
      " up:reviewed ?v1 . \n",
      " FILTER(?v1 = 'true'^^xsd:boolean)\n",
      "}\n",
      "amount of results = 10\n"
     ]
    }
   ],
   "source": [
    "proteins = forge.search({'type': 'Protein', 'up:reviewed': True}, db_source='UniProt', limit=10)"
   ]
  },
  {
   "cell_type": "code",
   "execution_count": 28,
   "metadata": {},
   "outputs": [],
   "source": [
    "uniprot = sources['UniProt']"
   ]
  },
  {
   "cell_type": "code",
   "execution_count": 29,
   "metadata": {},
   "outputs": [
    {
     "data": {
      "text/plain": [
       "{'up': 'http://purl.uniprot.org/core/',\n",
       " 'owl': 'http://www.w3.org/2002/07/owl#',\n",
       " 'owl2xml': 'http://www.w3.org/2006/12/owl2-xml#',\n",
       " 'swrlb': 'http://www.w3.org/2003/11/swrlb#',\n",
       " 'protege': 'http://protege.stanford.edu/plugins/owl/protege#',\n",
       " 'swrl': 'http://www.w3.org/2003/11/swrl#',\n",
       " 'xsd': 'http://www.w3.org/2001/XMLSchema#',\n",
       " 'skos': 'http://www.w3.org/2004/02/skos/core#',\n",
       " 'rdfs': 'http://www.w3.org/2000/01/rdf-schema#',\n",
       " 'dc11': 'http://purl.org/dc/terms/',\n",
       " 'rdf': 'http://www.w3.org/1999/02/22-rdf-syntax-ns#',\n",
       " 'foaf': 'http://xmlns.com/foaf/0.1/'}"
      ]
     },
     "execution_count": 29,
     "metadata": {},
     "output_type": "execute_result"
    }
   ],
   "source": [
    "uniprot._store.context.prefixes"
   ]
  },
  {
   "cell_type": "markdown",
   "metadata": {},
   "source": [
    "# Save in BBP KG (Nexus)"
   ]
  },
  {
   "cell_type": "code",
   "execution_count": 30,
   "metadata": {},
   "outputs": [],
   "source": [
    "# forge.register(resources)"
   ]
  },
  {
   "cell_type": "markdown",
   "metadata": {},
   "source": [
    "## Access"
   ]
  },
  {
   "cell_type": "markdown",
   "metadata": {},
   "source": [
    "### Set filters"
   ]
  },
  {
   "cell_type": "code",
   "execution_count": 31,
   "metadata": {},
   "outputs": [],
   "source": [
    "_type = \"NeuronMorphology\"\n",
    "filters = {\"type\": _type}"
   ]
  },
  {
   "cell_type": "markdown",
   "metadata": {},
   "source": [
    "### Run Query"
   ]
  },
  {
   "cell_type": "code",
   "execution_count": 32,
   "metadata": {},
   "outputs": [
    {
     "name": "stdout",
     "output_type": "stream",
     "text": [
      "query in rewrite_sparql SELECT ?id ?_constrainedBy ?_createdAt ?_createdBy ?_deprecated ?_incoming ?_outgoing ?_project ?_rev ?_schemaProject ?_self ?_updatedAt ?_updatedBy WHERE { Graph ?g {?id type NeuronMorphology;\n",
      " <https://bluebrain.github.io/nexus/vocabulary/constrainedBy> ?_constrainedBy;\n",
      " <https://bluebrain.github.io/nexus/vocabulary/createdAt> ?_createdAt;\n",
      " <https://bluebrain.github.io/nexus/vocabulary/createdBy> ?_createdBy;\n",
      " <https://bluebrain.github.io/nexus/vocabulary/deprecated> ?_deprecated;\n",
      " <https://bluebrain.github.io/nexus/vocabulary/incoming> ?_incoming;\n",
      " <https://bluebrain.github.io/nexus/vocabulary/outgoing> ?_outgoing;\n",
      " <https://bluebrain.github.io/nexus/vocabulary/project> ?_project;\n",
      " <https://bluebrain.github.io/nexus/vocabulary/rev> ?_rev;\n",
      " <https://bluebrain.github.io/nexus/vocabulary/schemaProject> ?_schemaProject;\n",
      " <https://bluebrain.github.io/nexus/vocabulary/self> ?_self;\n",
      " <https://bluebrain.github.io/nexus/vocabulary/updatedAt> ?_updatedAt;\n",
      " <https://bluebrain.github.io/nexus/vocabulary/updatedBy> ?_updatedBy . \n",
      " Filter (?_deprecated = 'false'^^xsd:boolean)\n",
      "Filter (?_project = <https://staging.nise.bbp.epfl.ch/nexus/v1/projects/neurosciencegraph/datamodels>)}}\n",
      "0 dataset(s) of type NeuronMorphology found\n"
     ]
    }
   ],
   "source": [
    "limit = 10  # You can limit the number of results, pass `None` to fetch all the results\n",
    "\n",
    "data = forge.search(filters, limit=limit)\n",
    "\n",
    "print(f\"{str(len(data))} dataset(s) of type {_type} found\")"
   ]
  },
  {
   "cell_type": "markdown",
   "metadata": {},
   "source": [
    "### Display the results as pandas dataframe"
   ]
  },
  {
   "cell_type": "code",
   "execution_count": 33,
   "metadata": {},
   "outputs": [
    {
     "data": {
      "text/html": [
       "<div>\n",
       "<style scoped>\n",
       "    .dataframe tbody tr th:only-of-type {\n",
       "        vertical-align: middle;\n",
       "    }\n",
       "\n",
       "    .dataframe tbody tr th {\n",
       "        vertical-align: top;\n",
       "    }\n",
       "\n",
       "    .dataframe thead th {\n",
       "        text-align: right;\n",
       "    }\n",
       "</style>\n",
       "<table border=\"1\" class=\"dataframe\">\n",
       "  <thead>\n",
       "    <tr style=\"text-align: right;\">\n",
       "      <th></th>\n",
       "    </tr>\n",
       "  </thead>\n",
       "  <tbody>\n",
       "  </tbody>\n",
       "</table>\n",
       "</div>"
      ],
      "text/plain": [
       "Empty DataFrame\n",
       "Columns: []\n",
       "Index: []"
      ]
     },
     "execution_count": 33,
     "metadata": {},
     "output_type": "execute_result"
    }
   ],
   "source": [
    "property_to_display = [\"id\",\"name\",\"subject\",\"brainLocation.brainRegion.id\",\"brainLocation.brainRegion.label\",\"brainLocation.layer.id\",\"brainLocation.layer.label\", \"contribution\",\"brainLocation.layer.id\",\"brainLocation.layer.label\",\"distribution.name\",\"distribution.contentUrl\",\"distribution.encodingFormat\"]\n",
    "reshaped_data = forge.reshape(data, keep=property_to_display)\n",
    "\n",
    "forge.as_dataframe(reshaped_data)"
   ]
  },
  {
   "cell_type": "markdown",
   "metadata": {},
   "source": [
    "### Download"
   ]
  },
  {
   "cell_type": "code",
   "execution_count": 34,
   "metadata": {},
   "outputs": [
    {
     "name": "stdout",
     "output_type": "stream",
     "text": [
      "<action> download\n",
      "<error> DownloadingError: path to follow 'distribution.contentUrl' was not found in any provided resource.\n",
      "\n"
     ]
    }
   ],
   "source": [
    "dirpath = \"./downloaded/\"\n",
    "forge.download(data, \"distribution.contentUrl\", dirpath)"
   ]
  }
 ],
 "metadata": {
  "kernelspec": {
   "display_name": "Python 3.7.13 ('kgforge')",
   "language": "python",
   "name": "python3"
  },
  "language_info": {
   "codemirror_mode": {
    "name": "ipython",
    "version": 3
   },
   "file_extension": ".py",
   "mimetype": "text/x-python",
   "name": "python",
   "nbconvert_exporter": "python",
   "pygments_lexer": "ipython3",
   "version": "3.7.13"
  },
  "vscode": {
   "interpreter": {
    "hash": "9ac393a5ddd595f2c78ea58b15bf8d269850a4413729cbea5c5fae9013762763"
   }
  }
 },
 "nbformat": 4,
 "nbformat_minor": 4
}

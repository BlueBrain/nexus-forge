{
 "cells": [
  {
   "cell_type": "markdown",
   "metadata": {},
   "source": [
    "# Querying external database sources of interest\n",
    "\n",
    "* Enable users to integrate data from external databases of interest within BBP KG\n",
    "* While using the Nexus Forge interface and BMO vocabulary as much as possible as\n",
    "* While benefiting from out of the box (meta)data transformation to make them ready for BBP internal pipelines and applications\n",
    "* Demo with Mouselight, NeuroElectro, UniProt"
   ]
  },
  {
   "cell_type": "code",
   "execution_count": 1,
   "metadata": {
    "ExecuteTime": {
     "end_time": "2019-09-23T18:50:20.068658Z",
     "start_time": "2019-09-23T18:50:19.054054Z"
    }
   },
   "outputs": [],
   "source": [
    "from kgforge.core import KnowledgeGraphForge\n",
    "from kgforge.specializations.resources import Dataset"
   ]
  },
  {
   "cell_type": "markdown",
   "metadata": {},
   "source": [
    "A configuration file is needed in order to create a KnowledgeGraphForge session. A configuration can be generated using the notebook [00-Initialization.ipynb](00%20-%20Initialization.ipynb)."
   ]
  },
  {
   "cell_type": "code",
   "execution_count": 2,
   "metadata": {},
   "outputs": [],
   "source": [
    "endpoint = \"https://staging.nise.bbp.epfl.ch/nexus/v1\"\n",
    "BUCKET = \"neurosciencegraph/datamodels\"\n",
    "forge = KnowledgeGraphForge(\"../../configurations/database-sources/prod-nexus-sources.yml\", endpoint=endpoint, bucket=BUCKET)"
   ]
  },
  {
   "cell_type": "markdown",
   "metadata": {},
   "source": [
    "# List of Data sources"
   ]
  },
  {
   "cell_type": "code",
   "execution_count": 3,
   "metadata": {},
   "outputs": [
    {
     "name": "stdout",
     "output_type": "stream",
     "text": [
      "Available Database sources:\n",
      "UniProt\n",
      "NeuroElectro\n"
     ]
    }
   ],
   "source": [
    "forge.db_sources(pretty=True)"
   ]
  },
  {
   "cell_type": "code",
   "execution_count": 4,
   "metadata": {},
   "outputs": [],
   "source": [
    "sources = forge.db_sources(pretty=False)"
   ]
  },
  {
   "cell_type": "code",
   "execution_count": 5,
   "metadata": {},
   "outputs": [],
   "source": [
    "\n",
    "data = {\n",
    "        'store':{\n",
    "          'name': 'DemoStore'\n",
    "        },\n",
    "        'protocol': 'https://www.janelia.org/project-team/mouselight/resources', \n",
    "        'license': [{'id': 'https://creativecommons.org/licenses/by-nc/4.0', \n",
    "                     'label': 'CC BY-NC 4.0'}\n",
    "                   ],\n",
    "        'definition': {\n",
    "            'origin': 'directory',\n",
    "            'source': '/Users/cgonzale/Documents/code/nexus-forge/examples/database_sources/MouseLight/'\n",
    "        },\n",
    "        'model': { \n",
    "          'name': 'DemoModel',\n",
    "          'origin': 'directory',\n",
    "          'source': \"../../../tests/data/demo-model/\" \n",
    "        }\n",
    "}\n"
   ]
  },
  {
   "cell_type": "code",
   "execution_count": 6,
   "metadata": {},
   "outputs": [],
   "source": [
    "from kgforge.specializations.resources import DatabaseSource\n",
    "ds = DatabaseSource(forge, name=\"MouseLight\", from_forge=False, **data)"
   ]
  },
  {
   "cell_type": "code",
   "execution_count": 7,
   "metadata": {},
   "outputs": [
    {
     "name": "stdout",
     "output_type": "stream",
     "text": [
      "{\n",
      "    type: Database\n",
      "    _store:\n",
      "    {\n",
      "        context: null\n",
      "        bucket: null\n",
      "        endpoint: null\n",
      "        file_mapping: null\n",
      "        metadata_context: null\n",
      "        model_context: null\n",
      "        service:\n",
      "        {\n",
      "            archives: {}\n",
      "            records: {}\n",
      "            tags: {}\n",
      "        }\n",
      "        token: null\n",
      "        versioned_id_template: null\n",
      "    }\n",
      "    definition:\n",
      "    {\n",
      "        origin: directory\n",
      "        source: /Users/cgonzale/Documents/code/nexus-forge/examples/database_sources/MouseLight/\n",
      "    }\n",
      "    license:\n",
      "    [\n",
      "        {\n",
      "            id: https://creativecommons.org/licenses/by-nc/4.0\n",
      "            label: CC BY-NC 4.0\n",
      "        }\n",
      "    ]\n",
      "    model:\n",
      "    {\n",
      "        origin: directory\n",
      "        source: ../../../tests/data/demo-model/\n",
      "    }\n",
      "    name: MouseLight\n",
      "    protocol: https://www.janelia.org/project-team/mouselight/resources\n",
      "    store:\n",
      "    {\n",
      "        name: DemoStore\n",
      "    }\n",
      "}\n"
     ]
    }
   ],
   "source": [
    "print(ds)"
   ]
  },
  {
   "cell_type": "code",
   "execution_count": 8,
   "metadata": {},
   "outputs": [
    {
     "name": "stdout",
     "output_type": "stream",
     "text": [
      "Available Database sources:\n",
      "UniProt\n",
      "NeuroElectro\n",
      "MouseLight\n"
     ]
    }
   ],
   "source": [
    "forge.db_sources(pretty=True)"
   ]
  },
  {
   "cell_type": "markdown",
   "metadata": {},
   "source": [
    "# Data source metadata"
   ]
  },
  {
   "cell_type": "code",
   "execution_count": 9,
   "metadata": {},
   "outputs": [
    {
     "name": "stdout",
     "output_type": "stream",
     "text": [
      "{\n",
      "    type: Database\n",
      "    _store:\n",
      "    {\n",
      "        context: null\n",
      "        bucket: null\n",
      "        endpoint: null\n",
      "        file_mapping: null\n",
      "        metadata_context: null\n",
      "        model_context: null\n",
      "        service:\n",
      "        {\n",
      "            archives: {}\n",
      "            records: {}\n",
      "            tags: {}\n",
      "        }\n",
      "        token: null\n",
      "        versioned_id_template: null\n",
      "    }\n",
      "    definition:\n",
      "    {\n",
      "        origin: directory\n",
      "        source: /Users/cgonzale/Documents/code/nexus-forge/examples/database_sources/MouseLight/\n",
      "    }\n",
      "    license:\n",
      "    [\n",
      "        {\n",
      "            id: https://creativecommons.org/licenses/by-nc/4.0\n",
      "            label: CC BY-NC 4.0\n",
      "        }\n",
      "    ]\n",
      "    model:\n",
      "    {\n",
      "        origin: directory\n",
      "        source: ../../../tests/data/demo-model/\n",
      "    }\n",
      "    name: MouseLight\n",
      "    protocol: https://www.janelia.org/project-team/mouselight/resources\n",
      "    store:\n",
      "    {\n",
      "        name: DemoStore\n",
      "    }\n",
      "}\n"
     ]
    }
   ],
   "source": [
    "mouselight= sources[\"MouseLight\"]\n",
    "print(mouselight)"
   ]
  },
  {
   "cell_type": "markdown",
   "metadata": {},
   "source": [
    "## Name, description, url, license, protocol => more can be added through configuration"
   ]
  },
  {
   "cell_type": "code",
   "execution_count": 10,
   "metadata": {},
   "outputs": [
    {
     "name": "stdout",
     "output_type": "stream",
     "text": [
      "MouseLight\n",
      "https://www.janelia.org/project-team/mouselight/resources\n",
      "[{'id': 'https://creativecommons.org/licenses/by-nc/4.0', 'label': 'CC BY-NC 4.0'}]\n"
     ]
    }
   ],
   "source": [
    "print(mouselight.name)\n",
    "print(mouselight.protocol)\n",
    "print(mouselight.license)"
   ]
  },
  {
   "cell_type": "markdown",
   "metadata": {},
   "source": [
    "## Get data mappings (hold transformations logic) per data type\n",
    "\n",
    "* Data mappings are used to transform results obtained from the external data sources so that they are ready for consumption by BBP tools\n",
    "* Perform automatic ontology linking"
   ]
  },
  {
   "cell_type": "code",
   "execution_count": 11,
   "metadata": {},
   "outputs": [
    {
     "data": {
      "text/plain": [
       "{'NeuronMorphology': ['DictionaryMapping']}"
      ]
     },
     "execution_count": 11,
     "metadata": {},
     "output_type": "execute_result"
    }
   ],
   "source": [
    "forge.mappings(\"MouseLight\", pretty=False)"
   ]
  },
  {
   "cell_type": "code",
   "execution_count": 12,
   "metadata": {},
   "outputs": [
    {
     "name": "stdout",
     "output_type": "stream",
     "text": [
      "Managed mappings for the data source per entity type and mapping type:\n",
      "   - NeuronElectrophysiologicalFeature:\n",
      "        * DictionaryMapping\n"
     ]
    }
   ],
   "source": [
    "forge.mappings('UniProt', pretty=True)"
   ]
  },
  {
   "cell_type": "code",
   "execution_count": 13,
   "metadata": {},
   "outputs": [
    {
     "name": "stdout",
     "output_type": "stream",
     "text": [
      "Managed mappings for the data source per entity type and mapping type:\n",
      "   - ElectrophysiologicalFeatureAnnotation:\n",
      "        * DictionaryMapping\n",
      "   - ParameterAnnotation:\n",
      "        * DictionaryMapping\n",
      "   - ParameterBody:\n",
      "        * DictionaryMapping\n",
      "   - ScholarlyArticle:\n",
      "        * DictionaryMapping\n",
      "   - SeriesBody:\n",
      "        * DictionaryMapping\n"
     ]
    }
   ],
   "source": [
    "forge.mappings('NeuroElectro', pretty=True)"
   ]
  },
  {
   "cell_type": "code",
   "execution_count": 14,
   "metadata": {},
   "outputs": [],
   "source": [
    "from kgforge.specializations.mappings import DictionaryMapping\n",
    "mapping = forge.mapping(\"NeuronMorphology\", \"MouseLight\", type=DictionaryMapping)\n",
    "direct_mapping = mouselight.mapping(\"NeuronMorphology\", type=DictionaryMapping)"
   ]
  },
  {
   "cell_type": "code",
   "execution_count": 15,
   "metadata": {},
   "outputs": [
    {
     "name": "stdout",
     "output_type": "stream",
     "text": [
      "{\n",
      "    id: forge.format(\"identifier\", \"neuronmorphologies/mouselight\", x.neurons[0][\"idString\"])\n",
      "    type:\n",
      "    [\n",
      "        Dataset\n",
      "        NeuronMorphology\n",
      "    ]\n",
      "    brainLocation:\n",
      "    {\n",
      "        type: BrainLocation\n",
      "        brainRegion:\n",
      "        {\n",
      "            id: f\"http://api.brain-map.org/api/v2/data/Structure/{x.neurons[0]['soma']['allenId']}\"\n",
      "            label: x.neurons[0][\"allenLabel\"]\n",
      "        }\n",
      "        coordinatesInBrainAtlas:\n",
      "        {\n",
      "            valueX: x.neurons[0][\"soma\"][\"x\"]\n",
      "            valueY: x.neurons[0][\"soma\"][\"y\"]\n",
      "            valueZ: x.neurons[0][\"soma\"][\"z\"]\n",
      "        }\n",
      "    }\n",
      "    contribution:\n",
      "    {\n",
      "        type: Contribution\n",
      "        agent:\n",
      "        {\n",
      "            id: https://www.grid.ac/institutes/grid.443970.d\n",
      "            type: Organization\n",
      "            label: Janelia Research Campus\n",
      "        }\n",
      "    }\n",
      "    dateCreated: x.neurons[0][\"sample\"][\"date\"]\n",
      "    description: x.neurons[0][\"annotationSpace\"][\"description\"]\n",
      "    distribution: forge.attach(f\"./mouselight/{x.neurons[0]['idString']}.swc\", content_type=\"application/swc\")\n",
      "    fluorophore: x.neurons[0][\"label\"][\"fluorophore\"]\n",
      "    generation:\n",
      "    {\n",
      "        type: Generation\n",
      "        activity:\n",
      "        {\n",
      "            type: nsg:NeuronMorphologyReconstruction\n",
      "            hadProtocol: {}\n",
      "        }\n",
      "    }\n",
      "    identifier: x.neurons[0][\"idString\"]\n",
      "    license:\n",
      "    {\n",
      "        id: https://mouselight.janelia.org\n",
      "        type: License\n",
      "    }\n",
      "    name: x.neurons[0][\"idString\"]\n",
      "    objectOfStudy:\n",
      "    {\n",
      "        id: http://bbp.epfl.ch/neurosciencegraph/taxonomies/objectsofstudy/singlecells\n",
      "        type: ObjectOfStudy\n",
      "        label: Single Cell\n",
      "    }\n",
      "    subject:\n",
      "    {\n",
      "        type: Subject\n",
      "        species:\n",
      "        {\n",
      "            id: http://purl.obolibrary.org/obo/NCBITaxon_10090\n",
      "            label: Mus musculus\n",
      "        }\n",
      "        strain:\n",
      "        {\n",
      "            label: x.neurons[0][\"sample\"][\"strain\"]\n",
      "        }\n",
      "    }\n",
      "    version: x.neurons[0][\"annotationSpace\"][\"version\"]\n",
      "    virus: x.neurons[0][\"label\"][\"virus\"]\n",
      "}\n"
     ]
    }
   ],
   "source": [
    "print(mapping)"
   ]
  },
  {
   "cell_type": "code",
   "execution_count": 16,
   "metadata": {},
   "outputs": [
    {
     "name": "stdout",
     "output_type": "stream",
     "text": [
      "{\n",
      "    id: forge.format(\"identifier\", \"neuronmorphologies/mouselight\", x.neurons[0][\"idString\"])\n",
      "    type:\n",
      "    [\n",
      "        Dataset\n",
      "        NeuronMorphology\n",
      "    ]\n",
      "    brainLocation:\n",
      "    {\n",
      "        type: BrainLocation\n",
      "        brainRegion:\n",
      "        {\n",
      "            id: f\"http://api.brain-map.org/api/v2/data/Structure/{x.neurons[0]['soma']['allenId']}\"\n",
      "            label: x.neurons[0][\"allenLabel\"]\n",
      "        }\n",
      "        coordinatesInBrainAtlas:\n",
      "        {\n",
      "            valueX: x.neurons[0][\"soma\"][\"x\"]\n",
      "            valueY: x.neurons[0][\"soma\"][\"y\"]\n",
      "            valueZ: x.neurons[0][\"soma\"][\"z\"]\n",
      "        }\n",
      "    }\n",
      "    contribution:\n",
      "    {\n",
      "        type: Contribution\n",
      "        agent:\n",
      "        {\n",
      "            id: https://www.grid.ac/institutes/grid.443970.d\n",
      "            type: Organization\n",
      "            label: Janelia Research Campus\n",
      "        }\n",
      "    }\n",
      "    dateCreated: x.neurons[0][\"sample\"][\"date\"]\n",
      "    description: x.neurons[0][\"annotationSpace\"][\"description\"]\n",
      "    distribution: forge.attach(f\"./mouselight/{x.neurons[0]['idString']}.swc\", content_type=\"application/swc\")\n",
      "    fluorophore: x.neurons[0][\"label\"][\"fluorophore\"]\n",
      "    generation:\n",
      "    {\n",
      "        type: Generation\n",
      "        activity:\n",
      "        {\n",
      "            type: nsg:NeuronMorphologyReconstruction\n",
      "            hadProtocol: {}\n",
      "        }\n",
      "    }\n",
      "    identifier: x.neurons[0][\"idString\"]\n",
      "    license:\n",
      "    {\n",
      "        id: https://mouselight.janelia.org\n",
      "        type: License\n",
      "    }\n",
      "    name: x.neurons[0][\"idString\"]\n",
      "    objectOfStudy:\n",
      "    {\n",
      "        id: http://bbp.epfl.ch/neurosciencegraph/taxonomies/objectsofstudy/singlecells\n",
      "        type: ObjectOfStudy\n",
      "        label: Single Cell\n",
      "    }\n",
      "    subject:\n",
      "    {\n",
      "        type: Subject\n",
      "        species:\n",
      "        {\n",
      "            id: http://purl.obolibrary.org/obo/NCBITaxon_10090\n",
      "            label: Mus musculus\n",
      "        }\n",
      "        strain:\n",
      "        {\n",
      "            label: x.neurons[0][\"sample\"][\"strain\"]\n",
      "        }\n",
      "    }\n",
      "    version: x.neurons[0][\"annotationSpace\"][\"version\"]\n",
      "    virus: x.neurons[0][\"label\"][\"virus\"]\n",
      "}\n"
     ]
    }
   ],
   "source": [
    "print(direct_mapping)"
   ]
  },
  {
   "cell_type": "code",
   "execution_count": 17,
   "metadata": {},
   "outputs": [
    {
     "name": "stdout",
     "output_type": "stream",
     "text": [
      "Available Database sources:\n",
      "MouseLight\n"
     ]
    }
   ],
   "source": [
    "forge.db_sources(with_datatype='NeuronMorphology', pretty=True)"
   ]
  },
  {
   "cell_type": "code",
   "execution_count": 18,
   "metadata": {},
   "outputs": [],
   "source": [
    "props = {'origin': 'store', 'source': 'BlueBrainNexus', 'definition':{'iri': 'some_address'}}"
   ]
  },
  {
   "cell_type": "code",
   "execution_count": 19,
   "metadata": {},
   "outputs": [],
   "source": [
    "# props = {'origin': 'store', 'source': 'BlueBrainNexus', 'definition':{'iri':}}\n",
    "# new_db = DatabaseSource(forge, from_forge=False, name='new_db')"
   ]
  },
  {
   "cell_type": "markdown",
   "metadata": {},
   "source": [
    "# Search and Access data from data source\n",
    "\n",
    "* Mapping are automatically applied to search results\n",
    "* takes a mn for now => working on making it faster "
   ]
  },
  {
   "cell_type": "code",
   "execution_count": 20,
   "metadata": {},
   "outputs": [],
   "source": [
    "# Type, source or target brain region, \n",
    "filters = {\"type\":\"NeuronMorphology\"} # More filters (brain regions, ...) will be added\n",
    "#map=True, use_cache=True, # download=True\n",
    "resources = forge.search(filters, db_source=\"MouseLight\", limit=2) \n",
    "# ADd function for checking datsource health => reqsuire health url from db\n"
   ]
  },
  {
   "cell_type": "code",
   "execution_count": 21,
   "metadata": {},
   "outputs": [
    {
     "data": {
      "text/plain": [
       "0"
      ]
     },
     "execution_count": 21,
     "metadata": {},
     "output_type": "execute_result"
    }
   ],
   "source": [
    "len(resources)"
   ]
  },
  {
   "cell_type": "code",
   "execution_count": 22,
   "metadata": {},
   "outputs": [
    {
     "ename": "IndexError",
     "evalue": "list index out of range",
     "output_type": "error",
     "traceback": [
      "\u001b[0;31m---------------------------------------------------------------------------\u001b[0m",
      "\u001b[0;31mIndexError\u001b[0m                                Traceback (most recent call last)",
      "\u001b[0;32m/var/folders/6p/k45nvhcs7v1_n9bd5g67wc3ctt8hpq/T/ipykernel_39689/2183119560.py\u001b[0m in \u001b[0;36m<module>\u001b[0;34m\u001b[0m\n\u001b[0;32m----> 1\u001b[0;31m \u001b[0mprint\u001b[0m\u001b[0;34m(\u001b[0m\u001b[0mresources\u001b[0m\u001b[0;34m[\u001b[0m\u001b[0;36m0\u001b[0m\u001b[0;34m]\u001b[0m\u001b[0;34m)\u001b[0m\u001b[0;34m\u001b[0m\u001b[0;34m\u001b[0m\u001b[0m\n\u001b[0m",
      "\u001b[0;31mIndexError\u001b[0m: list index out of range"
     ]
    }
   ],
   "source": [
    "print(resources[0])"
   ]
  },
  {
   "cell_type": "markdown",
   "metadata": {},
   "source": [
    "# Save in BBP KG (Nexus)"
   ]
  },
  {
   "cell_type": "code",
   "execution_count": null,
   "metadata": {},
   "outputs": [
    {
     "name": "stdout",
     "output_type": "stream",
     "text": [
      "<count> 2\n",
      "<action> _register_many\n",
      "<succeeded> False\n",
      "<error> RegistrationError: resource already exists\n"
     ]
    }
   ],
   "source": [
    "forge.register(resources)"
   ]
  },
  {
   "cell_type": "markdown",
   "metadata": {},
   "source": [
    "## Access"
   ]
  },
  {
   "cell_type": "markdown",
   "metadata": {},
   "source": [
    "### Set filters"
   ]
  },
  {
   "cell_type": "code",
   "execution_count": null,
   "metadata": {},
   "outputs": [],
   "source": [
    "_type = \"NeuronMorphology\"\n",
    "filters = {\"type\": _type}"
   ]
  },
  {
   "cell_type": "markdown",
   "metadata": {},
   "source": [
    "### Run Query"
   ]
  },
  {
   "cell_type": "code",
   "execution_count": null,
   "metadata": {},
   "outputs": [
    {
     "name": "stdout",
     "output_type": "stream",
     "text": [
      "10 dataset(s) of type NeuronMorphology found\n"
     ]
    }
   ],
   "source": [
    "limit = 10  # You can limit the number of results, pass `None` to fetch all the results\n",
    "\n",
    "data = forge.search(filters, limit=limit)\n",
    "\n",
    "print(f\"{str(len(data))} dataset(s) of type {_type} found\")"
   ]
  },
  {
   "cell_type": "markdown",
   "metadata": {},
   "source": [
    "### Display the results as pandas dataframe"
   ]
  },
  {
   "cell_type": "code",
   "execution_count": null,
   "metadata": {},
   "outputs": [
    {
     "data": {
      "text/html": [
       "<div>\n",
       "<style scoped>\n",
       "    .dataframe tbody tr th:only-of-type {\n",
       "        vertical-align: middle;\n",
       "    }\n",
       "\n",
       "    .dataframe tbody tr th {\n",
       "        vertical-align: top;\n",
       "    }\n",
       "\n",
       "    .dataframe thead th {\n",
       "        text-align: right;\n",
       "    }\n",
       "</style>\n",
       "<table border=\"1\" class=\"dataframe\">\n",
       "  <thead>\n",
       "    <tr style=\"text-align: right;\">\n",
       "      <th></th>\n",
       "      <th>id</th>\n",
       "      <th>brainLocation.brainRegion.id</th>\n",
       "      <th>brainLocation.brainRegion.label</th>\n",
       "      <th>brainLocation.layer</th>\n",
       "      <th>contribution.type</th>\n",
       "      <th>contribution.agent.id</th>\n",
       "      <th>contribution.agent.type</th>\n",
       "      <th>distribution.contentUrl</th>\n",
       "      <th>distribution.encodingFormat</th>\n",
       "      <th>distribution.name</th>\n",
       "      <th>name</th>\n",
       "      <th>subject.type</th>\n",
       "      <th>subject.age.period</th>\n",
       "      <th>subject.age.unitCode</th>\n",
       "      <th>subject.age.value</th>\n",
       "      <th>subject.identifier</th>\n",
       "      <th>subject.name</th>\n",
       "      <th>subject.sex</th>\n",
       "      <th>subject.species</th>\n",
       "      <th>subject.strain</th>\n",
       "    </tr>\n",
       "  </thead>\n",
       "  <tbody>\n",
       "    <tr>\n",
       "      <th>0</th>\n",
       "      <td>https://bbp.epfl.ch/nexus/v1/resources/dke/kgf...</td>\n",
       "      <td>http://api.brain-map.org/api/v2/data/Structure...</td>\n",
       "      <td>VISp5</td>\n",
       "      <td>5</td>\n",
       "      <td>Contribution</td>\n",
       "      <td>https://www.grid.ac/institutes/grid.417881.3</td>\n",
       "      <td>Organization</td>\n",
       "      <td>https://bbp.epfl.ch/nexus/v1/files/dke/kgforge...</td>\n",
       "      <td>application/swc</td>\n",
       "      <td>reconstruction.swc</td>\n",
       "      <td>Scnn1a-Tg3-Cre;Ai14-172530.06.01.01</td>\n",
       "      <td>Subject</td>\n",
       "      <td>Post-natal</td>\n",
       "      <td></td>\n",
       "      <td></td>\n",
       "      <td>322489588</td>\n",
       "      <td>Scnn1a-Tg3-Cre;Ai14(GSL)-172530</td>\n",
       "      <td></td>\n",
       "      <td>Mus musculus</td>\n",
       "      <td>Scnn1a-Tg3-Cre</td>\n",
       "    </tr>\n",
       "    <tr>\n",
       "      <th>1</th>\n",
       "      <td>https://bbp.epfl.ch/nexus/v1/resources/dke/kgf...</td>\n",
       "      <td>http://api.brain-map.org/api/v2/data/Structure...</td>\n",
       "      <td>MTG</td>\n",
       "      <td>2</td>\n",
       "      <td>Contribution</td>\n",
       "      <td>https://www.grid.ac/institutes/grid.417881.3</td>\n",
       "      <td>Organization</td>\n",
       "      <td>https://bbp.epfl.ch/nexus/v1/files/dke/kgforge...</td>\n",
       "      <td>application/swc</td>\n",
       "      <td>reconstruction.swc</td>\n",
       "      <td>H16.06.009.01.01.15.01</td>\n",
       "      <td>Subject</td>\n",
       "      <td>Post-natal</td>\n",
       "      <td>yrs</td>\n",
       "      <td>48</td>\n",
       "      <td>528574320</td>\n",
       "      <td>H16.06.009</td>\n",
       "      <td>Female</td>\n",
       "      <td>Homo Sapiens</td>\n",
       "      <td></td>\n",
       "    </tr>\n",
       "    <tr>\n",
       "      <th>2</th>\n",
       "      <td>https://bbp.epfl.ch/nexus/v1/resources/dke/kgf...</td>\n",
       "      <td>http://api.brain-map.org/api/v2/data/Structure...</td>\n",
       "      <td>VISp4</td>\n",
       "      <td>4</td>\n",
       "      <td>Contribution</td>\n",
       "      <td>https://www.grid.ac/institutes/grid.417881.3</td>\n",
       "      <td>Organization</td>\n",
       "      <td>https://bbp.epfl.ch/nexus/v1/files/dke/kgforge...</td>\n",
       "      <td>application/swc</td>\n",
       "      <td>reconstruction.swc</td>\n",
       "      <td>Scnn1a-Tg3-Cre;Ai14-187849.06.01.01</td>\n",
       "      <td>Subject</td>\n",
       "      <td>Post-natal</td>\n",
       "      <td></td>\n",
       "      <td></td>\n",
       "      <td>475849748</td>\n",
       "      <td>Scnn1a-Tg3-Cre;Ai14(IVSCC)-187849</td>\n",
       "      <td></td>\n",
       "      <td>Mus musculus</td>\n",
       "      <td>Scnn1a-Tg3-Cre</td>\n",
       "    </tr>\n",
       "    <tr>\n",
       "      <th>3</th>\n",
       "      <td>https://bbp.epfl.ch/nexus/v1/resources/dke/kgf...</td>\n",
       "      <td>http://api.brain-map.org/api/v2/data/Structure...</td>\n",
       "      <td>VISp4</td>\n",
       "      <td>4</td>\n",
       "      <td>Contribution</td>\n",
       "      <td>https://www.grid.ac/institutes/grid.417881.3</td>\n",
       "      <td>Organization</td>\n",
       "      <td>https://bbp.epfl.ch/nexus/v1/files/dke/kgforge...</td>\n",
       "      <td>application/swc</td>\n",
       "      <td>reconstruction.swc</td>\n",
       "      <td>Rorb-IRES2-Cre-D;Ai14-197330.06.01.01</td>\n",
       "      <td>Subject</td>\n",
       "      <td>Post-natal</td>\n",
       "      <td></td>\n",
       "      <td></td>\n",
       "      <td>479695183</td>\n",
       "      <td>Rorb-IRES2-Cre-D;Ai14-197330</td>\n",
       "      <td></td>\n",
       "      <td>Mus musculus</td>\n",
       "      <td>Rorb-IRES2-Cre</td>\n",
       "    </tr>\n",
       "    <tr>\n",
       "      <th>4</th>\n",
       "      <td>https://bbp.epfl.ch/nexus/v1/resources/dke/kgf...</td>\n",
       "      <td>http://api.brain-map.org/api/v2/data/Structure...</td>\n",
       "      <td>VISpl4</td>\n",
       "      <td>4</td>\n",
       "      <td>Contribution</td>\n",
       "      <td>https://www.grid.ac/institutes/grid.417881.3</td>\n",
       "      <td>Organization</td>\n",
       "      <td>https://bbp.epfl.ch/nexus/v1/files/dke/kgforge...</td>\n",
       "      <td>application/swc</td>\n",
       "      <td>reconstruction.swc</td>\n",
       "      <td>Rorb-IRES2-Cre-D;Ai14-230822.04.02.01</td>\n",
       "      <td>Subject</td>\n",
       "      <td>Post-natal</td>\n",
       "      <td></td>\n",
       "      <td></td>\n",
       "      <td>502081962</td>\n",
       "      <td>Rorb-IRES2-Cre-D;Ai14-230822</td>\n",
       "      <td></td>\n",
       "      <td>Mus musculus</td>\n",
       "      <td>Rorb-IRES2-Cre</td>\n",
       "    </tr>\n",
       "    <tr>\n",
       "      <th>5</th>\n",
       "      <td>https://bbp.epfl.ch/nexus/v1/resources/dke/kgf...</td>\n",
       "      <td>http://api.brain-map.org/api/v2/data/Structure...</td>\n",
       "      <td>AnG</td>\n",
       "      <td>2</td>\n",
       "      <td>Contribution</td>\n",
       "      <td>https://www.grid.ac/institutes/grid.417881.3</td>\n",
       "      <td>Organization</td>\n",
       "      <td>https://bbp.epfl.ch/nexus/v1/files/dke/kgforge...</td>\n",
       "      <td>application/swc</td>\n",
       "      <td>reconstruction.swc</td>\n",
       "      <td>H17.06.004.11.05.04</td>\n",
       "      <td>Subject</td>\n",
       "      <td>Post-natal</td>\n",
       "      <td>yrs</td>\n",
       "      <td>71</td>\n",
       "      <td>569008241</td>\n",
       "      <td>H17.06.004</td>\n",
       "      <td>Female</td>\n",
       "      <td>Homo Sapiens</td>\n",
       "      <td></td>\n",
       "    </tr>\n",
       "    <tr>\n",
       "      <th>6</th>\n",
       "      <td>https://bbp.epfl.ch/nexus/v1/resources/dke/kgf...</td>\n",
       "      <td>http://api.brain-map.org/api/v2/data/Structure...</td>\n",
       "      <td>MTG</td>\n",
       "      <td>4</td>\n",
       "      <td>Contribution</td>\n",
       "      <td>https://www.grid.ac/institutes/grid.417881.3</td>\n",
       "      <td>Organization</td>\n",
       "      <td>https://bbp.epfl.ch/nexus/v1/files/dke/kgforge...</td>\n",
       "      <td>application/swc</td>\n",
       "      <td>reconstruction.swc</td>\n",
       "      <td>H17.06.009.11.04.02</td>\n",
       "      <td>Subject</td>\n",
       "      <td>Post-natal</td>\n",
       "      <td>yrs</td>\n",
       "      <td>52</td>\n",
       "      <td>595954915</td>\n",
       "      <td>H17.06.009</td>\n",
       "      <td>Male</td>\n",
       "      <td>Homo Sapiens</td>\n",
       "      <td></td>\n",
       "    </tr>\n",
       "    <tr>\n",
       "      <th>7</th>\n",
       "      <td>https://bbp.epfl.ch/nexus/v1/resources/dke/kgf...</td>\n",
       "      <td>http://api.brain-map.org/api/v2/data/Structure...</td>\n",
       "      <td>MTG</td>\n",
       "      <td>3</td>\n",
       "      <td>Contribution</td>\n",
       "      <td>https://www.grid.ac/institutes/grid.417881.3</td>\n",
       "      <td>Organization</td>\n",
       "      <td>https://bbp.epfl.ch/nexus/v1/files/dke/kgforge...</td>\n",
       "      <td>application/swc</td>\n",
       "      <td>reconstruction.swc</td>\n",
       "      <td>H16.03.001.01.09.01</td>\n",
       "      <td>Subject</td>\n",
       "      <td>Post-natal</td>\n",
       "      <td>yrs</td>\n",
       "      <td>39</td>\n",
       "      <td>518641172</td>\n",
       "      <td>H16.03.001</td>\n",
       "      <td>Male</td>\n",
       "      <td>Homo Sapiens</td>\n",
       "      <td></td>\n",
       "    </tr>\n",
       "    <tr>\n",
       "      <th>8</th>\n",
       "      <td>https://bbp.epfl.ch/nexus/v1/resources/dke/kgf...</td>\n",
       "      <td>http://api.brain-map.org/api/v2/data/Structure...</td>\n",
       "      <td>MFG</td>\n",
       "      <td>5</td>\n",
       "      <td>Contribution</td>\n",
       "      <td>https://www.grid.ac/institutes/grid.417881.3</td>\n",
       "      <td>Organization</td>\n",
       "      <td>https://bbp.epfl.ch/nexus/v1/files/dke/kgforge...</td>\n",
       "      <td>application/swc</td>\n",
       "      <td>reconstruction.swc</td>\n",
       "      <td>H17.06.007.11.08.01</td>\n",
       "      <td>Subject</td>\n",
       "      <td>Post-natal</td>\n",
       "      <td>yrs</td>\n",
       "      <td>42</td>\n",
       "      <td>576060516</td>\n",
       "      <td>H17.06.007</td>\n",
       "      <td>Female</td>\n",
       "      <td>Homo Sapiens</td>\n",
       "      <td></td>\n",
       "    </tr>\n",
       "    <tr>\n",
       "      <th>9</th>\n",
       "      <td>https://bbp.epfl.ch/nexus/v1/resources/dke/kgf...</td>\n",
       "      <td>http://api.brain-map.org/api/v2/data/Structure...</td>\n",
       "      <td>VISp5</td>\n",
       "      <td>5</td>\n",
       "      <td>Contribution</td>\n",
       "      <td>https://www.grid.ac/institutes/grid.417881.3</td>\n",
       "      <td>Organization</td>\n",
       "      <td>https://bbp.epfl.ch/nexus/v1/files/dke/kgforge...</td>\n",
       "      <td>application/swc</td>\n",
       "      <td>reconstruction.swc</td>\n",
       "      <td>Cux2-CreERT2;Ai14-205530.03.02.01</td>\n",
       "      <td>Subject</td>\n",
       "      <td>Post-natal</td>\n",
       "      <td></td>\n",
       "      <td></td>\n",
       "      <td>485250100</td>\n",
       "      <td>Cux2-CreERT2;Ai14-205530</td>\n",
       "      <td></td>\n",
       "      <td>Mus musculus</td>\n",
       "      <td>Cux2-CreERT2</td>\n",
       "    </tr>\n",
       "  </tbody>\n",
       "</table>\n",
       "</div>"
      ],
      "text/plain": [
       "                                                  id  \\\n",
       "0  https://bbp.epfl.ch/nexus/v1/resources/dke/kgf...   \n",
       "1  https://bbp.epfl.ch/nexus/v1/resources/dke/kgf...   \n",
       "2  https://bbp.epfl.ch/nexus/v1/resources/dke/kgf...   \n",
       "3  https://bbp.epfl.ch/nexus/v1/resources/dke/kgf...   \n",
       "4  https://bbp.epfl.ch/nexus/v1/resources/dke/kgf...   \n",
       "5  https://bbp.epfl.ch/nexus/v1/resources/dke/kgf...   \n",
       "6  https://bbp.epfl.ch/nexus/v1/resources/dke/kgf...   \n",
       "7  https://bbp.epfl.ch/nexus/v1/resources/dke/kgf...   \n",
       "8  https://bbp.epfl.ch/nexus/v1/resources/dke/kgf...   \n",
       "9  https://bbp.epfl.ch/nexus/v1/resources/dke/kgf...   \n",
       "\n",
       "                        brainLocation.brainRegion.id  \\\n",
       "0  http://api.brain-map.org/api/v2/data/Structure...   \n",
       "1  http://api.brain-map.org/api/v2/data/Structure...   \n",
       "2  http://api.brain-map.org/api/v2/data/Structure...   \n",
       "3  http://api.brain-map.org/api/v2/data/Structure...   \n",
       "4  http://api.brain-map.org/api/v2/data/Structure...   \n",
       "5  http://api.brain-map.org/api/v2/data/Structure...   \n",
       "6  http://api.brain-map.org/api/v2/data/Structure...   \n",
       "7  http://api.brain-map.org/api/v2/data/Structure...   \n",
       "8  http://api.brain-map.org/api/v2/data/Structure...   \n",
       "9  http://api.brain-map.org/api/v2/data/Structure...   \n",
       "\n",
       "  brainLocation.brainRegion.label brainLocation.layer contribution.type  \\\n",
       "0                           VISp5                   5      Contribution   \n",
       "1                             MTG                   2      Contribution   \n",
       "2                           VISp4                   4      Contribution   \n",
       "3                           VISp4                   4      Contribution   \n",
       "4                          VISpl4                   4      Contribution   \n",
       "5                             AnG                   2      Contribution   \n",
       "6                             MTG                   4      Contribution   \n",
       "7                             MTG                   3      Contribution   \n",
       "8                             MFG                   5      Contribution   \n",
       "9                           VISp5                   5      Contribution   \n",
       "\n",
       "                          contribution.agent.id contribution.agent.type  \\\n",
       "0  https://www.grid.ac/institutes/grid.417881.3            Organization   \n",
       "1  https://www.grid.ac/institutes/grid.417881.3            Organization   \n",
       "2  https://www.grid.ac/institutes/grid.417881.3            Organization   \n",
       "3  https://www.grid.ac/institutes/grid.417881.3            Organization   \n",
       "4  https://www.grid.ac/institutes/grid.417881.3            Organization   \n",
       "5  https://www.grid.ac/institutes/grid.417881.3            Organization   \n",
       "6  https://www.grid.ac/institutes/grid.417881.3            Organization   \n",
       "7  https://www.grid.ac/institutes/grid.417881.3            Organization   \n",
       "8  https://www.grid.ac/institutes/grid.417881.3            Organization   \n",
       "9  https://www.grid.ac/institutes/grid.417881.3            Organization   \n",
       "\n",
       "                             distribution.contentUrl  \\\n",
       "0  https://bbp.epfl.ch/nexus/v1/files/dke/kgforge...   \n",
       "1  https://bbp.epfl.ch/nexus/v1/files/dke/kgforge...   \n",
       "2  https://bbp.epfl.ch/nexus/v1/files/dke/kgforge...   \n",
       "3  https://bbp.epfl.ch/nexus/v1/files/dke/kgforge...   \n",
       "4  https://bbp.epfl.ch/nexus/v1/files/dke/kgforge...   \n",
       "5  https://bbp.epfl.ch/nexus/v1/files/dke/kgforge...   \n",
       "6  https://bbp.epfl.ch/nexus/v1/files/dke/kgforge...   \n",
       "7  https://bbp.epfl.ch/nexus/v1/files/dke/kgforge...   \n",
       "8  https://bbp.epfl.ch/nexus/v1/files/dke/kgforge...   \n",
       "9  https://bbp.epfl.ch/nexus/v1/files/dke/kgforge...   \n",
       "\n",
       "  distribution.encodingFormat   distribution.name  \\\n",
       "0             application/swc  reconstruction.swc   \n",
       "1             application/swc  reconstruction.swc   \n",
       "2             application/swc  reconstruction.swc   \n",
       "3             application/swc  reconstruction.swc   \n",
       "4             application/swc  reconstruction.swc   \n",
       "5             application/swc  reconstruction.swc   \n",
       "6             application/swc  reconstruction.swc   \n",
       "7             application/swc  reconstruction.swc   \n",
       "8             application/swc  reconstruction.swc   \n",
       "9             application/swc  reconstruction.swc   \n",
       "\n",
       "                                    name subject.type subject.age.period  \\\n",
       "0    Scnn1a-Tg3-Cre;Ai14-172530.06.01.01      Subject         Post-natal   \n",
       "1                 H16.06.009.01.01.15.01      Subject         Post-natal   \n",
       "2    Scnn1a-Tg3-Cre;Ai14-187849.06.01.01      Subject         Post-natal   \n",
       "3  Rorb-IRES2-Cre-D;Ai14-197330.06.01.01      Subject         Post-natal   \n",
       "4  Rorb-IRES2-Cre-D;Ai14-230822.04.02.01      Subject         Post-natal   \n",
       "5                    H17.06.004.11.05.04      Subject         Post-natal   \n",
       "6                    H17.06.009.11.04.02      Subject         Post-natal   \n",
       "7                    H16.03.001.01.09.01      Subject         Post-natal   \n",
       "8                    H17.06.007.11.08.01      Subject         Post-natal   \n",
       "9      Cux2-CreERT2;Ai14-205530.03.02.01      Subject         Post-natal   \n",
       "\n",
       "  subject.age.unitCode subject.age.value  subject.identifier  \\\n",
       "0                                                  322489588   \n",
       "1                  yrs                48           528574320   \n",
       "2                                                  475849748   \n",
       "3                                                  479695183   \n",
       "4                                                  502081962   \n",
       "5                  yrs                71           569008241   \n",
       "6                  yrs                52           595954915   \n",
       "7                  yrs                39           518641172   \n",
       "8                  yrs                42           576060516   \n",
       "9                                                  485250100   \n",
       "\n",
       "                        subject.name subject.sex subject.species  \\\n",
       "0    Scnn1a-Tg3-Cre;Ai14(GSL)-172530                Mus musculus   \n",
       "1                         H16.06.009      Female    Homo Sapiens   \n",
       "2  Scnn1a-Tg3-Cre;Ai14(IVSCC)-187849                Mus musculus   \n",
       "3       Rorb-IRES2-Cre-D;Ai14-197330                Mus musculus   \n",
       "4       Rorb-IRES2-Cre-D;Ai14-230822                Mus musculus   \n",
       "5                         H17.06.004      Female    Homo Sapiens   \n",
       "6                         H17.06.009        Male    Homo Sapiens   \n",
       "7                         H16.03.001        Male    Homo Sapiens   \n",
       "8                         H17.06.007      Female    Homo Sapiens   \n",
       "9           Cux2-CreERT2;Ai14-205530                Mus musculus   \n",
       "\n",
       "   subject.strain  \n",
       "0  Scnn1a-Tg3-Cre  \n",
       "1                  \n",
       "2  Scnn1a-Tg3-Cre  \n",
       "3  Rorb-IRES2-Cre  \n",
       "4  Rorb-IRES2-Cre  \n",
       "5                  \n",
       "6                  \n",
       "7                  \n",
       "8                  \n",
       "9    Cux2-CreERT2  "
      ]
     },
     "execution_count": 54,
     "metadata": {},
     "output_type": "execute_result"
    }
   ],
   "source": [
    "property_to_display = [\"id\",\"name\",\"subject\",\"brainLocation.brainRegion.id\",\"brainLocation.brainRegion.label\",\"brainLocation.layer.id\",\"brainLocation.layer.label\", \"contribution\",\"brainLocation.layer.id\",\"brainLocation.layer.label\",\"distribution.name\",\"distribution.contentUrl\",\"distribution.encodingFormat\"]\n",
    "reshaped_data = forge.reshape(data, keep=property_to_display)\n",
    "\n",
    "forge.as_dataframe(reshaped_data)"
   ]
  },
  {
   "cell_type": "markdown",
   "metadata": {},
   "source": [
    "### Download"
   ]
  },
  {
   "cell_type": "code",
   "execution_count": null,
   "metadata": {},
   "outputs": [],
   "source": [
    "dirpath = \"./downloaded/\"\n",
    "forge.download(data, \"distribution.contentUrl\", dirpath)"
   ]
  }
 ],
 "metadata": {
  "kernelspec": {
   "display_name": "Python 3.7.13 ('kgforge')",
   "language": "python",
   "name": "python3"
  },
  "language_info": {
   "codemirror_mode": {
    "name": "ipython",
    "version": 3
   },
   "file_extension": ".py",
   "mimetype": "text/x-python",
   "name": "python",
   "nbconvert_exporter": "python",
   "pygments_lexer": "ipython3",
   "version": "3.7.13"
  },
  "vscode": {
   "interpreter": {
    "hash": "9ac393a5ddd595f2c78ea58b15bf8d269850a4413729cbea5c5fae9013762763"
   }
  }
 },
 "nbformat": 4,
 "nbformat_minor": 4
}

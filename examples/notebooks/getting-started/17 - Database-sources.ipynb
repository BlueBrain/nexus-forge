{
 "cells": [
  {
   "cell_type": "markdown",
   "metadata": {},
   "source": [
    "# Querying external database sources of interest\n",
    "\n",
    "* Enable users to integrate data from external databases of interest within BBP KG\n",
    "* While using the Nexus Forge interface and BMO vocabulary as much as possible as\n",
    "* While benefiting from out of the box (meta)data transformation to make them ready for BBP internal pipelines and applications\n",
    "* Demo with Mouselight, NeuroElectro, UniProt"
   ]
  },
  {
   "cell_type": "code",
   "execution_count": 1,
   "metadata": {
    "ExecuteTime": {
     "end_time": "2019-09-23T18:50:20.068658Z",
     "start_time": "2019-09-23T18:50:19.054054Z"
    }
   },
   "outputs": [],
   "source": [
    "import json\n",
    "\n",
    "from kgforge.core import KnowledgeGraphForge\n",
    "from kgforge.specializations.resources import Dataset"
   ]
  },
  {
   "cell_type": "code",
   "execution_count": 2,
   "metadata": {},
   "outputs": [],
   "source": [
    "endpoint = \"https://staging.nise.bbp.epfl.ch/nexus/v1\"\n",
    "BUCKET = \"neurosciencegraph/datamodels\"\n",
    "forge = KnowledgeGraphForge(\"../../configurations/database-sources/prod-nexus-sources.yml\", endpoint=endpoint, bucket=BUCKET)"
   ]
  },
  {
   "cell_type": "markdown",
   "metadata": {},
   "source": [
    "# List of Data sources"
   ]
  },
  {
   "cell_type": "code",
   "execution_count": 3,
   "metadata": {},
   "outputs": [
    {
     "name": "stdout",
     "output_type": "stream",
     "text": [
      "Available Database sources:\n",
      "UniProt\n",
      "NeuroElectro\n",
      "MouseLight\n"
     ]
    }
   ],
   "source": [
    "forge.db_sources(pretty=True)"
   ]
  },
  {
   "cell_type": "code",
   "execution_count": 4,
   "metadata": {},
   "outputs": [],
   "source": [
    "sources = forge.db_sources(pretty=False)"
   ]
  },
  {
   "cell_type": "code",
   "execution_count": 5,
   "metadata": {},
   "outputs": [],
   "source": [
    "\n",
    "data = {\n",
    "       'store':{\n",
    "          'name': 'DemoStore'\n",
    "       },\n",
    "        'model': { \n",
    "          'name': 'DemoModel',\n",
    "          'origin': 'directory',\n",
    "          'source': \"../../../tests/data/demo-model/\" \n",
    "        }\n",
    "}\n"
   ]
  },
  {
   "cell_type": "code",
   "execution_count": 6,
   "metadata": {},
   "outputs": [],
   "source": [
    "from kgforge.specializations.resources import DatabaseSource\n",
    "ds = DatabaseSource(forge, name=\"DemoDB\", from_forge=False, **data)"
   ]
  },
  {
   "cell_type": "code",
   "execution_count": 7,
   "metadata": {},
   "outputs": [],
   "source": [
    "# print(ds)"
   ]
  },
  {
   "cell_type": "code",
   "execution_count": 8,
   "metadata": {},
   "outputs": [
    {
     "name": "stdout",
     "output_type": "stream",
     "text": [
      "Available Database sources:\n",
      "UniProt\n",
      "NeuroElectro\n",
      "MouseLight\n",
      "DemoDB\n"
     ]
    }
   ],
   "source": [
    "forge.db_sources(pretty=True)"
   ]
  },
  {
   "cell_type": "markdown",
   "metadata": {},
   "source": [
    "# Data source metadata"
   ]
  },
  {
   "cell_type": "code",
   "execution_count": 9,
   "metadata": {},
   "outputs": [],
   "source": [
    "mouselight = sources[\"MouseLight\"]"
   ]
  },
  {
   "cell_type": "markdown",
   "metadata": {},
   "source": [
    "## Name, description, url, license, protocol => more can be added through configuration"
   ]
  },
  {
   "cell_type": "code",
   "execution_count": 10,
   "metadata": {},
   "outputs": [
    {
     "name": "stdout",
     "output_type": "stream",
     "text": [
      "MouseLight\n",
      "https://www.janelia.org/project-team/mouselight/resources\n",
      "{'id': 'https://creativecommons.org/licenses/by-nc/4.0', 'label': 'CC BY-NC 4.0'}\n"
     ]
    }
   ],
   "source": [
    "print(mouselight.name)\n",
    "print(mouselight.protocol)\n",
    "print(mouselight.license)"
   ]
  },
  {
   "cell_type": "markdown",
   "metadata": {},
   "source": [
    "## Get data mappings (hold transformations logic) per data type\n",
    "\n",
    "* Data mappings are used to transform results obtained from the external data sources so that they are ready for consumption by BBP tools\n",
    "* Perform automatic ontology linking"
   ]
  },
  {
   "cell_type": "code",
   "execution_count": 11,
   "metadata": {},
   "outputs": [
    {
     "data": {
      "text/plain": [
       "{'NeuronMorphology': ['DictionaryMapping']}"
      ]
     },
     "execution_count": 11,
     "metadata": {},
     "output_type": "execute_result"
    }
   ],
   "source": [
    "forge.mappings(\"MouseLight\", pretty=False)"
   ]
  },
  {
   "cell_type": "code",
   "execution_count": 12,
   "metadata": {},
   "outputs": [
    {
     "name": "stdout",
     "output_type": "stream",
     "text": [
      "Managed mappings for the data source per entity type and mapping type:\n",
      "   - Gene:\n",
      "        * DictionaryMapping\n",
      "   - Protein:\n",
      "        * DictionaryMapping\n"
     ]
    }
   ],
   "source": [
    "forge.mappings('UniProt', pretty=True)"
   ]
  },
  {
   "cell_type": "code",
   "execution_count": 13,
   "metadata": {},
   "outputs": [
    {
     "name": "stdout",
     "output_type": "stream",
     "text": [
      "Managed mappings for the data source per entity type and mapping type:\n",
      "   - ElectrophysiologicalFeatureAnnotation:\n",
      "        * DictionaryMapping\n",
      "   - ParameterAnnotation:\n",
      "        * DictionaryMapping\n",
      "   - ParameterBody:\n",
      "        * DictionaryMapping\n",
      "   - ScholarlyArticle:\n",
      "        * DictionaryMapping\n",
      "   - SeriesBody:\n",
      "        * DictionaryMapping\n"
     ]
    }
   ],
   "source": [
    "forge.mappings('NeuroElectro', pretty=True)"
   ]
  },
  {
   "cell_type": "code",
   "execution_count": 14,
   "metadata": {},
   "outputs": [],
   "source": [
    "from kgforge.specializations.mappings import DictionaryMapping\n",
    "mapping = forge.mapping(\"NeuronMorphology\", \"MouseLight\", type=DictionaryMapping)\n",
    "direct_mapping = mouselight.mapping(\"NeuronMorphology\", type=DictionaryMapping)"
   ]
  },
  {
   "cell_type": "code",
   "execution_count": 15,
   "metadata": {},
   "outputs": [
    {
     "name": "stdout",
     "output_type": "stream",
     "text": [
      "{\n",
      "    id: forge.format(\"identifier\", \"neuronmorphologies/mouselight\", x.neurons[0][\"idString\"])\n",
      "    type:\n",
      "    [\n",
      "        Dataset\n",
      "        NeuronMorphology\n",
      "    ]\n",
      "    brainLocation:\n",
      "    {\n",
      "        type: BrainLocation\n",
      "        brainRegion:\n",
      "        {\n",
      "            id: f\"http://api.brain-map.org/api/v2/data/Structure/{x.neurons[0]['soma']['allenId']}\"\n",
      "            label: x.neurons[0][\"allenLabel\"]\n",
      "        }\n",
      "        coordinatesInBrainAtlas:\n",
      "        {\n",
      "            valueX: x.neurons[0][\"soma\"][\"x\"]\n",
      "            valueY: x.neurons[0][\"soma\"][\"y\"]\n",
      "            valueZ: x.neurons[0][\"soma\"][\"z\"]\n",
      "        }\n",
      "    }\n",
      "    contribution:\n",
      "    {\n",
      "        type: Contribution\n",
      "        agent:\n",
      "        {\n",
      "            id: https://www.grid.ac/institutes/grid.443970.d\n",
      "            type: Organization\n",
      "            label: Janelia Research Campus\n",
      "        }\n",
      "    }\n",
      "    dateCreated: x.neurons[0][\"sample\"][\"date\"]\n",
      "    description: x.neurons[0][\"annotationSpace\"][\"description\"]\n",
      "    distribution: forge.attach(f\"./mouselight/{x.neurons[0]['idString']}.swc\", content_type=\"application/swc\")\n",
      "    fluorophore: x.neurons[0][\"label\"][\"fluorophore\"]\n",
      "    generation:\n",
      "    {\n",
      "        type: Generation\n",
      "        activity:\n",
      "        {\n",
      "            type: nsg:NeuronMorphologyReconstruction\n",
      "            hadProtocol: {}\n",
      "        }\n",
      "    }\n",
      "    identifier: x.neurons[0][\"idString\"]\n",
      "    license:\n",
      "    {\n",
      "        id: https://mouselight.janelia.org\n",
      "        type: License\n",
      "    }\n",
      "    name: x.neurons[0][\"idString\"]\n",
      "    objectOfStudy:\n",
      "    {\n",
      "        id: http://bbp.epfl.ch/neurosciencegraph/taxonomies/objectsofstudy/singlecells\n",
      "        type: ObjectOfStudy\n",
      "        label: Single Cell\n",
      "    }\n",
      "    subject:\n",
      "    {\n",
      "        type: Subject\n",
      "        species:\n",
      "        {\n",
      "            id: http://purl.obolibrary.org/obo/NCBITaxon_10090\n",
      "            label: Mus musculus\n",
      "        }\n",
      "        strain:\n",
      "        {\n",
      "            label: x.neurons[0][\"sample\"][\"strain\"]\n",
      "        }\n",
      "    }\n",
      "    version: x.neurons[0][\"annotationSpace\"][\"version\"]\n",
      "    virus: x.neurons[0][\"label\"][\"virus\"]\n",
      "}\n"
     ]
    }
   ],
   "source": [
    "print(mapping)"
   ]
  },
  {
   "cell_type": "code",
   "execution_count": 16,
   "metadata": {},
   "outputs": [
    {
     "name": "stdout",
     "output_type": "stream",
     "text": [
      "{\n",
      "    id: forge.format(\"identifier\", \"neuronmorphologies/mouselight\", x.neurons[0][\"idString\"])\n",
      "    type:\n",
      "    [\n",
      "        Dataset\n",
      "        NeuronMorphology\n",
      "    ]\n",
      "    brainLocation:\n",
      "    {\n",
      "        type: BrainLocation\n",
      "        brainRegion:\n",
      "        {\n",
      "            id: f\"http://api.brain-map.org/api/v2/data/Structure/{x.neurons[0]['soma']['allenId']}\"\n",
      "            label: x.neurons[0][\"allenLabel\"]\n",
      "        }\n",
      "        coordinatesInBrainAtlas:\n",
      "        {\n",
      "            valueX: x.neurons[0][\"soma\"][\"x\"]\n",
      "            valueY: x.neurons[0][\"soma\"][\"y\"]\n",
      "            valueZ: x.neurons[0][\"soma\"][\"z\"]\n",
      "        }\n",
      "    }\n",
      "    contribution:\n",
      "    {\n",
      "        type: Contribution\n",
      "        agent:\n",
      "        {\n",
      "            id: https://www.grid.ac/institutes/grid.443970.d\n",
      "            type: Organization\n",
      "            label: Janelia Research Campus\n",
      "        }\n",
      "    }\n",
      "    dateCreated: x.neurons[0][\"sample\"][\"date\"]\n",
      "    description: x.neurons[0][\"annotationSpace\"][\"description\"]\n",
      "    distribution: forge.attach(f\"./mouselight/{x.neurons[0]['idString']}.swc\", content_type=\"application/swc\")\n",
      "    fluorophore: x.neurons[0][\"label\"][\"fluorophore\"]\n",
      "    generation:\n",
      "    {\n",
      "        type: Generation\n",
      "        activity:\n",
      "        {\n",
      "            type: nsg:NeuronMorphologyReconstruction\n",
      "            hadProtocol: {}\n",
      "        }\n",
      "    }\n",
      "    identifier: x.neurons[0][\"idString\"]\n",
      "    license:\n",
      "    {\n",
      "        id: https://mouselight.janelia.org\n",
      "        type: License\n",
      "    }\n",
      "    name: x.neurons[0][\"idString\"]\n",
      "    objectOfStudy:\n",
      "    {\n",
      "        id: http://bbp.epfl.ch/neurosciencegraph/taxonomies/objectsofstudy/singlecells\n",
      "        type: ObjectOfStudy\n",
      "        label: Single Cell\n",
      "    }\n",
      "    subject:\n",
      "    {\n",
      "        type: Subject\n",
      "        species:\n",
      "        {\n",
      "            id: http://purl.obolibrary.org/obo/NCBITaxon_10090\n",
      "            label: Mus musculus\n",
      "        }\n",
      "        strain:\n",
      "        {\n",
      "            label: x.neurons[0][\"sample\"][\"strain\"]\n",
      "        }\n",
      "    }\n",
      "    version: x.neurons[0][\"annotationSpace\"][\"version\"]\n",
      "    virus: x.neurons[0][\"label\"][\"virus\"]\n",
      "}\n"
     ]
    }
   ],
   "source": [
    "print(direct_mapping)"
   ]
  },
  {
   "cell_type": "code",
   "execution_count": 17,
   "metadata": {},
   "outputs": [
    {
     "name": "stdout",
     "output_type": "stream",
     "text": [
      "Available Database sources:\n",
      "MouseLight\n"
     ]
    }
   ],
   "source": [
    "forge.db_sources(with_datatype='NeuronMorphology', pretty=True)"
   ]
  },
  {
   "cell_type": "code",
   "execution_count": 18,
   "metadata": {},
   "outputs": [],
   "source": [
    "ne = sources['NeuroElectro']"
   ]
  },
  {
   "cell_type": "markdown",
   "metadata": {},
   "source": [
    "# Search and Access data from data source\n",
    "\n",
    "* Mapping are automatically applied to search results\n",
    "* takes a mn for now => working on making it faster "
   ]
  },
  {
   "cell_type": "code",
   "execution_count": 19,
   "metadata": {},
   "outputs": [],
   "source": [
    "# Type, source or target brain region, \n",
    "filters = {\"type\":\"ScholarlyArticle\"}\n",
    "#map=True, use_cache=True, # download=True\n",
    "resources = forge.search(filters, db_source=\"NeuroElectro\", limit=2) \n",
    "# ADd function for checking datsource health => reqsuire health url from db\n"
   ]
  },
  {
   "cell_type": "code",
   "execution_count": 20,
   "metadata": {},
   "outputs": [
    {
     "data": {
      "text/plain": [
       "2"
      ]
     },
     "execution_count": 20,
     "metadata": {},
     "output_type": "execute_result"
    }
   ],
   "source": [
    "len(resources)"
   ]
  },
  {
   "cell_type": "code",
   "execution_count": 21,
   "metadata": {},
   "outputs": [
    {
     "name": "stdout",
     "output_type": "stream",
     "text": [
      "{\n",
      "    context: https://bbp.neuroshapes.org\n",
      "    id: https://bbp.epfl.ch/neurosciencegraph/data/scholarlyarticles/34164\n",
      "    type:\n",
      "    [\n",
      "        Entity\n",
      "        ScholarlyArticle\n",
      "    ]\n",
      "    abstract: Striatal spiny projection (SP) neurons control movement initiation by integrating cortical inputs and inhibiting basal ganglia outputs. Central to this control lies a \"microcircuit\" that consists of a feedback pathway formed by axon collaterals between GABAergic SP neurons and a feedforward pathway from fast spiking (FS) GABAergic interneurons to SP neurons. Here, somatically evoked postsynaptic potentials (PSPs) and currents (PSCs) were compared for both pathways with dual whole cell patch recording in voltage- and current-clamp mode using cortex-striatum-substantia nigra organotypic cultures. On average, feedforward inputs were 1 ms earlier, more reliable, and about twice as large in amplitude compared with most feedback inputs. On the other hand, both pathways exhibited widely varying, partially overlapping amplitude distributions. This variability was already established for single FS neurons targeting many SP neurons. In response to precisely timed action potential bursts, feedforward and feedback inputs consistently showed short-term depression < or =50-70% in voltage-clamp, although feedback inputs also displayed strong augmentation in current-clamp in line with previous reports. The augmentation of feedback inputs was absent in gramicidin D perforated-patch recording, which also showed the natural reversal potential for both inputs to be near firing threshold. Preceding depolarizing feedback inputs during the down state did not consistently change subsequent postsynaptic action potentials. We conclude that feedback and feedforward inputs have their dominant effect during the up-state. The reversal potential close to the up-state potential, which supports shunting operation with millisecond precision and the strong synaptic depression, should enable both pathways to carry time-critical information.\n",
      "    author:\n",
      "    [\n",
      "        {\n",
      "            type: Person\n",
      "            familyName: Gustafson\n",
      "            givenName: Nicholas\n",
      "        }\n",
      "        {\n",
      "            type: Person\n",
      "            familyName: Gireesh-Dharmaraj\n",
      "            givenName: Elakkat\n",
      "        }\n",
      "        {\n",
      "            type: Person\n",
      "            familyName: Czubayko\n",
      "            givenName: Uwe\n",
      "        }\n",
      "        {\n",
      "            type: Person\n",
      "            familyName: Blackwell\n",
      "            givenName: Kim T\n",
      "        }\n",
      "        {\n",
      "            type: Person\n",
      "            familyName: Plenz\n",
      "            givenName: Dietmar\n",
      "        }\n",
      "    ]\n",
      "    datePublished: 2006-2\n",
      "    identifier:\n",
      "    [\n",
      "        {\n",
      "            propertyID: PMID\n",
      "            value: 16236782\n",
      "        }\n",
      "        {\n",
      "            propertyID: doi\n",
      "            value: 10.1152/jn.00802.2005\n",
      "        }\n",
      "    ]\n",
      "    isPartOf:\n",
      "    {\n",
      "        type: Periodical\n",
      "        issn: 0022-3077\n",
      "        name: Journal of neurophysiology\n",
      "    }\n",
      "    name: article_34164\n",
      "    sameAs: http://jn.physiology.org/content/95/2/737.long\n",
      "    title: A comparative voltage and current-clamp analysis of feedback and feedforward synaptic transmission in the striatal microcircuit in vitro.\n",
      "    url: http://jn.physiology.org/content/95/2/737.long\n",
      "}\n"
     ]
    }
   ],
   "source": [
    "print(resources[0])"
   ]
  },
  {
   "cell_type": "code",
   "execution_count": 22,
   "metadata": {},
   "outputs": [],
   "source": [
    "uquery = \"\"\"\n",
    "PREFIX up: <http://purl.uniprot.org/core/>\n",
    "SELECT ?protein\n",
    "WHERE {\n",
    "  ?protein a up:Protein ;\n",
    "  up:reviewed true.\n",
    "}\n",
    "\"\"\""
   ]
  },
  {
   "cell_type": "code",
   "execution_count": 23,
   "metadata": {},
   "outputs": [
    {
     "name": "stdout",
     "output_type": "stream",
     "text": [
      "query in sparql \n",
      "PREFIX up: <http://purl.uniprot.org/core/>\n",
      "SELECT ?protein\n",
      "WHERE {\n",
      "  ?protein a up:Protein ;\n",
      "  up:reviewed true.\n",
      "}\n",
      "\n",
      "Submitted query:\n",
      "   \n",
      "   PREFIX up: <http://purl.uniprot.org/core/>\n",
      "   SELECT ?protein\n",
      "   WHERE {\n",
      "     ?protein a up:Protein ;\n",
      "     up:reviewed true.\n",
      "   }\n",
      "     LIMIT 10\n",
      "\n",
      "amount of results = 10\n"
     ]
    }
   ],
   "source": [
    "uresources = forge.sparql(query=uquery, db_source='UniProt', limit=10, debug=True)"
   ]
  },
  {
   "cell_type": "code",
   "execution_count": 24,
   "metadata": {},
   "outputs": [
    {
     "data": {
      "text/plain": [
       "10"
      ]
     },
     "execution_count": 24,
     "metadata": {},
     "output_type": "execute_result"
    }
   ],
   "source": [
    "len(uresources)"
   ]
  },
  {
   "cell_type": "code",
   "execution_count": 25,
   "metadata": {},
   "outputs": [],
   "source": [
    "# uresources"
   ]
  },
  {
   "cell_type": "code",
   "execution_count": 26,
   "metadata": {},
   "outputs": [],
   "source": [
    "from kgforge.core.wrappings.paths import Filter, FilterOperator"
   ]
  },
  {
   "cell_type": "code",
   "execution_count": 27,
   "metadata": {},
   "outputs": [
    {
     "name": "stdout",
     "output_type": "stream",
     "text": [
      "query in sparql SELECT ?id WHERE {?id type Protein;\n",
      " up:reviewed ?v1 . \n",
      " FILTER(?v1 = 'true'^^xsd:boolean)\n",
      "}\n",
      "amount of results = 10\n"
     ]
    }
   ],
   "source": [
    "proteins = forge.search({'type': 'Protein', 'up:reviewed': True}, db_source='UniProt', limit=10)"
   ]
  },
  {
   "cell_type": "code",
   "execution_count": 28,
   "metadata": {},
   "outputs": [],
   "source": [
    "uniprot = sources['UniProt']"
   ]
  },
  {
   "cell_type": "code",
   "execution_count": 29,
   "metadata": {},
   "outputs": [
    {
     "data": {
      "text/plain": [
       "{'up': 'http://purl.uniprot.org/core/',\n",
       " 'owl': 'http://www.w3.org/2002/07/owl#',\n",
       " 'owl2xml': 'http://www.w3.org/2006/12/owl2-xml#',\n",
       " 'swrlb': 'http://www.w3.org/2003/11/swrlb#',\n",
       " 'protege': 'http://protege.stanford.edu/plugins/owl/protege#',\n",
       " 'swrl': 'http://www.w3.org/2003/11/swrl#',\n",
       " 'xsd': 'http://www.w3.org/2001/XMLSchema#',\n",
       " 'skos': 'http://www.w3.org/2004/02/skos/core#',\n",
       " 'rdfs': 'http://www.w3.org/2000/01/rdf-schema#',\n",
       " 'dc11': 'http://purl.org/dc/terms/',\n",
       " 'rdf': 'http://www.w3.org/1999/02/22-rdf-syntax-ns#',\n",
       " 'foaf': 'http://xmlns.com/foaf/0.1/'}"
      ]
     },
     "execution_count": 29,
     "metadata": {},
     "output_type": "execute_result"
    }
   ],
   "source": [
    "uniprot._store.context.prefixes"
   ]
  },
  {
   "cell_type": "code",
   "execution_count": 38,
   "metadata": {},
   "outputs": [
    {
     "name": "stdout",
     "output_type": "stream",
     "text": [
      "query in sparql SELECT ?id WHERE {?id type Gene . \n",
      " \n",
      "}\n",
      "amount of results = 10\n"
     ]
    }
   ],
   "source": [
    "genes = forge.search({'type': 'Gene'}, db_source='UniProt', limit=10)"
   ]
  },
  {
   "cell_type": "code",
   "execution_count": 39,
   "metadata": {},
   "outputs": [
    {
     "data": {
      "text/plain": [
       "Resource(_last_action=None, _validated=False, _synchronized=False, _store_metadata=None, id=Resource(_last_action=None, _validated=False, _synchronized=False, _store_metadata=None, id='http://purl.uniprot.org/uniprot/H5SQ95#gene-MD58301D33AF640374C84A4DA4CAF383BE6', _inner_sync=False, annotationScore=2.0, comments=[{'texts': [{'evidences': [{'evidenceCode': 'ECO:0000305', 'source': 'PubMed', 'id': '28087277'}], 'value': 'May function as a protein modifier covalently attached to lysine residues of substrate proteins. This may serve to target the modified proteins for degradation by proteasomes'}], 'commentType': 'FUNCTION'}, {'texts': [{'evidences': [{'evidenceCode': 'ECO:0000255', 'source': 'HAMAP-Rule', 'id': 'MF_02133'}], 'value': 'Belongs to the ubiquitin-like protein UBact family'}], 'commentType': 'SIMILARITY'}], entryAudit={'firstPublicDate': '2017-10-25', 'lastAnnotationUpdateDate': '2022-05-25', 'lastSequenceUpdateDate': '2012-04-18', 'entryVersion': 15, 'sequenceVersion': 1}, entryType='UniProtKB reviewed (Swiss-Prot)', extraAttributes={'countByCommentType': {'FUNCTION': 1, 'SIMILARITY': 1}, 'countByFeatureType': {'Chain': 1, 'Region': 1, 'Compositional bias': 1, 'Cross-link': 1}, 'uniParcId': 'UPI00024DBA4F'}, features=[{'type': 'Chain', 'location': {'start': {'value': 1, 'modifier': 'EXACT'}, 'end': {'value': 56, 'modifier': 'EXACT'}}, 'description': 'Prokaryotic ubiquitin-like protein UBact', 'featureId': 'PRO_0000441772'}, {'type': 'Region', 'location': {'start': {'value': 1, 'modifier': 'EXACT'}, 'end': {'value': 56, 'modifier': 'EXACT'}}, 'description': 'Disordered', 'evidences': [{'evidenceCode': 'ECO:0000256', 'source': 'SAM', 'id': 'MobiDB-lite'}]}, {'type': 'Compositional bias', 'location': {'start': {'value': 26, 'modifier': 'EXACT'}, 'end': {'value': 56, 'modifier': 'EXACT'}}, 'description': 'Basic and acidic residues', 'evidences': [{'evidenceCode': 'ECO:0000256', 'source': 'SAM', 'id': 'MobiDB-lite'}]}, {'type': 'Cross-link', 'location': {'start': {'value': 56, 'modifier': 'EXACT'}, 'end': {'value': 56, 'modifier': 'EXACT'}}, 'description': 'Isoglutamyl lysine isopeptide (Glu-Lys) (interchain with K-? in acceptor proteins)', 'evidences': [{'evidenceCode': 'ECO:0000305'}]}], genes=[{'geneName': {'evidences': [{'evidenceCode': 'ECO:0000303', 'source': 'PubMed', 'id': '28087277'}], 'value': 'ubact'}, 'orfNames': [{'evidences': [{'evidenceCode': 'ECO:0000312', 'source': 'EMBL', 'id': 'BAL58331.1'}], 'value': 'HGMM_OP1C026'}]}], keywords=[{'id': 'KW-1017', 'category': 'PTM', 'name': 'Isopeptide bond'}, {'id': 'KW-0833', 'category': 'Biological process', 'name': 'Ubl conjugation pathway'}], organism={'scientificName': 'Acetothermus autotrophicum', 'taxonId': 1446466, 'lineage': ['Bacteria', 'Candidatus Bipolaricaulota', 'Candidatus Acetothermum']}, primaryAccession='H5SQ95', proteinDescription={'recommendedName': {'fullName': {'evidences': [{'evidenceCode': 'ECO:0000303', 'source': 'PubMed', 'id': '28087277'}], 'value': 'Prokaryotic ubiquitin-like protein UBact'}}}, proteinExistence='3: Inferred from homology', references=[{'citation': {'id': '22303444', 'citationType': 'journal article', 'authors': ['Takami H.', 'Noguchi H.', 'Takaki Y.', 'Uchiyama I.', 'Toyoda A.', 'Nishi S.', 'Chee G.J.', 'Arai W.', 'Nunoura T.', 'Itoh T.', 'Hattori M.', 'Takai K.'], 'citationCrossReferences': [{'database': 'PubMed', 'id': '22303444'}, {'database': 'DOI', 'id': '10.1371/journal.pone.0030559'}], 'title': 'A deeply branching thermophilic bacterium with an ancient acetyl-CoA pathway dominates a subsurface ecosystem.', 'publicationDate': '2012', 'journal': 'PLoS ONE', 'firstPage': 'E30559', 'lastPage': 'E30559', 'volume': '7'}, 'referencePositions': ['NUCLEOTIDE SEQUENCE [LARGE SCALE GENOMIC DNA]']}, {'citation': {'id': '28087277', 'citationType': 'journal article', 'authors': ['Lehmann G.', 'Udasin R.G.', 'Livneh I.', 'Ciechanover A.'], 'citationCrossReferences': [{'database': 'PubMed', 'id': '28087277'}, {'database': 'DOI', 'id': '10.1016/j.bbrc.2017.01.037'}], 'title': 'Identification of UBact, a ubiquitin-like protein, along with other homologous components of a conjugation system and the proteasome in different gram-negative bacteria.', 'publicationDate': '2017', 'journal': 'Biochem. Biophys. Res. Commun.', 'firstPage': '946', 'lastPage': '950', 'volume': '483'}, 'referencePositions': ['PREDICTED FUNCTION']}], sequence={'value': 'MPERIVKPMPQDPVTKPGDEGPRTPNVPKPDTERLLERMRRVDPRQAQRYRQRSGE', 'length': 56, 'molWeight': 6594, 'crc64': '323CA0429FBA02D0', 'md5': 'EF137CE5E7D3D2D873E21B0ECFB25FF6'}, uniProtKBCrossReferences=[{'database': 'EMBL', 'id': 'AP011800', 'properties': [{'key': 'ProteinId', 'value': 'BAL58331.1'}, {'key': 'Status', 'value': '-'}, {'key': 'MoleculeType', 'value': 'Genomic_DNA'}]}, {'database': 'AlphaFoldDB', 'id': 'H5SQ95', 'properties': [{'key': 'Description', 'value': '-'}]}, {'database': 'SMR', 'id': 'H5SQ95', 'properties': [{'key': 'Description', 'value': '-'}]}, {'database': 'GO', 'id': 'GO:0031386', 'properties': [{'key': 'GoTerm', 'value': 'F:protein tag'}, {'key': 'GoEvidenceType', 'value': 'IEA:UniProtKB-UniRule'}]}, {'database': 'HAMAP', 'id': 'MF_02133', 'properties': [{'key': 'EntryName', 'value': 'UBact'}, {'key': 'MatchStatus', 'value': '1'}]}, {'database': 'InterPro', 'id': 'IPR037543', 'properties': [{'key': 'EntryName', 'value': 'UBact'}]}], uniProtkbId='UBACT_ACEAU'), _inner_sync=False)"
      ]
     },
     "execution_count": 39,
     "metadata": {},
     "output_type": "execute_result"
    }
   ],
   "source": [
    "genes[0]"
   ]
  },
  {
   "cell_type": "markdown",
   "metadata": {},
   "source": [
    "# Save in BBP KG (Nexus)"
   ]
  },
  {
   "cell_type": "code",
   "execution_count": 31,
   "metadata": {},
   "outputs": [],
   "source": [
    "# forge.register(resources)"
   ]
  },
  {
   "cell_type": "markdown",
   "metadata": {},
   "source": [
    "## Access"
   ]
  },
  {
   "cell_type": "markdown",
   "metadata": {},
   "source": [
    "### Set filters"
   ]
  },
  {
   "cell_type": "code",
   "execution_count": 32,
   "metadata": {},
   "outputs": [],
   "source": [
    "_type = \"NeuronMorphology\"\n",
    "filters = {\"type\": _type}"
   ]
  },
  {
   "cell_type": "markdown",
   "metadata": {},
   "source": [
    "### Run Query"
   ]
  },
  {
   "cell_type": "code",
   "execution_count": 33,
   "metadata": {},
   "outputs": [
    {
     "name": "stdout",
     "output_type": "stream",
     "text": [
      "10 dataset(s) of type NeuronMorphology found\n"
     ]
    }
   ],
   "source": [
    "limit = 10  # You can limit the number of results, pass `None` to fetch all the results\n",
    "\n",
    "data = forge.search(filters, db_source='MouseLight', limit=limit)\n",
    "\n",
    "print(f\"{str(len(data))} dataset(s) of type {_type} found\")"
   ]
  },
  {
   "cell_type": "markdown",
   "metadata": {},
   "source": [
    "### Display the results as pandas dataframe"
   ]
  },
  {
   "cell_type": "code",
   "execution_count": 34,
   "metadata": {},
   "outputs": [
    {
     "data": {
      "text/html": [
       "<div>\n",
       "<style scoped>\n",
       "    .dataframe tbody tr th:only-of-type {\n",
       "        vertical-align: middle;\n",
       "    }\n",
       "\n",
       "    .dataframe tbody tr th {\n",
       "        vertical-align: top;\n",
       "    }\n",
       "\n",
       "    .dataframe thead th {\n",
       "        text-align: right;\n",
       "    }\n",
       "</style>\n",
       "<table border=\"1\" class=\"dataframe\">\n",
       "  <thead>\n",
       "    <tr style=\"text-align: right;\">\n",
       "      <th></th>\n",
       "      <th>id</th>\n",
       "      <th>brainLocation.brainRegion.id</th>\n",
       "      <th>brainLocation.brainRegion.label</th>\n",
       "      <th>contribution.type</th>\n",
       "      <th>contribution.agent.id</th>\n",
       "      <th>contribution.agent.type</th>\n",
       "      <th>distribution.contentUrl</th>\n",
       "      <th>distribution.encodingFormat</th>\n",
       "      <th>distribution.name</th>\n",
       "      <th>name</th>\n",
       "      <th>...</th>\n",
       "      <th>subject.strain</th>\n",
       "      <th>brainLocation.layer</th>\n",
       "      <th>contribution.agent.label</th>\n",
       "      <th>subject.age.period</th>\n",
       "      <th>subject.age.unitCode</th>\n",
       "      <th>subject.age.value</th>\n",
       "      <th>subject.identifier</th>\n",
       "      <th>subject.name</th>\n",
       "      <th>subject.sex.label</th>\n",
       "      <th>subject.strain.label</th>\n",
       "    </tr>\n",
       "  </thead>\n",
       "  <tbody>\n",
       "    <tr>\n",
       "      <th>0</th>\n",
       "      <td>https://bbp.epfl.ch/neurosciencegraph/data/neu...</td>\n",
       "      <td>http://api.brain-map.org/api/v2/data/Structure...</td>\n",
       "      <td>Simple lobule</td>\n",
       "      <td>Contribution</td>\n",
       "      <td>https://www.grid.ac/institutes/grid.443970.d</td>\n",
       "      <td>Organization</td>\n",
       "      <td>https://staging.nise.bbp.epfl.ch/nexus/v1/file...</td>\n",
       "      <td>application/swc</td>\n",
       "      <td>AA1015.swc</td>\n",
       "      <td>AA1015</td>\n",
       "      <td>...</td>\n",
       "      <td>Sim1-Cre</td>\n",
       "      <td>NaN</td>\n",
       "      <td>NaN</td>\n",
       "      <td>NaN</td>\n",
       "      <td>NaN</td>\n",
       "      <td>NaN</td>\n",
       "      <td>NaN</td>\n",
       "      <td>NaN</td>\n",
       "      <td>NaN</td>\n",
       "      <td>NaN</td>\n",
       "    </tr>\n",
       "    <tr>\n",
       "      <th>1</th>\n",
       "      <td>https://bbp.epfl.ch/neurosciencegraph/data/neu...</td>\n",
       "      <td>http://api.brain-map.org/api/v2/data/Structure...</td>\n",
       "      <td>Ansiform lobule</td>\n",
       "      <td>Contribution</td>\n",
       "      <td>https://www.grid.ac/institutes/grid.443970.d</td>\n",
       "      <td>Organization</td>\n",
       "      <td>https://staging.nise.bbp.epfl.ch/nexus/v1/file...</td>\n",
       "      <td>application/swc</td>\n",
       "      <td>AA1024.swc</td>\n",
       "      <td>AA1024</td>\n",
       "      <td>...</td>\n",
       "      <td>Sim1-Cre</td>\n",
       "      <td>NaN</td>\n",
       "      <td>NaN</td>\n",
       "      <td>NaN</td>\n",
       "      <td>NaN</td>\n",
       "      <td>NaN</td>\n",
       "      <td>NaN</td>\n",
       "      <td>NaN</td>\n",
       "      <td>NaN</td>\n",
       "      <td>NaN</td>\n",
       "    </tr>\n",
       "    <tr>\n",
       "      <th>2</th>\n",
       "      <td>https://bbp.epfl.ch/neurosciencegraph/data/neu...</td>\n",
       "      <td>http://api.brain-map.org/api/v2/data/Structure...</td>\n",
       "      <td>MTG</td>\n",
       "      <td>Contribution</td>\n",
       "      <td>https://www.grid.ac/institutes/grid.417881.3</td>\n",
       "      <td>Organization</td>\n",
       "      <td>https://staging.nexus.ocp.bbp.epfl.ch/v1/files...</td>\n",
       "      <td>application/swc</td>\n",
       "      <td>reconstruction.swc</td>\n",
       "      <td>H17.03.010.11.13.01</td>\n",
       "      <td>...</td>\n",
       "      <td>NaN</td>\n",
       "      <td>3</td>\n",
       "      <td>Allen Institute for Brain Science</td>\n",
       "      <td>Post-natal</td>\n",
       "      <td>yrs</td>\n",
       "      <td>38</td>\n",
       "      <td>601901227.0</td>\n",
       "      <td>H17.03.010</td>\n",
       "      <td>Female</td>\n",
       "      <td></td>\n",
       "    </tr>\n",
       "    <tr>\n",
       "      <th>3</th>\n",
       "      <td>https://bbp.epfl.ch/neurosciencegraph/data/neu...</td>\n",
       "      <td>http://api.brain-map.org/api/v2/data/Structure...</td>\n",
       "      <td>FroL</td>\n",
       "      <td>Contribution</td>\n",
       "      <td>https://www.grid.ac/institutes/grid.417881.3</td>\n",
       "      <td>Organization</td>\n",
       "      <td>https://staging.nexus.ocp.bbp.epfl.ch/v1/files...</td>\n",
       "      <td>application/swc</td>\n",
       "      <td>reconstruction.swc</td>\n",
       "      <td>H16.06.007.01.07.02</td>\n",
       "      <td>...</td>\n",
       "      <td>NaN</td>\n",
       "      <td>3</td>\n",
       "      <td>Allen Institute for Brain Science</td>\n",
       "      <td>Post-natal</td>\n",
       "      <td>yrs</td>\n",
       "      <td>26</td>\n",
       "      <td>518229880.0</td>\n",
       "      <td>H16.06.007</td>\n",
       "      <td>Male</td>\n",
       "      <td></td>\n",
       "    </tr>\n",
       "    <tr>\n",
       "      <th>4</th>\n",
       "      <td>https://bbp.epfl.ch/neurosciencegraph/data/neu...</td>\n",
       "      <td>http://api.brain-map.org/api/v2/data/Structure...</td>\n",
       "      <td>MTG</td>\n",
       "      <td>Contribution</td>\n",
       "      <td>https://www.grid.ac/institutes/grid.417881.3</td>\n",
       "      <td>Organization</td>\n",
       "      <td>https://staging.nexus.ocp.bbp.epfl.ch/v1/files...</td>\n",
       "      <td>application/swc</td>\n",
       "      <td>reconstruction.swc</td>\n",
       "      <td>H16.06.008.01.26.04</td>\n",
       "      <td>...</td>\n",
       "      <td>NaN</td>\n",
       "      <td>5</td>\n",
       "      <td>Allen Institute for Brain Science</td>\n",
       "      <td>Post-natal</td>\n",
       "      <td>yrs</td>\n",
       "      <td>24</td>\n",
       "      <td>527747035.0</td>\n",
       "      <td>H16.06.008</td>\n",
       "      <td>Female</td>\n",
       "      <td></td>\n",
       "    </tr>\n",
       "    <tr>\n",
       "      <th>5</th>\n",
       "      <td>https://bbp.epfl.ch/neurosciencegraph/data/neu...</td>\n",
       "      <td>http://api.brain-map.org/api/v2/data/Structure/74</td>\n",
       "      <td>VISl6a</td>\n",
       "      <td>Contribution</td>\n",
       "      <td>https://www.grid.ac/institutes/grid.417881.3</td>\n",
       "      <td>Organization</td>\n",
       "      <td>https://staging.nexus.ocp.bbp.epfl.ch/v1/files...</td>\n",
       "      <td>application/swc</td>\n",
       "      <td>reconstruction.swc</td>\n",
       "      <td>Rorb-IRES2-Cre-D;Ai14-234246.02.02.01</td>\n",
       "      <td>...</td>\n",
       "      <td>NaN</td>\n",
       "      <td>6a</td>\n",
       "      <td>Allen Institute for Brain Science</td>\n",
       "      <td>Post-natal</td>\n",
       "      <td></td>\n",
       "      <td></td>\n",
       "      <td>503871576.0</td>\n",
       "      <td>Rorb-IRES2-Cre-D;Ai14-234246</td>\n",
       "      <td></td>\n",
       "      <td>Rorb-IRES2-Cre</td>\n",
       "    </tr>\n",
       "    <tr>\n",
       "      <th>6</th>\n",
       "      <td>https://bbp.epfl.ch/neurosciencegraph/data/neu...</td>\n",
       "      <td>http://api.brain-map.org/api/v2/data/Structure...</td>\n",
       "      <td>VISp2/3</td>\n",
       "      <td>Contribution</td>\n",
       "      <td>https://www.grid.ac/institutes/grid.417881.3</td>\n",
       "      <td>Organization</td>\n",
       "      <td>https://staging.nexus.ocp.bbp.epfl.ch/v1/files...</td>\n",
       "      <td>application/swc</td>\n",
       "      <td>reconstruction.swc</td>\n",
       "      <td>Chrna2-Cre_OE25;Ai14(IVSCC)-294465.05.01.01</td>\n",
       "      <td>...</td>\n",
       "      <td>NaN</td>\n",
       "      <td>2/3</td>\n",
       "      <td>Allen Institute for Brain Science</td>\n",
       "      <td>Post-natal</td>\n",
       "      <td></td>\n",
       "      <td></td>\n",
       "      <td>565087402.0</td>\n",
       "      <td>Chrna2-Cre_OE25;Ai14(IVSCC)-294465</td>\n",
       "      <td></td>\n",
       "      <td>Chrna2-Cre_OE25</td>\n",
       "    </tr>\n",
       "    <tr>\n",
       "      <th>7</th>\n",
       "      <td>https://bbp.epfl.ch/neurosciencegraph/data/neu...</td>\n",
       "      <td>http://api.brain-map.org/api/v2/data/Structure...</td>\n",
       "      <td>VISp5</td>\n",
       "      <td>Contribution</td>\n",
       "      <td>https://www.grid.ac/institutes/grid.417881.3</td>\n",
       "      <td>Organization</td>\n",
       "      <td>https://staging.nexus.ocp.bbp.epfl.ch/v1/files...</td>\n",
       "      <td>application/swc</td>\n",
       "      <td>reconstruction.swc</td>\n",
       "      <td>Cux2-CreERT2;Ai14-205530.03.02.01</td>\n",
       "      <td>...</td>\n",
       "      <td>NaN</td>\n",
       "      <td>5</td>\n",
       "      <td>Allen Institute for Brain Science</td>\n",
       "      <td>Post-natal</td>\n",
       "      <td></td>\n",
       "      <td></td>\n",
       "      <td>485250100.0</td>\n",
       "      <td>Cux2-CreERT2;Ai14-205530</td>\n",
       "      <td></td>\n",
       "      <td>Cux2-CreERT2</td>\n",
       "    </tr>\n",
       "    <tr>\n",
       "      <th>8</th>\n",
       "      <td>https://bbp.epfl.ch/neurosciencegraph/data/neu...</td>\n",
       "      <td>http://api.brain-map.org/api/v2/data/Structure/33</td>\n",
       "      <td>VISp6a</td>\n",
       "      <td>Contribution</td>\n",
       "      <td>https://www.grid.ac/institutes/grid.417881.3</td>\n",
       "      <td>Organization</td>\n",
       "      <td>https://staging.nexus.ocp.bbp.epfl.ch/v1/files...</td>\n",
       "      <td>application/swc</td>\n",
       "      <td>reconstruction.swc</td>\n",
       "      <td>Ctgf-2A-dgCre;Ai14(IVSCC)-229233.03.02.01</td>\n",
       "      <td>...</td>\n",
       "      <td>NaN</td>\n",
       "      <td>6a</td>\n",
       "      <td>Allen Institute for Brain Science</td>\n",
       "      <td>Post-natal</td>\n",
       "      <td></td>\n",
       "      <td></td>\n",
       "      <td>501715368.0</td>\n",
       "      <td>Ctgf-2A-dgCre;Ai14(IVSCC)-229233</td>\n",
       "      <td></td>\n",
       "      <td>Ctgf-T2A-dgCre</td>\n",
       "    </tr>\n",
       "    <tr>\n",
       "      <th>9</th>\n",
       "      <td>https://bbp.epfl.ch/neurosciencegraph/data/neu...</td>\n",
       "      <td>http://api.brain-map.org/api/v2/data/Structure...</td>\n",
       "      <td>MTG</td>\n",
       "      <td>Contribution</td>\n",
       "      <td>https://www.grid.ac/institutes/grid.417881.3</td>\n",
       "      <td>Organization</td>\n",
       "      <td>https://staging.nexus.ocp.bbp.epfl.ch/v1/files...</td>\n",
       "      <td>application/swc</td>\n",
       "      <td>reconstruction.swc</td>\n",
       "      <td>H17.06.005.12.15.01</td>\n",
       "      <td>...</td>\n",
       "      <td>NaN</td>\n",
       "      <td>4</td>\n",
       "      <td>Allen Institute for Brain Science</td>\n",
       "      <td>Post-natal</td>\n",
       "      <td>yrs</td>\n",
       "      <td>38</td>\n",
       "      <td>571364629.0</td>\n",
       "      <td>H17.06.005</td>\n",
       "      <td>Male</td>\n",
       "      <td></td>\n",
       "    </tr>\n",
       "  </tbody>\n",
       "</table>\n",
       "<p>10 rows × 23 columns</p>\n",
       "</div>"
      ],
      "text/plain": [
       "                                                  id  \\\n",
       "0  https://bbp.epfl.ch/neurosciencegraph/data/neu...   \n",
       "1  https://bbp.epfl.ch/neurosciencegraph/data/neu...   \n",
       "2  https://bbp.epfl.ch/neurosciencegraph/data/neu...   \n",
       "3  https://bbp.epfl.ch/neurosciencegraph/data/neu...   \n",
       "4  https://bbp.epfl.ch/neurosciencegraph/data/neu...   \n",
       "5  https://bbp.epfl.ch/neurosciencegraph/data/neu...   \n",
       "6  https://bbp.epfl.ch/neurosciencegraph/data/neu...   \n",
       "7  https://bbp.epfl.ch/neurosciencegraph/data/neu...   \n",
       "8  https://bbp.epfl.ch/neurosciencegraph/data/neu...   \n",
       "9  https://bbp.epfl.ch/neurosciencegraph/data/neu...   \n",
       "\n",
       "                        brainLocation.brainRegion.id  \\\n",
       "0  http://api.brain-map.org/api/v2/data/Structure...   \n",
       "1  http://api.brain-map.org/api/v2/data/Structure...   \n",
       "2  http://api.brain-map.org/api/v2/data/Structure...   \n",
       "3  http://api.brain-map.org/api/v2/data/Structure...   \n",
       "4  http://api.brain-map.org/api/v2/data/Structure...   \n",
       "5  http://api.brain-map.org/api/v2/data/Structure/74   \n",
       "6  http://api.brain-map.org/api/v2/data/Structure...   \n",
       "7  http://api.brain-map.org/api/v2/data/Structure...   \n",
       "8  http://api.brain-map.org/api/v2/data/Structure/33   \n",
       "9  http://api.brain-map.org/api/v2/data/Structure...   \n",
       "\n",
       "  brainLocation.brainRegion.label contribution.type  \\\n",
       "0                   Simple lobule      Contribution   \n",
       "1                 Ansiform lobule      Contribution   \n",
       "2                             MTG      Contribution   \n",
       "3                            FroL      Contribution   \n",
       "4                             MTG      Contribution   \n",
       "5                          VISl6a      Contribution   \n",
       "6                         VISp2/3      Contribution   \n",
       "7                           VISp5      Contribution   \n",
       "8                          VISp6a      Contribution   \n",
       "9                             MTG      Contribution   \n",
       "\n",
       "                          contribution.agent.id contribution.agent.type  \\\n",
       "0  https://www.grid.ac/institutes/grid.443970.d            Organization   \n",
       "1  https://www.grid.ac/institutes/grid.443970.d            Organization   \n",
       "2  https://www.grid.ac/institutes/grid.417881.3            Organization   \n",
       "3  https://www.grid.ac/institutes/grid.417881.3            Organization   \n",
       "4  https://www.grid.ac/institutes/grid.417881.3            Organization   \n",
       "5  https://www.grid.ac/institutes/grid.417881.3            Organization   \n",
       "6  https://www.grid.ac/institutes/grid.417881.3            Organization   \n",
       "7  https://www.grid.ac/institutes/grid.417881.3            Organization   \n",
       "8  https://www.grid.ac/institutes/grid.417881.3            Organization   \n",
       "9  https://www.grid.ac/institutes/grid.417881.3            Organization   \n",
       "\n",
       "                             distribution.contentUrl  \\\n",
       "0  https://staging.nise.bbp.epfl.ch/nexus/v1/file...   \n",
       "1  https://staging.nise.bbp.epfl.ch/nexus/v1/file...   \n",
       "2  https://staging.nexus.ocp.bbp.epfl.ch/v1/files...   \n",
       "3  https://staging.nexus.ocp.bbp.epfl.ch/v1/files...   \n",
       "4  https://staging.nexus.ocp.bbp.epfl.ch/v1/files...   \n",
       "5  https://staging.nexus.ocp.bbp.epfl.ch/v1/files...   \n",
       "6  https://staging.nexus.ocp.bbp.epfl.ch/v1/files...   \n",
       "7  https://staging.nexus.ocp.bbp.epfl.ch/v1/files...   \n",
       "8  https://staging.nexus.ocp.bbp.epfl.ch/v1/files...   \n",
       "9  https://staging.nexus.ocp.bbp.epfl.ch/v1/files...   \n",
       "\n",
       "  distribution.encodingFormat   distribution.name  \\\n",
       "0             application/swc          AA1015.swc   \n",
       "1             application/swc          AA1024.swc   \n",
       "2             application/swc  reconstruction.swc   \n",
       "3             application/swc  reconstruction.swc   \n",
       "4             application/swc  reconstruction.swc   \n",
       "5             application/swc  reconstruction.swc   \n",
       "6             application/swc  reconstruction.swc   \n",
       "7             application/swc  reconstruction.swc   \n",
       "8             application/swc  reconstruction.swc   \n",
       "9             application/swc  reconstruction.swc   \n",
       "\n",
       "                                          name  ... subject.strain  \\\n",
       "0                                       AA1015  ...       Sim1-Cre   \n",
       "1                                       AA1024  ...       Sim1-Cre   \n",
       "2                          H17.03.010.11.13.01  ...            NaN   \n",
       "3                          H16.06.007.01.07.02  ...            NaN   \n",
       "4                          H16.06.008.01.26.04  ...            NaN   \n",
       "5        Rorb-IRES2-Cre-D;Ai14-234246.02.02.01  ...            NaN   \n",
       "6  Chrna2-Cre_OE25;Ai14(IVSCC)-294465.05.01.01  ...            NaN   \n",
       "7            Cux2-CreERT2;Ai14-205530.03.02.01  ...            NaN   \n",
       "8    Ctgf-2A-dgCre;Ai14(IVSCC)-229233.03.02.01  ...            NaN   \n",
       "9                          H17.06.005.12.15.01  ...            NaN   \n",
       "\n",
       "  brainLocation.layer           contribution.agent.label subject.age.period  \\\n",
       "0                 NaN                                NaN                NaN   \n",
       "1                 NaN                                NaN                NaN   \n",
       "2                   3  Allen Institute for Brain Science         Post-natal   \n",
       "3                   3  Allen Institute for Brain Science         Post-natal   \n",
       "4                   5  Allen Institute for Brain Science         Post-natal   \n",
       "5                  6a  Allen Institute for Brain Science         Post-natal   \n",
       "6                 2/3  Allen Institute for Brain Science         Post-natal   \n",
       "7                   5  Allen Institute for Brain Science         Post-natal   \n",
       "8                  6a  Allen Institute for Brain Science         Post-natal   \n",
       "9                   4  Allen Institute for Brain Science         Post-natal   \n",
       "\n",
       "  subject.age.unitCode subject.age.value subject.identifier  \\\n",
       "0                  NaN               NaN                NaN   \n",
       "1                  NaN               NaN                NaN   \n",
       "2                  yrs                38        601901227.0   \n",
       "3                  yrs                26        518229880.0   \n",
       "4                  yrs                24        527747035.0   \n",
       "5                                               503871576.0   \n",
       "6                                               565087402.0   \n",
       "7                                               485250100.0   \n",
       "8                                               501715368.0   \n",
       "9                  yrs                38        571364629.0   \n",
       "\n",
       "                         subject.name subject.sex.label  subject.strain.label  \n",
       "0                                 NaN               NaN                   NaN  \n",
       "1                                 NaN               NaN                   NaN  \n",
       "2                          H17.03.010            Female                        \n",
       "3                          H16.06.007              Male                        \n",
       "4                          H16.06.008            Female                        \n",
       "5        Rorb-IRES2-Cre-D;Ai14-234246                          Rorb-IRES2-Cre  \n",
       "6  Chrna2-Cre_OE25;Ai14(IVSCC)-294465                         Chrna2-Cre_OE25  \n",
       "7            Cux2-CreERT2;Ai14-205530                            Cux2-CreERT2  \n",
       "8    Ctgf-2A-dgCre;Ai14(IVSCC)-229233                          Ctgf-T2A-dgCre  \n",
       "9                          H17.06.005              Male                        \n",
       "\n",
       "[10 rows x 23 columns]"
      ]
     },
     "execution_count": 34,
     "metadata": {},
     "output_type": "execute_result"
    }
   ],
   "source": [
    "property_to_display = [\"id\",\"name\",\"subject\",\"brainLocation.brainRegion.id\",\"brainLocation.brainRegion.label\",\"brainLocation.layer.id\",\"brainLocation.layer.label\", \"contribution\",\"brainLocation.layer.id\",\"brainLocation.layer.label\",\"distribution.name\",\"distribution.contentUrl\",\"distribution.encodingFormat\"]\n",
    "reshaped_data = forge.reshape(data, keep=property_to_display)\n",
    "\n",
    "forge.as_dataframe(reshaped_data)"
   ]
  },
  {
   "cell_type": "markdown",
   "metadata": {},
   "source": [
    "### Download"
   ]
  },
  {
   "cell_type": "code",
   "execution_count": 35,
   "metadata": {},
   "outputs": [
    {
     "name": "stdout",
     "output_type": "stream",
     "text": [
      "<action> send\n",
      "<error> ConnectionError: HTTPSConnectionPool(host='staging.nexus.ocp.bbp.epfl.ch', port=443): Max retries exceeded with url: /v1/files/dke/kgforge/f0c59cf7-3b1b-4cb9-b81b-62fefd5bbd0f (Caused by NewConnectionError('<urllib3.connection.HTTPSConnection object at 0x7fb1281dcc10>: Failed to establish a new connection: [Errno 8] nodename nor servname provided, or not known'))\n",
      "\n"
     ]
    }
   ],
   "source": [
    "dirpath = \"./downloaded/\"\n",
    "forge.download(data, \"distribution.contentUrl\", dirpath)"
   ]
  },
  {
   "cell_type": "markdown",
   "metadata": {},
   "source": [
    "### Try query"
   ]
  },
  {
   "cell_type": "code",
   "execution_count": 36,
   "metadata": {},
   "outputs": [
    {
     "name": "stdout",
     "output_type": "stream",
     "text": [
      "Submitted query:\n",
      "   \n",
      "   # PREFIXES\n",
      "   SELECT ?id WHERE {\n",
      "       ?id a nsg:DetailedCircuit\n",
      "   } LIMIT 100\n",
      "\n",
      "<action> _sparql\n",
      "<error> QueryingError: 400 Client Error: Bad Request for url: https://staging.nise.bbp.epfl.ch/nexus/v1/views/neurosciencegraph/datamodels/https%3A%2F%2Fbluebrain.github.io%2Fnexus%2Fvocabulary%2FdefaultSparqlIndex/sparql\n",
      "\n"
     ]
    }
   ],
   "source": [
    "mquery = \"\"\"\n",
    "# PREFIXES\n",
    "SELECT ?id WHERE {\n",
    "    ?id a nsg:DetailedCircuit\n",
    "} LIMIT 100\n",
    "\"\"\"\n",
    "\n",
    "forge.sparql(mquery, debug=True, rewrite=False)"
   ]
  },
  {
   "cell_type": "code",
   "execution_count": 37,
   "metadata": {},
   "outputs": [
    {
     "name": "stdout",
     "output_type": "stream",
     "text": [
      "Submitted query:\n",
      "   \n",
      "   # PREFIXES\n",
      "   SELECT ?id WHERE {\n",
      "       ?id a nsg:DetailedCircuit\n",
      "   } LIMIT 100\n",
      "\n",
      "<action> _sparql\n",
      "<error> QueryingError: 400 Client Error: Bad Request for url: https://staging.nise.bbp.epfl.ch/nexus/v1/views/neurosciencegraph/datamodels/https%3A%2F%2Fbluebrain.github.io%2Fnexus%2Fvocabulary%2FdefaultSparqlIndex/sparql\n",
      "\n"
     ]
    }
   ],
   "source": [
    "forge.sparql(mquery, debug=True, rewrite=False)"
   ]
  },
  {
   "cell_type": "code",
   "execution_count": null,
   "metadata": {},
   "outputs": [],
   "source": []
  }
 ],
 "metadata": {
  "kernelspec": {
   "display_name": "Python 3.7.13 ('kgforge')",
   "language": "python",
   "name": "python3"
  },
  "language_info": {
   "codemirror_mode": {
    "name": "ipython",
    "version": 3
   },
   "file_extension": ".py",
   "mimetype": "text/x-python",
   "name": "python",
   "nbconvert_exporter": "python",
   "pygments_lexer": "ipython3",
   "version": "3.7.13"
  },
  "vscode": {
   "interpreter": {
    "hash": "9ac393a5ddd595f2c78ea58b15bf8d269850a4413729cbea5c5fae9013762763"
   }
  }
 },
 "nbformat": 4,
 "nbformat_minor": 4
}

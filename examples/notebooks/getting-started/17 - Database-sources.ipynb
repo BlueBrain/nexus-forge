{
 "cells": [
  {
   "cell_type": "markdown",
   "metadata": {},
   "source": [
    "# Querying external database sources of interest\n",
    "\n",
    "* Enable users to integrate data from external databases of interest within BBP KG\n",
    "* While using the Nexus Forge interface and BMO vocabulary as much as possible as\n",
    "* While benefiting from out of the box (meta)data transformation to make them ready for BBP internal pipelines and applications\n",
    "* Demo with Mouselight, NeuroElectro, UniProt"
   ]
  },
  {
   "cell_type": "code",
   "execution_count": 1,
   "metadata": {
    "ExecuteTime": {
     "end_time": "2019-09-23T18:50:20.068658Z",
     "start_time": "2019-09-23T18:50:19.054054Z"
    }
   },
   "outputs": [],
   "source": [
    "import os\n",
    "import json\n",
    "\n",
    "from kgforge.core import KnowledgeGraphForge\n",
    "from kgforge.specializations.resources import Dataset"
   ]
  },
  {
   "cell_type": "code",
   "execution_count": 2,
   "metadata": {},
   "outputs": [],
   "source": [
    "# import getpass\n",
    "# TOKEN = getpass.getpass()"
   ]
  },
  {
   "cell_type": "code",
   "execution_count": 3,
   "metadata": {},
   "outputs": [],
   "source": [
    "endpoint = \"https://staging.nise.bbp.epfl.ch/nexus/v1\"\n",
    "BUCKET = \"dke/kgforge\"\n",
    "forge = KnowledgeGraphForge(\"../../configurations/database-sources/prod-nexus-sources.yml\", endpoint=endpoint, bucket=BUCKET)"
   ]
  },
  {
   "cell_type": "markdown",
   "metadata": {},
   "source": [
    "# List of Data sources"
   ]
  },
  {
   "cell_type": "code",
   "execution_count": 4,
   "metadata": {},
   "outputs": [
    {
     "name": "stdout",
     "output_type": "stream",
     "text": [
      "Available Database sources:\n",
      "UniProt\n",
      "NeuroElectro\n",
      "NeuroMorpho\n"
     ]
    }
   ],
   "source": [
    "forge.db_sources(pretty=True)"
   ]
  },
  {
   "cell_type": "code",
   "execution_count": 5,
   "metadata": {},
   "outputs": [],
   "source": [
    "sources = forge.db_sources()"
   ]
  },
  {
   "cell_type": "code",
   "execution_count": 6,
   "metadata": {},
   "outputs": [],
   "source": [
    "\n",
    "data = {\n",
    "       'origin': 'store',\n",
    "       'source': 'DemoStore',\n",
    "       'model': { \n",
    "          'name': 'DemoModel',\n",
    "          'origin': 'directory',\n",
    "          'source': \"../../../tests/data/demo-model/\" \n",
    "        }\n",
    "}\n"
   ]
  },
  {
   "cell_type": "code",
   "execution_count": 7,
   "metadata": {},
   "outputs": [],
   "source": [
    "from kgforge.specializations.databases import StoreDatabase\n",
    "ds = StoreDatabase(forge, name=\"DemoDB\", **data)"
   ]
  },
  {
   "cell_type": "code",
   "execution_count": 8,
   "metadata": {},
   "outputs": [],
   "source": [
    "forge.add_db_source(ds)"
   ]
  },
  {
   "cell_type": "code",
   "execution_count": 9,
   "metadata": {},
   "outputs": [
    {
     "name": "stdout",
     "output_type": "stream",
     "text": [
      "Available Database sources:\n",
      "UniProt\n",
      "NeuroElectro\n",
      "NeuroMorpho\n",
      "DemoDB\n"
     ]
    }
   ],
   "source": [
    "forge.db_sources(pretty=True)"
   ]
  },
  {
   "cell_type": "markdown",
   "metadata": {},
   "source": [
    "# Data source metadata"
   ]
  },
  {
   "cell_type": "code",
   "execution_count": 10,
   "metadata": {},
   "outputs": [],
   "source": [
    "neuroelectro = sources['NeuroElectro']"
   ]
  },
  {
   "cell_type": "markdown",
   "metadata": {},
   "source": [
    "## Get data mappings (hold transformations logic) per data type\n",
    "\n",
    "* Data mappings are used to transform results obtained from the external data sources so that they are ready for consumption by BBP tools\n",
    "* Perform automatic ontology linking"
   ]
  },
  {
   "cell_type": "code",
   "execution_count": 11,
   "metadata": {},
   "outputs": [
    {
     "name": "stdout",
     "output_type": "stream",
     "text": [
      "Managed mappings for the data source per entity type and mapping type:\n",
      "   - ElectrophysiologicalFeatureAnnotation:\n",
      "        * DictionaryMapping\n",
      "   - ParameterAnnotation:\n",
      "        * DictionaryMapping\n",
      "   - ParameterBody:\n",
      "        * DictionaryMapping\n",
      "   - ScholarlyArticle:\n",
      "        * DictionaryMapping\n",
      "   - SeriesBody:\n",
      "        * DictionaryMapping\n"
     ]
    }
   ],
   "source": [
    "forge.mappings(source=\"NeuroElectro\")"
   ]
  },
  {
   "cell_type": "code",
   "execution_count": 12,
   "metadata": {},
   "outputs": [
    {
     "name": "stdout",
     "output_type": "stream",
     "text": [
      "Managed mappings for the data source per entity type and mapping type:\n",
      "   - Gene:\n",
      "        * DictionaryMapping\n",
      "   - Protein:\n",
      "        * DictionaryMapping\n"
     ]
    }
   ],
   "source": [
    "forge.mappings('UniProt')"
   ]
  },
  {
   "cell_type": "code",
   "execution_count": 13,
   "metadata": {},
   "outputs": [],
   "source": [
    "from kgforge.specializations.mappings import DictionaryMapping\n",
    "mapping = forge.mapping(entity=\"ScholarlyArticle\", source=\"NeuroElectro\")"
   ]
  },
  {
   "cell_type": "code",
   "execution_count": 14,
   "metadata": {},
   "outputs": [
    {
     "name": "stdout",
     "output_type": "stream",
     "text": [
      "{\n",
      "    id: forge.format(\"identifier\", \"scholarlyarticles\", x.id)\n",
      "    type:\n",
      "    [\n",
      "        Entity\n",
      "        ScholarlyArticle\n",
      "    ]\n",
      "    abstract: x.abstract\n",
      "    author: x.authors_shaped\n",
      "    datePublished: x.date_issued\n",
      "    identifier: x.identifiers\n",
      "    isPartOf:\n",
      "    {\n",
      "        type: Periodical\n",
      "        issn: x.issn\n",
      "        name: x.journal\n",
      "        publisher: x.publisher\n",
      "    }\n",
      "    name: f\"article_{x.id}\"\n",
      "    sameAs: x.full_text_link\n",
      "    title: x.title\n",
      "    url: x.full_text_link\n",
      "}\n"
     ]
    }
   ],
   "source": [
    "print(mapping)"
   ]
  },
  {
   "cell_type": "code",
   "execution_count": 15,
   "metadata": {},
   "outputs": [
    {
     "name": "stdout",
     "output_type": "stream",
     "text": [
      "<action> db_sources\n",
      "<error> AttributeError: 'StoreDatabase' object has no attribute 'datatypes'\n",
      "\n"
     ]
    }
   ],
   "source": [
    "forge.db_sources(type_='Gene', pretty=True)"
   ]
  },
  {
   "cell_type": "markdown",
   "metadata": {},
   "source": [
    "# Search and Access data from data source\n",
    "\n",
    "* Mapping are automatically applied to search results\n",
    "* takes a mn for now => working on making it faster "
   ]
  },
  {
   "cell_type": "code",
   "execution_count": 16,
   "metadata": {},
   "outputs": [
    {
     "name": "stdout",
     "output_type": "stream",
     "text": [
      "Submitted query:\n",
      "   PREFIX bmc: <https://bbp.epfl.ch/ontologies/core/bmc/>\n",
      "   PREFIX bmo: <https://bbp.epfl.ch/ontologies/core/bmo/>\n",
      "   PREFIX commonshapes: <https://neuroshapes.org/commons/>\n",
      "   PREFIX datashapes: <https://neuroshapes.org/dash/>\n",
      "   PREFIX dc: <http://purl.org/dc/elements/1.1/>\n",
      "   PREFIX dcat: <http://www.w3.org/ns/dcat#>\n",
      "   PREFIX dcterms: <http://purl.org/dc/terms/>\n",
      "   PREFIX mba: <http://api.brain-map.org/api/v2/data/Structure/>\n",
      "   PREFIX nsg: <https://neuroshapes.org/>\n",
      "   PREFIX nxv: <https://bluebrain.github.io/nexus/vocabulary/>\n",
      "   PREFIX oa: <http://www.w3.org/ns/oa#>\n",
      "   PREFIX obo: <http://purl.obolibrary.org/obo/>\n",
      "   PREFIX owl: <http://www.w3.org/2002/07/owl#>\n",
      "   PREFIX prov: <http://www.w3.org/ns/prov#>\n",
      "   PREFIX rdf: <http://www.w3.org/1999/02/22-rdf-syntax-ns#>\n",
      "   PREFIX rdfs: <http://www.w3.org/2000/01/rdf-schema#>\n",
      "   PREFIX schema: <http://schema.org/>\n",
      "   PREFIX sh: <http://www.w3.org/ns/shacl#>\n",
      "   PREFIX shsh: <http://www.w3.org/ns/shacl-shacl#>\n",
      "   PREFIX skos: <http://www.w3.org/2004/02/skos/core#>\n",
      "   PREFIX vann: <http://purl.org/vocab/vann/>\n",
      "   PREFIX void: <http://rdfs.org/ns/void#>\n",
      "   PREFIX xml: <http://www.w3.org/XML/1998/namespace/>\n",
      "   PREFIX xsd: <http://www.w3.org/2001/XMLSchema#>\n",
      "   PREFIX : <https://bbp.epfl.ch/ontologies/core/bmo/>\n",
      "   SELECT ?id ?_constrainedBy ?_createdAt ?_createdBy ?_deprecated ?_incoming ?_outgoing ?_project ?_rev ?_schemaProject ?_self ?_updatedAt ?_updatedBy WHERE { Graph ?g {?id rdf:type schema:ScholarlyArticle;\n",
      "    <https://bluebrain.github.io/nexus/vocabulary/constrainedBy> ?_constrainedBy;\n",
      "    <https://bluebrain.github.io/nexus/vocabulary/createdAt> ?_createdAt;\n",
      "    <https://bluebrain.github.io/nexus/vocabulary/createdBy> ?_createdBy;\n",
      "    <https://bluebrain.github.io/nexus/vocabulary/deprecated> ?_deprecated;\n",
      "    <https://bluebrain.github.io/nexus/vocabulary/incoming> ?_incoming;\n",
      "    <https://bluebrain.github.io/nexus/vocabulary/outgoing> ?_outgoing;\n",
      "    <https://bluebrain.github.io/nexus/vocabulary/project> ?_project;\n",
      "    <https://bluebrain.github.io/nexus/vocabulary/rev> ?_rev;\n",
      "    <https://bluebrain.github.io/nexus/vocabulary/schemaProject> ?_schemaProject;\n",
      "    <https://bluebrain.github.io/nexus/vocabulary/self> ?_self;\n",
      "    <https://bluebrain.github.io/nexus/vocabulary/updatedAt> ?_updatedAt;\n",
      "    <https://bluebrain.github.io/nexus/vocabulary/updatedBy> ?_updatedBy . \n",
      "    Filter (?_deprecated = 'false'^^xsd:boolean)\n",
      "   Filter (?_project = <https://staging.nise.bbp.epfl.ch/nexus/v1/projects/bbp/neuroelectro>)}}  LIMIT 2\n",
      "\n"
     ]
    }
   ],
   "source": [
    "filters = {\"type\":\"ScholarlyArticle\"}\n",
    "#map=True, use_cache=True, # download=True\n",
    "resources = forge.search(filters, db_source=\"NeuroElectro\", limit=2, debug=True) \n",
    "# Add function for checking datsource health => reqsuire health url from db\n"
   ]
  },
  {
   "cell_type": "code",
   "execution_count": 17,
   "metadata": {},
   "outputs": [
    {
     "data": {
      "text/plain": [
       "2"
      ]
     },
     "execution_count": 17,
     "metadata": {},
     "output_type": "execute_result"
    }
   ],
   "source": [
    "len(resources)"
   ]
  },
  {
   "cell_type": "code",
   "execution_count": 18,
   "metadata": {},
   "outputs": [
    {
     "name": "stdout",
     "output_type": "stream",
     "text": [
      "{\n",
      "    context: https://bbp.neuroshapes.org\n",
      "    id: https://bbp.epfl.ch/neurosciencegraph/data/scholarlyarticles/91941\n",
      "    type:\n",
      "    [\n",
      "        Entity\n",
      "        ScholarlyArticle\n",
      "    ]\n",
      "    abstract: Neurons in the medial septal/diagonal band complex (MS/DB) in vivo exhibit rhythmic burst-firing activity that is phase-locked with the hippocampal theta rhythm. The aim was to assess the morphology of local axon collaterals of electrophysiologically identified MS/DB neurons using intracellular recording and biocytin injection in vitro. Cells were classified according to previous criteria into slow-firing, fast-spiking, regular-spiking, and burst-firing neurons; previous work has suggested that the slow-firing neurons are cholinergic and that the other types are GABAergic. A novel finding was the existence of two types of burst-firing neuron. Type I burst-firing neurons had significantly longer duration after hyperpolarisation potentials when held at -60 mV, and at -75 mV, type I neurons exhibited a low-threshold spike with more rapid activation and inactivation kinetics than those of type II neurons. We have, also for the first time, described the main features of the local axon collaterals of the five neuron types. All filled neurons possessed a main axon that gave forth 1-12 local primary axon collaterals. All electrophysiological types, except for the type I burst-firing neuron, had a main axon that coursed toward the fornix. Myelination of the main axon was a prominent feature of all but the slow-firing neurons. Branching of the primary axon collaterals of the fast-spiking and type I burst-firing neurons was more extensive than that of the other cell types, with those of the slow-firing neurons exhibiting the least branching. All cell types possessed axon collaterals of the en passant type, and some in addition had twiglike or basketlike axon terminals. All cell types made synapses on distal dendrites; a proportion of the fast-spiking and burst-firing cells in addition had basketlike terminals that made synaptic contacts on proximal dendrites and on somata. Two morphological types of somata were postsynaptic to the basket cells: large (20-30-microm) oval cells with dark cytoplasm, and large oval cells with paler cytoplasm, often with an apical dendrite. The presence of lamellar bodies in the large dark neurons suggests that they may be cholinergic neurons, because previous work has localised these structures in some neurons that stain for choline acetyltransferase. Our work suggests therefore that there may be GABAergic neurons in the MS/DB that form basket synaptic contacts on at least two types of target cell, possibly cholinergic and GABAergic neurons, which means that the basket cells could play a key role in the generation of rhythmic activity in the MS/DB.\n",
      "    author:\n",
      "    [\n",
      "        {\n",
      "            type: Person\n",
      "            familyName: Henderson\n",
      "            givenName: Z\n",
      "        }\n",
      "        {\n",
      "            type: Person\n",
      "            familyName: Morris\n",
      "            givenName: N P\n",
      "        }\n",
      "        {\n",
      "            type: Person\n",
      "            familyName: Grimwood\n",
      "            givenName: P\n",
      "        }\n",
      "        {\n",
      "            type: Person\n",
      "            familyName: Fiddler\n",
      "            givenName: G\n",
      "        }\n",
      "        {\n",
      "            type: Person\n",
      "            familyName: Yang\n",
      "            givenName: H W\n",
      "        }\n",
      "        {\n",
      "            type: Person\n",
      "            familyName: Appenteng\n",
      "            givenName: K\n",
      "        }\n",
      "    ]\n",
      "    datePublished: 2001-2-12\n",
      "    identifier:\n",
      "    [\n",
      "        {\n",
      "            propertyID: PMID\n",
      "            value: 11169477\n",
      "        }\n",
      "        {\n",
      "            propertyID: doi\n",
      "            value: 10.1002/1096-9861(20010212)430:3<410::aid-cne1040>3.0.co;2-i\n",
      "        }\n",
      "    ]\n",
      "    isPartOf:\n",
      "    {\n",
      "        type: Periodical\n",
      "        issn: 0021-9967\n",
      "        name: The Journal of comparative neurology\n",
      "    }\n",
      "    name: article_91941\n",
      "    sameAs: http%3A%2F%2Fonlinelibrary.wiley.com%2Fdoi%2F10.1002%2F1096-9861%2820010212%29430%3A3%3C410%3A%3AAID-CNE1040%3E3.0.CO%3B2-I%2Fabstract%3Bjsessionid%3D1C9F6EE828E8DCFCF6E6F5CEA0D5DE57.f01t03\n",
      "    title: Morphology of local axon collaterals of electrophysiologically characterised neurons in the rat medial septal/ diagonal band complex.\n",
      "    url: http%3A%2F%2Fonlinelibrary.wiley.com%2Fdoi%2F10.1002%2F1096-9861%2820010212%29430%3A3%3C410%3A%3AAID-CNE1040%3E3.0.CO%3B2-I%2Fabstract%3Bjsessionid%3D1C9F6EE828E8DCFCF6E6F5CEA0D5DE57.f01t03\n",
      "}\n"
     ]
    }
   ],
   "source": [
    "print(resources[0])"
   ]
  },
  {
   "cell_type": "code",
   "execution_count": 19,
   "metadata": {},
   "outputs": [],
   "source": [
    "uquery = \"\"\"\n",
    "PREFIX up: <http://purl.uniprot.org/core/>\n",
    "SELECT ?protein\n",
    "WHERE {\n",
    "  ?protein a up:Protein ;\n",
    "  up:reviewed true.\n",
    "}\n",
    "\"\"\""
   ]
  },
  {
   "cell_type": "code",
   "execution_count": 20,
   "metadata": {},
   "outputs": [
    {
     "name": "stdout",
     "output_type": "stream",
     "text": [
      "Submitted query:\n",
      "   \n",
      "   PREFIX up: <http://purl.uniprot.org/core/>\n",
      "   SELECT ?protein\n",
      "   WHERE {\n",
      "     ?protein a up:Protein ;\n",
      "     up:reviewed true.\n",
      "   }\n",
      "     LIMIT 10\n",
      "\n"
     ]
    }
   ],
   "source": [
    "uresources = forge.sparql(query=uquery, db_source='UniProt', limit=10, debug=True)"
   ]
  },
  {
   "cell_type": "code",
   "execution_count": 21,
   "metadata": {},
   "outputs": [
    {
     "data": {
      "text/plain": [
       "10"
      ]
     },
     "execution_count": 21,
     "metadata": {},
     "output_type": "execute_result"
    }
   ],
   "source": [
    "len(uresources)"
   ]
  },
  {
   "cell_type": "code",
   "execution_count": 22,
   "metadata": {},
   "outputs": [
    {
     "data": {
      "text/plain": [
       "Resource(_last_action=None, _validated=False, _synchronized=False, _store_metadata=None, _inner_sync=False, protein='http://purl.uniprot.org/uniprot/A0B137')"
      ]
     },
     "execution_count": 22,
     "metadata": {},
     "output_type": "execute_result"
    }
   ],
   "source": [
    "uresources[0]"
   ]
  },
  {
   "cell_type": "markdown",
   "metadata": {},
   "source": [
    "## Use Filters to search"
   ]
  },
  {
   "cell_type": "code",
   "execution_count": 23,
   "metadata": {},
   "outputs": [],
   "source": [
    "from kgforge.core.wrappings.paths import Filter, FilterOperator"
   ]
  },
  {
   "cell_type": "code",
   "execution_count": 24,
   "metadata": {},
   "outputs": [
    {
     "name": "stdout",
     "output_type": "stream",
     "text": [
      "Submitted query:\n",
      "   PREFIX up: <http://purl.uniprot.org/core/>\n",
      "   PREFIX owl: <http://www.w3.org/2002/07/owl#>\n",
      "   PREFIX owl2xml: <http://www.w3.org/2006/12/owl2-xml#>\n",
      "   PREFIX swrlb: <http://www.w3.org/2003/11/swrlb#>\n",
      "   PREFIX protege: <http://protege.stanford.edu/plugins/owl/protege#>\n",
      "   PREFIX swrl: <http://www.w3.org/2003/11/swrl#>\n",
      "   PREFIX xsd: <http://www.w3.org/2001/XMLSchema#>\n",
      "   PREFIX skos: <http://www.w3.org/2004/02/skos/core#>\n",
      "   PREFIX rdfs: <http://www.w3.org/2000/01/rdf-schema#>\n",
      "   PREFIX dc11: <http://purl.org/dc/terms/>\n",
      "   PREFIX rdf: <http://www.w3.org/1999/02/22-rdf-syntax-ns#>\n",
      "   PREFIX foaf: <http://xmlns.com/foaf/0.1/>\n",
      "   SELECT ?id WHERE {?id rdf:type up:Protein;\n",
      "    up:reviewed ?v1 . \n",
      "    FILTER(?v1 = 'true'^^xsd:boolean)\n",
      "   }  LIMIT 10\n",
      "\n"
     ]
    }
   ],
   "source": [
    "\n",
    "proteins = forge.search({'type': 'Protein', 'up:reviewed': True}, db_source='UniProt', limit=10, debug=True)"
   ]
  },
  {
   "cell_type": "code",
   "execution_count": 25,
   "metadata": {},
   "outputs": [
    {
     "data": {
      "text/plain": [
       "Resource(_last_action=None, _validated=False, _synchronized=False, _store_metadata=None, id='http://purl.uniprot.org/uniprot/A0B137', _inner_sync=False)"
      ]
     },
     "execution_count": 25,
     "metadata": {},
     "output_type": "execute_result"
    }
   ],
   "source": [
    "proteins[0]"
   ]
  },
  {
   "cell_type": "markdown",
   "metadata": {},
   "source": [
    "# Map resources"
   ]
  },
  {
   "cell_type": "code",
   "execution_count": 26,
   "metadata": {},
   "outputs": [],
   "source": [
    "uniprot = sources['UniProt']"
   ]
  },
  {
   "cell_type": "code",
   "execution_count": 27,
   "metadata": {},
   "outputs": [],
   "source": [
    "complete_query = \"\"\"\n",
    "PREFIX up: <http://purl.uniprot.org/core/>\n",
    "SELECT ?id ?gene ?label ?subject ?gene_label\n",
    "WHERE {\n",
    "  ?id a up:Protein ;\n",
    "  up:reviewed true ;\n",
    "  up:encodedBy ?gene ;\n",
    "  up:recommendedName / up:fullName ?label ;\n",
    "  up:organism / up:scientificName ?subject .\n",
    "  ?gene skos:prefLabel ?gene_label . \n",
    "}\n",
    "\"\"\""
   ]
  },
  {
   "cell_type": "code",
   "execution_count": 28,
   "metadata": {},
   "outputs": [],
   "source": [
    "raw_proteins = uniprot.sparql(complete_query)"
   ]
  },
  {
   "cell_type": "code",
   "execution_count": 29,
   "metadata": {},
   "outputs": [],
   "source": [
    "new_resource = uniprot.map(raw_proteins[0], 'Protein')"
   ]
  },
  {
   "cell_type": "code",
   "execution_count": 30,
   "metadata": {},
   "outputs": [
    {
     "name": "stdout",
     "output_type": "stream",
     "text": [
      "[\n",
      "    {\n",
      "        \"@context\": \"https://bbp.neuroshapes.org\",\n",
      "        \"@id\": \"https://bbp.epfl.ch/neurosciencegraph/data/proteins/P0DJN9\",\n",
      "        \"@type\": [\n",
      "            \"Entity\",\n",
      "            \"Protein\"\n",
      "        ],\n",
      "        \"encodedBy\": {\n",
      "            \"@id\": \"http://purl.uniprot.org/uniprot/P0DJN9#gene-MD5A00DD99270221B359AB0AE338E423668\",\n",
      "            \"label\": \"acsF\"\n",
      "        },\n",
      "        \"identifier\": {\n",
      "            \"propertyID\": \"UniProtKB\",\n",
      "            \"value\": \"P0DJN9\"\n",
      "        },\n",
      "        \"name\": \"Protein P0DJN9 from UniProtKB\",\n",
      "        \"label\": \"Aerobic magnesium-protoporphyrin IX monomethyl ester [oxidative] cyclase\",\n",
      "        \"subject\": {\n",
      "            \"label\": \"Rubrivivax gelatinosus\"\n",
      "        }\n",
      "    }\n",
      "]\n"
     ]
    }
   ],
   "source": [
    "\n",
    "print(json.dumps(forge.as_jsonld(new_resource), indent=4))"
   ]
  },
  {
   "cell_type": "markdown",
   "metadata": {},
   "source": [
    "### same result could be obtain from a dictionary and a DictionaryMapping instance"
   ]
  },
  {
   "cell_type": "code",
   "execution_count": 31,
   "metadata": {},
   "outputs": [
    {
     "name": "stdout",
     "output_type": "stream",
     "text": [
      "[\n",
      "    {\n",
      "        \"@context\": \"https://bbp.neuroshapes.org\",\n",
      "        \"@id\": \"https://bbp.epfl.ch/neurosciencegraph/data/proteins/P0DJN9\",\n",
      "        \"@type\": [\n",
      "            \"Entity\",\n",
      "            \"Protein\"\n",
      "        ],\n",
      "        \"encodedBy\": {\n",
      "            \"@id\": \"http://purl.uniprot.org/uniprot/P0DJN9#gene-MD5A00DD99270221B359AB0AE338E423668\",\n",
      "            \"label\": \"acsF\"\n",
      "        },\n",
      "        \"identifier\": {\n",
      "            \"propertyID\": \"UniProtKB\",\n",
      "            \"value\": \"P0DJN9\"\n",
      "        },\n",
      "        \"name\": \"Protein P0DJN9 from UniProtKB\",\n",
      "        \"label\": \"Aerobic magnesium-protoporphyrin IX monomethyl ester [oxidative] cyclase\",\n",
      "        \"subject\": {\n",
      "            \"label\": \"Rubrivivax gelatinosus\"\n",
      "        }\n",
      "    }\n",
      "]\n"
     ]
    }
   ],
   "source": [
    "dict_resource = forge.as_json(raw_proteins[0])\n",
    "mapping = DictionaryMapping.load(\"../../database-sources/UniProt/mappings/DictionaryMapping/Protein.hjson\")\n",
    "print(json.dumps(forge.as_jsonld(uniprot.map(dict_resource, mapping)), indent=4))"
   ]
  },
  {
   "cell_type": "markdown",
   "metadata": {},
   "source": [
    "## Query the NeuroMorpho WebService"
   ]
  },
  {
   "cell_type": "markdown",
   "metadata": {},
   "source": []
  },
  {
   "cell_type": "code",
   "execution_count": 32,
   "metadata": {},
   "outputs": [],
   "source": [
    "neuromorpho = sources['NeuroMorpho']"
   ]
  },
  {
   "cell_type": "code",
   "execution_count": 33,
   "metadata": {},
   "outputs": [],
   "source": [
    "nmo_filters = {\"species\": \"rat,mouse,human\", \"response_loc\": [\"_embedded\", \"neuronResources\"]}"
   ]
  },
  {
   "cell_type": "code",
   "execution_count": 34,
   "metadata": {},
   "outputs": [
    {
     "name": "stderr",
     "output_type": "stream",
     "text": [
      "/opt/miniconda3/envs/kgforge/lib/python3.7/site-packages/urllib3/connectionpool.py:1052: InsecureRequestWarning: Unverified HTTPS request is being made to host 'neuromorpho.org'. Adding certificate verification is strongly advised. See: https://urllib3.readthedocs.io/en/1.26.x/advanced-usage.html#ssl-warnings\n",
      "  InsecureRequestWarning,\n"
     ]
    }
   ],
   "source": [
    "nmo_resources = forge.search(nmo_filters, db_source='NeuroMorpho')"
   ]
  },
  {
   "cell_type": "code",
   "execution_count": 35,
   "metadata": {},
   "outputs": [],
   "source": [
    "import uuid"
   ]
  },
  {
   "cell_type": "code",
   "execution_count": 36,
   "metadata": {},
   "outputs": [],
   "source": [
    "new_morphology = neuromorpho.map(nmo_resources[0], 'NeuronMorphology')"
   ]
  },
  {
   "cell_type": "code",
   "execution_count": 37,
   "metadata": {},
   "outputs": [
    {
     "name": "stdout",
     "output_type": "stream",
     "text": [
      "[\n",
      "    {\n",
      "        \"@context\": \"https://bbp.neuroshapes.org\",\n",
      "        \"@type\": [\n",
      "            \"Dataset\",\n",
      "            \"NeuronMorphology\"\n",
      "        ],\n",
      "        \"@id\": \"https://bbp.epfl.ch/neurosciencegraph/data/neuronmorphologies/neuromorpho/000000001\",\n",
      "        \"brainLocation\": {\n",
      "            \"@type\": \"Class\",\n",
      "            \"@id\": \"http://purl.obolibrary.org/obo/UBERON_0001950\",\n",
      "            \"label\": \"neocortex\",\n",
      "            \"subClassOf\": \"prov:Entity\",\n",
      "            \"isDefinedBy\": \"http://bbp.epfl.ch/neurosciencegraph/ontologies/mtypes\"\n",
      "        },\n",
      "        \"contribution\": {\n",
      "            \"@type\": \"Contribution\",\n",
      "            \"agent\": {\n",
      "                \"@type\": \"Organization\",\n",
      "                \"label\": \"George Mason University\"\n",
      "            }\n",
      "        },\n",
      "        \"identifier\": 1,\n",
      "        \"archive\": \"Wearne_Hof\",\n",
      "        \"name\": \"cnic_001\",\n",
      "        \"generation\": {\n",
      "            \"@type\": \"Generation\",\n",
      "            \"activity\": {\n",
      "                \"@type\": \"nsg:NeuronMorphologyReconstruction\",\n",
      "                \"hadProtocol\": {}\n",
      "            }\n",
      "        },\n",
      "        \"subject\": {\n",
      "            \"@type\": \"Subject\",\n",
      "            \"species\": {\n",
      "                \"label\": \"monkey\"\n",
      "            },\n",
      "            \"strain\": {\n",
      "                \"@type\": \"Class\",\n",
      "                \"@id\": \"http://purl.obolibrary.org/obo/NCBITaxon_9544\",\n",
      "                \"label\": \"Macaca mulatta\",\n",
      "                \"subClassOf\": \"obo:NCBITaxon_9443\"\n",
      "            }\n",
      "        },\n",
      "        \"license\": {\n",
      "            \"@type\": \"License\",\n",
      "            \"@id\": \"https://neuromorpho.org\"\n",
      "        },\n",
      "        \"objectOfStudy\": {\n",
      "            \"@type\": \"ObjectOfStudy\",\n",
      "            \"@id\": \"http://bbp.epfl.ch/neurosciencegraph/taxonomies/objectsofstudy/singlecells\",\n",
      "            \"label\": \"Single Cell\"\n",
      "        },\n",
      "        \"note\": \"When originally released, this reconstruction had been incompletely processed, and this issue was fixed in release 6.1 (May 2015). The pre-6.1 version of the processed file is available for download <a href=\\\" dableFiles/previous/v6.1/wearne_hof/cnic_001.CNG.swc \\\">here</a>.\",\n",
      "        \"dateCreated\": \"2005-12-31\",\n",
      "        \"dateUploaded\": \"2006-08-01\",\n",
      "        \"description\": \"Morphology of cnic_001 obtained from NeuroMorpho API.\",\n",
      "        \"stain\": \"lucifer yellow\"\n",
      "    }\n",
      "]\n"
     ]
    }
   ],
   "source": [
    "print(json.dumps(forge.as_jsonld(new_morphology), indent=4))"
   ]
  },
  {
   "cell_type": "code",
   "execution_count": 38,
   "metadata": {},
   "outputs": [],
   "source": [
    "format_file = neuromorpho.service.files_download['endpoint'] + \"/{}/Source-Version/{}.swc\""
   ]
  },
  {
   "cell_type": "code",
   "execution_count": 39,
   "metadata": {},
   "outputs": [],
   "source": [
    "example_url = format_file.format(new_morphology[0].archive.lower(), new_morphology[0].name)"
   ]
  },
  {
   "cell_type": "code",
   "execution_count": 40,
   "metadata": {},
   "outputs": [],
   "source": [
    "file_path = f\"./downloaded/{example_url.split('/')[-1]}\""
   ]
  },
  {
   "cell_type": "code",
   "execution_count": 41,
   "metadata": {},
   "outputs": [
    {
     "name": "stderr",
     "output_type": "stream",
     "text": [
      "/opt/miniconda3/envs/kgforge/lib/python3.7/site-packages/urllib3/connectionpool.py:1052: InsecureRequestWarning: Unverified HTTPS request is being made to host 'neuromorpho.org'. Adding certificate verification is strongly advised. See: https://urllib3.readthedocs.io/en/1.26.x/advanced-usage.html#ssl-warnings\n",
      "  InsecureRequestWarning,\n"
     ]
    }
   ],
   "source": [
    "neuromorpho._download_one(example_url, file_path)"
   ]
  },
  {
   "cell_type": "code",
   "execution_count": 42,
   "metadata": {},
   "outputs": [],
   "source": [
    "neuromorpho.attach_file(new_morphology[0], file_path)"
   ]
  },
  {
   "cell_type": "code",
   "execution_count": 51,
   "metadata": {},
   "outputs": [
    {
     "name": "stdout",
     "output_type": "stream",
     "text": [
      "{\n",
      "    \"@context\": \"https://bbp.neuroshapes.org\",\n",
      "    \"@type\": [\n",
      "        \"Dataset\",\n",
      "        \"NeuronMorphology\"\n",
      "    ],\n",
      "    \"@id\": \"https://bbp.epfl.ch/neurosciencegraph/data/neuronmorphologies/neuromorpho/000000001\",\n",
      "    \"brainLocation\": {\n",
      "        \"@type\": \"Class\",\n",
      "        \"@id\": \"http://purl.obolibrary.org/obo/UBERON_0001950\",\n",
      "        \"label\": \"neocortex\",\n",
      "        \"subClassOf\": \"prov:Entity\",\n",
      "        \"isDefinedBy\": \"http://bbp.epfl.ch/neurosciencegraph/ontologies/mtypes\"\n",
      "    },\n",
      "    \"contribution\": {\n",
      "        \"@type\": \"Contribution\",\n",
      "        \"agent\": {\n",
      "            \"@type\": \"Organization\",\n",
      "            \"label\": \"George Mason University\"\n",
      "        }\n",
      "    },\n",
      "    \"identifier\": 1,\n",
      "    \"archive\": \"Wearne_Hof\",\n",
      "    \"name\": \"cnic_001\",\n",
      "    \"generation\": {\n",
      "        \"@type\": \"Generation\",\n",
      "        \"activity\": {\n",
      "            \"@type\": \"nsg:NeuronMorphologyReconstruction\",\n",
      "            \"hadProtocol\": {}\n",
      "        }\n",
      "    },\n",
      "    \"subject\": {\n",
      "        \"@type\": \"Subject\",\n",
      "        \"species\": {\n",
      "            \"label\": \"monkey\"\n",
      "        },\n",
      "        \"strain\": {\n",
      "            \"@type\": \"Class\",\n",
      "            \"@id\": \"http://purl.obolibrary.org/obo/NCBITaxon_9544\",\n",
      "            \"label\": \"Macaca mulatta\",\n",
      "            \"subClassOf\": \"obo:NCBITaxon_9443\"\n",
      "        }\n",
      "    },\n",
      "    \"license\": {\n",
      "        \"@type\": \"License\",\n",
      "        \"@id\": \"https://neuromorpho.org\"\n",
      "    },\n",
      "    \"objectOfStudy\": {\n",
      "        \"@type\": \"ObjectOfStudy\",\n",
      "        \"@id\": \"http://bbp.epfl.ch/neurosciencegraph/taxonomies/objectsofstudy/singlecells\",\n",
      "        \"label\": \"Single Cell\"\n",
      "    },\n",
      "    \"note\": \"When originally released, this reconstruction had been incompletely processed, and this issue was fixed in release 6.1 (May 2015). The pre-6.1 version of the processed file is available for download <a href=\\\" dableFiles/previous/v6.1/wearne_hof/cnic_001.CNG.swc \\\">here</a>.\",\n",
      "    \"dateCreated\": \"2005-12-31\",\n",
      "    \"dateUploaded\": \"2006-08-01\",\n",
      "    \"description\": \"Morphology of cnic_001 obtained from NeuroMorpho API.\",\n",
      "    \"stain\": \"lucifer yellow\",\n",
      "    \"distribution\": {\n",
      "        \"@type\": \"DataDownload\",\n",
      "        \"contentSize\": {\n",
      "            \"unitCode\": \"bytes\",\n",
      "            \"value\": 65525\n",
      "        },\n",
      "        \"digest\": {\n",
      "            \"algorithm\": \"SHA-256\",\n",
      "            \"value\": \"d7b494c3b2bc244c445283594dc1d4061d60013fe6abb4e9e302dd9798324e03\"\n",
      "        },\n",
      "        \"encodingFormat\": \"application/octet-stream\",\n",
      "        \"name\": \"cnic_001.swc\",\n",
      "        \"contentUrl\": \"https://staging.nise.bbp.epfl.ch/nexus/v1/files/dke/kgforge/9ee023ae-d0d5-4e6a-83b9-94f954cd970e\",\n",
      "        \"atLocation\": {\n",
      "            \"@type\": \"Location\",\n",
      "            \"store\": {\n",
      "                \"@id\": \"https://bbp.epfl.ch/dke/kgforge/gpfsStore\",\n",
      "                \"@type\": \"RemoteDiskStorage\",\n",
      "                \"_rev\": 1\n",
      "            },\n",
      "            \"location\": \"file:///gpfs/bbp.cscs.ch/data/project/nexustest/nexus-staging/dke/kgforge/8/e/6/8/b/a/6/c/cnic_001.swc\"\n",
      "        }\n",
      "    }\n",
      "}\n"
     ]
    }
   ],
   "source": [
    "print(json.dumps(forge.as_jsonld(new_morphology[0]), indent=4))"
   ]
  },
  {
   "cell_type": "code",
   "execution_count": 49,
   "metadata": {},
   "outputs": [
    {
     "name": "stdout",
     "output_type": "stream",
     "text": [
      "<action> _validate_one\n",
      "<succeeded> False\n",
      "<error> ReportableRuntimeError: Evaluation path too deep!\n",
      "<NodeShape https://neuroshapes.org/dash/neuronmorphology/shapes/NeuronMorphologyShape>-><AndConstraintComponent on <NodeShape https://neuroshapes.org/dash/neuronmorphology/shapes/NeuronMorphologyShape>>-><NodeShape ub1bL20C14>-><NodeConstraintComponent on <NodeShape ub1bL20C14>>-><NodeShape https://neuroshapes.org/commons/minds/shapes/MINDSShape>-><AndConstraintComponent on <NodeShape https://neuroshapes.org/commons/minds/shapes/MINDSShape>>-><NodeShape ub2bL25C14>-><NodeConstraintComponent on <NodeShape ub2bL25C14>>-><NodeShape https://neuroshapes.org/commons/entity/shapes/EntityShape>-><PropertyConstraintComponent on <NodeShape https://neuroshapes.org/commons/entity/shapes/EntityShape>>-><PropertyShape Distribution>-><NodeConstraintComponent on <PropertyShape Distribution>>-><NodeShape https://neuroshapes.org/commons/distribution/shapes/DistributionShape>-><AndConstraintComponent on <NodeShape https://neuroshapes.org/commons/distribution/shapes/DistributionShape>>-><NodeShape ub10bL24C64>-><PropertyConstraintComponent on <NodeShape ub10bL24C64>>-><PropertyShape ub10bL28C21>-><NodeConstraintComponent on <PropertyShape ub10bL28C21>>-><NodeShape https://neuroshapes.org/commons/quantitativevalue/shapes/PositiveQuantitativeValueShape>-><AndConstraintComponent on <NodeShape https://neuroshapes.org/commons/quantitativevalue/shapes/PositiveQuantitativeValueShape>>-><NodeShape ub11bL24C14>-><NodeConstraintComponent on <NodeShape ub11bL24C14>>-><NodeShape https://neuroshapes.org/commons/quantitativevalue/shapes/QuantitativeValueShape>-><PropertyConstraintComponent on <NodeShape https://neuroshapes.org/commons/quantitativevalue/shapes/QuantitativeValueShape>>-><PropertyShape Unit>-><OrConstraintComponent on <PropertyShape Unit>>-><NodeShape ub13bL26C13>-><NodeConstraintComponent on <NodeShape ub13bL26C13>>-><NodeShape https://neuroshapes.org/commons/labeledontologyentity/shapes/LabeledOntologyEntityShape>-><PropertyConstraintComponent on <NodeShape https://neuroshapes.org/commons/labeledontologyentity/shapes/LabeledOntologyEntityShape>>\n"
     ]
    }
   ],
   "source": [
    "forge.validate(new_morphology[0], type_=\"NeuronMorphology\")"
   ]
  },
  {
   "cell_type": "code",
   "execution_count": 50,
   "metadata": {},
   "outputs": [
    {
     "name": "stdout",
     "output_type": "stream",
     "text": [
      "<action> _register_one\n",
      "<succeeded> False\n",
      "<error> RegistrationError: 400 Client Error: Bad Request for url: https://staging.nise.bbp.epfl.ch/nexus/v1/resources/dke/kgforge/datashapes%3Aneuronmorphology\n"
     ]
    }
   ],
   "source": [
    "forge.register(new_morphology[0], schema_id=\"datashapes:neuronmorphology\")"
   ]
  }
 ],
 "metadata": {
  "kernelspec": {
   "display_name": "Python 3.7.13 ('kgforge')",
   "language": "python",
   "name": "python3"
  },
  "language_info": {
   "codemirror_mode": {
    "name": "ipython",
    "version": 3
   },
   "file_extension": ".py",
   "mimetype": "text/x-python",
   "name": "python",
   "nbconvert_exporter": "python",
   "pygments_lexer": "ipython3",
   "version": "3.7.13"
  },
  "vscode": {
   "interpreter": {
    "hash": "9ac393a5ddd595f2c78ea58b15bf8d269850a4413729cbea5c5fae9013762763"
   }
  }
 },
 "nbformat": 4,
 "nbformat_minor": 4
}

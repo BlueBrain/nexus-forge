{
 "cells": [
  {
   "cell_type": "markdown",
   "metadata": {},
   "source": [
    "# Installation"
   ]
  },
  {
   "cell_type": "markdown",
   "metadata": {},
   "source": [
    "Note: If you are on Binder, you don't need to execute the following command."
   ]
  },
  {
   "cell_type": "code",
   "execution_count": null,
   "metadata": {
    "scrolled": true
   },
   "outputs": [],
   "source": [
    "!pip install nexusforge"
   ]
  },
  {
   "cell_type": "markdown",
   "metadata": {},
   "source": [
    "# Configuration"
   ]
  },
  {
   "cell_type": "code",
   "execution_count": null,
   "metadata": {},
   "outputs": [],
   "source": [
    "config = dict()"
   ]
  },
  {
   "cell_type": "markdown",
   "metadata": {},
   "source": [
    "## Model"
   ]
  },
  {
   "cell_type": "markdown",
   "metadata": {},
   "source": [
    "Choose one of the following models:"
   ]
  },
  {
   "cell_type": "markdown",
   "metadata": {},
   "source": [
    "### DemoModel"
   ]
  },
  {
   "cell_type": "code",
   "execution_count": null,
   "metadata": {},
   "outputs": [],
   "source": [
    "config['Model'] = {\n",
    "    \"name\": \"DemoModel\",\n",
    "    \"origin\": \"directory\",\n",
    "    \"source\": \"../../../tests/data/demo-model/\",\n",
    "}"
   ]
  },
  {
   "cell_type": "markdown",
   "metadata": {},
   "source": [
    "### Neuroshapes"
   ]
  },
  {
   "cell_type": "markdown",
   "metadata": {},
   "source": [
    "SHACL-based model: https://github.com/INCF/neuroshapes."
   ]
  },
  {
   "cell_type": "markdown",
   "metadata": {},
   "source": [
    "#### from a directory"
   ]
  },
  {
   "cell_type": "code",
   "execution_count": null,
   "metadata": {},
   "outputs": [],
   "source": [
    "neuroshapes_path = \"../../models/neuroshapes\""
   ]
  },
  {
   "cell_type": "code",
   "execution_count": null,
   "metadata": {},
   "outputs": [],
   "source": [
    "! rm -Rf $neuroshapes_path"
   ]
  },
  {
   "cell_type": "code",
   "execution_count": null,
   "metadata": {},
   "outputs": [],
   "source": [
    "! git clone https://github.com/INCF/neuroshapes.git $neuroshapes_path"
   ]
  },
  {
   "cell_type": "code",
   "execution_count": null,
   "metadata": {},
   "outputs": [],
   "source": [
    "! cp -R $neuroshapes_path/shapes/neurosciencegraph/datashapes/core/dataset $neuroshapes_path/shapes/neurosciencegraph/commons/\n",
    "! cp -R $neuroshapes_path/shapes/neurosciencegraph/datashapes/core/activity $neuroshapes_path/shapes/neurosciencegraph/commons/\n",
    "! cp -R $neuroshapes_path/shapes/neurosciencegraph/datashapes/core/entity $neuroshapes_path/shapes/neurosciencegraph/commons/\n",
    "! cp -R $neuroshapes_path/shapes/neurosciencegraph/datashapes/core/ontology $neuroshapes_path/shapes/neurosciencegraph/commons/\n",
    "! cp -R $neuroshapes_path/shapes/neurosciencegraph/datashapes/core/person $neuroshapes_path/shapes/neurosciencegraph/commons/"
   ]
  },
  {
   "cell_type": "code",
   "execution_count": null,
   "metadata": {},
   "outputs": [],
   "source": [
    "config['Model'] = {\n",
    "    \"name\": \"RdfModel\",\n",
    "    \"origin\": \"directory\",\n",
    "    \"source\": f\"{neuroshapes_path}/shapes/neurosciencegraph/commons/\",\n",
    "    \"context\": {\n",
    "        \"iri\": \"../../models/neuroshapes_context.json\",\n",
    "    },\n",
    "}"
   ]
  },
  {
   "cell_type": "markdown",
   "metadata": {},
   "source": [
    "#### from an URL"
   ]
  },
  {
   "cell_type": "markdown",
   "metadata": {},
   "source": [
    "This feature is not yet implemented."
   ]
  },
  {
   "cell_type": "markdown",
   "metadata": {},
   "source": [
    "#### from a store"
   ]
  },
  {
   "cell_type": "markdown",
   "metadata": {},
   "source": [
    "##### BlueBrainNexus"
   ]
  },
  {
   "cell_type": "code",
   "execution_count": null,
   "metadata": {},
   "outputs": [],
   "source": [
    "config['Model'] = {\n",
    "    \"name\": \"RdfModel\",\n",
    "    \"origin\": \"store\",\n",
    "    \"source\": \"BlueBrainNexus\",\n",
    "    # bucket: <when 'origin' is 'store', a Store bucket>\n",
    "    \"context\": {\n",
    "        \"iri\": \"https://bbp.neuroshapes.org\",\n",
    "        \"bucket\": \"neurosciencegraph/datamodels\",\n",
    "    },\n",
    "}"
   ]
  },
  {
   "cell_type": "markdown",
   "metadata": {},
   "source": [
    "## Store"
   ]
  },
  {
   "cell_type": "markdown",
   "metadata": {},
   "source": [
    "Choose one of the following stores:"
   ]
  },
  {
   "cell_type": "markdown",
   "metadata": {},
   "source": [
    "### DemoStore"
   ]
  },
  {
   "cell_type": "code",
   "execution_count": null,
   "metadata": {},
   "outputs": [],
   "source": [
    "config[\"Store\"] = {\n",
    "    \"name\": \"DemoStore\",\n",
    "    \"versioned_id_template\": \"{x.id}?_version={x._store_metadata.version}\",\n",
    "}"
   ]
  },
  {
   "cell_type": "markdown",
   "metadata": {},
   "source": [
    "### BlueBrainNexus"
   ]
  },
  {
   "cell_type": "markdown",
   "metadata": {},
   "source": [
    "The [Nexus web application](https://sandbox.bluebrainnexus.io/web) can be used to login and get a token.\n",
    "\n",
    "- Step 1: From the opened web page, click on the login button on the right corner and follow the instructions.\n",
    "\n",
    "![login-ui](https://raw.githubusercontent.com/BlueBrain/nexus-forge/master/examples/notebooks/use-cases/login-ui.png)\n",
    "\n",
    "- Step 2: At the end you’ll see a token button on the right corner. Click on it to copy the token.\n",
    "\n",
    "![login-ui](https://raw.githubusercontent.com/BlueBrain/nexus-forge/master/examples/notebooks/use-cases/copy-token.png)\n"
   ]
  },
  {
   "cell_type": "code",
   "execution_count": null,
   "metadata": {},
   "outputs": [],
   "source": [
    "import getpass\n",
    "\n",
    "token = getpass.getpass()"
   ]
  },
  {
   "cell_type": "markdown",
   "metadata": {},
   "source": [
    "Create a project:"
   ]
  },
  {
   "cell_type": "code",
   "execution_count": null,
   "metadata": {},
   "outputs": [],
   "source": [
    "import nexussdk as nexus\n",
    "\n",
    "org =\"tutorialnexus\"\n",
    "project =\"myProject\"\n",
    "description = \"My project description\"\n",
    "endpoint = \"https://sandbox.bluebrainnexus.io/v1\"\n",
    "\n",
    "nexus.config.set_environment(endpoint)\n",
    "nexus.config.set_token(token)\n",
    "\n",
    "nexus.projects.create(org_label=org,project_label=project, description=description)"
   ]
  },
  {
   "cell_type": "code",
   "execution_count": null,
   "metadata": {},
   "outputs": [],
   "source": [
    "config[\"Store\"] = {\n",
    "    \"name\": \"BlueBrainNexus\",\n",
    "    \"endpoint\": endpoint,\n",
    "    \"searchendpoints\":{\n",
    "        \"sparql\":{\n",
    "            \"endpoint\":\"https://bluebrain.github.io/nexus/vocabulary/defaultSparqlIndex\"\n",
    "        }\n",
    "    },\n",
    "    \"bucket\": f\"{org}/{project}\",\n",
    "    \"token\": token,\n",
    "    \"versioned_id_template\": \"{x.id}?rev={x._store_metadata._rev}\",\n",
    "    \"file_resource_mapping\": \"../../configurations/nexus-store/file-to-resource-mapping.hjson\",\n",
    "}"
   ]
  },
  {
   "cell_type": "markdown",
   "metadata": {},
   "source": [
    "## Resolvers"
   ]
  },
  {
   "cell_type": "markdown",
   "metadata": {},
   "source": [
    "### from a directory"
   ]
  },
  {
   "cell_type": "code",
   "execution_count": null,
   "metadata": {},
   "outputs": [],
   "source": [
    "config[\"Resolvers\"] = {\n",
    "    \"terms\": [\n",
    "        {\n",
    "            \"resolver\": \"DemoResolver\",\n",
    "            \"origin\": \"directory\",\n",
    "            \"source\": \"../../../tests/data/demo-resolver/\",\n",
    "            \"targets\": [\n",
    "                {\n",
    "                    \"identifier\": \"sex\",\n",
    "                    \"bucket\": \"sex.json\"\n",
    "                }\n",
    "            ],\n",
    "            \"result_resource_mapping\": \"../../configurations/demo-resolver/term-to-resource-mapping.hjson\"\n",
    "        }\n",
    "    ],\n",
    "    \"entities\": [\n",
    "        {\n",
    "            \"resolver\": \"DemoResolver\",\n",
    "            \"origin\": \"directory\",\n",
    "            \"source\": \"../../../tests/data/demo-resolver/\",\n",
    "            \"targets\": [\n",
    "                {\n",
    "                    \"identifier\": \"agents\",\n",
    "                    \"bucket\": \"agents.json\"\n",
    "                }\n",
    "            ],\n",
    "            \"result_resource_mapping\": \"../../configurations/demo-resolver/entity-to-resource-mapping.hjson\"\n",
    "        }\n",
    "    ]\n",
    "}"
   ]
  },
  {
   "cell_type": "markdown",
   "metadata": {},
   "source": [
    "### from a web service"
   ]
  },
  {
   "cell_type": "markdown",
   "metadata": {},
   "source": [
    "This feature is not yet implemented."
   ]
  },
  {
   "cell_type": "markdown",
   "metadata": {},
   "source": [
    "### from a store"
   ]
  },
  {
   "cell_type": "code",
   "execution_count": null,
   "metadata": {},
   "outputs": [],
   "source": [
    "config[\"Resolvers\"] = {\n",
    "    \"ontology\": [\n",
    "        {\n",
    "            \"resolver\": \"OntologyResolver\",\n",
    "            \"origin\": \"store\",\n",
    "            \"source\": \"BlueBrainNexus\",\n",
    "            \"targets\": [\n",
    "                {\n",
    "                    \"identifier\": \"terms\",\n",
    "                    \"bucket\": \"neurosciencegraph/datamodels\"\n",
    "                }\n",
    "            ],\n",
    "            \"result_resource_mapping\": \"../../configurations/nexus-resolver/term-to-resource-mapping.hjson\"\n",
    "        }\n",
    "    ],\n",
    "    \"agent\": [\n",
    "        {\n",
    "            \"resolver\": \"AgentResolver\",\n",
    "            \"origin\": \"store\",\n",
    "            \"source\": \"BlueBrainNexus\",\n",
    "            \"targets\": [\n",
    "                {\n",
    "                    \"identifier\": \"agents\",\n",
    "                    \"bucket\": \"bbp/agents\"\n",
    "                }\n",
    "            ],\n",
    "            \"result_resource_mapping\": \"../../configurations/nexus-resolver/agent-to-resource-mapping.hjson\"\n",
    "        }\n",
    "    ]\n",
    "}"
   ]
  },
  {
   "cell_type": "markdown",
   "metadata": {},
   "source": [
    "## Formatters"
   ]
  },
  {
   "cell_type": "code",
   "execution_count": null,
   "metadata": {},
   "outputs": [],
   "source": [
    "config[\"Formatters\"] = {\n",
    "    \"identifier\": \"https://kg.example.ch/{}/{}\",\n",
    "}"
   ]
  },
  {
   "cell_type": "markdown",
   "metadata": {},
   "source": [
    "## Finalization"
   ]
  },
  {
   "cell_type": "code",
   "execution_count": null,
   "metadata": {},
   "outputs": [],
   "source": [
    "import yaml"
   ]
  },
  {
   "cell_type": "code",
   "execution_count": null,
   "metadata": {},
   "outputs": [],
   "source": [
    "with open(\"../../configurations/forge.yml\", \"w\") as f:\n",
    "    yaml.dump(config, f)"
   ]
  },
  {
   "cell_type": "markdown",
   "metadata": {},
   "source": [
    "You are all set up!"
   ]
  }
 ],
 "metadata": {
  "kernelspec": {
   "display_name": "Python 3",
   "language": "python",
   "name": "python3"
  },
  "language_info": {
   "codemirror_mode": {
    "name": "ipython",
    "version": 3
   },
   "file_extension": ".py",
   "mimetype": "text/x-python",
   "name": "python",
   "nbconvert_exporter": "python",
   "pygments_lexer": "ipython3",
   "version": "3.6.10"
  }
 },
 "nbformat": 4,
 "nbformat_minor": 4
}

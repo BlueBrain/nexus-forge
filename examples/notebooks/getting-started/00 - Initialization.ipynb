{
 "cells": [
  {
   "cell_type": "markdown",
   "metadata": {},
   "source": [
    "# Installation"
   ]
  },
  {
   "cell_type": "markdown",
   "metadata": {},
   "source": [
    "Note: If you are on Binder, you don't need to execute the following command."
   ]
  },
  {
   "cell_type": "code",
   "execution_count": 1,
   "metadata": {
    "scrolled": true
   },
   "outputs": [
    {
     "name": "stdout",
     "output_type": "stream",
     "text": [
      "Requirement already satisfied: nexusforge[linking_sklearn] in /opt/miniconda3/envs/kgforge/lib/python3.7/site-packages (0.7.2.dev4+gb65fcf3.d20220720)\n",
      "Requirement already satisfied: nest-asyncio>=1.5.1 in /opt/miniconda3/envs/kgforge/lib/python3.7/site-packages (from nexusforge[linking_sklearn]) (1.5.1)\n",
      "Requirement already satisfied: nexus-sdk in /opt/miniconda3/envs/kgforge/lib/python3.7/site-packages (from nexusforge[linking_sklearn]) (0.3.2)\n",
      "Requirement already satisfied: pyLD in /opt/miniconda3/envs/kgforge/lib/python3.7/site-packages (from nexusforge[linking_sklearn]) (2.0.3)\n",
      "Requirement already satisfied: pyshacl==v0.17.2 in /opt/miniconda3/envs/kgforge/lib/python3.7/site-packages (from nexusforge[linking_sklearn]) (0.17.2)\n",
      "Requirement already satisfied: owlrl>=5.2.3 in /opt/miniconda3/envs/kgforge/lib/python3.7/site-packages (from nexusforge[linking_sklearn]) (5.2.3)\n",
      "Requirement already satisfied: pyyaml in /opt/miniconda3/envs/kgforge/lib/python3.7/site-packages (from nexusforge[linking_sklearn]) (6.0)\n",
      "Requirement already satisfied: rdflib>=6.0.0 in /opt/miniconda3/envs/kgforge/lib/python3.7/site-packages (from nexusforge[linking_sklearn]) (6.1.1)\n",
      "Requirement already satisfied: elasticsearch-dsl==7.4.0 in /opt/miniconda3/envs/kgforge/lib/python3.7/site-packages (from nexusforge[linking_sklearn]) (7.4.0)\n",
      "Requirement already satisfied: aiohttp in /opt/miniconda3/envs/kgforge/lib/python3.7/site-packages (from nexusforge[linking_sklearn]) (3.7.4)\n",
      "Requirement already satisfied: pandas in /opt/miniconda3/envs/kgforge/lib/python3.7/site-packages (from nexusforge[linking_sklearn]) (1.3.5)\n",
      "Requirement already satisfied: hjson in /opt/miniconda3/envs/kgforge/lib/python3.7/site-packages (from nexusforge[linking_sklearn]) (3.0.2)\n",
      "Requirement already satisfied: pyparsing>=2.0.2 in /opt/miniconda3/envs/kgforge/lib/python3.7/site-packages (from nexusforge[linking_sklearn]) (3.0.9)\n",
      "Requirement already satisfied: sklearn in /opt/miniconda3/envs/kgforge/lib/python3.7/site-packages (from nexusforge[linking_sklearn]) (0.0)\n",
      "Requirement already satisfied: six in /opt/miniconda3/envs/kgforge/lib/python3.7/site-packages (from elasticsearch-dsl==7.4.0->nexusforge[linking_sklearn]) (1.16.0)\n",
      "Requirement already satisfied: python-dateutil in /opt/miniconda3/envs/kgforge/lib/python3.7/site-packages (from elasticsearch-dsl==7.4.0->nexusforge[linking_sklearn]) (2.8.2)\n",
      "Requirement already satisfied: elasticsearch<8.0.0,>=7.0.0 in /opt/miniconda3/envs/kgforge/lib/python3.7/site-packages (from elasticsearch-dsl==7.4.0->nexusforge[linking_sklearn]) (7.17.4)\n",
      "Requirement already satisfied: prettytable<3.0.0,>=2.2.1 in /opt/miniconda3/envs/kgforge/lib/python3.7/site-packages (from pyshacl==v0.17.2->nexusforge[linking_sklearn]) (2.5.0)\n",
      "Requirement already satisfied: isodate in /opt/miniconda3/envs/kgforge/lib/python3.7/site-packages (from rdflib>=6.0.0->nexusforge[linking_sklearn]) (0.6.1)\n",
      "Requirement already satisfied: importlib-metadata in /opt/miniconda3/envs/kgforge/lib/python3.7/site-packages (from rdflib>=6.0.0->nexusforge[linking_sklearn]) (4.12.0)\n",
      "Requirement already satisfied: setuptools in /opt/miniconda3/envs/kgforge/lib/python3.7/site-packages (from rdflib>=6.0.0->nexusforge[linking_sklearn]) (61.2.0)\n",
      "Requirement already satisfied: multidict<7.0,>=4.5 in /opt/miniconda3/envs/kgforge/lib/python3.7/site-packages (from aiohttp->nexusforge[linking_sklearn]) (6.0.2)\n",
      "Requirement already satisfied: attrs>=17.3.0 in /opt/miniconda3/envs/kgforge/lib/python3.7/site-packages (from aiohttp->nexusforge[linking_sklearn]) (21.4.0)\n",
      "Requirement already satisfied: typing-extensions>=3.6.5 in /opt/miniconda3/envs/kgforge/lib/python3.7/site-packages (from aiohttp->nexusforge[linking_sklearn]) (4.3.0)\n",
      "Requirement already satisfied: async-timeout<4.0,>=3.0 in /opt/miniconda3/envs/kgforge/lib/python3.7/site-packages (from aiohttp->nexusforge[linking_sklearn]) (3.0.1)\n",
      "Requirement already satisfied: chardet<4.0,>=2.0 in /opt/miniconda3/envs/kgforge/lib/python3.7/site-packages (from aiohttp->nexusforge[linking_sklearn]) (3.0.4)\n",
      "Requirement already satisfied: yarl<2.0,>=1.0 in /opt/miniconda3/envs/kgforge/lib/python3.7/site-packages (from aiohttp->nexusforge[linking_sklearn]) (1.7.2)\n",
      "Requirement already satisfied: sseclient in /opt/miniconda3/envs/kgforge/lib/python3.7/site-packages (from nexus-sdk->nexusforge[linking_sklearn]) (0.0.27)\n",
      "Requirement already satisfied: puremagic in /opt/miniconda3/envs/kgforge/lib/python3.7/site-packages (from nexus-sdk->nexusforge[linking_sklearn]) (1.14)\n",
      "Requirement already satisfied: requests in /opt/miniconda3/envs/kgforge/lib/python3.7/site-packages (from nexus-sdk->nexusforge[linking_sklearn]) (2.28.1)\n",
      "Requirement already satisfied: numpy>=1.17.3 in /opt/miniconda3/envs/kgforge/lib/python3.7/site-packages (from pandas->nexusforge[linking_sklearn]) (1.21.6)\n",
      "Requirement already satisfied: pytz>=2017.3 in /opt/miniconda3/envs/kgforge/lib/python3.7/site-packages (from pandas->nexusforge[linking_sklearn]) (2022.1)\n",
      "Requirement already satisfied: frozendict in /opt/miniconda3/envs/kgforge/lib/python3.7/site-packages (from pyLD->nexusforge[linking_sklearn]) (2.3.2)\n",
      "Requirement already satisfied: cachetools in /opt/miniconda3/envs/kgforge/lib/python3.7/site-packages (from pyLD->nexusforge[linking_sklearn]) (4.2.4)\n",
      "Requirement already satisfied: lxml in /opt/miniconda3/envs/kgforge/lib/python3.7/site-packages (from pyLD->nexusforge[linking_sklearn]) (4.9.1)\n",
      "Requirement already satisfied: scikit-learn in /opt/miniconda3/envs/kgforge/lib/python3.7/site-packages (from sklearn->nexusforge[linking_sklearn]) (1.0.2)\n",
      "Requirement already satisfied: urllib3<2,>=1.21.1 in /opt/miniconda3/envs/kgforge/lib/python3.7/site-packages (from elasticsearch<8.0.0,>=7.0.0->elasticsearch-dsl==7.4.0->nexusforge[linking_sklearn]) (1.26.10)\n",
      "Requirement already satisfied: certifi in /opt/miniconda3/envs/kgforge/lib/python3.7/site-packages (from elasticsearch<8.0.0,>=7.0.0->elasticsearch-dsl==7.4.0->nexusforge[linking_sklearn]) (2022.6.15)\n",
      "Requirement already satisfied: wcwidth in /opt/miniconda3/envs/kgforge/lib/python3.7/site-packages (from prettytable<3.0.0,>=2.2.1->pyshacl==v0.17.2->nexusforge[linking_sklearn]) (0.2.5)\n",
      "Requirement already satisfied: idna>=2.0 in /opt/miniconda3/envs/kgforge/lib/python3.7/site-packages (from yarl<2.0,>=1.0->aiohttp->nexusforge[linking_sklearn]) (3.3)\n",
      "Requirement already satisfied: zipp>=0.5 in /opt/miniconda3/envs/kgforge/lib/python3.7/site-packages (from importlib-metadata->rdflib>=6.0.0->nexusforge[linking_sklearn]) (3.8.1)\n",
      "Requirement already satisfied: charset-normalizer<3,>=2 in /opt/miniconda3/envs/kgforge/lib/python3.7/site-packages (from requests->nexus-sdk->nexusforge[linking_sklearn]) (2.1.0)\n",
      "Requirement already satisfied: threadpoolctl>=2.0.0 in /opt/miniconda3/envs/kgforge/lib/python3.7/site-packages (from scikit-learn->sklearn->nexusforge[linking_sklearn]) (3.1.0)\n",
      "Requirement already satisfied: scipy>=1.1.0 in /opt/miniconda3/envs/kgforge/lib/python3.7/site-packages (from scikit-learn->sklearn->nexusforge[linking_sklearn]) (1.7.3)\n",
      "Requirement already satisfied: joblib>=0.11 in /opt/miniconda3/envs/kgforge/lib/python3.7/site-packages (from scikit-learn->sklearn->nexusforge[linking_sklearn]) (1.1.0)\n"
     ]
    }
   ],
   "source": [
    "!pip install nexusforge[linking_sklearn]"
   ]
  },
  {
   "cell_type": "markdown",
   "metadata": {},
   "source": [
    "# Configuration\n",
    "\n",
    "This notebook presents a set of configuation options to set up when creating a knowledge graph forge session. Refer to the [Nexus Forge docs](https://nexus-forge.readthedocs.io/en/latest/interaction.html#forge) to learn more about all the possible configuration options."
   ]
  },
  {
   "cell_type": "code",
   "execution_count": 2,
   "metadata": {},
   "outputs": [],
   "source": [
    "config = dict()"
   ]
  },
  {
   "cell_type": "markdown",
   "metadata": {
    "toc-hr-collapsed": true,
    "toc-nb-collapsed": true
   },
   "source": [
    "## Configure for Demo\n",
    "This configuration is for testing Nexus Forge features without using or deploying a persistent store. Not all features are  accessible with the demo configuration. The demo configuration is therefore not recommendeded for production use. "
   ]
  },
  {
   "cell_type": "markdown",
   "metadata": {},
   "source": [
    "### Model"
   ]
  },
  {
   "cell_type": "code",
   "execution_count": 3,
   "metadata": {},
   "outputs": [],
   "source": [
    "config['Model'] = {\n",
    "    \"name\": \"DemoModel\",\n",
    "    \"origin\": \"directory\",\n",
    "    \"source\": \"../../../tests/data/demo-model/\",\n",
    "}"
   ]
  },
  {
   "cell_type": "markdown",
   "metadata": {},
   "source": [
    "### Store"
   ]
  },
  {
   "cell_type": "code",
   "execution_count": 4,
   "metadata": {},
   "outputs": [],
   "source": [
    "config[\"Store\"] = {\n",
    "    \"name\": \"DemoStore\",\n",
    "    \"versioned_id_template\": \"{x.id}?_version={x._store_metadata.version}\"\n",
    "}"
   ]
  },
  {
   "cell_type": "markdown",
   "metadata": {},
   "source": [
    "### Resolvers"
   ]
  },
  {
   "cell_type": "markdown",
   "metadata": {},
   "source": [
    "#### sourced from a directory"
   ]
  },
  {
   "cell_type": "code",
   "execution_count": 5,
   "metadata": {},
   "outputs": [],
   "source": [
    "config[\"Resolvers\"] = {\n",
    "    \"terms\": [\n",
    "        {\n",
    "            \"resolver\": \"DemoResolver\",\n",
    "            \"origin\": \"directory\",\n",
    "            \"source\": \"../../../tests/data/demo-resolver/\",\n",
    "            \"targets\": [\n",
    "                {\n",
    "                    \"identifier\": \"sexontology\",\n",
    "                    \"bucket\": \"sex.json\"\n",
    "                }\n",
    "            ],\n",
    "            \"result_resource_mapping\": \"../../configurations/demo-resolver/term-to-resource-mapping.hjson\"\n",
    "        }\n",
    "    ],\n",
    "    \"entities\": [\n",
    "        {\n",
    "            \"resolver\": \"DemoResolver\",\n",
    "            \"origin\": \"directory\",\n",
    "            \"source\": \"../../../tests/data/demo-resolver/\",\n",
    "            \"targets\": [\n",
    "                {\n",
    "                    \"identifier\": \"agents\",\n",
    "                    \"bucket\": \"agents.json\"\n",
    "                }\n",
    "            ],\n",
    "            \"result_resource_mapping\": \"../../configurations/demo-resolver/entity-to-resource-mapping.hjson\"\n",
    "        }\n",
    "    ],\n",
    "    \"schemaorg\": [\n",
    "        {\n",
    "            \"resolver\": \"EntityLinkerSkLearn from kgentitylinkingsklearn\",\n",
    "            \"origin\": \"directory\",\n",
    "            \"source\": \"../../data/\",\n",
    "            \"targets\": [\n",
    "                {\n",
    "                    \"identifier\": \"terms\",\n",
    "                    \"bucket\": \"tfidfvectorizer_model_schemaorg_linking\"\n",
    "                }\n",
    "            ],\n",
    "            \"result_resource_mapping\": \"../../configurations/entitylinking-resolver/entitylinking-mapper.hjson\"\n",
    "        }\n",
    "    ]\n",
    "}"
   ]
  },
  {
   "cell_type": "markdown",
   "metadata": {},
   "source": [
    "## Configure Nexus Forge to use with [Blue Brain Nexus Delta](https://bluebrainnexus.io/docs/delta/api/current/index.html) as a Store"
   ]
  },
  {
   "cell_type": "markdown",
   "metadata": {},
   "source": [
    "### Create a project to work with in the BlueBrainNexus sandbox"
   ]
  },
  {
   "cell_type": "markdown",
   "metadata": {},
   "source": [
    "#### Get a token"
   ]
  },
  {
   "cell_type": "markdown",
   "metadata": {},
   "source": [
    "The [Nexus sandbox application](https://sandbox.bluebrainnexus.io/web) can be used to login and get a token.\n",
    "\n",
    "- Step 1: From the opened web page, click on the login button on the right corner and follow the instructions.\n",
    "\n",
    "![login-ui](https://raw.githubusercontent.com/BlueBrain/nexus-forge/master/examples/notebooks/use-cases/login-ui.png)\n",
    "\n",
    "- Step 2: At the end you’ll see a token button on the right corner. Click on it to copy the token.\n",
    "\n",
    "![login-ui](https://raw.githubusercontent.com/BlueBrain/nexus-forge/master/examples/notebooks/use-cases/copy-token.png)\n"
   ]
  },
  {
   "cell_type": "code",
   "execution_count": 6,
   "metadata": {},
   "outputs": [],
   "source": [
    "import getpass\n",
    "token = getpass.getpass()"
   ]
  },
  {
   "cell_type": "markdown",
   "metadata": {},
   "source": [
    "#### Set a project name"
   ]
  },
  {
   "cell_type": "code",
   "execution_count": 7,
   "metadata": {},
   "outputs": [],
   "source": [
    "endpoint = \"https://sandbox.bluebrainnexus.io/v1\"\n",
    "org =\"github-users\"\n",
    "project =\"mfsy\"  # Provide here the automatically created project name corresponding to your Github login when you logged in the Nexus sandbox instance."
   ]
  },
  {
   "cell_type": "markdown",
   "metadata": {},
   "source": [
    "### Model"
   ]
  },
  {
   "cell_type": "markdown",
   "metadata": {},
   "source": [
    "#### RDFModel"
   ]
  },
  {
   "cell_type": "markdown",
   "metadata": {},
   "source": [
    "This model supports the W3C SHACL schema language. Let use examples of SHACL schemas from https://github.com/INCF/neuroshapes. SHACL schemas can be loaded either from a directory or from a store. "
   ]
  },
  {
   "cell_type": "markdown",
   "metadata": {},
   "source": [
    "##### sourced from BlueBrainNexus store"
   ]
  },
  {
   "cell_type": "code",
   "execution_count": 8,
   "metadata": {},
   "outputs": [],
   "source": [
    "shacl_schema_bucket = \"neurosciencegraph/datamodels\""
   ]
  },
  {
   "cell_type": "code",
   "execution_count": 9,
   "metadata": {},
   "outputs": [],
   "source": [
    "config['Model'] = {\n",
    "    \"name\": \"RdfModel\",\n",
    "    \"origin\": \"store\",\n",
    "    \"source\": \"BlueBrainNexus\",\n",
    "    \"context\": {\n",
    "        \"iri\": \"https://bbp.neuroshapes.org\",\n",
    "        \"bucket\": shacl_schema_bucket\n",
    "    }\n",
    "}"
   ]
  },
  {
   "cell_type": "markdown",
   "metadata": {},
   "source": [
    "For the following tutorials please keep the following Model configuration:"
   ]
  },
  {
   "cell_type": "markdown",
   "metadata": {},
   "source": [
    "##### sourced from a directory"
   ]
  },
  {
   "cell_type": "code",
   "execution_count": 10,
   "metadata": {},
   "outputs": [],
   "source": [
    "neuroshapes_path = \"../../models/neuroshapes\""
   ]
  },
  {
   "cell_type": "code",
   "execution_count": 11,
   "metadata": {},
   "outputs": [],
   "source": [
    "! rm -Rf $neuroshapes_path"
   ]
  },
  {
   "cell_type": "code",
   "execution_count": 12,
   "metadata": {},
   "outputs": [
    {
     "name": "stdout",
     "output_type": "stream",
     "text": [
      "Cloning into '../../models/neuroshapes'...\n",
      "remote: Enumerating objects: 8445, done.\u001b[K\n",
      "remote: Counting objects: 100% (30/30), done.\u001b[K\n",
      "remote: Compressing objects: 100% (27/27), done.\u001b[K\n",
      "remote: Total 8445 (delta 11), reused 7 (delta 2), pack-reused 8415\u001b[K\n",
      "Receiving objects: 100% (8445/8445), 7.59 MiB | 17.78 MiB/s, done.\n",
      "Resolving deltas: 100% (4199/4199), done.\n"
     ]
    }
   ],
   "source": [
    "! git clone https://github.com/INCF/neuroshapes.git $neuroshapes_path"
   ]
  },
  {
   "cell_type": "code",
   "execution_count": 13,
   "metadata": {},
   "outputs": [],
   "source": [
    "! cp -R $neuroshapes_path/shapes/neurosciencegraph/datashapes/core/dataset $neuroshapes_path/shapes/neurosciencegraph/commons/\n",
    "! cp -R $neuroshapes_path/shapes/neurosciencegraph/datashapes/core/activity $neuroshapes_path/shapes/neurosciencegraph/commons/\n",
    "! cp -R $neuroshapes_path/shapes/neurosciencegraph/datashapes/core/entity $neuroshapes_path/shapes/neurosciencegraph/commons/\n",
    "! cp -R $neuroshapes_path/shapes/neurosciencegraph/datashapes/core/ontology $neuroshapes_path/shapes/neurosciencegraph/commons/\n",
    "! cp -R $neuroshapes_path/shapes/neurosciencegraph/datashapes/core/person $neuroshapes_path/shapes/neurosciencegraph/commons/\n",
    "! cp -R $neuroshapes_path/shapes/neurosciencegraph/datashapes/core/contribution $neuroshapes_path/shapes/neurosciencegraph/commons/"
   ]
  },
  {
   "cell_type": "code",
   "execution_count": 14,
   "metadata": {},
   "outputs": [],
   "source": [
    "config['Model'] = {\n",
    "    \"name\": \"RdfModel\",\n",
    "    \"origin\": \"directory\",\n",
    "    \"source\": f\"{neuroshapes_path}/shapes/neurosciencegraph/commons/\",\n",
    "    \"context\": {\n",
    "        \"iri\": \"../../models/neuroshapes_context.json\"\n",
    "    },\n",
    "}"
   ]
  },
  {
   "cell_type": "markdown",
   "metadata": {},
   "source": [
    "### Store"
   ]
  },
  {
   "cell_type": "code",
   "execution_count": 15,
   "metadata": {},
   "outputs": [],
   "source": [
    "config[\"Store\"] = {\n",
    "    \"name\": \"BlueBrainNexus\",\n",
    "    \"endpoint\": endpoint,\n",
    "    \"searchendpoints\":{\n",
    "        \"sparql\":{\n",
    "            \"endpoint\":\"https://bluebrain.github.io/nexus/vocabulary/defaultSparqlIndex\"\n",
    "        },\n",
    "        \"elastic\":{\n",
    "            \"endpoint\":\"https://bluebrain.github.io/nexus/vocabulary/defaultElasticSearchIndex\"\n",
    "        }\n",
    "    },\n",
    "    \"bucket\": f\"{org}/{project}\",\n",
    "    \"token\": token,\n",
    "    \"vocabulary\":{\n",
    "        \"metadata\":{\n",
    "            \"iri\": \"https://bluebrain.github.io/nexus/contexts/metadata.json\",\n",
    "           \"local_iri\": \"https://bluebrainnexus.io/contexts/metadata.json\"\n",
    "        }, \n",
    "        \"namespace\": \"https://bluebrain.github.io/nexus/vocabulary/\",\n",
    "        \"deprecated_property\": \"https://bluebrain.github.io/nexus/vocabulary/deprecated\",\n",
    "        \"project_property\": \"https://bluebrain.github.io/nexus/vocabulary/project\"\n",
    "    },\n",
    "    \"max_connection\": 50,\n",
    "    \"versioned_id_template\": \"{x.id}?rev={x._store_metadata._rev}\",\n",
    "    \"file_resource_mapping\": \"../../configurations/nexus-store/file-to-resource-mapping.hjson\"\n",
    "}"
   ]
  },
  {
   "cell_type": "markdown",
   "metadata": {},
   "source": [
    "### Resolvers"
   ]
  },
  {
   "cell_type": "markdown",
   "metadata": {},
   "source": [
    "#### sourced from a store"
   ]
  },
  {
   "cell_type": "code",
   "execution_count": 16,
   "metadata": {},
   "outputs": [],
   "source": [
    "ontology_bucket = \"neurosciencegraph/datamodels\""
   ]
  },
  {
   "cell_type": "code",
   "execution_count": 17,
   "metadata": {},
   "outputs": [],
   "source": [
    "config[\"Resolvers\"] = {\n",
    "    \"terms\": [\n",
    "        {\n",
    "            \"resolver\": \"OntologyResolver\",\n",
    "            \"origin\": \"store\",\n",
    "            \"source\": \"BlueBrainNexus\",\n",
    "            \"targets\": [\n",
    "                {\n",
    "                    \"identifier\": \"sexontology\",\n",
    "                    \"bucket\": ontology_bucket\n",
    "                }\n",
    "            ],\n",
    "            \"result_resource_mapping\": \"../../configurations/nexus-resolver/term-to-resource-mapping.hjson\"\n",
    "        }\n",
    "    ],\n",
    "    \"entities\": [\n",
    "        {\n",
    "            \"resolver\": \"DemoResolver\",\n",
    "            \"origin\": \"directory\",\n",
    "            \"source\": \"../../../tests/data/demo-resolver/\",\n",
    "            \"targets\": [\n",
    "                {\n",
    "                    \"identifier\": \"agents\",\n",
    "                    \"bucket\": \"agents.json\"\n",
    "                }\n",
    "            ],\n",
    "            \"result_resource_mapping\": \"../../configurations/demo-resolver/entity-to-resource-mapping.hjson\"\n",
    "        }\n",
    "    ],\n",
    "    \"schemaorg\": [\n",
    "        {\n",
    "            \"resolver\": \"EntityLinkerSkLearn from kgentitylinkingsklearn\",\n",
    "            \"origin\": \"directory\",\n",
    "            \"source\": \"../../data/\",\n",
    "            \"targets\": [\n",
    "                {\n",
    "                    \"identifier\": \"terms\",\n",
    "                    \"bucket\": \"tfidfvectorizer_model_schemaorg_linking\"\n",
    "                }\n",
    "            ],\n",
    "            \"result_resource_mapping\": \"../../configurations/entitylinking-resolver/entitylinking-mapper.hjson\"\n",
    "        }\n",
    "    ]\n",
    "}"
   ]
  },
  {
   "cell_type": "markdown",
   "metadata": {},
   "source": [
    "#### sourced from a directory"
   ]
  },
  {
   "cell_type": "code",
   "execution_count": 18,
   "metadata": {},
   "outputs": [],
   "source": [
    "config[\"Resolvers\"] = {\n",
    "    \"terms\": [\n",
    "        {\n",
    "            \"resolver\": \"DemoResolver\",\n",
    "            \"origin\": \"directory\",\n",
    "            \"source\": \"../../../tests/data/demo-resolver/\",\n",
    "            \"targets\": [\n",
    "                {\n",
    "                    \"identifier\": \"sexontology\",\n",
    "                    \"bucket\": \"sex.json\"\n",
    "                }\n",
    "            ],\n",
    "            \"result_resource_mapping\": \"../../configurations/demo-resolver/term-to-resource-mapping.hjson\"\n",
    "        }\n",
    "    ],\n",
    "    \"entities\": [\n",
    "        {\n",
    "            \"resolver\": \"DemoResolver\",\n",
    "            \"origin\": \"directory\",\n",
    "            \"source\": \"../../../tests/data/demo-resolver/\",\n",
    "            \"targets\": [\n",
    "                {\n",
    "                    \"identifier\": \"agents\",\n",
    "                    \"bucket\": \"agents.json\"\n",
    "                }\n",
    "            ],\n",
    "            \"result_resource_mapping\": \"../../configurations/demo-resolver/entity-to-resource-mapping.hjson\"\n",
    "        }\n",
    "    ],\n",
    "    \"schemaorg\": [\n",
    "        {\n",
    "            \"resolver\": \"EntityLinkerSkLearn from kgentitylinkingsklearn\",\n",
    "            \"origin\": \"directory\",\n",
    "            \"source\": \"../../data/\",\n",
    "            \"targets\": [\n",
    "                {\n",
    "                    \"identifier\": \"terms\",\n",
    "                    \"bucket\": \"tfidfvectorizer_model_schemaorg_linking\"\n",
    "                }\n",
    "            ],\n",
    "            \"result_resource_mapping\": \"../../configurations/entitylinking-resolver/entitylinking-mapper.hjson\"\n",
    "        }\n",
    "    ]\n",
    "}"
   ]
  },
  {
   "cell_type": "markdown",
   "metadata": {},
   "source": [
    "## Configure formatters"
   ]
  },
  {
   "cell_type": "code",
   "execution_count": 19,
   "metadata": {},
   "outputs": [],
   "source": [
    "config[\"Formatters\"] = {\n",
    "    \"identifier\": \"https://kg.example.ch/{}/{}\",\n",
    "}"
   ]
  },
  {
   "cell_type": "markdown",
   "metadata": {},
   "source": [
    "## Save configuration"
   ]
  },
  {
   "cell_type": "code",
   "execution_count": 20,
   "metadata": {},
   "outputs": [],
   "source": [
    "import yaml"
   ]
  },
  {
   "cell_type": "code",
   "execution_count": 21,
   "metadata": {},
   "outputs": [],
   "source": [
    "with open(\"../../configurations/forge.yml\", \"w\") as f:\n",
    "    yaml.dump(config, f)"
   ]
  }
 ],
 "metadata": {
  "kernelspec": {
   "display_name": "Python 3 (ipykernel)",
   "language": "python",
   "name": "python3"
  },
  "language_info": {
   "codemirror_mode": {
    "name": "ipython",
    "version": 3
   },
   "file_extension": ".py",
   "mimetype": "text/x-python",
   "name": "python",
   "nbconvert_exporter": "python",
   "pygments_lexer": "ipython3",
   "version": "3.7.13"
  },
  "vscode": {
   "interpreter": {
    "hash": "9ac393a5ddd595f2c78ea58b15bf8d269850a4413729cbea5c5fae9013762763"
   }
  }
 },
 "nbformat": 4,
 "nbformat_minor": 4
}

{
 "cells": [
  {
   "cell_type": "markdown",
   "metadata": {
    "ExecuteTime": {
     "end_time": "2019-09-23T18:50:19.036357Z",
     "start_time": "2019-09-23T18:50:19.031896Z"
    }
   },
   "source": [
    "# Datasets\n",
    "\n",
    "A [Dataset](https://nexus-forge.readthedocs.io/en/latest/interaction.html#dataset) is a specialization of a [Resource](https://nexus-forge.readthedocs.io/en/latest/interaction.html#resource) that provides users with operations to handle files, record their provenance and describe them with metadata."
   ]
  },
  {
   "cell_type": "code",
   "execution_count": 1,
   "metadata": {
    "ExecuteTime": {
     "end_time": "2019-09-23T18:50:20.068658Z",
     "start_time": "2019-09-23T18:50:19.054054Z"
    }
   },
   "outputs": [],
   "source": [
    "from kgforge.core import KnowledgeGraphForge"
   ]
  },
  {
   "cell_type": "markdown",
   "metadata": {},
   "source": [
    "A configuration file is needed in order to create a KnowledgeGraphForge session. A configuration can be generated using the notebook [00-Initialization.ipynb](00%20-%20Initialization.ipynb).\n",
    "\n",
    "Note: DemoStore doesn't implement file operations yet. Use the BluBrainNexus store instead when creating a config file."
   ]
  },
  {
   "cell_type": "code",
   "execution_count": 2,
   "metadata": {},
   "outputs": [],
   "source": [
    "forge = KnowledgeGraphForge(\"../../configurations/forge.yml\")"
   ]
  },
  {
   "cell_type": "markdown",
   "metadata": {},
   "source": [
    "## Imports"
   ]
  },
  {
   "cell_type": "code",
   "execution_count": 3,
   "metadata": {},
   "outputs": [],
   "source": [
    "from kgforge.core import Resource"
   ]
  },
  {
   "cell_type": "code",
   "execution_count": 4,
   "metadata": {},
   "outputs": [],
   "source": [
    "from kgforge.specializations.resources import Dataset"
   ]
  },
  {
   "cell_type": "code",
   "execution_count": 5,
   "metadata": {},
   "outputs": [],
   "source": [
    "import pandas as pd"
   ]
  },
  {
   "cell_type": "markdown",
   "metadata": {},
   "source": [
    "## Creation with files added as parts"
   ]
  },
  {
   "cell_type": "code",
   "execution_count": 6,
   "metadata": {},
   "outputs": [
    {
     "name": "stdout",
     "output_type": "stream",
     "text": [
      "associations.tsv\n",
      "my_data.xwz\n",
      "my_data_derived.txt\n",
      "non_existing_person.jpg\n",
      "persons-with-id.csv\n",
      "persons.csv\n",
      "tfidfvectorizer_model_schemaorg_linking\n"
     ]
    }
   ],
   "source": [
    "! ls -p ../../data | egrep -v /$"
   ]
  },
  {
   "cell_type": "code",
   "execution_count": 7,
   "metadata": {},
   "outputs": [],
   "source": [
    "persons = Dataset(forge, name=\"Interesting Persons\")"
   ]
  },
  {
   "cell_type": "code",
   "execution_count": 8,
   "metadata": {},
   "outputs": [],
   "source": [
    "persons.add_files(\"../../data/persons.csv\")"
   ]
  },
  {
   "cell_type": "code",
   "execution_count": 9,
   "metadata": {},
   "outputs": [
    {
     "name": "stdout",
     "output_type": "stream",
     "text": [
      "<action> _register_one\n",
      "<succeeded> True\n"
     ]
    }
   ],
   "source": [
    "forge.register(persons)"
   ]
  },
  {
   "cell_type": "code",
   "execution_count": 10,
   "metadata": {
    "scrolled": true
   },
   "outputs": [
    {
     "data": {
      "text/plain": [
       "{'id': 'https://sandbox.bluebrainnexus.io/v1/resources/github-users/crisely09/_/d009f14a-874f-4230-a4ac-d55915c68652',\n",
       " 'type': 'Dataset',\n",
       " 'hasPart': {'distribution': {'type': 'DataDownload',\n",
       "   'atLocation': {'type': 'Location',\n",
       "    'store': {'id': 'https://bluebrain.github.io/nexus/vocabulary/diskStorageDefault',\n",
       "     'type': 'DiskStorage',\n",
       "     '_rev': 1}},\n",
       "   'contentSize': {'unitCode': 'bytes', 'value': 52},\n",
       "   'contentUrl': 'https://sandbox.bluebrainnexus.io/v1/files/github-users/crisely09/https%3A%2F%2Fsandbox.bluebrainnexus.io%2Fv1%2Fresources%2Fgithub-users%2Fcrisely09%2F_%2Ff1403394-4f78-42d9-adbb-65ae94202ddd',\n",
       "   'digest': {'algorithm': 'SHA-256',\n",
       "    'value': '1dacd765946963fda4949753659089c5f532714b418d30788bedddfec47a389f'},\n",
       "   'encodingFormat': 'text/csv',\n",
       "   'name': 'persons.csv'}},\n",
       " 'name': 'Interesting Persons'}"
      ]
     },
     "execution_count": 10,
     "metadata": {},
     "output_type": "execute_result"
    }
   ],
   "source": [
    "forge.as_json(persons)"
   ]
  },
  {
   "cell_type": "code",
   "execution_count": 11,
   "metadata": {},
   "outputs": [],
   "source": [
    "associations = Dataset(forge, name=\"Associations data\")"
   ]
  },
  {
   "cell_type": "code",
   "execution_count": 12,
   "metadata": {},
   "outputs": [],
   "source": [
    "associations.add_files(\"../../data/associations.tsv\")"
   ]
  },
  {
   "cell_type": "code",
   "execution_count": 13,
   "metadata": {},
   "outputs": [],
   "source": [
    "associations.add_derivation(persons)"
   ]
  },
  {
   "cell_type": "code",
   "execution_count": 14,
   "metadata": {},
   "outputs": [
    {
     "name": "stdout",
     "output_type": "stream",
     "text": [
      "<action> _register_one\n",
      "<succeeded> True\n"
     ]
    }
   ],
   "source": [
    "forge.register(associations)"
   ]
  },
  {
   "cell_type": "code",
   "execution_count": 15,
   "metadata": {
    "scrolled": true
   },
   "outputs": [
    {
     "data": {
      "text/plain": [
       "{'id': 'https://sandbox.bluebrainnexus.io/v1/resources/github-users/crisely09/_/3339e476-b501-4301-bb00-d1393eaf84d7',\n",
       " 'type': 'Dataset',\n",
       " 'derivation': {'type': 'Derivation',\n",
       "  'entity': {'id': 'https://sandbox.bluebrainnexus.io/v1/resources/github-users/crisely09/_/d009f14a-874f-4230-a4ac-d55915c68652?rev=1',\n",
       "   'type': 'Dataset',\n",
       "   'name': 'Interesting Persons'}},\n",
       " 'hasPart': {'distribution': {'type': 'DataDownload',\n",
       "   'atLocation': {'type': 'Location',\n",
       "    'store': {'id': 'https://bluebrain.github.io/nexus/vocabulary/diskStorageDefault',\n",
       "     'type': 'DiskStorage',\n",
       "     '_rev': 1}},\n",
       "   'contentSize': {'unitCode': 'bytes', 'value': 477},\n",
       "   'contentUrl': 'https://sandbox.bluebrainnexus.io/v1/files/github-users/crisely09/https%3A%2F%2Fsandbox.bluebrainnexus.io%2Fv1%2Fresources%2Fgithub-users%2Fcrisely09%2F_%2F8e004e65-b3d9-4bd3-b41b-d2fca9a93723',\n",
       "   'digest': {'algorithm': 'SHA-256',\n",
       "    'value': '789aa07948683fe036ac29811814a826b703b562f7d168eb70dee1fabde26859'},\n",
       "   'encodingFormat': 'text/tab-separated-values',\n",
       "   'name': 'associations.tsv'}},\n",
       " 'name': 'Associations data'}"
      ]
     },
     "execution_count": 15,
     "metadata": {},
     "output_type": "execute_result"
    }
   ],
   "source": [
    "forge.as_json(associations)"
   ]
  },
  {
   "cell_type": "code",
   "execution_count": 16,
   "metadata": {},
   "outputs": [],
   "source": [
    "# By default the files are downloaded in the current path (path=\".\"). The urls or the files to download can be collected from a different json path (by setting a value for \"follow\") and \n",
    "# the files downloaded to a different path (by setting a value for \"path\")\n",
    "# The argument overwrite: bool can be provided to decide whether to overwrite (True) existing files with the same name or\n",
    "# to create new ones (False) with their names suffixed with a timestamp.\n",
    "# A cross_bucket argument can be provided to download data from the configured bucket (cross_bucket=False - the default value) \n",
    "# or from a bucket different than the configured one (cross_bucket=True). The configured store should support crossing buckets for this to work.\n",
    "associations.download(source=\"parts\")"
   ]
  },
  {
   "cell_type": "code",
   "execution_count": 17,
   "metadata": {},
   "outputs": [],
   "source": [
    "# A specific path can be provided.\n",
    "associations.download(path=\"./downloaded/\", source=\"parts\")"
   ]
  },
  {
   "cell_type": "code",
   "execution_count": 18,
   "metadata": {},
   "outputs": [],
   "source": [
    "# A specific content type can be downloded.\n",
    "associations.download(path=\"./downloaded/\", source=\"parts\", content_type=\"text/tab-separated-values\")"
   ]
  },
  {
   "cell_type": "code",
   "execution_count": 19,
   "metadata": {},
   "outputs": [
    {
     "name": "stdout",
     "output_type": "stream",
     "text": [
      "total 1824\n",
      "-rw-r--r--  1 cgonzale  10067     477 Feb  2 10:09 associations.tsv\n",
      "-rw-r--r--  1 cgonzale  10067     477 Feb 12 14:57 associations.tsv.20240212145722\n",
      "-rw-r--r--  1 cgonzale  10067     477 Feb 12 14:57 associations.tsv.20240212145724\n",
      "-rw-r--r--  1 cgonzale  10067     477 Feb 12 14:59 associations.tsv.20240212145905\n",
      "-rw-r--r--  1 cgonzale  10067     477 Feb 12 19:00 associations.tsv.20240212190039\n",
      "-rw-r--r--  1 cgonzale  10067     477 Feb 16 15:11 associations.tsv.20240216151123\n",
      "-rw-r--r--  1 cgonzale  10067     477 May 21 13:21 associations.tsv.20240521132127\n",
      "-rw-r--r--  1 cgonzale  10067      16 Feb  2 10:09 my_data.xwz\n",
      "-rw-r--r--  1 cgonzale  10067      16 Feb 12 14:59 my_data.xwz.20240212145905\n",
      "-rw-r--r--  1 cgonzale  10067      16 Feb 12 19:00 my_data.xwz.20240212190039\n",
      "-rw-r--r--  1 cgonzale  10067      16 Feb 16 15:11 my_data.xwz.20240216151123\n",
      "-rw-r--r--  1 cgonzale  10067      24 Feb  2 10:09 my_data_derived.txt\n",
      "-rw-r--r--  1 cgonzale  10067      24 Feb 12 14:59 my_data_derived.txt.20240212145905\n",
      "-rw-r--r--  1 cgonzale  10067      24 Feb 12 19:00 my_data_derived.txt.20240212190039\n",
      "-rw-r--r--  1 cgonzale  10067      24 Feb 16 15:11 my_data_derived.txt.20240216151123\n",
      "-rw-r--r--  1 cgonzale  10067     126 Feb  2 10:09 persons-with-id.csv\n",
      "-rw-r--r--  1 cgonzale  10067     126 Feb 12 14:59 persons-with-id.csv.20240212145905\n",
      "-rw-r--r--  1 cgonzale  10067     126 Feb 12 19:00 persons-with-id.csv.20240212190039\n",
      "-rw-r--r--  1 cgonzale  10067     126 Feb 16 15:11 persons-with-id.csv.20240216151123\n",
      "-rw-r--r--  1 cgonzale  10067      52 Feb  2 10:09 persons.csv\n",
      "-rw-r--r--  1 cgonzale  10067      52 Feb 12 14:57 persons.csv.20240212145724\n",
      "-rw-r--r--  1 cgonzale  10067      52 Feb 12 14:59 persons.csv.20240212145905\n",
      "-rw-r--r--  1 cgonzale  10067      52 Feb 12 19:00 persons.csv.20240212190039\n",
      "-rw-r--r--  1 cgonzale  10067      52 Feb 16 15:11 persons.csv.20240216151123\n",
      "-rw-r--r--  1 cgonzale  10067  204848 Feb  2 10:09 tfidfvectorizer_model_schemaorg_linking\n",
      "-rw-r--r--  1 cgonzale  10067  204848 Feb 12 14:59 tfidfvectorizer_model_schemaorg_linking.20240212145905\n",
      "-rw-r--r--  1 cgonzale  10067  204848 Feb 12 19:00 tfidfvectorizer_model_schemaorg_linking.20240212190039\n",
      "-rw-r--r--  1 cgonzale  10067  204848 Feb 16 15:11 tfidfvectorizer_model_schemaorg_linking.20240216151123\n"
     ]
    }
   ],
   "source": [
    "! ls -l ./downloaded"
   ]
  },
  {
   "cell_type": "code",
   "execution_count": 20,
   "metadata": {},
   "outputs": [],
   "source": [
    "# ! rm -R ./downloaded/"
   ]
  },
  {
   "cell_type": "markdown",
   "metadata": {},
   "source": [
    "## Creation with files added as distribution"
   ]
  },
  {
   "cell_type": "code",
   "execution_count": 21,
   "metadata": {},
   "outputs": [],
   "source": [
    "persons = Dataset(forge, name=\"Interesting Persons\")"
   ]
  },
  {
   "cell_type": "code",
   "execution_count": 22,
   "metadata": {},
   "outputs": [],
   "source": [
    "persons.add_distribution(\"../../data/associations.tsv\")"
   ]
  },
  {
   "cell_type": "code",
   "execution_count": 23,
   "metadata": {},
   "outputs": [],
   "source": [
    "persons.add_image(path='../../data/non_existing_person.jpg', content_type='application/jpeg', about='Person')"
   ]
  },
  {
   "cell_type": "code",
   "execution_count": 24,
   "metadata": {},
   "outputs": [
    {
     "name": "stdout",
     "output_type": "stream",
     "text": [
      "<action> _register_one\n",
      "<succeeded> True\n"
     ]
    }
   ],
   "source": [
    "forge.register(persons)"
   ]
  },
  {
   "cell_type": "code",
   "execution_count": 25,
   "metadata": {},
   "outputs": [
    {
     "data": {
      "text/plain": [
       "{'id': 'https://sandbox.bluebrainnexus.io/v1/resources/github-users/crisely09/_/ed348e0e-da41-446f-90fe-b8103e78e979',\n",
       " 'type': 'Dataset',\n",
       " 'distribution': {'type': 'DataDownload',\n",
       "  'atLocation': {'type': 'Location',\n",
       "   'store': {'id': 'https://bluebrain.github.io/nexus/vocabulary/diskStorageDefault',\n",
       "    'type': 'DiskStorage',\n",
       "    '_rev': 1}},\n",
       "  'contentSize': {'unitCode': 'bytes', 'value': 477},\n",
       "  'contentUrl': 'https://sandbox.bluebrainnexus.io/v1/files/github-users/crisely09/https%3A%2F%2Fsandbox.bluebrainnexus.io%2Fv1%2Fresources%2Fgithub-users%2Fcrisely09%2F_%2Ffd26715d-1d04-4f58-8845-e2fe7565353c',\n",
       "  'digest': {'algorithm': 'SHA-256',\n",
       "   'value': '789aa07948683fe036ac29811814a826b703b562f7d168eb70dee1fabde26859'},\n",
       "  'encodingFormat': 'text/tab-separated-values',\n",
       "  'name': 'associations.tsv'},\n",
       " 'image': {'@id': 'https://sandbox.bluebrainnexus.io/v1/resources/github-users/crisely09/_/54f4702b-45f2-46ef-b94a-65d12ff8bf96',\n",
       "  'about': 'Person'},\n",
       " 'name': 'Interesting Persons'}"
      ]
     },
     "execution_count": 25,
     "metadata": {},
     "output_type": "execute_result"
    }
   ],
   "source": [
    "forge.as_json(persons)"
   ]
  },
  {
   "cell_type": "code",
   "execution_count": 26,
   "metadata": {},
   "outputs": [],
   "source": [
    "# When files are added as distributions, they can be directly downloaded without specifying which json path to use to collect the downlodable urls. In addition, content type and path arguments\n",
    "# can still be provided\n",
    "persons.download()"
   ]
  },
  {
   "cell_type": "markdown",
   "metadata": {},
   "source": [
    "## Creation with resources added as parts"
   ]
  },
  {
   "cell_type": "code",
   "execution_count": 27,
   "metadata": {},
   "outputs": [],
   "source": [
    "distribution_1 = forge.attach(\"../../data/associations.tsv\")"
   ]
  },
  {
   "cell_type": "code",
   "execution_count": 28,
   "metadata": {},
   "outputs": [],
   "source": [
    "distribution_2 = forge.attach(\"../../data/persons.csv\")"
   ]
  },
  {
   "cell_type": "code",
   "execution_count": 29,
   "metadata": {},
   "outputs": [],
   "source": [
    "jane = Resource(type=\"Person\", name=\"Jane Doe\", distribution=distribution_1)"
   ]
  },
  {
   "cell_type": "code",
   "execution_count": 30,
   "metadata": {},
   "outputs": [],
   "source": [
    "john = Resource(type=\"Person\", name=\"John Smith\", distribution=distribution_2)"
   ]
  },
  {
   "cell_type": "code",
   "execution_count": 31,
   "metadata": {},
   "outputs": [],
   "source": [
    "persons = [jane, john]"
   ]
  },
  {
   "cell_type": "code",
   "execution_count": 32,
   "metadata": {},
   "outputs": [
    {
     "name": "stdout",
     "output_type": "stream",
     "text": [
      "<count> 2\n",
      "<action> _register_many\n",
      "<succeeded> True\n"
     ]
    }
   ],
   "source": [
    "forge.register(persons)"
   ]
  },
  {
   "cell_type": "code",
   "execution_count": 33,
   "metadata": {},
   "outputs": [],
   "source": [
    "dataset = Dataset(forge, name=\"Interesting people\")"
   ]
  },
  {
   "cell_type": "code",
   "execution_count": 34,
   "metadata": {},
   "outputs": [],
   "source": [
    "dataset.add_parts(persons)"
   ]
  },
  {
   "cell_type": "code",
   "execution_count": 35,
   "metadata": {},
   "outputs": [
    {
     "name": "stdout",
     "output_type": "stream",
     "text": [
      "<action> _register_one\n",
      "<succeeded> True\n"
     ]
    }
   ],
   "source": [
    "forge.register(dataset)"
   ]
  },
  {
   "cell_type": "code",
   "execution_count": 36,
   "metadata": {
    "scrolled": true
   },
   "outputs": [
    {
     "data": {
      "text/plain": [
       "{'id': 'https://sandbox.bluebrainnexus.io/v1/resources/github-users/crisely09/_/876be46c-34c8-43f1-9f48-07f997d5f43c',\n",
       " 'type': 'Dataset',\n",
       " 'hasPart': [{'id': 'https://sandbox.bluebrainnexus.io/v1/resources/github-users/crisely09/_/04aca629-348a-450c-bf40-e1abf8e9858e?rev=1',\n",
       "   'type': 'Person',\n",
       "   'distribution': {'contentUrl': 'https://sandbox.bluebrainnexus.io/v1/files/github-users/crisely09/https%3A%2F%2Fsandbox.bluebrainnexus.io%2Fv1%2Fresources%2Fgithub-users%2Fcrisely09%2F_%2F1be640b8-dcd3-451b-936c-b0525737edc4'},\n",
       "   'name': 'Jane Doe'},\n",
       "  {'id': 'https://sandbox.bluebrainnexus.io/v1/resources/github-users/crisely09/_/72a4dc8e-347d-478e-9cac-fb61ef3e212d?rev=1',\n",
       "   'type': 'Person',\n",
       "   'distribution': {'contentUrl': 'https://sandbox.bluebrainnexus.io/v1/files/github-users/crisely09/https%3A%2F%2Fsandbox.bluebrainnexus.io%2Fv1%2Fresources%2Fgithub-users%2Fcrisely09%2F_%2F18500da1-f8c5-4388-9ae2-686e9429c078'},\n",
       "   'name': 'John Smith'}],\n",
       " 'name': 'Interesting people'}"
      ]
     },
     "execution_count": 36,
     "metadata": {},
     "output_type": "execute_result"
    }
   ],
   "source": [
    "forge.as_json(dataset)"
   ]
  },
  {
   "cell_type": "code",
   "execution_count": 37,
   "metadata": {},
   "outputs": [],
   "source": [
    "dataset.download(path=\"./downloaded/\", source=\"parts\")"
   ]
  },
  {
   "cell_type": "code",
   "execution_count": 38,
   "metadata": {},
   "outputs": [
    {
     "name": "stdout",
     "output_type": "stream",
     "text": [
      "total 1840\n",
      "-rw-r--r--  1 cgonzale  10067     477 Feb  2 10:09 associations.tsv\n",
      "-rw-r--r--  1 cgonzale  10067     477 Feb 12 14:57 associations.tsv.20240212145722\n",
      "-rw-r--r--  1 cgonzale  10067     477 Feb 12 14:57 associations.tsv.20240212145724\n",
      "-rw-r--r--  1 cgonzale  10067     477 Feb 12 14:59 associations.tsv.20240212145905\n",
      "-rw-r--r--  1 cgonzale  10067     477 Feb 12 19:00 associations.tsv.20240212190039\n",
      "-rw-r--r--  1 cgonzale  10067     477 Feb 16 15:11 associations.tsv.20240216151123\n",
      "-rw-r--r--  1 cgonzale  10067     477 May 21 13:21 associations.tsv.20240521132127\n",
      "-rw-r--r--  1 cgonzale  10067     477 May 21 13:21 associations.tsv.20240521132129\n",
      "-rw-r--r--  1 cgonzale  10067      16 Feb  2 10:09 my_data.xwz\n",
      "-rw-r--r--  1 cgonzale  10067      16 Feb 12 14:59 my_data.xwz.20240212145905\n",
      "-rw-r--r--  1 cgonzale  10067      16 Feb 12 19:00 my_data.xwz.20240212190039\n",
      "-rw-r--r--  1 cgonzale  10067      16 Feb 16 15:11 my_data.xwz.20240216151123\n",
      "-rw-r--r--  1 cgonzale  10067      24 Feb  2 10:09 my_data_derived.txt\n",
      "-rw-r--r--  1 cgonzale  10067      24 Feb 12 14:59 my_data_derived.txt.20240212145905\n",
      "-rw-r--r--  1 cgonzale  10067      24 Feb 12 19:00 my_data_derived.txt.20240212190039\n",
      "-rw-r--r--  1 cgonzale  10067      24 Feb 16 15:11 my_data_derived.txt.20240216151123\n",
      "-rw-r--r--  1 cgonzale  10067     126 Feb  2 10:09 persons-with-id.csv\n",
      "-rw-r--r--  1 cgonzale  10067     126 Feb 12 14:59 persons-with-id.csv.20240212145905\n",
      "-rw-r--r--  1 cgonzale  10067     126 Feb 12 19:00 persons-with-id.csv.20240212190039\n",
      "-rw-r--r--  1 cgonzale  10067     126 Feb 16 15:11 persons-with-id.csv.20240216151123\n",
      "-rw-r--r--  1 cgonzale  10067      52 Feb  2 10:09 persons.csv\n",
      "-rw-r--r--  1 cgonzale  10067      52 Feb 12 14:57 persons.csv.20240212145724\n",
      "-rw-r--r--  1 cgonzale  10067      52 Feb 12 14:59 persons.csv.20240212145905\n",
      "-rw-r--r--  1 cgonzale  10067      52 Feb 12 19:00 persons.csv.20240212190039\n",
      "-rw-r--r--  1 cgonzale  10067      52 Feb 16 15:11 persons.csv.20240216151123\n",
      "-rw-r--r--  1 cgonzale  10067      52 May 21 13:21 persons.csv.20240521132129\n",
      "-rw-r--r--  1 cgonzale  10067  204848 Feb  2 10:09 tfidfvectorizer_model_schemaorg_linking\n",
      "-rw-r--r--  1 cgonzale  10067  204848 Feb 12 14:59 tfidfvectorizer_model_schemaorg_linking.20240212145905\n",
      "-rw-r--r--  1 cgonzale  10067  204848 Feb 12 19:00 tfidfvectorizer_model_schemaorg_linking.20240212190039\n",
      "-rw-r--r--  1 cgonzale  10067  204848 Feb 16 15:11 tfidfvectorizer_model_schemaorg_linking.20240216151123\n"
     ]
    }
   ],
   "source": [
    "! ls -l ./downloaded"
   ]
  },
  {
   "cell_type": "code",
   "execution_count": 39,
   "metadata": {},
   "outputs": [],
   "source": [
    "# ! rm -R ./downloaded/"
   ]
  },
  {
   "cell_type": "markdown",
   "metadata": {},
   "source": [
    "### Creation from resources converted as Dataset objects"
   ]
  },
  {
   "cell_type": "code",
   "execution_count": 40,
   "metadata": {},
   "outputs": [
    {
     "name": "stdout",
     "output_type": "stream",
     "text": [
      "{\n",
      "    id: https://sandbox.bluebrainnexus.io/v1/resources/github-users/crisely09/_/04aca629-348a-450c-bf40-e1abf8e9858e\n",
      "    type: Person\n",
      "    distribution:\n",
      "    {\n",
      "        type: DataDownload\n",
      "        atLocation:\n",
      "        {\n",
      "            type: Location\n",
      "            store:\n",
      "            {\n",
      "                id: https://bluebrain.github.io/nexus/vocabulary/diskStorageDefault\n",
      "                type: DiskStorage\n",
      "                _rev: 1\n",
      "            }\n",
      "        }\n",
      "        contentSize:\n",
      "        {\n",
      "            unitCode: bytes\n",
      "            value: 477\n",
      "        }\n",
      "        contentUrl: https://sandbox.bluebrainnexus.io/v1/files/github-users/crisely09/https%3A%2F%2Fsandbox.bluebrainnexus.io%2Fv1%2Fresources%2Fgithub-users%2Fcrisely09%2F_%2F1be640b8-dcd3-451b-936c-b0525737edc4\n",
      "        digest:\n",
      "        {\n",
      "            algorithm: SHA-256\n",
      "            value: 789aa07948683fe036ac29811814a826b703b562f7d168eb70dee1fabde26859\n",
      "        }\n",
      "        encodingFormat: text/tab-separated-values\n",
      "        name: associations.tsv\n",
      "    }\n",
      "    name: Jane Doe\n",
      "}\n",
      "{\n",
      "    id: https://sandbox.bluebrainnexus.io/v1/resources/github-users/crisely09/_/72a4dc8e-347d-478e-9cac-fb61ef3e212d\n",
      "    type: Person\n",
      "    distribution:\n",
      "    {\n",
      "        type: DataDownload\n",
      "        atLocation:\n",
      "        {\n",
      "            type: Location\n",
      "            store:\n",
      "            {\n",
      "                id: https://bluebrain.github.io/nexus/vocabulary/diskStorageDefault\n",
      "                type: DiskStorage\n",
      "                _rev: 1\n",
      "            }\n",
      "        }\n",
      "        contentSize:\n",
      "        {\n",
      "            unitCode: bytes\n",
      "            value: 52\n",
      "        }\n",
      "        contentUrl: https://sandbox.bluebrainnexus.io/v1/files/github-users/crisely09/https%3A%2F%2Fsandbox.bluebrainnexus.io%2Fv1%2Fresources%2Fgithub-users%2Fcrisely09%2F_%2F18500da1-f8c5-4388-9ae2-686e9429c078\n",
      "        digest:\n",
      "        {\n",
      "            algorithm: SHA-256\n",
      "            value: 1dacd765946963fda4949753659089c5f532714b418d30788bedddfec47a389f\n",
      "        }\n",
      "        encodingFormat: text/csv\n",
      "        name: persons.csv\n",
      "    }\n",
      "    name: John Smith\n",
      "}\n"
     ]
    }
   ],
   "source": [
    "dataset = Dataset.from_resource(forge, [jane, john], store_metadata=True)\n",
    "print(*dataset, sep=\"\\n\")"
   ]
  },
  {
   "cell_type": "markdown",
   "metadata": {},
   "source": [
    "## Creation from a dataframe"
   ]
  },
  {
   "cell_type": "markdown",
   "metadata": {},
   "source": [
    "See notebook `07 DataFrame IO.ipynb` for details on conversions of instances of Resource from a Pandas DataFrame."
   ]
  },
  {
   "cell_type": "markdown",
   "metadata": {},
   "source": [
    "### basics"
   ]
  },
  {
   "cell_type": "code",
   "execution_count": 41,
   "metadata": {},
   "outputs": [],
   "source": [
    "dataframe = pd.read_csv(\"../../data/persons.csv\")"
   ]
  },
  {
   "cell_type": "code",
   "execution_count": 42,
   "metadata": {},
   "outputs": [
    {
     "data": {
      "text/html": [
       "<div>\n",
       "<style scoped>\n",
       "    .dataframe tbody tr th:only-of-type {\n",
       "        vertical-align: middle;\n",
       "    }\n",
       "\n",
       "    .dataframe tbody tr th {\n",
       "        vertical-align: top;\n",
       "    }\n",
       "\n",
       "    .dataframe thead th {\n",
       "        text-align: right;\n",
       "    }\n",
       "</style>\n",
       "<table border=\"1\" class=\"dataframe\">\n",
       "  <thead>\n",
       "    <tr style=\"text-align: right;\">\n",
       "      <th></th>\n",
       "      <th>type</th>\n",
       "      <th>name</th>\n",
       "    </tr>\n",
       "  </thead>\n",
       "  <tbody>\n",
       "    <tr>\n",
       "      <th>0</th>\n",
       "      <td>Person</td>\n",
       "      <td>Marie Curie</td>\n",
       "    </tr>\n",
       "    <tr>\n",
       "      <th>1</th>\n",
       "      <td>Person</td>\n",
       "      <td>Albert Einstein</td>\n",
       "    </tr>\n",
       "  </tbody>\n",
       "</table>\n",
       "</div>"
      ],
      "text/plain": [
       "     type             name\n",
       "0  Person      Marie Curie\n",
       "1  Person  Albert Einstein"
      ]
     },
     "execution_count": 42,
     "metadata": {},
     "output_type": "execute_result"
    }
   ],
   "source": [
    "dataframe"
   ]
  },
  {
   "cell_type": "code",
   "execution_count": 43,
   "metadata": {},
   "outputs": [],
   "source": [
    "persons = forge.from_dataframe(dataframe)"
   ]
  },
  {
   "cell_type": "code",
   "execution_count": 44,
   "metadata": {},
   "outputs": [
    {
     "name": "stdout",
     "output_type": "stream",
     "text": [
      "<count> 2\n",
      "<action> _register_many\n",
      "<succeeded> True\n"
     ]
    }
   ],
   "source": [
    "forge.register(persons)"
   ]
  },
  {
   "cell_type": "code",
   "execution_count": 45,
   "metadata": {},
   "outputs": [],
   "source": [
    "dataset = Dataset(forge, name=\"Interesting people\")"
   ]
  },
  {
   "cell_type": "code",
   "execution_count": 46,
   "metadata": {},
   "outputs": [],
   "source": [
    "dataset.add_parts(persons)"
   ]
  },
  {
   "cell_type": "code",
   "execution_count": 47,
   "metadata": {},
   "outputs": [
    {
     "name": "stdout",
     "output_type": "stream",
     "text": [
      "<action> _register_one\n",
      "<succeeded> True\n"
     ]
    }
   ],
   "source": [
    "forge.register(dataset)"
   ]
  },
  {
   "cell_type": "code",
   "execution_count": 48,
   "metadata": {
    "scrolled": true
   },
   "outputs": [
    {
     "data": {
      "text/plain": [
       "{'id': 'https://sandbox.bluebrainnexus.io/v1/resources/github-users/crisely09/_/1c12042a-e345-49f6-8e2f-1dc9d7838ca4',\n",
       " 'type': 'Dataset',\n",
       " 'hasPart': [{'id': 'https://sandbox.bluebrainnexus.io/v1/resources/github-users/crisely09/_/84a9b704-3e43-431c-af6e-e3c8e542aa74?rev=1',\n",
       "   'type': 'Person',\n",
       "   'name': 'Marie Curie'},\n",
       "  {'id': 'https://sandbox.bluebrainnexus.io/v1/resources/github-users/crisely09/_/5f7f2e1e-0666-456e-b5c9-51901ddb926f?rev=1',\n",
       "   'type': 'Person',\n",
       "   'name': 'Albert Einstein'}],\n",
       " 'name': 'Interesting people'}"
      ]
     },
     "execution_count": 48,
     "metadata": {},
     "output_type": "execute_result"
    }
   ],
   "source": [
    "forge.as_json(dataset)"
   ]
  },
  {
   "cell_type": "markdown",
   "metadata": {},
   "source": [
    "### advanced"
   ]
  },
  {
   "cell_type": "code",
   "execution_count": 49,
   "metadata": {},
   "outputs": [],
   "source": [
    "dataframe = pd.read_csv(\"../../data/associations.tsv\", sep=\"\\t\")"
   ]
  },
  {
   "cell_type": "code",
   "execution_count": 50,
   "metadata": {},
   "outputs": [
    {
     "data": {
      "text/html": [
       "<div>\n",
       "<style scoped>\n",
       "    .dataframe tbody tr th:only-of-type {\n",
       "        vertical-align: middle;\n",
       "    }\n",
       "\n",
       "    .dataframe tbody tr th {\n",
       "        vertical-align: top;\n",
       "    }\n",
       "\n",
       "    .dataframe thead th {\n",
       "        text-align: right;\n",
       "    }\n",
       "</style>\n",
       "<table border=\"1\" class=\"dataframe\">\n",
       "  <thead>\n",
       "    <tr style=\"text-align: right;\">\n",
       "      <th></th>\n",
       "      <th>id</th>\n",
       "      <th>name</th>\n",
       "      <th>type</th>\n",
       "      <th>agent__type</th>\n",
       "      <th>agent__name</th>\n",
       "      <th>agent__gender__id</th>\n",
       "      <th>agent__gender__type</th>\n",
       "      <th>agent__gender__label</th>\n",
       "      <th>distribution</th>\n",
       "    </tr>\n",
       "  </thead>\n",
       "  <tbody>\n",
       "    <tr>\n",
       "      <th>0</th>\n",
       "      <td>(missing)</td>\n",
       "      <td>Curie Association</td>\n",
       "      <td>Association</td>\n",
       "      <td>Person</td>\n",
       "      <td>Marie Curie</td>\n",
       "      <td>http://purl.obolibrary.org/obo/PATO_0000383</td>\n",
       "      <td>LabeledOntologyEntity</td>\n",
       "      <td>female</td>\n",
       "      <td>../../data/scientists-database/marie_curie.txt</td>\n",
       "    </tr>\n",
       "    <tr>\n",
       "      <th>1</th>\n",
       "      <td>(missing)</td>\n",
       "      <td>Einstein Association</td>\n",
       "      <td>Association</td>\n",
       "      <td>Person</td>\n",
       "      <td>Albert Einstein</td>\n",
       "      <td>http://purl.obolibrary.org/obo/PATO_0000384</td>\n",
       "      <td>LabeledOntologyEntity</td>\n",
       "      <td>male</td>\n",
       "      <td>../../data/scientists-database/albert_einstein...</td>\n",
       "    </tr>\n",
       "  </tbody>\n",
       "</table>\n",
       "</div>"
      ],
      "text/plain": [
       "          id                  name         type agent__type      agent__name  \\\n",
       "0  (missing)     Curie Association  Association      Person      Marie Curie   \n",
       "1  (missing)  Einstein Association  Association      Person  Albert Einstein   \n",
       "\n",
       "                             agent__gender__id    agent__gender__type  \\\n",
       "0  http://purl.obolibrary.org/obo/PATO_0000383  LabeledOntologyEntity   \n",
       "1  http://purl.obolibrary.org/obo/PATO_0000384  LabeledOntologyEntity   \n",
       "\n",
       "  agent__gender__label                                       distribution  \n",
       "0               female     ../../data/scientists-database/marie_curie.txt  \n",
       "1                 male  ../../data/scientists-database/albert_einstein...  "
      ]
     },
     "execution_count": 50,
     "metadata": {},
     "output_type": "execute_result"
    }
   ],
   "source": [
    "dataframe"
   ]
  },
  {
   "cell_type": "code",
   "execution_count": 51,
   "metadata": {},
   "outputs": [],
   "source": [
    "dataframe[\"distribution\"] = dataframe[\"distribution\"].map(lambda x: forge.attach(x))"
   ]
  },
  {
   "cell_type": "code",
   "execution_count": 52,
   "metadata": {},
   "outputs": [],
   "source": [
    "associations = forge.from_dataframe(dataframe, na=\"(missing)\", nesting=\"__\")"
   ]
  },
  {
   "cell_type": "code",
   "execution_count": 53,
   "metadata": {},
   "outputs": [
    {
     "name": "stdout",
     "output_type": "stream",
     "text": [
      "{\n",
      "    type: Association\n",
      "    agent:\n",
      "    {\n",
      "        type: Person\n",
      "        gender:\n",
      "        {\n",
      "            id: http://purl.obolibrary.org/obo/PATO_0000383\n",
      "            type: LabeledOntologyEntity\n",
      "            label: female\n",
      "        }\n",
      "        name: Marie Curie\n",
      "    }\n",
      "    distribution: LazyAction(operation=Store.upload, args=['../../data/scientists-database/marie_curie.txt', None, <kgforge.core.forge.KnowledgeGraphForge object at 0x7fe2734726d0>])\n",
      "    name: Curie Association\n",
      "}\n",
      "{\n",
      "    type: Association\n",
      "    agent:\n",
      "    {\n",
      "        type: Person\n",
      "        gender:\n",
      "        {\n",
      "            id: http://purl.obolibrary.org/obo/PATO_0000384\n",
      "            type: LabeledOntologyEntity\n",
      "            label: male\n",
      "        }\n",
      "        name: Albert Einstein\n",
      "    }\n",
      "    distribution: LazyAction(operation=Store.upload, args=['../../data/scientists-database/albert_einstein.txt', None, <kgforge.core.forge.KnowledgeGraphForge object at 0x7fe2734726d0>])\n",
      "    name: Einstein Association\n",
      "}\n"
     ]
    }
   ],
   "source": [
    "print(*associations, sep=\"\\n\")"
   ]
  },
  {
   "cell_type": "code",
   "execution_count": 54,
   "metadata": {},
   "outputs": [
    {
     "name": "stdout",
     "output_type": "stream",
     "text": [
      "<count> 2\n",
      "<action> _register_many\n",
      "<succeeded> True\n"
     ]
    }
   ],
   "source": [
    "forge.register(associations)"
   ]
  },
  {
   "cell_type": "code",
   "execution_count": 55,
   "metadata": {},
   "outputs": [],
   "source": [
    "dataset = Dataset(forge, name=\"Interesting associations\")"
   ]
  },
  {
   "cell_type": "code",
   "execution_count": 56,
   "metadata": {},
   "outputs": [],
   "source": [
    "dataset.add_parts(associations)"
   ]
  },
  {
   "cell_type": "code",
   "execution_count": 57,
   "metadata": {},
   "outputs": [
    {
     "name": "stdout",
     "output_type": "stream",
     "text": [
      "<action> _register_one\n",
      "<succeeded> True\n"
     ]
    }
   ],
   "source": [
    "forge.register(dataset)"
   ]
  },
  {
   "cell_type": "code",
   "execution_count": 58,
   "metadata": {
    "scrolled": true
   },
   "outputs": [
    {
     "data": {
      "text/plain": [
       "{'id': 'https://sandbox.bluebrainnexus.io/v1/resources/github-users/crisely09/_/7ba8f194-4bbc-49a0-8805-1f8b726c9580',\n",
       " 'type': 'Dataset',\n",
       " 'hasPart': [{'id': 'https://sandbox.bluebrainnexus.io/v1/resources/github-users/crisely09/_/6081711e-7265-4685-8070-a3a4a36b1400?rev=1',\n",
       "   'type': 'Association',\n",
       "   'distribution': {'contentUrl': 'https://sandbox.bluebrainnexus.io/v1/files/github-users/crisely09/https%3A%2F%2Fsandbox.bluebrainnexus.io%2Fv1%2Fresources%2Fgithub-users%2Fcrisely09%2F_%2F1b0fe5e1-2bb8-4e53-a199-51b190157cd4'},\n",
       "   'name': 'Curie Association'},\n",
       "  {'id': 'https://sandbox.bluebrainnexus.io/v1/resources/github-users/crisely09/_/afbdf767-4613-4ce8-9d56-98d07867cd01?rev=1',\n",
       "   'type': 'Association',\n",
       "   'distribution': {'contentUrl': 'https://sandbox.bluebrainnexus.io/v1/files/github-users/crisely09/https%3A%2F%2Fsandbox.bluebrainnexus.io%2Fv1%2Fresources%2Fgithub-users%2Fcrisely09%2F_%2F3613ea45-79a1-4a60-acd6-739d3fc12f5a'},\n",
       "   'name': 'Einstein Association'}],\n",
       " 'name': 'Interesting associations'}"
      ]
     },
     "execution_count": 58,
     "metadata": {},
     "output_type": "execute_result"
    }
   ],
   "source": [
    "forge.as_json(dataset)"
   ]
  }
 ],
 "metadata": {
  "kernelspec": {
   "display_name": "dev-forge",
   "language": "python",
   "name": "python3"
  },
  "language_info": {
   "codemirror_mode": {
    "name": "ipython",
    "version": 3
   },
   "file_extension": ".py",
   "mimetype": "text/x-python",
   "name": "python",
   "nbconvert_exporter": "python",
   "pygments_lexer": "ipython3",
   "version": "3.8.18"
  }
 },
 "nbformat": 4,
 "nbformat_minor": 4
}

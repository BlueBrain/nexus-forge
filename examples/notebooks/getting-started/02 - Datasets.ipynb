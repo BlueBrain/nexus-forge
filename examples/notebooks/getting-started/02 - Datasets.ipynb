{
 "cells": [
  {
   "cell_type": "markdown",
   "metadata": {
    "ExecuteTime": {
     "end_time": "2019-09-23T18:50:19.036357Z",
     "start_time": "2019-09-23T18:50:19.031896Z"
    }
   },
   "source": [
    "# Datasets\n",
    "\n",
    "A [Dataset](https://nexus-forge.readthedocs.io/en/latest/interaction.html#dataset) is a specialization of a [Resource](https://nexus-forge.readthedocs.io/en/latest/interaction.html#resource) that provides users with operations to handle files, record their provenance and describe them with metadata."
   ]
  },
  {
   "cell_type": "code",
   "execution_count": 1,
   "metadata": {
    "ExecuteTime": {
     "end_time": "2019-09-23T18:50:20.068658Z",
     "start_time": "2019-09-23T18:50:19.054054Z"
    }
   },
   "outputs": [],
   "source": [
    "from kgforge.core import KnowledgeGraphForge"
   ]
  },
  {
   "cell_type": "markdown",
   "metadata": {},
   "source": [
    "A configuration file is needed in order to create a KnowledgeGraphForge session. A configuration can be generated using the notebook [00-Initialization.ipynb](00%20-%20Initialization.ipynb).\n",
    "\n",
    "Note: DemoStore doesn't implement file operations yet. Use the BluBrainNexus store instead when creating a config file."
   ]
  },
  {
   "cell_type": "code",
   "execution_count": null,
   "metadata": {},
   "outputs": [],
   "source": [
    "forge = KnowledgeGraphForge(\"../../configurations/forge.yml\")"
   ]
  },
  {
   "cell_type": "markdown",
   "metadata": {},
   "source": [
    "## Imports"
   ]
  },
  {
   "cell_type": "code",
   "execution_count": 3,
   "metadata": {},
   "outputs": [],
   "source": [
    "from kgforge.core import Resource"
   ]
  },
  {
   "cell_type": "code",
   "execution_count": 4,
   "metadata": {},
   "outputs": [],
   "source": [
    "from kgforge.specializations.resources import Dataset"
   ]
  },
  {
   "cell_type": "code",
   "execution_count": 5,
   "metadata": {},
   "outputs": [],
   "source": [
    "import pandas as pd"
   ]
  },
  {
   "cell_type": "markdown",
   "metadata": {},
   "source": [
    "## Creation with files"
   ]
  },
  {
   "cell_type": "code",
   "execution_count": 6,
   "metadata": {},
   "outputs": [
    {
     "name": "stdout",
     "output_type": "stream",
     "text": [
      "associations.tsv\n",
      "my_data.xwz\n",
      "my_data_derived.txt\n",
      "persons.csv\n",
      "tfidfvectorizer_model_schemaorg_linking\n"
     ]
    }
   ],
   "source": [
    "! ls -p ../../data | egrep -v /$"
   ]
  },
  {
   "cell_type": "code",
   "execution_count": 7,
   "metadata": {},
   "outputs": [],
   "source": [
    "persons = Dataset(forge, name=\"Interesting Persons\")"
   ]
  },
  {
   "cell_type": "code",
   "execution_count": 8,
   "metadata": {},
   "outputs": [],
   "source": [
    "persons.add_files(\"../../data/persons.csv\")"
   ]
  },
  {
   "cell_type": "code",
   "execution_count": 9,
   "metadata": {},
   "outputs": [
    {
     "name": "stdout",
     "output_type": "stream",
     "text": [
      "<action> _register_one\n",
      "<succeeded> True\n"
     ]
    }
   ],
   "source": [
    "forge.register(persons)"
   ]
  },
  {
   "cell_type": "code",
   "execution_count": 10,
   "metadata": {
    "scrolled": true
   },
   "outputs": [
    {
     "data": {
      "text/plain": [
       "{'id': 'https://sandbox.bluebrainnexus.io/v1/resources/github-users/mfsy/_/3c2a5b45-d6e3-47f2-a417-4215f600cf72',\n",
       " 'type': 'Dataset',\n",
       " 'hasPart': {'distribution': {'type': 'DataDownload',\n",
       "   'atLocation': {'type': 'Location',\n",
       "    'store': {'id': 'https://bluebrain.github.io/nexus/vocabulary/diskStorageDefault',\n",
       "     'type': 'DiskStorage',\n",
       "     '_rev': 1}},\n",
       "   'contentSize': {'unitCode': 'bytes', 'value': 52},\n",
       "   'contentUrl': 'https://sandbox.bluebrainnexus.io/v1/files/github-users/mfsy/a6d5ebef-246b-4483-8d4c-05e610b68d9a',\n",
       "   'digest': {'algorithm': 'SHA-256',\n",
       "    'value': '1dacd765946963fda4949753659089c5f532714b418d30788bedddfec47a389f'},\n",
       "   'encodingFormat': 'text/csv',\n",
       "   'name': 'persons.csv'}},\n",
       " 'name': 'Interesting Persons'}"
      ]
     },
     "execution_count": 10,
     "metadata": {},
     "output_type": "execute_result"
    }
   ],
   "source": [
    "forge.as_json(persons)"
   ]
  },
  {
   "cell_type": "code",
   "execution_count": 11,
   "metadata": {},
   "outputs": [],
   "source": [
    "associations = Dataset(forge, name=\"Associations data\")"
   ]
  },
  {
   "cell_type": "code",
   "execution_count": 12,
   "metadata": {},
   "outputs": [],
   "source": [
    "associations.add_files(\"../../data/associations.tsv\")"
   ]
  },
  {
   "cell_type": "code",
   "execution_count": 13,
   "metadata": {},
   "outputs": [],
   "source": [
    "associations.add_derivation(persons)"
   ]
  },
  {
   "cell_type": "code",
   "execution_count": 14,
   "metadata": {},
   "outputs": [
    {
     "name": "stdout",
     "output_type": "stream",
     "text": [
      "<action> _register_one\n",
      "<succeeded> True\n"
     ]
    }
   ],
   "source": [
    "forge.register(associations)"
   ]
  },
  {
   "cell_type": "code",
   "execution_count": 15,
   "metadata": {
    "scrolled": true
   },
   "outputs": [
    {
     "data": {
      "text/plain": [
       "{'id': 'https://sandbox.bluebrainnexus.io/v1/resources/github-users/mfsy/_/dc84f1db-228e-43be-9051-91adc0a3a159',\n",
       " 'type': 'Dataset',\n",
       " 'derivation': {'type': 'Derivation',\n",
       "  'entity': {'id': 'https://sandbox.bluebrainnexus.io/v1/resources/github-users/mfsy/_/3c2a5b45-d6e3-47f2-a417-4215f600cf72?rev=1',\n",
       "   'type': 'Dataset',\n",
       "   'name': 'Interesting Persons'}},\n",
       " 'hasPart': {'distribution': {'type': 'DataDownload',\n",
       "   'atLocation': {'type': 'Location',\n",
       "    'store': {'id': 'https://bluebrain.github.io/nexus/vocabulary/diskStorageDefault',\n",
       "     'type': 'DiskStorage',\n",
       "     '_rev': 1}},\n",
       "   'contentSize': {'unitCode': 'bytes', 'value': 477},\n",
       "   'contentUrl': 'https://sandbox.bluebrainnexus.io/v1/files/github-users/mfsy/ad0d4ef3-b11f-46cd-b113-17b4836a9d99',\n",
       "   'digest': {'algorithm': 'SHA-256',\n",
       "    'value': '789aa07948683fe036ac29811814a826b703b562f7d168eb70dee1fabde26859'},\n",
       "   'encodingFormat': 'text/tab-separated-values',\n",
       "   'name': 'associations.tsv'}},\n",
       " 'name': 'Associations data'}"
      ]
     },
     "execution_count": 15,
     "metadata": {},
     "output_type": "execute_result"
    }
   ],
   "source": [
    "forge.as_json(associations)"
   ]
  },
  {
   "cell_type": "code",
   "execution_count": 19,
   "metadata": {},
   "outputs": [],
   "source": [
    "# The argument overwrite: bool can be provided to decide whether to overwrite (True) existing files with the same name or\n",
    "# to create new ones (False) with their names suffixed with a timestamp.\n",
    "\n",
    "# A cross_bucket argument can be provided to download data from the configured bucket (cross_bucket=False - the default value) \n",
    "# or from a bucket different than the configured one (cross_bucket=True). The configured store should support crossing buckets for this to work.\n",
    "associations.download(path=\"./downloaded/\", source=\"parts\")"
   ]
  },
  {
   "cell_type": "code",
   "execution_count": 20,
   "metadata": {},
   "outputs": [
    {
     "name": "stdout",
     "output_type": "stream",
     "text": [
      "total 8\n",
      "-rw-r--r--  1 mfsy  staff  477 Mar 22 12:36 associations.tsv\n"
     ]
    }
   ],
   "source": [
    "! ls -l ./downloaded"
   ]
  },
  {
   "cell_type": "code",
   "execution_count": 21,
   "metadata": {},
   "outputs": [],
   "source": [
    "# ! rm -R ./downloaded/"
   ]
  },
  {
   "cell_type": "markdown",
   "metadata": {},
   "source": [
    "## Creation with resources as parts"
   ]
  },
  {
   "cell_type": "code",
   "execution_count": 22,
   "metadata": {},
   "outputs": [],
   "source": [
    "distribution_1 = forge.attach(\"../../data/associations.tsv\")"
   ]
  },
  {
   "cell_type": "code",
   "execution_count": 23,
   "metadata": {},
   "outputs": [],
   "source": [
    "distribution_2 = forge.attach(\"../../data/persons.csv\")"
   ]
  },
  {
   "cell_type": "code",
   "execution_count": 24,
   "metadata": {},
   "outputs": [],
   "source": [
    "jane = Resource(type=\"Person\", name=\"Jane Doe\", distribution=distribution_1)"
   ]
  },
  {
   "cell_type": "code",
   "execution_count": 25,
   "metadata": {},
   "outputs": [],
   "source": [
    "john = Resource(type=\"Person\", name=\"John Smith\", distribution=distribution_2)"
   ]
  },
  {
   "cell_type": "code",
   "execution_count": 26,
   "metadata": {},
   "outputs": [],
   "source": [
    "persons = [jane, john]"
   ]
  },
  {
   "cell_type": "code",
   "execution_count": 27,
   "metadata": {},
   "outputs": [
    {
     "name": "stdout",
     "output_type": "stream",
     "text": [
      "<count> 2\n",
      "<action> _register_many\n",
      "<succeeded> True\n"
     ]
    }
   ],
   "source": [
    "forge.register(persons)"
   ]
  },
  {
   "cell_type": "code",
   "execution_count": 28,
   "metadata": {},
   "outputs": [],
   "source": [
    "dataset = Dataset(forge, name=\"Interesting people\")"
   ]
  },
  {
   "cell_type": "code",
   "execution_count": 29,
   "metadata": {},
   "outputs": [],
   "source": [
    "dataset.add_parts(persons)"
   ]
  },
  {
   "cell_type": "code",
   "execution_count": 30,
   "metadata": {},
   "outputs": [
    {
     "name": "stdout",
     "output_type": "stream",
     "text": [
      "<action> _register_one\n",
      "<succeeded> True\n"
     ]
    }
   ],
   "source": [
    "forge.register(dataset)"
   ]
  },
  {
   "cell_type": "code",
   "execution_count": 31,
   "metadata": {
    "scrolled": true
   },
   "outputs": [
    {
     "data": {
      "text/plain": [
       "{'id': 'https://sandbox.bluebrainnexus.io/v1/resources/github-users/mfsy/_/0723b9d6-47e6-456e-a9b8-ca509c2458e6',\n",
       " 'type': 'Dataset',\n",
       " 'hasPart': [{'id': 'https://sandbox.bluebrainnexus.io/v1/resources/github-users/mfsy/_/b8365a08-15ae-40ff-a957-d6da5d15e461?rev=1',\n",
       "   'type': 'Person',\n",
       "   'distribution': {'contentUrl': 'https://sandbox.bluebrainnexus.io/v1/files/github-users/mfsy/705398f8-cbec-4b78-88a6-73b320b27850'},\n",
       "   'name': 'Jane Doe'},\n",
       "  {'id': 'https://sandbox.bluebrainnexus.io/v1/resources/github-users/mfsy/_/32ef3bf9-7976-4b78-ba30-b1fd51d78d91?rev=1',\n",
       "   'type': 'Person',\n",
       "   'distribution': {'contentUrl': 'https://sandbox.bluebrainnexus.io/v1/files/github-users/mfsy/e36dcd6e-d381-476c-a51b-541f45dff749'},\n",
       "   'name': 'John Smith'}],\n",
       " 'name': 'Interesting people'}"
      ]
     },
     "execution_count": 31,
     "metadata": {},
     "output_type": "execute_result"
    }
   ],
   "source": [
    "forge.as_json(dataset)"
   ]
  },
  {
   "cell_type": "code",
   "execution_count": 32,
   "metadata": {},
   "outputs": [],
   "source": [
    "dataset.download(path=\"./downloaded/\", source=\"parts\")"
   ]
  },
  {
   "cell_type": "code",
   "execution_count": 33,
   "metadata": {},
   "outputs": [
    {
     "name": "stdout",
     "output_type": "stream",
     "text": [
      "total 24\n",
      "-rw-r--r--  1 mfsy  staff  477 Mar 22 12:36 associations.tsv\n",
      "-rw-r--r--  1 mfsy  staff  477 Mar 22 12:36 associations.tsv.20220322123653\n",
      "-rw-r--r--  1 mfsy  staff   52 Mar 22 12:36 persons.csv\n"
     ]
    }
   ],
   "source": [
    "! ls -l ./downloaded"
   ]
  },
  {
   "cell_type": "code",
   "execution_count": 33,
   "metadata": {},
   "outputs": [],
   "source": [
    "# ! rm -R ./downloaded/"
   ]
  },
  {
   "cell_type": "markdown",
   "metadata": {},
   "source": [
    "### Creation from resources"
   ]
  },
  {
   "cell_type": "code",
   "execution_count": 34,
   "metadata": {},
   "outputs": [
    {
     "name": "stdout",
     "output_type": "stream",
     "text": [
      "{\n",
      "    id: https://sandbox.bluebrainnexus.io/v1/resources/github-users/mfsy/_/b8365a08-15ae-40ff-a957-d6da5d15e461\n",
      "    type: Person\n",
      "    distribution:\n",
      "    {\n",
      "        type: DataDownload\n",
      "        atLocation:\n",
      "        {\n",
      "            type: Location\n",
      "            store:\n",
      "            {\n",
      "                id: https://bluebrain.github.io/nexus/vocabulary/diskStorageDefault\n",
      "                type: DiskStorage\n",
      "                _rev: 1\n",
      "            }\n",
      "        }\n",
      "        contentSize:\n",
      "        {\n",
      "            unitCode: bytes\n",
      "            value: 477\n",
      "        }\n",
      "        contentUrl: https://sandbox.bluebrainnexus.io/v1/files/github-users/mfsy/705398f8-cbec-4b78-88a6-73b320b27850\n",
      "        digest:\n",
      "        {\n",
      "            algorithm: SHA-256\n",
      "            value: 789aa07948683fe036ac29811814a826b703b562f7d168eb70dee1fabde26859\n",
      "        }\n",
      "        encodingFormat: text/tab-separated-values\n",
      "        name: associations.tsv\n",
      "    }\n",
      "    name: Jane Doe\n",
      "}\n",
      "{\n",
      "    id: https://sandbox.bluebrainnexus.io/v1/resources/github-users/mfsy/_/32ef3bf9-7976-4b78-ba30-b1fd51d78d91\n",
      "    type: Person\n",
      "    distribution:\n",
      "    {\n",
      "        type: DataDownload\n",
      "        atLocation:\n",
      "        {\n",
      "            type: Location\n",
      "            store:\n",
      "            {\n",
      "                id: https://bluebrain.github.io/nexus/vocabulary/diskStorageDefault\n",
      "                type: DiskStorage\n",
      "                _rev: 1\n",
      "            }\n",
      "        }\n",
      "        contentSize:\n",
      "        {\n",
      "            unitCode: bytes\n",
      "            value: 52\n",
      "        }\n",
      "        contentUrl: https://sandbox.bluebrainnexus.io/v1/files/github-users/mfsy/e36dcd6e-d381-476c-a51b-541f45dff749\n",
      "        digest:\n",
      "        {\n",
      "            algorithm: SHA-256\n",
      "            value: 1dacd765946963fda4949753659089c5f532714b418d30788bedddfec47a389f\n",
      "        }\n",
      "        encodingFormat: text/csv\n",
      "        name: persons.csv\n",
      "    }\n",
      "    name: John Smith\n",
      "}\n"
     ]
    }
   ],
   "source": [
    "dataset = Dataset.from_resource(forge, [jane, john], store_metadata=True)\n",
    "print(*dataset, sep=\"\\n\")"
   ]
  },
  {
   "cell_type": "markdown",
   "metadata": {},
   "source": [
    "## Creation from a dataframe"
   ]
  },
  {
   "cell_type": "markdown",
   "metadata": {},
   "source": [
    "See notebook `07 DataFrame IO.ipynb` for details on conversions of instances of Resource from a Pandas DataFrame."
   ]
  },
  {
   "cell_type": "markdown",
   "metadata": {},
   "source": [
    "### basics"
   ]
  },
  {
   "cell_type": "code",
   "execution_count": 35,
   "metadata": {},
   "outputs": [],
   "source": [
    "dataframe = pd.read_csv(\"../../data/persons.csv\")"
   ]
  },
  {
   "cell_type": "code",
   "execution_count": 36,
   "metadata": {},
   "outputs": [
    {
     "data": {
      "text/html": [
       "<div>\n",
       "<style scoped>\n",
       "    .dataframe tbody tr th:only-of-type {\n",
       "        vertical-align: middle;\n",
       "    }\n",
       "\n",
       "    .dataframe tbody tr th {\n",
       "        vertical-align: top;\n",
       "    }\n",
       "\n",
       "    .dataframe thead th {\n",
       "        text-align: right;\n",
       "    }\n",
       "</style>\n",
       "<table border=\"1\" class=\"dataframe\">\n",
       "  <thead>\n",
       "    <tr style=\"text-align: right;\">\n",
       "      <th></th>\n",
       "      <th>type</th>\n",
       "      <th>name</th>\n",
       "    </tr>\n",
       "  </thead>\n",
       "  <tbody>\n",
       "    <tr>\n",
       "      <th>0</th>\n",
       "      <td>Person</td>\n",
       "      <td>Marie Curie</td>\n",
       "    </tr>\n",
       "    <tr>\n",
       "      <th>1</th>\n",
       "      <td>Person</td>\n",
       "      <td>Albert Einstein</td>\n",
       "    </tr>\n",
       "  </tbody>\n",
       "</table>\n",
       "</div>"
      ],
      "text/plain": [
       "     type             name\n",
       "0  Person      Marie Curie\n",
       "1  Person  Albert Einstein"
      ]
     },
     "execution_count": 36,
     "metadata": {},
     "output_type": "execute_result"
    }
   ],
   "source": [
    "dataframe"
   ]
  },
  {
   "cell_type": "code",
   "execution_count": 37,
   "metadata": {},
   "outputs": [],
   "source": [
    "persons = forge.from_dataframe(dataframe)"
   ]
  },
  {
   "cell_type": "code",
   "execution_count": 38,
   "metadata": {},
   "outputs": [
    {
     "name": "stdout",
     "output_type": "stream",
     "text": [
      "<count> 2\n",
      "<action> _register_many\n",
      "<succeeded> True\n"
     ]
    }
   ],
   "source": [
    "forge.register(persons)"
   ]
  },
  {
   "cell_type": "code",
   "execution_count": 39,
   "metadata": {},
   "outputs": [],
   "source": [
    "dataset = Dataset(forge, name=\"Interesting people\")"
   ]
  },
  {
   "cell_type": "code",
   "execution_count": 40,
   "metadata": {},
   "outputs": [],
   "source": [
    "dataset.add_parts(persons)"
   ]
  },
  {
   "cell_type": "code",
   "execution_count": 41,
   "metadata": {},
   "outputs": [
    {
     "name": "stdout",
     "output_type": "stream",
     "text": [
      "<action> _register_one\n",
      "<succeeded> True\n"
     ]
    }
   ],
   "source": [
    "forge.register(dataset)"
   ]
  },
  {
   "cell_type": "code",
   "execution_count": 42,
   "metadata": {
    "scrolled": true
   },
   "outputs": [
    {
     "data": {
      "text/plain": [
       "{'id': 'https://sandbox.bluebrainnexus.io/v1/resources/github-users/mfsy/_/5cfc04fa-35d2-4cd3-bf11-fb1540a10b71',\n",
       " 'type': 'Dataset',\n",
       " 'hasPart': [{'id': 'https://sandbox.bluebrainnexus.io/v1/resources/github-users/mfsy/_/474cd3a0-f8b1-474d-b82d-fbd181114ff8?rev=1',\n",
       "   'type': 'Person',\n",
       "   'name': 'Marie Curie'},\n",
       "  {'id': 'https://sandbox.bluebrainnexus.io/v1/resources/github-users/mfsy/_/8d301671-138b-469e-98c4-17058556edeb?rev=1',\n",
       "   'type': 'Person',\n",
       "   'name': 'Albert Einstein'}],\n",
       " 'name': 'Interesting people'}"
      ]
     },
     "execution_count": 42,
     "metadata": {},
     "output_type": "execute_result"
    }
   ],
   "source": [
    "forge.as_json(dataset)"
   ]
  },
  {
   "cell_type": "markdown",
   "metadata": {},
   "source": [
    "### advanced"
   ]
  },
  {
   "cell_type": "code",
   "execution_count": 43,
   "metadata": {},
   "outputs": [],
   "source": [
    "dataframe = pd.read_csv(\"../../data/associations.tsv\", sep=\"\\t\")"
   ]
  },
  {
   "cell_type": "code",
   "execution_count": 44,
   "metadata": {},
   "outputs": [
    {
     "data": {
      "text/html": [
       "<div>\n",
       "<style scoped>\n",
       "    .dataframe tbody tr th:only-of-type {\n",
       "        vertical-align: middle;\n",
       "    }\n",
       "\n",
       "    .dataframe tbody tr th {\n",
       "        vertical-align: top;\n",
       "    }\n",
       "\n",
       "    .dataframe thead th {\n",
       "        text-align: right;\n",
       "    }\n",
       "</style>\n",
       "<table border=\"1\" class=\"dataframe\">\n",
       "  <thead>\n",
       "    <tr style=\"text-align: right;\">\n",
       "      <th></th>\n",
       "      <th>id</th>\n",
       "      <th>name</th>\n",
       "      <th>type</th>\n",
       "      <th>agent__type</th>\n",
       "      <th>agent__name</th>\n",
       "      <th>agent__gender__id</th>\n",
       "      <th>agent__gender__type</th>\n",
       "      <th>agent__gender__label</th>\n",
       "      <th>distribution</th>\n",
       "    </tr>\n",
       "  </thead>\n",
       "  <tbody>\n",
       "    <tr>\n",
       "      <th>0</th>\n",
       "      <td>(missing)</td>\n",
       "      <td>Curie Association</td>\n",
       "      <td>Association</td>\n",
       "      <td>Person</td>\n",
       "      <td>Marie Curie</td>\n",
       "      <td>http://purl.obolibrary.org/obo/PATO_0000383</td>\n",
       "      <td>LabeledOntologyEntity</td>\n",
       "      <td>female</td>\n",
       "      <td>../../data/scientists-database/marie_curie.txt</td>\n",
       "    </tr>\n",
       "    <tr>\n",
       "      <th>1</th>\n",
       "      <td>(missing)</td>\n",
       "      <td>Einstein Association</td>\n",
       "      <td>Association</td>\n",
       "      <td>Person</td>\n",
       "      <td>Albert Einstein</td>\n",
       "      <td>http://purl.obolibrary.org/obo/PATO_0000384</td>\n",
       "      <td>LabeledOntologyEntity</td>\n",
       "      <td>male</td>\n",
       "      <td>../../data/scientists-database/albert_einstein...</td>\n",
       "    </tr>\n",
       "  </tbody>\n",
       "</table>\n",
       "</div>"
      ],
      "text/plain": [
       "          id                  name         type agent__type      agent__name  \\\n",
       "0  (missing)     Curie Association  Association      Person      Marie Curie   \n",
       "1  (missing)  Einstein Association  Association      Person  Albert Einstein   \n",
       "\n",
       "                             agent__gender__id    agent__gender__type  \\\n",
       "0  http://purl.obolibrary.org/obo/PATO_0000383  LabeledOntologyEntity   \n",
       "1  http://purl.obolibrary.org/obo/PATO_0000384  LabeledOntologyEntity   \n",
       "\n",
       "  agent__gender__label                                       distribution  \n",
       "0               female     ../../data/scientists-database/marie_curie.txt  \n",
       "1                 male  ../../data/scientists-database/albert_einstein...  "
      ]
     },
     "execution_count": 44,
     "metadata": {},
     "output_type": "execute_result"
    }
   ],
   "source": [
    "dataframe"
   ]
  },
  {
   "cell_type": "code",
   "execution_count": 45,
   "metadata": {},
   "outputs": [],
   "source": [
    "dataframe[\"distribution\"] = dataframe[\"distribution\"].map(lambda x: forge.attach(x))"
   ]
  },
  {
   "cell_type": "code",
   "execution_count": 46,
   "metadata": {},
   "outputs": [],
   "source": [
    "associations = forge.from_dataframe(dataframe, na=\"(missing)\", nesting=\"__\")"
   ]
  },
  {
   "cell_type": "code",
   "execution_count": 47,
   "metadata": {},
   "outputs": [
    {
     "name": "stdout",
     "output_type": "stream",
     "text": [
      "{\n",
      "    type: Association\n",
      "    agent:\n",
      "    {\n",
      "        type: Person\n",
      "        gender:\n",
      "        {\n",
      "            id: http://purl.obolibrary.org/obo/PATO_0000383\n",
      "            type: LabeledOntologyEntity\n",
      "            label: female\n",
      "        }\n",
      "        name: Marie Curie\n",
      "    }\n",
      "    distribution: LazyAction(operation=Store.upload, args=['../../data/scientists-database/marie_curie.txt', None])\n",
      "    name: Curie Association\n",
      "}\n",
      "{\n",
      "    type: Association\n",
      "    agent:\n",
      "    {\n",
      "        type: Person\n",
      "        gender:\n",
      "        {\n",
      "            id: http://purl.obolibrary.org/obo/PATO_0000384\n",
      "            type: LabeledOntologyEntity\n",
      "            label: male\n",
      "        }\n",
      "        name: Albert Einstein\n",
      "    }\n",
      "    distribution: LazyAction(operation=Store.upload, args=['../../data/scientists-database/albert_einstein.txt', None])\n",
      "    name: Einstein Association\n",
      "}\n"
     ]
    }
   ],
   "source": [
    "print(*associations, sep=\"\\n\")"
   ]
  },
  {
   "cell_type": "code",
   "execution_count": 48,
   "metadata": {},
   "outputs": [
    {
     "name": "stdout",
     "output_type": "stream",
     "text": [
      "<count> 2\n",
      "<action> _register_many\n",
      "<succeeded> True\n"
     ]
    }
   ],
   "source": [
    "forge.register(associations)"
   ]
  },
  {
   "cell_type": "code",
   "execution_count": 49,
   "metadata": {},
   "outputs": [],
   "source": [
    "dataset = Dataset(forge, name=\"Interesting associations\")"
   ]
  },
  {
   "cell_type": "code",
   "execution_count": 50,
   "metadata": {},
   "outputs": [],
   "source": [
    "dataset.add_parts(associations)"
   ]
  },
  {
   "cell_type": "code",
   "execution_count": 51,
   "metadata": {},
   "outputs": [
    {
     "name": "stdout",
     "output_type": "stream",
     "text": [
      "<action> _register_one\n",
      "<succeeded> True\n"
     ]
    }
   ],
   "source": [
    "forge.register(dataset)"
   ]
  },
  {
   "cell_type": "code",
   "execution_count": 52,
   "metadata": {
    "scrolled": true
   },
   "outputs": [
    {
     "data": {
      "text/plain": [
       "{'id': 'https://sandbox.bluebrainnexus.io/v1/resources/github-users/mfsy/_/521dd053-38d8-4f6d-b47d-c7c502faae86',\n",
       " 'type': 'Dataset',\n",
       " 'hasPart': [{'id': 'https://sandbox.bluebrainnexus.io/v1/resources/github-users/mfsy/_/899ca1b8-80d0-4d2e-b5d2-d9586365a00b?rev=1',\n",
       "   'type': 'Association',\n",
       "   'distribution': {'contentUrl': 'https://sandbox.bluebrainnexus.io/v1/files/github-users/mfsy/eab86c1b-2d9c-484c-981b-b4822518fb78'},\n",
       "   'name': 'Curie Association'},\n",
       "  {'id': 'https://sandbox.bluebrainnexus.io/v1/resources/github-users/mfsy/_/708ac4d5-05f9-487f-9147-cc14881428e4?rev=1',\n",
       "   'type': 'Association',\n",
       "   'distribution': {'contentUrl': 'https://sandbox.bluebrainnexus.io/v1/files/github-users/mfsy/bd10baa6-737c-4cb6-bd73-06f3f2cb34ec'},\n",
       "   'name': 'Einstein Association'}],\n",
       " 'name': 'Interesting associations'}"
      ]
     },
     "execution_count": 52,
     "metadata": {},
     "output_type": "execute_result"
    }
   ],
   "source": [
    "forge.as_json(dataset)"
   ]
  }
 ],
 "metadata": {
  "kernelspec": {
   "display_name": "Python 3.7 (nexusforgelatest)",
   "language": "python",
   "name": "nexusforgelatest"
  },
  "language_info": {
   "codemirror_mode": {
    "name": "ipython",
    "version": 3
   },
   "file_extension": ".py",
   "mimetype": "text/x-python",
   "name": "python",
   "nbconvert_exporter": "python",
   "pygments_lexer": "ipython3",
   "version": "3.7.10"
  }
 },
 "nbformat": 4,
 "nbformat_minor": 4
}

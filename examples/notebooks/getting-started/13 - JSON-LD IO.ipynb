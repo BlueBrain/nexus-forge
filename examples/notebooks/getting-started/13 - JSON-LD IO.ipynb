{
 "cells": [
  {
   "cell_type": "markdown",
   "metadata": {
    "ExecuteTime": {
     "end_time": "2019-09-23T18:50:19.036357Z",
     "start_time": "2019-09-23T18:50:19.031896Z"
    }
   },
   "source": [
    "# JSON-LD Conversions\n",
    "\n",
    "This notebook demonstrates to convert Resources to JSON-LD and vice-versa, and the different possibilities to asign a context to a Resource. Thus has the following priority:\n",
    "1. use the context explicitly assigned to the resource i.e.`jane.context=\"http://shchema.org\"`\n",
    "2. use the context configured in the RdfModel if any\n",
    "3. Let the store add a context (if it is a RDF-store)\n",
    "\n",
    "This notebook can be used with one of the two stores: \n",
    "* The Demo Store, which is an in-memory store. Some features demonstrated in this notebook are not supported for this store. Do not use it for production.\n",
    "* Nexus, which uses [Blue Bran Nexus](https://bluebrainnexus.io/) as a backend."
   ]
  },
  {
   "cell_type": "code",
   "execution_count": 1,
   "metadata": {
    "ExecuteTime": {
     "end_time": "2019-09-23T18:50:20.068658Z",
     "start_time": "2019-09-23T18:50:19.054054Z"
    }
   },
   "outputs": [],
   "source": [
    "from kgforge.core import KnowledgeGraphForge"
   ]
  },
  {
   "cell_type": "markdown",
   "metadata": {},
   "source": [
    "## Create the Forge using Demo Store and Demo Model"
   ]
  },
  {
   "cell_type": "code",
   "execution_count": 2,
   "metadata": {},
   "outputs": [],
   "source": [
    "forge = KnowledgeGraphForge(\"../../configurations/demo-forge.yml\")"
   ]
  },
  {
   "cell_type": "markdown",
   "metadata": {},
   "source": [
    "## Create the Forge using Nexus Store and RDF Model"
   ]
  },
  {
   "cell_type": "markdown",
   "metadata": {},
   "source": [
    "To run the demo using Nexus, use the next three cells. Provide the Nexus token and the organization and project you want to use."
   ]
  },
  {
   "cell_type": "code",
   "execution_count": null,
   "metadata": {},
   "outputs": [],
   "source": [
    "import getpass"
   ]
  },
  {
   "cell_type": "code",
   "execution_count": null,
   "metadata": {},
   "outputs": [],
   "source": [
    "token = getpass.getpass()"
   ]
  },
  {
   "cell_type": "code",
   "execution_count": null,
   "metadata": {},
   "outputs": [],
   "source": [
    "bucket = \"dke/kgforge_tests\""
   ]
  },
  {
   "cell_type": "code",
   "execution_count": null,
   "metadata": {},
   "outputs": [],
   "source": [
    "forge = KnowledgeGraphForge(\"../../configurations/demo-forge-nexus.yml\", bucket=bucket, token=token)"
   ]
  },
  {
   "cell_type": "markdown",
   "metadata": {},
   "source": [
    "# Context"
   ]
  },
  {
   "cell_type": "code",
   "execution_count": 3,
   "metadata": {},
   "outputs": [],
   "source": [
    "context = {\n",
    "    \"ex\": \"http://example.org/\",\n",
    "    \"Person\": \"ex:Person\",\n",
    "    \"Organization\": \"ex:Organization\",\n",
    "    \"employer\": \"ex:employer\",\n",
    "    \"name\": \"ex:name\"\n",
    "}"
   ]
  },
  {
   "cell_type": "markdown",
   "metadata": {},
   "source": [
    "# Imports"
   ]
  },
  {
   "cell_type": "code",
   "execution_count": 4,
   "metadata": {},
   "outputs": [],
   "source": [
    "import json"
   ]
  },
  {
   "cell_type": "code",
   "execution_count": 5,
   "metadata": {},
   "outputs": [],
   "source": [
    "from kgforge.core import Resource"
   ]
  },
  {
   "cell_type": "code",
   "execution_count": 6,
   "metadata": {},
   "outputs": [],
   "source": [
    "def pp(x): \n",
    "    if x is not None:\n",
    "        print(json.dumps(x, indent=4))"
   ]
  },
  {
   "cell_type": "markdown",
   "metadata": {},
   "source": [
    "## Resource to JSON-LD"
   ]
  },
  {
   "cell_type": "markdown",
   "metadata": {},
   "source": [
    "### context in the Resource"
   ]
  },
  {
   "cell_type": "code",
   "execution_count": 7,
   "metadata": {},
   "outputs": [],
   "source": [
    "jane = Resource(type=\"Person\", name=\"Jane Doe\")"
   ]
  },
  {
   "cell_type": "code",
   "execution_count": 8,
   "metadata": {},
   "outputs": [],
   "source": [
    "jane.context = context"
   ]
  },
  {
   "cell_type": "code",
   "execution_count": 9,
   "metadata": {},
   "outputs": [
    {
     "name": "stdout",
     "output_type": "stream",
     "text": [
      "{\n",
      "    context:\n",
      "    {\n",
      "        Organization: ex:Organization\n",
      "        Person: ex:Person\n",
      "        employer: ex:employer\n",
      "        ex: http://example.org/\n",
      "        name: ex:name\n",
      "    }\n",
      "    type: Person\n",
      "    name: Jane Doe\n",
      "}\n"
     ]
    }
   ],
   "source": [
    "print(jane)"
   ]
  },
  {
   "cell_type": "code",
   "execution_count": 10,
   "metadata": {},
   "outputs": [
    {
     "name": "stdout",
     "output_type": "stream",
     "text": [
      "<action> _register_one\n",
      "<succeeded> True\n"
     ]
    }
   ],
   "source": [
    "forge.register(jane)"
   ]
  },
  {
   "cell_type": "code",
   "execution_count": 11,
   "metadata": {},
   "outputs": [
    {
     "name": "stdout",
     "output_type": "stream",
     "text": [
      "{\n",
      "    \"@context\": {\n",
      "        \"ex\": \"http://example.org/\",\n",
      "        \"Person\": \"ex:Person\",\n",
      "        \"Organization\": \"ex:Organization\",\n",
      "        \"employer\": \"ex:employer\",\n",
      "        \"name\": \"ex:name\"\n",
      "    },\n",
      "    \"@id\": \"file:///Users/agarcia/Developments/kgforge/examples/notebooks/getting-started/e60c1efd-08a7-4f1e-a377-5a68f58acdbb\",\n",
      "    \"@type\": \"Person\",\n",
      "    \"name\": \"Jane Doe\"\n",
      "}\n"
     ]
    }
   ],
   "source": [
    "pp(forge.as_jsonld(jane, form=\"compacted\"))"
   ]
  },
  {
   "cell_type": "code",
   "execution_count": 12,
   "metadata": {},
   "outputs": [
    {
     "name": "stdout",
     "output_type": "stream",
     "text": [
      "{\n",
      "    \"@context\": {\n",
      "        \"ex\": \"http://example.org/\",\n",
      "        \"Person\": \"ex:Person\",\n",
      "        \"Organization\": \"ex:Organization\",\n",
      "        \"employer\": \"ex:employer\",\n",
      "        \"name\": \"ex:name\"\n",
      "    },\n",
      "    \"@id\": \"file:///Users/agarcia/Developments/kgforge/examples/notebooks/getting-started/e60c1efd-08a7-4f1e-a377-5a68f58acdbb\",\n",
      "    \"@type\": \"Person\",\n",
      "    \"name\": \"Jane Doe\"\n",
      "}\n"
     ]
    }
   ],
   "source": [
    " pp(forge.as_jsonld(jane))"
   ]
  },
  {
   "cell_type": "code",
   "execution_count": 13,
   "metadata": {},
   "outputs": [
    {
     "name": "stdout",
     "output_type": "stream",
     "text": [
      "<action> _as_jsonld_one\n",
      "<error> NotSupportedError: no available context in the metadata\n",
      "\n"
     ]
    }
   ],
   "source": [
    "pp(forge.as_jsonld(jane, store_metadata=True))"
   ]
  },
  {
   "cell_type": "markdown",
   "metadata": {},
   "source": [
    "### context available in the web"
   ]
  },
  {
   "cell_type": "code",
   "execution_count": 14,
   "metadata": {},
   "outputs": [],
   "source": [
    "ivan = Resource(context=\"http://schema.org\", type=\"Person\", name=\"Ivan Tyron\")"
   ]
  },
  {
   "cell_type": "code",
   "execution_count": 15,
   "metadata": {},
   "outputs": [
    {
     "name": "stdout",
     "output_type": "stream",
     "text": [
      "{\n",
      "    \"@context\": \"http://schema.org\",\n",
      "    \"type\": \"Person\",\n",
      "    \"name\": \"Ivan Tyron\"\n",
      "}\n"
     ]
    }
   ],
   "source": [
    "pp(forge.as_jsonld(ivan))"
   ]
  },
  {
   "cell_type": "code",
   "execution_count": 16,
   "metadata": {},
   "outputs": [
    {
     "name": "stdout",
     "output_type": "stream",
     "text": [
      "<action> _register_one\n",
      "<succeeded> True\n"
     ]
    }
   ],
   "source": [
    "forge.register(ivan)"
   ]
  },
  {
   "cell_type": "code",
   "execution_count": 17,
   "metadata": {},
   "outputs": [
    {
     "name": "stdout",
     "output_type": "stream",
     "text": [
      "{\n",
      "    \"@id\": \"file:///Users/agarcia/Developments/kgforge/examples/notebooks/getting-started/b1d266d3-c2fc-4cb3-9005-659af21e2de6\",\n",
      "    \"@type\": \"http://schema.org/Person\",\n",
      "    \"http://schema.org/name\": \"Ivan Tyron\"\n",
      "}\n"
     ]
    }
   ],
   "source": [
    "pp(forge.as_jsonld(ivan, form=\"expanded\"))"
   ]
  },
  {
   "cell_type": "markdown",
   "metadata": {},
   "source": [
    "### context from the model\n",
    "\n",
    "The configured model provides a default context that will be used to create resources that do not have context provided."
   ]
  },
  {
   "cell_type": "code",
   "execution_count": 18,
   "metadata": {},
   "outputs": [],
   "source": [
    "hana = Resource(type=\"Person\", name=\"Hana Lloyd\")"
   ]
  },
  {
   "cell_type": "code",
   "execution_count": 19,
   "metadata": {},
   "outputs": [
    {
     "name": "stdout",
     "output_type": "stream",
     "text": [
      "{\n",
      "    \"@context\": {\n",
      "        \"Person\": \"schema:Person\",\n",
      "        \"Association\": \"prov:Association\",\n",
      "        \"type\": \"rdf:type\",\n",
      "        \"name\": \"schema:name\",\n",
      "        \"agent\": \"prov:agent\"\n",
      "    },\n",
      "    \"@type\": \"Person\",\n",
      "    \"name\": \"Hana Lloyd\"\n",
      "}\n"
     ]
    }
   ],
   "source": [
    "pp(forge.as_jsonld(hana))"
   ]
  },
  {
   "cell_type": "code",
   "execution_count": 20,
   "metadata": {},
   "outputs": [
    {
     "name": "stdout",
     "output_type": "stream",
     "text": [
      "<action> _register_one\n",
      "<succeeded> True\n"
     ]
    }
   ],
   "source": [
    "forge.register(hana)"
   ]
  },
  {
   "cell_type": "code",
   "execution_count": 21,
   "metadata": {},
   "outputs": [
    {
     "name": "stdout",
     "output_type": "stream",
     "text": [
      "{\n",
      "    \"@id\": \"file:///Users/agarcia/Developments/kgforge/examples/notebooks/getting-started/21e04e90-45d6-40ad-a87d-c70d257537bb\",\n",
      "    \"@type\": \"schema:Person\",\n",
      "    \"schema:name\": \"Hana Lloyd\"\n",
      "}\n"
     ]
    }
   ],
   "source": [
    "pp(forge.as_jsonld(hana, form=\"expanded\"))"
   ]
  },
  {
   "cell_type": "markdown",
   "metadata": {},
   "source": [
    "### context available in the store\n",
    "\n",
    "It is possible to use a context that is only available in the Store, such as `https://bbp.neuroshapes.org`"
   ]
  },
  {
   "cell_type": "code",
   "execution_count": 22,
   "metadata": {},
   "outputs": [],
   "source": [
    "karen = Resource(context=\"https://bbp.neuroshapes.org\", type=\"Person\", name=\"Karen Jones\")"
   ]
  },
  {
   "cell_type": "code",
   "execution_count": 23,
   "metadata": {},
   "outputs": [
    {
     "name": "stdout",
     "output_type": "stream",
     "text": [
      "<action> _register_one\n",
      "<succeeded> True\n"
     ]
    }
   ],
   "source": [
    "forge.register(karen)"
   ]
  },
  {
   "cell_type": "code",
   "execution_count": 24,
   "metadata": {},
   "outputs": [
    {
     "name": "stdout",
     "output_type": "stream",
     "text": [
      "{\n",
      "    context: https://bbp.neuroshapes.org\n",
      "    id: 0d8a26b6-6df9-417f-8a14-e893f3fad81e\n",
      "    type: Person\n",
      "    name: Karen Jones\n",
      "}\n"
     ]
    }
   ],
   "source": [
    "print(karen)"
   ]
  },
  {
   "cell_type": "markdown",
   "metadata": {},
   "source": [
    "Since this context is not locally resolvable the json-ld conversion will fail."
   ]
  },
  {
   "cell_type": "code",
   "execution_count": 25,
   "metadata": {},
   "outputs": [
    {
     "name": "stdout",
     "output_type": "stream",
     "text": [
      "<action> _as_jsonld_one\n",
      "<error> ValueError: https://bbp.neuroshapes.org is not resolvable\n",
      "\n"
     ]
    }
   ],
   "source": [
    "forge.as_jsonld(karen)"
   ]
  },
  {
   "cell_type": "markdown",
   "metadata": {},
   "source": [
    "## JSON-LD to Resource"
   ]
  },
  {
   "cell_type": "code",
   "execution_count": 26,
   "metadata": {},
   "outputs": [],
   "source": [
    "paul = Resource(context=context, type=\"Person\", name=\"Paul Owens\")"
   ]
  },
  {
   "cell_type": "code",
   "execution_count": 27,
   "metadata": {},
   "outputs": [],
   "source": [
    "data = {\n",
    "    \"@context\": context,\n",
    "    \"@type\": \"Person\",\n",
    "    \"name\": \"Paul Owens\",\n",
    "}"
   ]
  },
  {
   "cell_type": "code",
   "execution_count": 28,
   "metadata": {},
   "outputs": [],
   "source": [
    "resource = forge.from_jsonld(data)"
   ]
  },
  {
   "cell_type": "code",
   "execution_count": 29,
   "metadata": {},
   "outputs": [
    {
     "data": {
      "text/plain": [
       "True"
      ]
     },
     "execution_count": 29,
     "metadata": {},
     "output_type": "execute_result"
    }
   ],
   "source": [
    "resource == paul"
   ]
  },
  {
   "cell_type": "code",
   "execution_count": null,
   "metadata": {},
   "outputs": [],
   "source": []
  }
 ],
 "metadata": {
  "kernelspec": {
   "display_name": "kgforge(v2)",
   "language": "python",
   "name": "kgforge"
  },
  "language_info": {
   "codemirror_mode": {
    "name": "ipython",
    "version": 3
   },
   "file_extension": ".py",
   "mimetype": "text/x-python",
   "name": "python",
   "nbconvert_exporter": "python",
   "pygments_lexer": "ipython3",
   "version": "3.7.5"
  }
 },
 "nbformat": 4,
 "nbformat_minor": 4
}

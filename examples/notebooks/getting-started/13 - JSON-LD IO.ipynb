{
 "cells": [
  {
   "cell_type": "code",
   "execution_count": 1,
   "metadata": {
    "ExecuteTime": {
     "end_time": "2019-09-23T18:50:19.036357Z",
     "start_time": "2019-09-23T18:50:19.031896Z"
    }
   },
   "outputs": [],
   "source": [
    "# ! pip install kgforge"
   ]
  },
  {
   "cell_type": "code",
   "execution_count": 2,
   "metadata": {
    "ExecuteTime": {
     "end_time": "2019-09-23T18:50:20.068658Z",
     "start_time": "2019-09-23T18:50:19.054054Z"
    }
   },
   "outputs": [],
   "source": [
    "from kgforge.core import KnowledgeGraphForge"
   ]
  },
  {
   "cell_type": "code",
   "execution_count": 3,
   "metadata": {},
   "outputs": [],
   "source": [
    "forge = KnowledgeGraphForge(\"../../configurations/demo-forge.yml\")"
   ]
  },
  {
   "cell_type": "markdown",
   "metadata": {},
   "source": [
    "# Context"
   ]
  },
  {
   "cell_type": "code",
   "execution_count": 4,
   "metadata": {},
   "outputs": [],
   "source": [
    "context = {\n",
    "    \"ex\": \"http://example.org/\",\n",
    "    \"Person\": \"ex:Person\",\n",
    "    \"Organization\": \"ex:Organization\",\n",
    "    \"employer\": \"ex:employer\",\n",
    "    \"name\": \"ex:name\"\n",
    "}"
   ]
  },
  {
   "cell_type": "markdown",
   "metadata": {},
   "source": [
    "# Imports"
   ]
  },
  {
   "cell_type": "code",
   "execution_count": 5,
   "metadata": {},
   "outputs": [],
   "source": [
    "import json"
   ]
  },
  {
   "cell_type": "code",
   "execution_count": 6,
   "metadata": {},
   "outputs": [],
   "source": [
    "from kgforge.core import Resource"
   ]
  },
  {
   "cell_type": "code",
   "execution_count": 7,
   "metadata": {},
   "outputs": [],
   "source": [
    "def pp(x): \n",
    "    if x is not None:\n",
    "        print(json.dumps(x, indent=4))"
   ]
  },
  {
   "cell_type": "markdown",
   "metadata": {},
   "source": [
    "## Resource to JSON-LD"
   ]
  },
  {
   "cell_type": "markdown",
   "metadata": {},
   "source": [
    "### context in the Resource"
   ]
  },
  {
   "cell_type": "code",
   "execution_count": 8,
   "metadata": {},
   "outputs": [],
   "source": [
    "jane = Resource(type=\"Person\", name=\"Jane Doe\")"
   ]
  },
  {
   "cell_type": "code",
   "execution_count": 9,
   "metadata": {},
   "outputs": [],
   "source": [
    "jane.context = context"
   ]
  },
  {
   "cell_type": "code",
   "execution_count": 10,
   "metadata": {},
   "outputs": [
    {
     "name": "stdout",
     "output_type": "stream",
     "text": [
      "{\n",
      "    context:\n",
      "    {\n",
      "        Organization: ex:Organization\n",
      "        Person: ex:Person\n",
      "        employer: ex:employer\n",
      "        ex: http://example.org/\n",
      "        name: ex:name\n",
      "    }\n",
      "    type: Person\n",
      "    name: Jane Doe\n",
      "}\n"
     ]
    }
   ],
   "source": [
    "print(jane)"
   ]
  },
  {
   "cell_type": "code",
   "execution_count": 11,
   "metadata": {},
   "outputs": [
    {
     "name": "stdout",
     "output_type": "stream",
     "text": [
      "<action> _register_one\n",
      "<succeeded> True\n"
     ]
    }
   ],
   "source": [
    "forge.register(jane)"
   ]
  },
  {
   "cell_type": "code",
   "execution_count": 12,
   "metadata": {},
   "outputs": [
    {
     "name": "stdout",
     "output_type": "stream",
     "text": [
      "{\n",
      "    \"@context\": {\n",
      "        \"ex\": \"http://example.org/\",\n",
      "        \"Person\": \"ex:Person\",\n",
      "        \"Organization\": \"ex:Organization\",\n",
      "        \"employer\": \"ex:employer\",\n",
      "        \"name\": \"ex:name\"\n",
      "    },\n",
      "    \"@id\": \"file:///Users/agarcia/Developments/kgforge/examples/notebooks/getting-started/45e0cbff-0310-4b15-89c9-fddc50801b05\",\n",
      "    \"@type\": \"Person\",\n",
      "    \"name\": \"Jane Doe\"\n",
      "}\n"
     ]
    }
   ],
   "source": [
    "pp(forge.as_jsonld(jane, form=\"compacted\"))"
   ]
  },
  {
   "cell_type": "code",
   "execution_count": 13,
   "metadata": {},
   "outputs": [
    {
     "name": "stdout",
     "output_type": "stream",
     "text": [
      "{\n",
      "    \"@context\": {\n",
      "        \"ex\": \"http://example.org/\",\n",
      "        \"Person\": \"ex:Person\",\n",
      "        \"Organization\": \"ex:Organization\",\n",
      "        \"employer\": \"ex:employer\",\n",
      "        \"name\": \"ex:name\"\n",
      "    },\n",
      "    \"@id\": \"file:///Users/agarcia/Developments/kgforge/examples/notebooks/getting-started/45e0cbff-0310-4b15-89c9-fddc50801b05\",\n",
      "    \"@type\": \"Person\",\n",
      "    \"name\": \"Jane Doe\"\n",
      "}\n"
     ]
    }
   ],
   "source": [
    " pp(forge.as_jsonld(jane))"
   ]
  },
  {
   "cell_type": "code",
   "execution_count": 14,
   "metadata": {},
   "outputs": [
    {
     "name": "stdout",
     "output_type": "stream",
     "text": [
      "<action> _as_jsonld_one\n",
      "<error> NotSupportedError: no available context in the metadata\n",
      "\n"
     ]
    }
   ],
   "source": [
    "pp(forge.as_jsonld(jane, store_metadata=True))"
   ]
  },
  {
   "cell_type": "markdown",
   "metadata": {},
   "source": [
    "### context available in the web"
   ]
  },
  {
   "cell_type": "code",
   "execution_count": 15,
   "metadata": {},
   "outputs": [],
   "source": [
    "ivan = Resource(context=\"http://schema.org\", type=\"Person\", name=\"Ivan Tyron\")"
   ]
  },
  {
   "cell_type": "code",
   "execution_count": 16,
   "metadata": {},
   "outputs": [
    {
     "name": "stdout",
     "output_type": "stream",
     "text": [
      "{\n",
      "    \"@context\": \"http://schema.org\",\n",
      "    \"type\": \"Person\",\n",
      "    \"name\": \"Ivan Tyron\"\n",
      "}\n"
     ]
    }
   ],
   "source": [
    "pp(forge.as_jsonld(ivan))"
   ]
  },
  {
   "cell_type": "code",
   "execution_count": 17,
   "metadata": {},
   "outputs": [
    {
     "name": "stdout",
     "output_type": "stream",
     "text": [
      "<action> _register_one\n",
      "<succeeded> True\n"
     ]
    }
   ],
   "source": [
    "forge.register(ivan)"
   ]
  },
  {
   "cell_type": "code",
   "execution_count": 18,
   "metadata": {},
   "outputs": [
    {
     "name": "stdout",
     "output_type": "stream",
     "text": [
      "{\n",
      "    \"@id\": \"file:///Users/agarcia/Developments/kgforge/examples/notebooks/getting-started/54dfbbdb-1dad-43ec-91ae-10cd2b2446cc\",\n",
      "    \"@type\": \"http://schema.org/Person\",\n",
      "    \"http://schema.org/name\": \"Ivan Tyron\"\n",
      "}\n"
     ]
    }
   ],
   "source": [
    "pp(forge.as_jsonld(ivan, form=\"expanded\"))"
   ]
  },
  {
   "cell_type": "markdown",
   "metadata": {},
   "source": [
    "### context from the model\n",
    "\n",
    "The configured model provides a default context that will be used to create resources that do not have context provided."
   ]
  },
  {
   "cell_type": "code",
   "execution_count": 19,
   "metadata": {},
   "outputs": [],
   "source": [
    "hana = Resource(type=\"Person\", name=\"Hana Lloyd\")"
   ]
  },
  {
   "cell_type": "code",
   "execution_count": 20,
   "metadata": {},
   "outputs": [
    {
     "name": "stdout",
     "output_type": "stream",
     "text": [
      "{\n",
      "    \"@context\": {\n",
      "        \"Person\": \"schema:Person\",\n",
      "        \"Association\": \"prov:Association\",\n",
      "        \"type\": \"rdf:type\",\n",
      "        \"name\": \"schema:name\",\n",
      "        \"agent\": \"prov:agent\"\n",
      "    },\n",
      "    \"@type\": \"Person\",\n",
      "    \"name\": \"Hana Lloyd\"\n",
      "}\n"
     ]
    }
   ],
   "source": [
    "pp(forge.as_jsonld(hana))"
   ]
  },
  {
   "cell_type": "code",
   "execution_count": 21,
   "metadata": {},
   "outputs": [
    {
     "name": "stdout",
     "output_type": "stream",
     "text": [
      "<action> _register_one\n",
      "<succeeded> True\n"
     ]
    }
   ],
   "source": [
    "forge.register(hana)"
   ]
  },
  {
   "cell_type": "code",
   "execution_count": 22,
   "metadata": {},
   "outputs": [
    {
     "name": "stdout",
     "output_type": "stream",
     "text": [
      "{\n",
      "    \"@id\": \"file:///Users/agarcia/Developments/kgforge/examples/notebooks/getting-started/0e026208-a3aa-4e38-8750-6317b1dcfe9d\",\n",
      "    \"@type\": \"schema:Person\",\n",
      "    \"schema:name\": \"Hana Lloyd\"\n",
      "}\n"
     ]
    }
   ],
   "source": [
    "pp(forge.as_jsonld(hana, form=\"expanded\"))"
   ]
  },
  {
   "cell_type": "markdown",
   "metadata": {},
   "source": [
    "### context available in the store\n",
    "\n",
    "It is possible to use a context that is only available in the Store, such as `https://bbp.neuroshapes.org`"
   ]
  },
  {
   "cell_type": "code",
   "execution_count": 23,
   "metadata": {},
   "outputs": [],
   "source": [
    "karen = Resource(context=\"https://bbp.neuroshapes.org\", type=\"Person\", name=\"Karen Jones\")"
   ]
  },
  {
   "cell_type": "code",
   "execution_count": 24,
   "metadata": {},
   "outputs": [
    {
     "name": "stdout",
     "output_type": "stream",
     "text": [
      "<action> _register_one\n",
      "<succeeded> True\n"
     ]
    }
   ],
   "source": [
    "forge.register(karen)"
   ]
  },
  {
   "cell_type": "code",
   "execution_count": 25,
   "metadata": {},
   "outputs": [
    {
     "name": "stdout",
     "output_type": "stream",
     "text": [
      "{\n",
      "    context: https://bbp.neuroshapes.org\n",
      "    id: 77757d09-c378-4ee6-8747-cd39610a3947\n",
      "    type: Person\n",
      "    name: Karen Jones\n",
      "}\n"
     ]
    }
   ],
   "source": [
    "print(karen)"
   ]
  },
  {
   "cell_type": "markdown",
   "metadata": {},
   "source": [
    "Since this context is not locally resolvable the json-ld conversion will fail."
   ]
  },
  {
   "cell_type": "code",
   "execution_count": 26,
   "metadata": {},
   "outputs": [
    {
     "name": "stdout",
     "output_type": "stream",
     "text": [
      "<action> _as_jsonld_one\n",
      "<error> ValueError: https://bbp.neuroshapes.org is not resolvable\n",
      "\n"
     ]
    }
   ],
   "source": [
    "forge.as_jsonld(karen)"
   ]
  },
  {
   "cell_type": "markdown",
   "metadata": {},
   "source": [
    "## JSON-LD to Resource"
   ]
  },
  {
   "cell_type": "code",
   "execution_count": 27,
   "metadata": {},
   "outputs": [],
   "source": [
    "paul = Resource(context=context, type=\"Person\", name=\"Paul Owens\")"
   ]
  },
  {
   "cell_type": "code",
   "execution_count": 28,
   "metadata": {},
   "outputs": [],
   "source": [
    "data = {\n",
    "    \"@context\": context,\n",
    "    \"@type\": \"Person\",\n",
    "    \"name\": \"Paul Owens\",\n",
    "}"
   ]
  },
  {
   "cell_type": "code",
   "execution_count": 29,
   "metadata": {},
   "outputs": [],
   "source": [
    "resource = forge.from_jsonld(data)"
   ]
  },
  {
   "cell_type": "code",
   "execution_count": 30,
   "metadata": {},
   "outputs": [
    {
     "data": {
      "text/plain": [
       "True"
      ]
     },
     "execution_count": 30,
     "metadata": {},
     "output_type": "execute_result"
    }
   ],
   "source": [
    "resource == paul"
   ]
  },
  {
   "cell_type": "code",
   "execution_count": null,
   "metadata": {},
   "outputs": [],
   "source": []
  }
 ],
 "metadata": {
  "kernelspec": {
   "display_name": "kgforge(v2)",
   "language": "python",
   "name": "kgforge"
  },
  "language_info": {
   "codemirror_mode": {
    "name": "ipython",
    "version": 3
   },
   "file_extension": ".py",
   "mimetype": "text/x-python",
   "name": "python",
   "nbconvert_exporter": "python",
   "pygments_lexer": "ipython3",
   "version": "3.7.5"
  }
 },
 "nbformat": 4,
 "nbformat_minor": 4
}

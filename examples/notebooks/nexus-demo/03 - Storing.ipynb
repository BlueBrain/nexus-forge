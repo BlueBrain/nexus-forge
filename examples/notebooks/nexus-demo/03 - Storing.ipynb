{
 "cells": [
  {
   "cell_type": "markdown",
   "metadata": {},
   "source": [
    "# Storing\n",
    "\n",
    "This notebook demonstrates the use the Storing interface of the Forge."
   ]
  },
  {
   "cell_type": "markdown",
   "metadata": {
    "ExecuteTime": {
     "end_time": "2019-09-23T18:50:19.036357Z",
     "start_time": "2019-09-23T18:50:19.031896Z"
    }
   },
   "source": [
    "## Initialisation\n",
    "\n",
    "Run the [Blue Brain Nexus project creation notebook](./00%20-%20Nexus_Project_Initialisation.ipynb) to create a Blue Brain Nexus project if you don't have one."
   ]
  },
  {
   "cell_type": "code",
   "execution_count": null,
   "metadata": {},
   "outputs": [],
   "source": [
    "!pip install git+https://github.com/BlueBrain/nexus-forge"
   ]
  },
  {
   "cell_type": "code",
   "execution_count": null,
   "metadata": {},
   "outputs": [],
   "source": [
    "import getpass"
   ]
  },
  {
   "cell_type": "markdown",
   "metadata": {},
   "source": [
    "The [Nexus web application](https://sandbox.bluebrainnexus.io/web) can be used to login and get a token.\n",
    "\n",
    "- Step 1: From the opened web page, click on the login button on the right corner and follow the instructions.\n",
    "\n",
    "![login-ui](https://raw.githubusercontent.com/BlueBrain/nexus-forge/master/examples/notebooks/use-cases/login-ui.png)\n",
    "\n",
    "- Step 2: At the end you’ll see a token button on the right corner. Click on it to copy the token.\n",
    "\n",
    "![login-ui](https://raw.githubusercontent.com/BlueBrain/nexus-forge/master/examples/notebooks/use-cases/copy-token.png)\n"
   ]
  },
  {
   "cell_type": "code",
   "execution_count": null,
   "metadata": {},
   "outputs": [],
   "source": [
    "token = getpass.getpass()"
   ]
  },
  {
   "cell_type": "code",
   "execution_count": null,
   "metadata": {},
   "outputs": [],
   "source": [
    "from kgforge.core import KnowledgeGraphForge"
   ]
  },
  {
   "cell_type": "code",
   "execution_count": null,
   "metadata": {},
   "outputs": [],
   "source": [
    "# Clone the repository if in Google Colab\n",
    "import os \n",
    "\n",
    "!pwd\n",
    "tutorial_base_dir = \"./nexus-forge\"\n",
    "if os.path.exists(tutorial_base_dir):\n",
    "  !rm -Rf $tutorial_base_dir\n",
    "\n",
    "!git clone --single-branch https://github.com/BlueBrain/nexus-forge.git\n",
    "\n",
    "\n",
    "os.chdir(\"/\".join([tutorial_base_dir,\"examples/notebooks/nexus-demo\"]))\n",
    "\n",
    "print(\"The working directory is now:\")\n",
    "!pwd"
   ]
  },
  {
   "cell_type": "code",
   "execution_count": null,
   "metadata": {},
   "outputs": [],
   "source": [
    "#Let get some SHACL shapes from https://github.com/INCF/neuroshapes.git\n",
    "import os \n",
    "\n",
    "neuroshapes_dir = \"./neuroshapes\"\n",
    "if os.path.exists(neuroshapes_dir):\n",
    "  !rm -Rf $neuroshapes_dir\n",
    "! git clone https://github.com/INCF/neuroshapes.git\n",
    "! cp -R \"./neuroshapes/shapes/neurosciencegraph/datashapes/core/dataset\" \"./neuroshapes/shapes/neurosciencegraph/commons/\" \n",
    "! cp -R \"./neuroshapes/shapes/neurosciencegraph/datashapes/core/activity\" \"./neuroshapes/shapes/neurosciencegraph/commons/\" \n",
    "! cp -R \"./neuroshapes/shapes/neurosciencegraph/datashapes/core/entity\" \"./neuroshapes/shapes/neurosciencegraph/commons/\" \n",
    "! cp -R \"./neuroshapes/shapes/neurosciencegraph/datashapes/core/ontology\" \"./neuroshapes/shapes/neurosciencegraph/commons/\" \n",
    "! cp -R \"./neuroshapes/shapes/neurosciencegraph/datashapes/core/person\" \"./neuroshapes/shapes/neurosciencegraph/commons/\" "
   ]
  },
  {
   "cell_type": "code",
   "execution_count": null,
   "metadata": {},
   "outputs": [],
   "source": [
    "# Set up some configurations\n",
    "\n",
    "org =\"tutorialnexus\"\n",
    "project =\"myProject\"\n",
    "bucket = org+\"/\"+project\n",
    "endpoint = \"https://sandbox.bluebrainnexus.io/v1\"\n",
    "\n",
    "\n",
    "config = {\n",
    "  \"Model\": {\n",
    "    \"name\": \"RdfModel\",\n",
    "    \"origin\": \"directory\",\n",
    "    \"source\": \"./neuroshapes/shapes/neurosciencegraph/commons/\",\n",
    "    \"context\": {\n",
    "      \"iri\": \"./neuroshapes_context.json\"\n",
    "    }\n",
    "  },\n",
    "  \"Store\": {\n",
    "    \"name\": \"BlueBrainNexus\",\n",
    "    \"endpoint\": \"https://sandbox.bluebrainnexus.io/v1\",\n",
    "    \"versioned_id_template\": \"{x.id}?rev={x._store_metadata._rev}\",\n",
    "    \"file_resource_mapping\": \"../../configurations/nexus-store/file-to-resource-mapping.hjson\"\n",
    "  },\n",
    "  \"Formatters\": {\n",
    "    \"identifier\": \"https://kg.example.ch/{}/{}\"\n",
    "  }\n",
    "}\n"
   ]
  },
  {
   "cell_type": "code",
   "execution_count": null,
   "metadata": {},
   "outputs": [],
   "source": [
    "# Get a KnowledgeGraphForge session\n",
    "\n",
    "forge = KnowledgeGraphForge(config, endpoint=endpoint,bucket=bucket, token=token)"
   ]
  },
  {
   "cell_type": "markdown",
   "metadata": {},
   "source": [
    "## Imports"
   ]
  },
  {
   "cell_type": "code",
   "execution_count": null,
   "metadata": {},
   "outputs": [],
   "source": [
    "from kgforge.core import Resource"
   ]
  },
  {
   "cell_type": "markdown",
   "metadata": {},
   "source": [
    "## Registration"
   ]
  },
  {
   "cell_type": "code",
   "execution_count": null,
   "metadata": {},
   "outputs": [],
   "source": [
    "jane = Resource(type=\"Person\", name=\"Jane Doe\")"
   ]
  },
  {
   "cell_type": "code",
   "execution_count": null,
   "metadata": {},
   "outputs": [],
   "source": [
    "association = Resource(type=\"Association\", agent=jane)"
   ]
  },
  {
   "cell_type": "code",
   "execution_count": null,
   "metadata": {
    "ExecuteTime": {
     "end_time": "2019-09-23T18:50:21.048776Z",
     "start_time": "2019-09-23T18:50:21.037127Z"
    }
   },
   "outputs": [],
   "source": [
    "forge.register(association)"
   ]
  },
  {
   "cell_type": "code",
   "execution_count": null,
   "metadata": {
    "ExecuteTime": {
     "end_time": "2019-09-23T18:50:21.101282Z",
     "start_time": "2019-09-23T18:50:21.090545Z"
    }
   },
   "outputs": [],
   "source": [
    "association._synchronized"
   ]
  },
  {
   "cell_type": "code",
   "execution_count": null,
   "metadata": {
    "ExecuteTime": {
     "end_time": "2019-09-23T18:50:21.086424Z",
     "start_time": "2019-09-23T18:50:21.078142Z"
    },
    "scrolled": true
   },
   "outputs": [],
   "source": [
    "association._last_action"
   ]
  },
  {
   "cell_type": "code",
   "execution_count": null,
   "metadata": {
    "ExecuteTime": {
     "end_time": "2019-09-23T18:50:21.074512Z",
     "start_time": "2019-09-23T18:50:21.061121Z"
    }
   },
   "outputs": [],
   "source": [
    "association._store_metadata"
   ]
  },
  {
   "cell_type": "markdown",
   "metadata": {},
   "source": [
    "### automatic status update"
   ]
  },
  {
   "cell_type": "code",
   "execution_count": null,
   "metadata": {},
   "outputs": [],
   "source": [
    "john = Resource(type=\"Person\", name=\"John Smith\")"
   ]
  },
  {
   "cell_type": "code",
   "execution_count": null,
   "metadata": {
    "ExecuteTime": {
     "end_time": "2019-09-23T18:50:21.109091Z",
     "start_time": "2019-09-23T18:50:21.105159Z"
    }
   },
   "outputs": [],
   "source": [
    "association.agent = john"
   ]
  },
  {
   "cell_type": "code",
   "execution_count": null,
   "metadata": {
    "ExecuteTime": {
     "end_time": "2019-09-23T18:50:21.121071Z",
     "start_time": "2019-09-23T18:50:21.112867Z"
    }
   },
   "outputs": [],
   "source": [
    "association._synchronized"
   ]
  },
  {
   "cell_type": "markdown",
   "metadata": {},
   "source": [
    "### error handling"
   ]
  },
  {
   "cell_type": "code",
   "execution_count": null,
   "metadata": {},
   "outputs": [],
   "source": [
    "jane = Resource(type=\"Person\", name=\"Jane Doe\")"
   ]
  },
  {
   "cell_type": "code",
   "execution_count": null,
   "metadata": {},
   "outputs": [],
   "source": [
    "john = Resource(type=\"Person\", name=\"John Smith\")"
   ]
  },
  {
   "cell_type": "code",
   "execution_count": null,
   "metadata": {},
   "outputs": [],
   "source": [
    "persons = [jane, john]"
   ]
  },
  {
   "cell_type": "code",
   "execution_count": null,
   "metadata": {
    "ExecuteTime": {
     "end_time": "2019-09-23T18:50:21.132160Z",
     "start_time": "2019-09-23T18:50:21.123851Z"
    }
   },
   "outputs": [],
   "source": [
    "forge.register(jane)"
   ]
  },
  {
   "cell_type": "code",
   "execution_count": null,
   "metadata": {
    "ExecuteTime": {
     "end_time": "2019-09-23T18:50:21.141175Z",
     "start_time": "2019-09-23T18:50:21.134967Z"
    }
   },
   "outputs": [],
   "source": [
    "forge.register(persons)"
   ]
  },
  {
   "cell_type": "code",
   "execution_count": null,
   "metadata": {
    "ExecuteTime": {
     "end_time": "2019-09-23T18:50:21.150719Z",
     "start_time": "2019-09-23T18:50:21.143812Z"
    }
   },
   "outputs": [],
   "source": [
    "jane._synchronized"
   ]
  },
  {
   "cell_type": "code",
   "execution_count": null,
   "metadata": {
    "ExecuteTime": {
     "end_time": "2019-09-23T18:50:21.159904Z",
     "start_time": "2019-09-23T18:50:21.153635Z"
    }
   },
   "outputs": [],
   "source": [
    "john._synchronized"
   ]
  },
  {
   "cell_type": "markdown",
   "metadata": {},
   "source": [
    "## Updating"
   ]
  },
  {
   "cell_type": "code",
   "execution_count": null,
   "metadata": {},
   "outputs": [],
   "source": [
    "jane = Resource(type=\"Person\", name=\"Jane Doe\")"
   ]
  },
  {
   "cell_type": "code",
   "execution_count": null,
   "metadata": {},
   "outputs": [],
   "source": [
    "association = Resource(type=\"Association\", agent=jane)"
   ]
  },
  {
   "cell_type": "code",
   "execution_count": null,
   "metadata": {},
   "outputs": [],
   "source": [
    "forge.register(association)"
   ]
  },
  {
   "cell_type": "code",
   "execution_count": null,
   "metadata": {},
   "outputs": [],
   "source": [
    "association._store_metadata._rev"
   ]
  },
  {
   "cell_type": "code",
   "execution_count": null,
   "metadata": {},
   "outputs": [],
   "source": [
    "john = Resource(type=\"Person\", name=\"John Smith\")"
   ]
  },
  {
   "cell_type": "code",
   "execution_count": null,
   "metadata": {},
   "outputs": [],
   "source": [
    "association.agent = john"
   ]
  },
  {
   "cell_type": "code",
   "execution_count": null,
   "metadata": {
    "ExecuteTime": {
     "end_time": "2019-09-23T18:50:21.190111Z",
     "start_time": "2019-09-23T18:50:21.182709Z"
    }
   },
   "outputs": [],
   "source": [
    "forge.update(association)"
   ]
  },
  {
   "cell_type": "code",
   "execution_count": null,
   "metadata": {
    "ExecuteTime": {
     "end_time": "2019-09-23T18:50:21.199561Z",
     "start_time": "2019-09-23T18:50:21.192465Z"
    }
   },
   "outputs": [],
   "source": [
    "association._synchronized"
   ]
  },
  {
   "cell_type": "code",
   "execution_count": null,
   "metadata": {
    "ExecuteTime": {
     "end_time": "2019-09-23T18:50:21.217024Z",
     "start_time": "2019-09-23T18:50:21.208547Z"
    }
   },
   "outputs": [],
   "source": [
    "association._store_metadata._rev"
   ]
  },
  {
   "cell_type": "markdown",
   "metadata": {},
   "source": [
    "## Deprecation"
   ]
  },
  {
   "cell_type": "code",
   "execution_count": null,
   "metadata": {},
   "outputs": [],
   "source": [
    "jane = Resource(type=\"Person\", name=\"Jane Doe\")"
   ]
  },
  {
   "cell_type": "code",
   "execution_count": null,
   "metadata": {},
   "outputs": [],
   "source": [
    "forge.register(jane)"
   ]
  },
  {
   "cell_type": "code",
   "execution_count": null,
   "metadata": {
    "ExecuteTime": {
     "end_time": "2019-09-23T18:50:21.276769Z",
     "start_time": "2019-09-23T18:50:21.266848Z"
    }
   },
   "outputs": [],
   "source": [
    "jane._store_metadata._deprecated"
   ]
  },
  {
   "cell_type": "code",
   "execution_count": null,
   "metadata": {
    "ExecuteTime": {
     "end_time": "2019-09-23T18:50:21.286647Z",
     "start_time": "2019-09-23T18:50:21.279510Z"
    }
   },
   "outputs": [],
   "source": [
    "forge.deprecate(jane)"
   ]
  },
  {
   "cell_type": "code",
   "execution_count": null,
   "metadata": {
    "ExecuteTime": {
     "end_time": "2019-09-23T18:50:21.297768Z",
     "start_time": "2019-09-23T18:50:21.290504Z"
    }
   },
   "outputs": [],
   "source": [
    "jane._store_metadata._deprecated"
   ]
  },
  {
   "cell_type": "code",
   "execution_count": null,
   "metadata": {},
   "outputs": [],
   "source": []
  }
 ],
 "metadata": {
  "kernelspec": {
   "display_name": "Python 3.6 (nexusforge_2)",
   "language": "python",
   "name": "nexusforge_2"
  },
  "language_info": {
   "codemirror_mode": {
    "name": "ipython",
    "version": 3
   },
   "file_extension": ".py",
   "mimetype": "text/x-python",
   "name": "python",
   "nbconvert_exporter": "python",
   "pygments_lexer": "ipython3",
   "version": "3.6.10"
  }
 },
 "nbformat": 4,
 "nbformat_minor": 4
}

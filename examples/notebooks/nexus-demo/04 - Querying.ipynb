{
 "cells": [
  {
   "cell_type": "markdown",
   "metadata": {
    "ExecuteTime": {
     "end_time": "2019-09-23T18:50:19.036357Z",
     "start_time": "2019-09-23T18:50:19.031896Z"
    }
   },
   "source": [
    "# Querying\n",
    "\n",
    "This notebook demonstrates how to retrieve, query and search data using the Forge."
   ]
  },
  {
   "cell_type": "code",
   "execution_count": 1,
   "metadata": {
    "ExecuteTime": {
     "end_time": "2019-09-23T18:50:20.068658Z",
     "start_time": "2019-09-23T18:50:19.054054Z"
    }
   },
   "outputs": [],
   "source": [
    "from kgforge.core import KnowledgeGraphForge"
   ]
  },
  {
   "cell_type": "code",
   "execution_count": 2,
   "metadata": {},
   "outputs": [],
   "source": [
    "import getpass"
   ]
  },
  {
   "cell_type": "code",
   "execution_count": 3,
   "metadata": {},
   "outputs": [],
   "source": [
    "token = getpass.getpass()"
   ]
  },
  {
   "cell_type": "code",
   "execution_count": 4,
   "metadata": {},
   "outputs": [],
   "source": [
    "forge = KnowledgeGraphForge(\"../../configurations/demo-forge-nexus.yml\", token=token)"
   ]
  },
  {
   "cell_type": "markdown",
   "metadata": {},
   "source": [
    "## Imports"
   ]
  },
  {
   "cell_type": "code",
   "execution_count": 5,
   "metadata": {},
   "outputs": [],
   "source": [
    "from kgforge.core import Resource"
   ]
  },
  {
   "cell_type": "markdown",
   "metadata": {},
   "source": [
    "## Retrieval"
   ]
  },
  {
   "cell_type": "code",
   "execution_count": 6,
   "metadata": {},
   "outputs": [],
   "source": [
    "jane = Resource(type=\"Person\", name=\"Jane Doe\", email=\"jane.doe@sxample.org\")"
   ]
  },
  {
   "cell_type": "code",
   "execution_count": 7,
   "metadata": {},
   "outputs": [
    {
     "name": "stdout",
     "output_type": "stream",
     "text": [
      "<action> _register_one\n",
      "<succeeded> True\n"
     ]
    }
   ],
   "source": [
    "forge.register(jane)"
   ]
  },
  {
   "cell_type": "code",
   "execution_count": 8,
   "metadata": {},
   "outputs": [],
   "source": [
    "resource = forge.retrieve(jane.id)"
   ]
  },
  {
   "cell_type": "code",
   "execution_count": 9,
   "metadata": {},
   "outputs": [
    {
     "data": {
      "text/plain": [
       "True"
      ]
     },
     "execution_count": 9,
     "metadata": {},
     "output_type": "execute_result"
    }
   ],
   "source": [
    "resource == jane"
   ]
  },
  {
   "cell_type": "markdown",
   "metadata": {},
   "source": [
    "### specific version"
   ]
  },
  {
   "cell_type": "code",
   "execution_count": 10,
   "metadata": {},
   "outputs": [],
   "source": [
    "jane = Resource(type=\"Person\", name=\"Jane Doe\")"
   ]
  },
  {
   "cell_type": "code",
   "execution_count": 11,
   "metadata": {},
   "outputs": [
    {
     "name": "stdout",
     "output_type": "stream",
     "text": [
      "<action> _register_one\n",
      "<succeeded> True\n"
     ]
    }
   ],
   "source": [
    "forge.register(jane)"
   ]
  },
  {
   "cell_type": "code",
   "execution_count": 12,
   "metadata": {},
   "outputs": [
    {
     "name": "stdout",
     "output_type": "stream",
     "text": [
      "<action> _tag_one\n",
      "<succeeded> True\n"
     ]
    }
   ],
   "source": [
    "forge.tag(jane, \"v1\")"
   ]
  },
  {
   "cell_type": "code",
   "execution_count": 13,
   "metadata": {},
   "outputs": [],
   "source": [
    "jane.email = \"jane.doe@epfl.ch\""
   ]
  },
  {
   "cell_type": "code",
   "execution_count": 14,
   "metadata": {},
   "outputs": [
    {
     "name": "stdout",
     "output_type": "stream",
     "text": [
      "<action> _update_one\n",
      "<succeeded> True\n"
     ]
    }
   ],
   "source": [
    "forge.update(jane)"
   ]
  },
  {
   "cell_type": "code",
   "execution_count": 15,
   "metadata": {
    "ExecuteTime": {
     "end_time": "2019-09-23T18:50:21.317601Z",
     "start_time": "2019-09-23T18:50:21.310418Z"
    }
   },
   "outputs": [
    {
     "data": {
      "text/plain": [
       "3"
      ]
     },
     "execution_count": 15,
     "metadata": {},
     "output_type": "execute_result"
    }
   ],
   "source": [
    "jane._store_metadata._rev"
   ]
  },
  {
   "cell_type": "code",
   "execution_count": 16,
   "metadata": {
    "ExecuteTime": {
     "end_time": "2019-09-23T18:50:21.332678Z",
     "start_time": "2019-09-23T18:50:21.322025Z"
    }
   },
   "outputs": [],
   "source": [
    "jane_v1 = forge.retrieve(jane.id, version=1)"
   ]
  },
  {
   "cell_type": "code",
   "execution_count": 17,
   "metadata": {
    "ExecuteTime": {
     "end_time": "2019-09-23T18:50:21.370051Z",
     "start_time": "2019-09-23T18:50:21.363782Z"
    }
   },
   "outputs": [],
   "source": [
    "jane_v1_tag = forge.retrieve(jane.id, version=\"v1\")"
   ]
  },
  {
   "cell_type": "code",
   "execution_count": 18,
   "metadata": {
    "ExecuteTime": {
     "end_time": "2019-09-23T18:50:21.379911Z",
     "start_time": "2019-09-23T18:50:21.373539Z"
    }
   },
   "outputs": [
    {
     "data": {
      "text/plain": [
       "True"
      ]
     },
     "execution_count": 18,
     "metadata": {},
     "output_type": "execute_result"
    }
   ],
   "source": [
    "jane_v1 == jane_v1_tag"
   ]
  },
  {
   "cell_type": "code",
   "execution_count": 19,
   "metadata": {},
   "outputs": [
    {
     "name": "stdout",
     "output_type": "stream",
     "text": [
      "{\n",
      "    context: http://context.example.org\n",
      "    id: https://bbp.epfl.ch/dke/kgforge/bc72074b-4bac-471e-8d4f-62bd98afab8a\n",
      "    type: Person\n",
      "    name: Jane Doe\n",
      "}\n"
     ]
    }
   ],
   "source": [
    "print(jane_v1)"
   ]
  },
  {
   "cell_type": "markdown",
   "metadata": {},
   "source": [
    "### error handling"
   ]
  },
  {
   "cell_type": "code",
   "execution_count": 20,
   "metadata": {},
   "outputs": [
    {
     "name": "stdout",
     "output_type": "stream",
     "text": [
      "<action> retrieve\n",
      "<error> RetrievalError: not found\n",
      "\n"
     ]
    }
   ],
   "source": [
    "resource = forge.retrieve(\"123\")"
   ]
  },
  {
   "cell_type": "code",
   "execution_count": 21,
   "metadata": {},
   "outputs": [
    {
     "name": "stdout",
     "output_type": "stream",
     "text": [
      "None\n"
     ]
    }
   ],
   "source": [
    "print(resource)"
   ]
  },
  {
   "cell_type": "markdown",
   "metadata": {},
   "source": [
    "## Searching"
   ]
  },
  {
   "cell_type": "code",
   "execution_count": 22,
   "metadata": {},
   "outputs": [],
   "source": [
    "jane = Resource(type=\"Person\", name=\"Jane Doe\")"
   ]
  },
  {
   "cell_type": "code",
   "execution_count": 23,
   "metadata": {},
   "outputs": [],
   "source": [
    "john = Resource(type=\"Person\", name=\"John Smith\")"
   ]
  },
  {
   "cell_type": "code",
   "execution_count": 24,
   "metadata": {},
   "outputs": [],
   "source": [
    "association_jane = Resource(type=\"Association\", agent=jane)"
   ]
  },
  {
   "cell_type": "code",
   "execution_count": 25,
   "metadata": {},
   "outputs": [],
   "source": [
    "association_john = Resource(type=\"Association\", agent=john)"
   ]
  },
  {
   "cell_type": "code",
   "execution_count": 26,
   "metadata": {},
   "outputs": [],
   "source": [
    "associations = [association_jane, association_john]"
   ]
  },
  {
   "cell_type": "code",
   "execution_count": 27,
   "metadata": {},
   "outputs": [
    {
     "name": "stdout",
     "output_type": "stream",
     "text": [
      "<count> 2\n",
      "<action> _register_many\n",
      "<succeeded> True\n"
     ]
    }
   ],
   "source": [
    "forge.register(associations)"
   ]
  },
  {
   "cell_type": "markdown",
   "metadata": {},
   "source": [
    "`Association` is a known type by the Model, and the `paths` method will load the data structure for the given type. Refer to the `11 - Modeling.ipynb` notebook to learn about Modeling and Types."
   ]
  },
  {
   "cell_type": "code",
   "execution_count": 28,
   "metadata": {},
   "outputs": [],
   "source": [
    "p = forge.paths(\"Association\")"
   ]
  },
  {
   "cell_type": "markdown",
   "metadata": {},
   "source": [
    "You have autocompletion on `p` and this can be used to build a search."
   ]
  },
  {
   "cell_type": "code",
   "execution_count": 29,
   "metadata": {},
   "outputs": [],
   "source": [
    "resources = forge.search(p.type == \"Association\", limit=5)"
   ]
  },
  {
   "cell_type": "code",
   "execution_count": 30,
   "metadata": {},
   "outputs": [
    {
     "data": {
      "text/plain": [
       "list"
      ]
     },
     "execution_count": 30,
     "metadata": {},
     "output_type": "execute_result"
    }
   ],
   "source": [
    "type(resources)"
   ]
  },
  {
   "cell_type": "code",
   "execution_count": 31,
   "metadata": {},
   "outputs": [
    {
     "data": {
      "text/plain": [
       "5"
      ]
     },
     "execution_count": 31,
     "metadata": {},
     "output_type": "execute_result"
    }
   ],
   "source": [
    "len(resources)  "
   ]
  },
  {
   "cell_type": "code",
   "execution_count": 32,
   "metadata": {},
   "outputs": [
    {
     "data": {
      "text/plain": [
       "kgforge.core.resource.Resource"
      ]
     },
     "execution_count": 32,
     "metadata": {},
     "output_type": "execute_result"
    }
   ],
   "source": [
    "type(resources[0])"
   ]
  },
  {
   "cell_type": "code",
   "execution_count": 33,
   "metadata": {},
   "outputs": [
    {
     "data": {
      "text/html": [
       "<div>\n",
       "<style scoped>\n",
       "    .dataframe tbody tr th:only-of-type {\n",
       "        vertical-align: middle;\n",
       "    }\n",
       "\n",
       "    .dataframe tbody tr th {\n",
       "        vertical-align: top;\n",
       "    }\n",
       "\n",
       "    .dataframe thead th {\n",
       "        text-align: right;\n",
       "    }\n",
       "</style>\n",
       "<table border=\"1\" class=\"dataframe\">\n",
       "  <thead>\n",
       "    <tr style=\"text-align: right;\">\n",
       "      <th></th>\n",
       "      <th>id</th>\n",
       "      <th>type</th>\n",
       "      <th>agent.type</th>\n",
       "      <th>agent.gender.label</th>\n",
       "      <th>agent.name</th>\n",
       "      <th>distribution.type</th>\n",
       "      <th>distribution.contentSize.unitCode</th>\n",
       "      <th>distribution.contentSize.value</th>\n",
       "      <th>distribution.contentUrl</th>\n",
       "      <th>distribution.digest.algorithm</th>\n",
       "      <th>distribution.digest.value</th>\n",
       "      <th>distribution.encodingFormat</th>\n",
       "      <th>distribution.name</th>\n",
       "      <th>name</th>\n",
       "    </tr>\n",
       "  </thead>\n",
       "  <tbody>\n",
       "    <tr>\n",
       "      <th>0</th>\n",
       "      <td>https://bbp.epfl.ch/dke/kgforge/a4cca69d-9cf1-...</td>\n",
       "      <td>Association</td>\n",
       "      <td>Person</td>\n",
       "      <td>female</td>\n",
       "      <td>Marie Curie</td>\n",
       "      <td>DataDownload</td>\n",
       "      <td>bytes</td>\n",
       "      <td>46.0</td>\n",
       "      <td>https://staging.nexus.ocp.bbp.epfl.ch/v1/files...</td>\n",
       "      <td>SHA-256</td>\n",
       "      <td>e0fe65f725bf28fe2b88c7bafb51fb5ef1df0ab14c68a3...</td>\n",
       "      <td>text/plain</td>\n",
       "      <td>marie_curie.txt</td>\n",
       "      <td>Curie Association</td>\n",
       "    </tr>\n",
       "    <tr>\n",
       "      <th>1</th>\n",
       "      <td>https://bbp.epfl.ch/dke/kgforge/38d723d9-a9c9-...</td>\n",
       "      <td>Association</td>\n",
       "      <td>Person</td>\n",
       "      <td>male</td>\n",
       "      <td>Albert Einstein</td>\n",
       "      <td>DataDownload</td>\n",
       "      <td>bytes</td>\n",
       "      <td>50.0</td>\n",
       "      <td>https://staging.nexus.ocp.bbp.epfl.ch/v1/files...</td>\n",
       "      <td>SHA-256</td>\n",
       "      <td>91a5ce5c84dc5bead730a4b49d0698b4aaef4bc06ce164...</td>\n",
       "      <td>text/plain</td>\n",
       "      <td>albert_einstein.txt</td>\n",
       "      <td>Einstein Association</td>\n",
       "    </tr>\n",
       "    <tr>\n",
       "      <th>2</th>\n",
       "      <td>https://bbp.epfl.ch/dke/kgforge/a42bddb3-b202-...</td>\n",
       "      <td>Association</td>\n",
       "      <td>Person</td>\n",
       "      <td>male</td>\n",
       "      <td>Albert Einstein</td>\n",
       "      <td>DataDownload</td>\n",
       "      <td>bytes</td>\n",
       "      <td>50.0</td>\n",
       "      <td>https://staging.nexus.ocp.bbp.epfl.ch/v1/files...</td>\n",
       "      <td>SHA-256</td>\n",
       "      <td>91a5ce5c84dc5bead730a4b49d0698b4aaef4bc06ce164...</td>\n",
       "      <td>text/plain</td>\n",
       "      <td>albert_einstein.txt</td>\n",
       "      <td>Einstein Association</td>\n",
       "    </tr>\n",
       "    <tr>\n",
       "      <th>3</th>\n",
       "      <td>https://bbp.epfl.ch/dke/kgforge/df941e38-a58a-...</td>\n",
       "      <td>Association</td>\n",
       "      <td>Person</td>\n",
       "      <td>female</td>\n",
       "      <td>Marie Curie</td>\n",
       "      <td>DataDownload</td>\n",
       "      <td>bytes</td>\n",
       "      <td>46.0</td>\n",
       "      <td>https://staging.nexus.ocp.bbp.epfl.ch/v1/files...</td>\n",
       "      <td>SHA-256</td>\n",
       "      <td>e0fe65f725bf28fe2b88c7bafb51fb5ef1df0ab14c68a3...</td>\n",
       "      <td>text/plain</td>\n",
       "      <td>marie_curie.txt</td>\n",
       "      <td>Curie Association</td>\n",
       "    </tr>\n",
       "    <tr>\n",
       "      <th>4</th>\n",
       "      <td>https://bbp.epfl.ch/dke/kgforge/20915f5f-b663-...</td>\n",
       "      <td>Association</td>\n",
       "      <td>Person</td>\n",
       "      <td>NaN</td>\n",
       "      <td>Jane Doe</td>\n",
       "      <td>NaN</td>\n",
       "      <td>NaN</td>\n",
       "      <td>NaN</td>\n",
       "      <td>NaN</td>\n",
       "      <td>NaN</td>\n",
       "      <td>NaN</td>\n",
       "      <td>NaN</td>\n",
       "      <td>NaN</td>\n",
       "      <td>NaN</td>\n",
       "    </tr>\n",
       "  </tbody>\n",
       "</table>\n",
       "</div>"
      ],
      "text/plain": [
       "                                                  id         type agent.type  \\\n",
       "0  https://bbp.epfl.ch/dke/kgforge/a4cca69d-9cf1-...  Association     Person   \n",
       "1  https://bbp.epfl.ch/dke/kgforge/38d723d9-a9c9-...  Association     Person   \n",
       "2  https://bbp.epfl.ch/dke/kgforge/a42bddb3-b202-...  Association     Person   \n",
       "3  https://bbp.epfl.ch/dke/kgforge/df941e38-a58a-...  Association     Person   \n",
       "4  https://bbp.epfl.ch/dke/kgforge/20915f5f-b663-...  Association     Person   \n",
       "\n",
       "  agent.gender.label       agent.name distribution.type  \\\n",
       "0             female      Marie Curie      DataDownload   \n",
       "1               male  Albert Einstein      DataDownload   \n",
       "2               male  Albert Einstein      DataDownload   \n",
       "3             female      Marie Curie      DataDownload   \n",
       "4                NaN         Jane Doe               NaN   \n",
       "\n",
       "  distribution.contentSize.unitCode  distribution.contentSize.value  \\\n",
       "0                             bytes                            46.0   \n",
       "1                             bytes                            50.0   \n",
       "2                             bytes                            50.0   \n",
       "3                             bytes                            46.0   \n",
       "4                               NaN                             NaN   \n",
       "\n",
       "                             distribution.contentUrl  \\\n",
       "0  https://staging.nexus.ocp.bbp.epfl.ch/v1/files...   \n",
       "1  https://staging.nexus.ocp.bbp.epfl.ch/v1/files...   \n",
       "2  https://staging.nexus.ocp.bbp.epfl.ch/v1/files...   \n",
       "3  https://staging.nexus.ocp.bbp.epfl.ch/v1/files...   \n",
       "4                                                NaN   \n",
       "\n",
       "  distribution.digest.algorithm  \\\n",
       "0                       SHA-256   \n",
       "1                       SHA-256   \n",
       "2                       SHA-256   \n",
       "3                       SHA-256   \n",
       "4                           NaN   \n",
       "\n",
       "                           distribution.digest.value  \\\n",
       "0  e0fe65f725bf28fe2b88c7bafb51fb5ef1df0ab14c68a3...   \n",
       "1  91a5ce5c84dc5bead730a4b49d0698b4aaef4bc06ce164...   \n",
       "2  91a5ce5c84dc5bead730a4b49d0698b4aaef4bc06ce164...   \n",
       "3  e0fe65f725bf28fe2b88c7bafb51fb5ef1df0ab14c68a3...   \n",
       "4                                                NaN   \n",
       "\n",
       "  distribution.encodingFormat    distribution.name                  name  \n",
       "0                  text/plain      marie_curie.txt     Curie Association  \n",
       "1                  text/plain  albert_einstein.txt  Einstein Association  \n",
       "2                  text/plain  albert_einstein.txt  Einstein Association  \n",
       "3                  text/plain      marie_curie.txt     Curie Association  \n",
       "4                         NaN                  NaN                   NaN  "
      ]
     },
     "execution_count": 33,
     "metadata": {},
     "output_type": "execute_result"
    }
   ],
   "source": [
    "forge.as_dataframe(resources)"
   ]
  },
  {
   "cell_type": "code",
   "execution_count": 34,
   "metadata": {},
   "outputs": [
    {
     "data": {
      "text/html": [
       "<div>\n",
       "<style scoped>\n",
       "    .dataframe tbody tr th:only-of-type {\n",
       "        vertical-align: middle;\n",
       "    }\n",
       "\n",
       "    .dataframe tbody tr th {\n",
       "        vertical-align: top;\n",
       "    }\n",
       "\n",
       "    .dataframe thead th {\n",
       "        text-align: right;\n",
       "    }\n",
       "</style>\n",
       "<table border=\"1\" class=\"dataframe\">\n",
       "  <thead>\n",
       "    <tr style=\"text-align: right;\">\n",
       "      <th></th>\n",
       "      <th>id</th>\n",
       "      <th>type</th>\n",
       "      <th>agent.type</th>\n",
       "      <th>agent.gender.label</th>\n",
       "      <th>agent.name</th>\n",
       "      <th>distribution.type</th>\n",
       "      <th>distribution.contentSize.unitCode</th>\n",
       "      <th>distribution.contentSize.value</th>\n",
       "      <th>distribution.contentUrl</th>\n",
       "      <th>distribution.digest.algorithm</th>\n",
       "      <th>...</th>\n",
       "      <th>_createdAt</th>\n",
       "      <th>_createdBy</th>\n",
       "      <th>_deprecated</th>\n",
       "      <th>_incoming</th>\n",
       "      <th>_outgoing</th>\n",
       "      <th>_project</th>\n",
       "      <th>_rev</th>\n",
       "      <th>_self</th>\n",
       "      <th>_updatedAt</th>\n",
       "      <th>_updatedBy</th>\n",
       "    </tr>\n",
       "  </thead>\n",
       "  <tbody>\n",
       "    <tr>\n",
       "      <th>0</th>\n",
       "      <td>https://bbp.epfl.ch/dke/kgforge/a4cca69d-9cf1-...</td>\n",
       "      <td>Association</td>\n",
       "      <td>Person</td>\n",
       "      <td>female</td>\n",
       "      <td>Marie Curie</td>\n",
       "      <td>DataDownload</td>\n",
       "      <td>bytes</td>\n",
       "      <td>46.0</td>\n",
       "      <td>https://staging.nexus.ocp.bbp.epfl.ch/v1/files...</td>\n",
       "      <td>SHA-256</td>\n",
       "      <td>...</td>\n",
       "      <td>2020-05-24T06:24:59.463417Z</td>\n",
       "      <td>https://staging.nexus.ocp.bbp.epfl.ch/v1/realm...</td>\n",
       "      <td>False</td>\n",
       "      <td>https://staging.nexus.ocp.bbp.epfl.ch/v1/resou...</td>\n",
       "      <td>https://staging.nexus.ocp.bbp.epfl.ch/v1/resou...</td>\n",
       "      <td>https://staging.nexus.ocp.bbp.epfl.ch/v1/proje...</td>\n",
       "      <td>1</td>\n",
       "      <td>https://staging.nexus.ocp.bbp.epfl.ch/v1/resou...</td>\n",
       "      <td>2020-05-24T06:24:59.463417Z</td>\n",
       "      <td>https://staging.nexus.ocp.bbp.epfl.ch/v1/realm...</td>\n",
       "    </tr>\n",
       "    <tr>\n",
       "      <th>1</th>\n",
       "      <td>https://bbp.epfl.ch/dke/kgforge/38d723d9-a9c9-...</td>\n",
       "      <td>Association</td>\n",
       "      <td>Person</td>\n",
       "      <td>male</td>\n",
       "      <td>Albert Einstein</td>\n",
       "      <td>DataDownload</td>\n",
       "      <td>bytes</td>\n",
       "      <td>50.0</td>\n",
       "      <td>https://staging.nexus.ocp.bbp.epfl.ch/v1/files...</td>\n",
       "      <td>SHA-256</td>\n",
       "      <td>...</td>\n",
       "      <td>2020-05-24T06:24:59.463408Z</td>\n",
       "      <td>https://staging.nexus.ocp.bbp.epfl.ch/v1/realm...</td>\n",
       "      <td>False</td>\n",
       "      <td>https://staging.nexus.ocp.bbp.epfl.ch/v1/resou...</td>\n",
       "      <td>https://staging.nexus.ocp.bbp.epfl.ch/v1/resou...</td>\n",
       "      <td>https://staging.nexus.ocp.bbp.epfl.ch/v1/proje...</td>\n",
       "      <td>1</td>\n",
       "      <td>https://staging.nexus.ocp.bbp.epfl.ch/v1/resou...</td>\n",
       "      <td>2020-05-24T06:24:59.463408Z</td>\n",
       "      <td>https://staging.nexus.ocp.bbp.epfl.ch/v1/realm...</td>\n",
       "    </tr>\n",
       "    <tr>\n",
       "      <th>2</th>\n",
       "      <td>https://bbp.epfl.ch/dke/kgforge/a42bddb3-b202-...</td>\n",
       "      <td>Association</td>\n",
       "      <td>Person</td>\n",
       "      <td>male</td>\n",
       "      <td>Albert Einstein</td>\n",
       "      <td>DataDownload</td>\n",
       "      <td>bytes</td>\n",
       "      <td>50.0</td>\n",
       "      <td>https://staging.nexus.ocp.bbp.epfl.ch/v1/files...</td>\n",
       "      <td>SHA-256</td>\n",
       "      <td>...</td>\n",
       "      <td>2020-05-24T06:25:41.198385Z</td>\n",
       "      <td>https://staging.nexus.ocp.bbp.epfl.ch/v1/realm...</td>\n",
       "      <td>False</td>\n",
       "      <td>https://staging.nexus.ocp.bbp.epfl.ch/v1/resou...</td>\n",
       "      <td>https://staging.nexus.ocp.bbp.epfl.ch/v1/resou...</td>\n",
       "      <td>https://staging.nexus.ocp.bbp.epfl.ch/v1/proje...</td>\n",
       "      <td>1</td>\n",
       "      <td>https://staging.nexus.ocp.bbp.epfl.ch/v1/resou...</td>\n",
       "      <td>2020-05-24T06:25:41.198385Z</td>\n",
       "      <td>https://staging.nexus.ocp.bbp.epfl.ch/v1/realm...</td>\n",
       "    </tr>\n",
       "    <tr>\n",
       "      <th>3</th>\n",
       "      <td>https://bbp.epfl.ch/dke/kgforge/df941e38-a58a-...</td>\n",
       "      <td>Association</td>\n",
       "      <td>Person</td>\n",
       "      <td>female</td>\n",
       "      <td>Marie Curie</td>\n",
       "      <td>DataDownload</td>\n",
       "      <td>bytes</td>\n",
       "      <td>46.0</td>\n",
       "      <td>https://staging.nexus.ocp.bbp.epfl.ch/v1/files...</td>\n",
       "      <td>SHA-256</td>\n",
       "      <td>...</td>\n",
       "      <td>2020-05-24T06:25:41.198385Z</td>\n",
       "      <td>https://staging.nexus.ocp.bbp.epfl.ch/v1/realm...</td>\n",
       "      <td>False</td>\n",
       "      <td>https://staging.nexus.ocp.bbp.epfl.ch/v1/resou...</td>\n",
       "      <td>https://staging.nexus.ocp.bbp.epfl.ch/v1/resou...</td>\n",
       "      <td>https://staging.nexus.ocp.bbp.epfl.ch/v1/proje...</td>\n",
       "      <td>1</td>\n",
       "      <td>https://staging.nexus.ocp.bbp.epfl.ch/v1/resou...</td>\n",
       "      <td>2020-05-24T06:25:41.198385Z</td>\n",
       "      <td>https://staging.nexus.ocp.bbp.epfl.ch/v1/realm...</td>\n",
       "    </tr>\n",
       "    <tr>\n",
       "      <th>4</th>\n",
       "      <td>https://bbp.epfl.ch/dke/kgforge/20915f5f-b663-...</td>\n",
       "      <td>Association</td>\n",
       "      <td>Person</td>\n",
       "      <td>NaN</td>\n",
       "      <td>Jane Doe</td>\n",
       "      <td>NaN</td>\n",
       "      <td>NaN</td>\n",
       "      <td>NaN</td>\n",
       "      <td>NaN</td>\n",
       "      <td>NaN</td>\n",
       "      <td>...</td>\n",
       "      <td>2020-05-24T06:28:16.634822Z</td>\n",
       "      <td>https://staging.nexus.ocp.bbp.epfl.ch/v1/realm...</td>\n",
       "      <td>False</td>\n",
       "      <td>https://staging.nexus.ocp.bbp.epfl.ch/v1/resou...</td>\n",
       "      <td>https://staging.nexus.ocp.bbp.epfl.ch/v1/resou...</td>\n",
       "      <td>https://staging.nexus.ocp.bbp.epfl.ch/v1/proje...</td>\n",
       "      <td>1</td>\n",
       "      <td>https://staging.nexus.ocp.bbp.epfl.ch/v1/resou...</td>\n",
       "      <td>2020-05-24T06:28:16.634822Z</td>\n",
       "      <td>https://staging.nexus.ocp.bbp.epfl.ch/v1/realm...</td>\n",
       "    </tr>\n",
       "  </tbody>\n",
       "</table>\n",
       "<p>5 rows × 25 columns</p>\n",
       "</div>"
      ],
      "text/plain": [
       "                                                  id         type agent.type  \\\n",
       "0  https://bbp.epfl.ch/dke/kgforge/a4cca69d-9cf1-...  Association     Person   \n",
       "1  https://bbp.epfl.ch/dke/kgforge/38d723d9-a9c9-...  Association     Person   \n",
       "2  https://bbp.epfl.ch/dke/kgforge/a42bddb3-b202-...  Association     Person   \n",
       "3  https://bbp.epfl.ch/dke/kgforge/df941e38-a58a-...  Association     Person   \n",
       "4  https://bbp.epfl.ch/dke/kgforge/20915f5f-b663-...  Association     Person   \n",
       "\n",
       "  agent.gender.label       agent.name distribution.type  \\\n",
       "0             female      Marie Curie      DataDownload   \n",
       "1               male  Albert Einstein      DataDownload   \n",
       "2               male  Albert Einstein      DataDownload   \n",
       "3             female      Marie Curie      DataDownload   \n",
       "4                NaN         Jane Doe               NaN   \n",
       "\n",
       "  distribution.contentSize.unitCode  distribution.contentSize.value  \\\n",
       "0                             bytes                            46.0   \n",
       "1                             bytes                            50.0   \n",
       "2                             bytes                            50.0   \n",
       "3                             bytes                            46.0   \n",
       "4                               NaN                             NaN   \n",
       "\n",
       "                             distribution.contentUrl  \\\n",
       "0  https://staging.nexus.ocp.bbp.epfl.ch/v1/files...   \n",
       "1  https://staging.nexus.ocp.bbp.epfl.ch/v1/files...   \n",
       "2  https://staging.nexus.ocp.bbp.epfl.ch/v1/files...   \n",
       "3  https://staging.nexus.ocp.bbp.epfl.ch/v1/files...   \n",
       "4                                                NaN   \n",
       "\n",
       "  distribution.digest.algorithm  ...                   _createdAt  \\\n",
       "0                       SHA-256  ...  2020-05-24T06:24:59.463417Z   \n",
       "1                       SHA-256  ...  2020-05-24T06:24:59.463408Z   \n",
       "2                       SHA-256  ...  2020-05-24T06:25:41.198385Z   \n",
       "3                       SHA-256  ...  2020-05-24T06:25:41.198385Z   \n",
       "4                           NaN  ...  2020-05-24T06:28:16.634822Z   \n",
       "\n",
       "                                          _createdBy _deprecated  \\\n",
       "0  https://staging.nexus.ocp.bbp.epfl.ch/v1/realm...       False   \n",
       "1  https://staging.nexus.ocp.bbp.epfl.ch/v1/realm...       False   \n",
       "2  https://staging.nexus.ocp.bbp.epfl.ch/v1/realm...       False   \n",
       "3  https://staging.nexus.ocp.bbp.epfl.ch/v1/realm...       False   \n",
       "4  https://staging.nexus.ocp.bbp.epfl.ch/v1/realm...       False   \n",
       "\n",
       "                                           _incoming  \\\n",
       "0  https://staging.nexus.ocp.bbp.epfl.ch/v1/resou...   \n",
       "1  https://staging.nexus.ocp.bbp.epfl.ch/v1/resou...   \n",
       "2  https://staging.nexus.ocp.bbp.epfl.ch/v1/resou...   \n",
       "3  https://staging.nexus.ocp.bbp.epfl.ch/v1/resou...   \n",
       "4  https://staging.nexus.ocp.bbp.epfl.ch/v1/resou...   \n",
       "\n",
       "                                           _outgoing  \\\n",
       "0  https://staging.nexus.ocp.bbp.epfl.ch/v1/resou...   \n",
       "1  https://staging.nexus.ocp.bbp.epfl.ch/v1/resou...   \n",
       "2  https://staging.nexus.ocp.bbp.epfl.ch/v1/resou...   \n",
       "3  https://staging.nexus.ocp.bbp.epfl.ch/v1/resou...   \n",
       "4  https://staging.nexus.ocp.bbp.epfl.ch/v1/resou...   \n",
       "\n",
       "                                            _project _rev  \\\n",
       "0  https://staging.nexus.ocp.bbp.epfl.ch/v1/proje...    1   \n",
       "1  https://staging.nexus.ocp.bbp.epfl.ch/v1/proje...    1   \n",
       "2  https://staging.nexus.ocp.bbp.epfl.ch/v1/proje...    1   \n",
       "3  https://staging.nexus.ocp.bbp.epfl.ch/v1/proje...    1   \n",
       "4  https://staging.nexus.ocp.bbp.epfl.ch/v1/proje...    1   \n",
       "\n",
       "                                               _self  \\\n",
       "0  https://staging.nexus.ocp.bbp.epfl.ch/v1/resou...   \n",
       "1  https://staging.nexus.ocp.bbp.epfl.ch/v1/resou...   \n",
       "2  https://staging.nexus.ocp.bbp.epfl.ch/v1/resou...   \n",
       "3  https://staging.nexus.ocp.bbp.epfl.ch/v1/resou...   \n",
       "4  https://staging.nexus.ocp.bbp.epfl.ch/v1/resou...   \n",
       "\n",
       "                    _updatedAt  \\\n",
       "0  2020-05-24T06:24:59.463417Z   \n",
       "1  2020-05-24T06:24:59.463408Z   \n",
       "2  2020-05-24T06:25:41.198385Z   \n",
       "3  2020-05-24T06:25:41.198385Z   \n",
       "4  2020-05-24T06:28:16.634822Z   \n",
       "\n",
       "                                          _updatedBy  \n",
       "0  https://staging.nexus.ocp.bbp.epfl.ch/v1/realm...  \n",
       "1  https://staging.nexus.ocp.bbp.epfl.ch/v1/realm...  \n",
       "2  https://staging.nexus.ocp.bbp.epfl.ch/v1/realm...  \n",
       "3  https://staging.nexus.ocp.bbp.epfl.ch/v1/realm...  \n",
       "4  https://staging.nexus.ocp.bbp.epfl.ch/v1/realm...  \n",
       "\n",
       "[5 rows x 25 columns]"
      ]
     },
     "execution_count": 34,
     "metadata": {},
     "output_type": "execute_result"
    }
   ],
   "source": [
    "forge.as_dataframe(resources, store_metadata=True)"
   ]
  },
  {
   "cell_type": "markdown",
   "metadata": {},
   "source": [
    "### nested field querying"
   ]
  },
  {
   "cell_type": "markdown",
   "metadata": {},
   "source": [
    "You have autocompletion on `p` and also on nested properties like `p.agent`."
   ]
  },
  {
   "cell_type": "code",
   "execution_count": 35,
   "metadata": {},
   "outputs": [],
   "source": [
    "resources = forge.search(p.type == \"Association\", p.agent.name == \"John Smith\", limit=5)"
   ]
  },
  {
   "cell_type": "code",
   "execution_count": 36,
   "metadata": {},
   "outputs": [
    {
     "data": {
      "text/plain": [
       "5"
      ]
     },
     "execution_count": 36,
     "metadata": {},
     "output_type": "execute_result"
    }
   ],
   "source": [
    "len(resources)"
   ]
  },
  {
   "cell_type": "code",
   "execution_count": 37,
   "metadata": {},
   "outputs": [
    {
     "data": {
      "text/html": [
       "<div>\n",
       "<style scoped>\n",
       "    .dataframe tbody tr th:only-of-type {\n",
       "        vertical-align: middle;\n",
       "    }\n",
       "\n",
       "    .dataframe tbody tr th {\n",
       "        vertical-align: top;\n",
       "    }\n",
       "\n",
       "    .dataframe thead th {\n",
       "        text-align: right;\n",
       "    }\n",
       "</style>\n",
       "<table border=\"1\" class=\"dataframe\">\n",
       "  <thead>\n",
       "    <tr style=\"text-align: right;\">\n",
       "      <th></th>\n",
       "      <th>id</th>\n",
       "      <th>type</th>\n",
       "      <th>agent.type</th>\n",
       "      <th>agent.name</th>\n",
       "      <th>agent</th>\n",
       "    </tr>\n",
       "  </thead>\n",
       "  <tbody>\n",
       "    <tr>\n",
       "      <th>0</th>\n",
       "      <td>https://bbp.epfl.ch/dke/kgforge/f9a236f8-aef6-...</td>\n",
       "      <td>Association</td>\n",
       "      <td>Person</td>\n",
       "      <td>John Smith</td>\n",
       "      <td>NaN</td>\n",
       "    </tr>\n",
       "    <tr>\n",
       "      <th>1</th>\n",
       "      <td>https://bbp.epfl.ch/dke/kgforge/aa49682d-4ca2-...</td>\n",
       "      <td>Association</td>\n",
       "      <td>Person</td>\n",
       "      <td>John Smith</td>\n",
       "      <td>NaN</td>\n",
       "    </tr>\n",
       "    <tr>\n",
       "      <th>2</th>\n",
       "      <td>https://bbp.epfl.ch/dke/kgforge/69ede0eb-98f9-...</td>\n",
       "      <td>Association</td>\n",
       "      <td>Person</td>\n",
       "      <td>John Smith</td>\n",
       "      <td>NaN</td>\n",
       "    </tr>\n",
       "    <tr>\n",
       "      <th>3</th>\n",
       "      <td>https://bbp.epfl.ch/dke/kgforge/469b63b2-28b0-...</td>\n",
       "      <td>Association</td>\n",
       "      <td>Person</td>\n",
       "      <td>John Smith</td>\n",
       "      <td>NaN</td>\n",
       "    </tr>\n",
       "    <tr>\n",
       "      <th>4</th>\n",
       "      <td>https://bbp.epfl.ch/dke/kgforge/78c956f1-79f1-...</td>\n",
       "      <td>Association</td>\n",
       "      <td>NaN</td>\n",
       "      <td>NaN</td>\n",
       "      <td>[{'type': 'Person', 'name': 'John Smith'}, {'t...</td>\n",
       "    </tr>\n",
       "  </tbody>\n",
       "</table>\n",
       "</div>"
      ],
      "text/plain": [
       "                                                  id         type agent.type  \\\n",
       "0  https://bbp.epfl.ch/dke/kgforge/f9a236f8-aef6-...  Association     Person   \n",
       "1  https://bbp.epfl.ch/dke/kgforge/aa49682d-4ca2-...  Association     Person   \n",
       "2  https://bbp.epfl.ch/dke/kgforge/69ede0eb-98f9-...  Association     Person   \n",
       "3  https://bbp.epfl.ch/dke/kgforge/469b63b2-28b0-...  Association     Person   \n",
       "4  https://bbp.epfl.ch/dke/kgforge/78c956f1-79f1-...  Association        NaN   \n",
       "\n",
       "   agent.name                                              agent  \n",
       "0  John Smith                                                NaN  \n",
       "1  John Smith                                                NaN  \n",
       "2  John Smith                                                NaN  \n",
       "3  John Smith                                                NaN  \n",
       "4         NaN  [{'type': 'Person', 'name': 'John Smith'}, {'t...  "
      ]
     },
     "execution_count": 37,
     "metadata": {},
     "output_type": "execute_result"
    }
   ],
   "source": [
    "forge.as_dataframe(resources)"
   ]
  },
  {
   "cell_type": "markdown",
   "metadata": {},
   "source": [
    "## Graph traversing\n",
    "\n",
    "SPARQL is used to traverse the graph. The user can provide simplified queries: no prefixes, no compacted URIs, nor full URIs is required, only the term (property) available in the Model to the user.  Refer to the `11 - Modeling.ipynb` notebook to learn about Templates."
   ]
  },
  {
   "cell_type": "code",
   "execution_count": 38,
   "metadata": {},
   "outputs": [],
   "source": [
    "jane = Resource(type=\"Person\", name=\"Jane Doe\")"
   ]
  },
  {
   "cell_type": "code",
   "execution_count": 39,
   "metadata": {},
   "outputs": [],
   "source": [
    "john = Resource(type=\"Person\", name=\"John Smith\")"
   ]
  },
  {
   "cell_type": "code",
   "execution_count": 40,
   "metadata": {},
   "outputs": [],
   "source": [
    "association = Resource(type=\"Association\", agent=[jane, john])"
   ]
  },
  {
   "cell_type": "code",
   "execution_count": 41,
   "metadata": {},
   "outputs": [
    {
     "name": "stdout",
     "output_type": "stream",
     "text": [
      "<action> _register_one\n",
      "<succeeded> True\n"
     ]
    }
   ],
   "source": [
    "forge.register(association)"
   ]
  },
  {
   "cell_type": "code",
   "execution_count": 42,
   "metadata": {},
   "outputs": [
    {
     "name": "stdout",
     "output_type": "stream",
     "text": [
      "{\n",
      "    id: \"\"\n",
      "    type: Association\n",
      "    agent:\n",
      "    {\n",
      "        type: Person\n",
      "        address:\n",
      "        {\n",
      "            type: PostalAddress\n",
      "            postalCode: \"\"\n",
      "            streetAddress: \"\"\n",
      "        }\n",
      "        birthDate: 9999-12-31\n",
      "        deathDate: 9999-12-31\n",
      "        gender:\n",
      "        [\n",
      "            female\n",
      "            male\n",
      "        ]\n",
      "        givenName: \"\"\n",
      "        name: \"\"\n",
      "    }\n",
      "}\n"
     ]
    }
   ],
   "source": [
    "forge.template(\"Association\")"
   ]
  },
  {
   "cell_type": "code",
   "execution_count": 43,
   "metadata": {},
   "outputs": [],
   "source": [
    "query = \"\"\"\n",
    "    SELECT ?x ?name\n",
    "    WHERE {\n",
    "        ?x type Association ;\n",
    "           agent ?agent .\n",
    "        ?agent name ?name .\n",
    "    }\n",
    "\"\"\""
   ]
  },
  {
   "cell_type": "code",
   "execution_count": 44,
   "metadata": {},
   "outputs": [],
   "source": [
    "resources = forge.sparql(query, limit=5)"
   ]
  },
  {
   "cell_type": "code",
   "execution_count": 45,
   "metadata": {},
   "outputs": [
    {
     "data": {
      "text/plain": [
       "list"
      ]
     },
     "execution_count": 45,
     "metadata": {},
     "output_type": "execute_result"
    }
   ],
   "source": [
    "type(resources)"
   ]
  },
  {
   "cell_type": "code",
   "execution_count": 46,
   "metadata": {},
   "outputs": [
    {
     "data": {
      "text/plain": [
       "5"
      ]
     },
     "execution_count": 46,
     "metadata": {},
     "output_type": "execute_result"
    }
   ],
   "source": [
    "len(resources)"
   ]
  },
  {
   "cell_type": "code",
   "execution_count": 47,
   "metadata": {},
   "outputs": [
    {
     "data": {
      "text/plain": [
       "kgforge.core.resource.Resource"
      ]
     },
     "execution_count": 47,
     "metadata": {},
     "output_type": "execute_result"
    }
   ],
   "source": [
    "type(resources[0])"
   ]
  },
  {
   "cell_type": "markdown",
   "metadata": {},
   "source": [
    "### rewritten query display"
   ]
  },
  {
   "cell_type": "code",
   "execution_count": 48,
   "metadata": {},
   "outputs": [
    {
     "name": "stdout",
     "output_type": "stream",
     "text": [
      "Submitted query:\n",
      "   PREFIX nsg: <https://neuroshapes.org/>\n",
      "   PREFIX owl: <http://www.w3.org/2002/07/owl#>\n",
      "   PREFIX prov: <http://www.w3.org/ns/prov#>\n",
      "   PREFIX rdf: <http://www.w3.org/1999/02/22-rdf-syntax-ns#>\n",
      "   PREFIX rdfs: <http://www.w3.org/2000/01/rdf-schema#>\n",
      "   PREFIX schema: <http://schema.org/>\n",
      "   PREFIX skos: <http://www.w3.org/2004/02/skos/core#>\n",
      "   \n",
      "       SELECT ?x ?name\n",
      "       WHERE {\n",
      "           ?x rdf:type schema:Association ;\n",
      "              schema:agent ?agent .\n",
      "           ?agent schema:name ?name .\n",
      "       }\n",
      "\n"
     ]
    }
   ],
   "source": [
    "resources = forge.sparql(query, debug=True)"
   ]
  },
  {
   "cell_type": "markdown",
   "metadata": {},
   "source": [
    "## Downloading"
   ]
  },
  {
   "cell_type": "code",
   "execution_count": 49,
   "metadata": {},
   "outputs": [],
   "source": [
    "jane = Resource(type=\"Person\", name=\"Jane Doe\")"
   ]
  },
  {
   "cell_type": "code",
   "execution_count": 50,
   "metadata": {},
   "outputs": [
    {
     "name": "stdout",
     "output_type": "stream",
     "text": [
      "associations.tsv\n",
      "my_data.xwz\n",
      "persons.csv\n"
     ]
    }
   ],
   "source": [
    "! ls -p ../../data | egrep -v /$"
   ]
  },
  {
   "cell_type": "code",
   "execution_count": 51,
   "metadata": {},
   "outputs": [],
   "source": [
    "distribution = forge.attach(\"../../data\")"
   ]
  },
  {
   "cell_type": "code",
   "execution_count": 52,
   "metadata": {},
   "outputs": [],
   "source": [
    "association = Resource(type=\"Association\", agent=jane, distribution=distribution)"
   ]
  },
  {
   "cell_type": "code",
   "execution_count": 53,
   "metadata": {},
   "outputs": [
    {
     "name": "stdout",
     "output_type": "stream",
     "text": [
      "<action> _register_one\n",
      "<succeeded> True\n"
     ]
    }
   ],
   "source": [
    "forge.register(association)"
   ]
  },
  {
   "cell_type": "code",
   "execution_count": 54,
   "metadata": {},
   "outputs": [],
   "source": [
    "forge.download(association, \"distribution.contentUrl\", \"./downloaded/\")"
   ]
  },
  {
   "cell_type": "code",
   "execution_count": 55,
   "metadata": {},
   "outputs": [
    {
     "name": "stdout",
     "output_type": "stream",
     "text": [
      "associations.tsv my_data.xwz      persons.csv\n"
     ]
    }
   ],
   "source": [
    "! ls ./downloaded/"
   ]
  },
  {
   "cell_type": "code",
   "execution_count": 56,
   "metadata": {},
   "outputs": [],
   "source": [
    "! rm -R ./downloaded/"
   ]
  },
  {
   "cell_type": "code",
   "execution_count": null,
   "metadata": {},
   "outputs": [],
   "source": []
  }
 ],
 "metadata": {
  "kernelspec": {
   "display_name": "kgforge(v2)",
   "language": "python",
   "name": "kgforge"
  },
  "language_info": {
   "codemirror_mode": {
    "name": "ipython",
    "version": 3
   },
   "file_extension": ".py",
   "mimetype": "text/x-python",
   "name": "python",
   "nbconvert_exporter": "python",
   "pygments_lexer": "ipython3",
   "version": "3.7.5"
  }
 },
 "nbformat": 4,
 "nbformat_minor": 4
}

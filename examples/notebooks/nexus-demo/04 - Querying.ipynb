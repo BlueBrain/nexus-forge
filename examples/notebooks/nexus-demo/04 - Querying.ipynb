{
 "cells": [
  {
   "cell_type": "markdown",
   "metadata": {
    "ExecuteTime": {
     "end_time": "2019-09-23T18:50:19.036357Z",
     "start_time": "2019-09-23T18:50:19.031896Z"
    }
   },
   "source": [
    "# Querying\n",
    "\n",
    "This notebook demonstrates how to retrieve, query and search data using the Forge."
   ]
  },
  {
   "cell_type": "code",
   "execution_count": 1,
   "metadata": {
    "ExecuteTime": {
     "end_time": "2019-09-23T18:50:20.068658Z",
     "start_time": "2019-09-23T18:50:19.054054Z"
    }
   },
   "outputs": [],
   "source": [
    "from kgforge.core import KnowledgeGraphForge"
   ]
  },
  {
   "cell_type": "code",
   "execution_count": 2,
   "metadata": {},
   "outputs": [],
   "source": [
    "import getpass"
   ]
  },
  {
   "cell_type": "code",
   "execution_count": 3,
   "metadata": {},
   "outputs": [],
   "source": [
    "token = getpass.getpass()"
   ]
  },
  {
   "cell_type": "code",
   "execution_count": 4,
   "metadata": {},
   "outputs": [],
   "source": [
    "forge = KnowledgeGraphForge(\"../../configurations/demo-forge-nexus.yml\", token=token)"
   ]
  },
  {
   "cell_type": "markdown",
   "metadata": {},
   "source": [
    "## Imports"
   ]
  },
  {
   "cell_type": "code",
   "execution_count": 5,
   "metadata": {},
   "outputs": [],
   "source": [
    "from kgforge.core import Resource"
   ]
  },
  {
   "cell_type": "code",
   "execution_count": 6,
   "metadata": {},
   "outputs": [],
   "source": [
    "import json"
   ]
  },
  {
   "cell_type": "code",
   "execution_count": 7,
   "metadata": {},
   "outputs": [],
   "source": [
    "def pp(x): print(json.dumps(x, indent=4))"
   ]
  },
  {
   "cell_type": "markdown",
   "metadata": {},
   "source": [
    "## Retrieval"
   ]
  },
  {
   "cell_type": "code",
   "execution_count": 12,
   "metadata": {},
   "outputs": [],
   "source": [
    "jane = Resource(type=\"Person\", name=\"Jane Doe\", email=\"jane.doe@sxample.org\")"
   ]
  },
  {
   "cell_type": "code",
   "execution_count": 13,
   "metadata": {},
   "outputs": [
    {
     "name": "stdout",
     "output_type": "stream",
     "text": [
      "<action> _register_one\n",
      "<succeeded> True\n"
     ]
    }
   ],
   "source": [
    "forge.register(jane)"
   ]
  },
  {
   "cell_type": "code",
   "execution_count": 14,
   "metadata": {},
   "outputs": [],
   "source": [
    "resource = forge.retrieve(jane.id)"
   ]
  },
  {
   "cell_type": "code",
   "execution_count": 15,
   "metadata": {},
   "outputs": [
    {
     "data": {
      "text/plain": [
       "True"
      ]
     },
     "execution_count": 15,
     "metadata": {},
     "output_type": "execute_result"
    }
   ],
   "source": [
    "resource == jane"
   ]
  },
  {
   "cell_type": "markdown",
   "metadata": {},
   "source": [
    "### specific version"
   ]
  },
  {
   "cell_type": "code",
   "execution_count": 16,
   "metadata": {},
   "outputs": [],
   "source": [
    "jane = Resource(type=\"Person\", name=\"Jane Doe\")"
   ]
  },
  {
   "cell_type": "code",
   "execution_count": 17,
   "metadata": {},
   "outputs": [
    {
     "name": "stdout",
     "output_type": "stream",
     "text": [
      "<action> _register_one\n",
      "<succeeded> True\n"
     ]
    }
   ],
   "source": [
    "forge.register(jane)"
   ]
  },
  {
   "cell_type": "code",
   "execution_count": 18,
   "metadata": {},
   "outputs": [
    {
     "name": "stdout",
     "output_type": "stream",
     "text": [
      "<action> _tag_one\n",
      "<succeeded> True\n"
     ]
    }
   ],
   "source": [
    "forge.tag(jane, \"v1\")"
   ]
  },
  {
   "cell_type": "code",
   "execution_count": 19,
   "metadata": {},
   "outputs": [],
   "source": [
    "jane.email = \"jane.doe@epfl.ch\""
   ]
  },
  {
   "cell_type": "code",
   "execution_count": 20,
   "metadata": {},
   "outputs": [
    {
     "name": "stdout",
     "output_type": "stream",
     "text": [
      "<action> _update_one\n",
      "<succeeded> True\n"
     ]
    }
   ],
   "source": [
    "forge.update(jane)"
   ]
  },
  {
   "cell_type": "code",
   "execution_count": 21,
   "metadata": {
    "ExecuteTime": {
     "end_time": "2019-09-23T18:50:21.317601Z",
     "start_time": "2019-09-23T18:50:21.310418Z"
    }
   },
   "outputs": [
    {
     "data": {
      "text/plain": [
       "3"
      ]
     },
     "execution_count": 21,
     "metadata": {},
     "output_type": "execute_result"
    }
   ],
   "source": [
    "jane._store_metadata._rev"
   ]
  },
  {
   "cell_type": "code",
   "execution_count": 22,
   "metadata": {
    "ExecuteTime": {
     "end_time": "2019-09-23T18:50:21.332678Z",
     "start_time": "2019-09-23T18:50:21.322025Z"
    }
   },
   "outputs": [],
   "source": [
    "jane_v1 = forge.retrieve(jane.id, version=1)"
   ]
  },
  {
   "cell_type": "code",
   "execution_count": 23,
   "metadata": {
    "ExecuteTime": {
     "end_time": "2019-09-23T18:50:21.370051Z",
     "start_time": "2019-09-23T18:50:21.363782Z"
    }
   },
   "outputs": [],
   "source": [
    "jane_v1_tag = forge.retrieve(jane.id, version=\"v1\")"
   ]
  },
  {
   "cell_type": "code",
   "execution_count": 24,
   "metadata": {
    "ExecuteTime": {
     "end_time": "2019-09-23T18:50:21.379911Z",
     "start_time": "2019-09-23T18:50:21.373539Z"
    }
   },
   "outputs": [
    {
     "data": {
      "text/plain": [
       "True"
      ]
     },
     "execution_count": 24,
     "metadata": {},
     "output_type": "execute_result"
    }
   ],
   "source": [
    "jane_v1 == jane_v1_tag"
   ]
  },
  {
   "cell_type": "code",
   "execution_count": 25,
   "metadata": {},
   "outputs": [
    {
     "name": "stdout",
     "output_type": "stream",
     "text": [
      "{\n",
      "    \"id\": \"https://bbp.epfl.ch/dke/kgforge_tests/74ed38f7-7172-4e38-a71d-91c26011b405\",\n",
      "    \"type\": \"Person\",\n",
      "    \"name\": \"Jane Doe\"\n",
      "}\n"
     ]
    }
   ],
   "source": [
    "# print(jane_v1)\n",
    "pp(forge.as_json(jane_v1))"
   ]
  },
  {
   "cell_type": "markdown",
   "metadata": {},
   "source": [
    "### error handling"
   ]
  },
  {
   "cell_type": "code",
   "execution_count": 26,
   "metadata": {},
   "outputs": [
    {
     "name": "stdout",
     "output_type": "stream",
     "text": [
      "<action> retrieve\n",
      "<error> RetrievalError: not found\n",
      "\n"
     ]
    }
   ],
   "source": [
    "resource = forge.retrieve(\"123\")"
   ]
  },
  {
   "cell_type": "code",
   "execution_count": 27,
   "metadata": {},
   "outputs": [
    {
     "name": "stdout",
     "output_type": "stream",
     "text": [
      "None\n"
     ]
    }
   ],
   "source": [
    "print(resource)"
   ]
  },
  {
   "cell_type": "markdown",
   "metadata": {},
   "source": [
    "## Searching"
   ]
  },
  {
   "cell_type": "code",
   "execution_count": 28,
   "metadata": {},
   "outputs": [],
   "source": [
    "jane = Resource(type=\"Person\", name=\"Jane Doe\")"
   ]
  },
  {
   "cell_type": "code",
   "execution_count": 29,
   "metadata": {},
   "outputs": [],
   "source": [
    "john = Resource(type=\"Person\", name=\"John Smith\")"
   ]
  },
  {
   "cell_type": "code",
   "execution_count": 30,
   "metadata": {},
   "outputs": [],
   "source": [
    "association_jane = Resource(type=\"Association\", agent=jane)"
   ]
  },
  {
   "cell_type": "code",
   "execution_count": 31,
   "metadata": {},
   "outputs": [],
   "source": [
    "association_john = Resource(type=\"Association\", agent=john)"
   ]
  },
  {
   "cell_type": "code",
   "execution_count": 32,
   "metadata": {},
   "outputs": [],
   "source": [
    "associations = [association_jane, association_john]"
   ]
  },
  {
   "cell_type": "code",
   "execution_count": 33,
   "metadata": {},
   "outputs": [
    {
     "name": "stdout",
     "output_type": "stream",
     "text": [
      "<count> 2\n",
      "<action> _register_many\n",
      "<succeeded> True\n"
     ]
    }
   ],
   "source": [
    "forge.register(associations)"
   ]
  },
  {
   "cell_type": "markdown",
   "metadata": {},
   "source": [
    "`Association` is a known type by the Model, and the `paths` method will load the data structure for the given type. Refer to the `11 - Modeling.ipynb` notebook to learn about Modeling and Types."
   ]
  },
  {
   "cell_type": "code",
   "execution_count": 34,
   "metadata": {},
   "outputs": [],
   "source": [
    "p = forge.paths(\"Association\")"
   ]
  },
  {
   "cell_type": "markdown",
   "metadata": {},
   "source": [
    "You have autocompletion on `p` and this can be used to build a search."
   ]
  },
  {
   "cell_type": "code",
   "execution_count": 35,
   "metadata": {},
   "outputs": [],
   "source": [
    "resources = forge.search(p.type == \"Association\", limit=5)"
   ]
  },
  {
   "cell_type": "code",
   "execution_count": 36,
   "metadata": {},
   "outputs": [
    {
     "data": {
      "text/plain": [
       "list"
      ]
     },
     "execution_count": 36,
     "metadata": {},
     "output_type": "execute_result"
    }
   ],
   "source": [
    "type(resources)"
   ]
  },
  {
   "cell_type": "code",
   "execution_count": 37,
   "metadata": {},
   "outputs": [
    {
     "data": {
      "text/plain": [
       "5"
      ]
     },
     "execution_count": 37,
     "metadata": {},
     "output_type": "execute_result"
    }
   ],
   "source": [
    "len(resources)  "
   ]
  },
  {
   "cell_type": "code",
   "execution_count": 38,
   "metadata": {},
   "outputs": [
    {
     "data": {
      "text/plain": [
       "kgforge.core.resource.Resource"
      ]
     },
     "execution_count": 38,
     "metadata": {},
     "output_type": "execute_result"
    }
   ],
   "source": [
    "type(resources[0])"
   ]
  },
  {
   "cell_type": "code",
   "execution_count": 39,
   "metadata": {},
   "outputs": [
    {
     "data": {
      "text/html": [
       "<div>\n",
       "<style scoped>\n",
       "    .dataframe tbody tr th:only-of-type {\n",
       "        vertical-align: middle;\n",
       "    }\n",
       "\n",
       "    .dataframe tbody tr th {\n",
       "        vertical-align: top;\n",
       "    }\n",
       "\n",
       "    .dataframe thead th {\n",
       "        text-align: right;\n",
       "    }\n",
       "</style>\n",
       "<table border=\"1\" class=\"dataframe\">\n",
       "  <thead>\n",
       "    <tr style=\"text-align: right;\">\n",
       "      <th></th>\n",
       "      <th>id</th>\n",
       "      <th>type</th>\n",
       "      <th>agent.type</th>\n",
       "      <th>agent.name</th>\n",
       "      <th>distribution</th>\n",
       "    </tr>\n",
       "  </thead>\n",
       "  <tbody>\n",
       "    <tr>\n",
       "      <th>0</th>\n",
       "      <td>https://bbp.epfl.ch/dke/kgforge_tests/8d0bbdc6...</td>\n",
       "      <td>Association</td>\n",
       "      <td>Person</td>\n",
       "      <td>Jane Doe</td>\n",
       "      <td>[{'type': 'DataDownload', 'contentSize': {'uni...</td>\n",
       "    </tr>\n",
       "    <tr>\n",
       "      <th>1</th>\n",
       "      <td>https://bbp.epfl.ch/dke/kgforge_tests/a471332d...</td>\n",
       "      <td>Association</td>\n",
       "      <td>Person</td>\n",
       "      <td>John Smith</td>\n",
       "      <td>NaN</td>\n",
       "    </tr>\n",
       "    <tr>\n",
       "      <th>2</th>\n",
       "      <td>https://bbp.epfl.ch/dke/kgforge_tests/97567895...</td>\n",
       "      <td>Association</td>\n",
       "      <td>Person</td>\n",
       "      <td>Jane Doe</td>\n",
       "      <td>NaN</td>\n",
       "    </tr>\n",
       "    <tr>\n",
       "      <th>3</th>\n",
       "      <td>https://bbp.epfl.ch/dke/kgforge_tests/c7df2735...</td>\n",
       "      <td>Association</td>\n",
       "      <td>Person</td>\n",
       "      <td>Jane Doe</td>\n",
       "      <td>NaN</td>\n",
       "    </tr>\n",
       "    <tr>\n",
       "      <th>4</th>\n",
       "      <td>https://bbp.epfl.ch/dke/kgforge_tests/7fae8c71...</td>\n",
       "      <td>Association</td>\n",
       "      <td>Person</td>\n",
       "      <td>John Smith</td>\n",
       "      <td>NaN</td>\n",
       "    </tr>\n",
       "  </tbody>\n",
       "</table>\n",
       "</div>"
      ],
      "text/plain": [
       "                                                  id         type agent.type  \\\n",
       "0  https://bbp.epfl.ch/dke/kgforge_tests/8d0bbdc6...  Association     Person   \n",
       "1  https://bbp.epfl.ch/dke/kgforge_tests/a471332d...  Association     Person   \n",
       "2  https://bbp.epfl.ch/dke/kgforge_tests/97567895...  Association     Person   \n",
       "3  https://bbp.epfl.ch/dke/kgforge_tests/c7df2735...  Association     Person   \n",
       "4  https://bbp.epfl.ch/dke/kgforge_tests/7fae8c71...  Association     Person   \n",
       "\n",
       "   agent.name                                       distribution  \n",
       "0    Jane Doe  [{'type': 'DataDownload', 'contentSize': {'uni...  \n",
       "1  John Smith                                                NaN  \n",
       "2    Jane Doe                                                NaN  \n",
       "3    Jane Doe                                                NaN  \n",
       "4  John Smith                                                NaN  "
      ]
     },
     "execution_count": 39,
     "metadata": {},
     "output_type": "execute_result"
    }
   ],
   "source": [
    "forge.as_dataframe(resources)"
   ]
  },
  {
   "cell_type": "code",
   "execution_count": 40,
   "metadata": {},
   "outputs": [
    {
     "data": {
      "text/html": [
       "<div>\n",
       "<style scoped>\n",
       "    .dataframe tbody tr th:only-of-type {\n",
       "        vertical-align: middle;\n",
       "    }\n",
       "\n",
       "    .dataframe tbody tr th {\n",
       "        vertical-align: top;\n",
       "    }\n",
       "\n",
       "    .dataframe thead th {\n",
       "        text-align: right;\n",
       "    }\n",
       "</style>\n",
       "<table border=\"1\" class=\"dataframe\">\n",
       "  <thead>\n",
       "    <tr style=\"text-align: right;\">\n",
       "      <th></th>\n",
       "      <th>id</th>\n",
       "      <th>type</th>\n",
       "      <th>agent.type</th>\n",
       "      <th>agent.name</th>\n",
       "      <th>distribution</th>\n",
       "      <th>_constrainedBy</th>\n",
       "      <th>_createdAt</th>\n",
       "      <th>_createdBy</th>\n",
       "      <th>_deprecated</th>\n",
       "      <th>_incoming</th>\n",
       "      <th>_outgoing</th>\n",
       "      <th>_project</th>\n",
       "      <th>_rev</th>\n",
       "      <th>_self</th>\n",
       "      <th>_updatedAt</th>\n",
       "      <th>_updatedBy</th>\n",
       "    </tr>\n",
       "  </thead>\n",
       "  <tbody>\n",
       "    <tr>\n",
       "      <th>0</th>\n",
       "      <td>https://bbp.epfl.ch/dke/kgforge_tests/8d0bbdc6...</td>\n",
       "      <td>Association</td>\n",
       "      <td>Person</td>\n",
       "      <td>Jane Doe</td>\n",
       "      <td>[{'type': 'DataDownload', 'contentSize': {'uni...</td>\n",
       "      <td>https://bluebrain.github.io/nexus/schemas/unco...</td>\n",
       "      <td>2020-04-21T08:37:30.417693Z</td>\n",
       "      <td>https://staging.nexus.ocp.bbp.epfl.ch/v1/realm...</td>\n",
       "      <td>False</td>\n",
       "      <td>https://staging.nexus.ocp.bbp.epfl.ch/v1/resou...</td>\n",
       "      <td>https://staging.nexus.ocp.bbp.epfl.ch/v1/resou...</td>\n",
       "      <td>https://staging.nexus.ocp.bbp.epfl.ch/v1/proje...</td>\n",
       "      <td>1</td>\n",
       "      <td>https://staging.nexus.ocp.bbp.epfl.ch/v1/resou...</td>\n",
       "      <td>2020-04-21T08:37:30.417693Z</td>\n",
       "      <td>https://staging.nexus.ocp.bbp.epfl.ch/v1/realm...</td>\n",
       "    </tr>\n",
       "    <tr>\n",
       "      <th>1</th>\n",
       "      <td>https://bbp.epfl.ch/dke/kgforge_tests/a471332d...</td>\n",
       "      <td>Association</td>\n",
       "      <td>Person</td>\n",
       "      <td>John Smith</td>\n",
       "      <td>NaN</td>\n",
       "      <td>https://bluebrain.github.io/nexus/schemas/unco...</td>\n",
       "      <td>2020-04-08T11:32:15.157150Z</td>\n",
       "      <td>https://staging.nexus.ocp.bbp.epfl.ch/v1/realm...</td>\n",
       "      <td>False</td>\n",
       "      <td>https://staging.nexus.ocp.bbp.epfl.ch/v1/resou...</td>\n",
       "      <td>https://staging.nexus.ocp.bbp.epfl.ch/v1/resou...</td>\n",
       "      <td>https://staging.nexus.ocp.bbp.epfl.ch/v1/proje...</td>\n",
       "      <td>1</td>\n",
       "      <td>https://staging.nexus.ocp.bbp.epfl.ch/v1/resou...</td>\n",
       "      <td>2020-04-08T11:32:15.157150Z</td>\n",
       "      <td>https://staging.nexus.ocp.bbp.epfl.ch/v1/realm...</td>\n",
       "    </tr>\n",
       "    <tr>\n",
       "      <th>2</th>\n",
       "      <td>https://bbp.epfl.ch/dke/kgforge_tests/97567895...</td>\n",
       "      <td>Association</td>\n",
       "      <td>Person</td>\n",
       "      <td>Jane Doe</td>\n",
       "      <td>NaN</td>\n",
       "      <td>https://bluebrain.github.io/nexus/schemas/unco...</td>\n",
       "      <td>2020-04-08T11:32:15.162391Z</td>\n",
       "      <td>https://staging.nexus.ocp.bbp.epfl.ch/v1/realm...</td>\n",
       "      <td>False</td>\n",
       "      <td>https://staging.nexus.ocp.bbp.epfl.ch/v1/resou...</td>\n",
       "      <td>https://staging.nexus.ocp.bbp.epfl.ch/v1/resou...</td>\n",
       "      <td>https://staging.nexus.ocp.bbp.epfl.ch/v1/proje...</td>\n",
       "      <td>1</td>\n",
       "      <td>https://staging.nexus.ocp.bbp.epfl.ch/v1/resou...</td>\n",
       "      <td>2020-04-08T11:32:15.162391Z</td>\n",
       "      <td>https://staging.nexus.ocp.bbp.epfl.ch/v1/realm...</td>\n",
       "    </tr>\n",
       "    <tr>\n",
       "      <th>3</th>\n",
       "      <td>https://bbp.epfl.ch/dke/kgforge_tests/c7df2735...</td>\n",
       "      <td>Association</td>\n",
       "      <td>Person</td>\n",
       "      <td>Jane Doe</td>\n",
       "      <td>NaN</td>\n",
       "      <td>https://bluebrain.github.io/nexus/schemas/unco...</td>\n",
       "      <td>2020-04-08T11:52:13.302810Z</td>\n",
       "      <td>https://staging.nexus.ocp.bbp.epfl.ch/v1/realm...</td>\n",
       "      <td>False</td>\n",
       "      <td>https://staging.nexus.ocp.bbp.epfl.ch/v1/resou...</td>\n",
       "      <td>https://staging.nexus.ocp.bbp.epfl.ch/v1/resou...</td>\n",
       "      <td>https://staging.nexus.ocp.bbp.epfl.ch/v1/proje...</td>\n",
       "      <td>1</td>\n",
       "      <td>https://staging.nexus.ocp.bbp.epfl.ch/v1/resou...</td>\n",
       "      <td>2020-04-08T11:52:13.302810Z</td>\n",
       "      <td>https://staging.nexus.ocp.bbp.epfl.ch/v1/realm...</td>\n",
       "    </tr>\n",
       "    <tr>\n",
       "      <th>4</th>\n",
       "      <td>https://bbp.epfl.ch/dke/kgforge_tests/7fae8c71...</td>\n",
       "      <td>Association</td>\n",
       "      <td>Person</td>\n",
       "      <td>John Smith</td>\n",
       "      <td>NaN</td>\n",
       "      <td>https://bluebrain.github.io/nexus/schemas/unco...</td>\n",
       "      <td>2020-04-08T11:52:13.324540Z</td>\n",
       "      <td>https://staging.nexus.ocp.bbp.epfl.ch/v1/realm...</td>\n",
       "      <td>False</td>\n",
       "      <td>https://staging.nexus.ocp.bbp.epfl.ch/v1/resou...</td>\n",
       "      <td>https://staging.nexus.ocp.bbp.epfl.ch/v1/resou...</td>\n",
       "      <td>https://staging.nexus.ocp.bbp.epfl.ch/v1/proje...</td>\n",
       "      <td>1</td>\n",
       "      <td>https://staging.nexus.ocp.bbp.epfl.ch/v1/resou...</td>\n",
       "      <td>2020-04-08T11:52:13.324540Z</td>\n",
       "      <td>https://staging.nexus.ocp.bbp.epfl.ch/v1/realm...</td>\n",
       "    </tr>\n",
       "  </tbody>\n",
       "</table>\n",
       "</div>"
      ],
      "text/plain": [
       "                                                  id         type agent.type  \\\n",
       "0  https://bbp.epfl.ch/dke/kgforge_tests/8d0bbdc6...  Association     Person   \n",
       "1  https://bbp.epfl.ch/dke/kgforge_tests/a471332d...  Association     Person   \n",
       "2  https://bbp.epfl.ch/dke/kgforge_tests/97567895...  Association     Person   \n",
       "3  https://bbp.epfl.ch/dke/kgforge_tests/c7df2735...  Association     Person   \n",
       "4  https://bbp.epfl.ch/dke/kgforge_tests/7fae8c71...  Association     Person   \n",
       "\n",
       "   agent.name                                       distribution  \\\n",
       "0    Jane Doe  [{'type': 'DataDownload', 'contentSize': {'uni...   \n",
       "1  John Smith                                                NaN   \n",
       "2    Jane Doe                                                NaN   \n",
       "3    Jane Doe                                                NaN   \n",
       "4  John Smith                                                NaN   \n",
       "\n",
       "                                      _constrainedBy  \\\n",
       "0  https://bluebrain.github.io/nexus/schemas/unco...   \n",
       "1  https://bluebrain.github.io/nexus/schemas/unco...   \n",
       "2  https://bluebrain.github.io/nexus/schemas/unco...   \n",
       "3  https://bluebrain.github.io/nexus/schemas/unco...   \n",
       "4  https://bluebrain.github.io/nexus/schemas/unco...   \n",
       "\n",
       "                    _createdAt  \\\n",
       "0  2020-04-21T08:37:30.417693Z   \n",
       "1  2020-04-08T11:32:15.157150Z   \n",
       "2  2020-04-08T11:32:15.162391Z   \n",
       "3  2020-04-08T11:52:13.302810Z   \n",
       "4  2020-04-08T11:52:13.324540Z   \n",
       "\n",
       "                                          _createdBy  _deprecated  \\\n",
       "0  https://staging.nexus.ocp.bbp.epfl.ch/v1/realm...        False   \n",
       "1  https://staging.nexus.ocp.bbp.epfl.ch/v1/realm...        False   \n",
       "2  https://staging.nexus.ocp.bbp.epfl.ch/v1/realm...        False   \n",
       "3  https://staging.nexus.ocp.bbp.epfl.ch/v1/realm...        False   \n",
       "4  https://staging.nexus.ocp.bbp.epfl.ch/v1/realm...        False   \n",
       "\n",
       "                                           _incoming  \\\n",
       "0  https://staging.nexus.ocp.bbp.epfl.ch/v1/resou...   \n",
       "1  https://staging.nexus.ocp.bbp.epfl.ch/v1/resou...   \n",
       "2  https://staging.nexus.ocp.bbp.epfl.ch/v1/resou...   \n",
       "3  https://staging.nexus.ocp.bbp.epfl.ch/v1/resou...   \n",
       "4  https://staging.nexus.ocp.bbp.epfl.ch/v1/resou...   \n",
       "\n",
       "                                           _outgoing  \\\n",
       "0  https://staging.nexus.ocp.bbp.epfl.ch/v1/resou...   \n",
       "1  https://staging.nexus.ocp.bbp.epfl.ch/v1/resou...   \n",
       "2  https://staging.nexus.ocp.bbp.epfl.ch/v1/resou...   \n",
       "3  https://staging.nexus.ocp.bbp.epfl.ch/v1/resou...   \n",
       "4  https://staging.nexus.ocp.bbp.epfl.ch/v1/resou...   \n",
       "\n",
       "                                            _project  _rev  \\\n",
       "0  https://staging.nexus.ocp.bbp.epfl.ch/v1/proje...     1   \n",
       "1  https://staging.nexus.ocp.bbp.epfl.ch/v1/proje...     1   \n",
       "2  https://staging.nexus.ocp.bbp.epfl.ch/v1/proje...     1   \n",
       "3  https://staging.nexus.ocp.bbp.epfl.ch/v1/proje...     1   \n",
       "4  https://staging.nexus.ocp.bbp.epfl.ch/v1/proje...     1   \n",
       "\n",
       "                                               _self  \\\n",
       "0  https://staging.nexus.ocp.bbp.epfl.ch/v1/resou...   \n",
       "1  https://staging.nexus.ocp.bbp.epfl.ch/v1/resou...   \n",
       "2  https://staging.nexus.ocp.bbp.epfl.ch/v1/resou...   \n",
       "3  https://staging.nexus.ocp.bbp.epfl.ch/v1/resou...   \n",
       "4  https://staging.nexus.ocp.bbp.epfl.ch/v1/resou...   \n",
       "\n",
       "                    _updatedAt  \\\n",
       "0  2020-04-21T08:37:30.417693Z   \n",
       "1  2020-04-08T11:32:15.157150Z   \n",
       "2  2020-04-08T11:32:15.162391Z   \n",
       "3  2020-04-08T11:52:13.302810Z   \n",
       "4  2020-04-08T11:52:13.324540Z   \n",
       "\n",
       "                                          _updatedBy  \n",
       "0  https://staging.nexus.ocp.bbp.epfl.ch/v1/realm...  \n",
       "1  https://staging.nexus.ocp.bbp.epfl.ch/v1/realm...  \n",
       "2  https://staging.nexus.ocp.bbp.epfl.ch/v1/realm...  \n",
       "3  https://staging.nexus.ocp.bbp.epfl.ch/v1/realm...  \n",
       "4  https://staging.nexus.ocp.bbp.epfl.ch/v1/realm...  "
      ]
     },
     "execution_count": 40,
     "metadata": {},
     "output_type": "execute_result"
    }
   ],
   "source": [
    "forge.as_dataframe(resources, store_metadata=True)"
   ]
  },
  {
   "cell_type": "markdown",
   "metadata": {},
   "source": [
    "### nested field querying"
   ]
  },
  {
   "cell_type": "markdown",
   "metadata": {},
   "source": [
    "You have autocompletion on `p` and also on nested properties like `p.agent`."
   ]
  },
  {
   "cell_type": "code",
   "execution_count": 41,
   "metadata": {},
   "outputs": [],
   "source": [
    "resources = forge.search(p.type == \"Association\", p.agent.name == \"John Smith\", limit=5)"
   ]
  },
  {
   "cell_type": "code",
   "execution_count": 42,
   "metadata": {},
   "outputs": [
    {
     "data": {
      "text/plain": [
       "5"
      ]
     },
     "execution_count": 42,
     "metadata": {},
     "output_type": "execute_result"
    }
   ],
   "source": [
    "len(resources)"
   ]
  },
  {
   "cell_type": "code",
   "execution_count": 43,
   "metadata": {},
   "outputs": [
    {
     "data": {
      "text/html": [
       "<div>\n",
       "<style scoped>\n",
       "    .dataframe tbody tr th:only-of-type {\n",
       "        vertical-align: middle;\n",
       "    }\n",
       "\n",
       "    .dataframe tbody tr th {\n",
       "        vertical-align: top;\n",
       "    }\n",
       "\n",
       "    .dataframe thead th {\n",
       "        text-align: right;\n",
       "    }\n",
       "</style>\n",
       "<table border=\"1\" class=\"dataframe\">\n",
       "  <thead>\n",
       "    <tr style=\"text-align: right;\">\n",
       "      <th></th>\n",
       "      <th>id</th>\n",
       "      <th>type</th>\n",
       "      <th>agent.type</th>\n",
       "      <th>agent.name</th>\n",
       "      <th>agent</th>\n",
       "    </tr>\n",
       "  </thead>\n",
       "  <tbody>\n",
       "    <tr>\n",
       "      <th>0</th>\n",
       "      <td>https://bbp.epfl.ch/dke/kgforge_tests/ca829dc4...</td>\n",
       "      <td>Association</td>\n",
       "      <td>Person</td>\n",
       "      <td>John Smith</td>\n",
       "      <td>NaN</td>\n",
       "    </tr>\n",
       "    <tr>\n",
       "      <th>1</th>\n",
       "      <td>https://bbp.epfl.ch/dke/kgforge_tests/54423100...</td>\n",
       "      <td>Association</td>\n",
       "      <td>NaN</td>\n",
       "      <td>NaN</td>\n",
       "      <td>[{'type': 'Person', 'name': 'Jane Doe'}, {'typ...</td>\n",
       "    </tr>\n",
       "    <tr>\n",
       "      <th>2</th>\n",
       "      <td>https://bbp.epfl.ch/dke/kgforge_tests/a471332d...</td>\n",
       "      <td>Association</td>\n",
       "      <td>Person</td>\n",
       "      <td>John Smith</td>\n",
       "      <td>NaN</td>\n",
       "    </tr>\n",
       "    <tr>\n",
       "      <th>3</th>\n",
       "      <td>https://bbp.epfl.ch/dke/kgforge_tests/7fae8c71...</td>\n",
       "      <td>Association</td>\n",
       "      <td>Person</td>\n",
       "      <td>John Smith</td>\n",
       "      <td>NaN</td>\n",
       "    </tr>\n",
       "    <tr>\n",
       "      <th>4</th>\n",
       "      <td>https://bbp.epfl.ch/dke/kgforge_tests/2868b2e3...</td>\n",
       "      <td>Association</td>\n",
       "      <td>Person</td>\n",
       "      <td>John Smith</td>\n",
       "      <td>NaN</td>\n",
       "    </tr>\n",
       "  </tbody>\n",
       "</table>\n",
       "</div>"
      ],
      "text/plain": [
       "                                                  id         type agent.type  \\\n",
       "0  https://bbp.epfl.ch/dke/kgforge_tests/ca829dc4...  Association     Person   \n",
       "1  https://bbp.epfl.ch/dke/kgforge_tests/54423100...  Association        NaN   \n",
       "2  https://bbp.epfl.ch/dke/kgforge_tests/a471332d...  Association     Person   \n",
       "3  https://bbp.epfl.ch/dke/kgforge_tests/7fae8c71...  Association     Person   \n",
       "4  https://bbp.epfl.ch/dke/kgforge_tests/2868b2e3...  Association     Person   \n",
       "\n",
       "   agent.name                                              agent  \n",
       "0  John Smith                                                NaN  \n",
       "1         NaN  [{'type': 'Person', 'name': 'Jane Doe'}, {'typ...  \n",
       "2  John Smith                                                NaN  \n",
       "3  John Smith                                                NaN  \n",
       "4  John Smith                                                NaN  "
      ]
     },
     "execution_count": 43,
     "metadata": {},
     "output_type": "execute_result"
    }
   ],
   "source": [
    "forge.as_dataframe(resources)"
   ]
  },
  {
   "cell_type": "markdown",
   "metadata": {},
   "source": [
    "## Graph traversing\n",
    "\n",
    "SPARQL is used to traverse the graph. The user can provide simplified queries: no prefixes, no compacted URIs, nor full URIs is required, only the term (property) available in the Model to the user.  Refer to the `11 - Modeling.ipynb` notebook to learn about Templates."
   ]
  },
  {
   "cell_type": "code",
   "execution_count": 44,
   "metadata": {},
   "outputs": [],
   "source": [
    "jane = Resource(type=\"Person\", name=\"Jane Doe\")"
   ]
  },
  {
   "cell_type": "code",
   "execution_count": 45,
   "metadata": {},
   "outputs": [],
   "source": [
    "john = Resource(type=\"Person\", name=\"John Smith\")"
   ]
  },
  {
   "cell_type": "code",
   "execution_count": 46,
   "metadata": {},
   "outputs": [],
   "source": [
    "association = Resource(type=\"Association\", agent=[jane, john])"
   ]
  },
  {
   "cell_type": "code",
   "execution_count": 47,
   "metadata": {},
   "outputs": [
    {
     "name": "stdout",
     "output_type": "stream",
     "text": [
      "<action> _register_one\n",
      "<succeeded> True\n"
     ]
    }
   ],
   "source": [
    "forge.register(association)"
   ]
  },
  {
   "cell_type": "code",
   "execution_count": 48,
   "metadata": {},
   "outputs": [
    {
     "name": "stdout",
     "output_type": "stream",
     "text": [
      "{\n",
      "    id: \"\"\n",
      "    type: Association\n",
      "    agent:\n",
      "    {\n",
      "        type: Person\n",
      "        address:\n",
      "        {\n",
      "            type: PostalAddress\n",
      "            postalCode: \"\"\n",
      "            streetAddress: \"\"\n",
      "        }\n",
      "        birthDate: 9999-12-31\n",
      "        deathDate: 9999-12-31\n",
      "        gender:\n",
      "        [\n",
      "            female\n",
      "            male\n",
      "        ]\n",
      "        givenName: \"\"\n",
      "        name: \"\"\n",
      "    }\n",
      "}\n"
     ]
    }
   ],
   "source": [
    "forge.template(\"Association\")"
   ]
  },
  {
   "cell_type": "code",
   "execution_count": 49,
   "metadata": {},
   "outputs": [],
   "source": [
    "query = \"\"\"\n",
    "    SELECT ?x ?name\n",
    "    WHERE {\n",
    "        ?x type Association ;\n",
    "           agent ?agent .\n",
    "        ?agent name ?name .\n",
    "    }\n",
    "\"\"\""
   ]
  },
  {
   "cell_type": "code",
   "execution_count": 50,
   "metadata": {},
   "outputs": [],
   "source": [
    "resources = forge.sparql(query, limit=5)"
   ]
  },
  {
   "cell_type": "code",
   "execution_count": 51,
   "metadata": {},
   "outputs": [
    {
     "data": {
      "text/plain": [
       "list"
      ]
     },
     "execution_count": 51,
     "metadata": {},
     "output_type": "execute_result"
    }
   ],
   "source": [
    "type(resources)"
   ]
  },
  {
   "cell_type": "code",
   "execution_count": 52,
   "metadata": {},
   "outputs": [
    {
     "data": {
      "text/plain": [
       "5"
      ]
     },
     "execution_count": 52,
     "metadata": {},
     "output_type": "execute_result"
    }
   ],
   "source": [
    "len(resources)"
   ]
  },
  {
   "cell_type": "code",
   "execution_count": 53,
   "metadata": {},
   "outputs": [
    {
     "data": {
      "text/plain": [
       "kgforge.core.resource.Resource"
      ]
     },
     "execution_count": 53,
     "metadata": {},
     "output_type": "execute_result"
    }
   ],
   "source": [
    "type(resources[0])"
   ]
  },
  {
   "cell_type": "markdown",
   "metadata": {},
   "source": [
    "### rewritten query display"
   ]
  },
  {
   "cell_type": "code",
   "execution_count": 54,
   "metadata": {},
   "outputs": [
    {
     "name": "stdout",
     "output_type": "stream",
     "text": [
      "Submitted query:\n",
      "   PREFIX rdf: <http://www.w3.org/1999/02/22-rdf-syntax-ns#>\n",
      "   PREFIX prov: <http://www.w3.org/ns/prov#>\n",
      "   PREFIX schema: <http://schema.org/>\n",
      "   \n",
      "       SELECT ?x ?name\n",
      "       WHERE {\n",
      "           ?x rdf:type schema:Association ;\n",
      "              schema:agent ?agent .\n",
      "           ?agent schema:name ?name .\n",
      "       }\n",
      "\n"
     ]
    }
   ],
   "source": [
    "resources = forge.sparql(query, debug=True)"
   ]
  },
  {
   "cell_type": "markdown",
   "metadata": {},
   "source": [
    "## Downloading"
   ]
  },
  {
   "cell_type": "code",
   "execution_count": 55,
   "metadata": {},
   "outputs": [],
   "source": [
    "jane = Resource(type=\"Person\", name=\"Jane Doe\")"
   ]
  },
  {
   "cell_type": "code",
   "execution_count": 56,
   "metadata": {},
   "outputs": [
    {
     "name": "stdout",
     "output_type": "stream",
     "text": [
      "associations.tsv\n",
      "persons.csv\n"
     ]
    }
   ],
   "source": [
    "! ls -p ../../data | egrep -v /$"
   ]
  },
  {
   "cell_type": "code",
   "execution_count": 57,
   "metadata": {},
   "outputs": [],
   "source": [
    "distribution = forge.attach(\"../../data\")"
   ]
  },
  {
   "cell_type": "code",
   "execution_count": 58,
   "metadata": {},
   "outputs": [],
   "source": [
    "association = Resource(type=\"Association\", agent=jane, distribution=distribution)"
   ]
  },
  {
   "cell_type": "code",
   "execution_count": 59,
   "metadata": {},
   "outputs": [
    {
     "name": "stdout",
     "output_type": "stream",
     "text": [
      "<action> _register_one\n",
      "<succeeded> True\n"
     ]
    }
   ],
   "source": [
    "forge.register(association)"
   ]
  },
  {
   "cell_type": "code",
   "execution_count": 60,
   "metadata": {},
   "outputs": [],
   "source": [
    "forge.download(association, \"distribution.contentUrl\", \"./downloaded/\")"
   ]
  },
  {
   "cell_type": "code",
   "execution_count": 61,
   "metadata": {},
   "outputs": [
    {
     "name": "stdout",
     "output_type": "stream",
     "text": [
      "associations.tsv persons.csv\n"
     ]
    }
   ],
   "source": [
    "! ls ./downloaded/"
   ]
  },
  {
   "cell_type": "code",
   "execution_count": 62,
   "metadata": {},
   "outputs": [],
   "source": [
    "! rm -R ./downloaded/"
   ]
  },
  {
   "cell_type": "code",
   "execution_count": null,
   "metadata": {},
   "outputs": [],
   "source": []
  }
 ],
 "metadata": {
  "kernelspec": {
   "display_name": "kgforge(v2)",
   "language": "python",
   "name": "kgforge"
  },
  "language_info": {
   "codemirror_mode": {
    "name": "ipython",
    "version": 3
   },
   "file_extension": ".py",
   "mimetype": "text/x-python",
   "name": "python",
   "nbconvert_exporter": "python",
   "pygments_lexer": "ipython3",
   "version": "3.7.5"
  }
 },
 "nbformat": 4,
 "nbformat_minor": 4
}

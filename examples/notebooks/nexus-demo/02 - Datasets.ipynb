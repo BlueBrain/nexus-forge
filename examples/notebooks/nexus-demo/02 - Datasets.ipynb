{
 "cells": [
  {
   "cell_type": "markdown",
   "metadata": {
    "ExecuteTime": {
     "end_time": "2019-09-23T18:50:19.036357Z",
     "start_time": "2019-09-23T18:50:19.031896Z"
    }
   },
   "source": [
    "# Datasets\n",
    "\n",
    "A Dataset is a specialization of a `Resource` that aims to register (upload) files with its metadata."
   ]
  },
  {
   "cell_type": "code",
   "execution_count": 1,
   "metadata": {
    "ExecuteTime": {
     "end_time": "2019-09-23T18:50:20.068658Z",
     "start_time": "2019-09-23T18:50:19.054054Z"
    }
   },
   "outputs": [],
   "source": [
    "from kgforge.core import KnowledgeGraphForge"
   ]
  },
  {
   "cell_type": "code",
   "execution_count": 2,
   "metadata": {},
   "outputs": [],
   "source": [
    "import getpass"
   ]
  },
  {
   "cell_type": "code",
   "execution_count": 3,
   "metadata": {},
   "outputs": [],
   "source": [
    "token = getpass.getpass()"
   ]
  },
  {
   "cell_type": "code",
   "execution_count": 4,
   "metadata": {},
   "outputs": [],
   "source": [
    "forge = KnowledgeGraphForge(\"../../configurations/demo-forge-nexus.yml\", token=token)"
   ]
  },
  {
   "cell_type": "markdown",
   "metadata": {},
   "source": [
    "## Imports"
   ]
  },
  {
   "cell_type": "code",
   "execution_count": 5,
   "metadata": {},
   "outputs": [],
   "source": [
    "from kgforge.core import Resource"
   ]
  },
  {
   "cell_type": "code",
   "execution_count": 6,
   "metadata": {},
   "outputs": [],
   "source": [
    "from kgforge.specializations.resources import Dataset"
   ]
  },
  {
   "cell_type": "code",
   "execution_count": 7,
   "metadata": {},
   "outputs": [],
   "source": [
    "import pandas as pd"
   ]
  },
  {
   "cell_type": "code",
   "execution_count": 8,
   "metadata": {},
   "outputs": [],
   "source": [
    "import json"
   ]
  },
  {
   "cell_type": "code",
   "execution_count": 9,
   "metadata": {},
   "outputs": [],
   "source": [
    "def pp(x): print(json.dumps(x, indent=4))"
   ]
  },
  {
   "cell_type": "markdown",
   "metadata": {},
   "source": [
    "## Creation with files"
   ]
  },
  {
   "cell_type": "code",
   "execution_count": 10,
   "metadata": {},
   "outputs": [
    {
     "name": "stdout",
     "output_type": "stream",
     "text": [
      "associations.tsv\n",
      "my_data.xwz\n",
      "persons.csv\n"
     ]
    }
   ],
   "source": [
    "! ls -p ../../data | egrep -v /$"
   ]
  },
  {
   "cell_type": "code",
   "execution_count": 11,
   "metadata": {},
   "outputs": [],
   "source": [
    "jane = Resource(type=\"Person\", name=\"Jane Doe\")"
   ]
  },
  {
   "cell_type": "code",
   "execution_count": 12,
   "metadata": {},
   "outputs": [],
   "source": [
    "persons = Dataset(forge, name=\"Interesting Persons\")"
   ]
  },
  {
   "cell_type": "code",
   "execution_count": 13,
   "metadata": {},
   "outputs": [],
   "source": [
    "persons.add_files(\"../../data/persons.csv\")"
   ]
  },
  {
   "cell_type": "code",
   "execution_count": 14,
   "metadata": {},
   "outputs": [],
   "source": [
    "persons.add_contribution(jane)"
   ]
  },
  {
   "cell_type": "code",
   "execution_count": 15,
   "metadata": {},
   "outputs": [
    {
     "name": "stdout",
     "output_type": "stream",
     "text": [
      "<action> _register_one\n",
      "<succeeded> True\n"
     ]
    }
   ],
   "source": [
    "forge.register(persons)"
   ]
  },
  {
   "cell_type": "code",
   "execution_count": 16,
   "metadata": {},
   "outputs": [
    {
     "name": "stdout",
     "output_type": "stream",
     "text": [
      "{\n",
      "    \"id\": \"https://bbp.epfl.ch/dke/kgforge_tests/43b30848-b2d5-4cff-8409-057a70a8c44a\",\n",
      "    \"type\": \"Dataset\",\n",
      "    \"contribution\": {\n",
      "        \"type\": \"Contribution\",\n",
      "        \"agent\": {\n",
      "            \"id\": {\n",
      "                \"type\": \"Person\",\n",
      "                \"name\": \"Jane Doe\"\n",
      "            },\n",
      "            \"type\": \"Agent\"\n",
      "        }\n",
      "    },\n",
      "    \"hasPart\": {\n",
      "        \"type\": \"DataDownload\",\n",
      "        \"contentSize\": {\n",
      "            \"unitCode\": \"bytes\",\n",
      "            \"value\": 163\n",
      "        },\n",
      "        \"contentUrl\": \"https://staging.nexus.ocp.bbp.epfl.ch/v1/files/dke/kgforge_tests/0017a10b-958d-42f7-90b0-b18aa6b41280\",\n",
      "        \"digest\": {\n",
      "            \"algorithm\": \"SHA-256\",\n",
      "            \"value\": \"4ea2f323c33e1fde5b7e48ab14fda50490e56e55dd6b1b369113fc3615c4e7ea\"\n",
      "        },\n",
      "        \"encodingFormat\": \"text/csv\",\n",
      "        \"name\": \"persons.csv\"\n",
      "    },\n",
      "    \"name\": \"Interesting Persons\"\n",
      "}\n"
     ]
    }
   ],
   "source": [
    "# print(persons)\n",
    "pp(forge.as_json(persons))"
   ]
  },
  {
   "cell_type": "code",
   "execution_count": 17,
   "metadata": {},
   "outputs": [],
   "source": [
    "associations = Dataset(forge, name=\"Associations data\")"
   ]
  },
  {
   "cell_type": "code",
   "execution_count": 18,
   "metadata": {},
   "outputs": [],
   "source": [
    "associations.add_files(\"../../data/associations.tsv\")"
   ]
  },
  {
   "cell_type": "code",
   "execution_count": 19,
   "metadata": {},
   "outputs": [],
   "source": [
    "associations.add_derivation(persons)"
   ]
  },
  {
   "cell_type": "code",
   "execution_count": 20,
   "metadata": {},
   "outputs": [],
   "source": [
    "associations.add_contribution(jane)"
   ]
  },
  {
   "cell_type": "code",
   "execution_count": 21,
   "metadata": {},
   "outputs": [
    {
     "name": "stdout",
     "output_type": "stream",
     "text": [
      "<action> _register_one\n",
      "<succeeded> True\n"
     ]
    }
   ],
   "source": [
    "forge.register(associations)"
   ]
  },
  {
   "cell_type": "code",
   "execution_count": 22,
   "metadata": {},
   "outputs": [
    {
     "name": "stdout",
     "output_type": "stream",
     "text": [
      "{\n",
      "    \"id\": \"https://bbp.epfl.ch/dke/kgforge_tests/8721e427-6ecb-4648-b166-d9c5463ba825\",\n",
      "    \"type\": \"Dataset\",\n",
      "    \"contribution\": {\n",
      "        \"type\": \"Contribution\",\n",
      "        \"agent\": {\n",
      "            \"id\": {\n",
      "                \"type\": \"Person\",\n",
      "                \"name\": \"Jane Doe\"\n",
      "            },\n",
      "            \"type\": \"Agent\"\n",
      "        }\n",
      "    },\n",
      "    \"derivation\": {\n",
      "        \"type\": \"Derivation\",\n",
      "        \"entity\": {\n",
      "            \"id\": \"https://bbp.epfl.ch/dke/kgforge_tests/43b30848-b2d5-4cff-8409-057a70a8c44a?rev=1\",\n",
      "            \"type\": \"Dataset\",\n",
      "            \"name\": \"Interesting Persons\"\n",
      "        }\n",
      "    },\n",
      "    \"hasPart\": {\n",
      "        \"type\": \"DataDownload\",\n",
      "        \"contentSize\": {\n",
      "            \"unitCode\": \"bytes\",\n",
      "            \"value\": 506\n",
      "        },\n",
      "        \"contentUrl\": \"https://staging.nexus.ocp.bbp.epfl.ch/v1/files/dke/kgforge_tests/134b7ac8-c4d3-4871-8749-7b84d9e38838\",\n",
      "        \"digest\": {\n",
      "            \"algorithm\": \"SHA-256\",\n",
      "            \"value\": \"9639abc864e91c645779f510ae5c06a1618941d569eb1af619c2767ba790230d\"\n",
      "        },\n",
      "        \"encodingFormat\": \"text/tab-separated-values\",\n",
      "        \"name\": \"associations.tsv\"\n",
      "    },\n",
      "    \"name\": \"Associations data\"\n",
      "}\n"
     ]
    }
   ],
   "source": [
    "# print(associations)\n",
    "pp(forge.as_json(associations))"
   ]
  },
  {
   "cell_type": "code",
   "execution_count": 23,
   "metadata": {},
   "outputs": [],
   "source": [
    "associations.download(\"files\", \"./downloaded/\")"
   ]
  },
  {
   "cell_type": "code",
   "execution_count": 24,
   "metadata": {},
   "outputs": [
    {
     "name": "stdout",
     "output_type": "stream",
     "text": [
      "associations.tsv\n"
     ]
    }
   ],
   "source": [
    "! ls ./downloaded"
   ]
  },
  {
   "cell_type": "code",
   "execution_count": 25,
   "metadata": {},
   "outputs": [],
   "source": [
    "! rm -R ./downloaded"
   ]
  },
  {
   "cell_type": "markdown",
   "metadata": {},
   "source": [
    "## Creation with resources"
   ]
  },
  {
   "cell_type": "code",
   "execution_count": 26,
   "metadata": {},
   "outputs": [],
   "source": [
    "distribution_1 = forge.attach(\"../../data/associations.tsv\")"
   ]
  },
  {
   "cell_type": "code",
   "execution_count": 27,
   "metadata": {},
   "outputs": [],
   "source": [
    "distribution_2 = forge.attach(\"../../data/persons.csv\")"
   ]
  },
  {
   "cell_type": "code",
   "execution_count": 28,
   "metadata": {},
   "outputs": [],
   "source": [
    "jane = Resource(type=\"Person\", name=\"Jane Doe\", distribution=distribution_1)"
   ]
  },
  {
   "cell_type": "code",
   "execution_count": 29,
   "metadata": {},
   "outputs": [],
   "source": [
    "john = Resource(type=\"Person\", name=\"John Smith\", distribution=distribution_2)"
   ]
  },
  {
   "cell_type": "code",
   "execution_count": 30,
   "metadata": {},
   "outputs": [],
   "source": [
    "persons = [jane, john]"
   ]
  },
  {
   "cell_type": "code",
   "execution_count": 31,
   "metadata": {},
   "outputs": [
    {
     "name": "stdout",
     "output_type": "stream",
     "text": [
      "<count> 2\n",
      "<action> _register_many\n",
      "<succeeded> True\n"
     ]
    }
   ],
   "source": [
    "forge.register(persons)"
   ]
  },
  {
   "cell_type": "code",
   "execution_count": 32,
   "metadata": {},
   "outputs": [],
   "source": [
    "dataset = Dataset(forge, name=\"Interesting people\")"
   ]
  },
  {
   "cell_type": "code",
   "execution_count": 33,
   "metadata": {},
   "outputs": [],
   "source": [
    "dataset.add_parts(persons)"
   ]
  },
  {
   "cell_type": "code",
   "execution_count": 34,
   "metadata": {},
   "outputs": [
    {
     "name": "stdout",
     "output_type": "stream",
     "text": [
      "{\n",
      "    \"type\": \"Dataset\",\n",
      "    \"hasPart\": [\n",
      "        {\n",
      "            \"id\": \"https://bbp.epfl.ch/dke/kgforge_tests/0e10bb04-fcd7-4b4b-88e5-5f72c1f4ddcf?rev=1\",\n",
      "            \"type\": \"Person\",\n",
      "            \"distribution\": {\n",
      "                \"contentUrl\": \"https://staging.nexus.ocp.bbp.epfl.ch/v1/files/dke/kgforge_tests/0d05bfe2-2a94-4cb2-ad47-35a458cb250d\"\n",
      "            },\n",
      "            \"name\": \"Jane Doe\"\n",
      "        },\n",
      "        {\n",
      "            \"id\": \"https://bbp.epfl.ch/dke/kgforge_tests/267d4f09-2bbb-4340-9d93-5f0c56654b4f?rev=1\",\n",
      "            \"type\": \"Person\",\n",
      "            \"distribution\": {\n",
      "                \"contentUrl\": \"https://staging.nexus.ocp.bbp.epfl.ch/v1/files/dke/kgforge_tests/4f609c47-5a7e-4e32-9bf2-a162ad334cdf\"\n",
      "            },\n",
      "            \"name\": \"John Smith\"\n",
      "        }\n",
      "    ],\n",
      "    \"name\": \"Interesting people\"\n",
      "}\n"
     ]
    }
   ],
   "source": [
    "# print(dataset)\n",
    "pp(forge.as_json(dataset))"
   ]
  },
  {
   "cell_type": "code",
   "execution_count": 35,
   "metadata": {},
   "outputs": [
    {
     "name": "stdout",
     "output_type": "stream",
     "text": [
      "<action> _register_one\n",
      "<succeeded> True\n"
     ]
    }
   ],
   "source": [
    "forge.register(dataset)"
   ]
  },
  {
   "cell_type": "code",
   "execution_count": 36,
   "metadata": {},
   "outputs": [],
   "source": [
    "dataset.download(\"parts\", \"./downloaded/\")"
   ]
  },
  {
   "cell_type": "code",
   "execution_count": 37,
   "metadata": {},
   "outputs": [
    {
     "name": "stdout",
     "output_type": "stream",
     "text": [
      "associations.tsv persons.csv\n"
     ]
    }
   ],
   "source": [
    "! ls ./downloaded"
   ]
  },
  {
   "cell_type": "code",
   "execution_count": 38,
   "metadata": {},
   "outputs": [],
   "source": [
    "! rm -R ./downloaded"
   ]
  },
  {
   "cell_type": "markdown",
   "metadata": {},
   "source": [
    "### specifiying custom content-type"
   ]
  },
  {
   "cell_type": "code",
   "execution_count": 39,
   "metadata": {},
   "outputs": [],
   "source": [
    "data_file = forge.attach(\"../../data/my_data.xwz\", content_type=\"application/xwz\")"
   ]
  },
  {
   "cell_type": "code",
   "execution_count": 40,
   "metadata": {},
   "outputs": [],
   "source": [
    "experiment = Resource(type=\"Experiment\", name=\"generated data\", distribution=data_file)"
   ]
  },
  {
   "cell_type": "code",
   "execution_count": 41,
   "metadata": {},
   "outputs": [
    {
     "name": "stdout",
     "output_type": "stream",
     "text": [
      "<action> _register_one\n",
      "<succeeded> True\n"
     ]
    }
   ],
   "source": [
    "forge.register(experiment)"
   ]
  },
  {
   "cell_type": "code",
   "execution_count": 42,
   "metadata": {},
   "outputs": [
    {
     "name": "stdout",
     "output_type": "stream",
     "text": [
      "{\n",
      "    type: DataDownload\n",
      "    contentSize:\n",
      "    {\n",
      "        unitCode: bytes\n",
      "        value: 16\n",
      "    }\n",
      "    contentUrl: https://staging.nexus.ocp.bbp.epfl.ch/v1/files/dke/kgforge_tests/8bdf701b-bde3-462e-b3d2-2a210bf2ffbc\n",
      "    digest:\n",
      "    {\n",
      "        algorithm: SHA-256\n",
      "        value: df03e7e93f870c6731540b3cae26391670da682c7a8dbdd18448cbcfc4fb7981\n",
      "    }\n",
      "    encodingFormat: application/xwz\n",
      "    name: my_data.xwz\n",
      "}\n"
     ]
    }
   ],
   "source": [
    "print(experiment.distribution)"
   ]
  },
  {
   "cell_type": "markdown",
   "metadata": {},
   "source": [
    "## Creation from a dataframe"
   ]
  },
  {
   "cell_type": "markdown",
   "metadata": {},
   "source": [
    "See notebook `DataFrame IO.ipynb` for details on conversions of instances of Resource from a Pandas DataFrame."
   ]
  },
  {
   "cell_type": "markdown",
   "metadata": {},
   "source": [
    "### basics"
   ]
  },
  {
   "cell_type": "code",
   "execution_count": 43,
   "metadata": {},
   "outputs": [],
   "source": [
    "dataframe = pd.read_csv(\"../../data/persons.csv\")"
   ]
  },
  {
   "cell_type": "code",
   "execution_count": 44,
   "metadata": {},
   "outputs": [
    {
     "data": {
      "text/html": [
       "<div>\n",
       "<style scoped>\n",
       "    .dataframe tbody tr th:only-of-type {\n",
       "        vertical-align: middle;\n",
       "    }\n",
       "\n",
       "    .dataframe tbody tr th {\n",
       "        vertical-align: top;\n",
       "    }\n",
       "\n",
       "    .dataframe thead th {\n",
       "        text-align: right;\n",
       "    }\n",
       "</style>\n",
       "<table border=\"1\" class=\"dataframe\">\n",
       "  <thead>\n",
       "    <tr style=\"text-align: right;\">\n",
       "      <th></th>\n",
       "      <th>type</th>\n",
       "      <th>name</th>\n",
       "      <th>distribution</th>\n",
       "    </tr>\n",
       "  </thead>\n",
       "  <tbody>\n",
       "    <tr>\n",
       "      <th>0</th>\n",
       "      <td>Person</td>\n",
       "      <td>Marie Curie</td>\n",
       "      <td>../../data/scientists-database/marie_curie.txt</td>\n",
       "    </tr>\n",
       "    <tr>\n",
       "      <th>1</th>\n",
       "      <td>Person</td>\n",
       "      <td>Albert Einstein</td>\n",
       "      <td>../../data/scientists-database/albert_einstein...</td>\n",
       "    </tr>\n",
       "  </tbody>\n",
       "</table>\n",
       "</div>"
      ],
      "text/plain": [
       "     type             name                                       distribution\n",
       "0  Person      Marie Curie     ../../data/scientists-database/marie_curie.txt\n",
       "1  Person  Albert Einstein  ../../data/scientists-database/albert_einstein..."
      ]
     },
     "execution_count": 44,
     "metadata": {},
     "output_type": "execute_result"
    }
   ],
   "source": [
    "dataframe"
   ]
  },
  {
   "cell_type": "code",
   "execution_count": 45,
   "metadata": {},
   "outputs": [],
   "source": [
    "persons = forge.from_dataframe(dataframe)"
   ]
  },
  {
   "cell_type": "code",
   "execution_count": 46,
   "metadata": {},
   "outputs": [
    {
     "name": "stdout",
     "output_type": "stream",
     "text": [
      "<count> 2\n",
      "<action> _register_many\n",
      "<succeeded> True\n"
     ]
    }
   ],
   "source": [
    "forge.register(persons)"
   ]
  },
  {
   "cell_type": "code",
   "execution_count": 47,
   "metadata": {},
   "outputs": [],
   "source": [
    "dataset = Dataset(forge, name=\"Interesting people\")"
   ]
  },
  {
   "cell_type": "code",
   "execution_count": 48,
   "metadata": {},
   "outputs": [],
   "source": [
    "dataset.add_parts(persons)"
   ]
  },
  {
   "cell_type": "code",
   "execution_count": 49,
   "metadata": {},
   "outputs": [
    {
     "name": "stdout",
     "output_type": "stream",
     "text": [
      "{\n",
      "    type: Dataset\n",
      "    hasPart:\n",
      "    [\n",
      "        {\n",
      "            id: https://bbp.epfl.ch/dke/kgforge_tests/ea2e5071-6181-499e-b1a6-079b841c220d?rev=1\n",
      "            type: Person\n",
      "            distribution: ../../data/scientists-database/marie_curie.txt\n",
      "            name: Marie Curie\n",
      "        }\n",
      "        {\n",
      "            id: https://bbp.epfl.ch/dke/kgforge_tests/93bbce98-8b9e-45af-a388-5f6264030617?rev=1\n",
      "            type: Person\n",
      "            distribution: ../../data/scientists-database/albert_einstein.txt\n",
      "            name: Albert Einstein\n",
      "        }\n",
      "    ]\n",
      "    name: Interesting people\n",
      "}\n"
     ]
    }
   ],
   "source": [
    "print(dataset)"
   ]
  },
  {
   "cell_type": "code",
   "execution_count": 50,
   "metadata": {},
   "outputs": [
    {
     "name": "stdout",
     "output_type": "stream",
     "text": [
      "<action> _register_one\n",
      "<succeeded> True\n"
     ]
    }
   ],
   "source": [
    "forge.register(dataset)"
   ]
  },
  {
   "cell_type": "markdown",
   "metadata": {},
   "source": [
    "### advanced"
   ]
  },
  {
   "cell_type": "code",
   "execution_count": 51,
   "metadata": {},
   "outputs": [],
   "source": [
    "dataframe = pd.read_csv(\"../../data/associations.tsv\", sep=\"\\t\", usecols=[\"name\", \"type\", \"agent__type\", \"agent__name\", \"agent__gender__label\", \"distribution\"])"
   ]
  },
  {
   "cell_type": "code",
   "execution_count": 52,
   "metadata": {},
   "outputs": [
    {
     "data": {
      "text/html": [
       "<div>\n",
       "<style scoped>\n",
       "    .dataframe tbody tr th:only-of-type {\n",
       "        vertical-align: middle;\n",
       "    }\n",
       "\n",
       "    .dataframe tbody tr th {\n",
       "        vertical-align: top;\n",
       "    }\n",
       "\n",
       "    .dataframe thead th {\n",
       "        text-align: right;\n",
       "    }\n",
       "</style>\n",
       "<table border=\"1\" class=\"dataframe\">\n",
       "  <thead>\n",
       "    <tr style=\"text-align: right;\">\n",
       "      <th></th>\n",
       "      <th>name</th>\n",
       "      <th>type</th>\n",
       "      <th>agent__type</th>\n",
       "      <th>agent__name</th>\n",
       "      <th>agent__gender__label</th>\n",
       "      <th>distribution</th>\n",
       "    </tr>\n",
       "  </thead>\n",
       "  <tbody>\n",
       "    <tr>\n",
       "      <th>0</th>\n",
       "      <td>Curie Association</td>\n",
       "      <td>Association</td>\n",
       "      <td>Person</td>\n",
       "      <td>Marie Curie</td>\n",
       "      <td>female</td>\n",
       "      <td>../../data/scientists-database/marie_curie.txt</td>\n",
       "    </tr>\n",
       "    <tr>\n",
       "      <th>1</th>\n",
       "      <td>Einstein Association</td>\n",
       "      <td>Association</td>\n",
       "      <td>Person</td>\n",
       "      <td>Albert Einstein</td>\n",
       "      <td>male</td>\n",
       "      <td>../../data/scientists-database/albert_einstein...</td>\n",
       "    </tr>\n",
       "  </tbody>\n",
       "</table>\n",
       "</div>"
      ],
      "text/plain": [
       "                   name         type agent__type      agent__name  \\\n",
       "0     Curie Association  Association      Person      Marie Curie   \n",
       "1  Einstein Association  Association      Person  Albert Einstein   \n",
       "\n",
       "  agent__gender__label                                       distribution  \n",
       "0               female     ../../data/scientists-database/marie_curie.txt  \n",
       "1                 male  ../../data/scientists-database/albert_einstein...  "
      ]
     },
     "execution_count": 52,
     "metadata": {},
     "output_type": "execute_result"
    }
   ],
   "source": [
    "dataframe"
   ]
  },
  {
   "cell_type": "code",
   "execution_count": 53,
   "metadata": {},
   "outputs": [],
   "source": [
    "dataframe[\"distribution\"] = dataframe[\"distribution\"].map(lambda x: forge.attach(x))"
   ]
  },
  {
   "cell_type": "code",
   "execution_count": 54,
   "metadata": {},
   "outputs": [],
   "source": [
    "associations = forge.from_dataframe(dataframe, na=\"(missing)\", nesting=\"__\")"
   ]
  },
  {
   "cell_type": "code",
   "execution_count": 55,
   "metadata": {},
   "outputs": [
    {
     "name": "stdout",
     "output_type": "stream",
     "text": [
      "{\n",
      "    type: Association\n",
      "    agent:\n",
      "    {\n",
      "        type: Person\n",
      "        gender:\n",
      "        {\n",
      "            label: female\n",
      "        }\n",
      "        name: Marie Curie\n",
      "    }\n",
      "    distribution: LazyAction(operation=Store.upload, args=['../../data/scientists-database/marie_curie.txt', None])\n",
      "    name: Curie Association\n",
      "}\n"
     ]
    }
   ],
   "source": [
    "print(associations[0])"
   ]
  },
  {
   "cell_type": "code",
   "execution_count": 56,
   "metadata": {},
   "outputs": [
    {
     "name": "stdout",
     "output_type": "stream",
     "text": [
      "<count> 2\n",
      "<action> _register_many\n",
      "<succeeded> True\n"
     ]
    }
   ],
   "source": [
    "forge.register(associations)"
   ]
  },
  {
   "cell_type": "code",
   "execution_count": 57,
   "metadata": {},
   "outputs": [],
   "source": [
    "dataset = Dataset(forge, name=\"Interesting associations\")"
   ]
  },
  {
   "cell_type": "code",
   "execution_count": 58,
   "metadata": {},
   "outputs": [
    {
     "name": "stdout",
     "output_type": "stream",
     "text": [
      "{\n",
      "    type: Dataset\n",
      "    name: Interesting associations\n",
      "}\n"
     ]
    }
   ],
   "source": [
    "print(dataset)"
   ]
  },
  {
   "cell_type": "code",
   "execution_count": 59,
   "metadata": {},
   "outputs": [],
   "source": [
    "dataset.add_parts(associations)"
   ]
  },
  {
   "cell_type": "code",
   "execution_count": 60,
   "metadata": {},
   "outputs": [
    {
     "name": "stdout",
     "output_type": "stream",
     "text": [
      "{\n",
      "    type: Dataset\n",
      "    hasPart:\n",
      "    [\n",
      "        {\n",
      "            id: https://bbp.epfl.ch/dke/kgforge_tests/ccbb5419-4334-468e-ac9a-b18f0da099de?rev=1\n",
      "            type: Association\n",
      "            distribution:\n",
      "            {\n",
      "                contentUrl: https://staging.nexus.ocp.bbp.epfl.ch/v1/files/dke/kgforge_tests/4581b3a5-a6d7-4c01-9390-e2d9ec882972\n",
      "            }\n",
      "            name: Curie Association\n",
      "        }\n",
      "        {\n",
      "            id: https://bbp.epfl.ch/dke/kgforge_tests/cdcac522-fd03-4f26-8410-87fdb73b6cfe?rev=1\n",
      "            type: Association\n",
      "            distribution:\n",
      "            {\n",
      "                contentUrl: https://staging.nexus.ocp.bbp.epfl.ch/v1/files/dke/kgforge_tests/29acae13-8da0-43bc-aaa9-1fc94951abb4\n",
      "            }\n",
      "            name: Einstein Association\n",
      "        }\n",
      "    ]\n",
      "    name: Interesting associations\n",
      "}\n"
     ]
    }
   ],
   "source": [
    "print(dataset)"
   ]
  },
  {
   "cell_type": "code",
   "execution_count": 61,
   "metadata": {},
   "outputs": [
    {
     "name": "stdout",
     "output_type": "stream",
     "text": [
      "<action> _register_one\n",
      "<succeeded> True\n"
     ]
    }
   ],
   "source": [
    "forge.register(dataset)"
   ]
  },
  {
   "cell_type": "code",
   "execution_count": 62,
   "metadata": {},
   "outputs": [],
   "source": [
    "dataset.download(\"parts\", \"./downloaded/\")"
   ]
  },
  {
   "cell_type": "code",
   "execution_count": 63,
   "metadata": {},
   "outputs": [
    {
     "name": "stdout",
     "output_type": "stream",
     "text": [
      "albert_einstein.txt marie_curie.txt\n"
     ]
    }
   ],
   "source": [
    "! ls ./downloaded"
   ]
  },
  {
   "cell_type": "code",
   "execution_count": 64,
   "metadata": {},
   "outputs": [],
   "source": [
    "! rm -R ./downloaded"
   ]
  },
  {
   "cell_type": "code",
   "execution_count": null,
   "metadata": {},
   "outputs": [],
   "source": []
  }
 ],
 "metadata": {
  "kernelspec": {
   "display_name": "kgforge(v2)",
   "language": "python",
   "name": "kgforge"
  },
  "language_info": {
   "codemirror_mode": {
    "name": "ipython",
    "version": 3
   },
   "file_extension": ".py",
   "mimetype": "text/x-python",
   "name": "python",
   "nbconvert_exporter": "python",
   "pygments_lexer": "ipython3",
   "version": "3.7.5"
  }
 },
 "nbformat": 4,
 "nbformat_minor": 4
}

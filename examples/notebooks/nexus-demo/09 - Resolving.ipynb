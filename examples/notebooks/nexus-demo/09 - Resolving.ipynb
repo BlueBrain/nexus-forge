{
 "cells": [
  {
   "cell_type": "markdown",
   "metadata": {
    "ExecuteTime": {
     "end_time": "2019-09-23T18:50:19.036357Z",
     "start_time": "2019-09-23T18:50:19.031896Z"
    }
   },
   "source": [
    "# Resolving\n",
    "\n",
    "Resolvers are helpers to find commonly used resources that one may want to link resources to. Resolvers are configured in the `Resolvers` section of the configuration file."
   ]
  },
  {
   "cell_type": "code",
   "execution_count": 1,
   "metadata": {
    "ExecuteTime": {
     "end_time": "2019-09-23T18:50:20.068658Z",
     "start_time": "2019-09-23T18:50:19.054054Z"
    }
   },
   "outputs": [],
   "source": [
    "from kgforge.core import KnowledgeGraphForge"
   ]
  },
  {
   "cell_type": "code",
   "execution_count": 2,
   "metadata": {},
   "outputs": [],
   "source": [
    "import getpass"
   ]
  },
  {
   "cell_type": "code",
   "execution_count": 3,
   "metadata": {},
   "outputs": [],
   "source": [
    "token = getpass.getpass()"
   ]
  },
  {
   "cell_type": "code",
   "execution_count": 4,
   "metadata": {},
   "outputs": [],
   "source": [
    "forge = KnowledgeGraphForge(\"../../configurations/demo-forge-nexus.yml\", token=token)"
   ]
  },
  {
   "cell_type": "markdown",
   "metadata": {},
   "source": [
    "# Imports"
   ]
  },
  {
   "cell_type": "code",
   "execution_count": 5,
   "metadata": {},
   "outputs": [],
   "source": [
    "from kgforge.core.commons.strategies import ResolvingStrategy"
   ]
  },
  {
   "cell_type": "markdown",
   "metadata": {},
   "source": [
    "## Discover scopes, resolvers and targets\n",
    "\n",
    "With the `forge.resolvers()` method, the user can inspect the available scopes, resolvers, and targets.\n",
    "A scope is linked to a data source (directory, store, or URL). Each scope will have at least one resolver, which is an implementation of the Forge Resolver. A resolver can have multiple targets, and it will delimitate the resolution within the resolver's scope."
   ]
  },
  {
   "cell_type": "code",
   "execution_count": 6,
   "metadata": {},
   "outputs": [
    {
     "name": "stdout",
     "output_type": "stream",
     "text": [
      "Available scopes:\n",
      " -  agent :\n",
      "     - resolver:  AgentResolver\n",
      "         - targets:  agents\n",
      " -  ontology :\n",
      "     - resolver:  OntologyResolver\n",
      "         - targets:  terms\n"
     ]
    }
   ],
   "source": [
    "forge.resolvers()"
   ]
  },
  {
   "cell_type": "markdown",
   "metadata": {},
   "source": [
    "## Ontology terms\n",
    "\n",
    "To find resources using resolver, you can use regex expressions within the provided string."
   ]
  },
  {
   "cell_type": "markdown",
   "metadata": {},
   "source": [
    "### using BEST_MATCH strategy (default)"
   ]
  },
  {
   "cell_type": "markdown",
   "metadata": {},
   "source": [
    "Use ontology terms to retrieve the \"Primary somatosensory area, trunk, layer 1\" using its notation \"ssp-tr1\":"
   ]
  },
  {
   "cell_type": "code",
   "execution_count": 7,
   "metadata": {},
   "outputs": [],
   "source": [
    "brain_region = forge.resolve(\"ssp-tr1\", scope=\"ontology\", target=\"terms\")"
   ]
  },
  {
   "cell_type": "code",
   "execution_count": 8,
   "metadata": {},
   "outputs": [
    {
     "data": {
      "text/plain": [
       "kgforge.core.resource.Resource"
      ]
     },
     "execution_count": 8,
     "metadata": {},
     "output_type": "execute_result"
    }
   ],
   "source": [
    "type(brain_region)"
   ]
  },
  {
   "cell_type": "code",
   "execution_count": 9,
   "metadata": {},
   "outputs": [
    {
     "name": "stdout",
     "output_type": "stream",
     "text": [
      "{\n",
      "    id: http://api.brain-map.org/api/v2/data/Structure/1006\n",
      "    type: Class\n",
      "    label: Primary somatosensory area, trunk, layer 1\n",
      "    isDefinedBy: http://bbp.epfl.ch/neurosciencegraph/ontologies/mba\n",
      "    notation: SSp-tr1\n",
      "    prefLabel: Primary somatosensory area, trunk, layer 1\n",
      "    subClassOf: BrainRegion\n",
      "}\n"
     ]
    }
   ],
   "source": [
    "print(brain_region)"
   ]
  },
  {
   "cell_type": "markdown",
   "metadata": {},
   "source": [
    "If there is a unique scope, resolver, or target, it is possible to omit them in the parametrization."
   ]
  },
  {
   "cell_type": "code",
   "execution_count": 10,
   "metadata": {},
   "outputs": [],
   "source": [
    "result = forge.resolve(\"ssp-tr1\", scope=\"ontology\")"
   ]
  },
  {
   "cell_type": "code",
   "execution_count": 11,
   "metadata": {},
   "outputs": [
    {
     "name": "stdout",
     "output_type": "stream",
     "text": [
      "{\n",
      "    id: http://api.brain-map.org/api/v2/data/Structure/1006\n",
      "    type: Class\n",
      "    label: Primary somatosensory area, trunk, layer 1\n",
      "    isDefinedBy: http://bbp.epfl.ch/neurosciencegraph/ontologies/mba\n",
      "    notation: SSp-tr1\n",
      "    prefLabel: Primary somatosensory area, trunk, layer 1\n",
      "    subClassOf: BrainRegion\n",
      "}\n"
     ]
    }
   ],
   "source": [
    "print(result)"
   ]
  },
  {
   "cell_type": "code",
   "execution_count": 12,
   "metadata": {},
   "outputs": [
    {
     "data": {
      "text/plain": [
       "True"
      ]
     },
     "execution_count": 12,
     "metadata": {},
     "output_type": "execute_result"
    }
   ],
   "source": [
    "brain_region == result"
   ]
  },
  {
   "cell_type": "markdown",
   "metadata": {},
   "source": [
    "### using ALL_MATCHES strategy\n",
    "\n",
    "Use ontology terms to retreieve a \"somatosensory\" followed by \"trunk\" brain region:"
   ]
  },
  {
   "cell_type": "code",
   "execution_count": 13,
   "metadata": {},
   "outputs": [],
   "source": [
    "brain_regions = forge.resolve(\"somatosensory.*trunk\", scope=\"ontology\", strategy=ResolvingStrategy.ALL_MATCHES, limit=3)"
   ]
  },
  {
   "cell_type": "code",
   "execution_count": 14,
   "metadata": {},
   "outputs": [
    {
     "name": "stdout",
     "output_type": "stream",
     "text": [
      "{\n",
      "    id: http://api.brain-map.org/api/v2/data/Structure/1086\n",
      "    type: Class\n",
      "    label: Primary somatosensory area, trunk, layer 4\n",
      "    isDefinedBy: http://bbp.epfl.ch/neurosciencegraph/ontologies/mba\n",
      "    notation: SSp-tr4\n",
      "    prefLabel: Primary somatosensory area, trunk, layer 4\n",
      "    subClassOf: BrainRegion\n",
      "}\n",
      "{\n",
      "    id: http://api.brain-map.org/api/v2/data/Structure/1111\n",
      "    type: Class\n",
      "    label: Primary somatosensory area, trunk, layer 5\n",
      "    isDefinedBy: http://bbp.epfl.ch/neurosciencegraph/ontologies/mba\n",
      "    notation: SSp-tr5\n",
      "    prefLabel: Primary somatosensory area, trunk, layer 5\n",
      "    subClassOf: BrainRegion\n",
      "}\n",
      "{\n",
      "    id: http://api.brain-map.org/api/v2/data/Structure/1006\n",
      "    type: Class\n",
      "    label: Primary somatosensory area, trunk, layer 1\n",
      "    isDefinedBy: http://bbp.epfl.ch/neurosciencegraph/ontologies/mba\n",
      "    notation: SSp-tr1\n",
      "    prefLabel: Primary somatosensory area, trunk, layer 1\n",
      "    subClassOf: BrainRegion\n",
      "}\n"
     ]
    }
   ],
   "source": [
    "for x in brain_regions:\n",
    "    print(x)"
   ]
  },
  {
   "cell_type": "markdown",
   "metadata": {},
   "source": [
    "### using EXACT_MATCH strategy\n",
    "\n",
    "For this strategy, the exact string has to be provided, and it is case sensitive."
   ]
  },
  {
   "cell_type": "code",
   "execution_count": 15,
   "metadata": {
    "scrolled": true
   },
   "outputs": [],
   "source": [
    "result = forge.resolve(\"Somatosensory areas, layer 1\", scope=\"ontology\", strategy=ResolvingStrategy.EXACT_MATCH)"
   ]
  },
  {
   "cell_type": "code",
   "execution_count": 16,
   "metadata": {},
   "outputs": [
    {
     "name": "stdout",
     "output_type": "stream",
     "text": [
      "{\n",
      "    id: http://api.brain-map.org/api/v2/data/Structure/12993\n",
      "    type: Class\n",
      "    label: Somatosensory areas, layer 1\n",
      "    isDefinedBy: http://bbp.epfl.ch/neurosciencegraph/ontologies/mba\n",
      "    notation: SS1\n",
      "    prefLabel: Somatosensory areas, layer 1\n",
      "    subClassOf: BrainRegion\n",
      "}\n"
     ]
    }
   ],
   "source": [
    "print(result)"
   ]
  },
  {
   "cell_type": "markdown",
   "metadata": {},
   "source": [
    "## Agent Entities"
   ]
  },
  {
   "cell_type": "markdown",
   "metadata": {},
   "source": [
    "### scope\n",
    "Resolving an entity resource having \"anne\"."
   ]
  },
  {
   "cell_type": "code",
   "execution_count": 17,
   "metadata": {},
   "outputs": [],
   "source": [
    "agent = forge.resolve(\"anne\", scope=\"agent\")"
   ]
  },
  {
   "cell_type": "code",
   "execution_count": 18,
   "metadata": {},
   "outputs": [
    {
     "data": {
      "text/plain": [
       "kgforge.core.resource.Resource"
      ]
     },
     "execution_count": 18,
     "metadata": {},
     "output_type": "execute_result"
    }
   ],
   "source": [
    "type(agent)"
   ]
  },
  {
   "cell_type": "code",
   "execution_count": 19,
   "metadata": {},
   "outputs": [
    {
     "name": "stdout",
     "output_type": "stream",
     "text": [
      "{\n",
      "    id: https://www.grid.ac/institutes/grid.5333.6\n",
      "    type:\n",
      "    [\n",
      "        Organization\n",
      "        Agent\n",
      "    ]\n",
      "    name: École Polytechnique Fédérale de Lausanne\n",
      "}\n"
     ]
    }
   ],
   "source": [
    "print(agent)"
   ]
  },
  {
   "cell_type": "markdown",
   "metadata": {},
   "source": [
    "### using ALL_MATCHES strategy"
   ]
  },
  {
   "cell_type": "code",
   "execution_count": 20,
   "metadata": {},
   "outputs": [],
   "source": [
    "agents = forge.resolve(\"anne\", scope=\"agent\", strategy=ResolvingStrategy.ALL_MATCHES)"
   ]
  },
  {
   "cell_type": "code",
   "execution_count": 21,
   "metadata": {},
   "outputs": [
    {
     "name": "stdout",
     "output_type": "stream",
     "text": [
      "{\n",
      "    id: https://staging.epfl.ch/nexus/v1/test/bbp/users/jbeaumon\n",
      "    type:\n",
      "    [\n",
      "        Agent\n",
      "        Person\n",
      "    ]\n",
      "    familyName: Beaumon\n",
      "    givenName: Joanne\n",
      "}\n",
      "{\n",
      "    id: https://www.grid.ac/institutes/grid.5333.6\n",
      "    type:\n",
      "    [\n",
      "        Agent\n",
      "        Organization\n",
      "    ]\n",
      "    name: École Polytechnique Fédérale de Lausanne\n",
      "}\n"
     ]
    }
   ],
   "source": [
    "for x in agents:\n",
    "    print(x)"
   ]
  },
  {
   "cell_type": "markdown",
   "metadata": {},
   "source": [
    "### using EXACT_MATCH strategy"
   ]
  },
  {
   "cell_type": "code",
   "execution_count": 22,
   "metadata": {},
   "outputs": [],
   "source": [
    "agent = forge.resolve(\"anne\", scope=\"agent\", strategy=ResolvingStrategy.EXACT_MATCH)"
   ]
  },
  {
   "cell_type": "code",
   "execution_count": 23,
   "metadata": {},
   "outputs": [
    {
     "name": "stdout",
     "output_type": "stream",
     "text": [
      "None\n"
     ]
    }
   ],
   "source": [
    "print(agent)"
   ]
  },
  {
   "cell_type": "markdown",
   "metadata": {},
   "source": [
    "## filtering by type"
   ]
  },
  {
   "cell_type": "code",
   "execution_count": 24,
   "metadata": {},
   "outputs": [],
   "source": [
    "person = forge.resolve(\"anne\", scope=\"agent\", type=\"Person\")"
   ]
  },
  {
   "cell_type": "code",
   "execution_count": 25,
   "metadata": {},
   "outputs": [
    {
     "name": "stdout",
     "output_type": "stream",
     "text": [
      "{\n",
      "    id: https://staging.epfl.ch/nexus/v1/test/bbp/users/jbeaumon\n",
      "    type:\n",
      "    [\n",
      "        Agent\n",
      "        Person\n",
      "    ]\n",
      "    familyName: Beaumon\n",
      "    givenName: Joanne\n",
      "}\n"
     ]
    }
   ],
   "source": [
    "print(person)"
   ]
  },
  {
   "cell_type": "code",
   "execution_count": 26,
   "metadata": {},
   "outputs": [],
   "source": [
    "organization = forge.resolve(\"anne\", scope=\"agent\", type=\"Organization\")"
   ]
  },
  {
   "cell_type": "code",
   "execution_count": 27,
   "metadata": {},
   "outputs": [
    {
     "name": "stdout",
     "output_type": "stream",
     "text": [
      "{\n",
      "    id: https://www.grid.ac/institutes/grid.5333.6\n",
      "    type:\n",
      "    [\n",
      "        Organization\n",
      "        Agent\n",
      "    ]\n",
      "    name: École Polytechnique Fédérale de Lausanne\n",
      "}\n"
     ]
    }
   ],
   "source": [
    "print(organization)"
   ]
  },
  {
   "cell_type": "code",
   "execution_count": null,
   "metadata": {},
   "outputs": [],
   "source": []
  }
 ],
 "metadata": {
  "kernelspec": {
   "display_name": "kgforge(v2)",
   "language": "python",
   "name": "kgforge"
  },
  "language_info": {
   "codemirror_mode": {
    "name": "ipython",
    "version": 3
   },
   "file_extension": ".py",
   "mimetype": "text/x-python",
   "name": "python",
   "nbconvert_exporter": "python",
   "pygments_lexer": "ipython3",
   "version": "3.7.5"
  }
 },
 "nbformat": 4,
 "nbformat_minor": 4
}

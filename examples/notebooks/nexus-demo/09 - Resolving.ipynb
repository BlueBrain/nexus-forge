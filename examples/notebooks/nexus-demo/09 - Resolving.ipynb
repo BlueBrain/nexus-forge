{
 "cells": [
  {
   "cell_type": "markdown",
   "metadata": {
    "ExecuteTime": {
     "end_time": "2019-09-23T18:50:19.036357Z",
     "start_time": "2019-09-23T18:50:19.031896Z"
    }
   },
   "source": [
    "# Resolving\n",
    "\n",
    "Resolvers are helpers to find commonly used resources that one may want to link resources to. Resolvers are configured in the `Resolvers` section of the configuration file."
   ]
  },
  {
   "cell_type": "code",
   "execution_count": 1,
   "metadata": {
    "ExecuteTime": {
     "end_time": "2019-09-23T18:50:20.068658Z",
     "start_time": "2019-09-23T18:50:19.054054Z"
    }
   },
   "outputs": [],
   "source": [
    "from kgforge.core import KnowledgeGraphForge"
   ]
  },
  {
   "cell_type": "code",
   "execution_count": 2,
   "metadata": {},
   "outputs": [],
   "source": [
    "import getpass"
   ]
  },
  {
   "cell_type": "code",
   "execution_count": 3,
   "metadata": {},
   "outputs": [],
   "source": [
    "token = getpass.getpass()"
   ]
  },
  {
   "cell_type": "code",
   "execution_count": 4,
   "metadata": {},
   "outputs": [],
   "source": [
    "forge = KnowledgeGraphForge(\"../../configurations/demo-forge-nexus.yml\", token=token)"
   ]
  },
  {
   "cell_type": "markdown",
   "metadata": {},
   "source": [
    "# Imports"
   ]
  },
  {
   "cell_type": "code",
   "execution_count": 5,
   "metadata": {},
   "outputs": [],
   "source": [
    "from kgforge.core.commons.strategies import ResolvingStrategy"
   ]
  },
  {
   "cell_type": "markdown",
   "metadata": {},
   "source": [
    "## Discover scopes, resolvers and targets\n",
    "\n",
    "With the `forge.resolvers()` method, the user can inspect the avilable scopes, resolvers and targets.\n",
    "A scope is linked to a data source (directoy, store or url). Each scope will have at least one resolver, which is an implementation of the Forge Resolver. A resolver can have multiple targets that will delimite the resolution within the resolver's scope."
   ]
  },
  {
   "cell_type": "code",
   "execution_count": 6,
   "metadata": {},
   "outputs": [
    {
     "name": "stdout",
     "output_type": "stream",
     "text": [
      "Available scopes:\n",
      " -  agent :\n",
      "     - resolver:  AgentResolver\n",
      "         - targets:  agents\n",
      " -  ontology :\n",
      "     - resolver:  OntologyResolver\n",
      "         - targets:  terms\n"
     ]
    }
   ],
   "source": [
    "forge.resolvers()"
   ]
  },
  {
   "cell_type": "markdown",
   "metadata": {},
   "source": [
    "## Ontology terms"
   ]
  },
  {
   "cell_type": "markdown",
   "metadata": {},
   "source": [
    "### using BEST_MATCH strategy (default)"
   ]
  },
  {
   "cell_type": "markdown",
   "metadata": {},
   "source": [
    "Use ontology terms to retreieve a \"somatosensory\" brain region "
   ]
  },
  {
   "cell_type": "code",
   "execution_count": 7,
   "metadata": {},
   "outputs": [],
   "source": [
    "brain_region = forge.resolve(\"somatosensory\", scope=\"ontology\", target=\"terms\")"
   ]
  },
  {
   "cell_type": "code",
   "execution_count": 8,
   "metadata": {},
   "outputs": [
    {
     "data": {
      "text/plain": [
       "kgforge.core.resource.Resource"
      ]
     },
     "execution_count": 8,
     "metadata": {},
     "output_type": "execute_result"
    }
   ],
   "source": [
    "type(brain_region)"
   ]
  },
  {
   "cell_type": "code",
   "execution_count": 9,
   "metadata": {},
   "outputs": [
    {
     "name": "stdout",
     "output_type": "stream",
     "text": [
      "{\n",
      "    id: http://api.brain-map.org/api/v2/data/Structure/1006\n",
      "    type: Class\n",
      "    label: Primary somatosensory area, trunk, layer 1\n",
      "    isDefinedBy: http://bbp.epfl.ch/neurosciencegraph/ontologies/mba\n",
      "    notation: SSp-tr1\n",
      "    prefLabel: Primary somatosensory area, trunk, layer 1\n",
      "    subClassOf: BrainRegion\n",
      "}\n"
     ]
    }
   ],
   "source": [
    "print(brain_region)"
   ]
  },
  {
   "cell_type": "markdown",
   "metadata": {},
   "source": [
    "If the available scopes, resolvers and terms are only one, it is possible to omit them in the parametrizationf since it will use that single one by refault."
   ]
  },
  {
   "cell_type": "code",
   "execution_count": 10,
   "metadata": {},
   "outputs": [],
   "source": [
    "result = forge.resolve(\"somatosensory\", scope=\"ontology\")"
   ]
  },
  {
   "cell_type": "code",
   "execution_count": 11,
   "metadata": {},
   "outputs": [
    {
     "data": {
      "text/plain": [
       "True"
      ]
     },
     "execution_count": 11,
     "metadata": {},
     "output_type": "execute_result"
    }
   ],
   "source": [
    "brain_region == result"
   ]
  },
  {
   "cell_type": "markdown",
   "metadata": {},
   "source": [
    "### using ALL_MATCHES strategy"
   ]
  },
  {
   "cell_type": "code",
   "execution_count": 12,
   "metadata": {},
   "outputs": [],
   "source": [
    "brain_regions = forge.resolve(\"somatosensory\", scope=\"ontology\", strategy=ResolvingStrategy.ALL_MATCHES, limit=3)"
   ]
  },
  {
   "cell_type": "code",
   "execution_count": 13,
   "metadata": {},
   "outputs": [
    {
     "name": "stdout",
     "output_type": "stream",
     "text": [
      "{\n",
      "    id: http://api.brain-map.org/api/v2/data/Structure/1006\n",
      "    type: Class\n",
      "    label: Primary somatosensory area, trunk, layer 1\n",
      "    isDefinedBy: http://bbp.epfl.ch/neurosciencegraph/ontologies/mba\n",
      "    notation: SSp-tr1\n",
      "    prefLabel: Primary somatosensory area, trunk, layer 1\n",
      "    subClassOf: BrainRegion\n",
      "}\n",
      "{\n",
      "    id: http://api.brain-map.org/api/v2/data/Structure/361\n",
      "    type: Class\n",
      "    label: Primary somatosensory area, trunk\n",
      "    isDefinedBy: http://bbp.epfl.ch/neurosciencegraph/ontologies/mba\n",
      "    notation: SSp-tr\n",
      "    prefLabel: Primary somatosensory area, trunk\n",
      "    subClassOf: BrainRegion\n",
      "}\n",
      "{\n",
      "    id: http://api.brain-map.org/api/v2/data/Structure/1026\n",
      "    type: Class\n",
      "    label: Primary somatosensory area, upper limb, layer 6b\n",
      "    isDefinedBy: http://bbp.epfl.ch/neurosciencegraph/ontologies/mba\n",
      "    notation: SSp-ul6b\n",
      "    prefLabel: Primary somatosensory area, upper limb, layer 6b\n",
      "    subClassOf: BrainRegion\n",
      "}\n"
     ]
    }
   ],
   "source": [
    "for x in brain_regions:\n",
    "    print(x)"
   ]
  },
  {
   "cell_type": "markdown",
   "metadata": {},
   "source": [
    "### using EXACT_MATCH strategy"
   ]
  },
  {
   "cell_type": "code",
   "execution_count": 14,
   "metadata": {
    "scrolled": true
   },
   "outputs": [],
   "source": [
    "result = forge.resolve(\"Somatosensory areas, layer 1\", scope=\"ontology\", strategy=ResolvingStrategy.EXACT_MATCH)"
   ]
  },
  {
   "cell_type": "code",
   "execution_count": 15,
   "metadata": {},
   "outputs": [
    {
     "name": "stdout",
     "output_type": "stream",
     "text": [
      "{\n",
      "    id: http://api.brain-map.org/api/v2/data/Structure/12993\n",
      "    type: Class\n",
      "    label: Somatosensory areas, layer 1\n",
      "    isDefinedBy: http://bbp.epfl.ch/neurosciencegraph/ontologies/mba\n",
      "    notation: SS1\n",
      "    prefLabel: Somatosensory areas, layer 1\n",
      "    subClassOf: BrainRegion\n",
      "}\n"
     ]
    }
   ],
   "source": [
    "print(result)"
   ]
  },
  {
   "cell_type": "markdown",
   "metadata": {},
   "source": [
    "## Agent Entities"
   ]
  },
  {
   "cell_type": "markdown",
   "metadata": {},
   "source": [
    "### scope\n",
    "Resolving an entity resource having anne in the entities."
   ]
  },
  {
   "cell_type": "code",
   "execution_count": 16,
   "metadata": {},
   "outputs": [],
   "source": [
    "agent = forge.resolve(\"anne\", scope=\"agent\")"
   ]
  },
  {
   "cell_type": "code",
   "execution_count": 17,
   "metadata": {},
   "outputs": [
    {
     "data": {
      "text/plain": [
       "kgforge.core.resource.Resource"
      ]
     },
     "execution_count": 17,
     "metadata": {},
     "output_type": "execute_result"
    }
   ],
   "source": [
    "type(agent)"
   ]
  },
  {
   "cell_type": "code",
   "execution_count": 18,
   "metadata": {},
   "outputs": [
    {
     "name": "stdout",
     "output_type": "stream",
     "text": [
      "{\n",
      "    id: https://www.grid.ac/institutes/grid.5333.6\n",
      "    type:\n",
      "    [\n",
      "        Organization\n",
      "        Agent\n",
      "    ]\n",
      "    name: École Polytechnique Fédérale de Lausanne\n",
      "}\n"
     ]
    }
   ],
   "source": [
    "print(agent)"
   ]
  },
  {
   "cell_type": "markdown",
   "metadata": {},
   "source": [
    "### using ALL_MATCHES strategy"
   ]
  },
  {
   "cell_type": "code",
   "execution_count": 19,
   "metadata": {},
   "outputs": [],
   "source": [
    "agents = forge.resolve(\"anne\", scope=\"agent\", strategy=ResolvingStrategy.ALL_MATCHES)"
   ]
  },
  {
   "cell_type": "code",
   "execution_count": 20,
   "metadata": {},
   "outputs": [
    {
     "name": "stdout",
     "output_type": "stream",
     "text": [
      "{\n",
      "    id: https://staging.epfl.ch/nexus/v1/test/bbp/users/jbeaumon\n",
      "    type:\n",
      "    [\n",
      "        Agent\n",
      "        Person\n",
      "    ]\n",
      "    familyName: Beaumon\n",
      "    givenName: Joanne\n",
      "}\n",
      "{\n",
      "    id: https://www.grid.ac/institutes/grid.5333.6\n",
      "    type:\n",
      "    [\n",
      "        Organization\n",
      "        Agent\n",
      "    ]\n",
      "    name: École Polytechnique Fédérale de Lausanne\n",
      "}\n"
     ]
    }
   ],
   "source": [
    "for x in agents:\n",
    "    print(x)"
   ]
  },
  {
   "cell_type": "markdown",
   "metadata": {},
   "source": [
    "### using EXACT_MATCH strategy"
   ]
  },
  {
   "cell_type": "code",
   "execution_count": 21,
   "metadata": {},
   "outputs": [],
   "source": [
    "agent = forge.resolve(\"anne\", scope=\"agent\", strategy=ResolvingStrategy.EXACT_MATCH)"
   ]
  },
  {
   "cell_type": "code",
   "execution_count": 22,
   "metadata": {},
   "outputs": [
    {
     "name": "stdout",
     "output_type": "stream",
     "text": [
      "None\n"
     ]
    }
   ],
   "source": [
    "print(agent)"
   ]
  },
  {
   "cell_type": "markdown",
   "metadata": {},
   "source": [
    "## filtering by type"
   ]
  },
  {
   "cell_type": "code",
   "execution_count": 23,
   "metadata": {},
   "outputs": [],
   "source": [
    "person = forge.resolve(\"anne\", scope=\"agent\", type=\"Person\")"
   ]
  },
  {
   "cell_type": "code",
   "execution_count": 24,
   "metadata": {},
   "outputs": [
    {
     "name": "stdout",
     "output_type": "stream",
     "text": [
      "{\n",
      "    id: https://staging.epfl.ch/nexus/v1/test/bbp/users/jbeaumon\n",
      "    type:\n",
      "    [\n",
      "        Person\n",
      "        Agent\n",
      "    ]\n",
      "    familyName: Beaumon\n",
      "    givenName: Joanne\n",
      "}\n"
     ]
    }
   ],
   "source": [
    "print(person)"
   ]
  },
  {
   "cell_type": "code",
   "execution_count": 25,
   "metadata": {},
   "outputs": [],
   "source": [
    "organization = forge.resolve(\"anne\", scope=\"agent\", type=\"Organization\")"
   ]
  },
  {
   "cell_type": "code",
   "execution_count": 26,
   "metadata": {},
   "outputs": [
    {
     "name": "stdout",
     "output_type": "stream",
     "text": [
      "{\n",
      "    id: https://www.grid.ac/institutes/grid.5333.6\n",
      "    type:\n",
      "    [\n",
      "        Organization\n",
      "        Agent\n",
      "    ]\n",
      "    name: École Polytechnique Fédérale de Lausanne\n",
      "}\n"
     ]
    }
   ],
   "source": [
    "print(organization)"
   ]
  },
  {
   "cell_type": "code",
   "execution_count": null,
   "metadata": {},
   "outputs": [],
   "source": []
  }
 ],
 "metadata": {
  "kernelspec": {
   "display_name": "kgforge(v2)",
   "language": "python",
   "name": "kgforge"
  },
  "language_info": {
   "codemirror_mode": {
    "name": "ipython",
    "version": 3
   },
   "file_extension": ".py",
   "mimetype": "text/x-python",
   "name": "python",
   "nbconvert_exporter": "python",
   "pygments_lexer": "ipython3",
   "version": "3.7.5"
  }
 },
 "nbformat": 4,
 "nbformat_minor": 4
}

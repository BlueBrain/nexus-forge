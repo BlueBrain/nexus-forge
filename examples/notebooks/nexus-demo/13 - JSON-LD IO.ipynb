{
 "cells": [
  {
   "cell_type": "markdown",
   "metadata": {
    "ExecuteTime": {
     "end_time": "2019-09-23T18:50:19.036357Z",
     "start_time": "2019-09-23T18:50:19.031896Z"
    }
   },
   "source": [
    "# JSON-LD Conversions\n",
    "\n",
    "This notebook demonstrates to convert Resources to JSON-LD and vice-versa, and the different possibilities to asign a context to a Resource. Thus has the following priority:\n",
    "1. use the context explicitly assigned to the resource i.e.`jane.context=\"http://shchema.org\"`\n",
    "2. use the context configured in the RdfModel if any\n",
    "3. Let the store add a context (if it is a RDF-store)"
   ]
  },
  {
   "cell_type": "code",
   "execution_count": 1,
   "metadata": {
    "ExecuteTime": {
     "end_time": "2019-09-23T18:50:20.068658Z",
     "start_time": "2019-09-23T18:50:19.054054Z"
    }
   },
   "outputs": [],
   "source": [
    "from kgforge.core import KnowledgeGraphForge"
   ]
  },
  {
   "cell_type": "code",
   "execution_count": 2,
   "metadata": {},
   "outputs": [],
   "source": [
    "import getpass"
   ]
  },
  {
   "cell_type": "code",
   "execution_count": 3,
   "metadata": {},
   "outputs": [],
   "source": [
    "token = getpass.getpass()"
   ]
  },
  {
   "cell_type": "code",
   "execution_count": 4,
   "metadata": {},
   "outputs": [],
   "source": [
    "forge = KnowledgeGraphForge(\"../../configurations/demo-forge-nexus.yml\", token=token)"
   ]
  },
  {
   "cell_type": "markdown",
   "metadata": {},
   "source": [
    "# Context"
   ]
  },
  {
   "cell_type": "code",
   "execution_count": 5,
   "metadata": {},
   "outputs": [],
   "source": [
    "context = {\n",
    "    \"ex\": \"http://example.org/\",\n",
    "    \"Person\": \"ex:Person\",\n",
    "    \"Organization\": \"ex:Organization\",\n",
    "    \"employer\": \"ex:employer\",\n",
    "    \"name\": \"ex:name\"\n",
    "}"
   ]
  },
  {
   "cell_type": "markdown",
   "metadata": {},
   "source": [
    "# Imports"
   ]
  },
  {
   "cell_type": "code",
   "execution_count": 6,
   "metadata": {},
   "outputs": [],
   "source": [
    "import json"
   ]
  },
  {
   "cell_type": "code",
   "execution_count": 7,
   "metadata": {},
   "outputs": [],
   "source": [
    "from kgforge.core import Resource"
   ]
  },
  {
   "cell_type": "code",
   "execution_count": 8,
   "metadata": {},
   "outputs": [],
   "source": [
    "def pp(x): \n",
    "    if x is not None:\n",
    "        print(json.dumps(x, indent=4)) "
   ]
  },
  {
   "cell_type": "markdown",
   "metadata": {},
   "source": [
    "## Resource to JSON-LD"
   ]
  },
  {
   "cell_type": "markdown",
   "metadata": {},
   "source": [
    "### context in the Resource"
   ]
  },
  {
   "cell_type": "code",
   "execution_count": 9,
   "metadata": {},
   "outputs": [],
   "source": [
    "jane = Resource(type=\"Person\", name=\"Jane Doe\")"
   ]
  },
  {
   "cell_type": "code",
   "execution_count": 10,
   "metadata": {},
   "outputs": [],
   "source": [
    "jane.context = context"
   ]
  },
  {
   "cell_type": "code",
   "execution_count": 11,
   "metadata": {},
   "outputs": [
    {
     "name": "stdout",
     "output_type": "stream",
     "text": [
      "{\n",
      "    context:\n",
      "    {\n",
      "        Organization: ex:Organization\n",
      "        Person: ex:Person\n",
      "        employer: ex:employer\n",
      "        ex: http://example.org/\n",
      "        name: ex:name\n",
      "    }\n",
      "    type: Person\n",
      "    name: Jane Doe\n",
      "}\n"
     ]
    }
   ],
   "source": [
    "print(jane)"
   ]
  },
  {
   "cell_type": "code",
   "execution_count": 12,
   "metadata": {},
   "outputs": [
    {
     "name": "stdout",
     "output_type": "stream",
     "text": [
      "<action> _register_one\n",
      "<succeeded> True\n"
     ]
    }
   ],
   "source": [
    "forge.register(jane)"
   ]
  },
  {
   "cell_type": "code",
   "execution_count": 13,
   "metadata": {},
   "outputs": [
    {
     "name": "stdout",
     "output_type": "stream",
     "text": [
      "{\n",
      "    \"@context\": {\n",
      "        \"ex\": \"http://example.org/\",\n",
      "        \"Person\": \"ex:Person\",\n",
      "        \"Organization\": \"ex:Organization\",\n",
      "        \"employer\": \"ex:employer\",\n",
      "        \"name\": \"ex:name\"\n",
      "    },\n",
      "    \"@id\": \"https://bbp.epfl.ch/dke/kgforge_tests/17a3f009-1afc-48b3-a43b-3a97644a8bf4\",\n",
      "    \"@type\": \"Person\",\n",
      "    \"name\": \"Jane Doe\"\n",
      "}\n"
     ]
    }
   ],
   "source": [
    "pp(forge.as_jsonld(jane, form=\"compacted\"))"
   ]
  },
  {
   "cell_type": "code",
   "execution_count": 14,
   "metadata": {},
   "outputs": [
    {
     "name": "stdout",
     "output_type": "stream",
     "text": [
      "{\n",
      "    \"@context\": {\n",
      "        \"ex\": \"http://example.org/\",\n",
      "        \"Person\": \"ex:Person\",\n",
      "        \"Organization\": \"ex:Organization\",\n",
      "        \"employer\": \"ex:employer\",\n",
      "        \"name\": \"ex:name\"\n",
      "    },\n",
      "    \"@id\": \"https://bbp.epfl.ch/dke/kgforge_tests/17a3f009-1afc-48b3-a43b-3a97644a8bf4\",\n",
      "    \"@type\": \"Person\",\n",
      "    \"name\": \"Jane Doe\"\n",
      "}\n"
     ]
    }
   ],
   "source": [
    " pp(forge.as_jsonld(jane))"
   ]
  },
  {
   "cell_type": "code",
   "execution_count": 15,
   "metadata": {},
   "outputs": [
    {
     "name": "stdout",
     "output_type": "stream",
     "text": [
      "{\n",
      "    \"@context\": [\n",
      "        {\n",
      "            \"ex\": \"http://example.org/\",\n",
      "            \"Person\": \"ex:Person\",\n",
      "            \"Organization\": \"ex:Organization\",\n",
      "            \"employer\": \"ex:employer\",\n",
      "            \"name\": \"ex:name\"\n",
      "        },\n",
      "        \"https://bluebrain.github.io/nexus/contexts/resource.json\"\n",
      "    ],\n",
      "    \"@id\": \"https://bbp.epfl.ch/dke/kgforge_tests/17a3f009-1afc-48b3-a43b-3a97644a8bf4\",\n",
      "    \"@type\": \"Person\",\n",
      "    \"name\": \"Jane Doe\",\n",
      "    \"_constrainedBy\": \"https://bluebrain.github.io/nexus/schemas/unconstrained.json\",\n",
      "    \"_createdAt\": \"2020-04-21T10:31:02.128101Z\",\n",
      "    \"_createdBy\": \"https://staging.nexus.ocp.bbp.epfl.ch/v1/realms/bbp/users/agarcia\",\n",
      "    \"_deprecated\": false,\n",
      "    \"_incoming\": \"https://staging.nexus.ocp.bbp.epfl.ch/v1/resources/dke/kgforge_tests/_/17a3f009-1afc-48b3-a43b-3a97644a8bf4/incoming\",\n",
      "    \"_outgoing\": \"https://staging.nexus.ocp.bbp.epfl.ch/v1/resources/dke/kgforge_tests/_/17a3f009-1afc-48b3-a43b-3a97644a8bf4/outgoing\",\n",
      "    \"_project\": \"https://staging.nexus.ocp.bbp.epfl.ch/v1/projects/dke/kgforge_tests\",\n",
      "    \"_rev\": 1,\n",
      "    \"_self\": \"https://staging.nexus.ocp.bbp.epfl.ch/v1/resources/dke/kgforge_tests/_/17a3f009-1afc-48b3-a43b-3a97644a8bf4\",\n",
      "    \"_updatedAt\": \"2020-04-21T10:31:02.128101Z\",\n",
      "    \"_updatedBy\": \"https://staging.nexus.ocp.bbp.epfl.ch/v1/realms/bbp/users/agarcia\"\n",
      "}\n"
     ]
    }
   ],
   "source": [
    "pp(forge.as_jsonld(jane, store_metadata=True))"
   ]
  },
  {
   "cell_type": "markdown",
   "metadata": {},
   "source": [
    "### context available in the web"
   ]
  },
  {
   "cell_type": "code",
   "execution_count": 16,
   "metadata": {},
   "outputs": [],
   "source": [
    "ivan = Resource(context=\"http://schema.org\", type=\"Person\", name=\"Ivan Tyron\")"
   ]
  },
  {
   "cell_type": "code",
   "execution_count": 17,
   "metadata": {},
   "outputs": [
    {
     "name": "stdout",
     "output_type": "stream",
     "text": [
      "{\n",
      "    \"@context\": \"http://schema.org\",\n",
      "    \"type\": \"Person\",\n",
      "    \"name\": \"Ivan Tyron\"\n",
      "}\n"
     ]
    }
   ],
   "source": [
    "pp(forge.as_jsonld(ivan))"
   ]
  },
  {
   "cell_type": "code",
   "execution_count": 18,
   "metadata": {},
   "outputs": [
    {
     "name": "stdout",
     "output_type": "stream",
     "text": [
      "<action> _register_one\n",
      "<succeeded> True\n"
     ]
    }
   ],
   "source": [
    "forge.register(ivan)"
   ]
  },
  {
   "cell_type": "code",
   "execution_count": 19,
   "metadata": {},
   "outputs": [
    {
     "name": "stdout",
     "output_type": "stream",
     "text": [
      "{\n",
      "    \"@id\": \"https://bbp.epfl.ch/dke/kgforge_tests/c3ec2c64-af56-463f-98cc-d75cedfcacd8\",\n",
      "    \"@type\": \"http://schema.org/Person\",\n",
      "    \"http://schema.org/name\": \"Ivan Tyron\"\n",
      "}\n"
     ]
    }
   ],
   "source": [
    "pp(forge.as_jsonld(ivan, form=\"expanded\"))"
   ]
  },
  {
   "cell_type": "markdown",
   "metadata": {},
   "source": [
    "### context from the model\n",
    "\n",
    "The configured model provides a default context that will be used to create resources that do not have context provided."
   ]
  },
  {
   "cell_type": "code",
   "execution_count": 20,
   "metadata": {},
   "outputs": [],
   "source": [
    "hana = Resource(type=\"Person\", name=\"Hana Lloyd\")"
   ]
  },
  {
   "cell_type": "code",
   "execution_count": 21,
   "metadata": {},
   "outputs": [
    {
     "name": "stdout",
     "output_type": "stream",
     "text": [
      "{\n",
      "    \"@context\": {\n",
      "        \"@vocab\": \"http://example.org/vocab/\",\n",
      "        \"rdf\": \"http://www.w3.org/1999/02/22-rdf-syntax-ns#\",\n",
      "        \"prov\": \"http://www.w3.org/ns/prov#\",\n",
      "        \"schema\": \"http://schema.org/\",\n",
      "        \"Activity\": {\n",
      "            \"@id\": \"prov:Activity\"\n",
      "        },\n",
      "        \"PostalAddress\": {\n",
      "            \"@id\": \"schema:PostalAddress\"\n",
      "        },\n",
      "        \"Association\": {\n",
      "            \"@id\": \"schema:Association\"\n",
      "        },\n",
      "        \"Building\": {\n",
      "            \"@id\": \"schema:Building\"\n",
      "        },\n",
      "        \"Organization\": {\n",
      "            \"@id\": \"schema:Organization\"\n",
      "        },\n",
      "        \"Person\": {\n",
      "            \"@id\": \"schema:Person\"\n",
      "        },\n",
      "        \"address\": {\n",
      "            \"@id\": \"schema:address\"\n",
      "        },\n",
      "        \"agent\": {\n",
      "            \"@id\": \"schema:agent\"\n",
      "        },\n",
      "        \"birthDate\": {\n",
      "            \"@id\": \"schema:birthDate\"\n",
      "        },\n",
      "        \"citation\": {\n",
      "            \"@id\": \"schema:citation\"\n",
      "        },\n",
      "        \"contractor\": {\n",
      "            \"@id\": \"schema:contractor\"\n",
      "        },\n",
      "        \"deathDate\": {\n",
      "            \"@id\": \"schema:deathDate\"\n",
      "        },\n",
      "        \"department\": {\n",
      "            \"@id\": \"schema:department\"\n",
      "        },\n",
      "        \"description\": {\n",
      "            \"@id\": \"schema:description\"\n",
      "        },\n",
      "        \"endedAtTime\": {\n",
      "            \"@id\": \"prov:endedAtTime\"\n",
      "        },\n",
      "        \"founder\": {\n",
      "            \"@id\": \"schema:founder\"\n",
      "        },\n",
      "        \"gender\": {\n",
      "            \"@id\": \"schema:gender\"\n",
      "        },\n",
      "        \"generated\": {\n",
      "            \"@id\": \"prov:generated\"\n",
      "        },\n",
      "        \"geo\": {\n",
      "            \"@id\": \"schema:geo\"\n",
      "        },\n",
      "        \"givenName\": {\n",
      "            \"@id\": \"schema:givenName\"\n",
      "        },\n",
      "        \"image\": {\n",
      "            \"@id\": \"schema:image\",\n",
      "            \"@type\": \"@id\"\n",
      "        },\n",
      "        \"latitude\": {\n",
      "            \"@id\": \"schema:latitude\"\n",
      "        },\n",
      "        \"longitude\": {\n",
      "            \"@id\": \"schema:longitude\"\n",
      "        },\n",
      "        \"name\": {\n",
      "            \"@id\": \"schema:name\"\n",
      "        },\n",
      "        \"postalCode\": {\n",
      "            \"@id\": \"schema:postalCode\"\n",
      "        },\n",
      "        \"startDate\": {\n",
      "            \"@id\": \"schema:startDate\"\n",
      "        },\n",
      "        \"startedAtTime\": {\n",
      "            \"@id\": \"prov:startedAtTime\"\n",
      "        },\n",
      "        \"status\": {\n",
      "            \"@id\": \"schema:status\"\n",
      "        },\n",
      "        \"streetAddress\": {\n",
      "            \"@id\": \"schema:streetAddress\"\n",
      "        },\n",
      "        \"type\": {\n",
      "            \"@id\": \"rdf:type\",\n",
      "            \"@type\": \"@id\"\n",
      "        },\n",
      "        \"supervisor\": {\n",
      "            \"@id\": \"schema:supervisor\",\n",
      "            \"@type\": \"@id\"\n",
      "        },\n",
      "        \"used\": {\n",
      "            \"@id\": \"prov:used\"\n",
      "        },\n",
      "        \"validated\": {\n",
      "            \"@id\": \"schema:validated\"\n",
      "        },\n",
      "        \"wasStartedBy\": {\n",
      "            \"@id\": \"prov:wasStartedBy\",\n",
      "            \"@type\": \"@id\"\n",
      "        }\n",
      "    },\n",
      "    \"@type\": \"Person\",\n",
      "    \"name\": \"Hana Lloyd\"\n",
      "}\n"
     ]
    }
   ],
   "source": [
    "pp(forge.as_jsonld(hana))"
   ]
  },
  {
   "cell_type": "code",
   "execution_count": 22,
   "metadata": {},
   "outputs": [
    {
     "name": "stdout",
     "output_type": "stream",
     "text": [
      "<action> _register_one\n",
      "<succeeded> True\n"
     ]
    }
   ],
   "source": [
    "forge.register(hana)"
   ]
  },
  {
   "cell_type": "code",
   "execution_count": 23,
   "metadata": {},
   "outputs": [
    {
     "name": "stdout",
     "output_type": "stream",
     "text": [
      "{\n",
      "    \"@id\": \"https://bbp.epfl.ch/dke/kgforge_tests/1de8189e-403a-4d74-8bcd-8eb1df515de1\",\n",
      "    \"@type\": \"http://schema.org/Person\",\n",
      "    \"http://schema.org/name\": \"Hana Lloyd\"\n",
      "}\n"
     ]
    }
   ],
   "source": [
    "pp(forge.as_jsonld(hana, form=\"expanded\"))"
   ]
  },
  {
   "cell_type": "markdown",
   "metadata": {},
   "source": [
    "### context available in the store\n",
    "\n",
    "It is possible to use a context that is only available in the Store, such as `https://bbp.neuroshapes.org`"
   ]
  },
  {
   "cell_type": "code",
   "execution_count": 24,
   "metadata": {},
   "outputs": [],
   "source": [
    "karen = Resource(context=\"https://bbp.neuroshapes.org\", type=\"Person\", name=\"Karen Jones\")"
   ]
  },
  {
   "cell_type": "code",
   "execution_count": 25,
   "metadata": {},
   "outputs": [
    {
     "name": "stdout",
     "output_type": "stream",
     "text": [
      "<action> _register_one\n",
      "<succeeded> True\n"
     ]
    }
   ],
   "source": [
    "forge.register(karen)"
   ]
  },
  {
   "cell_type": "code",
   "execution_count": 26,
   "metadata": {},
   "outputs": [
    {
     "name": "stdout",
     "output_type": "stream",
     "text": [
      "{\n",
      "    context: https://bbp.neuroshapes.org\n",
      "    id: https://bbp.epfl.ch/dke/kgforge_tests/86d929a9-f8eb-48f7-aa8b-198abcb7f48e\n",
      "    type: Person\n",
      "    name: Karen Jones\n",
      "}\n"
     ]
    }
   ],
   "source": [
    "print(karen)"
   ]
  },
  {
   "cell_type": "markdown",
   "metadata": {},
   "source": [
    "Since this context is not locally resolvable the json-ld conversion will fail."
   ]
  },
  {
   "cell_type": "code",
   "execution_count": 27,
   "metadata": {},
   "outputs": [
    {
     "name": "stdout",
     "output_type": "stream",
     "text": [
      "<action> _as_jsonld_one\n",
      "<error> ValueError: https://bbp.neuroshapes.org is not resolvable\n",
      "\n"
     ]
    }
   ],
   "source": [
    "forge.as_jsonld(karen)"
   ]
  },
  {
   "cell_type": "markdown",
   "metadata": {},
   "source": [
    "## JSON-LD to Resource"
   ]
  },
  {
   "cell_type": "code",
   "execution_count": 28,
   "metadata": {},
   "outputs": [],
   "source": [
    "paul = Resource(context=context, type=\"Person\", name=\"Paul Owens\")"
   ]
  },
  {
   "cell_type": "code",
   "execution_count": 29,
   "metadata": {},
   "outputs": [],
   "source": [
    "data = {\n",
    "    \"@context\": context,\n",
    "    \"@type\": \"Person\",\n",
    "    \"name\": \"Paul Owens\",\n",
    "}"
   ]
  },
  {
   "cell_type": "code",
   "execution_count": 30,
   "metadata": {},
   "outputs": [],
   "source": [
    "resource = forge.from_jsonld(data)"
   ]
  },
  {
   "cell_type": "code",
   "execution_count": 31,
   "metadata": {},
   "outputs": [
    {
     "data": {
      "text/plain": [
       "True"
      ]
     },
     "execution_count": 31,
     "metadata": {},
     "output_type": "execute_result"
    }
   ],
   "source": [
    "resource == paul"
   ]
  },
  {
   "cell_type": "code",
   "execution_count": null,
   "metadata": {},
   "outputs": [],
   "source": []
  }
 ],
 "metadata": {
  "kernelspec": {
   "display_name": "kgforge(v2)",
   "language": "python",
   "name": "kgforge"
  },
  "language_info": {
   "codemirror_mode": {
    "name": "ipython",
    "version": 3
   },
   "file_extension": ".py",
   "mimetype": "text/x-python",
   "name": "python",
   "nbconvert_exporter": "python",
   "pygments_lexer": "ipython3",
   "version": "3.7.5"
  }
 },
 "nbformat": 4,
 "nbformat_minor": 4
}

{
 "cells": [
  {
   "cell_type": "markdown",
   "metadata": {},
   "source": [
    "# Resources\n",
    "A Resource is an identifiable data object with a set of properties."
   ]
  },
  {
   "cell_type": "markdown",
   "metadata": {
    "ExecuteTime": {
     "end_time": "2019-09-23T18:50:19.036357Z",
     "start_time": "2019-09-23T18:50:19.031896Z"
    }
   },
   "source": [
    "## Initialisation\n",
    "\n",
    "Run the [Blue Brain Nexus project creation notebook](https://github.com/BlueBrain/nexus-forge/blob/master/examples/notebooks/nexus-demo/00%20-%20Nexus_Project_Initialisation.ipynb) to create a Blue Brain Nexus project if you don't have one."
   ]
  },
  {
   "cell_type": "code",
   "execution_count": null,
   "metadata": {},
   "outputs": [],
   "source": [
    "!pip install git+https://github.com/BlueBrain/nexus-forge"
   ]
  },
  {
   "cell_type": "code",
   "execution_count": null,
   "metadata": {},
   "outputs": [],
   "source": [
    "import getpass"
   ]
  },
  {
   "cell_type": "markdown",
   "metadata": {},
   "source": [
    "The [Nexus web application](https://sandbox.bluebrainnexus.io/v1) can be used to login and get a token.\n",
    "\n",
    "- Step 1: From the opened web page, click on the login button on the right corner and follow the instructions.\n",
    "\n",
    "![login-ui](https://raw.githubusercontent.com/BlueBrain/nexus-forge/master/examples/notebooks/use-cases/login-ui.png)\n",
    "\n",
    "- Step 2: At the end you’ll see a token button on the right corner. Click on it to copy the token.\n",
    "\n",
    "![login-ui](https://raw.githubusercontent.com/BlueBrain/nexus-forge/master/examples/notebooks/use-cases/copy-token.png)\n"
   ]
  },
  {
   "cell_type": "code",
   "execution_count": null,
   "metadata": {},
   "outputs": [],
   "source": [
    "token = getpass.getpass()"
   ]
  },
  {
   "cell_type": "code",
   "execution_count": null,
   "metadata": {},
   "outputs": [],
   "source": [
    "# Clone the repository if in Google Colab\n",
    "import os \n",
    "\n",
    "!pwd\n",
    "tutorial_base_dir = \"./nexus-forge\"\n",
    "if os.path.exists(tutorial_base_dir):\n",
    "  !rm -Rf $tutorial_base_dir\n",
    "\n",
    "!git clone --single-branch https://github.com/BlueBrain/nexus-forge.git\n",
    "\n",
    "\n",
    "os.chdir(\"/\".join([tutorial_base_dir,\"examples/notebooks/nexus-demo\"]))\n",
    "\n",
    "print(\"The working directory is now:\")\n",
    "!pwd"
   ]
  },
  {
   "cell_type": "code",
   "execution_count": null,
   "metadata": {},
   "outputs": [],
   "source": [
    "#Let get some SHACL shapes from https://github.com/INCF/neuroshapes.git\n",
    "import os \n",
    "\n",
    "neuroshapes_dir = \"./neuroshapes\"\n",
    "if os.path.exists(neuroshapes_dir):\n",
    "  !rm -Rf $neuroshapes_dir\n",
    "! git clone https://github.com/INCF/neuroshapes.git\n",
    "! cp -R \"./neuroshapes/shapes/neurosciencegraph/datashapes/core/dataset\" \"./neuroshapes/shapes/neurosciencegraph/commons/\" \n",
    "! cp -R \"./neuroshapes/shapes/neurosciencegraph/datashapes/core/activity\" \"./neuroshapes/shapes/neurosciencegraph/commons/\" \n",
    "! cp -R \"./neuroshapes/shapes/neurosciencegraph/datashapes/core/entity\" \"./neuroshapes/shapes/neurosciencegraph/commons/\" \n",
    "! cp -R \"./neuroshapes/shapes/neurosciencegraph/datashapes/core/ontology\" \"./neuroshapes/shapes/neurosciencegraph/commons/\" \n",
    "! cp -R \"./neuroshapes/shapes/neurosciencegraph/datashapes/core/person\" \"./neuroshapes/shapes/neurosciencegraph/commons/\" "
   ]
  },
  {
   "cell_type": "code",
   "execution_count": null,
   "metadata": {},
   "outputs": [],
   "source": [
    "# Set up some configurations\n",
    "\n",
    "org =\"tutorialnexus\"\n",
    "project =\"myProject\"\n",
    "bucket = org+\"/\"+project\n",
    "endpoint = \"https://sandbox.bluebrainnexus.io/v1\"\n",
    "\n",
    "\n",
    "config = {\n",
    "  \"Model\": {\n",
    "    \"name\": \"RdfModel\",\n",
    "    \"origin\": \"directory\",\n",
    "    \"source\": \"./neuroshapes/shapes/neurosciencegraph/commons/\",\n",
    "    \"context\": {\n",
    "      \"iri\": \"./neuroshapes_context.json\"\n",
    "    }\n",
    "  },\n",
    "  \"Store\": {\n",
    "    \"name\": \"BlueBrainNexus\",\n",
    "    \"endpoint\": \"https://sandbox.bluebrainnexus.io/v1\",\n",
    "    \"versioned_id_template\": \"{x.id}?rev={x._store_metadata._rev}\",\n",
    "    \"file_resource_mapping\": \"../../configurations/nexus-store/file-to-resource-mapping.hjson\"\n",
    "  },\n",
    "  \"Formatters\": {\n",
    "    \"identifier\": \"https://kg.example.ch/{}/{}\"\n",
    "  }\n",
    "}\n"
   ]
  },
  {
   "cell_type": "code",
   "execution_count": null,
   "metadata": {},
   "outputs": [],
   "source": [
    "from kgforge.core import KnowledgeGraphForge"
   ]
  },
  {
   "cell_type": "code",
   "execution_count": null,
   "metadata": {},
   "outputs": [],
   "source": [
    "# Get a KnowledgeGraphForge session\n",
    "\n",
    "forge = KnowledgeGraphForge(config, endpoint=endpoint,bucket=bucket, token=token)"
   ]
  },
  {
   "cell_type": "code",
   "execution_count": null,
   "metadata": {},
   "outputs": [],
   "source": []
  },
  {
   "cell_type": "markdown",
   "metadata": {},
   "source": [
    "## Imports"
   ]
  },
  {
   "cell_type": "code",
   "execution_count": null,
   "metadata": {
    "ExecuteTime": {
     "end_time": "2019-09-23T18:50:20.127987Z",
     "start_time": "2019-09-23T18:50:20.119390Z"
    }
   },
   "outputs": [],
   "source": [
    "from kgforge.core import Resource"
   ]
  },
  {
   "cell_type": "markdown",
   "metadata": {},
   "source": [
    "## Creation\n",
    "\n",
    "It is possible to assign arbitrary properties to create a resource, and link them to other resources via properties."
   ]
  },
  {
   "cell_type": "code",
   "execution_count": null,
   "metadata": {
    "ExecuteTime": {
     "end_time": "2019-09-23T18:50:20.143688Z",
     "start_time": "2019-09-23T18:50:20.134694Z"
    }
   },
   "outputs": [],
   "source": [
    "jane = Resource(type=\"Person\", name=\"Jane Doe\", description=\"a Desccription\")"
   ]
  },
  {
   "cell_type": "code",
   "execution_count": null,
   "metadata": {
    "ExecuteTime": {
     "end_time": "2019-09-23T18:50:20.154752Z",
     "start_time": "2019-09-23T18:50:20.146122Z"
    }
   },
   "outputs": [],
   "source": [
    "association = Resource(type=\"Association\", contributor=jane)"
   ]
  },
  {
   "cell_type": "markdown",
   "metadata": {},
   "source": [
    "## Properties"
   ]
  },
  {
   "cell_type": "markdown",
   "metadata": {},
   "source": [
    "### modification"
   ]
  },
  {
   "cell_type": "code",
   "execution_count": null,
   "metadata": {
    "ExecuteTime": {
     "end_time": "2019-09-23T18:50:20.261616Z",
     "start_time": "2019-09-23T18:50:20.255355Z"
    }
   },
   "outputs": [],
   "source": [
    "jane.email = \"jane.doe@epfl.ch\""
   ]
  },
  {
   "cell_type": "markdown",
   "metadata": {},
   "source": [
    "### access"
   ]
  },
  {
   "cell_type": "code",
   "execution_count": null,
   "metadata": {
    "ExecuteTime": {
     "end_time": "2019-09-23T18:50:20.187035Z",
     "start_time": "2019-09-23T18:50:20.165715Z"
    }
   },
   "outputs": [],
   "source": [
    "jane.email"
   ]
  },
  {
   "cell_type": "code",
   "execution_count": null,
   "metadata": {
    "ExecuteTime": {
     "end_time": "2019-09-23T18:50:20.207733Z",
     "start_time": "2019-09-23T18:50:20.199854Z"
    }
   },
   "outputs": [],
   "source": [
    "association.contributor.email"
   ]
  },
  {
   "cell_type": "markdown",
   "metadata": {},
   "source": [
    "## Display"
   ]
  },
  {
   "cell_type": "code",
   "execution_count": null,
   "metadata": {},
   "outputs": [],
   "source": [
    "print(jane)"
   ]
  },
  {
   "cell_type": "code",
   "execution_count": null,
   "metadata": {
    "ExecuteTime": {
     "end_time": "2019-09-23T18:50:20.332705Z",
     "start_time": "2019-09-23T18:50:20.325401Z"
    }
   },
   "outputs": [],
   "source": [
    "print(association)"
   ]
  }
 ],
 "metadata": {
  "kernelspec": {
   "display_name": "Python 3.6 (nexusforge_2)",
   "language": "python",
   "name": "nexusforge_2"
  },
  "language_info": {
   "codemirror_mode": {
    "name": "ipython",
    "version": 3
   },
   "file_extension": ".py",
   "mimetype": "text/x-python",
   "name": "python",
   "nbconvert_exporter": "python",
   "pygments_lexer": "ipython3",
   "version": "3.6.10"
  }
 },
 "nbformat": 4,
 "nbformat_minor": 4
}

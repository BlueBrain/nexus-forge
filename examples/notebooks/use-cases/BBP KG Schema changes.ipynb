{
 "cells": [
  {
   "cell_type": "code",
   "execution_count": 1,
   "id": "b14744df-3567-40f3-bb0c-06c6767ab695",
   "metadata": {},
   "outputs": [],
   "source": [
    "import os\n",
    "import json\n",
    "\n",
    "from kgforge.core import KnowledgeGraphForge\n",
    "from kgforge.specializations.resources import Dataset"
   ]
  },
  {
   "cell_type": "code",
   "execution_count": 2,
   "id": "72596414-c9ac-4312-a621-5bd4fdc3477b",
   "metadata": {},
   "outputs": [
    {
     "name": "stdin",
     "output_type": "stream",
     "text": [
      " ········\n"
     ]
    }
   ],
   "source": [
    "import getpass\n",
    "TOKEN = getpass.getpass()"
   ]
  },
  {
   "cell_type": "code",
   "execution_count": 3,
   "id": "c124caae-b9ae-4eb4-8d8e-bc437d28d3e6",
   "metadata": {},
   "outputs": [],
   "source": [
    "BUCKET = \"dke/kgforge\"\n",
    "\n",
    "forge = KnowledgeGraphForge(\"../use-cases/prod-forge-nexus.yml\",\n",
    "    bucket=BUCKET,\n",
    "    token=TOKEN\n",
    ")"
   ]
  },
  {
   "cell_type": "code",
   "execution_count": 4,
   "id": "29bceff6-d7b4-4fda-9cc3-fe1923c0f865",
   "metadata": {},
   "outputs": [],
   "source": [
    "def make_id(i):\n",
    "    return f\"{forge._store.endpoint}/resources/{forge._store.bucket}/_/dummy_resource_{i}\"\n",
    "\n",
    "resources = [forge.retrieve(make_id(i)) for i in range(10)]"
   ]
  },
  {
   "cell_type": "code",
   "execution_count": 5,
   "id": "72c07da6-1f6b-4251-b552-9d5f12fa40a9",
   "metadata": {},
   "outputs": [
    {
     "data": {
      "text/plain": [
       "10"
      ]
     },
     "execution_count": 5,
     "metadata": {},
     "output_type": "execute_result"
    }
   ],
   "source": [
    "len(resources)"
   ]
  },
  {
   "cell_type": "code",
   "execution_count": 6,
   "id": "f3f2512d-4a1c-4c56-8cce-ea53a991d76d",
   "metadata": {},
   "outputs": [],
   "source": [
    "def cs(res): return [e._store_metadata._constrainedBy for e in res]"
   ]
  },
  {
   "cell_type": "code",
   "execution_count": 7,
   "id": "fc675bd3-2e7c-4de1-b3dc-041215a1a0c3",
   "metadata": {},
   "outputs": [
    {
     "data": {
      "text/plain": [
       "['https://bluebrain.github.io/nexus/schemas/unconstrained.json',\n",
       " 'https://bluebrain.github.io/nexus/schemas/unconstrained.json',\n",
       " 'https://bluebrain.github.io/nexus/schemas/unconstrained.json',\n",
       " 'https://bluebrain.github.io/nexus/schemas/unconstrained.json',\n",
       " 'https://bluebrain.github.io/nexus/schemas/unconstrained.json',\n",
       " 'https://bluebrain.github.io/nexus/schemas/unconstrained.json',\n",
       " 'https://bluebrain.github.io/nexus/schemas/unconstrained.json',\n",
       " 'https://bluebrain.github.io/nexus/schemas/unconstrained.json',\n",
       " 'https://bluebrain.github.io/nexus/schemas/unconstrained.json',\n",
       " 'https://bluebrain.github.io/nexus/schemas/unconstrained.json']"
      ]
     },
     "execution_count": 7,
     "metadata": {},
     "output_type": "execute_result"
    }
   ],
   "source": [
    "cs(resources)"
   ]
  },
  {
   "cell_type": "code",
   "execution_count": 8,
   "id": "5ed305ef-16d2-42eb-8818-ec68674afceb",
   "metadata": {},
   "outputs": [
    {
     "name": "stdout",
     "output_type": "stream",
     "text": [
      "<count> 10\n",
      "<action> _update_schema_many\n",
      "<succeeded> True\n"
     ]
    }
   ],
   "source": [
    "e = forge._store.update_schema(resources, schema_id=\"https://neuroshapes.org/dash/entity\")"
   ]
  },
  {
   "cell_type": "code",
   "execution_count": 9,
   "id": "bf330be7-b5be-4ea5-9249-d2926f5481b3",
   "metadata": {},
   "outputs": [
    {
     "data": {
      "text/plain": [
       "['https://neuroshapes.org/dash/entity',\n",
       " 'https://neuroshapes.org/dash/entity',\n",
       " 'https://neuroshapes.org/dash/entity',\n",
       " 'https://neuroshapes.org/dash/entity',\n",
       " 'https://neuroshapes.org/dash/entity',\n",
       " 'https://neuroshapes.org/dash/entity',\n",
       " 'https://neuroshapes.org/dash/entity',\n",
       " 'https://neuroshapes.org/dash/entity',\n",
       " 'https://neuroshapes.org/dash/entity',\n",
       " 'https://neuroshapes.org/dash/entity']"
      ]
     },
     "execution_count": 9,
     "metadata": {},
     "output_type": "execute_result"
    }
   ],
   "source": [
    "cs(resources)"
   ]
  },
  {
   "cell_type": "code",
   "execution_count": 10,
   "id": "410896b1-2997-4cdb-9af5-fdb4a95fb7de",
   "metadata": {},
   "outputs": [
    {
     "name": "stdout",
     "output_type": "stream",
     "text": [
      "<count> 10\n",
      "<action> _update_schema_many\n",
      "<succeeded> True\n"
     ]
    }
   ],
   "source": [
    "e = forge._store.delete_schema(resources)"
   ]
  },
  {
   "cell_type": "code",
   "execution_count": 11,
   "id": "030a7cc6-e272-43b7-9401-c288684dbfb8",
   "metadata": {},
   "outputs": [
    {
     "data": {
      "text/plain": [
       "['https://bluebrain.github.io/nexus/schemas/unconstrained.json',\n",
       " 'https://bluebrain.github.io/nexus/schemas/unconstrained.json',\n",
       " 'https://bluebrain.github.io/nexus/schemas/unconstrained.json',\n",
       " 'https://bluebrain.github.io/nexus/schemas/unconstrained.json',\n",
       " 'https://bluebrain.github.io/nexus/schemas/unconstrained.json',\n",
       " 'https://bluebrain.github.io/nexus/schemas/unconstrained.json',\n",
       " 'https://bluebrain.github.io/nexus/schemas/unconstrained.json',\n",
       " 'https://bluebrain.github.io/nexus/schemas/unconstrained.json',\n",
       " 'https://bluebrain.github.io/nexus/schemas/unconstrained.json',\n",
       " 'https://bluebrain.github.io/nexus/schemas/unconstrained.json']"
      ]
     },
     "execution_count": 11,
     "metadata": {},
     "output_type": "execute_result"
    }
   ],
   "source": [
    "cs(resources)"
   ]
  }
 ],
 "metadata": {
  "kernelspec": {
   "display_name": "forge_venv",
   "language": "python",
   "name": "venv"
  },
  "language_info": {
   "codemirror_mode": {
    "name": "ipython",
    "version": 3
   },
   "file_extension": ".py",
   "mimetype": "text/x-python",
   "name": "python",
   "nbconvert_exporter": "python",
   "pygments_lexer": "ipython3",
   "version": "3.8.17"
  }
 },
 "nbformat": 4,
 "nbformat_minor": 5
}

{
 "cells": [
  {
   "cell_type": "markdown",
   "metadata": {},
   "source": [
    "# Searching and exploring Circuit Property Generators from the Blue Brain Knowledge Graph using the Knowledge Graph Forge"
   ]
  },
  {
   "cell_type": "markdown",
   "metadata": {},
   "source": [
    "## Initialize and configure"
   ]
  },
  {
   "cell_type": "markdown",
   "metadata": {},
   "source": [
    "### Get an authentication token"
   ]
  },
  {
   "cell_type": "markdown",
   "metadata": {},
   "source": [
    "For now, the [Nexus web application](https://bbp.epfl.ch/nexus/web) can be used to get a token. We are looking for other simpler alternatives.\n",
    "\n",
    "- Step 1: From the opened web page, click on the login button on the right corner and follow the instructions.\n",
    "\n",
    "![login-ui](./login-ui.png)\n",
    "\n",
    "- Step 2: At the end you’ll see a token button on the right corner. Click on it to copy the token.\n",
    "\n",
    "![login-ui](./copy-token.png)\n"
   ]
  },
  {
   "cell_type": "markdown",
   "metadata": {},
   "source": [
    "Once a token is obtained then proceed to paste it below."
   ]
  },
  {
   "cell_type": "code",
   "execution_count": 34,
   "metadata": {},
   "outputs": [],
   "source": [
    "import getpass"
   ]
  },
  {
   "cell_type": "code",
   "execution_count": null,
   "metadata": {},
   "outputs": [],
   "source": [
    "TOKEN = getpass.getpass()"
   ]
  },
  {
   "cell_type": "code",
   "execution_count": 36,
   "metadata": {},
   "outputs": [
    {
     "data": {
      "text/plain": [
       "'0.7.1'"
      ]
     },
     "execution_count": 36,
     "metadata": {},
     "output_type": "execute_result"
    }
   ],
   "source": [
    "from kgforge.version import __version__\n",
    "__version__"
   ]
  },
  {
   "cell_type": "markdown",
   "metadata": {},
   "source": [
    "### Configure a client (forge) to access the knowledge graph "
   ]
  },
  {
   "cell_type": "code",
   "execution_count": 37,
   "metadata": {},
   "outputs": [],
   "source": [
    "from kgforge.core import KnowledgeGraphForge"
   ]
  },
  {
   "cell_type": "code",
   "execution_count": 38,
   "metadata": {},
   "outputs": [],
   "source": [
    "# Let target a project in the KG\n",
    "ORG = \"neurosciencegraph\"\n",
    "PROJECT = \"datamodels\"\n",
    "endpoint=\"https://staging.nise.bbp.epfl.ch/nexus/v1\" # use https://bbp.epfl.ch/nexus/v1 for prod "
   ]
  },
  {
   "cell_type": "code",
   "execution_count": 39,
   "metadata": {},
   "outputs": [],
   "source": [
    "forge = KnowledgeGraphForge(\"prod-forge-nexus.yml\", \n",
    "                            endpoint=endpoint,\n",
    "                            bucket=f\"{ORG}/{PROJECT}\",\n",
    "                            token=TOKEN)"
   ]
  },
  {
   "cell_type": "markdown",
   "metadata": {},
   "source": [
    "## Retrieve all Model Circuit Property generator categories"
   ]
  },
  {
   "cell_type": "markdown",
   "metadata": {},
   "source": [
    "### Retrieve the parent type of all Model Circuit Property Generator categories"
   ]
  },
  {
   "cell_type": "code",
   "execution_count": 40,
   "metadata": {},
   "outputs": [],
   "source": [
    "generator_category_parent_type = \"https://bbp.epfl.ch/ontologies/core/bmo/ModelCircuitPropertyGeneratorCategory\""
   ]
  },
  {
   "cell_type": "code",
   "execution_count": 41,
   "metadata": {},
   "outputs": [
    {
     "name": "stdout",
     "output_type": "stream",
     "text": [
      "{\n",
      "    context: https://neuroshapes.org\n",
      "    id: https://bbp.epfl.ch/ontologies/core/bmo/ModelCircuitPropertyGeneratorCategory\n",
      "    type: Class\n",
      "    label: ModelCircuitPropertyGeneratorCategory\n",
      "    isDefinedBy: https://bbp.epfl.ch/ontologies/core/bmo\n",
      "    subClassOf:\n",
      "    [\n",
      "        prov:Entity\n",
      "    ]\n",
      "}\n"
     ]
    }
   ],
   "source": [
    "generator_category_parent_resource = forge.retrieve(id=generator_category_parent_type) \n",
    "print(generator_category_parent_resource)"
   ]
  },
  {
   "cell_type": "code",
   "execution_count": 42,
   "metadata": {},
   "outputs": [
    {
     "data": {
      "text/plain": [
       "{'id': 'https://bbp.epfl.ch/ontologies/core/bmo/ModelCircuitPropertyGeneratorCategory',\n",
       " 'type': 'Class',\n",
       " 'label': 'ModelCircuitPropertyGeneratorCategory',\n",
       " 'isDefinedBy': 'https://bbp.epfl.ch/ontologies/core/bmo',\n",
       " 'subClassOf': ['prov:Entity']}"
      ]
     },
     "execution_count": 42,
     "metadata": {},
     "output_type": "execute_result"
    }
   ],
   "source": [
    "forge.as_json(generator_category_parent_resource) # A Resource can be accessed as JSON"
   ]
  },
  {
   "cell_type": "markdown",
   "metadata": {},
   "source": [
    "### Retrive all generator categories"
   ]
  },
  {
   "cell_type": "code",
   "execution_count": 43,
   "metadata": {},
   "outputs": [],
   "source": [
    "query = {\"subClassOf\":{\"id\":generator_category_parent_type}}\n",
    "generator_categories = forge.search(query, limit=10, search_in_graph=False, cross_bucket=True)"
   ]
  },
  {
   "cell_type": "code",
   "execution_count": 44,
   "metadata": {},
   "outputs": [
    {
     "data": {
      "text/html": [
       "<div>\n",
       "<style scoped>\n",
       "    .dataframe tbody tr th:only-of-type {\n",
       "        vertical-align: middle;\n",
       "    }\n",
       "\n",
       "    .dataframe tbody tr th {\n",
       "        vertical-align: top;\n",
       "    }\n",
       "\n",
       "    .dataframe thead th {\n",
       "        text-align: right;\n",
       "    }\n",
       "</style>\n",
       "<table border=\"1\" class=\"dataframe\">\n",
       "  <thead>\n",
       "    <tr style=\"text-align: right;\">\n",
       "      <th></th>\n",
       "      <th>id</th>\n",
       "      <th>type</th>\n",
       "      <th>label</th>\n",
       "      <th>isDefinedBy</th>\n",
       "      <th>subClassOf</th>\n",
       "    </tr>\n",
       "  </thead>\n",
       "  <tbody>\n",
       "    <tr>\n",
       "      <th>0</th>\n",
       "      <td>https://bbp.epfl.ch/ontologies/core/bmo/EModel...</td>\n",
       "      <td>Class</td>\n",
       "      <td>EModelInstanceCategory</td>\n",
       "      <td>https://bbp.epfl.ch/ontologies/core/bmo</td>\n",
       "      <td>[bmo:ModelCircuitPropertyGeneratorCategory]</td>\n",
       "    </tr>\n",
       "    <tr>\n",
       "      <th>1</th>\n",
       "      <td>https://bbp.epfl.ch/ontologies/core/bmo/LocalC...</td>\n",
       "      <td>Class</td>\n",
       "      <td>LocalConnectomeCategory</td>\n",
       "      <td>https://bbp.epfl.ch/ontologies/core/bmo</td>\n",
       "      <td>[bmo:ModelCircuitPropertyGeneratorCategory]</td>\n",
       "    </tr>\n",
       "    <tr>\n",
       "      <th>2</th>\n",
       "      <td>https://bbp.epfl.ch/ontologies/core/bmo/Neuron...</td>\n",
       "      <td>Class</td>\n",
       "      <td>NeuronSynthesisCategory</td>\n",
       "      <td>https://bbp.epfl.ch/ontologies/core/bmo</td>\n",
       "      <td>[bmo:ModelCircuitPropertyGeneratorCategory]</td>\n",
       "    </tr>\n",
       "    <tr>\n",
       "      <th>3</th>\n",
       "      <td>https://bbp.epfl.ch/ontologies/core/bmo/Projec...</td>\n",
       "      <td>Class</td>\n",
       "      <td>ProjectomeCategory</td>\n",
       "      <td>https://bbp.epfl.ch/ontologies/core/bmo</td>\n",
       "      <td>[bmo:ModelCircuitPropertyGeneratorCategory]</td>\n",
       "    </tr>\n",
       "    <tr>\n",
       "      <th>4</th>\n",
       "      <td>https://bbp.epfl.ch/ontologies/core/bmo/Synaps...</td>\n",
       "      <td>Class</td>\n",
       "      <td>SynapseModelCategory</td>\n",
       "      <td>https://bbp.epfl.ch/ontologies/core/bmo</td>\n",
       "      <td>[bmo:ModelCircuitPropertyGeneratorCategory]</td>\n",
       "    </tr>\n",
       "  </tbody>\n",
       "</table>\n",
       "</div>"
      ],
      "text/plain": [
       "                                                  id   type  \\\n",
       "0  https://bbp.epfl.ch/ontologies/core/bmo/EModel...  Class   \n",
       "1  https://bbp.epfl.ch/ontologies/core/bmo/LocalC...  Class   \n",
       "2  https://bbp.epfl.ch/ontologies/core/bmo/Neuron...  Class   \n",
       "3  https://bbp.epfl.ch/ontologies/core/bmo/Projec...  Class   \n",
       "4  https://bbp.epfl.ch/ontologies/core/bmo/Synaps...  Class   \n",
       "\n",
       "                     label                              isDefinedBy  \\\n",
       "0   EModelInstanceCategory  https://bbp.epfl.ch/ontologies/core/bmo   \n",
       "1  LocalConnectomeCategory  https://bbp.epfl.ch/ontologies/core/bmo   \n",
       "2  NeuronSynthesisCategory  https://bbp.epfl.ch/ontologies/core/bmo   \n",
       "3       ProjectomeCategory  https://bbp.epfl.ch/ontologies/core/bmo   \n",
       "4     SynapseModelCategory  https://bbp.epfl.ch/ontologies/core/bmo   \n",
       "\n",
       "                                    subClassOf  \n",
       "0  [bmo:ModelCircuitPropertyGeneratorCategory]  \n",
       "1  [bmo:ModelCircuitPropertyGeneratorCategory]  \n",
       "2  [bmo:ModelCircuitPropertyGeneratorCategory]  \n",
       "3  [bmo:ModelCircuitPropertyGeneratorCategory]  \n",
       "4  [bmo:ModelCircuitPropertyGeneratorCategory]  "
      ]
     },
     "execution_count": 44,
     "metadata": {},
     "output_type": "execute_result"
    }
   ],
   "source": [
    "df = forge.as_dataframe(generator_categories)\n",
    "df"
   ]
  },
  {
   "cell_type": "code",
   "execution_count": 45,
   "metadata": {},
   "outputs": [
    {
     "data": {
      "text/plain": [
       "['https://bbp.epfl.ch/ontologies/core/bmo/EModelInstanceCategory',\n",
       " 'https://bbp.epfl.ch/ontologies/core/bmo/LocalConnectomeCategory',\n",
       " 'https://bbp.epfl.ch/ontologies/core/bmo/NeuronSynthesisCategory',\n",
       " 'https://bbp.epfl.ch/ontologies/core/bmo/ProjectomeCategory',\n",
       " 'https://bbp.epfl.ch/ontologies/core/bmo/SynapseModelCategory']"
      ]
     },
     "execution_count": 45,
     "metadata": {},
     "output_type": "execute_result"
    }
   ],
   "source": [
    "list(df.id)"
   ]
  },
  {
   "cell_type": "markdown",
   "metadata": {},
   "source": [
    "## Retrieve all Model Circuit Properties"
   ]
  },
  {
   "cell_type": "markdown",
   "metadata": {},
   "source": [
    "### Retrieve the parent type of all Model Circuit Properties"
   ]
  },
  {
   "cell_type": "code",
   "execution_count": 46,
   "metadata": {},
   "outputs": [],
   "source": [
    "model_circuit_property_parent_type = \"https://bbp.epfl.ch/ontologies/core/bmo/ModelCircuitProperty\""
   ]
  },
  {
   "cell_type": "code",
   "execution_count": 47,
   "metadata": {},
   "outputs": [
    {
     "name": "stdout",
     "output_type": "stream",
     "text": [
      "{\n",
      "    context: https://neuroshapes.org\n",
      "    id: https://bbp.epfl.ch/ontologies/core/bmo/ModelCircuitProperty\n",
      "    type: Class\n",
      "    label: ModelCircuitProperty\n",
      "    isDefinedBy: https://bbp.epfl.ch/ontologies/core/bmo\n",
      "    subClassOf:\n",
      "    [\n",
      "        prov:Entity\n",
      "    ]\n",
      "}\n"
     ]
    }
   ],
   "source": [
    "model_circuit_property_parent_resource = forge.retrieve(id=model_circuit_property_parent_type) \n",
    "print(model_circuit_property_parent_resource)"
   ]
  },
  {
   "cell_type": "code",
   "execution_count": 48,
   "metadata": {},
   "outputs": [
    {
     "data": {
      "text/plain": [
       "{'id': 'https://bbp.epfl.ch/ontologies/core/bmo/ModelCircuitProperty',\n",
       " 'type': 'Class',\n",
       " 'label': 'ModelCircuitProperty',\n",
       " 'isDefinedBy': 'https://bbp.epfl.ch/ontologies/core/bmo',\n",
       " 'subClassOf': ['prov:Entity']}"
      ]
     },
     "execution_count": 48,
     "metadata": {},
     "output_type": "execute_result"
    }
   ],
   "source": [
    "forge.as_json(model_circuit_property_parent_resource) # A Resource can be accessed as JSON"
   ]
  },
  {
   "cell_type": "markdown",
   "metadata": {},
   "source": [
    "### Retrieve all Model Circuit Properties"
   ]
  },
  {
   "cell_type": "code",
   "execution_count": 49,
   "metadata": {},
   "outputs": [],
   "source": [
    "query = {\"subClassOf\":{\"id\":model_circuit_property_parent_type}}\n",
    "model_circuit_properties = forge.search(query, limit=10, search_in_graph=False, cross_bucket=True)"
   ]
  },
  {
   "cell_type": "code",
   "execution_count": 50,
   "metadata": {},
   "outputs": [
    {
     "data": {
      "text/html": [
       "<div>\n",
       "<style scoped>\n",
       "    .dataframe tbody tr th:only-of-type {\n",
       "        vertical-align: middle;\n",
       "    }\n",
       "\n",
       "    .dataframe tbody tr th {\n",
       "        vertical-align: top;\n",
       "    }\n",
       "\n",
       "    .dataframe thead th {\n",
       "        text-align: right;\n",
       "    }\n",
       "</style>\n",
       "<table border=\"1\" class=\"dataframe\">\n",
       "  <thead>\n",
       "    <tr style=\"text-align: right;\">\n",
       "      <th></th>\n",
       "      <th>id</th>\n",
       "      <th>type</th>\n",
       "      <th>label</th>\n",
       "      <th>isDefinedBy</th>\n",
       "      <th>subClassOf</th>\n",
       "      <th>skos:altLabel</th>\n",
       "      <th>skos:prefLabel</th>\n",
       "      <th>altLabel</th>\n",
       "      <th>prefLabel</th>\n",
       "    </tr>\n",
       "  </thead>\n",
       "  <tbody>\n",
       "    <tr>\n",
       "      <th>0</th>\n",
       "      <td>https://bbp.epfl.ch/ontologies/core/bmo/CellPo...</td>\n",
       "      <td>Class</td>\n",
       "      <td>CellPositionCircuitProperty</td>\n",
       "      <td>https://bbp.epfl.ch/ontologies/core/bmo</td>\n",
       "      <td>[bmo:ModelCircuitProperty]</td>\n",
       "      <td>NaN</td>\n",
       "      <td>NaN</td>\n",
       "      <td>NaN</td>\n",
       "      <td>NaN</td>\n",
       "    </tr>\n",
       "    <tr>\n",
       "      <th>1</th>\n",
       "      <td>https://bbp.epfl.ch/ontologies/core/bmo/EModel...</td>\n",
       "      <td>Class</td>\n",
       "      <td>EModelInstanceCircuitProperty</td>\n",
       "      <td>https://bbp.epfl.ch/ontologies/core/bmo</td>\n",
       "      <td>[bmo:ModelCircuitProperty]</td>\n",
       "      <td>NaN</td>\n",
       "      <td>NaN</td>\n",
       "      <td>NaN</td>\n",
       "      <td>NaN</td>\n",
       "    </tr>\n",
       "    <tr>\n",
       "      <th>2</th>\n",
       "      <td>https://bbp.epfl.ch/ontologies/core/bmo/EtypeC...</td>\n",
       "      <td>Class</td>\n",
       "      <td>EtypeCircuitProperty</td>\n",
       "      <td>https://bbp.epfl.ch/ontologies/core/bmo</td>\n",
       "      <td>[bmo:ModelCircuitProperty]</td>\n",
       "      <td>NaN</td>\n",
       "      <td>NaN</td>\n",
       "      <td>NaN</td>\n",
       "      <td>NaN</td>\n",
       "    </tr>\n",
       "    <tr>\n",
       "      <th>3</th>\n",
       "      <td>https://bbp.epfl.ch/ontologies/core/bmo/MtypeC...</td>\n",
       "      <td>Class</td>\n",
       "      <td>MtypeCircuitProperty</td>\n",
       "      <td>https://bbp.epfl.ch/ontologies/core/bmo</td>\n",
       "      <td>[bmo:ModelCircuitProperty]</td>\n",
       "      <td>NaN</td>\n",
       "      <td>NaN</td>\n",
       "      <td>NaN</td>\n",
       "      <td>NaN</td>\n",
       "    </tr>\n",
       "    <tr>\n",
       "      <th>4</th>\n",
       "      <td>https://bbp.epfl.ch/ontologies/core/bmo/Neuron...</td>\n",
       "      <td>Class</td>\n",
       "      <td>NeuronMorphologyCircuitProperty</td>\n",
       "      <td>https://bbp.epfl.ch/ontologies/core/bmo</td>\n",
       "      <td>[bmo:ModelCircuitProperty]</td>\n",
       "      <td>NaN</td>\n",
       "      <td>NaN</td>\n",
       "      <td>NaN</td>\n",
       "      <td>NaN</td>\n",
       "    </tr>\n",
       "    <tr>\n",
       "      <th>5</th>\n",
       "      <td>https://bbp.epfl.ch/ontologies/core/bmo/ETypeC...</td>\n",
       "      <td>Class</td>\n",
       "      <td>ETypeCircuitProperty</td>\n",
       "      <td>https://bbp.epfl.ch/ontologies/core/bmo</td>\n",
       "      <td>[bmo:ModelCircuitProperty]</td>\n",
       "      <td>NaN</td>\n",
       "      <td>NaN</td>\n",
       "      <td>NaN</td>\n",
       "      <td>NaN</td>\n",
       "    </tr>\n",
       "    <tr>\n",
       "      <th>6</th>\n",
       "      <td>https://bbp.epfl.ch/ontologies/core/bmo/MTypeC...</td>\n",
       "      <td>Class</td>\n",
       "      <td>MTypeCircuitProperty</td>\n",
       "      <td>https://bbp.epfl.ch/ontologies/core/bmo</td>\n",
       "      <td>[bmo:ModelCircuitProperty]</td>\n",
       "      <td>NaN</td>\n",
       "      <td>NaN</td>\n",
       "      <td>NaN</td>\n",
       "      <td>NaN</td>\n",
       "    </tr>\n",
       "    <tr>\n",
       "      <th>7</th>\n",
       "      <td>https://bbp.epfl.ch/ontologies/core/bmo/Dynami...</td>\n",
       "      <td>Class</td>\n",
       "      <td>DynamicParametersCircuitProperty</td>\n",
       "      <td>https://bbp.epfl.ch/ontologies/core/bmo</td>\n",
       "      <td>[bmo:ModelCircuitProperty]</td>\n",
       "      <td>NaN</td>\n",
       "      <td>NaN</td>\n",
       "      <td>NaN</td>\n",
       "      <td>NaN</td>\n",
       "    </tr>\n",
       "    <tr>\n",
       "      <th>8</th>\n",
       "      <td>https://bbp.epfl.ch/ontologies/core/bmo/METype...</td>\n",
       "      <td>Class</td>\n",
       "      <td>METype circuit property</td>\n",
       "      <td>https://bbp.epfl.ch/ontologies/core/bmo</td>\n",
       "      <td>[bmo:ModelCircuitProperty]</td>\n",
       "      <td>me-type circuit property</td>\n",
       "      <td>METype circuit property</td>\n",
       "      <td>NaN</td>\n",
       "      <td>NaN</td>\n",
       "    </tr>\n",
       "    <tr>\n",
       "      <th>9</th>\n",
       "      <td>https://bbp.epfl.ch/ontologies/core/bmo/Neuron...</td>\n",
       "      <td>Class</td>\n",
       "      <td>NeuronIdCircuitProperty</td>\n",
       "      <td>https://bbp.epfl.ch/ontologies/core/bmo</td>\n",
       "      <td>[bmo:ModelCircuitProperty]</td>\n",
       "      <td>NaN</td>\n",
       "      <td>NaN</td>\n",
       "      <td>Neuron ids</td>\n",
       "      <td>Neuron id circuit property</td>\n",
       "    </tr>\n",
       "  </tbody>\n",
       "</table>\n",
       "</div>"
      ],
      "text/plain": [
       "                                                  id   type  \\\n",
       "0  https://bbp.epfl.ch/ontologies/core/bmo/CellPo...  Class   \n",
       "1  https://bbp.epfl.ch/ontologies/core/bmo/EModel...  Class   \n",
       "2  https://bbp.epfl.ch/ontologies/core/bmo/EtypeC...  Class   \n",
       "3  https://bbp.epfl.ch/ontologies/core/bmo/MtypeC...  Class   \n",
       "4  https://bbp.epfl.ch/ontologies/core/bmo/Neuron...  Class   \n",
       "5  https://bbp.epfl.ch/ontologies/core/bmo/ETypeC...  Class   \n",
       "6  https://bbp.epfl.ch/ontologies/core/bmo/MTypeC...  Class   \n",
       "7  https://bbp.epfl.ch/ontologies/core/bmo/Dynami...  Class   \n",
       "8  https://bbp.epfl.ch/ontologies/core/bmo/METype...  Class   \n",
       "9  https://bbp.epfl.ch/ontologies/core/bmo/Neuron...  Class   \n",
       "\n",
       "                              label                              isDefinedBy  \\\n",
       "0       CellPositionCircuitProperty  https://bbp.epfl.ch/ontologies/core/bmo   \n",
       "1     EModelInstanceCircuitProperty  https://bbp.epfl.ch/ontologies/core/bmo   \n",
       "2              EtypeCircuitProperty  https://bbp.epfl.ch/ontologies/core/bmo   \n",
       "3              MtypeCircuitProperty  https://bbp.epfl.ch/ontologies/core/bmo   \n",
       "4   NeuronMorphologyCircuitProperty  https://bbp.epfl.ch/ontologies/core/bmo   \n",
       "5              ETypeCircuitProperty  https://bbp.epfl.ch/ontologies/core/bmo   \n",
       "6              MTypeCircuitProperty  https://bbp.epfl.ch/ontologies/core/bmo   \n",
       "7  DynamicParametersCircuitProperty  https://bbp.epfl.ch/ontologies/core/bmo   \n",
       "8           METype circuit property  https://bbp.epfl.ch/ontologies/core/bmo   \n",
       "9           NeuronIdCircuitProperty  https://bbp.epfl.ch/ontologies/core/bmo   \n",
       "\n",
       "                   subClassOf             skos:altLabel  \\\n",
       "0  [bmo:ModelCircuitProperty]                       NaN   \n",
       "1  [bmo:ModelCircuitProperty]                       NaN   \n",
       "2  [bmo:ModelCircuitProperty]                       NaN   \n",
       "3  [bmo:ModelCircuitProperty]                       NaN   \n",
       "4  [bmo:ModelCircuitProperty]                       NaN   \n",
       "5  [bmo:ModelCircuitProperty]                       NaN   \n",
       "6  [bmo:ModelCircuitProperty]                       NaN   \n",
       "7  [bmo:ModelCircuitProperty]                       NaN   \n",
       "8  [bmo:ModelCircuitProperty]  me-type circuit property   \n",
       "9  [bmo:ModelCircuitProperty]                       NaN   \n",
       "\n",
       "            skos:prefLabel    altLabel                   prefLabel  \n",
       "0                      NaN         NaN                         NaN  \n",
       "1                      NaN         NaN                         NaN  \n",
       "2                      NaN         NaN                         NaN  \n",
       "3                      NaN         NaN                         NaN  \n",
       "4                      NaN         NaN                         NaN  \n",
       "5                      NaN         NaN                         NaN  \n",
       "6                      NaN         NaN                         NaN  \n",
       "7                      NaN         NaN                         NaN  \n",
       "8  METype circuit property         NaN                         NaN  \n",
       "9                      NaN  Neuron ids  Neuron id circuit property  "
      ]
     },
     "execution_count": 50,
     "metadata": {},
     "output_type": "execute_result"
    }
   ],
   "source": [
    "df = forge.as_dataframe(model_circuit_properties)\n",
    "df"
   ]
  },
  {
   "cell_type": "code",
   "execution_count": 51,
   "metadata": {},
   "outputs": [
    {
     "data": {
      "text/plain": [
       "['https://bbp.epfl.ch/ontologies/core/bmo/CellPositionCircuitProperty',\n",
       " 'https://bbp.epfl.ch/ontologies/core/bmo/EModelInstanceCircuitProperty',\n",
       " 'https://bbp.epfl.ch/ontologies/core/bmo/EtypeCircuitProperty',\n",
       " 'https://bbp.epfl.ch/ontologies/core/bmo/MtypeCircuitProperty',\n",
       " 'https://bbp.epfl.ch/ontologies/core/bmo/NeuronMorphologyCircuitProperty',\n",
       " 'https://bbp.epfl.ch/ontologies/core/bmo/ETypeCircuitProperty',\n",
       " 'https://bbp.epfl.ch/ontologies/core/bmo/MTypeCircuitProperty',\n",
       " 'https://bbp.epfl.ch/ontologies/core/bmo/DynamicParametersCircuitProperty',\n",
       " 'https://bbp.epfl.ch/ontologies/core/bmo/METypeCircuitProperty',\n",
       " 'https://bbp.epfl.ch/ontologies/core/bmo/NeuronIdCircuitProperty']"
      ]
     },
     "execution_count": 51,
     "metadata": {},
     "output_type": "execute_result"
    }
   ],
   "source": [
    "list(df.id)"
   ]
  },
  {
   "cell_type": "markdown",
   "metadata": {},
   "source": [
    "### Retrieve a specific Model Circuit Property"
   ]
  },
  {
   "cell_type": "code",
   "execution_count": 52,
   "metadata": {},
   "outputs": [
    {
     "name": "stdout",
     "output_type": "stream",
     "text": [
      "{\n",
      "    context: https://neuroshapes.org\n",
      "    id: https://bbp.epfl.ch/ontologies/core/bmo/MtypeCircuitProperty\n",
      "    type: Class\n",
      "    label: MtypeCircuitProperty\n",
      "    isDefinedBy: https://bbp.epfl.ch/ontologies/core/bmo\n",
      "    subClassOf:\n",
      "    [\n",
      "        bmo:ModelCircuitProperty\n",
      "    ]\n",
      "}\n"
     ]
    }
   ],
   "source": [
    "model_circuit_property = \"https://bbp.epfl.ch/ontologies/core/bmo/MtypeCircuitProperty\"\n",
    "model_circuit_property_resource = forge.retrieve(id=model_circuit_property)\n",
    "print(model_circuit_property_resource)"
   ]
  },
  {
   "cell_type": "code",
   "execution_count": null,
   "metadata": {},
   "outputs": [],
   "source": []
  },
  {
   "cell_type": "markdown",
   "metadata": {},
   "source": [
    "## Retrieve all Model Circuit Property Generators"
   ]
  },
  {
   "cell_type": "markdown",
   "metadata": {},
   "source": [
    "### Retrieve the parent type of all Model Circuit Property Generators"
   ]
  },
  {
   "cell_type": "code",
   "execution_count": 53,
   "metadata": {},
   "outputs": [],
   "source": [
    "generator_parent_type = \"https://bbp.epfl.ch/ontologies/core/bmo/ModelCircuitPropertyGenerator\"#\"Workflow\""
   ]
  },
  {
   "cell_type": "code",
   "execution_count": 54,
   "metadata": {},
   "outputs": [
    {
     "name": "stdout",
     "output_type": "stream",
     "text": [
      "{\n",
      "    context: https://neuroshapes.org\n",
      "    id: https://bbp.epfl.ch/ontologies/core/bmo/ModelCircuitPropertyGenerator\n",
      "    type: Class\n",
      "    label: ModelCircuitPropertyGenerator\n",
      "    generates:\n",
      "    {\n",
      "        id: https://bbp.epfl.ch/ontologies/core/bmo/ModelCircuit\n",
      "    }\n",
      "    isDefinedBy: https://bbp.epfl.ch/ontologies/core/bmo\n",
      "    subClassOf:\n",
      "    [\n",
      "        bmo:ModelBuildingWorkflow\n",
      "    ]\n",
      "    uses:\n",
      "    {\n",
      "        id: http://www.w3.org/ns/prov#Entity\n",
      "    }\n",
      "    usesCircuitWithProperty:\n",
      "    {\n",
      "        id: https://bbp.epfl.ch/ontologies/core/bmo/ModelCircuitProperty\n",
      "    }\n",
      "}\n"
     ]
    }
   ],
   "source": [
    "# Yield a Resource => https://nexus-forge.readthedocs.io/en/latest/interaction.html#resource\n",
    "generator_parent_resource = forge.retrieve(id=generator_parent_type) \n",
    "print(generator_parent_resource)"
   ]
  },
  {
   "cell_type": "code",
   "execution_count": 59,
   "metadata": {},
   "outputs": [
    {
     "data": {
      "text/plain": [
       "{'id': 'https://bbp.epfl.ch/ontologies/core/bmo/ModelCircuitPropertyGenerator',\n",
       " 'type': 'Class',\n",
       " 'label': 'ModelCircuitPropertyGenerator',\n",
       " 'generates': {'id': 'https://bbp.epfl.ch/ontologies/core/bmo/ModelCircuit'},\n",
       " 'isDefinedBy': 'https://bbp.epfl.ch/ontologies/core/bmo',\n",
       " 'subClassOf': ['bmo:ModelBuildingWorkflow'],\n",
       " 'uses': {'id': 'http://www.w3.org/ns/prov#Entity'},\n",
       " 'usesCircuitWithProperty': {'id': 'https://bbp.epfl.ch/ontologies/core/bmo/ModelCircuitProperty'}}"
      ]
     },
     "execution_count": 59,
     "metadata": {},
     "output_type": "execute_result"
    }
   ],
   "source": [
    "forge.as_json(generator_parent_resource) # A Resource can be accessed as JSON"
   ]
  },
  {
   "cell_type": "markdown",
   "metadata": {},
   "source": [
    "### Retrieve all Model Circuit Property Generators"
   ]
  },
  {
   "cell_type": "code",
   "execution_count": 60,
   "metadata": {},
   "outputs": [],
   "source": [
    "query = {\"subClassOf\":{\"id\":generator_parent_type}} # Remove the '*' for direct subclasses.\n",
    "generators = forge.search(query, limit=10, search_in_graph=False, cross_bucket=True)"
   ]
  },
  {
   "cell_type": "code",
   "execution_count": 61,
   "metadata": {},
   "outputs": [
    {
     "data": {
      "text/html": [
       "<div>\n",
       "<style scoped>\n",
       "    .dataframe tbody tr th:only-of-type {\n",
       "        vertical-align: middle;\n",
       "    }\n",
       "\n",
       "    .dataframe tbody tr th {\n",
       "        vertical-align: top;\n",
       "    }\n",
       "\n",
       "    .dataframe thead th {\n",
       "        text-align: right;\n",
       "    }\n",
       "</style>\n",
       "<table border=\"1\" class=\"dataframe\">\n",
       "  <thead>\n",
       "    <tr style=\"text-align: right;\">\n",
       "      <th></th>\n",
       "      <th>id</th>\n",
       "      <th>type</th>\n",
       "      <th>label</th>\n",
       "      <th>generates.id</th>\n",
       "      <th>generatesCircuitWithProperty.id</th>\n",
       "      <th>isDefinedBy</th>\n",
       "      <th>isPartOf</th>\n",
       "      <th>nsg:about.id</th>\n",
       "      <th>subClassOf</th>\n",
       "      <th>uses.id</th>\n",
       "      <th>usesCircuitWithProperty</th>\n",
       "      <th>generatesCircuitWithProperty</th>\n",
       "      <th>skos:prefLabel</th>\n",
       "      <th>altLabel</th>\n",
       "      <th>prefLabel</th>\n",
       "    </tr>\n",
       "  </thead>\n",
       "  <tbody>\n",
       "    <tr>\n",
       "      <th>0</th>\n",
       "      <td>https://bbp.epfl.ch/ontologies/core/bmo/EModel...</td>\n",
       "      <td>Class</td>\n",
       "      <td>EModelnstanceGenerator</td>\n",
       "      <td>https://bbp.epfl.ch/ontologies/core/bmo/EModel...</td>\n",
       "      <td>https://bbp.epfl.ch/ontologies/core/bmo/EModel...</td>\n",
       "      <td>https://bbp.epfl.ch/ontologies/core/bmo</td>\n",
       "      <td>bmo:ModelCircuitBuildingWorkflow</td>\n",
       "      <td>https://bbp.epfl.ch/ontologies/core/bmo/EModel...</td>\n",
       "      <td>[bmo:ModelCircuitPropertyGenerator]</td>\n",
       "      <td>https://bbp.epfl.ch/ontologies/core/bmo/ModelC...</td>\n",
       "      <td>[{'id': 'https://bbp.epfl.ch/ontologies/core/b...</td>\n",
       "      <td>NaN</td>\n",
       "      <td>NaN</td>\n",
       "      <td>NaN</td>\n",
       "      <td>NaN</td>\n",
       "    </tr>\n",
       "    <tr>\n",
       "      <th>1</th>\n",
       "      <td>https://bbp.epfl.ch/ontologies/core/bmo/Morpho...</td>\n",
       "      <td>Class</td>\n",
       "      <td>Neuron Morphology in space generator</td>\n",
       "      <td>https://bbp.epfl.ch/ontologies/core/bmo/Synthe...</td>\n",
       "      <td>NaN</td>\n",
       "      <td>https://bbp.epfl.ch/ontologies/core/bmo</td>\n",
       "      <td>bmo:ModelCircuitBuildingWorkflow</td>\n",
       "      <td>https://bbp.epfl.ch/ontologies/core/bmo/Neuron...</td>\n",
       "      <td>[bmo:ModelCircuitPropertyGenerator]</td>\n",
       "      <td>https://bbp.epfl.ch/ontologies/core/bmo/ModelC...</td>\n",
       "      <td>NaN</td>\n",
       "      <td>[{'id': 'https://bbp.epfl.ch/ontologies/core/b...</td>\n",
       "      <td>Neuron Morphology in space generator</td>\n",
       "      <td>NaN</td>\n",
       "      <td>NaN</td>\n",
       "    </tr>\n",
       "    <tr>\n",
       "      <th>2</th>\n",
       "      <td>https://bbp.epfl.ch/ontologies/core/bmo/METype...</td>\n",
       "      <td>Class</td>\n",
       "      <td>METype property generator</td>\n",
       "      <td>NaN</td>\n",
       "      <td>NaN</td>\n",
       "      <td>https://bbp.epfl.ch/ontologies/core/bmo</td>\n",
       "      <td>NaN</td>\n",
       "      <td>https://bbp.epfl.ch/ontologies/core/bmo/Neuron...</td>\n",
       "      <td>[bmo:ModelCircuitPropertyGenerator]</td>\n",
       "      <td>https://bbp.epfl.ch/ontologies/core/bmo/ModelC...</td>\n",
       "      <td>NaN</td>\n",
       "      <td>NaN</td>\n",
       "      <td>NaN</td>\n",
       "      <td>me-type property generator</td>\n",
       "      <td>METype property generator</td>\n",
       "    </tr>\n",
       "    <tr>\n",
       "      <th>3</th>\n",
       "      <td>https://bbp.epfl.ch/ontologies/core/bmo/Neuron...</td>\n",
       "      <td>Class</td>\n",
       "      <td>Neuron model in space generator</td>\n",
       "      <td>https://neuroshapes.org/NeuronMorphology</td>\n",
       "      <td>NaN</td>\n",
       "      <td>https://bbp.epfl.ch/ontologies/core/bmo</td>\n",
       "      <td>NaN</td>\n",
       "      <td>https://bbp.epfl.ch/ontologies/core/bmo/Neuron...</td>\n",
       "      <td>[bmo:ModelCircuitPropertyGenerator]</td>\n",
       "      <td>https://bbp.epfl.ch/ontologies/core/bmo/ModelC...</td>\n",
       "      <td>NaN</td>\n",
       "      <td>[{'id': 'https://bbp.epfl.ch/ontologies/core/b...</td>\n",
       "      <td>NaN</td>\n",
       "      <td>NaN</td>\n",
       "      <td>Neuron model in space generator</td>\n",
       "    </tr>\n",
       "  </tbody>\n",
       "</table>\n",
       "</div>"
      ],
      "text/plain": [
       "                                                  id   type  \\\n",
       "0  https://bbp.epfl.ch/ontologies/core/bmo/EModel...  Class   \n",
       "1  https://bbp.epfl.ch/ontologies/core/bmo/Morpho...  Class   \n",
       "2  https://bbp.epfl.ch/ontologies/core/bmo/METype...  Class   \n",
       "3  https://bbp.epfl.ch/ontologies/core/bmo/Neuron...  Class   \n",
       "\n",
       "                                  label  \\\n",
       "0                EModelnstanceGenerator   \n",
       "1  Neuron Morphology in space generator   \n",
       "2             METype property generator   \n",
       "3       Neuron model in space generator   \n",
       "\n",
       "                                        generates.id  \\\n",
       "0  https://bbp.epfl.ch/ontologies/core/bmo/EModel...   \n",
       "1  https://bbp.epfl.ch/ontologies/core/bmo/Synthe...   \n",
       "2                                                NaN   \n",
       "3           https://neuroshapes.org/NeuronMorphology   \n",
       "\n",
       "                     generatesCircuitWithProperty.id  \\\n",
       "0  https://bbp.epfl.ch/ontologies/core/bmo/EModel...   \n",
       "1                                                NaN   \n",
       "2                                                NaN   \n",
       "3                                                NaN   \n",
       "\n",
       "                               isDefinedBy                          isPartOf  \\\n",
       "0  https://bbp.epfl.ch/ontologies/core/bmo  bmo:ModelCircuitBuildingWorkflow   \n",
       "1  https://bbp.epfl.ch/ontologies/core/bmo  bmo:ModelCircuitBuildingWorkflow   \n",
       "2  https://bbp.epfl.ch/ontologies/core/bmo                               NaN   \n",
       "3  https://bbp.epfl.ch/ontologies/core/bmo                               NaN   \n",
       "\n",
       "                                        nsg:about.id  \\\n",
       "0  https://bbp.epfl.ch/ontologies/core/bmo/EModel...   \n",
       "1  https://bbp.epfl.ch/ontologies/core/bmo/Neuron...   \n",
       "2  https://bbp.epfl.ch/ontologies/core/bmo/Neuron...   \n",
       "3  https://bbp.epfl.ch/ontologies/core/bmo/Neuron...   \n",
       "\n",
       "                            subClassOf  \\\n",
       "0  [bmo:ModelCircuitPropertyGenerator]   \n",
       "1  [bmo:ModelCircuitPropertyGenerator]   \n",
       "2  [bmo:ModelCircuitPropertyGenerator]   \n",
       "3  [bmo:ModelCircuitPropertyGenerator]   \n",
       "\n",
       "                                             uses.id  \\\n",
       "0  https://bbp.epfl.ch/ontologies/core/bmo/ModelC...   \n",
       "1  https://bbp.epfl.ch/ontologies/core/bmo/ModelC...   \n",
       "2  https://bbp.epfl.ch/ontologies/core/bmo/ModelC...   \n",
       "3  https://bbp.epfl.ch/ontologies/core/bmo/ModelC...   \n",
       "\n",
       "                             usesCircuitWithProperty  \\\n",
       "0  [{'id': 'https://bbp.epfl.ch/ontologies/core/b...   \n",
       "1                                                NaN   \n",
       "2                                                NaN   \n",
       "3                                                NaN   \n",
       "\n",
       "                        generatesCircuitWithProperty  \\\n",
       "0                                                NaN   \n",
       "1  [{'id': 'https://bbp.epfl.ch/ontologies/core/b...   \n",
       "2                                                NaN   \n",
       "3  [{'id': 'https://bbp.epfl.ch/ontologies/core/b...   \n",
       "\n",
       "                         skos:prefLabel                    altLabel  \\\n",
       "0                                   NaN                         NaN   \n",
       "1  Neuron Morphology in space generator                         NaN   \n",
       "2                                   NaN  me-type property generator   \n",
       "3                                   NaN                         NaN   \n",
       "\n",
       "                         prefLabel  \n",
       "0                              NaN  \n",
       "1                              NaN  \n",
       "2        METype property generator  \n",
       "3  Neuron model in space generator  "
      ]
     },
     "execution_count": 61,
     "metadata": {},
     "output_type": "execute_result"
    }
   ],
   "source": [
    "df = forge.as_dataframe(generators)\n",
    "df"
   ]
  },
  {
   "cell_type": "code",
   "execution_count": 62,
   "metadata": {},
   "outputs": [
    {
     "data": {
      "text/plain": [
       "['https://bbp.epfl.ch/ontologies/core/bmo/EModelnstanceGenerator',\n",
       " 'https://bbp.epfl.ch/ontologies/core/bmo/MorphologyGenerator',\n",
       " 'https://bbp.epfl.ch/ontologies/core/bmo/METypePropertyGenerator',\n",
       " 'https://bbp.epfl.ch/ontologies/core/bmo/NeuronModelInSpaceGenerator']"
      ]
     },
     "execution_count": 62,
     "metadata": {},
     "output_type": "execute_result"
    }
   ],
   "source": [
    "list(df.id)"
   ]
  },
  {
   "cell_type": "markdown",
   "metadata": {},
   "source": [
    "### Retrieve a specific Model Circuit Property Generator"
   ]
  },
  {
   "cell_type": "code",
   "execution_count": 63,
   "metadata": {},
   "outputs": [
    {
     "name": "stdout",
     "output_type": "stream",
     "text": [
      "{\n",
      "    context: https://neuroshapes.org\n",
      "    id: https://bbp.epfl.ch/ontologies/core/bmo/MorphologyGenerator\n",
      "    type: Class\n",
      "    label: Neuron Morphology in space generator\n",
      "    generates:\n",
      "    {\n",
      "        id: https://bbp.epfl.ch/ontologies/core/bmo/SynthesizedNeuronMorphologyInAsc\n",
      "    }\n",
      "    generatesCircuitWithProperty:\n",
      "    [\n",
      "        {\n",
      "            id: https://bbp.epfl.ch/ontologies/core/bmo/CellPositionCircuitProperty\n",
      "        }\n",
      "        {\n",
      "            id: https://bbp.epfl.ch/ontologies/core/bmo/METypeCircuitProperty\n",
      "        }\n",
      "        {\n",
      "            id: https://bbp.epfl.ch/ontologies/core/bmo/NeuronIdCircuitProperty\n",
      "        }\n",
      "        {\n",
      "            id: https://bbp.epfl.ch/ontologies/core/bmo/NeuronMorphologyCircuitProperty\n",
      "        }\n",
      "    ]\n",
      "    isDefinedBy: https://bbp.epfl.ch/ontologies/core/bmo\n",
      "    isPartOf: bmo:ModelCircuitBuildingWorkflow\n",
      "    \"nsg:about\":\n",
      "    {\n",
      "        id: https://bbp.epfl.ch/ontologies/core/bmo/NeuronSynthesisCategory\n",
      "    }\n",
      "    \"skos:prefLabel\": Neuron Morphology in space generator\n",
      "    subClassOf:\n",
      "    [\n",
      "        bmo:ModelCircuitPropertyGenerator\n",
      "    ]\n",
      "    uses:\n",
      "    {\n",
      "        id: https://bbp.epfl.ch/ontologies/core/bmo/ModelCircuit\n",
      "    }\n",
      "}\n"
     ]
    }
   ],
   "source": [
    "# Yield a Resource => https://nexus-forge.readthedocs.io/en/latest/interaction.html#resource\n",
    "a_generator = \"https://bbp.epfl.ch/ontologies/core/bmo/MorphologyGenerator\"\n",
    "generator_resource = forge.retrieve(id=a_generator) \n",
    "print(generator_resource)"
   ]
  },
  {
   "cell_type": "markdown",
   "metadata": {},
   "source": [
    "### Retrieve which dataset a Model Circuit Property generator requires"
   ]
  },
  {
   "cell_type": "code",
   "execution_count": 65,
   "metadata": {},
   "outputs": [
    {
     "data": {
      "text/plain": [
       "{'id': 'https://bbp.epfl.ch/ontologies/core/bmo/ModelCircuit'}"
      ]
     },
     "execution_count": 65,
     "metadata": {},
     "output_type": "execute_result"
    }
   ],
   "source": [
    "forge.as_json(generator_resource)[\"uses\"]"
   ]
  },
  {
   "cell_type": "markdown",
   "metadata": {},
   "source": [
    "### Retrieve which Model Circuit properties a generator generates"
   ]
  },
  {
   "cell_type": "code",
   "execution_count": 66,
   "metadata": {},
   "outputs": [
    {
     "data": {
      "text/plain": [
       "[{'id': 'https://bbp.epfl.ch/ontologies/core/bmo/CellPositionCircuitProperty'},\n",
       " {'id': 'https://bbp.epfl.ch/ontologies/core/bmo/METypeCircuitProperty'},\n",
       " {'id': 'https://bbp.epfl.ch/ontologies/core/bmo/NeuronIdCircuitProperty'},\n",
       " {'id': 'https://bbp.epfl.ch/ontologies/core/bmo/NeuronMorphologyCircuitProperty'}]"
      ]
     },
     "execution_count": 66,
     "metadata": {},
     "output_type": "execute_result"
    }
   ],
   "source": [
    "forge.as_json(generator_resource)[\"generatesCircuitWithProperty\"]"
   ]
  },
  {
   "cell_type": "code",
   "execution_count": null,
   "metadata": {},
   "outputs": [],
   "source": []
  },
  {
   "cell_type": "markdown",
   "metadata": {},
   "source": [
    "### Retrieve which Model Circuit property category a generator belongs to"
   ]
  },
  {
   "cell_type": "code",
   "execution_count": 67,
   "metadata": {},
   "outputs": [
    {
     "data": {
      "text/plain": [
       "{'id': 'https://bbp.epfl.ch/ontologies/core/bmo/NeuronSynthesisCategory'}"
      ]
     },
     "execution_count": 67,
     "metadata": {},
     "output_type": "execute_result"
    }
   ],
   "source": [
    "forge.as_json(generator_resource)[\"about\"]"
   ]
  },
  {
   "cell_type": "code",
   "execution_count": null,
   "metadata": {},
   "outputs": [],
   "source": []
  },
  {
   "cell_type": "markdown",
   "metadata": {},
   "source": [
    "## Retrieve all Generator variants"
   ]
  },
  {
   "cell_type": "code",
   "execution_count": 70,
   "metadata": {},
   "outputs": [],
   "source": [
    "generator_variant_parent_type = \"https://bbp.epfl.ch/ontologies/core/bmo/GeneratorVariant\""
   ]
  },
  {
   "cell_type": "code",
   "execution_count": 74,
   "metadata": {},
   "outputs": [],
   "source": [
    "query = {\"subClassOf*\":{\"id\":generator_variant_parent_type}} # Remove the '*' for direct subclasses.\n",
    "generator_variant = forge.search(query, limit=10, search_in_graph=False, cross_bucket=True)"
   ]
  },
  {
   "cell_type": "code",
   "execution_count": 75,
   "metadata": {},
   "outputs": [
    {
     "data": {
      "text/html": [
       "<div>\n",
       "<style scoped>\n",
       "    .dataframe tbody tr th:only-of-type {\n",
       "        vertical-align: middle;\n",
       "    }\n",
       "\n",
       "    .dataframe tbody tr th {\n",
       "        vertical-align: top;\n",
       "    }\n",
       "\n",
       "    .dataframe thead th {\n",
       "        text-align: right;\n",
       "    }\n",
       "</style>\n",
       "<table border=\"1\" class=\"dataframe\">\n",
       "  <thead>\n",
       "    <tr style=\"text-align: right;\">\n",
       "      <th></th>\n",
       "      <th>id</th>\n",
       "      <th>type</th>\n",
       "      <th>label</th>\n",
       "      <th>isDefinedBy</th>\n",
       "      <th>skos:definition</th>\n",
       "      <th>subClassOf</th>\n",
       "      <th>uses.id</th>\n",
       "      <th>uses</th>\n",
       "      <th>usesCircuitWithProperty</th>\n",
       "      <th>prefLabel</th>\n",
       "      <th>generatesCircuitWithProperty</th>\n",
       "      <th>skos:altLabel</th>\n",
       "      <th>altLabel</th>\n",
       "    </tr>\n",
       "  </thead>\n",
       "  <tbody>\n",
       "    <tr>\n",
       "      <th>0</th>\n",
       "      <td>https://bbp.epfl.ch/ontologies/core/bmo/BallAn...</td>\n",
       "      <td>Class</td>\n",
       "      <td>BallAndStickPlaceHolderMorphologyGenerator</td>\n",
       "      <td>https://bbp.epfl.ch/ontologies/core/bmo</td>\n",
       "      <td>Neuron Morphology Ball and Stick PlaceHolder G...</td>\n",
       "      <td>[bmo:ModelCircuitPropertyGeneratorVariant, bmo...</td>\n",
       "      <td>https://bbp.epfl.ch/ontologies/core/bmo/SomaSt...</td>\n",
       "      <td>NaN</td>\n",
       "      <td>NaN</td>\n",
       "      <td>NaN</td>\n",
       "      <td>NaN</td>\n",
       "      <td>NaN</td>\n",
       "      <td>NaN</td>\n",
       "    </tr>\n",
       "    <tr>\n",
       "      <th>1</th>\n",
       "      <td>https://bbp.epfl.ch/ontologies/core/bmo/Classi...</td>\n",
       "      <td>Class</td>\n",
       "      <td>ClassicBBPEModelInstanceGenerator</td>\n",
       "      <td>https://bbp.epfl.ch/ontologies/core/bmo</td>\n",
       "      <td>NaN</td>\n",
       "      <td>[bmo:EModelnstanceGenerator, bmo:ModelCircuitP...</td>\n",
       "      <td>NaN</td>\n",
       "      <td>[{'id': 'https://bbp.epfl.ch/ontologies/core/b...</td>\n",
       "      <td>NaN</td>\n",
       "      <td>NaN</td>\n",
       "      <td>NaN</td>\n",
       "      <td>NaN</td>\n",
       "      <td>NaN</td>\n",
       "    </tr>\n",
       "    <tr>\n",
       "      <th>2</th>\n",
       "      <td>https://bbp.epfl.ch/ontologies/core/bmo/MixAnd...</td>\n",
       "      <td>Class</td>\n",
       "      <td>MixAndMatchMorphologyGenerator</td>\n",
       "      <td>https://bbp.epfl.ch/ontologies/core/bmo</td>\n",
       "      <td>Neuron Morphology  Mix and match Generator var...</td>\n",
       "      <td>[bmo:ModelCircuitPropertyGeneratorVariant, bmo...</td>\n",
       "      <td>https://neuroshapes.org/ReconstructedNeuronMor...</td>\n",
       "      <td>NaN</td>\n",
       "      <td>NaN</td>\n",
       "      <td>NaN</td>\n",
       "      <td>NaN</td>\n",
       "      <td>NaN</td>\n",
       "      <td>NaN</td>\n",
       "    </tr>\n",
       "    <tr>\n",
       "      <th>3</th>\n",
       "      <td>https://bbp.epfl.ch/ontologies/core/bmo/TMDSyn...</td>\n",
       "      <td>Class</td>\n",
       "      <td>TMDSynthesisMorphologyGenerator</td>\n",
       "      <td>https://bbp.epfl.ch/ontologies/core/bmo</td>\n",
       "      <td>NaN</td>\n",
       "      <td>[bmo:ModelCircuitPropertyGeneratorVariant, bmo...</td>\n",
       "      <td>NaN</td>\n",
       "      <td>[{'id': 'https://bbp.epfl.ch/ontologies/core/b...</td>\n",
       "      <td>[{'id': 'https://bbp.epfl.ch/ontologies/core/b...</td>\n",
       "      <td>NaN</td>\n",
       "      <td>NaN</td>\n",
       "      <td>NaN</td>\n",
       "      <td>NaN</td>\n",
       "    </tr>\n",
       "    <tr>\n",
       "      <th>4</th>\n",
       "      <td>https://bbp.epfl.ch/ontologies/core/bmo/ModelC...</td>\n",
       "      <td>Class</td>\n",
       "      <td>ModelCircuitPropertyGeneratorVariant</td>\n",
       "      <td>https://bbp.epfl.ch/ontologies/core/bmo</td>\n",
       "      <td>NaN</td>\n",
       "      <td>[bmo:GeneratorVariant, bmo:ModelBuildingWorkflow]</td>\n",
       "      <td>NaN</td>\n",
       "      <td>NaN</td>\n",
       "      <td>NaN</td>\n",
       "      <td>NaN</td>\n",
       "      <td>NaN</td>\n",
       "      <td>NaN</td>\n",
       "      <td>NaN</td>\n",
       "    </tr>\n",
       "    <tr>\n",
       "      <th>5</th>\n",
       "      <td>https://bbp.epfl.ch/ontologies/core/bmo/AxonGr...</td>\n",
       "      <td>Class</td>\n",
       "      <td>AxonGrafting + PH Neuron Morphology Generator</td>\n",
       "      <td>https://bbp.epfl.ch/ontologies/core/bmo</td>\n",
       "      <td>NaN</td>\n",
       "      <td>[bmo:ModelCircuitPropertyGeneratorVariant, bmo...</td>\n",
       "      <td>NaN</td>\n",
       "      <td>[{'id': 'https://bbp.epfl.ch/ontologies/core/b...</td>\n",
       "      <td>[{'id': 'https://bbp.epfl.ch/ontologies/core/b...</td>\n",
       "      <td>Axon Grafting + PH Neuron Morphology Generator</td>\n",
       "      <td>NaN</td>\n",
       "      <td>NaN</td>\n",
       "      <td>NaN</td>\n",
       "    </tr>\n",
       "    <tr>\n",
       "      <th>6</th>\n",
       "      <td>https://bbp.epfl.ch/ontologies/core/bmo/BrainB...</td>\n",
       "      <td>Class</td>\n",
       "      <td>Brain builder assignment METype generator</td>\n",
       "      <td>https://bbp.epfl.ch/ontologies/core/bmo</td>\n",
       "      <td>NaN</td>\n",
       "      <td>[bmo:METypePropertyGenerator, bmo:ModelCircuit...</td>\n",
       "      <td>NaN</td>\n",
       "      <td>[{'id': 'https://bbp.epfl.ch/ontologies/core/b...</td>\n",
       "      <td>NaN</td>\n",
       "      <td>Brain builder assignment METype generator</td>\n",
       "      <td>[{'id': 'https://bbp.epfl.ch/ontologies/core/b...</td>\n",
       "      <td>brainbuilder assignment</td>\n",
       "      <td>NaN</td>\n",
       "    </tr>\n",
       "    <tr>\n",
       "      <th>7</th>\n",
       "      <td>https://bbp.epfl.ch/ontologies/core/bmo/Genera...</td>\n",
       "      <td>Class</td>\n",
       "      <td>Generator variant</td>\n",
       "      <td>https://bbp.epfl.ch/ontologies/core/bmo</td>\n",
       "      <td>NaN</td>\n",
       "      <td>[bmo:Workflow]</td>\n",
       "      <td>NaN</td>\n",
       "      <td>NaN</td>\n",
       "      <td>NaN</td>\n",
       "      <td>Generator variant</td>\n",
       "      <td>NaN</td>\n",
       "      <td>NaN</td>\n",
       "      <td>NaN</td>\n",
       "    </tr>\n",
       "    <tr>\n",
       "      <th>8</th>\n",
       "      <td>https://bbp.epfl.ch/ontologies/core/bmo/MEMode...</td>\n",
       "      <td>Class</td>\n",
       "      <td>MEModel classic neuron model generator</td>\n",
       "      <td>https://bbp.epfl.ch/ontologies/core/bmo</td>\n",
       "      <td>NaN</td>\n",
       "      <td>[bmo:ModelCircuitPropertyGeneratorVariant, bmo...</td>\n",
       "      <td>NaN</td>\n",
       "      <td>[{'id': 'https://bbp.epfl.ch/ontologies/core/b...</td>\n",
       "      <td>[{'id': 'https://bbp.epfl.ch/ontologies/core/b...</td>\n",
       "      <td>MEModel classic neuron model generator</td>\n",
       "      <td>NaN</td>\n",
       "      <td>NaN</td>\n",
       "      <td>NaN</td>\n",
       "    </tr>\n",
       "    <tr>\n",
       "      <th>9</th>\n",
       "      <td>https://bbp.epfl.ch/ontologies/core/bmo/MEMode...</td>\n",
       "      <td>Class</td>\n",
       "      <td>MEModel cylinder neuron model generator</td>\n",
       "      <td>https://bbp.epfl.ch/ontologies/core/bmo</td>\n",
       "      <td>NaN</td>\n",
       "      <td>[bmo:ModelCircuitPropertyGeneratorVariant, bmo...</td>\n",
       "      <td>NaN</td>\n",
       "      <td>[{'id': 'https://bbp.epfl.ch/ontologies/core/b...</td>\n",
       "      <td>[{'id': 'https://bbp.epfl.ch/ontologies/core/b...</td>\n",
       "      <td>MEModel cylinder neuron model generator</td>\n",
       "      <td>NaN</td>\n",
       "      <td>NaN</td>\n",
       "      <td>me-model cylinder neuron model generator</td>\n",
       "    </tr>\n",
       "  </tbody>\n",
       "</table>\n",
       "</div>"
      ],
      "text/plain": [
       "                                                  id   type  \\\n",
       "0  https://bbp.epfl.ch/ontologies/core/bmo/BallAn...  Class   \n",
       "1  https://bbp.epfl.ch/ontologies/core/bmo/Classi...  Class   \n",
       "2  https://bbp.epfl.ch/ontologies/core/bmo/MixAnd...  Class   \n",
       "3  https://bbp.epfl.ch/ontologies/core/bmo/TMDSyn...  Class   \n",
       "4  https://bbp.epfl.ch/ontologies/core/bmo/ModelC...  Class   \n",
       "5  https://bbp.epfl.ch/ontologies/core/bmo/AxonGr...  Class   \n",
       "6  https://bbp.epfl.ch/ontologies/core/bmo/BrainB...  Class   \n",
       "7  https://bbp.epfl.ch/ontologies/core/bmo/Genera...  Class   \n",
       "8  https://bbp.epfl.ch/ontologies/core/bmo/MEMode...  Class   \n",
       "9  https://bbp.epfl.ch/ontologies/core/bmo/MEMode...  Class   \n",
       "\n",
       "                                           label  \\\n",
       "0     BallAndStickPlaceHolderMorphologyGenerator   \n",
       "1              ClassicBBPEModelInstanceGenerator   \n",
       "2                 MixAndMatchMorphologyGenerator   \n",
       "3                TMDSynthesisMorphologyGenerator   \n",
       "4           ModelCircuitPropertyGeneratorVariant   \n",
       "5  AxonGrafting + PH Neuron Morphology Generator   \n",
       "6      Brain builder assignment METype generator   \n",
       "7                              Generator variant   \n",
       "8         MEModel classic neuron model generator   \n",
       "9        MEModel cylinder neuron model generator   \n",
       "\n",
       "                               isDefinedBy  \\\n",
       "0  https://bbp.epfl.ch/ontologies/core/bmo   \n",
       "1  https://bbp.epfl.ch/ontologies/core/bmo   \n",
       "2  https://bbp.epfl.ch/ontologies/core/bmo   \n",
       "3  https://bbp.epfl.ch/ontologies/core/bmo   \n",
       "4  https://bbp.epfl.ch/ontologies/core/bmo   \n",
       "5  https://bbp.epfl.ch/ontologies/core/bmo   \n",
       "6  https://bbp.epfl.ch/ontologies/core/bmo   \n",
       "7  https://bbp.epfl.ch/ontologies/core/bmo   \n",
       "8  https://bbp.epfl.ch/ontologies/core/bmo   \n",
       "9  https://bbp.epfl.ch/ontologies/core/bmo   \n",
       "\n",
       "                                     skos:definition  \\\n",
       "0  Neuron Morphology Ball and Stick PlaceHolder G...   \n",
       "1                                                NaN   \n",
       "2  Neuron Morphology  Mix and match Generator var...   \n",
       "3                                                NaN   \n",
       "4                                                NaN   \n",
       "5                                                NaN   \n",
       "6                                                NaN   \n",
       "7                                                NaN   \n",
       "8                                                NaN   \n",
       "9                                                NaN   \n",
       "\n",
       "                                          subClassOf  \\\n",
       "0  [bmo:ModelCircuitPropertyGeneratorVariant, bmo...   \n",
       "1  [bmo:EModelnstanceGenerator, bmo:ModelCircuitP...   \n",
       "2  [bmo:ModelCircuitPropertyGeneratorVariant, bmo...   \n",
       "3  [bmo:ModelCircuitPropertyGeneratorVariant, bmo...   \n",
       "4  [bmo:GeneratorVariant, bmo:ModelBuildingWorkflow]   \n",
       "5  [bmo:ModelCircuitPropertyGeneratorVariant, bmo...   \n",
       "6  [bmo:METypePropertyGenerator, bmo:ModelCircuit...   \n",
       "7                                     [bmo:Workflow]   \n",
       "8  [bmo:ModelCircuitPropertyGeneratorVariant, bmo...   \n",
       "9  [bmo:ModelCircuitPropertyGeneratorVariant, bmo...   \n",
       "\n",
       "                                             uses.id  \\\n",
       "0  https://bbp.epfl.ch/ontologies/core/bmo/SomaSt...   \n",
       "1                                                NaN   \n",
       "2  https://neuroshapes.org/ReconstructedNeuronMor...   \n",
       "3                                                NaN   \n",
       "4                                                NaN   \n",
       "5                                                NaN   \n",
       "6                                                NaN   \n",
       "7                                                NaN   \n",
       "8                                                NaN   \n",
       "9                                                NaN   \n",
       "\n",
       "                                                uses  \\\n",
       "0                                                NaN   \n",
       "1  [{'id': 'https://bbp.epfl.ch/ontologies/core/b...   \n",
       "2                                                NaN   \n",
       "3  [{'id': 'https://bbp.epfl.ch/ontologies/core/b...   \n",
       "4                                                NaN   \n",
       "5  [{'id': 'https://bbp.epfl.ch/ontologies/core/b...   \n",
       "6  [{'id': 'https://bbp.epfl.ch/ontologies/core/b...   \n",
       "7                                                NaN   \n",
       "8  [{'id': 'https://bbp.epfl.ch/ontologies/core/b...   \n",
       "9  [{'id': 'https://bbp.epfl.ch/ontologies/core/b...   \n",
       "\n",
       "                             usesCircuitWithProperty  \\\n",
       "0                                                NaN   \n",
       "1                                                NaN   \n",
       "2                                                NaN   \n",
       "3  [{'id': 'https://bbp.epfl.ch/ontologies/core/b...   \n",
       "4                                                NaN   \n",
       "5  [{'id': 'https://bbp.epfl.ch/ontologies/core/b...   \n",
       "6                                                NaN   \n",
       "7                                                NaN   \n",
       "8  [{'id': 'https://bbp.epfl.ch/ontologies/core/b...   \n",
       "9  [{'id': 'https://bbp.epfl.ch/ontologies/core/b...   \n",
       "\n",
       "                                        prefLabel  \\\n",
       "0                                             NaN   \n",
       "1                                             NaN   \n",
       "2                                             NaN   \n",
       "3                                             NaN   \n",
       "4                                             NaN   \n",
       "5  Axon Grafting + PH Neuron Morphology Generator   \n",
       "6       Brain builder assignment METype generator   \n",
       "7                               Generator variant   \n",
       "8          MEModel classic neuron model generator   \n",
       "9         MEModel cylinder neuron model generator   \n",
       "\n",
       "                        generatesCircuitWithProperty            skos:altLabel  \\\n",
       "0                                                NaN                      NaN   \n",
       "1                                                NaN                      NaN   \n",
       "2                                                NaN                      NaN   \n",
       "3                                                NaN                      NaN   \n",
       "4                                                NaN                      NaN   \n",
       "5                                                NaN                      NaN   \n",
       "6  [{'id': 'https://bbp.epfl.ch/ontologies/core/b...  brainbuilder assignment   \n",
       "7                                                NaN                      NaN   \n",
       "8                                                NaN                      NaN   \n",
       "9                                                NaN                      NaN   \n",
       "\n",
       "                                   altLabel  \n",
       "0                                       NaN  \n",
       "1                                       NaN  \n",
       "2                                       NaN  \n",
       "3                                       NaN  \n",
       "4                                       NaN  \n",
       "5                                       NaN  \n",
       "6                                       NaN  \n",
       "7                                       NaN  \n",
       "8                                       NaN  \n",
       "9  me-model cylinder neuron model generator  "
      ]
     },
     "execution_count": 75,
     "metadata": {},
     "output_type": "execute_result"
    }
   ],
   "source": [
    "df = forge.as_dataframe(generator_variant)\n",
    "df"
   ]
  },
  {
   "cell_type": "code",
   "execution_count": 76,
   "metadata": {},
   "outputs": [
    {
     "data": {
      "text/plain": [
       "['https://bbp.epfl.ch/ontologies/core/bmo/BallAndStickPlaceHolderMorphologyGenerator',\n",
       " 'https://bbp.epfl.ch/ontologies/core/bmo/ClassicBBPEModelInstanceGenerator',\n",
       " 'https://bbp.epfl.ch/ontologies/core/bmo/MixAndMatchMorphologyGenerator',\n",
       " 'https://bbp.epfl.ch/ontologies/core/bmo/TMDSynthesisMorphologyGenerator',\n",
       " 'https://bbp.epfl.ch/ontologies/core/bmo/ModelCircuitPropertyGeneratorVariant',\n",
       " 'https://bbp.epfl.ch/ontologies/core/bmo/AxonGraftingPlusPHNeuronMorphologyGenerator',\n",
       " 'https://bbp.epfl.ch/ontologies/core/bmo/BrainBuilderAssignmentMETypeGenerator',\n",
       " 'https://bbp.epfl.ch/ontologies/core/bmo/GeneratorVariant',\n",
       " 'https://bbp.epfl.ch/ontologies/core/bmo/MEModelClassicNeuronModelGenerator',\n",
       " 'https://bbp.epfl.ch/ontologies/core/bmo/MEModelCylinderNeuronModelGenerator']"
      ]
     },
     "execution_count": 76,
     "metadata": {},
     "output_type": "execute_result"
    }
   ],
   "source": [
    "list(df.id)"
   ]
  },
  {
   "cell_type": "markdown",
   "metadata": {},
   "source": [
    "### Retrieve a specific Model Circuit Property Generator Variant"
   ]
  },
  {
   "cell_type": "code",
   "execution_count": 77,
   "metadata": {},
   "outputs": [
    {
     "name": "stdout",
     "output_type": "stream",
     "text": [
      "{\n",
      "    context: https://neuroshapes.org\n",
      "    id: https://bbp.epfl.ch/ontologies/core/bmo/TMDSynthesisMorphologyGenerator\n",
      "    type: Class\n",
      "    label: TMDSynthesisMorphologyGenerator\n",
      "    isDefinedBy: https://bbp.epfl.ch/ontologies/core/bmo\n",
      "    subClassOf:\n",
      "    [\n",
      "        bmo:ModelCircuitPropertyGeneratorVariant\n",
      "        bmo:MorphologyGenerator\n",
      "    ]\n",
      "    uses:\n",
      "    [\n",
      "        {\n",
      "            id: https://bbp.epfl.ch/ontologies/core/bmo/AtlasDistanceToLayer\n",
      "        }\n",
      "        {\n",
      "            id: https://bbp.epfl.ch/ontologies/core/bmo/ModelCircuit\n",
      "        }\n",
      "        {\n",
      "            id: https://neuroshapes.org/CellOrientationField\n",
      "        }\n",
      "        {\n",
      "            id: https://neuroshapes.org/NeuronMorphology\n",
      "        }\n",
      "    ]\n",
      "    usesCircuitWithProperty:\n",
      "    [\n",
      "        {\n",
      "            id: https://bbp.epfl.ch/ontologies/core/bmo/METypeCircuitProperty\n",
      "        }\n",
      "        {\n",
      "            id: https://bbp.epfl.ch/ontologies/core/bmo/NeuronIdCircuitProperty\n",
      "        }\n",
      "    ]\n",
      "}\n"
     ]
    }
   ],
   "source": [
    "a_generator_variant = \"https://bbp.epfl.ch/ontologies/core/bmo/TMDSynthesisMorphologyGenerator\"\n",
    "generator_variant_resource = forge.retrieve(id=a_generator_variant) \n",
    "print(generator_variant_resource)"
   ]
  },
  {
   "cell_type": "markdown",
   "metadata": {},
   "source": [
    "### Retrieve which Model Circuit property generator a variant implements"
   ]
  },
  {
   "cell_type": "code",
   "execution_count": 78,
   "metadata": {},
   "outputs": [
    {
     "data": {
      "text/plain": [
       "['bmo:ModelCircuitPropertyGeneratorVariant', 'bmo:MorphologyGenerator']"
      ]
     },
     "execution_count": 78,
     "metadata": {},
     "output_type": "execute_result"
    }
   ],
   "source": [
    "generator_variant_resource.subClassOf"
   ]
  },
  {
   "cell_type": "markdown",
   "metadata": {},
   "source": [
    "### Retrieve which dataset a variant requires"
   ]
  },
  {
   "cell_type": "code",
   "execution_count": 79,
   "metadata": {},
   "outputs": [
    {
     "data": {
      "text/plain": [
       "[{'id': 'https://bbp.epfl.ch/ontologies/core/bmo/AtlasDistanceToLayer'},\n",
       " {'id': 'https://bbp.epfl.ch/ontologies/core/bmo/ModelCircuit'},\n",
       " {'id': 'https://neuroshapes.org/CellOrientationField'},\n",
       " {'id': 'https://neuroshapes.org/NeuronMorphology'}]"
      ]
     },
     "execution_count": 79,
     "metadata": {},
     "output_type": "execute_result"
    }
   ],
   "source": [
    "forge.as_json(generator_variant_resource)[\"uses\"]"
   ]
  },
  {
   "cell_type": "code",
   "execution_count": null,
   "metadata": {},
   "outputs": [],
   "source": []
  },
  {
   "cell_type": "markdown",
   "metadata": {},
   "source": [
    "### Retrieve which Model Circuit properties a generator variant requires"
   ]
  },
  {
   "cell_type": "code",
   "execution_count": 80,
   "metadata": {},
   "outputs": [
    {
     "data": {
      "text/plain": [
       "['https://bbp.epfl.ch/ontologies/core/bmo/METypeCircuitProperty',\n",
       " 'https://bbp.epfl.ch/ontologies/core/bmo/NeuronIdCircuitProperty']"
      ]
     },
     "execution_count": 80,
     "metadata": {},
     "output_type": "execute_result"
    }
   ],
   "source": [
    "generator_variant_resource.usesCircuitWithProperty"
   ]
  }
 ],
 "metadata": {
  "kernelspec": {
   "display_name": "Python 3.7 (nexusforgelatest)",
   "language": "python",
   "name": "nexusforgelatest"
  },
  "language_info": {
   "codemirror_mode": {
    "name": "ipython",
    "version": 3
   },
   "file_extension": ".py",
   "mimetype": "text/x-python",
   "name": "python",
   "nbconvert_exporter": "python",
   "pygments_lexer": "ipython3",
   "version": "3.7.10"
  }
 },
 "nbformat": 4,
 "nbformat_minor": 4
}

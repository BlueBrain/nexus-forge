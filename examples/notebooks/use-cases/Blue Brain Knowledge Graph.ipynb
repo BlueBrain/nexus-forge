{
 "cells": [
  {
   "cell_type": "code",
   "execution_count": null,
   "metadata": {
    "ExecuteTime": {
     "end_time": "2019-09-23T14:21:32.991316Z",
     "start_time": "2019-09-23T14:21:32.853472Z"
    }
   },
   "outputs": [],
   "source": [
    "! python -V"
   ]
  },
  {
   "cell_type": "markdown",
   "metadata": {
    "jupyter": {
     "source_hidden": true
    }
   },
   "source": [
    "**Installations**"
   ]
  },
  {
   "cell_type": "code",
   "execution_count": null,
   "metadata": {
    "ExecuteTime": {
     "end_time": "2019-09-12T12:34:10.965402Z",
     "start_time": "2019-09-12T12:34:10.958762Z"
    }
   },
   "outputs": [],
   "source": [
    "! pip install kgforge"
   ]
  },
  {
   "cell_type": "code",
   "execution_count": null,
   "metadata": {
    "ExecuteTime": {
     "end_time": "2019-09-12T12:34:10.980630Z",
     "start_time": "2019-09-12T12:34:10.973095Z"
    }
   },
   "outputs": [],
   "source": [
    "! pip install allensdk"
   ]
  },
  {
   "cell_type": "code",
   "execution_count": null,
   "metadata": {
    "ExecuteTime": {
     "end_time": "2019-09-12T12:34:10.990775Z",
     "start_time": "2019-09-12T12:34:10.984745Z"
    }
   },
   "outputs": [],
   "source": [
    "! pip install git+https://github.com/BlueBrain/TMD"
   ]
  },
  {
   "cell_type": "markdown",
   "metadata": {},
   "source": [
    "**Imports**"
   ]
  },
  {
   "cell_type": "code",
   "execution_count": null,
   "metadata": {
    "ExecuteTime": {
     "end_time": "2019-09-12T12:34:11.714700Z",
     "start_time": "2019-09-12T12:34:11.003773Z"
    }
   },
   "outputs": [],
   "source": [
    "from kgforge.core import KnowledgeGraphForge, Resource\n",
    "from kgforge.specializations.resources import Dataset\n",
    "from kgforge.specializations.mappings import DictionaryMapping\n",
    "from kgforge.specializations.mappers import DictionaryMapper"
   ]
  },
  {
   "cell_type": "code",
   "execution_count": 1,
   "metadata": {
    "ExecuteTime": {
     "end_time": "2019-09-12T12:34:11.935189Z",
     "start_time": "2019-09-12T12:34:11.716919Z"
    }
   },
   "outputs": [],
   "source": [
    "from allensdk.core.cell_types_cache import CellTypesCache\n",
    "from allensdk.api.queries.cell_types_api import CellTypesApi"
   ]
  },
  {
   "cell_type": "code",
   "execution_count": null,
   "metadata": {
    "ExecuteTime": {
     "end_time": "2019-09-12T12:34:11.989541Z",
     "start_time": "2019-09-12T12:34:11.939751Z"
    }
   },
   "outputs": [],
   "source": [
    "import tmd"
   ]
  },
  {
   "cell_type": "markdown",
   "metadata": {},
   "source": [
    "**Setup**"
   ]
  },
  {
   "cell_type": "code",
   "execution_count": null,
   "metadata": {
    "ExecuteTime": {
     "end_time": "2019-09-12T12:34:11.995395Z",
     "start_time": "2019-09-12T12:34:11.991969Z"
    }
   },
   "outputs": [],
   "source": [
    "TOKEN = \"<token>\""
   ]
  },
  {
   "cell_type": "code",
   "execution_count": null,
   "metadata": {
    "ExecuteTime": {
     "end_time": "2019-09-12T12:34:12.001710Z",
     "start_time": "2019-09-12T12:34:11.997386Z"
    }
   },
   "outputs": [],
   "source": [
    "forge = KnowledgeGraphForge.from_config(\"bbp-prod-forge.yml\", bucket=\"bbp/<project>\", token=TOKEN)"
   ]
  },
  {
   "cell_type": "markdown",
   "metadata": {},
   "source": [
    "---"
   ]
  },
  {
   "cell_type": "markdown",
   "metadata": {},
   "source": [
    "## User Journey A - Data Integration\n",
    "\n",
    "1. Retrieve human neuron morphologies from the Allen Cell Types Database\n",
    "2. Integrate these neuron morphologies into the Blue Brain Knowledge Graph\n",
    "    - Retrieve the complete metadata of the selection of neuron morphologies\n",
    "    - Integrate the Subject entities\n",
    "    - Integrate the Patched Cell entities\n",
    "    - Integrate the Neuron Morphology entities"
   ]
  },
  {
   "cell_type": "markdown",
   "metadata": {
    "colab_type": "text",
    "id": "9W5M5Ck9Tq7q"
   },
   "source": [
    "### 1 - Retrieve human neuron morphologies from the Allen Cell Types Database"
   ]
  },
  {
   "cell_type": "code",
   "execution_count": 9,
   "metadata": {
    "ExecuteTime": {
     "end_time": "2019-09-12T12:34:12.025656Z",
     "start_time": "2019-09-12T12:34:12.020548Z"
    }
   },
   "outputs": [],
   "source": [
    "LIMIT = 2"
   ]
  },
  {
   "cell_type": "code",
   "execution_count": 10,
   "metadata": {},
   "outputs": [
    {
     "name": "stdout",
     "output_type": "stream",
     "text": [
      "/Users/fonta/notebooks\n"
     ]
    }
   ],
   "source": [
    "cd ~/notebooks"
   ]
  },
  {
   "cell_type": "code",
   "execution_count": 11,
   "metadata": {
    "ExecuteTime": {
     "end_time": "2019-09-12T12:34:12.017196Z",
     "start_time": "2019-09-12T12:34:12.013002Z"
    }
   },
   "outputs": [],
   "source": [
    "ALLEN_DIR = \"allen_cell_types_db\""
   ]
  },
  {
   "cell_type": "code",
   "execution_count": 12,
   "metadata": {
    "ExecuteTime": {
     "end_time": "2019-09-12T12:34:12.041356Z",
     "start_time": "2019-09-12T12:34:12.029056Z"
    }
   },
   "outputs": [],
   "source": [
    "ctc = CellTypesCache(manifest_file=f\"{ALLEN_DIR}/manifest.json\")"
   ]
  },
  {
   "cell_type": "code",
   "execution_count": 13,
   "metadata": {
    "ExecuteTime": {
     "end_time": "2019-09-12T12:34:12.102274Z",
     "start_time": "2019-09-12T12:34:12.043904Z"
    }
   },
   "outputs": [],
   "source": [
    "human_cells = ctc.get_cells(species=[CellTypesApi.HUMAN], require_reconstruction=True)"
   ]
  },
  {
   "cell_type": "code",
   "execution_count": 14,
   "metadata": {
    "ExecuteTime": {
     "end_time": "2019-09-12T12:34:12.108855Z",
     "start_time": "2019-09-12T12:34:12.104642Z"
    }
   },
   "outputs": [],
   "source": [
    "human_cell_ids = [x[\"id\"] for x in human_cells][:LIMIT]"
   ]
  },
  {
   "cell_type": "code",
   "execution_count": 15,
   "metadata": {
    "ExecuteTime": {
     "end_time": "2019-09-12T12:34:12.114296Z",
     "start_time": "2019-09-12T12:34:12.110781Z"
    }
   },
   "outputs": [],
   "source": [
    "human_cell_reconstructions = [ctc.get_reconstruction(x) for x in human_cell_ids]"
   ]
  },
  {
   "cell_type": "markdown",
   "metadata": {},
   "source": [
    "### 2 - Integrate these neuron morphologies into the Blue Brain Knowledge Graph"
   ]
  },
  {
   "cell_type": "markdown",
   "metadata": {},
   "source": [
    "Data integrated into the Blue Brain Knowledge Graph follow the Blue Brain Knowledge Graph Schema.\n",
    "\n",
    "In the current case, this means that the data from the Allen Cell Types Database should be represented this way:"
   ]
  },
  {
   "cell_type": "code",
   "execution_count": null,
   "metadata": {},
   "outputs": [],
   "source": [
    "# FIXME Image is inaccurate."
   ]
  },
  {
   "cell_type": "markdown",
   "metadata": {},
   "source": [
    "![Provenance](https://docs.google.com/uc?id=1Hoz3wK3vNkLxdhKNZXK53NOE6qKuBh7o)"
   ]
  },
  {
   "cell_type": "code",
   "execution_count": null,
   "metadata": {},
   "outputs": [],
   "source": [
    "DATA_SOURCE = \"allen-cell-types-database\""
   ]
  },
  {
   "cell_type": "code",
   "execution_count": null,
   "metadata": {},
   "outputs": [],
   "source": [
    "forge.modeling.mappings(DATA_SOURCE)"
   ]
  },
  {
   "cell_type": "code",
   "execution_count": null,
   "metadata": {},
   "outputs": [],
   "source": [
    "MAPPER = DictionaryMapper"
   ]
  },
  {
   "cell_type": "markdown",
   "metadata": {},
   "source": [
    "**Retrieve the complete metadata of the selection of neuron morphologies**"
   ]
  },
  {
   "cell_type": "code",
   "execution_count": 17,
   "metadata": {},
   "outputs": [],
   "source": [
    "import json"
   ]
  },
  {
   "cell_type": "code",
   "execution_count": 18,
   "metadata": {
    "ExecuteTime": {
     "end_time": "2019-09-12T12:34:12.164676Z",
     "start_time": "2019-09-12T12:34:12.116514Z"
    }
   },
   "outputs": [],
   "source": [
    "with open(f\"{ALLEN_DIR}/cells.json\") as f:\n",
    "    allen_cell_types_metadata = json.load(f)"
   ]
  },
  {
   "cell_type": "code",
   "execution_count": 19,
   "metadata": {
    "ExecuteTime": {
     "end_time": "2019-09-12T12:34:12.177353Z",
     "start_time": "2019-09-12T12:34:12.166465Z"
    }
   },
   "outputs": [],
   "source": [
    "human_cell_metadata = [x for x in allen_cell_types_metadata if x[\"specimen__id\"] in human_cell_ids]"
   ]
  },
  {
   "cell_type": "code",
   "execution_count": 20,
   "metadata": {},
   "outputs": [
    {
     "data": {
      "text/plain": [
       "{'cell_reporter_status': None,\n",
       " 'csl__normalized_depth': 0.29095064121937,\n",
       " 'csl__x': 79.0,\n",
       " 'csl__y': 273.0,\n",
       " 'csl__z': 91.0,\n",
       " 'donor__age': '39 yrs',\n",
       " 'donor__disease_state': 'epilepsy',\n",
       " 'donor__id': 518641172,\n",
       " 'donor__name': 'H16.03.001',\n",
       " 'donor__race': 'White or Caucasian',\n",
       " 'donor__sex': 'Male',\n",
       " 'donor__species': 'Homo Sapiens',\n",
       " 'donor__years_of_seizure_history': '19',\n",
       " 'ef__adaptation': 0.179194027185622,\n",
       " 'ef__avg_firing_rate': 4.06658352762565,\n",
       " 'ef__avg_isi': 245.906666666667,\n",
       " 'ef__f_i_curve_slope': 0.0571428571428571,\n",
       " 'ef__fast_trough_v_long_square': -47.0,\n",
       " 'ef__peak_t_ramp': 9.88393333333333,\n",
       " 'ef__ri': 146.874636411667,\n",
       " 'ef__tau': 50.0490308584905,\n",
       " 'ef__threshold_i_long_square': 130.0,\n",
       " 'ef__upstroke_downstroke_ratio_long_square': 4.57486453842852,\n",
       " 'ef__vrest': -72.5476608276367,\n",
       " 'ephys_inst_thresh_thumb_path': '/api/v2/well_known_file_download/522910216',\n",
       " 'ephys_thumb_path': '/api/v2/well_known_file_download/522910214',\n",
       " 'erwkf__id': 618213231,\n",
       " 'line_name': '',\n",
       " 'm__biophys': 0,\n",
       " 'm__biophys_all_active': 0,\n",
       " 'm__biophys_perisomatic': 0,\n",
       " 'm__glif': 0,\n",
       " 'morph_thumb_path': '/api/v2/well_known_file_download/615966709',\n",
       " 'nr__average_contraction': 0.915422660611908,\n",
       " 'nr__average_parent_daughter_ratio': 0.990668425592948,\n",
       " 'nr__max_euclidean_distance': 504.253733142046,\n",
       " 'nr__number_bifurcations': 51,\n",
       " 'nr__number_stems': 7,\n",
       " 'nr__reconstruction_type': 'full',\n",
       " 'nrwkf__id': 667320018,\n",
       " 'si__height': 9432,\n",
       " 'si__path': '/external/humancelltypes/prod44/specimen_519832676/min_xy_519832676.aff',\n",
       " 'si__width': 7582,\n",
       " 'specimen__hemisphere': 'left',\n",
       " 'specimen__id': 519832676,\n",
       " 'specimen__name': 'H16.03.001.01.09.01',\n",
       " 'structure__acronym': 'MTG',\n",
       " 'structure__id': 12141,\n",
       " 'structure__layer': '3',\n",
       " 'structure__name': '\"middle temporal gyrus\"',\n",
       " 'structure_parent__acronym': 'MTG',\n",
       " 'structure_parent__id': 12141,\n",
       " 'tag__apical': 'truncated',\n",
       " 'tag__dendrite_type': 'spiny'}"
      ]
     },
     "execution_count": 20,
     "metadata": {},
     "output_type": "execute_result"
    }
   ],
   "source": [
    "human_cell_metadata[0]"
   ]
  },
  {
   "cell_type": "code",
   "execution_count": null,
   "metadata": {},
   "outputs": [],
   "source": []
  },
  {
   "cell_type": "code",
   "execution_count": null,
   "metadata": {},
   "outputs": [],
   "source": []
  },
  {
   "cell_type": "markdown",
   "metadata": {},
   "source": [
    "**Integrate the Subject entities**"
   ]
  },
  {
   "cell_type": "code",
   "execution_count": null,
   "metadata": {
    "ExecuteTime": {
     "end_time": "2019-09-12T12:34:12.207677Z",
     "start_time": "2019-09-12T12:34:12.199805Z"
    }
   },
   "outputs": [],
   "source": [
    "subject_mapping = forge.modeling.mapping(\"Subject\", DATA_SOURCE)"
   ]
  },
  {
   "cell_type": "code",
   "execution_count": null,
   "metadata": {
    "ExecuteTime": {
     "end_time": "2019-09-12T12:34:12.223316Z",
     "start_time": "2019-09-12T12:34:12.209983Z"
    },
    "scrolled": true
   },
   "outputs": [],
   "source": [
    "subjects = forge.transforming.map(human_cell_metadata, MAPPER, subject_mapping)"
   ]
  },
  {
   "cell_type": "code",
   "execution_count": null,
   "metadata": {
    "ExecuteTime": {
     "end_time": "2019-09-12T12:34:12.237181Z",
     "start_time": "2019-09-12T12:34:12.229573Z"
    }
   },
   "outputs": [],
   "source": [
    "forge.modeling.check(subjects)"
   ]
  },
  {
   "cell_type": "code",
   "execution_count": null,
   "metadata": {
    "ExecuteTime": {
     "end_time": "2019-09-12T12:34:12.248767Z",
     "start_time": "2019-09-12T12:34:12.243465Z"
    }
   },
   "outputs": [],
   "source": [
    "forge.storing.register(subjects)"
   ]
  },
  {
   "cell_type": "markdown",
   "metadata": {},
   "source": [
    "**Integrate the Patched Cell entities**"
   ]
  },
  {
   "cell_type": "code",
   "execution_count": null,
   "metadata": {},
   "outputs": [],
   "source": [
    "patchedcell_mapping = forge.modeling.mapping(\"PatchedCell\", DATA_SOURCE)"
   ]
  },
  {
   "cell_type": "code",
   "execution_count": null,
   "metadata": {
    "ExecuteTime": {
     "end_time": "2019-09-12T12:34:12.297226Z",
     "start_time": "2019-09-12T12:34:12.282581Z"
    }
   },
   "outputs": [],
   "source": [
    "patchedcells = forge.transforming.map(human_cell_metadata, MAPPER, patchedcell_mapping)"
   ]
  },
  {
   "cell_type": "code",
   "execution_count": null,
   "metadata": {
    "ExecuteTime": {
     "end_time": "2019-09-12T12:34:12.306729Z",
     "start_time": "2019-09-12T12:34:12.300764Z"
    }
   },
   "outputs": [],
   "source": [
    "forge.modeling.valdiate(patchedcells)"
   ]
  },
  {
   "cell_type": "code",
   "execution_count": null,
   "metadata": {
    "ExecuteTime": {
     "end_time": "2019-09-12T12:34:12.314502Z",
     "start_time": "2019-09-12T12:34:12.310229Z"
    }
   },
   "outputs": [],
   "source": [
    "forge.storing.register(patchedcells)"
   ]
  },
  {
   "cell_type": "markdown",
   "metadata": {},
   "source": [
    "**Integrate the Neuron Morphology entities**"
   ]
  },
  {
   "cell_type": "code",
   "execution_count": null,
   "metadata": {
    "ExecuteTime": {
     "end_time": "2019-09-12T12:34:12.333912Z",
     "start_time": "2019-09-12T12:34:12.328045Z"
    }
   },
   "outputs": [],
   "source": [
    "neuronmorphology_mapping = forge.modeling.mapping(\"NeuronMorphology\", DATA_SOURCE)"
   ]
  },
  {
   "cell_type": "code",
   "execution_count": null,
   "metadata": {
    "ExecuteTime": {
     "end_time": "2019-09-12T12:34:12.347485Z",
     "start_time": "2019-09-12T12:34:12.336339Z"
    }
   },
   "outputs": [],
   "source": [
    "neuronmorphologies = forge.transforming.map(human_cell_metadata, MAPPER, neuronmorphology_mapping)"
   ]
  },
  {
   "cell_type": "code",
   "execution_count": null,
   "metadata": {
    "ExecuteTime": {
     "end_time": "2019-09-12T12:34:12.355318Z",
     "start_time": "2019-09-12T12:34:12.349963Z"
    }
   },
   "outputs": [],
   "source": [
    "forge.modeling.check(neuronmorphologies)"
   ]
  },
  {
   "cell_type": "code",
   "execution_count": null,
   "metadata": {
    "ExecuteTime": {
     "end_time": "2019-09-12T12:34:12.362192Z",
     "start_time": "2019-09-12T12:34:12.358117Z"
    }
   },
   "outputs": [],
   "source": [
    "forge.storing.register(neuronmorphologies)"
   ]
  },
  {
   "cell_type": "markdown",
   "metadata": {},
   "source": [
    "---"
   ]
  },
  {
   "cell_type": "markdown",
   "metadata": {},
   "source": [
    "## User Journey B - Data Exploration\n",
    "\n",
    "1. Discover which neuron morphologies are in the Blue Brain Knowledge Graph\n",
    "2. Regroup as a dataset a selection of these neuron morphologies\n",
    "    - Select neuron morphologies in the cortical layer V and with intact apical dendrites\n",
    "    - Register the selected neuron morphologies as a dataset\n",
    "    - Give this first revision of the dataset a human-friendly name"
   ]
  },
  {
   "cell_type": "code",
   "execution_count": null,
   "metadata": {
    "ExecuteTime": {
     "end_time": "2019-09-12T12:34:12.400246Z",
     "start_time": "2019-09-12T12:34:12.396228Z"
    }
   },
   "outputs": [],
   "source": [
    "p = forge.modeling.paths(\"NeuronMorphology\")"
   ]
  },
  {
   "cell_type": "markdown",
   "metadata": {},
   "source": [
    "### 1 - Discover which neuron morphologies are in the Blue Brain Knowledge Graph"
   ]
  },
  {
   "cell_type": "code",
   "execution_count": null,
   "metadata": {
    "ExecuteTime": {
     "end_time": "2019-09-12T12:34:12.417097Z",
     "start_time": "2019-09-12T12:34:12.402269Z"
    }
   },
   "outputs": [],
   "source": [
    "results = forge.querying.search(p.type == \"NeuronMorphology\")"
   ]
  },
  {
   "cell_type": "code",
   "execution_count": null,
   "metadata": {},
   "outputs": [],
   "source": [
    "len(results)"
   ]
  },
  {
   "cell_type": "markdown",
   "metadata": {},
   "source": [
    "### 2 - Regroup as a dataset a selection of these neuron morphologies"
   ]
  },
  {
   "cell_type": "markdown",
   "metadata": {},
   "source": [
    "**Select neuron morphologies in the cortical layer V and with intact apical dendrites**"
   ]
  },
  {
   "cell_type": "code",
   "execution_count": null,
   "metadata": {
    "ExecuteTime": {
     "end_time": "2019-09-13T12:17:03.862921Z",
     "start_time": "2019-09-13T12:17:03.845456Z"
    }
   },
   "outputs": [],
   "source": [
    "neuronmorphologies = forge.querying.search(p.type == \"NeuronMorphology\", p.brainLocation.layer == \"5\",\n",
    "                                           p.apicalDendrite == \"intact\", resolving=\"fuzzy\", lookup=\"children\")"
   ]
  },
  {
   "cell_type": "code",
   "execution_count": null,
   "metadata": {},
   "outputs": [],
   "source": [
    "forge.transforming.as_dataframe(neuronmorphologies)"
   ]
  },
  {
   "cell_type": "markdown",
   "metadata": {},
   "source": [
    "**Register the selected neuron morphologies as a dataset**"
   ]
  },
  {
   "cell_type": "code",
   "execution_count": null,
   "metadata": {
    "ExecuteTime": {
     "end_time": "2019-09-12T12:34:18.724239Z",
     "start_time": "2019-09-12T12:34:18.720349Z"
    }
   },
   "outputs": [],
   "source": [
    "AGENT_ID = \"<contributor ID>\""
   ]
  },
  {
   "cell_type": "code",
   "execution_count": null,
   "metadata": {
    "ExecuteTime": {
     "end_time": "2019-09-12T12:34:19.613340Z",
     "start_time": "2019-09-12T12:34:19.605146Z"
    }
   },
   "outputs": [],
   "source": [
    "# FIXME According to Neuroshapes on 09.08.2019, 'type', 'subject', 'brainLocation' are also required.\n",
    "# FIXME Property 'hasPart' is not part of the Dataset shape at the moment (09.08.2019).\n",
    "dataset = Dataset(forge,\n",
    "                  name=\"All layer 5 morphologies with intact apical dendrites\",\n",
    "                  description=\"Neuron morphologies to be used for Topological Morphology Descriptor analysis\")"
   ]
  },
  {
   "cell_type": "code",
   "execution_count": null,
   "metadata": {},
   "outputs": [],
   "source": [
    "dataset.add_contribution(AGENT_ID)"
   ]
  },
  {
   "cell_type": "code",
   "execution_count": null,
   "metadata": {},
   "outputs": [],
   "source": [
    "dataset.add_parts(neuronmorphologies)"
   ]
  },
  {
   "cell_type": "code",
   "execution_count": null,
   "metadata": {
    "ExecuteTime": {
     "end_time": "2019-09-12T12:34:19.842914Z",
     "start_time": "2019-09-12T12:34:19.830081Z"
    }
   },
   "outputs": [],
   "source": [
    "forge.storing.register(dataset)"
   ]
  },
  {
   "cell_type": "markdown",
   "metadata": {},
   "source": [
    "**Give the first revision of the dataset a human-friendly label**"
   ]
  },
  {
   "cell_type": "code",
   "execution_count": null,
   "metadata": {
    "ExecuteTime": {
     "end_time": "2019-09-12T12:34:20.355059Z",
     "start_time": "2019-09-12T12:34:20.351787Z"
    }
   },
   "outputs": [],
   "source": [
    "TAG = \"v2019-08-20\""
   ]
  },
  {
   "cell_type": "code",
   "execution_count": null,
   "metadata": {
    "ExecuteTime": {
     "end_time": "2019-09-12T12:34:20.594568Z",
     "start_time": "2019-09-12T12:34:20.584629Z"
    }
   },
   "outputs": [],
   "source": [
    "forges.storing.tag(dataset, TAG)"
   ]
  },
  {
   "cell_type": "markdown",
   "metadata": {},
   "source": [
    "---"
   ]
  },
  {
   "cell_type": "markdown",
   "metadata": {},
   "source": [
    "## User Journey C - Data Analytics\n",
    "\n",
    "1. Retrieve a specific dataset from the Blue Brain Knowledge Graph\n",
    "    - Retrieve the dataset entity\n",
    "    - Download the reconstruction files of the neuron morphologies of the dataset\n",
    "2. Perform a topological analysis of the neuron morphologies from the dataset\n",
    "    - Visualize the persistence diagram\n",
    "    - Visualize the persistence barcode\n",
    "    - Visualize and save the persistence image\n",
    "3. Register the analysis result with its provenance into the Blue Brain Knwoledge Graph"
   ]
  },
  {
   "cell_type": "code",
   "execution_count": null,
   "metadata": {
    "ExecuteTime": {
     "end_time": "2019-09-12T12:34:23.468950Z",
     "start_time": "2019-09-12T12:34:23.464897Z"
    }
   },
   "outputs": [],
   "source": [
    "DOWNLOAD_FOLDER = f\"./reconstructions_{TAG}/\""
   ]
  },
  {
   "cell_type": "code",
   "execution_count": null,
   "metadata": {
    "ExecuteTime": {
     "end_time": "2019-09-12T12:34:23.687660Z",
     "start_time": "2019-09-12T12:34:23.677447Z"
    }
   },
   "outputs": [],
   "source": [
    "ANALYSIS_FOLDER = \"./analysis/\""
   ]
  },
  {
   "cell_type": "code",
   "execution_count": null,
   "metadata": {
    "ExecuteTime": {
     "end_time": "2019-09-12T12:34:23.884989Z",
     "start_time": "2019-09-12T12:34:23.877609Z"
    }
   },
   "outputs": [],
   "source": [
    "ANALYSIS_FILENAME = \"persistence_image.png\""
   ]
  },
  {
   "cell_type": "markdown",
   "metadata": {},
   "source": [
    "### 1 - Retrieve a specific dataset from the Blue Brain Knowledge Graph"
   ]
  },
  {
   "cell_type": "markdown",
   "metadata": {},
   "source": [
    "**Retrieve the dataset entity**"
   ]
  },
  {
   "cell_type": "code",
   "execution_count": null,
   "metadata": {
    "ExecuteTime": {
     "end_time": "2019-09-12T12:34:24.492795Z",
     "start_time": "2019-09-12T12:34:24.487964Z"
    }
   },
   "outputs": [],
   "source": [
    "dataset = forge.querying.retrieve(id=\"<dataset ID>\", version=TAG)"
   ]
  },
  {
   "cell_type": "markdown",
   "metadata": {},
   "source": [
    "**Download the reconstruction files of the neuron morphologies of the dataset**"
   ]
  },
  {
   "cell_type": "code",
   "execution_count": null,
   "metadata": {
    "ExecuteTime": {
     "end_time": "2019-09-12T12:34:24.935026Z",
     "start_time": "2019-09-12T12:34:24.927195Z"
    }
   },
   "outputs": [],
   "source": [
    "dataset.download(\"parts\", DOWNLOAD_FOLDER)"
   ]
  },
  {
   "cell_type": "markdown",
   "metadata": {},
   "source": [
    "### 2 - Perform a topological analysis of the neuron morphologies from the dataset"
   ]
  },
  {
   "cell_type": "code",
   "execution_count": null,
   "metadata": {
    "ExecuteTime": {
     "end_time": "2019-09-12T12:34:37.482376Z",
     "start_time": "2019-09-12T12:34:37.478103Z"
    }
   },
   "outputs": [],
   "source": [
    "from pathlib import Path"
   ]
  },
  {
   "cell_type": "code",
   "execution_count": null,
   "metadata": {
    "ExecuteTime": {
     "end_time": "2019-09-12T12:35:02.405134Z",
     "start_time": "2019-09-12T12:35:02.396421Z"
    }
   },
   "outputs": [],
   "source": [
    "Path(DOWNLOAD_FOLDER).mkdir(exist_ok=True)"
   ]
  },
  {
   "cell_type": "code",
   "execution_count": null,
   "metadata": {
    "ExecuteTime": {
     "end_time": "2019-09-12T12:35:03.794751Z",
     "start_time": "2019-09-12T12:35:03.786528Z"
    }
   },
   "outputs": [],
   "source": [
    "pop = tmd.io.load_population(DOWNLOAD_FOLDER)"
   ]
  },
  {
   "cell_type": "code",
   "execution_count": null,
   "metadata": {
    "ExecuteTime": {
     "end_time": "2019-09-12T12:35:04.240094Z",
     "start_time": "2019-09-12T12:35:04.235493Z"
    }
   },
   "outputs": [],
   "source": [
    "phs = [tmd.methods.get_persistence_diagram(x.apical[0]) for x in pop.neurons]"
   ]
  },
  {
   "cell_type": "code",
   "execution_count": null,
   "metadata": {
    "ExecuteTime": {
     "end_time": "2019-09-12T12:35:04.625128Z",
     "start_time": "2019-09-12T12:35:04.619465Z"
    }
   },
   "outputs": [],
   "source": [
    "phs_flattened = tmd.analysis.collapse(phs)"
   ]
  },
  {
   "cell_type": "markdown",
   "metadata": {},
   "source": [
    "**Visualize the persistence diagram**"
   ]
  },
  {
   "cell_type": "code",
   "execution_count": null,
   "metadata": {
    "ExecuteTime": {
     "end_time": "2019-09-12T12:35:05.478878Z",
     "start_time": "2019-09-12T12:35:05.256775Z"
    }
   },
   "outputs": [],
   "source": [
    "from tmd.view import plot"
   ]
  },
  {
   "cell_type": "code",
   "execution_count": null,
   "metadata": {
    "ExecuteTime": {
     "end_time": "2019-09-12T12:35:06.019167Z",
     "start_time": "2019-09-12T12:35:05.801461Z"
    }
   },
   "outputs": [],
   "source": [
    "plot.diagram(phs_flattened)"
   ]
  },
  {
   "cell_type": "markdown",
   "metadata": {},
   "source": [
    "**Visualize the persistence barcode**"
   ]
  },
  {
   "cell_type": "code",
   "execution_count": null,
   "metadata": {
    "ExecuteTime": {
     "end_time": "2019-09-12T12:35:09.434827Z",
     "start_time": "2019-09-12T12:35:09.207960Z"
    }
   },
   "outputs": [],
   "source": [
    "plot.barcode(phs_flattened)"
   ]
  },
  {
   "cell_type": "markdown",
   "metadata": {},
   "source": [
    "**Visualize and save the persistence image**"
   ]
  },
  {
   "cell_type": "code",
   "execution_count": null,
   "metadata": {
    "ExecuteTime": {
     "end_time": "2019-09-12T12:35:11.825463Z",
     "start_time": "2019-09-12T12:35:11.801555Z"
    }
   },
   "outputs": [],
   "source": [
    "plot.persistence_image(phs_flattened, output_path=ANALYSIS_FOLDER, output_name=ANALYSIS_FILENAME)"
   ]
  },
  {
   "cell_type": "markdown",
   "metadata": {},
   "source": [
    "### 3 - Register the analysis result with its provenance into the Blue Brain Knwoledge Graph"
   ]
  },
  {
   "cell_type": "code",
   "execution_count": null,
   "metadata": {
    "ExecuteTime": {
     "end_time": "2019-09-12T12:36:11.422151Z",
     "start_time": "2019-09-12T12:36:11.410665Z"
    }
   },
   "outputs": [],
   "source": [
    "# FIXME According to Neuroshapes on 09.08.2019, 'used' (2 times) ans 'generated' are also required.\n",
    "analysis = Dataset(forge, type=\"Analysis\", name=\"Persistence image\")"
   ]
  },
  {
   "cell_type": "code",
   "execution_count": null,
   "metadata": {},
   "outputs": [],
   "source": [
    "analysis.add_contribution(AGENT_ID)"
   ]
  },
  {
   "cell_type": "code",
   "execution_count": null,
   "metadata": {},
   "outputs": [],
   "source": [
    "analysis.add_derivation(dataset)"
   ]
  },
  {
   "cell_type": "code",
   "execution_count": null,
   "metadata": {},
   "outputs": [],
   "source": [
    "analysis.add_files(f\"./{ANALYSIS_FOLDER}/{ANALYSIS_FILENAME}\")"
   ]
  },
  {
   "cell_type": "code",
   "execution_count": null,
   "metadata": {
    "ExecuteTime": {
     "end_time": "2019-09-12T12:36:46.926500Z",
     "start_time": "2019-09-12T12:36:46.916439Z"
    }
   },
   "outputs": [],
   "source": [
    "forge.storing.register(analysis)"
   ]
  },
  {
   "cell_type": "code",
   "execution_count": null,
   "metadata": {},
   "outputs": [],
   "source": []
  }
 ],
 "metadata": {
  "colab": {
   "collapsed_sections": [],
   "name": "Step by step jupyter notebook for bringing data to Nexus v1.ipynb",
   "provenance": [],
   "version": "0.3.2"
  },
  "kernelspec": {
   "display_name": "Python 3",
   "language": "python",
   "name": "python3"
  },
  "language_info": {
   "codemirror_mode": {
    "name": "ipython",
    "version": 3
   },
   "file_extension": ".py",
   "mimetype": "text/x-python",
   "name": "python",
   "nbconvert_exporter": "python",
   "pygments_lexer": "ipython3",
   "version": "3.7.4"
  },
  "varInspector": {
   "cols": {
    "lenName": 16,
    "lenType": 16,
    "lenVar": 40
   },
   "kernels_config": {
    "python": {
     "delete_cmd_postfix": "",
     "delete_cmd_prefix": "del ",
     "library": "var_list.py",
     "varRefreshCmd": "print(var_dic_list())"
    },
    "r": {
     "delete_cmd_postfix": ") ",
     "delete_cmd_prefix": "rm(",
     "library": "var_list.r",
     "varRefreshCmd": "cat(var_dic_list()) "
    }
   },
   "types_to_exclude": [
    "module",
    "function",
    "builtin_function_or_method",
    "instance",
    "_Feature"
   ],
   "window_display": false
  }
 },
 "nbformat": 4,
 "nbformat_minor": 4
}

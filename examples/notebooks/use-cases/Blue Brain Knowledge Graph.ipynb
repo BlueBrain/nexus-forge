{
 "cells": [
  {
   "cell_type": "markdown",
   "metadata": {},
   "source": [
    "## 04.05.2020\n",
    "\n",
    "The possibility to run this notebook has been brought forward.\n",
    "\n",
    "This adds some prerequisites and adaptations to cope with what is not available yet.\n",
    "\n",
    "Note:\n",
    "- Mappings have not been reviewed yet ([DKE-143](https://bbpteam.epfl.ch/project/issues/browse/DKE-143))\n",
    "- **The configuration `bbp-staging-forge.yml` should be completed with the values available at the time of running.**\n",
    "\n",
    "Prerequisites:\n",
    "- The Python package `kgforge` is installed.\n",
    "- This notebook is running from the subdirectory `/examples/notebooks/use-cases/` of the cloned package repository.\n",
    "\n",
    "Adaptations:\n",
    "- In a cell, the commented line is the targeted behaviour which is not available yet. A replacement is provided meanwhile."
   ]
  },
  {
   "cell_type": "markdown",
   "metadata": {},
   "source": [
    "---"
   ]
  },
  {
   "cell_type": "markdown",
   "metadata": {},
   "source": [
    "## DISCLAMER\n",
    "\n",
    "This notebook might not be executable as-is at the moment you try to do so (missing data, access, implementations, ...).\n",
    "\n",
    "The goal here is to demonstrate what can be done with the framework in specific use cases."
   ]
  },
  {
   "cell_type": "markdown",
   "metadata": {},
   "source": [
    "---"
   ]
  },
  {
   "cell_type": "markdown",
   "metadata": {},
   "source": [
    "## Content"
   ]
  },
  {
   "cell_type": "markdown",
   "metadata": {},
   "source": [
    "This notebook focuses on demonstrating an end-to-end workflow for the Blue Brain Knowledge Graph.\n",
    "\n",
    "- Tools installation\n",
    "\n",
    "- Session configuration\n",
    "\n",
    "- A - Data Integration\n",
    "  - Retrieve human neuron morphologies from the Allen Cell Types Database\n",
    "  - Load the complete metadata of the neuron morphologies from Allen\n",
    "  - Consult the list of managed data sources and mappings to the Blue Brain Knowledge Graph\n",
    "  - Map the neuron morphologies from Allen to the Blue Brain Knowledge Graph\n",
    "  - Verify the created entities from Allen conform to the Blue Brain Knowledge Graph Schema\n",
    "  - Add the created entities from Allen to the Blue Brain Knowledge Graph\n",
    "\n",
    "\n",
    "- B - Data Exploration\n",
    "  - Discover which neuron morphologies are already in the Blue Brain Knowledge Graph\n",
    "  - Select neuron morphologies in the cortical layer V and with intact apical dendrites\n",
    "  - Regroup as a dataset a selection of neuron morphologies from the Blue Brain Knowledge Graph\n",
    "  - Give the first revision of the dataset a human-friendly name\n",
    "\n",
    "\n",
    "- C - Data Analytics\n",
    "  - Retrieve a specific dataset at a given version from the Blue Brain Knowledge Graph\n",
    "  - Download the reconstruction files of the neuron morphologies of the dataset\n",
    "  - Perform a topological analysis of the neuron morphologies from the dataset\n",
    "  - Register the analysis result with its provenance into the Blue Brain Knwoledge Graph"
   ]
  },
  {
   "cell_type": "markdown",
   "metadata": {},
   "source": [
    "---"
   ]
  },
  {
   "cell_type": "markdown",
   "metadata": {},
   "source": [
    "## Tools installation"
   ]
  },
  {
   "cell_type": "code",
   "execution_count": null,
   "metadata": {
    "ExecuteTime": {
     "end_time": "2019-09-12T12:34:10.965402Z",
     "start_time": "2019-09-12T12:34:10.958762Z"
    }
   },
   "outputs": [],
   "source": [
    "# ! pip install kgforge allensdk tmd\n",
    "! pip install allensdk tmd"
   ]
  },
  {
   "cell_type": "markdown",
   "metadata": {},
   "source": [
    "---"
   ]
  },
  {
   "cell_type": "markdown",
   "metadata": {},
   "source": [
    "## Session configuration"
   ]
  },
  {
   "cell_type": "code",
   "execution_count": null,
   "metadata": {},
   "outputs": [],
   "source": [
    "import getpass"
   ]
  },
  {
   "cell_type": "code",
   "execution_count": null,
   "metadata": {},
   "outputs": [],
   "source": [
    "from kgforge.core import KnowledgeGraphForge"
   ]
  },
  {
   "cell_type": "code",
   "execution_count": null,
   "metadata": {},
   "outputs": [],
   "source": [
    "from kgforge.specializations.resources import Dataset"
   ]
  },
  {
   "cell_type": "markdown",
   "metadata": {},
   "source": [
    "Please enter your BBP token:"
   ]
  },
  {
   "cell_type": "code",
   "execution_count": null,
   "metadata": {},
   "outputs": [],
   "source": [
    "token = getpass.getpass()"
   ]
  },
  {
   "cell_type": "code",
   "execution_count": null,
   "metadata": {
    "ExecuteTime": {
     "end_time": "2019-09-12T12:34:12.001710Z",
     "start_time": "2019-09-12T12:34:11.997386Z"
    }
   },
   "outputs": [],
   "source": [
    "# forge = KnowledgeGraphForge(\"bbp-prod-forge.yml\", bucket=\"bbp/<project>\", token=token)\n",
    "forge = KnowledgeGraphForge(\"bbp-staging-forge.yml\", token=token)"
   ]
  },
  {
   "cell_type": "markdown",
   "metadata": {},
   "source": [
    "---"
   ]
  },
  {
   "cell_type": "markdown",
   "metadata": {},
   "source": [
    "## A - Data Integration"
   ]
  },
  {
   "cell_type": "markdown",
   "metadata": {
    "colab_type": "text",
    "id": "9W5M5Ck9Tq7q"
   },
   "source": [
    "### Retrieve human neuron morphologies from the Allen Cell Types Database"
   ]
  },
  {
   "cell_type": "code",
   "execution_count": null,
   "metadata": {},
   "outputs": [],
   "source": [
    "from allensdk.core.cell_types_cache import CellTypesCache"
   ]
  },
  {
   "cell_type": "code",
   "execution_count": null,
   "metadata": {},
   "outputs": [],
   "source": [
    "from allensdk.api.queries.cell_types_api import CellTypesApi"
   ]
  },
  {
   "cell_type": "code",
   "execution_count": null,
   "metadata": {},
   "outputs": [],
   "source": [
    "ALLEN_DIR = \"allen_cell_types_database\""
   ]
  },
  {
   "cell_type": "code",
   "execution_count": null,
   "metadata": {
    "ExecuteTime": {
     "end_time": "2019-09-12T12:34:12.041356Z",
     "start_time": "2019-09-12T12:34:12.029056Z"
    }
   },
   "outputs": [],
   "source": [
    "ctc = CellTypesCache(manifest_file=f\"{ALLEN_DIR}/manifest.json\")"
   ]
  },
  {
   "cell_type": "code",
   "execution_count": null,
   "metadata": {
    "ExecuteTime": {
     "end_time": "2019-09-12T12:34:12.102274Z",
     "start_time": "2019-09-12T12:34:12.043904Z"
    }
   },
   "outputs": [],
   "source": [
    "human_cells = ctc.get_cells(species=[CellTypesApi.HUMAN], require_reconstruction=True)"
   ]
  },
  {
   "cell_type": "code",
   "execution_count": null,
   "metadata": {},
   "outputs": [],
   "source": [
    "CELLS_LIMIT = 2"
   ]
  },
  {
   "cell_type": "code",
   "execution_count": null,
   "metadata": {
    "ExecuteTime": {
     "end_time": "2019-09-12T12:34:12.108855Z",
     "start_time": "2019-09-12T12:34:12.104642Z"
    }
   },
   "outputs": [],
   "source": [
    "human_cell_ids = [x[\"id\"] for x in human_cells][:CELLS_LIMIT]"
   ]
  },
  {
   "cell_type": "code",
   "execution_count": null,
   "metadata": {
    "ExecuteTime": {
     "end_time": "2019-09-12T12:34:12.114296Z",
     "start_time": "2019-09-12T12:34:12.110781Z"
    }
   },
   "outputs": [],
   "source": [
    "human_cell_reconstructions = [ctc.get_reconstruction(x) for x in human_cell_ids]"
   ]
  },
  {
   "cell_type": "markdown",
   "metadata": {},
   "source": [
    "### Load the complete metadata of the neuron morphologies from Allen"
   ]
  },
  {
   "cell_type": "code",
   "execution_count": null,
   "metadata": {},
   "outputs": [],
   "source": [
    "import json"
   ]
  },
  {
   "cell_type": "code",
   "execution_count": null,
   "metadata": {
    "ExecuteTime": {
     "end_time": "2019-09-12T12:34:12.164676Z",
     "start_time": "2019-09-12T12:34:12.116514Z"
    }
   },
   "outputs": [],
   "source": [
    "with open(f\"{ALLEN_DIR}/cells.json\") as f:\n",
    "    allen_cell_types_metadata = json.load(f)"
   ]
  },
  {
   "cell_type": "code",
   "execution_count": null,
   "metadata": {
    "ExecuteTime": {
     "end_time": "2019-09-12T12:34:12.177353Z",
     "start_time": "2019-09-12T12:34:12.166465Z"
    }
   },
   "outputs": [],
   "source": [
    "human_cell_metadata = [x for x in allen_cell_types_metadata if x[\"specimen__id\"] in human_cell_ids]"
   ]
  },
  {
   "cell_type": "markdown",
   "metadata": {},
   "source": [
    "### Consult the list of managed data sources and mappings to the Blue Brain Knowledge Graph"
   ]
  },
  {
   "cell_type": "code",
   "execution_count": null,
   "metadata": {},
   "outputs": [],
   "source": [
    "forge.sources()"
   ]
  },
  {
   "cell_type": "code",
   "execution_count": null,
   "metadata": {},
   "outputs": [],
   "source": [
    "DATA_SOURCE = \"allen-cell-types-database\""
   ]
  },
  {
   "cell_type": "code",
   "execution_count": null,
   "metadata": {},
   "outputs": [],
   "source": [
    "forge.mappings(DATA_SOURCE)"
   ]
  },
  {
   "cell_type": "markdown",
   "metadata": {},
   "source": [
    "### Map the neuron morphologies from Allen to the Blue Brain Knowledge Graph"
   ]
  },
  {
   "cell_type": "code",
   "execution_count": null,
   "metadata": {
    "ExecuteTime": {
     "end_time": "2019-09-12T12:34:12.207677Z",
     "start_time": "2019-09-12T12:34:12.199805Z"
    }
   },
   "outputs": [],
   "source": [
    "subject_mapping = forge.mapping(\"Subject\", DATA_SOURCE)"
   ]
  },
  {
   "cell_type": "code",
   "execution_count": null,
   "metadata": {},
   "outputs": [],
   "source": [
    "print(subject_mapping)"
   ]
  },
  {
   "cell_type": "code",
   "execution_count": null,
   "metadata": {},
   "outputs": [],
   "source": [
    "patchedcell_mapping = forge.mapping(\"PatchedCell\", DATA_SOURCE)"
   ]
  },
  {
   "cell_type": "code",
   "execution_count": null,
   "metadata": {},
   "outputs": [],
   "source": [
    "print(patchedcell_mapping)"
   ]
  },
  {
   "cell_type": "code",
   "execution_count": null,
   "metadata": {},
   "outputs": [],
   "source": [
    "neuronmorphology_mapping = forge.mapping(\"NeuronMorphology\", DATA_SOURCE)"
   ]
  },
  {
   "cell_type": "code",
   "execution_count": null,
   "metadata": {},
   "outputs": [],
   "source": [
    "print(neuronmorphology_mapping)"
   ]
  },
  {
   "cell_type": "code",
   "execution_count": null,
   "metadata": {},
   "outputs": [],
   "source": [
    "mappings = [subject_mapping, patchedcell_mapping, neuronmorphology_mapping]"
   ]
  },
  {
   "cell_type": "code",
   "execution_count": null,
   "metadata": {
    "ExecuteTime": {
     "end_time": "2019-09-12T12:34:12.223316Z",
     "start_time": "2019-09-12T12:34:12.209983Z"
    },
    "scrolled": true
   },
   "outputs": [],
   "source": [
    "resources = forge.map(human_cell_metadata, mappings)"
   ]
  },
  {
   "cell_type": "markdown",
   "metadata": {},
   "source": [
    "### Verify the created entities from Allen conform to the Blue Brain Knowledge Graph Schema"
   ]
  },
  {
   "cell_type": "code",
   "execution_count": null,
   "metadata": {
    "ExecuteTime": {
     "end_time": "2019-09-12T12:34:12.237181Z",
     "start_time": "2019-09-12T12:34:12.229573Z"
    }
   },
   "outputs": [],
   "source": [
    "forge.validate(resources)"
   ]
  },
  {
   "cell_type": "markdown",
   "metadata": {},
   "source": [
    "### Add the created entities from Allen to the Blue Brain Knowledge Graph"
   ]
  },
  {
   "cell_type": "code",
   "execution_count": null,
   "metadata": {
    "ExecuteTime": {
     "end_time": "2019-09-12T12:34:12.248767Z",
     "start_time": "2019-09-12T12:34:12.243465Z"
    }
   },
   "outputs": [],
   "source": [
    "forge.register(resources)"
   ]
  },
  {
   "cell_type": "markdown",
   "metadata": {},
   "source": [
    "---"
   ]
  },
  {
   "cell_type": "markdown",
   "metadata": {},
   "source": [
    "## B - Data Exploration"
   ]
  },
  {
   "cell_type": "code",
   "execution_count": null,
   "metadata": {
    "ExecuteTime": {
     "end_time": "2019-09-12T12:34:12.400246Z",
     "start_time": "2019-09-12T12:34:12.396228Z"
    }
   },
   "outputs": [],
   "source": [
    "# p = forge.paths(\"NeuronMorphology\")\n",
    "p = forge.paths(\"ReconstructedPatchedCell\")"
   ]
  },
  {
   "cell_type": "markdown",
   "metadata": {},
   "source": [
    "### Discover which neuron morphologies are already in the Blue Brain Knowledge Graph"
   ]
  },
  {
   "cell_type": "code",
   "execution_count": null,
   "metadata": {
    "ExecuteTime": {
     "end_time": "2019-09-12T12:34:12.417097Z",
     "start_time": "2019-09-12T12:34:12.402269Z"
    }
   },
   "outputs": [],
   "source": [
    "# results = forge.search(p.type == \"NeuronMorphology\")\n",
    "results = forge.search(p.type == \"ReconstructedPatchedCell\")"
   ]
  },
  {
   "cell_type": "code",
   "execution_count": null,
   "metadata": {},
   "outputs": [],
   "source": [
    "len(results)"
   ]
  },
  {
   "cell_type": "code",
   "execution_count": null,
   "metadata": {},
   "outputs": [],
   "source": [
    "DISPLAY_LIMIT = 25"
   ]
  },
  {
   "cell_type": "code",
   "execution_count": null,
   "metadata": {},
   "outputs": [],
   "source": [
    "forge.as_dataframe(results[:DISPLAY_LIMIT])"
   ]
  },
  {
   "cell_type": "markdown",
   "metadata": {},
   "source": [
    "### Select neuron morphologies in the cortical layer V and with intact apical dendrites"
   ]
  },
  {
   "cell_type": "code",
   "execution_count": null,
   "metadata": {
    "ExecuteTime": {
     "end_time": "2019-09-13T12:17:03.862921Z",
     "start_time": "2019-09-13T12:17:03.845456Z"
    }
   },
   "outputs": [],
   "source": [
    "neuronmorphologies = forge.search(p.type == \"NeuronMorphology\",\n",
    "                                  p.brainLocation.layer.label == \"5\",\n",
    "                                  p.apicalDendrite == \"intact\")"
   ]
  },
  {
   "cell_type": "code",
   "execution_count": null,
   "metadata": {},
   "outputs": [],
   "source": [
    "len(neuronmorphologies)"
   ]
  },
  {
   "cell_type": "code",
   "execution_count": null,
   "metadata": {},
   "outputs": [],
   "source": [
    "forge.as_dataframe(neuronmorphologies[:DISPLAY_LIMIT])"
   ]
  },
  {
   "cell_type": "markdown",
   "metadata": {},
   "source": [
    "### Regroup as a dataset a selection of neuron morphologies from the Blue Brain Knowledge Graph"
   ]
  },
  {
   "cell_type": "code",
   "execution_count": null,
   "metadata": {},
   "outputs": [],
   "source": [
    "from uuid import uuid4"
   ]
  },
  {
   "cell_type": "code",
   "execution_count": null,
   "metadata": {},
   "outputs": [],
   "source": [
    "DATASET_ID = forge.format(\"identifier\", \"datasets\", str(uuid4()))"
   ]
  },
  {
   "cell_type": "code",
   "execution_count": null,
   "metadata": {
    "ExecuteTime": {
     "end_time": "2019-09-12T12:34:19.613340Z",
     "start_time": "2019-09-12T12:34:19.605146Z"
    }
   },
   "outputs": [],
   "source": [
    "# FIXME According to Neuroshapes on 09.08.2019, 'subject', 'brainLocation' are also required.\n",
    "# FIXME Property 'hasPart' is not part of the Dataset shape at the moment (09.08.2019).\n",
    "dataset = Dataset(forge,\n",
    "                  id=DATASET_ID,\n",
    "                  type=[\"Dataset\", \"NeuronMorphology\"],\n",
    "                  name=\"All layer 5 morphologies with intact apical dendrites\",\n",
    "                  description=\"Neuron morphologies to be used for Topological Morphology Descriptor analysis\")"
   ]
  },
  {
   "cell_type": "code",
   "execution_count": null,
   "metadata": {},
   "outputs": [],
   "source": [
    "CONTRIBUTOR_NAME = \"Jane Doe\""
   ]
  },
  {
   "cell_type": "code",
   "execution_count": null,
   "metadata": {},
   "outputs": [],
   "source": [
    "agent = forge.resolve(CONTRIBUTOR_NAME, scope=\"entities\", target=\"agents\", type=\"Person\")"
   ]
  },
  {
   "cell_type": "code",
   "execution_count": null,
   "metadata": {},
   "outputs": [],
   "source": [
    "AGENT_ID = agent.id"
   ]
  },
  {
   "cell_type": "code",
   "execution_count": null,
   "metadata": {},
   "outputs": [],
   "source": [
    "dataset.add_contribution(AGENT_ID)"
   ]
  },
  {
   "cell_type": "code",
   "execution_count": null,
   "metadata": {},
   "outputs": [],
   "source": [
    "dataset.add_parts(neuronmorphologies)"
   ]
  },
  {
   "cell_type": "code",
   "execution_count": null,
   "metadata": {
    "ExecuteTime": {
     "end_time": "2019-09-12T12:34:19.842914Z",
     "start_time": "2019-09-12T12:34:19.830081Z"
    }
   },
   "outputs": [],
   "source": [
    "forge.register(dataset)"
   ]
  },
  {
   "cell_type": "markdown",
   "metadata": {},
   "source": [
    "### Give the first revision of the dataset a human-friendly name"
   ]
  },
  {
   "cell_type": "code",
   "execution_count": null,
   "metadata": {},
   "outputs": [],
   "source": [
    "VERSION_NAME = \"v2019-08-20\""
   ]
  },
  {
   "cell_type": "code",
   "execution_count": null,
   "metadata": {
    "ExecuteTime": {
     "end_time": "2019-09-12T12:34:20.594568Z",
     "start_time": "2019-09-12T12:34:20.584629Z"
    }
   },
   "outputs": [],
   "source": [
    "forge.tag(dataset, VERSION_NAME)"
   ]
  },
  {
   "cell_type": "markdown",
   "metadata": {},
   "source": [
    "---"
   ]
  },
  {
   "cell_type": "markdown",
   "metadata": {},
   "source": [
    "## C - Data Analytics"
   ]
  },
  {
   "cell_type": "code",
   "execution_count": null,
   "metadata": {},
   "outputs": [],
   "source": [
    "import tmd"
   ]
  },
  {
   "cell_type": "code",
   "execution_count": null,
   "metadata": {},
   "outputs": [],
   "source": [
    "from tmd.view import plot"
   ]
  },
  {
   "cell_type": "markdown",
   "metadata": {},
   "source": [
    "### Retrieve a specific dataset at a given version from the Blue Brain Knowledge Graph"
   ]
  },
  {
   "cell_type": "code",
   "execution_count": null,
   "metadata": {
    "ExecuteTime": {
     "end_time": "2019-09-12T12:34:24.492795Z",
     "start_time": "2019-09-12T12:34:24.487964Z"
    }
   },
   "outputs": [],
   "source": [
    "dataset = forge.retrieve(id=DATASET_ID, version=VERSION_NAME)"
   ]
  },
  {
   "cell_type": "markdown",
   "metadata": {},
   "source": [
    "### Download the reconstruction files of the neuron morphologies of the dataset"
   ]
  },
  {
   "cell_type": "code",
   "execution_count": null,
   "metadata": {},
   "outputs": [],
   "source": [
    "DOWNLOAD_DIR = f\"./reconstructions_{VERSION_NAME}/\""
   ]
  },
  {
   "cell_type": "code",
   "execution_count": null,
   "metadata": {
    "ExecuteTime": {
     "end_time": "2019-09-12T12:34:24.935026Z",
     "start_time": "2019-09-12T12:34:24.927195Z"
    }
   },
   "outputs": [],
   "source": [
    "dataset.download(\"parts\", DOWNLOAD_DIR)"
   ]
  },
  {
   "cell_type": "markdown",
   "metadata": {},
   "source": [
    "### Perform a topological analysis of the neuron morphologies from the dataset"
   ]
  },
  {
   "cell_type": "code",
   "execution_count": null,
   "metadata": {
    "ExecuteTime": {
     "end_time": "2019-09-12T12:35:03.794751Z",
     "start_time": "2019-09-12T12:35:03.786528Z"
    }
   },
   "outputs": [],
   "source": [
    "pop = tmd.io.load_population(DOWNLOAD_DIR)"
   ]
  },
  {
   "cell_type": "code",
   "execution_count": null,
   "metadata": {
    "ExecuteTime": {
     "end_time": "2019-09-12T12:35:04.240094Z",
     "start_time": "2019-09-12T12:35:04.235493Z"
    }
   },
   "outputs": [],
   "source": [
    "phs = [tmd.methods.get_persistence_diagram(x.apical[0]) for x in pop.neurons]"
   ]
  },
  {
   "cell_type": "code",
   "execution_count": null,
   "metadata": {
    "ExecuteTime": {
     "end_time": "2019-09-12T12:35:04.625128Z",
     "start_time": "2019-09-12T12:35:04.619465Z"
    }
   },
   "outputs": [],
   "source": [
    "phs_flattened = tmd.analysis.collapse(phs)"
   ]
  },
  {
   "cell_type": "markdown",
   "metadata": {},
   "source": [
    "#### Visualize the persistence diagram"
   ]
  },
  {
   "cell_type": "code",
   "execution_count": null,
   "metadata": {
    "ExecuteTime": {
     "end_time": "2019-09-12T12:35:06.019167Z",
     "start_time": "2019-09-12T12:35:05.801461Z"
    }
   },
   "outputs": [],
   "source": [
    "plot.diagram(phs_flattened)"
   ]
  },
  {
   "cell_type": "markdown",
   "metadata": {},
   "source": [
    "#### Visualize the persistence barcode"
   ]
  },
  {
   "cell_type": "code",
   "execution_count": null,
   "metadata": {
    "ExecuteTime": {
     "end_time": "2019-09-12T12:35:09.434827Z",
     "start_time": "2019-09-12T12:35:09.207960Z"
    }
   },
   "outputs": [],
   "source": [
    "plot.barcode(phs_flattened)"
   ]
  },
  {
   "cell_type": "markdown",
   "metadata": {},
   "source": [
    "#### Visualize and save the persistence image"
   ]
  },
  {
   "cell_type": "code",
   "execution_count": null,
   "metadata": {},
   "outputs": [],
   "source": [
    "ANALYSIS_DIR = \"analysis\""
   ]
  },
  {
   "cell_type": "code",
   "execution_count": null,
   "metadata": {},
   "outputs": [],
   "source": [
    "ANALYSIS_FILENAME = \"persistence_image\""
   ]
  },
  {
   "cell_type": "code",
   "execution_count": null,
   "metadata": {
    "ExecuteTime": {
     "end_time": "2019-09-12T12:35:11.825463Z",
     "start_time": "2019-09-12T12:35:11.801555Z"
    }
   },
   "outputs": [],
   "source": [
    "plot.persistence_image(phs_flattened, output_path=ANALYSIS_DIR, output_name=ANALYSIS_FILENAME)"
   ]
  },
  {
   "cell_type": "markdown",
   "metadata": {},
   "source": [
    "### Register the analysis result with its provenance into the Blue Brain Knwoledge Graph"
   ]
  },
  {
   "cell_type": "code",
   "execution_count": null,
   "metadata": {
    "ExecuteTime": {
     "end_time": "2019-09-12T12:36:11.422151Z",
     "start_time": "2019-09-12T12:36:11.410665Z"
    }
   },
   "outputs": [],
   "source": [
    "# FIXME According to Neuroshapes on 09.08.2019, 'used' (2 times) and 'generated' are also required.\n",
    "analysis = Dataset(forge, type=[\"Dataset\", \"Analysis\"], name=\"Persistence image\")"
   ]
  },
  {
   "cell_type": "code",
   "execution_count": null,
   "metadata": {},
   "outputs": [],
   "source": [
    "analysis.add_contribution(AGENT_ID)"
   ]
  },
  {
   "cell_type": "code",
   "execution_count": null,
   "metadata": {},
   "outputs": [],
   "source": [
    "analysis.add_derivation(dataset)"
   ]
  },
  {
   "cell_type": "code",
   "execution_count": null,
   "metadata": {},
   "outputs": [],
   "source": [
    "analysis.add_distribution(f\"./{ANALYSIS_DIR}/{ANALYSIS_FILENAME}\")"
   ]
  },
  {
   "cell_type": "code",
   "execution_count": null,
   "metadata": {
    "ExecuteTime": {
     "end_time": "2019-09-12T12:36:46.926500Z",
     "start_time": "2019-09-12T12:36:46.916439Z"
    }
   },
   "outputs": [],
   "source": [
    "forge.register(analysis)"
   ]
  },
  {
   "cell_type": "code",
   "execution_count": null,
   "metadata": {},
   "outputs": [],
   "source": []
  }
 ],
 "metadata": {
  "colab": {
   "collapsed_sections": [],
   "name": "Step by step jupyter notebook for bringing data to Nexus v1.ipynb",
   "provenance": [],
   "version": "0.3.2"
  },
  "kernelspec": {
   "display_name": "Python [conda env:kgforge37]",
   "language": "python",
   "name": "conda-env-kgforge37-py"
  },
  "language_info": {
   "codemirror_mode": {
    "name": "ipython",
    "version": 3
   },
   "file_extension": ".py",
   "mimetype": "text/x-python",
   "name": "python",
   "nbconvert_exporter": "python",
   "pygments_lexer": "ipython3",
   "version": "3.7.5"
  },
  "varInspector": {
   "cols": {
    "lenName": 16,
    "lenType": 16,
    "lenVar": 40
   },
   "kernels_config": {
    "python": {
     "delete_cmd_postfix": "",
     "delete_cmd_prefix": "del ",
     "library": "var_list.py",
     "varRefreshCmd": "print(var_dic_list())"
    },
    "r": {
     "delete_cmd_postfix": ") ",
     "delete_cmd_prefix": "rm(",
     "library": "var_list.r",
     "varRefreshCmd": "cat(var_dic_list()) "
    }
   },
   "types_to_exclude": [
    "module",
    "function",
    "builtin_function_or_method",
    "instance",
    "_Feature"
   ],
   "window_display": false
  }
 },
 "nbformat": 4,
 "nbformat_minor": 4
}

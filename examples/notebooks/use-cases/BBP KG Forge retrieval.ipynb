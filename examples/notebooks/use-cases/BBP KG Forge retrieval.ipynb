{
 "cells": [
  {
   "cell_type": "code",
   "execution_count": 12,
   "id": "2c4aec45-da10-4b11-8469-b0e62f8a0c31",
   "metadata": {},
   "outputs": [],
   "source": [
    "from kgforge.core import KnowledgeGraphForge"
   ]
  },
  {
   "cell_type": "code",
   "execution_count": 13,
   "id": "0ac8879d-b05b-482c-94b6-e46437291854",
   "metadata": {},
   "outputs": [],
   "source": [
    "import getpass\n",
    "TOKEN = getpass.getpass()"
   ]
  },
  {
   "cell_type": "code",
   "execution_count": 14,
   "id": "eb70f64b-7ca2-4c71-a725-87cfd7ce2e1d",
   "metadata": {},
   "outputs": [],
   "source": [
    "BUCKET = \"dke/kgforge\"\n",
    "\n",
    "forge = KnowledgeGraphForge(\n",
    "    \"../use-cases/prod-forge-nexus.yml\",\n",
    "    bucket=BUCKET,\n",
    "    token=TOKEN\n",
    ")"
   ]
  },
  {
   "cell_type": "code",
   "execution_count": 15,
   "id": "826d1183-6898-4977-b7ee-9518e4095fef",
   "metadata": {},
   "outputs": [
    {
     "name": "stdout",
     "output_type": "stream",
     "text": [
      "Execution 0 id same bucket Cross bucket True Retrieve source True\n",
      "rev 3\n",
      "______________________\n",
      "Execution 1 self same bucket Cross bucket True Retrieve source True\n",
      "rev 3\n",
      "______________________\n",
      "Execution 2 id other bucket Cross bucket True Retrieve source True\n",
      "rev 3\n",
      "______________________\n",
      "Execution 3 self other bucket Cross bucket True Retrieve source True\n",
      "rev 3\n",
      "______________________\n",
      "Execution 4 id same bucket Cross bucket False Retrieve source True\n",
      "rev 3\n",
      "______________________\n",
      "Execution 5 self same bucket Cross bucket False Retrieve source True\n",
      "rev 3\n",
      "______________________\n",
      "Execution 6 id other bucket Cross bucket False Retrieve source True\n",
      "<action> catch_http_error\n",
      "<error> RetrievalError: resource 'http://purl.obolibrary.org/obo/GO_0038048' not found in project 'dke/kgforge'\n",
      "\n",
      "Not found\n",
      "______________________\n",
      "Execution 7 self other bucket Cross bucket False Retrieve source True\n",
      "<action> retrieve\n",
      "<error> RetrievalError: Provided resource identifier https://bbp.epfl.ch/nexus/v1/resources/neurosciencegraph/datamodels/_/http:%2F%2Fpurl.obolibrary.org%2Fobo%2FGO_0038048 is not inside the current bucket, use cross_bucket=True to be able to retrieve it\n",
      "\n",
      "Not found\n",
      "______________________\n",
      "Execution 8 id same bucket Cross bucket True Retrieve source False\n",
      "rev 3\n",
      "______________________\n",
      "Execution 9 self same bucket Cross bucket True Retrieve source False\n",
      "rev 3\n",
      "______________________\n",
      "Execution 10 id other bucket Cross bucket True Retrieve source False\n",
      "rev 3\n",
      "______________________\n",
      "Execution 11 self other bucket Cross bucket True Retrieve source False\n",
      "rev 3\n",
      "______________________\n",
      "Execution 12 id same bucket Cross bucket False Retrieve source False\n",
      "rev 3\n",
      "______________________\n",
      "Execution 13 self same bucket Cross bucket False Retrieve source False\n",
      "rev 3\n",
      "______________________\n",
      "Execution 14 id other bucket Cross bucket False Retrieve source False\n",
      "<action> catch_http_error\n",
      "<error> RetrievalError: 404 Client Error: Not Found for url: https://bbp.epfl.ch/nexus/v1/resources/dke/kgforge/_/http%3A%2F%2Fpurl.obolibrary.org%2Fobo%2FGO_0038048\n",
      "\n",
      "Not found\n",
      "______________________\n",
      "Execution 15 self other bucket Cross bucket False Retrieve source False\n",
      "<action> retrieve\n",
      "<error> RetrievalError: Provided resource identifier https://bbp.epfl.ch/nexus/v1/resources/neurosciencegraph/datamodels/_/http:%2F%2Fpurl.obolibrary.org%2Fobo%2FGO_0038048 is not inside the current bucket, use cross_bucket=True to be able to retrieve it\n",
      "\n",
      "Not found\n",
      "______________________\n"
     ]
    }
   ],
   "source": [
    "id_ = \"https://bbp.epfl.ch/nexus/v1/resources/dke/kgforge/_/20fbc97a-fb26-43ff-8093-9136aab25dff\"\n",
    "self_ = \"https://bbp.epfl.ch/nexus/v1/resources/dke/kgforge/_/https:%2F%2Fbbp.epfl.ch%2Fnexus%2Fv1%2Fresources%2Fdke%2Fkgforge%2F_%2F20fbc97a-fb26-43ff-8093-9136aab25dff\"\n",
    "\n",
    "id_other_bucket = \"http://purl.obolibrary.org/obo/GO_0038048\"\n",
    "self_other_bucket = \"https://bbp.epfl.ch/nexus/v1/resources/neurosciencegraph/datamodels/_/http:%2F%2Fpurl.obolibrary.org%2Fobo%2FGO_0038048\"\n",
    "\n",
    "all_ret = [\n",
    "    (id_, \"id\", \"same bucket\"), \n",
    "    (self_, \"self\", \"same bucket\"), \n",
    "    (id_other_bucket, \"id\", \"other bucket\"),\n",
    "    (self_other_bucket, \"self\", \"other bucket\"),\n",
    "]\n",
    "\n",
    "i = 0\n",
    "\n",
    "for rs in [True, False]:\n",
    "    for cb in [True, False]:\n",
    "        for (el, type_, loc) in all_ret:\n",
    "\n",
    "            print(f\"Execution {i}\", type_, loc, \"Cross bucket\", cb, \"Retrieve source\", rs)\n",
    "\n",
    "            e = forge.retrieve(el, cross_bucket=cb, retrieve_source=rs)\n",
    "\n",
    "            if not e:\n",
    "                print(\"Not found\")\n",
    "            else:\n",
    "                print(\"rev\", e._store_metadata._rev)\n",
    "            print(\"______________________\")\n",
    "            i += 1\n"
   ]
  }
 ],
 "metadata": {
  "kernelspec": {
   "name": "venv",
   "language": "python",
   "display_name": "forge_venv2"
  },
  "language_info": {
   "codemirror_mode": {
    "name": "ipython",
    "version": 3
   },
   "file_extension": ".py",
   "mimetype": "text/x-python",
   "name": "python",
   "nbconvert_exporter": "python",
   "pygments_lexer": "ipython3",
   "version": "3.11.4"
  }
 },
 "nbformat": 4,
 "nbformat_minor": 5
}

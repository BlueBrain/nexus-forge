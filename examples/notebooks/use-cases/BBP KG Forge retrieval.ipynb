{
 "cells": [
  {
   "cell_type": "code",
   "execution_count": 28,
   "id": "2c4aec45-da10-4b11-8469-b0e62f8a0c31",
   "metadata": {},
   "outputs": [],
   "source": [
    "from kgforge.core import KnowledgeGraphForge, Resource"
   ]
  },
  {
   "cell_type": "code",
   "execution_count": 29,
   "id": "0ac8879d-b05b-482c-94b6-e46437291854",
   "metadata": {},
   "outputs": [
    {
     "name": "stdin",
     "output_type": "stream",
     "text": [
      " ········\n"
     ]
    }
   ],
   "source": [
    "import getpass\n",
    "TOKEN = getpass.getpass()"
   ]
  },
  {
   "cell_type": "code",
   "execution_count": 30,
   "id": "eb70f64b-7ca2-4c71-a725-87cfd7ce2e1d",
   "metadata": {},
   "outputs": [],
   "source": [
    "BUCKET = \"dke/kgforge\"\n",
    "\n",
    "forge = KnowledgeGraphForge(\n",
    "    \"../use-cases/prod-forge-nexus.yml\",\n",
    "    bucket=BUCKET,\n",
    "    token=TOKEN\n",
    ")"
   ]
  },
  {
   "cell_type": "markdown",
   "id": "c0ea94f6-b66d-4761-909e-a508f61b72ee",
   "metadata": {},
   "source": [
    "Show-cases options for retrieval.\n",
    "- The identifiers used are\n",
    "    - An `id` from the bucket of the configured forge instance\n",
    "    - A `_self` from the bucket of the configured forge instance\n",
    "    - An id from a bucket other than the one of the configured forge instance\n",
    "    - A `_self` from a bucket other than the one of the configured forge instance\n",
    "- For either `retrieve_source = True` or `retrieve_source = False`\n",
    "- For `cross_bucket = True` or `cross_bucket = False`\n",
    "\n",
    "We expect that the following calls with fail:\n",
    "- An `id` from a bucket other than the one of the configured forge instance, with `cross_bucket = False`, with `retrieve_source = True` or `retrieve_source = False`\n",
    "- An `_self` from a bucket other than the one of the configured forge instance, with `cross_bucket = False`, with `retrieve_source = True` or `retrieve_source = False`\n",
    "\n",
    "In the case of the usage of `_self`, it is more clear that user input is the issue because the `_self` holds the bucket where the resource that is attempted to be retrieved is located.\n",
    "In the case of the usage of `id`, it is not possible to provide a meaningful error as to why the `id` could not be found in the forge instance's configured bucket. "
   ]
  },
  {
   "cell_type": "code",
   "execution_count": 31,
   "id": "826d1183-6898-4977-b7ee-9518e4095fef",
   "metadata": {},
   "outputs": [
    {
     "name": "stdout",
     "output_type": "stream",
     "text": [
      "Execution 0  using:  id inside:  same bucket  - Cross bucket: True  - Retrieve source: True\n",
      "https://bbp.epfl.ch/nexus/v1/resources/dke/kgforge/_/20fbc97a-fb26-43ff-8093-9136aab25dff\n",
      "rev 3 https://bbp.neuroshapes.org https://bbp.epfl.ch/nexus/v1/resources/dke/kgforge/_/20fbc97a-fb26-43ff-8093-9136aab25dff\n",
      "______________________\n",
      "Execution 1  using:  self inside:  same bucket  - Cross bucket: True  - Retrieve source: True\n",
      "https://bbp.epfl.ch/nexus/v1/resources/dke/kgforge/_/https:%2F%2Fbbp.epfl.ch%2Fnexus%2Fv1%2Fresources%2Fdke%2Fkgforge%2F_%2F20fbc97a-fb26-43ff-8093-9136aab25dff\n",
      "rev 3 https://bbp.neuroshapes.org https://bbp.epfl.ch/nexus/v1/resources/dke/kgforge/_/20fbc97a-fb26-43ff-8093-9136aab25dff\n",
      "______________________\n",
      "Execution 2  using:  id inside:  other bucket  - Cross bucket: True  - Retrieve source: True\n",
      "http://purl.obolibrary.org/obo/GO_0038048\n",
      "rev 3 https://bbp.neuroshapes.org http://purl.obolibrary.org/obo/GO_0038048\n",
      "______________________\n",
      "Execution 3  using:  self inside:  other bucket  - Cross bucket: True  - Retrieve source: True\n",
      "https://bbp.epfl.ch/nexus/v1/resources/neurosciencegraph/datamodels/_/http:%2F%2Fpurl.obolibrary.org%2Fobo%2FGO_0038048\n",
      "rev 3 https://bbp.neuroshapes.org http://purl.obolibrary.org/obo/GO_0038048\n",
      "______________________\n",
      "Execution 4  using:  id inside:  same bucket  - Cross bucket: False  - Retrieve source: True\n",
      "https://bbp.epfl.ch/nexus/v1/resources/dke/kgforge/_/20fbc97a-fb26-43ff-8093-9136aab25dff\n",
      "rev 3 https://bbp.neuroshapes.org https://bbp.epfl.ch/nexus/v1/resources/dke/kgforge/_/20fbc97a-fb26-43ff-8093-9136aab25dff\n",
      "______________________\n",
      "Execution 5  using:  self inside:  same bucket  - Cross bucket: False  - Retrieve source: True\n",
      "https://bbp.epfl.ch/nexus/v1/resources/dke/kgforge/_/https:%2F%2Fbbp.epfl.ch%2Fnexus%2Fv1%2Fresources%2Fdke%2Fkgforge%2F_%2F20fbc97a-fb26-43ff-8093-9136aab25dff\n",
      "rev 3 https://bbp.neuroshapes.org https://bbp.epfl.ch/nexus/v1/resources/dke/kgforge/_/20fbc97a-fb26-43ff-8093-9136aab25dff\n",
      "______________________\n",
      "Execution 6  using:  id inside:  other bucket  - Cross bucket: False  - Retrieve source: True\n",
      "http://purl.obolibrary.org/obo/GO_0038048\n",
      "<action> catch_http_error\n",
      "<error> RetrievalError: 404, message='Not Found', url=URL('https://bbp.epfl.ch/nexus/v1/resources/dke/kgforge/_/http:%2F%2Fpurl.obolibrary.org%2Fobo%2FGO_0038048')\n",
      "\n",
      "Not found\n",
      "______________________\n",
      "Execution 7  using:  self inside:  other bucket  - Cross bucket: False  - Retrieve source: True\n",
      "https://bbp.epfl.ch/nexus/v1/resources/neurosciencegraph/datamodels/_/http:%2F%2Fpurl.obolibrary.org%2Fobo%2FGO_0038048\n",
      "<action> _retrieve\n",
      "<error> RetrievalError: Provided resource identifier https://bbp.epfl.ch/nexus/v1/resources/neurosciencegraph/datamodels/_/http:%2F%2Fpurl.obolibrary.org%2Fobo%2FGO_0038048 is not inside the current bucket, use cross_bucket=True to be able to retrieve it\n",
      "\n",
      "Not found\n",
      "______________________\n",
      "Execution 8  using:  id inside:  same bucket  - Cross bucket: True  - Retrieve source: False\n",
      "https://bbp.epfl.ch/nexus/v1/resources/dke/kgforge/_/20fbc97a-fb26-43ff-8093-9136aab25dff\n",
      "rev 3 https://bbp.neuroshapes.org https://bbp.epfl.ch/nexus/v1/resources/dke/kgforge/_/20fbc97a-fb26-43ff-8093-9136aab25dff\n",
      "______________________\n",
      "Execution 9  using:  self inside:  same bucket  - Cross bucket: True  - Retrieve source: False\n",
      "https://bbp.epfl.ch/nexus/v1/resources/dke/kgforge/_/https:%2F%2Fbbp.epfl.ch%2Fnexus%2Fv1%2Fresources%2Fdke%2Fkgforge%2F_%2F20fbc97a-fb26-43ff-8093-9136aab25dff\n",
      "rev 3 https://bbp.neuroshapes.org https://bbp.epfl.ch/nexus/v1/resources/dke/kgforge/_/20fbc97a-fb26-43ff-8093-9136aab25dff\n",
      "______________________\n",
      "Execution 10  using:  id inside:  other bucket  - Cross bucket: True  - Retrieve source: False\n",
      "http://purl.obolibrary.org/obo/GO_0038048\n",
      "rev 3 https://bbp.neuroshapes.org GO:0038048\n",
      "______________________\n",
      "Execution 11  using:  self inside:  other bucket  - Cross bucket: True  - Retrieve source: False\n",
      "https://bbp.epfl.ch/nexus/v1/resources/neurosciencegraph/datamodels/_/http:%2F%2Fpurl.obolibrary.org%2Fobo%2FGO_0038048\n",
      "rev 3 https://bbp.neuroshapes.org GO:0038048\n",
      "______________________\n",
      "Execution 12  using:  id inside:  same bucket  - Cross bucket: False  - Retrieve source: False\n",
      "https://bbp.epfl.ch/nexus/v1/resources/dke/kgforge/_/20fbc97a-fb26-43ff-8093-9136aab25dff\n",
      "rev 3 https://bbp.neuroshapes.org https://bbp.epfl.ch/nexus/v1/resources/dke/kgforge/_/20fbc97a-fb26-43ff-8093-9136aab25dff\n",
      "______________________\n",
      "Execution 13  using:  self inside:  same bucket  - Cross bucket: False  - Retrieve source: False\n",
      "https://bbp.epfl.ch/nexus/v1/resources/dke/kgforge/_/https:%2F%2Fbbp.epfl.ch%2Fnexus%2Fv1%2Fresources%2Fdke%2Fkgforge%2F_%2F20fbc97a-fb26-43ff-8093-9136aab25dff\n",
      "rev 3 https://bbp.neuroshapes.org https://bbp.epfl.ch/nexus/v1/resources/dke/kgforge/_/20fbc97a-fb26-43ff-8093-9136aab25dff\n",
      "______________________\n",
      "Execution 14  using:  id inside:  other bucket  - Cross bucket: False  - Retrieve source: False\n",
      "http://purl.obolibrary.org/obo/GO_0038048\n",
      "<action> catch_http_error\n",
      "<error> RetrievalError: 404, message='Not Found', url=URL('https://bbp.epfl.ch/nexus/v1/resources/dke/kgforge/_/http:%2F%2Fpurl.obolibrary.org%2Fobo%2FGO_0038048')\n",
      "\n",
      "Not found\n",
      "______________________\n",
      "Execution 15  using:  self inside:  other bucket  - Cross bucket: False  - Retrieve source: False\n",
      "https://bbp.epfl.ch/nexus/v1/resources/neurosciencegraph/datamodels/_/http:%2F%2Fpurl.obolibrary.org%2Fobo%2FGO_0038048\n",
      "<action> _retrieve\n",
      "<error> RetrievalError: Provided resource identifier https://bbp.epfl.ch/nexus/v1/resources/neurosciencegraph/datamodels/_/http:%2F%2Fpurl.obolibrary.org%2Fobo%2FGO_0038048 is not inside the current bucket, use cross_bucket=True to be able to retrieve it\n",
      "\n",
      "Not found\n",
      "______________________\n"
     ]
    }
   ],
   "source": [
    "id_ = \"https://bbp.epfl.ch/nexus/v1/resources/dke/kgforge/_/20fbc97a-fb26-43ff-8093-9136aab25dff\"\n",
    "self_ = \"https://bbp.epfl.ch/nexus/v1/resources/dke/kgforge/_/https:%2F%2Fbbp.epfl.ch%2Fnexus%2Fv1%2Fresources%2Fdke%2Fkgforge%2F_%2F20fbc97a-fb26-43ff-8093-9136aab25dff\"\n",
    "\n",
    "id_other_bucket = \"http://purl.obolibrary.org/obo/GO_0038048\"\n",
    "self_other_bucket = \"https://bbp.epfl.ch/nexus/v1/resources/neurosciencegraph/datamodels/_/http:%2F%2Fpurl.obolibrary.org%2Fobo%2FGO_0038048\"\n",
    "\n",
    "all_ret = [\n",
    "    (id_, \"id\", \"same bucket\"), \n",
    "    (self_, \"self\", \"same bucket\"), \n",
    "    (id_other_bucket, \"id\", \"other bucket\"),\n",
    "    (self_other_bucket, \"self\", \"other bucket\"),\n",
    "]\n",
    "\n",
    "i = 0\n",
    "\n",
    "for rs in [True, False]:\n",
    "    for cb in [True, False]:\n",
    "        for (el, type_, loc) in all_ret:\n",
    "\n",
    "            print(f\"Execution {i}\", \" using: \", type_, \"inside: \", loc, \" - Cross bucket:\", cb, \" - Retrieve source:\", rs)\n",
    "\n",
    "            print(el)\n",
    "            e = forge.retrieve(el, cross_bucket=cb, retrieve_source=rs)\n",
    "\n",
    "            if not e:\n",
    "                print(\"Not found\")\n",
    "            else:\n",
    "                print(\"rev\", e._store_metadata._rev, e.context, e.id)\n",
    "            print(\"______________________\")\n",
    "            i += 1\n"
   ]
  },
  {
   "cell_type": "markdown",
   "id": "f1d89492-79a3-44c2-8304-4f40516c2832",
   "metadata": {},
   "source": [
    "# Batch Retrieval"
   ]
  },
  {
   "cell_type": "code",
   "execution_count": 32,
   "id": "039cb6c5-12c3-45ec-9dad-100d64969e85",
   "metadata": {},
   "outputs": [],
   "source": [
    "import pstats\n",
    "import cProfile\n",
    "import json"
   ]
  },
  {
   "cell_type": "code",
   "execution_count": 33,
   "id": "c28cdc68-895d-4aea-b56b-c1dff7d0168a",
   "metadata": {},
   "outputs": [],
   "source": [
    "entities = forge.search({\"type\": \"Entity\"})"
   ]
  },
  {
   "cell_type": "code",
   "execution_count": 34,
   "id": "078e8978-b949-49e3-a4ae-6fe4ef0b15a1",
   "metadata": {},
   "outputs": [
    {
     "name": "stdout",
     "output_type": "stream",
     "text": [
      "         5351677 function calls (5054656 primitive calls) in 1.886 seconds\n",
      "\n",
      "   Random listing order was used\n",
      "   List reduced from 684 to 1 due to restriction <1>\n",
      "\n",
      "   ncalls  tottime  percall  cumtime  percall filename:lineno(function)\n",
      "        2    0.000    0.000    0.000    0.000 <frozen importlib._bootstrap>:1017(_handle_fromlist)\n",
      "\n",
      "\n",
      "['https://bbp.epfl.ch/neurosciencegraph/data/neuronmorphologies/545eaa9a-be49-470f-b5bc-907fbee0cde6', 'https://bbp.epfl.ch/neurosciencegraph/data/neuronmorphologies/9842b6d6-4536-4f27-b2eb-ac2f9363f3f4', 'https://bbp.epfl.ch/neurosciencegraph/data/neuronmorphologies/75549784-55d3-4cec-8968-a00f2a07a2fd', 'https://bbp.epfl.ch/neurosciencegraph/data/neuronmorphologies/a8722f9e-a8a4-499a-b64c-3856ebfd01a6', 'https://bbp.epfl.ch/neurosciencegraph/data/neuronmorphologies/d0d38bab-5e01-4d8f-a98a-ccaca6f73b43', 'https://bbp.epfl.ch/neurosciencegraph/data/neuronmorphologies/085d634e-50fd-4fde-9372-6535b9090178', 'https://bbp.epfl.ch/nexus/v1/resources/dke/kgforge/_/dummy_resource_0', 'https://bbp.epfl.ch/nexus/v1/resources/dke/kgforge/_/dummy_resource_1', 'https://bbp.epfl.ch/nexus/v1/resources/dke/kgforge/_/dummy_resource_2', 'https://bbp.epfl.ch/nexus/v1/resources/dke/kgforge/_/dummy_resource_3', 'https://bbp.epfl.ch/nexus/v1/resources/dke/kgforge/_/dummy_resource_4', 'https://bbp.epfl.ch/nexus/v1/resources/dke/kgforge/_/dummy_resource_5', 'https://bbp.epfl.ch/nexus/v1/resources/dke/kgforge/_/dummy_resource_6', 'https://bbp.epfl.ch/nexus/v1/resources/dke/kgforge/_/dummy_resource_7', 'https://bbp.epfl.ch/nexus/v1/resources/dke/kgforge/_/dummy_resource_8', 'https://bbp.epfl.ch/nexus/v1/resources/dke/kgforge/_/dummy_resource_9', 'https://bbp.epfl.ch/data/dke/kgforge/237312a3-ebaf-4f1c-8443-b2be237d42d1', 'https://bbp.epfl.ch/nexus/v1/resources/dke/kgforge/_/test_resource_18_3', 'https://bbp.epfl.ch/nexus/v1/resources/dke/kgforge/_/test_resource_87_3', 'https://bbp.epfl.ch/nexus/v1/resources/dke/kgforge/_/test_resource_46_3', 'https://bbp.epfl.ch/nexus/v1/resources/dke/kgforge/_/test_resource_67_3', 'https://bbp.epfl.ch/nexus/v1/resources/dke/kgforge/_/test_resource_75_3', 'https://bbp.epfl.ch/nexus/v1/resources/dke/kgforge/_/test_resource_65_3', 'https://bbp.epfl.ch/nexus/v1/resources/dke/kgforge/_/test_resource_56_3', 'https://bbp.epfl.ch/nexus/v1/resources/dke/kgforge/_/test_resource_60_3', 'https://bbp.epfl.ch/nexus/v1/resources/dke/kgforge/_/test_resource_70_3', 'https://bbp.epfl.ch/nexus/v1/resources/dke/kgforge/_/test_resource_15_3', 'https://bbp.epfl.ch/nexus/v1/resources/dke/kgforge/_/test_resource_92_3', 'https://bbp.epfl.ch/nexus/v1/resources/dke/kgforge/_/test_resource_64_3', 'https://bbp.epfl.ch/nexus/v1/resources/dke/kgforge/_/test_resource_84_3', 'https://bbp.epfl.ch/nexus/v1/resources/dke/kgforge/_/test_resource_33_3', 'https://bbp.epfl.ch/nexus/v1/resources/dke/kgforge/_/test_resource_90_3', 'https://bbp.epfl.ch/nexus/v1/resources/dke/kgforge/_/test_resource_78_3', 'https://bbp.epfl.ch/nexus/v1/resources/dke/kgforge/_/test_resource_38_3', 'https://bbp.epfl.ch/nexus/v1/resources/dke/kgforge/_/test_resource_81_3', 'https://bbp.epfl.ch/nexus/v1/resources/dke/kgforge/_/test_resource_97_3', 'https://bbp.epfl.ch/nexus/v1/resources/dke/kgforge/_/test_resource_42_3', 'https://bbp.epfl.ch/nexus/v1/resources/dke/kgforge/_/test_resource_39_3', 'https://bbp.epfl.ch/nexus/v1/resources/dke/kgforge/_/test_resource_29_3', 'https://bbp.epfl.ch/nexus/v1/resources/dke/kgforge/_/test_resource_62_3', 'https://bbp.epfl.ch/nexus/v1/resources/dke/kgforge/_/test_resource_9_3', 'https://bbp.epfl.ch/nexus/v1/resources/dke/kgforge/_/test_resource_63_3', 'https://bbp.epfl.ch/nexus/v1/resources/dke/kgforge/_/test_resource_72_3', 'https://bbp.epfl.ch/nexus/v1/resources/dke/kgforge/_/test_resource_89_3', 'https://bbp.epfl.ch/nexus/v1/resources/dke/kgforge/_/test_resource_76_3', 'https://bbp.epfl.ch/nexus/v1/resources/dke/kgforge/_/test_resource_91_3', 'https://bbp.epfl.ch/nexus/v1/resources/dke/kgforge/_/test_resource_1_3', 'https://bbp.epfl.ch/nexus/v1/resources/dke/kgforge/_/test_resource_21_3', 'https://bbp.epfl.ch/nexus/v1/resources/dke/kgforge/_/test_resource_6_3', 'https://bbp.epfl.ch/nexus/v1/resources/dke/kgforge/_/test_resource_4_3', 'https://bbp.epfl.ch/nexus/v1/resources/dke/kgforge/_/test_resource_51_3', 'https://bbp.epfl.ch/nexus/v1/resources/dke/kgforge/_/test_resource_82_3', 'https://bbp.epfl.ch/nexus/v1/resources/dke/kgforge/_/test_resource_79_3', 'https://bbp.epfl.ch/nexus/v1/resources/dke/kgforge/_/test_resource_44_3', 'https://bbp.epfl.ch/nexus/v1/resources/dke/kgforge/_/test_resource_83_3', 'https://bbp.epfl.ch/nexus/v1/resources/dke/kgforge/_/test_resource_19_3', 'https://bbp.epfl.ch/nexus/v1/resources/dke/kgforge/_/test_resource_85_3', 'https://bbp.epfl.ch/nexus/v1/resources/dke/kgforge/_/test_resource_12_3', 'https://bbp.epfl.ch/nexus/v1/resources/dke/kgforge/_/test_resource_27_3', 'https://bbp.epfl.ch/nexus/v1/resources/dke/kgforge/_/test_resource_32_3', 'https://bbp.epfl.ch/nexus/v1/resources/dke/kgforge/_/test_resource_98_3', 'https://bbp.epfl.ch/nexus/v1/resources/dke/kgforge/_/test_resource_7_3', 'https://bbp.epfl.ch/neurosciencegraph/data/factsheets/5c835502-ed29-46ff-a07c-0913dbba6c70', 'https://bbp.epfl.ch/neurosciencegraph/data/factsheets/69c7f853-4407-4e6f-a9b2-840c8c1c3ea7', 'https://bbp.epfl.ch/neurosciencegraph/data/factsheets/17759807-5dbe-44c5-8f6e-ac6ef1ce1299', 'https://bbp.epfl.ch/neurosciencegraph/data/factsheets/8701d132-2ded-480d-b366-07a007c99684', 'https://bbp.epfl.ch/neurosciencegraph/data/factsheets/0acfd1e6-ebc6-4fe6-841d-fc8c02ac73c3', 'https://bbp.epfl.ch/neurosciencegraph/data/factsheets/49ed1888-7a87-40bb-b1f3-cde4bf5f3fc4', 'https://bbp.epfl.ch/neurosciencegraph/data/factsheets/9209b6b8-2b01-4fbd-a753-02eb1307ef9e', 'https://bbp.epfl.ch/neurosciencegraph/data/factsheets/fd3f1395-d270-4079-81b0-d293407fcce0', 'https://bbp.epfl.ch/neurosciencegraph/data/factsheets/914aa432-2fcc-4098-a8ec-5dada60149c3', 'https://bbp.epfl.ch/neurosciencegraph/data/factsheets/fe20e514-b234-419b-9443-8a103208e00e', 'https://bbp.epfl.ch/neurosciencegraph/data/factsheets/35296363-23cd-4157-8b64-122c83415d95', 'https://bbp.epfl.ch/neurosciencegraph/data/factsheets/002d787f-f36e-43a7-b9a9-8bf5e94202c2', 'https://bbp.epfl.ch/neurosciencegraph/data/factsheets/27832cd6-1b49-4db0-a6cc-058bbd2a04f2', 'https://bbp.epfl.ch/neurosciencegraph/data/factsheets/627eda77-fb81-41ed-80b6-10d6257f1d89', 'https://bbp.epfl.ch/neurosciencegraph/data/factsheets/4c1c40b7-89a2-4044-9614-e07a4bc9168d', 'https://bbp.epfl.ch/neurosciencegraph/data/factsheets/94176355-b290-41a0-a2e6-e298bf3d0176', 'https://bbp.epfl.ch/neurosciencegraph/data/neuronmorphologies/4a98e1d1-9bb6-4deb-98ec-0133dc342995', 'https://bbp.epfl.ch/neurosciencegraph/data/neuronmorphologies/b429dee5-1c35-4c2c-b475-bd5a4639e1f4', 'https://bbp.epfl.ch/nexus/v1/resources/dke/kgforge/_/d13c4b2d-3543-4e40-9479-21006f66e380', 'https://bbp.epfl.ch/neurosciencegraph/data/neuronmorphologies/bfc627c4-5326-4f6b-8aed-27ecb87eb0e8', 'https://bbp.epfl.ch/neurosciencegraph/data/neuronmorphologies/543faf75-fc3d-4a1a-9861-11788dae5657', 'https://bbp.epfl.ch/neurosciencegraph/data/neuronmorphologies/376ecc74-68e1-4324-8498-500a2a086872', 'https://bbp.epfl.ch/data/dke/kgforge/8f664b12-ea33-4d2e-90a7-ca2ac3fea22f', 'https://bbp.epfl.ch/data/dke/kgforge/a5fadaa1-d06e-4f36-a5f1-72e8d1044257', 'https://bbp.epfl.ch/data/dke/kgforge/3ef8f85e-b22a-46a3-b485-79881799113b', 'https://bbp.epfl.ch/neurosciencegraph/data/neuronmorphologies/b9cb9987-ea99-4bce-b6d8-54930214d418', 'https://bbp.epfl.ch/data/dke/kgforge/c8cf0388-1ab7-4e3a-8b58-6841caab4148', 'https://bbp.epfl.ch/data/dke/kgforge/b280ca27-ca81-4d70-8d10-cb8cdf143682', 'https://bbp.epfl.ch/data/dke/kgforge/af15bef9-3894-42e1-8a46-4f38640c40b9', 'https://bbp.epfl.ch/data/dke/kgforge/ea93f167-32b8-44e9-b3c3-a48869512da7', 'https://bbp.epfl.ch/neurosciencegraph/data/neuronmorphologies/d69c348d-f471-4b04-b49b-54cd86e8143e', 'https://bbp.epfl.ch/neurosciencegraph/data/neuronmorphologies/328e177e-60a5-4443-ad41-9164fa4c0e44', 'https://bbp.epfl.ch/neurosciencegraph/data/neuronmorphologies/8a6bdd54-7fa0-4280-a8de-de5d067cc973', 'https://bbp.epfl.ch/neurosciencegraph/data/neuronmorphologies/ea756a5a-5c64-4454-b3db-5218d370356d', 'https://bbp.epfl.ch/nexus/v1/resources/dke/kgforge/_/710ea3db-871c-4bc1-89eb-88b1e63b9320', 'https://bbp.epfl.ch/nexus/v1/resources/dke/kgforge/_/be207a5d-2558-4ccc-9b2b-68bde3c72729', None, 'https://bbp.epfl.ch/nexus/v1/resources/dke/kgforge/_/20fbc97a-fb26-43ff-8093-9136aab25dff']\n",
      "Errors\n",
      "[None, None, None, None, None, None, None, None, None, None, None, None, None, None, None, None, None, None, None, None, None, None, None, None, None, None, None, None, None, None, None, None, None, None, None, None, None, None, None, None, None, None, None, None, None, None, None, None, None, None, None, None, None, None, None, None, None, None, None, None, None, None, None, None, None, None, None, None, None, None, None, None, None, None, None, None, None, None, None, None, None, None, None, None, None, None, None, None, None, None, None, None, None, None, None, None, None, None, Action(error='RetrievalError', message=\"404, message='Not Found', url=URL('https://bbp.epfl.ch/nexus/v1/resources/dke/kgforge/_/:%2F%2FNCBITaxon:10090')\", operation='_retrieve_many', succeeded=False), None]\n"
     ]
    }
   ],
   "source": [
    "with cProfile.Profile() as pr:\n",
    "    test_1 = forge.retrieve([e.id for e in entities])\n",
    "    pstats.Stats(pr).print_stats(1)\n",
    "    print([r.get_identifier() if isinstance(r, Resource) else None for r in test_1])\n",
    "    print(\"Errors\")\n",
    "    print([r if not isinstance(r, Resource) else None for r in test_1])\n",
    "    "
   ]
  },
  {
   "cell_type": "code",
   "execution_count": 35,
   "id": "69823c02-96cf-4e1a-aecf-7ab6989bc3f4",
   "metadata": {},
   "outputs": [
    {
     "name": "stdout",
     "output_type": "stream",
     "text": [
      "<action> catch_http_error\n",
      "<error> RetrievalError: 404, message='Not Found', url=URL('https://bbp.epfl.ch/nexus/v1/resolvers/dke/kgforge/_/:%2F%2FNCBITaxon:10090')\n",
      "\n",
      "         5364936 function calls (5083259 primitive calls) in 8.307 seconds\n",
      "\n",
      "   Random listing order was used\n",
      "   List reduced from 694 to 1 due to restriction <1>\n",
      "\n",
      "   ncalls  tottime  percall  cumtime  percall filename:lineno(function)\n",
      "        2    0.000    0.000    0.000    0.000 <frozen importlib._bootstrap>:1017(_handle_fromlist)\n",
      "\n",
      "\n",
      "['https://bbp.epfl.ch/neurosciencegraph/data/neuronmorphologies/545eaa9a-be49-470f-b5bc-907fbee0cde6', 'https://bbp.epfl.ch/neurosciencegraph/data/neuronmorphologies/9842b6d6-4536-4f27-b2eb-ac2f9363f3f4', 'https://bbp.epfl.ch/neurosciencegraph/data/neuronmorphologies/75549784-55d3-4cec-8968-a00f2a07a2fd', 'https://bbp.epfl.ch/neurosciencegraph/data/neuronmorphologies/a8722f9e-a8a4-499a-b64c-3856ebfd01a6', 'https://bbp.epfl.ch/neurosciencegraph/data/neuronmorphologies/d0d38bab-5e01-4d8f-a98a-ccaca6f73b43', 'https://bbp.epfl.ch/neurosciencegraph/data/neuronmorphologies/085d634e-50fd-4fde-9372-6535b9090178', 'https://bbp.epfl.ch/nexus/v1/resources/dke/kgforge/_/dummy_resource_0', 'https://bbp.epfl.ch/nexus/v1/resources/dke/kgforge/_/dummy_resource_1', 'https://bbp.epfl.ch/nexus/v1/resources/dke/kgforge/_/dummy_resource_2', 'https://bbp.epfl.ch/nexus/v1/resources/dke/kgforge/_/dummy_resource_3', 'https://bbp.epfl.ch/nexus/v1/resources/dke/kgforge/_/dummy_resource_4', 'https://bbp.epfl.ch/nexus/v1/resources/dke/kgforge/_/dummy_resource_5', 'https://bbp.epfl.ch/nexus/v1/resources/dke/kgforge/_/dummy_resource_6', 'https://bbp.epfl.ch/nexus/v1/resources/dke/kgforge/_/dummy_resource_7', 'https://bbp.epfl.ch/nexus/v1/resources/dke/kgforge/_/dummy_resource_8', 'https://bbp.epfl.ch/nexus/v1/resources/dke/kgforge/_/dummy_resource_9', 'https://bbp.epfl.ch/data/dke/kgforge/237312a3-ebaf-4f1c-8443-b2be237d42d1', 'https://bbp.epfl.ch/nexus/v1/resources/dke/kgforge/_/test_resource_18_3', 'https://bbp.epfl.ch/nexus/v1/resources/dke/kgforge/_/test_resource_87_3', 'https://bbp.epfl.ch/nexus/v1/resources/dke/kgforge/_/test_resource_46_3', 'https://bbp.epfl.ch/nexus/v1/resources/dke/kgforge/_/test_resource_67_3', 'https://bbp.epfl.ch/nexus/v1/resources/dke/kgforge/_/test_resource_75_3', 'https://bbp.epfl.ch/nexus/v1/resources/dke/kgforge/_/test_resource_65_3', 'https://bbp.epfl.ch/nexus/v1/resources/dke/kgforge/_/test_resource_56_3', 'https://bbp.epfl.ch/nexus/v1/resources/dke/kgforge/_/test_resource_60_3', 'https://bbp.epfl.ch/nexus/v1/resources/dke/kgforge/_/test_resource_70_3', 'https://bbp.epfl.ch/nexus/v1/resources/dke/kgforge/_/test_resource_15_3', 'https://bbp.epfl.ch/nexus/v1/resources/dke/kgforge/_/test_resource_92_3', 'https://bbp.epfl.ch/nexus/v1/resources/dke/kgforge/_/test_resource_64_3', 'https://bbp.epfl.ch/nexus/v1/resources/dke/kgforge/_/test_resource_84_3', 'https://bbp.epfl.ch/nexus/v1/resources/dke/kgforge/_/test_resource_33_3', 'https://bbp.epfl.ch/nexus/v1/resources/dke/kgforge/_/test_resource_90_3', 'https://bbp.epfl.ch/nexus/v1/resources/dke/kgforge/_/test_resource_78_3', 'https://bbp.epfl.ch/nexus/v1/resources/dke/kgforge/_/test_resource_38_3', 'https://bbp.epfl.ch/nexus/v1/resources/dke/kgforge/_/test_resource_81_3', 'https://bbp.epfl.ch/nexus/v1/resources/dke/kgforge/_/test_resource_97_3', 'https://bbp.epfl.ch/nexus/v1/resources/dke/kgforge/_/test_resource_42_3', 'https://bbp.epfl.ch/nexus/v1/resources/dke/kgforge/_/test_resource_39_3', 'https://bbp.epfl.ch/nexus/v1/resources/dke/kgforge/_/test_resource_29_3', 'https://bbp.epfl.ch/nexus/v1/resources/dke/kgforge/_/test_resource_62_3', 'https://bbp.epfl.ch/nexus/v1/resources/dke/kgforge/_/test_resource_9_3', 'https://bbp.epfl.ch/nexus/v1/resources/dke/kgforge/_/test_resource_63_3', 'https://bbp.epfl.ch/nexus/v1/resources/dke/kgforge/_/test_resource_72_3', 'https://bbp.epfl.ch/nexus/v1/resources/dke/kgforge/_/test_resource_89_3', 'https://bbp.epfl.ch/nexus/v1/resources/dke/kgforge/_/test_resource_76_3', 'https://bbp.epfl.ch/nexus/v1/resources/dke/kgforge/_/test_resource_91_3', 'https://bbp.epfl.ch/nexus/v1/resources/dke/kgforge/_/test_resource_1_3', 'https://bbp.epfl.ch/nexus/v1/resources/dke/kgforge/_/test_resource_21_3', 'https://bbp.epfl.ch/nexus/v1/resources/dke/kgforge/_/test_resource_6_3', 'https://bbp.epfl.ch/nexus/v1/resources/dke/kgforge/_/test_resource_4_3', 'https://bbp.epfl.ch/nexus/v1/resources/dke/kgforge/_/test_resource_51_3', 'https://bbp.epfl.ch/nexus/v1/resources/dke/kgforge/_/test_resource_82_3', 'https://bbp.epfl.ch/nexus/v1/resources/dke/kgforge/_/test_resource_79_3', 'https://bbp.epfl.ch/nexus/v1/resources/dke/kgforge/_/test_resource_44_3', 'https://bbp.epfl.ch/nexus/v1/resources/dke/kgforge/_/test_resource_83_3', 'https://bbp.epfl.ch/nexus/v1/resources/dke/kgforge/_/test_resource_19_3', 'https://bbp.epfl.ch/nexus/v1/resources/dke/kgforge/_/test_resource_85_3', 'https://bbp.epfl.ch/nexus/v1/resources/dke/kgforge/_/test_resource_12_3', 'https://bbp.epfl.ch/nexus/v1/resources/dke/kgforge/_/test_resource_27_3', 'https://bbp.epfl.ch/nexus/v1/resources/dke/kgforge/_/test_resource_32_3', 'https://bbp.epfl.ch/nexus/v1/resources/dke/kgforge/_/test_resource_98_3', 'https://bbp.epfl.ch/nexus/v1/resources/dke/kgforge/_/test_resource_7_3', 'https://bbp.epfl.ch/neurosciencegraph/data/factsheets/5c835502-ed29-46ff-a07c-0913dbba6c70', 'https://bbp.epfl.ch/neurosciencegraph/data/factsheets/69c7f853-4407-4e6f-a9b2-840c8c1c3ea7', 'https://bbp.epfl.ch/neurosciencegraph/data/factsheets/17759807-5dbe-44c5-8f6e-ac6ef1ce1299', 'https://bbp.epfl.ch/neurosciencegraph/data/factsheets/8701d132-2ded-480d-b366-07a007c99684', 'https://bbp.epfl.ch/neurosciencegraph/data/factsheets/0acfd1e6-ebc6-4fe6-841d-fc8c02ac73c3', 'https://bbp.epfl.ch/neurosciencegraph/data/factsheets/49ed1888-7a87-40bb-b1f3-cde4bf5f3fc4', 'https://bbp.epfl.ch/neurosciencegraph/data/factsheets/9209b6b8-2b01-4fbd-a753-02eb1307ef9e', 'https://bbp.epfl.ch/neurosciencegraph/data/factsheets/fd3f1395-d270-4079-81b0-d293407fcce0', 'https://bbp.epfl.ch/neurosciencegraph/data/factsheets/914aa432-2fcc-4098-a8ec-5dada60149c3', 'https://bbp.epfl.ch/neurosciencegraph/data/factsheets/fe20e514-b234-419b-9443-8a103208e00e', 'https://bbp.epfl.ch/neurosciencegraph/data/factsheets/35296363-23cd-4157-8b64-122c83415d95', 'https://bbp.epfl.ch/neurosciencegraph/data/factsheets/002d787f-f36e-43a7-b9a9-8bf5e94202c2', 'https://bbp.epfl.ch/neurosciencegraph/data/factsheets/27832cd6-1b49-4db0-a6cc-058bbd2a04f2', 'https://bbp.epfl.ch/neurosciencegraph/data/factsheets/627eda77-fb81-41ed-80b6-10d6257f1d89', 'https://bbp.epfl.ch/neurosciencegraph/data/factsheets/4c1c40b7-89a2-4044-9614-e07a4bc9168d', 'https://bbp.epfl.ch/neurosciencegraph/data/factsheets/94176355-b290-41a0-a2e6-e298bf3d0176', 'https://bbp.epfl.ch/neurosciencegraph/data/neuronmorphologies/4a98e1d1-9bb6-4deb-98ec-0133dc342995', 'https://bbp.epfl.ch/neurosciencegraph/data/neuronmorphologies/b429dee5-1c35-4c2c-b475-bd5a4639e1f4', 'https://bbp.epfl.ch/nexus/v1/resources/dke/kgforge/_/d13c4b2d-3543-4e40-9479-21006f66e380', 'https://bbp.epfl.ch/neurosciencegraph/data/neuronmorphologies/bfc627c4-5326-4f6b-8aed-27ecb87eb0e8', 'https://bbp.epfl.ch/neurosciencegraph/data/neuronmorphologies/543faf75-fc3d-4a1a-9861-11788dae5657', 'https://bbp.epfl.ch/neurosciencegraph/data/neuronmorphologies/376ecc74-68e1-4324-8498-500a2a086872', 'https://bbp.epfl.ch/data/dke/kgforge/8f664b12-ea33-4d2e-90a7-ca2ac3fea22f', 'https://bbp.epfl.ch/data/dke/kgforge/a5fadaa1-d06e-4f36-a5f1-72e8d1044257', 'https://bbp.epfl.ch/data/dke/kgforge/3ef8f85e-b22a-46a3-b485-79881799113b', 'https://bbp.epfl.ch/neurosciencegraph/data/neuronmorphologies/b9cb9987-ea99-4bce-b6d8-54930214d418', 'https://bbp.epfl.ch/data/dke/kgforge/c8cf0388-1ab7-4e3a-8b58-6841caab4148', 'https://bbp.epfl.ch/data/dke/kgforge/b280ca27-ca81-4d70-8d10-cb8cdf143682', 'https://bbp.epfl.ch/data/dke/kgforge/af15bef9-3894-42e1-8a46-4f38640c40b9', 'https://bbp.epfl.ch/data/dke/kgforge/ea93f167-32b8-44e9-b3c3-a48869512da7', 'https://bbp.epfl.ch/neurosciencegraph/data/neuronmorphologies/d69c348d-f471-4b04-b49b-54cd86e8143e', 'https://bbp.epfl.ch/neurosciencegraph/data/neuronmorphologies/328e177e-60a5-4443-ad41-9164fa4c0e44', 'https://bbp.epfl.ch/neurosciencegraph/data/neuronmorphologies/8a6bdd54-7fa0-4280-a8de-de5d067cc973', 'https://bbp.epfl.ch/neurosciencegraph/data/neuronmorphologies/ea756a5a-5c64-4454-b3db-5218d370356d', 'https://bbp.epfl.ch/nexus/v1/resources/dke/kgforge/_/710ea3db-871c-4bc1-89eb-88b1e63b9320', 'https://bbp.epfl.ch/nexus/v1/resources/dke/kgforge/_/be207a5d-2558-4ccc-9b2b-68bde3c72729', None, 'https://bbp.epfl.ch/nexus/v1/resources/dke/kgforge/_/20fbc97a-fb26-43ff-8093-9136aab25dff']\n"
     ]
    }
   ],
   "source": [
    "with cProfile.Profile() as pr:\n",
    "    test_2 = [forge.retrieve(e.id, cross_bucket=True) for e in entities]\n",
    "    pstats.Stats(pr).print_stats(1)\n",
    "    print([r.get_identifier() if r else None for r in test_2])"
   ]
  },
  {
   "cell_type": "code",
   "execution_count": 36,
   "id": "8d9fd6b5-eaee-4251-ba01-2d67434988ea",
   "metadata": {},
   "outputs": [],
   "source": [
    "assert all(\n",
    "    json.dumps(forge.as_json(e)) == json.dumps(forge.as_json(e2)) \n",
    "    for e, e2 in zip(test_1, test_2)\n",
    "    if e is not None and e2 is not None\n",
    ")"
   ]
  },
  {
   "cell_type": "markdown",
   "id": "ca49f603-5740-4954-b8c2-6df1c4be4325",
   "metadata": {},
   "source": [
    "## Error handling"
   ]
  },
  {
   "cell_type": "code",
   "execution_count": 37,
   "id": "7546fc67-0ebb-4a9f-b6ee-ca3818736880",
   "metadata": {},
   "outputs": [],
   "source": [
    "ids = [e.id for e in entities[:2]] + [\"unknown_id\"]"
   ]
  },
  {
   "cell_type": "code",
   "execution_count": 38,
   "id": "ad26dbff-1e82-4105-9344-301b73c4db7f",
   "metadata": {},
   "outputs": [],
   "source": [
    "test_3 = forge.retrieve(ids)"
   ]
  },
  {
   "cell_type": "code",
   "execution_count": 39,
   "id": "6746f7fa-8f45-416e-b153-58ba4b846c88",
   "metadata": {},
   "outputs": [
    {
     "name": "stdout",
     "output_type": "stream",
     "text": [
      "Succeeded:  True - Identifier: https://bbp.epfl.ch/neurosciencegraph/data/neuronmorphologies/545eaa9a-be49-470f-b5bc-907fbee0cde6\n",
      "Succeeded:  True - Identifier: https://bbp.epfl.ch/neurosciencegraph/data/neuronmorphologies/9842b6d6-4536-4f27-b2eb-ac2f9363f3f4\n",
      "Succeeded:  False\n"
     ]
    }
   ],
   "source": [
    "for r in test_3:\n",
    "    if isinstance(r, Resource):\n",
    "        print(\"Succeeded: \", r._last_action.succeeded, \"- Identifier:\", r.get_identifier())\n",
    "    else:\n",
    "        print(\"Succeeded: \", r.succeeded)"
   ]
  }
 ],
 "metadata": {
  "kernelspec": {
   "display_name": "forge_venv2",
   "language": "python",
   "name": "venv"
  },
  "language_info": {
   "codemirror_mode": {
    "name": "ipython",
    "version": 3
   },
   "file_extension": ".py",
   "mimetype": "text/x-python",
   "name": "python",
   "nbconvert_exporter": "python",
   "pygments_lexer": "ipython3",
   "version": "3.8.17"
  }
 },
 "nbformat": 4,
 "nbformat_minor": 5
}

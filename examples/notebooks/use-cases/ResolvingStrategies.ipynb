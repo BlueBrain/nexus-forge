{
 "cells": [
  {
   "cell_type": "markdown",
   "metadata": {},
   "source": [
    "# Resolving Strategies\n",
    "\n",
    "* Example on how to use resolving strategies\n"
   ]
  },
  {
   "cell_type": "code",
   "execution_count": 1,
   "metadata": {
    "ExecuteTime": {
     "end_time": "2019-09-23T18:50:20.068658Z",
     "start_time": "2019-09-23T18:50:19.054054Z"
    }
   },
   "outputs": [],
   "source": [
    "import os\n",
    "import json\n",
    "\n",
    "from kgforge.core import KnowledgeGraphForge\n",
    "from kgforge.specializations.resources import Dataset"
   ]
  },
  {
   "cell_type": "code",
   "execution_count": 2,
   "metadata": {},
   "outputs": [],
   "source": [
    "import getpass\n",
    "TOKEN = getpass.getpass()"
   ]
  },
  {
   "cell_type": "code",
   "execution_count": 3,
   "metadata": {},
   "outputs": [],
   "source": [
    "endpoint = \"https://staging.nise.bbp.epfl.ch/nexus/v1\"\n",
    "BUCKET = \"dke/kgforge\"\n",
    "forge = KnowledgeGraphForge(\"../use-cases/prod-forge-nexus.yml\",\n",
    " endpoint=endpoint, \n",
    " bucket=BUCKET,\n",
    " token=TOKEN\n",
    " )"
   ]
  },
  {
   "cell_type": "code",
   "execution_count": 4,
   "metadata": {},
   "outputs": [],
   "source": [
    "case_insensitive = forge.resolve('Pv+', scope='ontology', strategy='EXACT_CASEINSENSITIVE_MATCH')"
   ]
  },
  {
   "cell_type": "code",
   "execution_count": 5,
   "metadata": {},
   "outputs": [],
   "source": [
    "exact = forge.resolve('PV+', scope='ontology', strategy='EXACT_MATCH')"
   ]
  },
  {
   "cell_type": "code",
   "execution_count": 6,
   "metadata": {},
   "outputs": [],
   "source": [
    "assert case_insensitive == exact"
   ]
  },
  {
   "cell_type": "markdown",
   "metadata": {},
   "source": [
    "### Try with a similar string, but other characters"
   ]
  },
  {
   "cell_type": "code",
   "execution_count": 7,
   "metadata": {},
   "outputs": [],
   "source": [
    "similar = forge.resolve('pv-', scope='ontology', strategy='EXACT_CASEINSENSITIVE_MATCH')"
   ]
  },
  {
   "cell_type": "code",
   "execution_count": 8,
   "metadata": {},
   "outputs": [],
   "source": [
    "similar1 = forge.resolve('pv:', scope='ontology', strategy='EXACT_CASEINSENSITIVE_MATCH')"
   ]
  },
  {
   "cell_type": "code",
   "execution_count": 9,
   "metadata": {},
   "outputs": [],
   "source": [
    "assert similar is None\n",
    "assert similar1 is None"
   ]
  },
  {
   "cell_type": "markdown",
   "metadata": {},
   "source": [
    "### Combine spaces and other characters"
   ]
  },
  {
   "cell_type": "code",
   "execution_count": 10,
   "metadata": {},
   "outputs": [
    {
     "data": {
      "text/plain": [
       "Resource(_last_action=None, _validated=False, _synchronized=False, _store_metadata=None, id='https://bbp.epfl.ch/ontologies/core/ttypes/229_L6_IT_CTX', type=['Entity', 'Class'], label='229_L6 IT CTX', _inner_sync=False, subClassOf=['https://bbp.epfl.ch/ontologies/core/ttypes/L4_5_6_IT_Car3', 'https://bbp.epfl.ch/ontologies/core/celltypes/NeuronTranscriptomicType'])"
      ]
     },
     "execution_count": 10,
     "metadata": {},
     "output_type": "execute_result"
    }
   ],
   "source": [
    "forge.resolve('229_l6 it ctx', scope='ontology', strategy='EXACT_CASEINSENSITIVE_MATCH')"
   ]
  },
  {
   "cell_type": "code",
   "execution_count": 11,
   "metadata": {},
   "outputs": [
    {
     "data": {
      "text/plain": [
       "Resource(_last_action=None, _validated=False, _synchronized=False, _store_metadata=None, id='https://bbp.epfl.ch/ontologies/core/ttypes/264_L5_6_NP_CTX', type=['Entity', 'Class'], label='264_L5/6 NP CTX', _inner_sync=False, subClassOf=['https://bbp.epfl.ch/ontologies/core/ttypes/L5_6_NP_CTX', 'https://bbp.epfl.ch/ontologies/core/celltypes/NeuronTranscriptomicType'])"
      ]
     },
     "execution_count": 11,
     "metadata": {},
     "output_type": "execute_result"
    }
   ],
   "source": [
    "forge.resolve('264_L5/6 np CTX', scope='ontology', strategy='EXACT_CASEINSENSITIVE_MATCH')"
   ]
  }
 ],
 "metadata": {
  "kernelspec": {
   "display_name": "Python 3.7.13 ('kgforge')",
   "language": "python",
   "name": "python3"
  },
  "language_info": {
   "codemirror_mode": {
    "name": "ipython",
    "version": 3
   },
   "file_extension": ".py",
   "mimetype": "text/x-python",
   "name": "python",
   "nbconvert_exporter": "python",
   "pygments_lexer": "ipython3",
   "version": "3.7.13"
  },
  "vscode": {
   "interpreter": {
    "hash": "9ac393a5ddd595f2c78ea58b15bf8d269850a4413729cbea5c5fae9013762763"
   }
  }
 },
 "nbformat": 4,
 "nbformat_minor": 4
}

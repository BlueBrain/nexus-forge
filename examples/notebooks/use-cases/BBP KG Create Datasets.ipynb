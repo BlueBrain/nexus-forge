{
 "cells": [
  {
   "cell_type": "markdown",
   "metadata": {
    "ExecuteTime": {
     "end_time": "2019-09-23T18:50:19.036357Z",
     "start_time": "2019-09-23T18:50:19.031896Z"
    }
   },
   "source": [
    "# Register Datasets within the Blue Brain Knowledge Graph\n",
    "\n",
    "This notebook presents a step by step approach for registering datasets (any resource with files attached) with eventually metadata and provenance in a configured project."
   ]
  },
  {
   "cell_type": "markdown",
   "metadata": {},
   "source": [
    "## Nexus Forge installation\n",
    "Installation instruction can be found [here](https://nexus-forge.readthedocs.io/en/latest/#installation)."
   ]
  },
  {
   "cell_type": "markdown",
   "metadata": {},
   "source": [
    "## Get a token"
   ]
  },
  {
   "cell_type": "markdown",
   "metadata": {},
   "source": [
    "The [Nexus production deployment](https://bbp.epfl.ch/nexus/web/) can be used to login and get a token.\n",
    "\n",
    "- Step 1: From the opened web page, click on the login button on the right corner and follow the instructions.\n",
    "\n",
    "![login-ui](https://raw.githubusercontent.com/BlueBrain/nexus-forge/master/examples/notebooks/use-cases/login-ui.png)\n",
    "\n",
    "- Step 2: At the end you’ll see a token button on the right corner. Click on it to copy the token.\n",
    "\n",
    "![copy-token](https://raw.githubusercontent.com/BlueBrain/nexus-forge/master/examples/notebooks/use-cases/copy-token.png)\n"
   ]
  },
  {
   "cell_type": "code",
   "execution_count": null,
   "metadata": {},
   "outputs": [],
   "source": [
    "import getpass\n",
    "TOKEN = getpass.getpass()"
   ]
  },
  {
   "cell_type": "markdown",
   "metadata": {},
   "source": [
    "## Set the Nexus deployment to work with"
   ]
  },
  {
   "cell_type": "code",
   "execution_count": 2,
   "metadata": {},
   "outputs": [],
   "source": [
    "nexus_prod_endpoint    = \"https://bbp.epfl.ch/nexus/v1\"\n",
    "nexus_staging_endpoint = \"https://staging.nexus.ocp.bbp.epfl.ch/v1\" # use staging to try and test. Note that accessing staging require to be in the VPN\n",
    "nexus_endpoint = nexus_staging_endpoint"
   ]
  },
  {
   "cell_type": "markdown",
   "metadata": {},
   "source": [
    "## Set the Nexus project to work with"
   ]
  },
  {
   "cell_type": "markdown",
   "metadata": {},
   "source": [
    "### The project already exist ?\n",
    "In production the existing BBP projects can be found [here](https://bbp.epfl.ch/nexus/web/admin/bbp) and the list of available studios can be found [here](https://bbp.epfl.ch/nexus/web/studios)"
   ]
  },
  {
   "cell_type": "code",
   "execution_count": 3,
   "metadata": {},
   "outputs": [],
   "source": [
    "ORG = \"bbp\"\n",
    "PROJECT = \"ncmv3\""
   ]
  },
  {
   "cell_type": "markdown",
   "metadata": {},
   "source": [
    "### The project needs to be created ?"
   ]
  },
  {
   "cell_type": "markdown",
   "metadata": {},
   "source": [
    "#### In prod: request a project from PMO"
   ]
  },
  {
   "cell_type": "markdown",
   "metadata": {},
   "source": [
    "#### In staging\n",
    "A project can be created by any BBP user in staging but it will come with no specific configuration and might not correspond to prod projects' states which are initialised with GPFS storage, schemas and ontologies."
   ]
  },
  {
   "cell_type": "markdown",
   "metadata": {},
   "source": [
    "The [Nexus staging deployment](https://staging.nexus.ocp.bbp.epfl.ch/admin) can be used to create an organisation and a project.\n",
    "\n",
    "- Step 1: From the opened web page, click on the create organization button and provide an organization name (Do not us special character or space).\n",
    "\n",
    "![create_org](https://raw.githubusercontent.com/BlueBrain/nexus-forge/master/examples/notebooks/use-cases/create_org.png)\n",
    "\n",
    "- Step 2: Then click on the create project button and provide a project name (Do not us special character or space).\n",
    "\n",
    "![create_project](https://raw.githubusercontent.com/BlueBrain/nexus-forge/master/examples/notebooks/use-cases/create_project.png)\n"
   ]
  },
  {
   "cell_type": "markdown",
   "metadata": {},
   "source": [
    "## Create a KnowledgeGraphForge session"
   ]
  },
  {
   "cell_type": "code",
   "execution_count": 4,
   "metadata": {},
   "outputs": [],
   "source": [
    "from kgforge.core import KnowledgeGraphForge\n",
    "from kgforge.core import Resource\n",
    "from kgforge.specializations.resources import Dataset\n",
    "\n",
    "import pandas as pd"
   ]
  },
  {
   "cell_type": "markdown",
   "metadata": {},
   "source": [
    "A KnowledgeGraphForge session is a python object that exposes all necessary functions to register with metadata, search and download datasets. A configuration file is needed in order to create a KnowledgeGraphForge session but a ready to use configuration file is made available [here](https://raw.githubusercontent.com/BlueBrain/nexus-forge/master/examples/notebooks/use-cases/prod-forge-nexus.yml)."
   ]
  },
  {
   "cell_type": "code",
   "execution_count": 5,
   "metadata": {},
   "outputs": [],
   "source": [
    "forge = KnowledgeGraphForge(\"https://raw.githubusercontent.com/BlueBrain/nexus-forge/master/examples/notebooks/use-cases/prod-forge-nexus.yml\",\n",
    "                           endpoint=nexus_endpoint,\n",
    "                           bucket=f\"{ORG}/{PROJECT}\",\n",
    "                           token= TOKEN\n",
    "                           )"
   ]
  },
  {
   "cell_type": "markdown",
   "metadata": {},
   "source": [
    "You are all set up !"
   ]
  },
  {
   "cell_type": "markdown",
   "metadata": {},
   "source": [
    "## Create resources with some metadata\n",
    "\n",
    "A resource is anything that can be identified and that can have metadata associated. The following cell creates two resources of type Person and Agent and with each a name as metadata.\n"
   ]
  },
  {
   "cell_type": "markdown",
   "metadata": {},
   "source": [
    "### Using forge Resource object"
   ]
  },
  {
   "cell_type": "markdown",
   "metadata": {},
   "source": [
    "Any 'property=value' can be given here as metadata. There are properties from the [Person schema](https://bbp-nexus.epfl.ch/datamodels/class-proventity.html) (Note that these schemas may change in the future) that can be reused."
   ]
  },
  {
   "cell_type": "code",
   "execution_count": 6,
   "metadata": {},
   "outputs": [],
   "source": [
    "jane = Resource(type=\"Person\", name=\"Jane Doe\", givenName=\"Jane\", familyName=\"Doe\")\n",
    "john = Resource(type=[\"Person\",\"Agent\"], name=\"John Smith\", givenName=\"John\", familyName=\"Smith\")\n",
    "persons = [jane, john]"
   ]
  },
  {
   "cell_type": "code",
   "execution_count": 7,
   "metadata": {},
   "outputs": [
    {
     "name": "stdout",
     "output_type": "stream",
     "text": [
      "<count> 2\n",
      "<action> _register_many\n",
      "<succeeded> True\n"
     ]
    }
   ],
   "source": [
    "forge.register(persons)"
   ]
  },
  {
   "cell_type": "code",
   "execution_count": 8,
   "metadata": {},
   "outputs": [],
   "source": [
    "# A resource can be retrieved by its id\n",
    "result = forge.retrieve(id= john.id)"
   ]
  },
  {
   "cell_type": "code",
   "execution_count": 9,
   "metadata": {},
   "outputs": [
    {
     "data": {
      "text/plain": [
       "{'id': 'https://bbp.epfl.ch/neurosciencegraph/data/f7be52ed-75aa-4ac4-bfd5-ad7b75e36469',\n",
       " 'type': ['Person', 'Agent'],\n",
       " 'familyName': 'Smith',\n",
       " 'givenName': 'John',\n",
       " 'name': 'John Smith'}"
      ]
     },
     "execution_count": 9,
     "metadata": {},
     "output_type": "execute_result"
    }
   ],
   "source": [
    "# Note that the Blue Brain Nexus has automatically generated ids (id property) for the resources. The generated ids are unique in the selected project.\n",
    "forge.as_json(result)"
   ]
  },
  {
   "cell_type": "code",
   "execution_count": 10,
   "metadata": {},
   "outputs": [
    {
     "data": {
      "text/plain": [
       "{'id': 'https://bbp.epfl.ch/neurosciencegraph/data/f7be52ed-75aa-4ac4-bfd5-ad7b75e36469',\n",
       " 'type': ['Person', 'Agent'],\n",
       " 'familyName': 'Smith',\n",
       " 'givenName': 'John',\n",
       " 'name': 'John Smith',\n",
       " '_constrainedBy': 'https://bluebrain.github.io/nexus/schemas/unconstrained.json',\n",
       " '_createdAt': '2021-08-23T10:10:11.752Z',\n",
       " '_createdBy': 'https://staging.nexus.ocp.bbp.epfl.ch/v1/realms/bbp/users/sy',\n",
       " '_deprecated': False,\n",
       " '_incoming': 'https://staging.nexus.ocp.bbp.epfl.ch/v1/resources/bbp/ncmv3/_/f7be52ed-75aa-4ac4-bfd5-ad7b75e36469/incoming',\n",
       " '_outgoing': 'https://staging.nexus.ocp.bbp.epfl.ch/v1/resources/bbp/ncmv3/_/f7be52ed-75aa-4ac4-bfd5-ad7b75e36469/outgoing',\n",
       " '_project': 'https://staging.nexus.ocp.bbp.epfl.ch/v1/projects/bbp/ncmv3',\n",
       " '_rev': 1,\n",
       " '_schemaProject': 'https://staging.nexus.ocp.bbp.epfl.ch/v1/projects/bbp/ncmv3',\n",
       " '_self': 'https://staging.nexus.ocp.bbp.epfl.ch/v1/resources/bbp/ncmv3/_/f7be52ed-75aa-4ac4-bfd5-ad7b75e36469',\n",
       " '_updatedAt': '2021-08-23T10:10:11.752Z',\n",
       " '_updatedBy': 'https://staging.nexus.ocp.bbp.epfl.ch/v1/realms/bbp/users/sy'}"
      ]
     },
     "execution_count": 10,
     "metadata": {},
     "output_type": "execute_result"
    }
   ],
   "source": [
    "# Add store_metadata=True to see extra metadata added by Blue Brain Nexus (e.g. _rev, _createdBy, _updatedAt, _deprecated, ...)\n",
    "forge.as_json(result, store_metadata=True)"
   ]
  },
  {
   "cell_type": "markdown",
   "metadata": {},
   "source": [
    "### Using pandas dataframe"
   ]
  },
  {
   "cell_type": "code",
   "execution_count": 11,
   "metadata": {},
   "outputs": [
    {
     "data": {
      "text/html": [
       "<div>\n",
       "<style scoped>\n",
       "    .dataframe tbody tr th:only-of-type {\n",
       "        vertical-align: middle;\n",
       "    }\n",
       "\n",
       "    .dataframe tbody tr th {\n",
       "        vertical-align: top;\n",
       "    }\n",
       "\n",
       "    .dataframe thead th {\n",
       "        text-align: right;\n",
       "    }\n",
       "</style>\n",
       "<table border=\"1\" class=\"dataframe\">\n",
       "  <thead>\n",
       "    <tr style=\"text-align: right;\">\n",
       "      <th></th>\n",
       "      <th>type</th>\n",
       "      <th>name</th>\n",
       "    </tr>\n",
       "  </thead>\n",
       "  <tbody>\n",
       "    <tr>\n",
       "      <th>0</th>\n",
       "      <td>Person</td>\n",
       "      <td>Marie Curie</td>\n",
       "    </tr>\n",
       "    <tr>\n",
       "      <th>1</th>\n",
       "      <td>Person</td>\n",
       "      <td>Albert Einstein</td>\n",
       "    </tr>\n",
       "  </tbody>\n",
       "</table>\n",
       "</div>"
      ],
      "text/plain": [
       "     type             name\n",
       "0  Person      Marie Curie\n",
       "1  Person  Albert Einstein"
      ]
     },
     "execution_count": 11,
     "metadata": {},
     "output_type": "execute_result"
    }
   ],
   "source": [
    "# Each person has a file attached. We'll use forge.attach to be able to register the files in the knowledge graph\n",
    "scientists_df = pd.read_csv(\"../../data/persons.csv\")\n",
    "scientists_df"
   ]
  },
  {
   "cell_type": "code",
   "execution_count": 12,
   "metadata": {},
   "outputs": [],
   "source": [
    "# Resources can be created from a pandas dataframe\n",
    "scientists = forge.from_dataframe(scientists_df)"
   ]
  },
  {
   "cell_type": "code",
   "execution_count": 13,
   "metadata": {},
   "outputs": [
    {
     "data": {
      "text/plain": [
       "{'type': 'Person', 'name': 'Marie Curie'}"
      ]
     },
     "execution_count": 13,
     "metadata": {},
     "output_type": "execute_result"
    }
   ],
   "source": [
    "forge.as_json(scientists[0])"
   ]
  },
  {
   "cell_type": "code",
   "execution_count": 14,
   "metadata": {},
   "outputs": [
    {
     "name": "stdout",
     "output_type": "stream",
     "text": [
      "<count> 2\n",
      "<action> _register_many\n",
      "<succeeded> True\n"
     ]
    }
   ],
   "source": [
    "# Note that registering an existing resource in a given project will throw a 'RegistrationError: resource already exists' error. \n",
    "# forge.retrieve(id=...) can be used to fetch the registered resource as shown in next cell.\n",
    "forge.register(scientists)"
   ]
  },
  {
   "cell_type": "code",
   "execution_count": 15,
   "metadata": {},
   "outputs": [],
   "source": [
    "scientists = []\n",
    "Marie_Curie = forge.retrieve(id= \"https://www.wikidata.org/wiki/Q7186\") # Let retrieve Marie Curie resource\n",
    "Albert_Einstein = forge.retrieve(id= \"https://www.wikidata.org/wiki/Q937\") # Let retrieve Albert Einstein resource\n",
    "scientists.append(Marie_Curie)\n",
    "scientists.append(Albert_Einstein)"
   ]
  },
  {
   "cell_type": "code",
   "execution_count": 16,
   "metadata": {},
   "outputs": [
    {
     "data": {
      "text/plain": [
       "{'id': 'https://www.wikidata.org/wiki/Q7186',\n",
       " 'type': 'Person',\n",
       " 'name': 'Marie Curie'}"
      ]
     },
     "execution_count": 16,
     "metadata": {},
     "output_type": "execute_result"
    }
   ],
   "source": [
    "# Note that the Blue Brain Nexus Store has kept the provided id\n",
    "forge.as_json(Marie_Curie)"
   ]
  },
  {
   "cell_type": "markdown",
   "metadata": {},
   "source": [
    "See the notebook [DataFrame IO.ipynb](https://github.com/BlueBrain/nexus-forge/blob/master/examples/notebooks/getting-started/07%20-%20DataFrame%20IO.ipynb) for more details on converting Pandas DataFrame to forge Resources and the other way around."
   ]
  },
  {
   "cell_type": "markdown",
   "metadata": {},
   "source": [
    "Even though any type can be provided for a Resource, there are a set of available types that can be obtained programmatically by using the following command or by looking at the [schemas doc](https://bbp-nexus.epfl.ch/datamodels/entities-az.html) (Note these schemas may change in the future)."
   ]
  },
  {
   "cell_type": "code",
   "execution_count": 17,
   "metadata": {},
   "outputs": [
    {
     "name": "stdout",
     "output_type": "stream",
     "text": [
      "Managed entity types:\n",
      "   - AcquisitionAnnotation\n",
      "   - Activity\n",
      "   - AffineLinearTransform\n",
      "   - Agent\n",
      "   - Analysis\n",
      "   - AnalysisResult\n",
      "   - AnnotatedSlice\n",
      "   - Annotation\n",
      "   - ApicalAnnotation\n",
      "   - AtlasConstruction\n",
      "   - AtlasRelease\n",
      "   - AtlasSpatialReferenceSystem\n",
      "   - BatchQualityMeasurementAnnotation\n",
      "   - BluePyEfeFeatures\n",
      "   - BoundingBox\n",
      "   - BoutonDensity\n",
      "   - BrainAtlasRelease\n",
      "   - BrainAtlasSpatialReferenceSystem\n",
      "   - BrainImaging\n",
      "   - BrainLocation\n",
      "   - BrainParcellationDataLayer\n",
      "   - BrainParcellationMesh\n",
      "   - BrainSlicing\n",
      "   - BrainTemplateDataLayer\n",
      "   - Cell\n",
      "   - CellCounting\n",
      "   - CellDensity\n",
      "   - CellDensityDataLayer\n",
      "   - CellPlacement\n",
      "   - CellRecordSeries\n",
      "   - CircuitCellProperties\n",
      "   - Class\n",
      "   - Collection\n",
      "   - Concept\n",
      "   - ConceptScheme\n",
      "   - Configuration\n",
      "   - Contribution\n",
      "   - DataDownload\n",
      "   - Dataset\n",
      "   - DeformableTransform\n",
      "   - Density\n",
      "   - Derivation\n",
      "   - DetailedCircuit\n",
      "   - EModel\n",
      "   - EModelBuilding\n",
      "   - EModelRelease\n",
      "   - EModelScript\n",
      "   - ETypeFeatureProtocol\n",
      "   - EdgeCollection\n",
      "   - ElectrophysiologyFeature\n",
      "   - ElectrophysiologyFeatureExtractionProtocol\n",
      "   - ElectrophysiologyFeatureExtractionTarget\n",
      "   - ElectrophysiologyFeatureExtractionTrace\n",
      "   - ElectrophysiologyFeatureOptimisationChannelDistribution\n",
      "   - ElectrophysiologyFeatureOptimisationNeuronMorphology\n",
      "   - ElectrophysiologyFeatureOptimisationParameter\n",
      "   - ElectrophysiologyFeatureOptimisationTarget\n",
      "   - ElectrophysiologyFeatureValidationTarget\n",
      "   - EmodelFeatureGeneration\n",
      "   - EmptyCollection\n",
      "   - Entity\n",
      "   - ExperimentalActivity\n",
      "   - ExperimentalProtocol\n",
      "   - FixationStainingMounting\n",
      "   - FixedStainedSlice\n",
      "   - GeneExpressionVolumetricDataLayer\n",
      "   - Generation\n",
      "   - HostCell\n",
      "   - ImageStack\n",
      "   - ImageVolume\n",
      "   - InVitroSliceReconstructedPatchedNeuron\n",
      "   - InVitroSliceWholeCellPatchClampElectrophysiologyTrace\n",
      "   - InVitroWholeBrainReconstructedNeuronMorphology\n",
      "   - IntraCellularSharpElectrode\n",
      "   - IntraCellularSharpElectrodeRecordedCell\n",
      "   - IntraCellularSharpElectrodeRecordedCellCollection\n",
      "   - IntraCellularSharpElectrodeRecordedSlice\n",
      "   - Invalidation\n",
      "   - IonChannelGene\n",
      "   - IonChannelMechanismRelease\n",
      "   - LabeledCell\n",
      "   - LabeledCellCollection\n",
      "   - LayerThickness\n",
      "   - LinearTransform\n",
      "   - MEModel\n",
      "   - MEModelRelease\n",
      "   - ModelInstance\n",
      "   - ModelRelease\n",
      "   - ModelReleaseIndex\n",
      "   - ModelValidation\n",
      "   - Morphology\n",
      "   - MorphologyDiversification\n",
      "   - MorphologyMesh\n",
      "   - MorphologyMeshGeneration\n",
      "   - MorphologyOrientationDataLayer\n",
      "   - MorphologyRelease\n",
      "   - NISSLImageDataLayer\n",
      "   - NdRaster\n",
      "   - NeuronDensity\n",
      "   - NeuronMorphology\n",
      "   - NeuronMorphologyReconstruction\n",
      "   - NodeCollection\n",
      "   - Ontology\n",
      "   - OntologyConversion\n",
      "   - Organization\n",
      "   - PHDataLayer\n",
      "   - Parameter\n",
      "   - ParcellationImageData\n",
      "   - ParcellationLabel\n",
      "   - ParcellationMeshGeneration\n",
      "   - ParcellationOntology\n",
      "   - ParcellationReconstruction\n",
      "   - ParcellationVolume\n",
      "   - PatchClamp\n",
      "   - PatchedCell\n",
      "   - PatchedCellCollection\n",
      "   - PatchedSlice\n",
      "   - Person\n",
      "   - Protocol\n",
      "   - QualityMeasurementAnnotation\n",
      "   - QuantitativeValue\n",
      "   - ReconstructedCell\n",
      "   - ReconstructedCellFormatConversion\n",
      "   - ReconstructedCellRelease\n",
      "   - ReconstructedCellReleaseGeneration\n",
      "   - ReconstructedCellReleaseProcess\n",
      "   - ReconstructedNeuronMorphology\n",
      "   - ReconstructedPatchedCell\n",
      "   - ReconstructedWholeBrainCell\n",
      "   - Reconstruction\n",
      "   - ReconstructionCorrection\n",
      "   - ReconstructionFromImage\n",
      "   - RecordMeasure\n",
      "   - RecordSeries\n",
      "   - RegionOfInterest\n",
      "   - RigidLinearTransform\n",
      "   - RotationalMatrix\n",
      "   - Simulation\n",
      "   - SingleCellSimulationTrace\n",
      "   - SingleCellTraceGeneration\n",
      "   - Slice\n",
      "   - SliceCollection\n",
      "   - SoftwareAgent\n",
      "   - SpatialIndex\n",
      "   - SpatialIndexDerivation\n",
      "   - StimulusExperiment\n",
      "   - SubCellularModel\n",
      "   - SubCellularModelScript\n",
      "   - Subject\n",
      "   - SubjectCollection\n",
      "   - SynapseRelease\n",
      "   - Target\n",
      "   - TemplateImageData\n",
      "   - TemplateReconstruction\n",
      "   - TemplateVolume\n",
      "   - Thickness\n",
      "   - Threshold\n",
      "   - Trace\n",
      "   - TraceCollection\n",
      "   - TraceFeature\n",
      "   - TraceFeatureExtraction\n",
      "   - TraceGeneration\n",
      "   - Transfection\n",
      "   - Transform\n",
      "   - Transformation\n",
      "   - TwoPhotonImageDataLayer\n",
      "   - Usage\n",
      "   - ValidationResult\n",
      "   - VariableReport\n",
      "   - VolumetricDataLayer\n",
      "   - WholeCellPatchClamp\n",
      "   - WorkflowEngine\n"
     ]
    }
   ],
   "source": [
    "forge.types()"
   ]
  },
  {
   "cell_type": "markdown",
   "metadata": {},
   "source": [
    "## Create a dataset from files\n",
    "\n",
    "This use case is about registering files with metadata in the knowledge graph. A specific type of Resource, called Dataset will be used. Since Dataset is also a Resource, then everything that applies to Resource also applies to Dataset."
   ]
  },
  {
   "cell_type": "code",
   "execution_count": 18,
   "metadata": {},
   "outputs": [
    {
     "name": "stdout",
     "output_type": "stream",
     "text": [
      "associations.tsv\n",
      "my_data.xwz\n",
      "my_data_derived.txt\n",
      "persons.csv\n",
      "tfidfvectorizer_model_schemaorg_linking\n"
     ]
    }
   ],
   "source": [
    "# Let list the files that will be used and let capture the start time for this part\n",
    "import time\n",
    "startedAtTime = time.strftime(\"%Y%m%d%H%M%S\")\n",
    "! ls -p ../../data | egrep -v /$"
   ]
  },
  {
   "cell_type": "markdown",
   "metadata": {},
   "source": [
    "Any 'property=value' can be given here as metadata. We recommend to use properties from the [Dataset schema](https://bbp-nexus.epfl.ch/datamodels/class-schemadataset.html).\n",
    "A Dataset is a Resource with a [distribution](https://schema.org/distribution) property to account for where the data (files) are stored and where they can be accessed."
   ]
  },
  {
   "cell_type": "code",
   "execution_count": 19,
   "metadata": {},
   "outputs": [],
   "source": [
    "# The file content type can be provided by setting the content_type.\n",
    "my_data_distribution = forge.attach(\"../../data/my_data.xwz\")\n",
    "my_dataset = Dataset(forge, type=[\"Entity\",\"Dataset\", \"MyOtherType\"],name=\"Interesting Dataset\", distribution=my_data_distribution)"
   ]
  },
  {
   "cell_type": "markdown",
   "metadata": {},
   "source": [
    "### Register"
   ]
  },
  {
   "cell_type": "code",
   "execution_count": 20,
   "metadata": {},
   "outputs": [
    {
     "name": "stdout",
     "output_type": "stream",
     "text": [
      "<action> _register_one\n",
      "<succeeded> True\n"
     ]
    }
   ],
   "source": [
    "forge.register(my_dataset)"
   ]
  },
  {
   "cell_type": "code",
   "execution_count": 21,
   "metadata": {},
   "outputs": [
    {
     "data": {
      "text/plain": [
       "{'id': 'https://bbp.epfl.ch/neurosciencegraph/data/8efdf9e0-bb78-417b-948f-b5bc137b3587',\n",
       " 'type': ['Entity', 'Dataset', 'MyOtherType'],\n",
       " 'distribution': {'type': 'DataDownload',\n",
       "  'atLocation': {'type': 'Location',\n",
       "   'store': {'id': 'https://bluebrain.github.io/nexus/vocabulary/diskStorageDefault'}},\n",
       "  'contentSize': {'unitCode': 'bytes', 'value': 16},\n",
       "  'contentUrl': 'https://staging.nexus.ocp.bbp.epfl.ch/v1/files/bbp/ncmv3/2e9265a0-5ad4-4a54-a883-5c283d04359e',\n",
       "  'digest': {'algorithm': 'SHA-256',\n",
       "   'value': 'df03e7e93f870c6731540b3cae26391670da682c7a8dbdd18448cbcfc4fb7981'},\n",
       "  'encodingFormat': 'application/octet-stream',\n",
       "  'name': 'my_data.xwz'},\n",
       " 'name': 'Interesting Dataset'}"
      ]
     },
     "execution_count": 21,
     "metadata": {},
     "output_type": "execute_result"
    }
   ],
   "source": [
    "# Visualise the metadata. Note the distribution property with file related metadata automatically added (contentSize, digest, encodingFormat, ...)\n",
    "forge.as_json(my_dataset)"
   ]
  },
  {
   "cell_type": "markdown",
   "metadata": {},
   "source": [
    "### Retrieve by id"
   ]
  },
  {
   "cell_type": "code",
   "execution_count": 22,
   "metadata": {},
   "outputs": [],
   "source": [
    "result = forge.retrieve(id= my_dataset.id)"
   ]
  },
  {
   "cell_type": "code",
   "execution_count": 23,
   "metadata": {},
   "outputs": [
    {
     "data": {
      "text/plain": [
       "{'id': 'https://bbp.epfl.ch/neurosciencegraph/data/8efdf9e0-bb78-417b-948f-b5bc137b3587',\n",
       " 'type': ['Entity', 'Dataset', 'MyOtherType'],\n",
       " 'distribution': {'type': 'DataDownload',\n",
       "  'atLocation': {'type': 'Location',\n",
       "   'store': {'id': 'https://bluebrain.github.io/nexus/vocabulary/diskStorageDefault'}},\n",
       "  'contentSize': {'unitCode': 'bytes', 'value': 16},\n",
       "  'contentUrl': 'https://staging.nexus.ocp.bbp.epfl.ch/v1/files/bbp/ncmv3/2e9265a0-5ad4-4a54-a883-5c283d04359e',\n",
       "  'digest': {'algorithm': 'SHA-256',\n",
       "   'value': 'df03e7e93f870c6731540b3cae26391670da682c7a8dbdd18448cbcfc4fb7981'},\n",
       "  'encodingFormat': 'application/octet-stream',\n",
       "  'name': 'my_data.xwz'},\n",
       " 'name': 'Interesting Dataset'}"
      ]
     },
     "execution_count": 23,
     "metadata": {},
     "output_type": "execute_result"
    }
   ],
   "source": [
    "forge.as_json(result)"
   ]
  },
  {
   "cell_type": "markdown",
   "metadata": {},
   "source": [
    "### Search by metadata\n",
    "See the notebook [BBP KG Search and Download.ipynb](https://github.com/BlueBrain/nexus-forge/blob/master/examples/notebooks/use-cases/BBP%20KG%20Search%20and%20Download.ipynb) for more search details and options."
   ]
  },
  {
   "cell_type": "code",
   "execution_count": 24,
   "metadata": {},
   "outputs": [
    {
     "name": "stdout",
     "output_type": "stream",
     "text": [
      "3 results found\n"
     ]
    }
   ],
   "source": [
    "filters = {\"type\":\"Dataset\", \"name\":\"Interesting Dataset\"}\n",
    "results = forge.search(filters, limit=3)\n",
    "print(f\"{len(results)} results found\")"
   ]
  },
  {
   "cell_type": "code",
   "execution_count": 25,
   "metadata": {},
   "outputs": [
    {
     "data": {
      "text/plain": [
       "{'id': 'https://bbp.epfl.ch/neurosciencegraph/data/37a1ec4a-8a29-4dca-84f8-9f4e373d685c',\n",
       " 'type': 'Dataset',\n",
       " 'distribution': {'type': 'DataDownload',\n",
       "  'atLocation': {'type': 'Location',\n",
       "   'store': {'id': 'https://bluebrain.github.io/nexus/vocabulary/diskStorageDefault'}},\n",
       "  'contentSize': {'unitCode': 'bytes', 'value': 16},\n",
       "  'contentUrl': 'https://staging.nexus.ocp.bbp.epfl.ch/v1/files/bbp/ncmv3/bb386ca8-ec50-449b-a5c3-703fa1fa74b9',\n",
       "  'digest': {'algorithm': 'SHA-256',\n",
       "   'value': 'df03e7e93f870c6731540b3cae26391670da682c7a8dbdd18448cbcfc4fb7981'},\n",
       "  'encodingFormat': 'application/octet-stream',\n",
       "  'name': 'my_data.xwz'},\n",
       " 'name': 'Interesting Dataset'}"
      ]
     },
     "execution_count": 25,
     "metadata": {},
     "output_type": "execute_result"
    }
   ],
   "source": [
    "forge.as_json(results[0])"
   ]
  },
  {
   "cell_type": "code",
   "execution_count": 26,
   "metadata": {},
   "outputs": [
    {
     "data": {
      "text/html": [
       "<div>\n",
       "<style scoped>\n",
       "    .dataframe tbody tr th:only-of-type {\n",
       "        vertical-align: middle;\n",
       "    }\n",
       "\n",
       "    .dataframe tbody tr th {\n",
       "        vertical-align: top;\n",
       "    }\n",
       "\n",
       "    .dataframe thead th {\n",
       "        text-align: right;\n",
       "    }\n",
       "</style>\n",
       "<table border=\"1\" class=\"dataframe\">\n",
       "  <thead>\n",
       "    <tr style=\"text-align: right;\">\n",
       "      <th></th>\n",
       "      <th>id</th>\n",
       "      <th>type</th>\n",
       "      <th>distribution.type</th>\n",
       "      <th>distribution.atLocation.type</th>\n",
       "      <th>distribution.atLocation.store.id</th>\n",
       "      <th>distribution.contentSize.unitCode</th>\n",
       "      <th>distribution.contentSize.value</th>\n",
       "      <th>distribution.contentUrl</th>\n",
       "      <th>distribution.digest.algorithm</th>\n",
       "      <th>distribution.digest.value</th>\n",
       "      <th>distribution.encodingFormat</th>\n",
       "      <th>distribution.name</th>\n",
       "      <th>name</th>\n",
       "    </tr>\n",
       "  </thead>\n",
       "  <tbody>\n",
       "    <tr>\n",
       "      <th>0</th>\n",
       "      <td>https://bbp.epfl.ch/neurosciencegraph/data/37a...</td>\n",
       "      <td>Dataset</td>\n",
       "      <td>DataDownload</td>\n",
       "      <td>Location</td>\n",
       "      <td>https://bluebrain.github.io/nexus/vocabulary/d...</td>\n",
       "      <td>bytes</td>\n",
       "      <td>16</td>\n",
       "      <td>https://staging.nexus.ocp.bbp.epfl.ch/v1/files...</td>\n",
       "      <td>SHA-256</td>\n",
       "      <td>df03e7e93f870c6731540b3cae26391670da682c7a8dbd...</td>\n",
       "      <td>application/octet-stream</td>\n",
       "      <td>my_data.xwz</td>\n",
       "      <td>Interesting Dataset</td>\n",
       "    </tr>\n",
       "    <tr>\n",
       "      <th>1</th>\n",
       "      <td>https://bbp.epfl.ch/neurosciencegraph/data/868...</td>\n",
       "      <td>Dataset</td>\n",
       "      <td>DataDownload</td>\n",
       "      <td>Location</td>\n",
       "      <td>https://bluebrain.github.io/nexus/vocabulary/d...</td>\n",
       "      <td>bytes</td>\n",
       "      <td>16</td>\n",
       "      <td>https://staging.nexus.ocp.bbp.epfl.ch/v1/files...</td>\n",
       "      <td>SHA-256</td>\n",
       "      <td>df03e7e93f870c6731540b3cae26391670da682c7a8dbd...</td>\n",
       "      <td>application/octet-stream</td>\n",
       "      <td>my_data.xwz</td>\n",
       "      <td>Interesting Dataset</td>\n",
       "    </tr>\n",
       "    <tr>\n",
       "      <th>2</th>\n",
       "      <td>https://bbp.epfl.ch/neurosciencegraph/data/417...</td>\n",
       "      <td>Dataset</td>\n",
       "      <td>DataDownload</td>\n",
       "      <td>Location</td>\n",
       "      <td>https://bluebrain.github.io/nexus/vocabulary/d...</td>\n",
       "      <td>bytes</td>\n",
       "      <td>16</td>\n",
       "      <td>https://staging.nexus.ocp.bbp.epfl.ch/v1/files...</td>\n",
       "      <td>SHA-256</td>\n",
       "      <td>df03e7e93f870c6731540b3cae26391670da682c7a8dbd...</td>\n",
       "      <td>application/octet-stream</td>\n",
       "      <td>my_data.xwz</td>\n",
       "      <td>Interesting Dataset</td>\n",
       "    </tr>\n",
       "  </tbody>\n",
       "</table>\n",
       "</div>"
      ],
      "text/plain": [
       "                                                  id     type  \\\n",
       "0  https://bbp.epfl.ch/neurosciencegraph/data/37a...  Dataset   \n",
       "1  https://bbp.epfl.ch/neurosciencegraph/data/868...  Dataset   \n",
       "2  https://bbp.epfl.ch/neurosciencegraph/data/417...  Dataset   \n",
       "\n",
       "  distribution.type distribution.atLocation.type  \\\n",
       "0      DataDownload                     Location   \n",
       "1      DataDownload                     Location   \n",
       "2      DataDownload                     Location   \n",
       "\n",
       "                    distribution.atLocation.store.id  \\\n",
       "0  https://bluebrain.github.io/nexus/vocabulary/d...   \n",
       "1  https://bluebrain.github.io/nexus/vocabulary/d...   \n",
       "2  https://bluebrain.github.io/nexus/vocabulary/d...   \n",
       "\n",
       "  distribution.contentSize.unitCode  distribution.contentSize.value  \\\n",
       "0                             bytes                              16   \n",
       "1                             bytes                              16   \n",
       "2                             bytes                              16   \n",
       "\n",
       "                             distribution.contentUrl  \\\n",
       "0  https://staging.nexus.ocp.bbp.epfl.ch/v1/files...   \n",
       "1  https://staging.nexus.ocp.bbp.epfl.ch/v1/files...   \n",
       "2  https://staging.nexus.ocp.bbp.epfl.ch/v1/files...   \n",
       "\n",
       "  distribution.digest.algorithm  \\\n",
       "0                       SHA-256   \n",
       "1                       SHA-256   \n",
       "2                       SHA-256   \n",
       "\n",
       "                           distribution.digest.value  \\\n",
       "0  df03e7e93f870c6731540b3cae26391670da682c7a8dbd...   \n",
       "1  df03e7e93f870c6731540b3cae26391670da682c7a8dbd...   \n",
       "2  df03e7e93f870c6731540b3cae26391670da682c7a8dbd...   \n",
       "\n",
       "  distribution.encodingFormat distribution.name                 name  \n",
       "0    application/octet-stream       my_data.xwz  Interesting Dataset  \n",
       "1    application/octet-stream       my_data.xwz  Interesting Dataset  \n",
       "2    application/octet-stream       my_data.xwz  Interesting Dataset  "
      ]
     },
     "execution_count": 26,
     "metadata": {},
     "output_type": "execute_result"
    }
   ],
   "source": [
    "# A list of resources can be transformed in pandas dataframe\n",
    "forge.as_dataframe(results)"
   ]
  },
  {
   "cell_type": "markdown",
   "metadata": {},
   "source": [
    "### Download"
   ]
  },
  {
   "cell_type": "code",
   "execution_count": 31,
   "metadata": {},
   "outputs": [],
   "source": [
    "# The argument overwrite: bool can be provided to decide whether to overwrite (True) existing files with the same name or\n",
    "# to create new ones (False) with their names suffixed with a timestamp  \n",
    "my_dataset.download(path=\"./downloaded/\", source=\"distributions\")"
   ]
  },
  {
   "cell_type": "code",
   "execution_count": 32,
   "metadata": {},
   "outputs": [
    {
     "name": "stdout",
     "output_type": "stream",
     "text": [
      "total 8\n",
      "-rw-r--r--  1 mfsy  staff  16 Aug 23 12:12 my_data.xwz\n"
     ]
    }
   ],
   "source": [
    "! ls -l ./downloaded"
   ]
  },
  {
   "cell_type": "code",
   "execution_count": null,
   "metadata": {},
   "outputs": [],
   "source": [
    "#! rm -R ./downloaded/"
   ]
  },
  {
   "cell_type": "markdown",
   "metadata": {},
   "source": [
    "### Get storage path\n",
    "In case the dataset files are stored in an external storage (e.g. GPFS), it is possible to get their location"
   ]
  },
  {
   "cell_type": "code",
   "execution_count": 33,
   "metadata": {},
   "outputs": [
    {
     "data": {
      "text/plain": [
       "{'type': 'Location',\n",
       " 'store': {'id': 'https://bluebrain.github.io/nexus/vocabulary/diskStorageDefault'}}"
      ]
     },
     "execution_count": 33,
     "metadata": {},
     "output_type": "execute_result"
    }
   ],
   "source": [
    "forge.as_json(my_dataset.distribution.atLocation)"
   ]
  },
  {
   "cell_type": "code",
   "execution_count": null,
   "metadata": {},
   "outputs": [],
   "source": [
    "# This will break when in staging as no gpfs storage is used\n",
    "my_dataset.distribution.atLocation.location"
   ]
  },
  {
   "cell_type": "markdown",
   "metadata": {},
   "source": [
    "### Add provenance information to the dataset\n",
    "\n",
    "Provenance are specific metadata accounting for (among other things) data lineage (derivation), who contributed to the generation of the dataset (contribution), how the dataset was generated (generation), the subject of the dataset if any (subject)."
   ]
  },
  {
   "cell_type": "markdown",
   "metadata": {},
   "source": [
    "#### Add derivation (from which datasets a given dataset derived from)\n",
    "Let consider the file ../../data/my_data_derived.txt to derive from ../../data/my_data.xwz"
   ]
  },
  {
   "cell_type": "code",
   "execution_count": 35,
   "metadata": {},
   "outputs": [],
   "source": [
    "# The file content type can be provided by setting the content_type.\n",
    "my_derived_data_distribution = forge.attach(\"../../data/my_data_derived.txt\", content_type=\"application/txt\")\n",
    "\n",
    "my_derived_dataset = Dataset(forge, name=\"Derived Dataset from my_dataset\", distribution=my_derived_data_distribution)"
   ]
  },
  {
   "cell_type": "code",
   "execution_count": 36,
   "metadata": {},
   "outputs": [
    {
     "name": "stdout",
     "output_type": "stream",
     "text": [
      "<action> _register_one\n",
      "<succeeded> True\n"
     ]
    }
   ],
   "source": [
    "forge.register(my_derived_dataset)"
   ]
  },
  {
   "cell_type": "code",
   "execution_count": 37,
   "metadata": {},
   "outputs": [],
   "source": [
    "result = forge.retrieve(id=my_derived_dataset.id)"
   ]
  },
  {
   "cell_type": "code",
   "execution_count": 38,
   "metadata": {},
   "outputs": [
    {
     "data": {
      "text/plain": [
       "{'id': 'https://bbp.epfl.ch/neurosciencegraph/data/817f7c26-e58c-4b83-8e38-9261bec4abd3',\n",
       " 'type': 'Dataset',\n",
       " 'distribution': {'type': 'DataDownload',\n",
       "  'atLocation': {'type': 'Location',\n",
       "   'store': {'id': 'https://bluebrain.github.io/nexus/vocabulary/diskStorageDefault'}},\n",
       "  'contentSize': {'unitCode': 'bytes', 'value': 24},\n",
       "  'contentUrl': 'https://staging.nexus.ocp.bbp.epfl.ch/v1/files/bbp/ncmv3/d0b43417-84d8-4f2f-8b7e-7fb26ff4b473',\n",
       "  'digest': {'algorithm': 'SHA-256',\n",
       "   'value': '0cb8f5c19ee618551fb27872cd24578eeb298963596a10fe6fccfd55c11258a4'},\n",
       "  'encodingFormat': 'application/txt',\n",
       "  'name': 'my_data_derived.txt'},\n",
       " 'name': 'Derived Dataset from my_dataset'}"
      ]
     },
     "execution_count": 38,
     "metadata": {},
     "output_type": "execute_result"
    }
   ],
   "source": [
    "# Note the added distribution property\n",
    "forge.as_json(result)"
   ]
  },
  {
   "cell_type": "code",
   "execution_count": 39,
   "metadata": {},
   "outputs": [],
   "source": [
    "# my_derived_dataset derived from my_dataset\n",
    "my_derived_dataset.add_derivation(my_dataset)"
   ]
  },
  {
   "cell_type": "code",
   "execution_count": 40,
   "metadata": {},
   "outputs": [
    {
     "name": "stdout",
     "output_type": "stream",
     "text": [
      "<action> _update_one\n",
      "<succeeded> True\n"
     ]
    }
   ],
   "source": [
    "# Since the my_derived_dataset is already registered, it can updated to store its derivation information. If no change occurs (i.e there is nothing to update),\n",
    "# then forge.update(...) will throw a \"UpdatingError: resource should not be synchronized\" error.\n",
    "forge.update(my_derived_dataset)"
   ]
  },
  {
   "cell_type": "code",
   "execution_count": 41,
   "metadata": {},
   "outputs": [
    {
     "data": {
      "text/plain": [
       "{'id': 'https://bbp.epfl.ch/neurosciencegraph/data/817f7c26-e58c-4b83-8e38-9261bec4abd3',\n",
       " 'type': 'Dataset',\n",
       " 'derivation': {'type': 'Derivation',\n",
       "  'entity': {'id': 'https://bbp.epfl.ch/neurosciencegraph/data/8efdf9e0-bb78-417b-948f-b5bc137b3587?rev=1',\n",
       "   'type': ['Entity', 'Dataset', 'MyOtherType'],\n",
       "   'name': 'Interesting Dataset'}},\n",
       " 'distribution': {'type': 'DataDownload',\n",
       "  'atLocation': {'type': 'Location',\n",
       "   'store': {'id': 'https://bluebrain.github.io/nexus/vocabulary/diskStorageDefault'}},\n",
       "  'contentSize': {'unitCode': 'bytes', 'value': 24},\n",
       "  'contentUrl': 'https://staging.nexus.ocp.bbp.epfl.ch/v1/files/bbp/ncmv3/d0b43417-84d8-4f2f-8b7e-7fb26ff4b473',\n",
       "  'digest': {'algorithm': 'SHA-256',\n",
       "   'value': '0cb8f5c19ee618551fb27872cd24578eeb298963596a10fe6fccfd55c11258a4'},\n",
       "  'encodingFormat': 'application/txt',\n",
       "  'name': 'my_data_derived.txt'},\n",
       " 'name': 'Derived Dataset from my_dataset',\n",
       " '_constrainedBy': 'https://bluebrain.github.io/nexus/schemas/unconstrained.json',\n",
       " '_createdAt': '2021-08-23T10:12:36.186Z',\n",
       " '_createdBy': 'https://staging.nexus.ocp.bbp.epfl.ch/v1/realms/bbp/users/sy',\n",
       " '_deprecated': False,\n",
       " '_incoming': 'https://staging.nexus.ocp.bbp.epfl.ch/v1/resources/bbp/ncmv3/_/817f7c26-e58c-4b83-8e38-9261bec4abd3/incoming',\n",
       " '_outgoing': 'https://staging.nexus.ocp.bbp.epfl.ch/v1/resources/bbp/ncmv3/_/817f7c26-e58c-4b83-8e38-9261bec4abd3/outgoing',\n",
       " '_project': 'https://staging.nexus.ocp.bbp.epfl.ch/v1/projects/bbp/ncmv3',\n",
       " '_rev': 2,\n",
       " '_schemaProject': 'https://staging.nexus.ocp.bbp.epfl.ch/v1/projects/bbp/ncmv3',\n",
       " '_self': 'https://staging.nexus.ocp.bbp.epfl.ch/v1/resources/bbp/ncmv3/_/817f7c26-e58c-4b83-8e38-9261bec4abd3',\n",
       " '_updatedAt': '2021-08-23T10:12:41.026Z',\n",
       " '_updatedBy': 'https://staging.nexus.ocp.bbp.epfl.ch/v1/realms/bbp/users/sy'}"
      ]
     },
     "execution_count": 41,
     "metadata": {},
     "output_type": "execute_result"
    }
   ],
   "source": [
    "# Note the increased _rev number because of the update\n",
    "forge.as_json(my_derived_dataset, store_metadata=True)"
   ]
  },
  {
   "cell_type": "markdown",
   "metadata": {},
   "source": [
    "#### Add contribution (which Person, Organization or Software contributed to the generation of the data)"
   ]
  },
  {
   "cell_type": "markdown",
   "metadata": {},
   "source": [
    "Adding contributors to the dataset. The contributors are john, jane and the persons stored in the ../../data/persons.csv file. All persons from the file will be resources in the knowledge graph to be able to reference them as contributors."
   ]
  },
  {
   "cell_type": "code",
   "execution_count": 42,
   "metadata": {},
   "outputs": [],
   "source": [
    "# An id can also be provided to add_contribution(). By default, ids are versioned when referenced to avoid being impacted by further changes and keep the state at which they were when referenced.\n",
    "for contributor in scientists:\n",
    "    my_derived_dataset.add_contribution(contributor)\n",
    "    \n",
    "my_derived_dataset.add_contribution(john.id, versioned=False)\n",
    "my_derived_dataset.add_contribution(jane)"
   ]
  },
  {
   "cell_type": "code",
   "execution_count": 43,
   "metadata": {},
   "outputs": [
    {
     "name": "stdout",
     "output_type": "stream",
     "text": [
      "<action> _update_one\n",
      "<succeeded> True\n"
     ]
    }
   ],
   "source": [
    "forge.update(my_derived_dataset)"
   ]
  },
  {
   "cell_type": "code",
   "execution_count": 44,
   "metadata": {},
   "outputs": [],
   "source": [
    "result = forge.retrieve(id= my_derived_dataset.id)"
   ]
  },
  {
   "cell_type": "code",
   "execution_count": 45,
   "metadata": {},
   "outputs": [
    {
     "data": {
      "text/plain": [
       "{'id': 'https://bbp.epfl.ch/neurosciencegraph/data/817f7c26-e58c-4b83-8e38-9261bec4abd3',\n",
       " 'type': 'Dataset',\n",
       " 'contribution': [{'type': 'Contribution',\n",
       "   'agent': {'id': 'https://www.wikidata.org/wiki/Q7186?rev=1',\n",
       "    'type': 'Person'}},\n",
       "  {'type': 'Contribution',\n",
       "   'agent': {'id': 'https://www.wikidata.org/wiki/Q937?rev=1',\n",
       "    'type': 'Person'}},\n",
       "  {'type': 'Contribution',\n",
       "   'agent': {'id': 'https://bbp.epfl.ch/neurosciencegraph/data/f7be52ed-75aa-4ac4-bfd5-ad7b75e36469',\n",
       "    'type': 'Agent'}},\n",
       "  {'type': 'Contribution',\n",
       "   'agent': {'id': 'https://bbp.epfl.ch/neurosciencegraph/data/cbef0a1b-497e-4e4e-90d5-50c66bd6f1c0?rev=1',\n",
       "    'type': 'Person'}}],\n",
       " 'derivation': {'type': 'Derivation',\n",
       "  'entity': {'id': 'https://bbp.epfl.ch/neurosciencegraph/data/8efdf9e0-bb78-417b-948f-b5bc137b3587?rev=1',\n",
       "   'type': ['Entity', 'Dataset', 'MyOtherType'],\n",
       "   'name': 'Interesting Dataset'}},\n",
       " 'distribution': {'type': 'DataDownload',\n",
       "  'atLocation': {'type': 'Location',\n",
       "   'store': {'id': 'https://bluebrain.github.io/nexus/vocabulary/diskStorageDefault'}},\n",
       "  'contentSize': {'unitCode': 'bytes', 'value': 24},\n",
       "  'contentUrl': 'https://staging.nexus.ocp.bbp.epfl.ch/v1/files/bbp/ncmv3/d0b43417-84d8-4f2f-8b7e-7fb26ff4b473',\n",
       "  'digest': {'algorithm': 'SHA-256',\n",
       "   'value': '0cb8f5c19ee618551fb27872cd24578eeb298963596a10fe6fccfd55c11258a4'},\n",
       "  'encodingFormat': 'application/txt',\n",
       "  'name': 'my_data_derived.txt'},\n",
       " 'name': 'Derived Dataset from my_dataset'}"
      ]
     },
     "execution_count": 45,
     "metadata": {},
     "output_type": "execute_result"
    }
   ],
   "source": [
    "forge.as_json(result)"
   ]
  },
  {
   "cell_type": "code",
   "execution_count": 46,
   "metadata": {},
   "outputs": [
    {
     "data": {
      "text/plain": [
       "{'id': 'https://bbp.epfl.ch/neurosciencegraph/data/817f7c26-e58c-4b83-8e38-9261bec4abd3',\n",
       " 'type': 'Dataset',\n",
       " 'contribution': [{'type': 'Contribution',\n",
       "   'agent': {'id': 'https://www.wikidata.org/wiki/Q7186?rev=1',\n",
       "    'type': 'Person'}},\n",
       "  {'type': 'Contribution',\n",
       "   'agent': {'id': 'https://www.wikidata.org/wiki/Q937?rev=1',\n",
       "    'type': 'Person'}},\n",
       "  {'type': 'Contribution',\n",
       "   'agent': {'id': 'https://bbp.epfl.ch/neurosciencegraph/data/f7be52ed-75aa-4ac4-bfd5-ad7b75e36469',\n",
       "    'type': 'Agent'}},\n",
       "  {'type': 'Contribution',\n",
       "   'agent': {'id': 'https://bbp.epfl.ch/neurosciencegraph/data/cbef0a1b-497e-4e4e-90d5-50c66bd6f1c0?rev=1',\n",
       "    'type': 'Person'}}],\n",
       " 'derivation': {'type': 'Derivation',\n",
       "  'entity': {'id': 'https://bbp.epfl.ch/neurosciencegraph/data/8efdf9e0-bb78-417b-948f-b5bc137b3587?rev=1',\n",
       "   'type': ['Entity', 'Dataset', 'MyOtherType'],\n",
       "   'name': 'Interesting Dataset'}},\n",
       " 'distribution': {'type': 'DataDownload',\n",
       "  'atLocation': {'type': 'Location',\n",
       "   'store': {'id': 'https://bluebrain.github.io/nexus/vocabulary/diskStorageDefault'}},\n",
       "  'contentSize': {'unitCode': 'bytes', 'value': 24},\n",
       "  'contentUrl': 'https://staging.nexus.ocp.bbp.epfl.ch/v1/files/bbp/ncmv3/d0b43417-84d8-4f2f-8b7e-7fb26ff4b473',\n",
       "  'digest': {'algorithm': 'SHA-256',\n",
       "   'value': '0cb8f5c19ee618551fb27872cd24578eeb298963596a10fe6fccfd55c11258a4'},\n",
       "  'encodingFormat': 'application/txt',\n",
       "  'name': 'my_data_derived.txt'},\n",
       " 'name': 'Derived Dataset from my_dataset',\n",
       " '_constrainedBy': 'https://bluebrain.github.io/nexus/schemas/unconstrained.json',\n",
       " '_createdAt': '2021-08-23T10:12:36.186Z',\n",
       " '_createdBy': 'https://staging.nexus.ocp.bbp.epfl.ch/v1/realms/bbp/users/sy',\n",
       " '_deprecated': False,\n",
       " '_incoming': 'https://staging.nexus.ocp.bbp.epfl.ch/v1/resources/bbp/ncmv3/_/817f7c26-e58c-4b83-8e38-9261bec4abd3/incoming',\n",
       " '_outgoing': 'https://staging.nexus.ocp.bbp.epfl.ch/v1/resources/bbp/ncmv3/_/817f7c26-e58c-4b83-8e38-9261bec4abd3/outgoing',\n",
       " '_project': 'https://staging.nexus.ocp.bbp.epfl.ch/v1/projects/bbp/ncmv3',\n",
       " '_rev': 3,\n",
       " '_schemaProject': 'https://staging.nexus.ocp.bbp.epfl.ch/v1/projects/bbp/ncmv3',\n",
       " '_self': 'https://staging.nexus.ocp.bbp.epfl.ch/v1/resources/bbp/ncmv3/_/817f7c26-e58c-4b83-8e38-9261bec4abd3',\n",
       " '_updatedAt': '2021-08-23T10:12:44.670Z',\n",
       " '_updatedBy': 'https://staging.nexus.ocp.bbp.epfl.ch/v1/realms/bbp/users/sy'}"
      ]
     },
     "execution_count": 46,
     "metadata": {},
     "output_type": "execute_result"
    }
   ],
   "source": [
    "# By adding store_metadata=True, the revision number of a resource can be introspected\n",
    "forge.as_json(result, store_metadata=True)"
   ]
  },
  {
   "cell_type": "markdown",
   "metadata": {},
   "source": [
    "#### Add generation (which activity lead to the generation of the my_derived_dataset)\n",
    "An activity used some entity to generate new ones aand can potentially follow a Protocol. It has a start and end time and is associated with some agents (Person, Organization and/or SoftwareAgent)"
   ]
  },
  {
   "cell_type": "code",
   "execution_count": 47,
   "metadata": {},
   "outputs": [],
   "source": [
    "#Was a protocol followed ?\n",
    "protocol = Resource(type=\"Protocol\", name=\"Protocol used to generate the dataset\", description=\"Description of the protocol\")\n",
    "                    \n",
    "activity = Resource(type=[\"Activity\", \"MyCustomActivity\"], \n",
    "                    description= \"Activity\",\n",
    "                    used=Resource(id=my_dataset.id,type = my_dataset.type), # the value here can be an array of any dataset or entity (e.g. config files) that was used to generate my_derived_dataset \n",
    "                    hadProtocol=protocol,\n",
    "                    startedAtTime=startedAtTime, \n",
    "                    endedAtTime=time.strftime(\"%Y%m%d%H%M%S\"),\n",
    "                    wasAssociatedWith= Resource(id = jane.id,type = jane.type) # the value here can be an array of any agents\n",
    "                   )"
   ]
  },
  {
   "cell_type": "code",
   "execution_count": 48,
   "metadata": {},
   "outputs": [
    {
     "name": "stdout",
     "output_type": "stream",
     "text": [
      "<action> _register_one\n",
      "<succeeded> True\n"
     ]
    }
   ],
   "source": [
    "forge.register(activity)"
   ]
  },
  {
   "cell_type": "code",
   "execution_count": 49,
   "metadata": {},
   "outputs": [
    {
     "data": {
      "text/plain": [
       "{'id': 'https://bbp.epfl.ch/neurosciencegraph/data/e0ac3c0e-1e60-480a-b900-d31eda8d5709',\n",
       " 'type': ['Activity', 'MyCustomActivity'],\n",
       " 'description': 'Activity',\n",
       " 'endedAtTime': '20210823121249',\n",
       " 'hadProtocol': {'type': 'Protocol',\n",
       "  'description': 'Description of the protocol',\n",
       "  'name': 'Protocol used to generate the dataset'},\n",
       " 'startedAtTime': '20210823121052',\n",
       " 'used': {'id': 'https://bbp.epfl.ch/neurosciencegraph/data/8efdf9e0-bb78-417b-948f-b5bc137b3587',\n",
       "  'type': ['Entity', 'Dataset', 'MyOtherType']},\n",
       " 'wasAssociatedWith': {'id': 'https://bbp.epfl.ch/neurosciencegraph/data/cbef0a1b-497e-4e4e-90d5-50c66bd6f1c0',\n",
       "  'type': 'Person'}}"
      ]
     },
     "execution_count": 49,
     "metadata": {},
     "output_type": "execute_result"
    }
   ],
   "source": [
    "forge.as_json(activity)"
   ]
  },
  {
   "cell_type": "code",
   "execution_count": 50,
   "metadata": {},
   "outputs": [],
   "source": [
    "my_derived_dataset.add_generation(activity)"
   ]
  },
  {
   "cell_type": "code",
   "execution_count": 51,
   "metadata": {},
   "outputs": [
    {
     "name": "stdout",
     "output_type": "stream",
     "text": [
      "<action> _update_one\n",
      "<succeeded> True\n"
     ]
    }
   ],
   "source": [
    "forge.update(my_derived_dataset)"
   ]
  },
  {
   "cell_type": "code",
   "execution_count": 52,
   "metadata": {},
   "outputs": [
    {
     "data": {
      "text/plain": [
       "{'id': 'https://bbp.epfl.ch/neurosciencegraph/data/817f7c26-e58c-4b83-8e38-9261bec4abd3',\n",
       " 'type': 'Dataset',\n",
       " 'contribution': [{'type': 'Contribution',\n",
       "   'agent': {'id': 'https://www.wikidata.org/wiki/Q7186?rev=1',\n",
       "    'type': 'Person'}},\n",
       "  {'type': 'Contribution',\n",
       "   'agent': {'id': 'https://www.wikidata.org/wiki/Q937?rev=1',\n",
       "    'type': 'Person'}},\n",
       "  {'type': 'Contribution',\n",
       "   'agent': {'id': 'https://bbp.epfl.ch/neurosciencegraph/data/f7be52ed-75aa-4ac4-bfd5-ad7b75e36469',\n",
       "    'type': 'Agent'}},\n",
       "  {'type': 'Contribution',\n",
       "   'agent': {'id': 'https://bbp.epfl.ch/neurosciencegraph/data/cbef0a1b-497e-4e4e-90d5-50c66bd6f1c0?rev=1',\n",
       "    'type': 'Person'}}],\n",
       " 'derivation': {'type': 'Derivation',\n",
       "  'entity': {'id': 'https://bbp.epfl.ch/neurosciencegraph/data/8efdf9e0-bb78-417b-948f-b5bc137b3587?rev=1',\n",
       "   'type': ['Entity', 'Dataset', 'MyOtherType'],\n",
       "   'name': 'Interesting Dataset'}},\n",
       " 'distribution': {'type': 'DataDownload',\n",
       "  'atLocation': {'type': 'Location',\n",
       "   'store': {'id': 'https://bluebrain.github.io/nexus/vocabulary/diskStorageDefault'}},\n",
       "  'contentSize': {'unitCode': 'bytes', 'value': 24},\n",
       "  'contentUrl': 'https://staging.nexus.ocp.bbp.epfl.ch/v1/files/bbp/ncmv3/d0b43417-84d8-4f2f-8b7e-7fb26ff4b473',\n",
       "  'digest': {'algorithm': 'SHA-256',\n",
       "   'value': '0cb8f5c19ee618551fb27872cd24578eeb298963596a10fe6fccfd55c11258a4'},\n",
       "  'encodingFormat': 'application/txt',\n",
       "  'name': 'my_data_derived.txt'},\n",
       " 'generation': {'type': 'Generation',\n",
       "  'activity': {'id': 'https://bbp.epfl.ch/neurosciencegraph/data/e0ac3c0e-1e60-480a-b900-d31eda8d5709?rev=1',\n",
       "   'type': ['Activity', 'MyCustomActivity']}},\n",
       " 'name': 'Derived Dataset from my_dataset'}"
      ]
     },
     "execution_count": 52,
     "metadata": {},
     "output_type": "execute_result"
    }
   ],
   "source": [
    "forge.as_json(my_derived_dataset)"
   ]
  },
  {
   "cell_type": "markdown",
   "metadata": {},
   "source": [
    "#### Add Subject\n",
    "\n",
    "The subject on wich the study was performeed can be added if any. The [subject schema](https://bbp-nexus.epfl.ch/datamodels/class-subject.html) can be used for more informatation."
   ]
  },
  {
   "cell_type": "code",
   "execution_count": 53,
   "metadata": {},
   "outputs": [],
   "source": [
    "# Note that Resource can be used as value of a property\n",
    "\n",
    "my_derived_dataset.subject = Resource(type=[\"Subject\",\"Entity\"],\n",
    "                                      name=\"P14-12 Rattus norvegicus Wistar Han\",\n",
    "                                      species= Resource(id=\"http://purl.obolibrary.org/obo/NCBITaxon_10116\", label=\"Rattus norvegicus\"),\n",
    "                                      strain = Resource(id=\"http://purl.obolibrary.org/obo/RS_0001833\", label=\"Wistar Han\"),\n",
    "                                      age    = Resource(period=\"Post-natal\", value=14, unitCode=\"days\"),\n",
    "                                      sex    = Resource(id=\"http://purl.obolibrary.org/obo/PATO_0000384\", label=\"male\")\n",
    "                                     )\n",
    "\n"
   ]
  },
  {
   "cell_type": "code",
   "execution_count": 54,
   "metadata": {},
   "outputs": [
    {
     "name": "stdout",
     "output_type": "stream",
     "text": [
      "<action> _update_one\n",
      "<succeeded> True\n"
     ]
    }
   ],
   "source": [
    "forge.update(my_derived_dataset)"
   ]
  },
  {
   "cell_type": "code",
   "execution_count": 55,
   "metadata": {},
   "outputs": [
    {
     "data": {
      "text/plain": [
       "{'id': 'https://bbp.epfl.ch/neurosciencegraph/data/817f7c26-e58c-4b83-8e38-9261bec4abd3',\n",
       " 'type': 'Dataset',\n",
       " 'contribution': [{'type': 'Contribution',\n",
       "   'agent': {'id': 'https://www.wikidata.org/wiki/Q7186?rev=1',\n",
       "    'type': 'Person'}},\n",
       "  {'type': 'Contribution',\n",
       "   'agent': {'id': 'https://www.wikidata.org/wiki/Q937?rev=1',\n",
       "    'type': 'Person'}},\n",
       "  {'type': 'Contribution',\n",
       "   'agent': {'id': 'https://bbp.epfl.ch/neurosciencegraph/data/f7be52ed-75aa-4ac4-bfd5-ad7b75e36469',\n",
       "    'type': 'Agent'}},\n",
       "  {'type': 'Contribution',\n",
       "   'agent': {'id': 'https://bbp.epfl.ch/neurosciencegraph/data/cbef0a1b-497e-4e4e-90d5-50c66bd6f1c0?rev=1',\n",
       "    'type': 'Person'}}],\n",
       " 'derivation': {'type': 'Derivation',\n",
       "  'entity': {'id': 'https://bbp.epfl.ch/neurosciencegraph/data/8efdf9e0-bb78-417b-948f-b5bc137b3587?rev=1',\n",
       "   'type': ['Entity', 'Dataset', 'MyOtherType'],\n",
       "   'name': 'Interesting Dataset'}},\n",
       " 'distribution': {'type': 'DataDownload',\n",
       "  'atLocation': {'type': 'Location',\n",
       "   'store': {'id': 'https://bluebrain.github.io/nexus/vocabulary/diskStorageDefault'}},\n",
       "  'contentSize': {'unitCode': 'bytes', 'value': 24},\n",
       "  'contentUrl': 'https://staging.nexus.ocp.bbp.epfl.ch/v1/files/bbp/ncmv3/d0b43417-84d8-4f2f-8b7e-7fb26ff4b473',\n",
       "  'digest': {'algorithm': 'SHA-256',\n",
       "   'value': '0cb8f5c19ee618551fb27872cd24578eeb298963596a10fe6fccfd55c11258a4'},\n",
       "  'encodingFormat': 'application/txt',\n",
       "  'name': 'my_data_derived.txt'},\n",
       " 'generation': {'type': 'Generation',\n",
       "  'activity': {'id': 'https://bbp.epfl.ch/neurosciencegraph/data/e0ac3c0e-1e60-480a-b900-d31eda8d5709?rev=1',\n",
       "   'type': ['Activity', 'MyCustomActivity']}},\n",
       " 'name': 'Derived Dataset from my_dataset',\n",
       " 'subject': {'type': ['Subject', 'Entity'],\n",
       "  'age': {'period': 'Post-natal', 'unitCode': 'days', 'value': 14},\n",
       "  'name': 'P14-12 Rattus norvegicus Wistar Han',\n",
       "  'sex': {'id': 'http://purl.obolibrary.org/obo/PATO_0000384',\n",
       "   'label': 'male'},\n",
       "  'species': {'id': 'http://purl.obolibrary.org/obo/NCBITaxon_10116',\n",
       "   'label': 'Rattus norvegicus'},\n",
       "  'strain': {'id': 'http://purl.obolibrary.org/obo/RS_0001833',\n",
       "   'label': 'Wistar Han'}}}"
      ]
     },
     "execution_count": 55,
     "metadata": {},
     "output_type": "execute_result"
    }
   ],
   "source": [
    "forge.as_json(my_derived_dataset)"
   ]
  },
  {
   "cell_type": "markdown",
   "metadata": {},
   "source": [
    "#### Add license"
   ]
  },
  {
   "cell_type": "code",
   "execution_count": 56,
   "metadata": {},
   "outputs": [],
   "source": [
    "my_derived_dataset.license = Resource (id=\"https://creativecommons.org/licenses/by/4.0\", label=\"CC BY 4.0\", description=\"You must give appropriate credit, provide a link to the license, and indicate if changes were made. You may do so in any reasonable manner, but not in any way that suggests the licensor endorses you or your use.\") # this is just an example"
   ]
  },
  {
   "cell_type": "code",
   "execution_count": 57,
   "metadata": {},
   "outputs": [
    {
     "name": "stdout",
     "output_type": "stream",
     "text": [
      "<action> _update_one\n",
      "<succeeded> True\n"
     ]
    }
   ],
   "source": [
    "forge.update(my_derived_dataset)"
   ]
  },
  {
   "cell_type": "code",
   "execution_count": 58,
   "metadata": {},
   "outputs": [
    {
     "data": {
      "text/plain": [
       "{'id': 'https://bbp.epfl.ch/neurosciencegraph/data/817f7c26-e58c-4b83-8e38-9261bec4abd3',\n",
       " 'type': 'Dataset',\n",
       " 'contribution': [{'type': 'Contribution',\n",
       "   'agent': {'id': 'https://www.wikidata.org/wiki/Q7186?rev=1',\n",
       "    'type': 'Person'}},\n",
       "  {'type': 'Contribution',\n",
       "   'agent': {'id': 'https://www.wikidata.org/wiki/Q937?rev=1',\n",
       "    'type': 'Person'}},\n",
       "  {'type': 'Contribution',\n",
       "   'agent': {'id': 'https://bbp.epfl.ch/neurosciencegraph/data/f7be52ed-75aa-4ac4-bfd5-ad7b75e36469',\n",
       "    'type': 'Agent'}},\n",
       "  {'type': 'Contribution',\n",
       "   'agent': {'id': 'https://bbp.epfl.ch/neurosciencegraph/data/cbef0a1b-497e-4e4e-90d5-50c66bd6f1c0?rev=1',\n",
       "    'type': 'Person'}}],\n",
       " 'derivation': {'type': 'Derivation',\n",
       "  'entity': {'id': 'https://bbp.epfl.ch/neurosciencegraph/data/8efdf9e0-bb78-417b-948f-b5bc137b3587?rev=1',\n",
       "   'type': ['Entity', 'Dataset', 'MyOtherType'],\n",
       "   'name': 'Interesting Dataset'}},\n",
       " 'distribution': {'type': 'DataDownload',\n",
       "  'atLocation': {'type': 'Location',\n",
       "   'store': {'id': 'https://bluebrain.github.io/nexus/vocabulary/diskStorageDefault'}},\n",
       "  'contentSize': {'unitCode': 'bytes', 'value': 24},\n",
       "  'contentUrl': 'https://staging.nexus.ocp.bbp.epfl.ch/v1/files/bbp/ncmv3/d0b43417-84d8-4f2f-8b7e-7fb26ff4b473',\n",
       "  'digest': {'algorithm': 'SHA-256',\n",
       "   'value': '0cb8f5c19ee618551fb27872cd24578eeb298963596a10fe6fccfd55c11258a4'},\n",
       "  'encodingFormat': 'application/txt',\n",
       "  'name': 'my_data_derived.txt'},\n",
       " 'generation': {'type': 'Generation',\n",
       "  'activity': {'id': 'https://bbp.epfl.ch/neurosciencegraph/data/e0ac3c0e-1e60-480a-b900-d31eda8d5709?rev=1',\n",
       "   'type': ['Activity', 'MyCustomActivity']}},\n",
       " 'license': {'id': 'https://creativecommons.org/licenses/by/4.0',\n",
       "  'label': 'CC BY 4.0',\n",
       "  'description': 'You must give appropriate credit, provide a link to the license, and indicate if changes were made. You may do so in any reasonable manner, but not in any way that suggests the licensor endorses you or your use.'},\n",
       " 'name': 'Derived Dataset from my_dataset',\n",
       " 'subject': {'type': ['Subject', 'Entity'],\n",
       "  'age': {'period': 'Post-natal', 'unitCode': 'days', 'value': 14},\n",
       "  'name': 'P14-12 Rattus norvegicus Wistar Han',\n",
       "  'sex': {'id': 'http://purl.obolibrary.org/obo/PATO_0000384',\n",
       "   'label': 'male'},\n",
       "  'species': {'id': 'http://purl.obolibrary.org/obo/NCBITaxon_10116',\n",
       "   'label': 'Rattus norvegicus'},\n",
       "  'strain': {'id': 'http://purl.obolibrary.org/obo/RS_0001833',\n",
       "   'label': 'Wistar Han'}}}"
      ]
     },
     "execution_count": 58,
     "metadata": {},
     "output_type": "execute_result"
    }
   ],
   "source": [
    "forge.as_json(my_derived_dataset)"
   ]
  },
  {
   "cell_type": "markdown",
   "metadata": {},
   "source": [
    "### Tag the dataset\n",
    "Tagging a dataset is equivalent to git tag. It allows to version a dataset."
   ]
  },
  {
   "cell_type": "code",
   "execution_count": 59,
   "metadata": {},
   "outputs": [
    {
     "name": "stdout",
     "output_type": "stream",
     "text": [
      "<action> _tag_one\n",
      "<succeeded> True\n"
     ]
    }
   ],
   "source": [
    "forge.tag(my_derived_dataset, value=\"releaseV112\")"
   ]
  },
  {
   "cell_type": "code",
   "execution_count": 60,
   "metadata": {},
   "outputs": [],
   "source": [
    "my_derived_dataset.description=\"Derived Dataset description\""
   ]
  },
  {
   "cell_type": "code",
   "execution_count": 61,
   "metadata": {},
   "outputs": [
    {
     "name": "stdout",
     "output_type": "stream",
     "text": [
      "<action> _update_one\n",
      "<succeeded> True\n"
     ]
    }
   ],
   "source": [
    "forge.update(my_derived_dataset)"
   ]
  },
  {
   "cell_type": "code",
   "execution_count": 62,
   "metadata": {},
   "outputs": [
    {
     "data": {
      "text/plain": [
       "{'id': 'https://bbp.epfl.ch/neurosciencegraph/data/817f7c26-e58c-4b83-8e38-9261bec4abd3',\n",
       " 'type': 'Dataset',\n",
       " 'contribution': [{'type': 'Contribution',\n",
       "   'agent': {'id': 'https://www.wikidata.org/wiki/Q7186?rev=1',\n",
       "    'type': 'Person'}},\n",
       "  {'type': 'Contribution',\n",
       "   'agent': {'id': 'https://www.wikidata.org/wiki/Q937?rev=1',\n",
       "    'type': 'Person'}},\n",
       "  {'type': 'Contribution',\n",
       "   'agent': {'id': 'https://bbp.epfl.ch/neurosciencegraph/data/f7be52ed-75aa-4ac4-bfd5-ad7b75e36469',\n",
       "    'type': 'Agent'}},\n",
       "  {'type': 'Contribution',\n",
       "   'agent': {'id': 'https://bbp.epfl.ch/neurosciencegraph/data/cbef0a1b-497e-4e4e-90d5-50c66bd6f1c0?rev=1',\n",
       "    'type': 'Person'}}],\n",
       " 'derivation': {'type': 'Derivation',\n",
       "  'entity': {'id': 'https://bbp.epfl.ch/neurosciencegraph/data/8efdf9e0-bb78-417b-948f-b5bc137b3587?rev=1',\n",
       "   'type': ['Entity', 'Dataset', 'MyOtherType'],\n",
       "   'name': 'Interesting Dataset'}},\n",
       " 'description': 'Derived Dataset description',\n",
       " 'distribution': {'type': 'DataDownload',\n",
       "  'atLocation': {'type': 'Location',\n",
       "   'store': {'id': 'https://bluebrain.github.io/nexus/vocabulary/diskStorageDefault'}},\n",
       "  'contentSize': {'unitCode': 'bytes', 'value': 24},\n",
       "  'contentUrl': 'https://staging.nexus.ocp.bbp.epfl.ch/v1/files/bbp/ncmv3/d0b43417-84d8-4f2f-8b7e-7fb26ff4b473',\n",
       "  'digest': {'algorithm': 'SHA-256',\n",
       "   'value': '0cb8f5c19ee618551fb27872cd24578eeb298963596a10fe6fccfd55c11258a4'},\n",
       "  'encodingFormat': 'application/txt',\n",
       "  'name': 'my_data_derived.txt'},\n",
       " 'generation': {'type': 'Generation',\n",
       "  'activity': {'id': 'https://bbp.epfl.ch/neurosciencegraph/data/e0ac3c0e-1e60-480a-b900-d31eda8d5709?rev=1',\n",
       "   'type': ['Activity', 'MyCustomActivity']}},\n",
       " 'license': {'id': 'https://creativecommons.org/licenses/by/4.0',\n",
       "  'label': 'CC BY 4.0',\n",
       "  'description': 'You must give appropriate credit, provide a link to the license, and indicate if changes were made. You may do so in any reasonable manner, but not in any way that suggests the licensor endorses you or your use.'},\n",
       " 'name': 'Derived Dataset from my_dataset',\n",
       " 'subject': {'type': ['Subject', 'Entity'],\n",
       "  'age': {'period': 'Post-natal', 'unitCode': 'days', 'value': 14},\n",
       "  'name': 'P14-12 Rattus norvegicus Wistar Han',\n",
       "  'sex': {'id': 'http://purl.obolibrary.org/obo/PATO_0000384',\n",
       "   'label': 'male'},\n",
       "  'species': {'id': 'http://purl.obolibrary.org/obo/NCBITaxon_10116',\n",
       "   'label': 'Rattus norvegicus'},\n",
       "  'strain': {'id': 'http://purl.obolibrary.org/obo/RS_0001833',\n",
       "   'label': 'Wistar Han'}}}"
      ]
     },
     "execution_count": 62,
     "metadata": {},
     "output_type": "execute_result"
    }
   ],
   "source": [
    "forge.as_json(my_derived_dataset)"
   ]
  },
  {
   "cell_type": "code",
   "execution_count": 65,
   "metadata": {},
   "outputs": [],
   "source": [
    "# version argument can be specified to retroeive the dataset at a given tag.\n",
    "result = forge.retrieve(id=my_derived_dataset.id, version=\"releaseV112\")"
   ]
  },
  {
   "cell_type": "code",
   "execution_count": 66,
   "metadata": {},
   "outputs": [
    {
     "data": {
      "text/plain": [
       "{'id': 'https://bbp.epfl.ch/neurosciencegraph/data/817f7c26-e58c-4b83-8e38-9261bec4abd3',\n",
       " 'type': 'Dataset',\n",
       " 'contribution': [{'type': 'Contribution',\n",
       "   'agent': {'id': 'https://www.wikidata.org/wiki/Q7186?rev=1',\n",
       "    'type': 'Person'}},\n",
       "  {'type': 'Contribution',\n",
       "   'agent': {'id': 'https://www.wikidata.org/wiki/Q937?rev=1',\n",
       "    'type': 'Person'}},\n",
       "  {'type': 'Contribution',\n",
       "   'agent': {'id': 'https://bbp.epfl.ch/neurosciencegraph/data/f7be52ed-75aa-4ac4-bfd5-ad7b75e36469',\n",
       "    'type': 'Agent'}},\n",
       "  {'type': 'Contribution',\n",
       "   'agent': {'id': 'https://bbp.epfl.ch/neurosciencegraph/data/cbef0a1b-497e-4e4e-90d5-50c66bd6f1c0?rev=1',\n",
       "    'type': 'Person'}}],\n",
       " 'derivation': {'type': 'Derivation',\n",
       "  'entity': {'id': 'https://bbp.epfl.ch/neurosciencegraph/data/8efdf9e0-bb78-417b-948f-b5bc137b3587?rev=1',\n",
       "   'type': ['Entity', 'Dataset', 'MyOtherType'],\n",
       "   'name': 'Interesting Dataset'}},\n",
       " 'distribution': {'type': 'DataDownload',\n",
       "  'atLocation': {'type': 'Location',\n",
       "   'store': {'id': 'https://bluebrain.github.io/nexus/vocabulary/diskStorageDefault'}},\n",
       "  'contentSize': {'unitCode': 'bytes', 'value': 24},\n",
       "  'contentUrl': 'https://staging.nexus.ocp.bbp.epfl.ch/v1/files/bbp/ncmv3/d0b43417-84d8-4f2f-8b7e-7fb26ff4b473',\n",
       "  'digest': {'algorithm': 'SHA-256',\n",
       "   'value': '0cb8f5c19ee618551fb27872cd24578eeb298963596a10fe6fccfd55c11258a4'},\n",
       "  'encodingFormat': 'application/txt',\n",
       "  'name': 'my_data_derived.txt'},\n",
       " 'generation': {'type': 'Generation',\n",
       "  'activity': {'id': 'https://bbp.epfl.ch/neurosciencegraph/data/e0ac3c0e-1e60-480a-b900-d31eda8d5709?rev=1',\n",
       "   'type': ['Activity', 'MyCustomActivity']}},\n",
       " 'license': {'id': 'https://creativecommons.org/licenses/by/4.0',\n",
       "  'label': 'CC BY 4.0',\n",
       "  'description': 'You must give appropriate credit, provide a link to the license, and indicate if changes were made. You may do so in any reasonable manner, but not in any way that suggests the licensor endorses you or your use.'},\n",
       " 'name': 'Derived Dataset from my_dataset',\n",
       " 'subject': {'type': ['Subject', 'Entity'],\n",
       "  'age': {'period': 'Post-natal', 'unitCode': 'days', 'value': 14},\n",
       "  'name': 'P14-12 Rattus norvegicus Wistar Han',\n",
       "  'sex': {'id': 'http://purl.obolibrary.org/obo/PATO_0000384',\n",
       "   'label': 'male'},\n",
       "  'species': {'id': 'http://purl.obolibrary.org/obo/NCBITaxon_10116',\n",
       "   'label': 'Rattus norvegicus'},\n",
       "  'strain': {'id': 'http://purl.obolibrary.org/obo/RS_0001833',\n",
       "   'label': 'Wistar Han'}}}"
      ]
     },
     "execution_count": 66,
     "metadata": {},
     "output_type": "execute_result"
    }
   ],
   "source": [
    "# Note that description is not retrieved as it was added after the tag\n",
    "forge.as_json(result)"
   ]
  }
 ],
 "metadata": {
  "kernelspec": {
   "display_name": "Python (nexusforgelatest)",
   "language": "python",
   "name": "nexusforgelatest"
  },
  "language_info": {
   "codemirror_mode": {
    "name": "ipython",
    "version": 3
   },
   "file_extension": ".py",
   "mimetype": "text/x-python",
   "name": "python",
   "nbconvert_exporter": "python",
   "pygments_lexer": "ipython3",
   "version": "3.6.10"
  }
 },
 "nbformat": 4,
 "nbformat_minor": 4
}

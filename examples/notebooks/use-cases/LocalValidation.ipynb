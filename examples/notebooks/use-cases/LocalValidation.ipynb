{
 "cells": [
  {
   "cell_type": "markdown",
   "metadata": {},
   "source": [
    "# Resolving Strategies\n",
    "\n",
    "* Example on how to use resolving strategies\n"
   ]
  },
  {
   "cell_type": "code",
   "execution_count": null,
   "metadata": {
    "ExecuteTime": {
     "end_time": "2019-09-23T18:50:20.068658Z",
     "start_time": "2019-09-23T18:50:19.054054Z"
    }
   },
   "outputs": [],
   "source": [
    "import os\n",
    "import json\n",
    "\n",
    "from kgforge.core import KnowledgeGraphForge\n",
    "from kgforge.specializations.resources import Dataset"
   ]
  },
  {
   "cell_type": "code",
   "execution_count": null,
   "metadata": {},
   "outputs": [],
   "source": [
    "# import getpass\n",
    "# TOKEN = getpass.getpass()"
   ]
  },
  {
   "cell_type": "code",
   "execution_count": null,
   "metadata": {},
   "outputs": [],
   "source": [
    "endpoint = \"https://staging.nise.bbp.epfl.ch/nexus/v1\"\n",
    "BUCKET = \"dke/kgforge\"\n",
    "forge = KnowledgeGraphForge(\"../use-cases/prod-forge-nexus.yml\",\n",
    " endpoint=endpoint, \n",
    " bucket=BUCKET,\n",
    "#  token=TOKEN,\n",
    " debug=True\n",
    " )"
   ]
  },
  {
   "cell_type": "code",
   "execution_count": null,
   "metadata": {},
   "outputs": [],
   "source": [
    "some_str = \"\"\"\n",
    "{\n",
    "    \"type\": [\n",
    "        \"Dataset\",\n",
    "        \"Trace\",\n",
    "        \"Entity\",\n",
    "        \"SingleCellSimulationTrace\"\n",
    "    ],\n",
    "    \"id\": \"https://bbp.epfl.ch/neurosciencegraph/data/traces/17b443b3-07fc-41c7-80c8-ea5e54662210\",\n",
    "    \"annotation\": [\n",
    "        {\n",
    "            \"type\": [\n",
    "                \"Annotation\",\n",
    "                \"MTypeAnnotation\"\n",
    "            ],\n",
    "            \"hasBody\": {\n",
    "                \"id\": \"ilx:0738236\",\n",
    "                \"type\": [\n",
    "                    \"AnnotationBody\",\n",
    "                    \"MType\"\n",
    "                ],\n",
    "                \"label\": \"VPL_TC\"\n",
    "            },\n",
    "            \"name\": \"M-type Annotation\"\n",
    "        },\n",
    "        {\n",
    "            \"type\": [\n",
    "                \"Annotation\",\n",
    "                \"ETypeAnnotation\"\n",
    "            ],\n",
    "            \"hasBody\": {\n",
    "                \"id\": \"ilx:0738254\",\n",
    "                \"type\": [\n",
    "                    \"AnnotationBody\",\n",
    "                    \"EType\"\n",
    "                ],\n",
    "                \"label\": \"cNAD_ltb\"\n",
    "            },\n",
    "            \"name\": \"E-type Annotation\"\n",
    "        }\n",
    "    ],\n",
    "    \"identifier\": \"dNAD_ltb\",\n",
    "    \"note\": \"Simulated Thalamus cell\",\n",
    "    \"dateCreated\": {\n",
    "        \"@value\": \"2021-12-08T18:03:31.001661+01:00\",\n",
    "        \"type\": \"xsd:dateTime\"\n",
    "    },\n",
    "    \"brainLocation\": {\n",
    "        \"type\": \"BrainLocation\",\n",
    "        \"brainRegion\": {\n",
    "            \"id\": \"http://api.brain-map.org/api/v2/data/Structure/718\",\n",
    "            \"label\": \"Ventral posterolateral nucleus of the thalamus\"\n",
    "        }\n",
    "    },\n",
    "    \"contribution\": [\n",
    "        {\n",
    "            \"type\": \"Contribution\",\n",
    "            \"agent\": {\n",
    "                \"id\": \"https://bbp.epfl.ch/nexus/v1/realms/bbp/users/tuncel\",\n",
    "                \"type\": \"Agent\",\n",
    "                \"label\": \"Anil Tuncel\"\n",
    "            }\n",
    "        },\n",
    "        {\n",
    "            \"type\": \"Contribution\",\n",
    "            \"agent\": {\n",
    "                \"id\": \"https://bbp.epfl.ch/nexus/v1/realms/bbp/users/iavarone\",\n",
    "                \"type\": \"Agent\",\n",
    "                \"label\": \"Elisabetta Iavarone\"\n",
    "            }\n",
    "        }\n",
    "    ],\n",
    "    \"description\": \"This dataset is about simulated electrophysiology traces for cell instance dNAD_ltb. The dataset contains one distribution of the traces in NWB file format.\",\n",
    "    \"subject\": {\n",
    "        \"type\": \"Subject\",\n",
    "        \"species\": {\n",
    "            \"id\": \"ncbitaxon:10090\",\n",
    "            \"label\": \"Mus musculus\"\n",
    "        }\n",
    "    },\n",
    "    \"distribution\": {\n",
    "        \"type\": \"DataDownload\",\n",
    "        \"contentSize\": {\n",
    "            \"unitCode\": \"bytes\",\n",
    "            \"value\": 2347304\n",
    "        },\n",
    "        \"digest\": {\n",
    "            \"algorithm\": \"SHA-256\",\n",
    "            \"value\": \"630f7455b9be5b212566a8dcc76d6a9b2303257ed9199a5c9262fc25aaa5749f\"\n",
    "        },\n",
    "        \"encodingFormat\": \"application/nwb\",\n",
    "        \"name\": \"dNAD_ltb.nwb\",\n",
    "        \"contentUrl\": \"https://bbp.epfl.ch/nexus/v1/files/bbp/uniprot/63c13f11-4dde-42fa-81cd-74fe6a68f35c\",\n",
    "        \"atLocation\": {\n",
    "            \"type\": \"Location\",\n",
    "            \"store\": {\n",
    "                \"id\": \"https://bbp.epfl.ch/data/bbp/uniprot/dc51e00c-584f-4f8b-a5da-df85d2416d79\",\n",
    "                \"type\": \"RemoteDiskStorage\",\n",
    "                \"_rev\": 1\n",
    "            },\n",
    "            \"location\": \"file:///gpfs/bbp.cscs.ch/data/project/proj94/nexus/bbp/uniprot/9/9/e/f/6/1/f/e/dNAD_ltb.nwb\"\n",
    "        }\n",
    "    },\n",
    "    \"objectOfStudy\": {\n",
    "        \"type\": \"ObjectOfStudy\",\n",
    "        \"id\": \"http://bbp.epfl.ch/neurosciencegraph/taxonomies/objectsofstudy/singlecells\",\n",
    "        \"label\": \"Single Cell\"\n",
    "    }\n",
    "}\n",
    "\"\"\""
   ]
  },
  {
   "cell_type": "code",
   "execution_count": null,
   "metadata": {},
   "outputs": [],
   "source": [
    "resource  = forge.from_json(json.loads(some_str))"
   ]
  },
  {
   "cell_type": "markdown",
   "metadata": {},
   "source": [
    "### Use a debug mode in pyschacl"
   ]
  },
  {
   "cell_type": "code",
   "execution_count": null,
   "metadata": {},
   "outputs": [
    {
     "name": "stdout",
     "output_type": "stream",
     "text": [
      "<action> _validate_one\n",
      "<succeeded> True\n"
     ]
    }
   ],
   "source": [
    "forge.validate(resource, type_=\"Entity\")"
   ]
  },
  {
   "cell_type": "code",
   "execution_count": null,
   "metadata": {},
   "outputs": [
    {
     "name": "stdout",
     "output_type": "stream",
     "text": [
      "<action> _register_one\n",
      "<succeeded> False\n",
      "<error> RegistrationError: Resource 'https://bbp.epfl.ch/neurosciencegraph/data/traces/17b443b3-07fc-41c7-80c8-ea5e54662210' failed to validate against the constraints defined in schema 'https://neuroshapes.org/dash/dataset'. Reason: Value does not have all the shapes in the sh:and enumeration for the shape: https://neuroshapes.org/commons/minds/shapes/MINDSShape\n"
     ]
    }
   ],
   "source": [
    "forge.register(resource, schema_id=\"datashapes:dataset\")"
   ]
  },
  {
   "cell_type": "code",
   "execution_count": null,
   "metadata": {},
   "outputs": [],
   "source": [
    "jonis = \"\"\"\n",
    "{\n",
    "    \"atlasRelease\": {\n",
    "        \"id\": \"https://bbp.epfl.ch/nexus/v1/resources/nse/test2/_/197d151d-4ed2-4549-85fd-6c51bd471262\",\n",
    "        \"type\": [\"AtlasRelease\", \"BrainAtlasRelease\"]\n",
    "    },\n",
    "    \"brainLocation\": {\n",
    "        \"brainRegion\": {\n",
    "            \"id\": \"http://api.brain-map.org/api/v2/data/Structure/549\",\n",
    "            \"label\": \"Thalamus\"\n",
    "            },\n",
    "        \"type\": \"BrainLocation\"\n",
    "    },\n",
    "    \"circuitConfigPath\": {\n",
    "        \"type\": \"DataDownload\",\n",
    "        \"url\": \"file:///will/this/path/exist\"\n",
    "    },\n",
    "    \"circuitType\": \"Test registration\",\n",
    "    \"description\": \"Test registration, to be deprecated\",\n",
    "    \"name\": \"Test Circuit registration\",\n",
    "    \"type\": \"DetailedCircuit\",\n",
    "    \"wasGeneratedBy\": [{\"id\": \"https://bbp.epfl.ch/nexus/v1/resources/nse/test2/_/9be40e75-8744-415b-b0b4-e4074ff54a8f\"},\n",
    "                    {\"id\": \"https://bbp.epfl.ch/nexus/v1/resources/nse/test2/_/2b5819a1-c5e9-42c4-8da7-864d5e1e0a7e\"}],\n",
    "    \"nodeCollection\" : {\n",
    "        \"type\": \"NodeCollection\",\n",
    "        \"name\": \"My node collection\",\n",
    "        \"circuitCellProperties\": {\n",
    "            \"type\" : \"CircuitCellProperties\",\n",
    "            \"name\": \"My cell properties\"\n",
    "        },\n",
    "        \"memodelRelease\": {\n",
    "            \"type\" : \"MEModelRelease\",\n",
    "            \"name\": \"Some model release\"\n",
    "        }\n",
    "    }\n",
    "}\n",
    "\"\"\""
   ]
  },
  {
   "cell_type": "code",
   "execution_count": null,
   "metadata": {},
   "outputs": [],
   "source": [
    "joni_resource  = forge.from_json(json.loads(jonis))"
   ]
  },
  {
   "cell_type": "code",
   "execution_count": null,
   "metadata": {},
   "outputs": [
    {
     "name": "stdout",
     "output_type": "stream",
     "text": [
      "{\n",
      "    \"@context\": \"https://bbp.neuroshapes.org\",\n",
      "    \"atlasRelease\": {\n",
      "        \"@id\": \"https://bbp.epfl.ch/nexus/v1/resources/nse/test2/_/197d151d-4ed2-4549-85fd-6c51bd471262\",\n",
      "        \"@type\": [\n",
      "            \"AtlasRelease\",\n",
      "            \"BrainAtlasRelease\"\n",
      "        ]\n",
      "    },\n",
      "    \"brainLocation\": {\n",
      "        \"brainRegion\": {\n",
      "            \"@id\": \"http://api.brain-map.org/api/v2/data/Structure/549\",\n",
      "            \"label\": \"Thalamus\"\n",
      "        },\n",
      "        \"@type\": \"BrainLocation\"\n",
      "    },\n",
      "    \"circuitConfigPath\": {\n",
      "        \"@type\": \"DataDownload\",\n",
      "        \"url\": \"file:///will/this/path/exist\"\n",
      "    },\n",
      "    \"circuitType\": \"Test registration\",\n",
      "    \"description\": \"Test registration, to be deprecated\",\n",
      "    \"name\": \"Test Circuit registration\",\n",
      "    \"@type\": \"DetailedCircuit\",\n",
      "    \"nodeCollection\": {\n",
      "        \"@type\": \"NodeCollection\",\n",
      "        \"name\": \"My node collection\",\n",
      "        \"circuitCellProperties\": {\n",
      "            \"@type\": \"CircuitCellProperties\",\n",
      "            \"name\": \"My cell properties\"\n",
      "        },\n",
      "        \"memodelRelease\": {\n",
      "            \"@type\": \"MEModelRelease\",\n",
      "            \"name\": \"Some model release\"\n",
      "        }\n",
      "    }\n",
      "}\n"
     ]
    }
   ],
   "source": [
    "print(json.dumps(forge.as_jsonld(joni_resource), indent=4))"
   ]
  },
  {
   "cell_type": "code",
   "execution_count": null,
   "metadata": {},
   "outputs": [
    {
     "name": "stdout",
     "output_type": "stream",
     "text": [
      "<action> _register_one\n",
      "<succeeded> False\n",
      "<error> RegistrationError: Schema 'https://neuroshapes.org/DetailedCircuit' could not be resolved in 'dke/kgforge'\n"
     ]
    }
   ],
   "source": [
    "forge.register(joni_resource, schema_id=\"https://neuroshapes.org/DetailedCircuit\")"
   ]
  },
  {
   "cell_type": "code",
   "execution_count": null,
   "metadata": {},
   "outputs": [
    {
     "data": {
      "text/plain": [
       "'Test Circuit registration'"
      ]
     },
     "execution_count": 55,
     "metadata": {},
     "output_type": "execute_result"
    }
   ],
   "source": [
    "joni_resource.name"
   ]
  },
  {
   "cell_type": "code",
   "execution_count": null,
   "metadata": {},
   "outputs": [
    {
     "name": "stdout",
     "output_type": "stream",
     "text": [
      "<action> _validate_one\n",
      "<succeeded> True\n"
     ]
    }
   ],
   "source": [
    "forge.validate(joni_resource, type_='DetailedCircuit')"
   ]
  },
  {
   "cell_type": "code",
   "execution_count": null,
   "metadata": {},
   "outputs": [],
   "source": []
  }
 ],
 "metadata": {
  "kernelspec": {
   "display_name": "Python 3.7.13 ('kgforge')",
   "language": "python",
   "name": "python3"
  },
  "language_info": {
   "codemirror_mode": {
    "name": "ipython",
    "version": 3
   },
   "file_extension": ".py",
   "mimetype": "text/x-python",
   "name": "python",
   "nbconvert_exporter": "python",
   "pygments_lexer": "ipython3",
   "version": "3.7.13"
  },
  "vscode": {
   "interpreter": {
    "hash": "9ac393a5ddd595f2c78ea58b15bf8d269850a4413729cbea5c5fae9013762763"
   }
  }
 },
 "nbformat": 4,
 "nbformat_minor": 4
}

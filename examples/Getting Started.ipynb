{
 "cells": [
  {
   "cell_type": "markdown",
   "metadata": {
    "ExecuteTime": {
     "end_time": "2019-09-23T14:21:23.831887Z",
     "start_time": "2019-09-23T14:21:23.824873Z"
    }
   },
   "source": [
    "Pierre-Alexandre Fonta v23.09.2019"
   ]
  },
  {
   "cell_type": "code",
   "execution_count": 1,
   "metadata": {
    "ExecuteTime": {
     "end_time": "2019-09-23T18:50:19.028061Z",
     "start_time": "2019-09-23T18:50:18.844712Z"
    }
   },
   "outputs": [
    {
     "name": "stdout",
     "output_type": "stream",
     "text": [
      "Python 3.6.9 :: Anaconda, Inc.\r\n"
     ]
    }
   ],
   "source": [
    "! python -V"
   ]
  },
  {
   "cell_type": "code",
   "execution_count": 2,
   "metadata": {
    "ExecuteTime": {
     "end_time": "2019-09-23T18:50:19.036357Z",
     "start_time": "2019-09-23T18:50:19.031896Z"
    }
   },
   "outputs": [],
   "source": [
    "# FIXME\n",
    "# ! pip install kgforge"
   ]
  },
  {
   "cell_type": "code",
   "execution_count": 3,
   "metadata": {
    "ExecuteTime": {
     "end_time": "2019-09-23T18:50:19.049968Z",
     "start_time": "2019-09-23T18:50:19.042289Z"
    }
   },
   "outputs": [],
   "source": [
    "import json\n",
    "\n",
    "def pp(x): print(json.dumps(x, indent=4))"
   ]
  },
  {
   "cell_type": "markdown",
   "metadata": {},
   "source": [
    "### Forge"
   ]
  },
  {
   "cell_type": "code",
   "execution_count": 4,
   "metadata": {
    "ExecuteTime": {
     "end_time": "2019-09-23T18:50:20.068658Z",
     "start_time": "2019-09-23T18:50:19.054054Z"
    }
   },
   "outputs": [],
   "source": [
    "from kgforge.core.forge import KnowledgeGraphForge"
   ]
  },
  {
   "cell_type": "markdown",
   "metadata": {},
   "source": [
    "**Configuration**"
   ]
  },
  {
   "cell_type": "code",
   "execution_count": 5,
   "metadata": {
    "ExecuteTime": {
     "end_time": "2019-09-23T18:50:20.078620Z",
     "start_time": "2019-09-23T18:50:20.071047Z"
    }
   },
   "outputs": [],
   "source": [
    "# FIXME Implement.\n",
    "# forge = KnowledgeGraphForge.from_config(\"demo-forge.yml\")"
   ]
  },
  {
   "cell_type": "code",
   "execution_count": 6,
   "metadata": {
    "ExecuteTime": {
     "end_time": "2019-09-23T18:50:20.098026Z",
     "start_time": "2019-09-23T18:50:20.082177Z"
    }
   },
   "outputs": [],
   "source": [
    "from kgforge.specializations.models.demo_model import DemoModel\n",
    "from kgforge.specializations.stores.demo_store import DemoStore\n",
    "\n",
    "MODEL = DemoModel\n",
    "MODEL_SOURCE = \"../tests/specializations/models/demo_model_data/\"\n",
    "\n",
    "STORE = DemoStore"
   ]
  },
  {
   "cell_type": "markdown",
   "metadata": {},
   "source": [
    "**Initialization**"
   ]
  },
  {
   "cell_type": "code",
   "execution_count": 7,
   "metadata": {
    "ExecuteTime": {
     "end_time": "2019-09-23T18:50:20.112786Z",
     "start_time": "2019-09-23T18:50:20.102513Z"
    }
   },
   "outputs": [],
   "source": [
    "forge = KnowledgeGraphForge(MODEL, MODEL_SOURCE, STORE)"
   ]
  },
  {
   "cell_type": "markdown",
   "metadata": {},
   "source": [
    "### Resource"
   ]
  },
  {
   "cell_type": "code",
   "execution_count": 8,
   "metadata": {
    "ExecuteTime": {
     "end_time": "2019-09-23T18:50:20.127987Z",
     "start_time": "2019-09-23T18:50:20.119390Z"
    }
   },
   "outputs": [],
   "source": [
    "from kgforge.core.resources import Resource"
   ]
  },
  {
   "cell_type": "code",
   "execution_count": 9,
   "metadata": {
    "ExecuteTime": {
     "end_time": "2019-09-23T18:50:20.143688Z",
     "start_time": "2019-09-23T18:50:20.134694Z"
    }
   },
   "outputs": [],
   "source": [
    "jane = Resource(type=\"Person\", name=\"Jane Do\")"
   ]
  },
  {
   "cell_type": "code",
   "execution_count": 10,
   "metadata": {
    "ExecuteTime": {
     "end_time": "2019-09-23T18:50:20.154752Z",
     "start_time": "2019-09-23T18:50:20.146122Z"
    }
   },
   "outputs": [],
   "source": [
    "action = Resource(type=\"Action\", agent=jane)"
   ]
  },
  {
   "cell_type": "code",
   "execution_count": 11,
   "metadata": {
    "ExecuteTime": {
     "end_time": "2019-09-23T18:50:20.187035Z",
     "start_time": "2019-09-23T18:50:20.165715Z"
    }
   },
   "outputs": [
    {
     "data": {
      "text/plain": [
       "'Jane Do'"
      ]
     },
     "execution_count": 11,
     "metadata": {},
     "output_type": "execute_result"
    }
   ],
   "source": [
    "jane.name"
   ]
  },
  {
   "cell_type": "code",
   "execution_count": 12,
   "metadata": {
    "ExecuteTime": {
     "end_time": "2019-09-23T18:50:20.207733Z",
     "start_time": "2019-09-23T18:50:20.199854Z"
    }
   },
   "outputs": [
    {
     "data": {
      "text/plain": [
       "'Jane Do'"
      ]
     },
     "execution_count": 12,
     "metadata": {},
     "output_type": "execute_result"
    }
   ],
   "source": [
    "action.agent.name"
   ]
  },
  {
   "cell_type": "code",
   "execution_count": 13,
   "metadata": {
    "ExecuteTime": {
     "end_time": "2019-09-23T18:50:20.223696Z",
     "start_time": "2019-09-23T18:50:20.211301Z"
    }
   },
   "outputs": [],
   "source": [
    "jane.name = \"Jane Doe\""
   ]
  },
  {
   "cell_type": "code",
   "execution_count": 14,
   "metadata": {
    "ExecuteTime": {
     "end_time": "2019-09-23T18:50:20.238806Z",
     "start_time": "2019-09-23T18:50:20.227231Z"
    }
   },
   "outputs": [
    {
     "data": {
      "text/plain": [
       "'Jane Doe'"
      ]
     },
     "execution_count": 14,
     "metadata": {},
     "output_type": "execute_result"
    }
   ],
   "source": [
    "jane.name"
   ]
  },
  {
   "cell_type": "code",
   "execution_count": 15,
   "metadata": {
    "ExecuteTime": {
     "end_time": "2019-09-23T18:50:20.261616Z",
     "start_time": "2019-09-23T18:50:20.255355Z"
    }
   },
   "outputs": [],
   "source": [
    "jane.email = \"jane.doe@epfl.ch\""
   ]
  },
  {
   "cell_type": "code",
   "execution_count": 16,
   "metadata": {
    "ExecuteTime": {
     "end_time": "2019-09-23T18:50:20.294089Z",
     "start_time": "2019-09-23T18:50:20.277302Z"
    }
   },
   "outputs": [
    {
     "data": {
      "text/plain": [
       "'jane.doe@epfl.ch'"
      ]
     },
     "execution_count": 16,
     "metadata": {},
     "output_type": "execute_result"
    }
   ],
   "source": [
    "jane.email"
   ]
  },
  {
   "cell_type": "code",
   "execution_count": 17,
   "metadata": {
    "ExecuteTime": {
     "end_time": "2019-09-23T18:50:20.310225Z",
     "start_time": "2019-09-23T18:50:20.300943Z"
    }
   },
   "outputs": [
    {
     "data": {
      "text/plain": [
       "Resource(_last_action=None, _validated=False, _synchronized=False, _store_metadata=None, type='Person', name='Jane Doe', email='jane.doe@epfl.ch')"
      ]
     },
     "execution_count": 17,
     "metadata": {},
     "output_type": "execute_result"
    }
   ],
   "source": [
    "jane"
   ]
  },
  {
   "cell_type": "code",
   "execution_count": 18,
   "metadata": {
    "ExecuteTime": {
     "end_time": "2019-09-23T18:50:20.332705Z",
     "start_time": "2019-09-23T18:50:20.325401Z"
    }
   },
   "outputs": [
    {
     "name": "stdout",
     "output_type": "stream",
     "text": [
      "{\n",
      "    _last_action: null\n",
      "    _validated: false\n",
      "    _synchronized: false\n",
      "    _store_metadata: null\n",
      "    type: Person\n",
      "    name: Jane Doe\n",
      "    email: jane.doe@epfl.ch\n",
      "}\n"
     ]
    }
   ],
   "source": [
    "print(jane)"
   ]
  },
  {
   "cell_type": "markdown",
   "metadata": {},
   "source": [
    "### Resources"
   ]
  },
  {
   "cell_type": "code",
   "execution_count": 19,
   "metadata": {
    "ExecuteTime": {
     "end_time": "2019-09-23T18:50:20.343085Z",
     "start_time": "2019-09-23T18:50:20.337162Z"
    }
   },
   "outputs": [],
   "source": [
    "from kgforge.core.resources import Resources"
   ]
  },
  {
   "cell_type": "code",
   "execution_count": 20,
   "metadata": {
    "ExecuteTime": {
     "end_time": "2019-09-23T18:50:20.352003Z",
     "start_time": "2019-09-23T18:50:20.347261Z"
    }
   },
   "outputs": [],
   "source": [
    "john = Resource(type=\"Person\", name=\"John Smith\")"
   ]
  },
  {
   "cell_type": "code",
   "execution_count": 21,
   "metadata": {
    "ExecuteTime": {
     "end_time": "2019-09-23T18:50:20.371511Z",
     "start_time": "2019-09-23T18:50:20.362761Z"
    }
   },
   "outputs": [],
   "source": [
    "persons = Resources(jane, john)"
   ]
  },
  {
   "cell_type": "code",
   "execution_count": 22,
   "metadata": {
    "ExecuteTime": {
     "end_time": "2019-09-23T18:50:20.386712Z",
     "start_time": "2019-09-23T18:50:20.379575Z"
    },
    "scrolled": true
   },
   "outputs": [
    {
     "data": {
      "text/plain": [
       "2"
      ]
     },
     "execution_count": 22,
     "metadata": {},
     "output_type": "execute_result"
    }
   ],
   "source": [
    "len(persons)"
   ]
  },
  {
   "cell_type": "code",
   "execution_count": 23,
   "metadata": {
    "ExecuteTime": {
     "end_time": "2019-09-23T18:50:20.405874Z",
     "start_time": "2019-09-23T18:50:20.397954Z"
    }
   },
   "outputs": [
    {
     "data": {
      "text/plain": [
       "'John Smith'"
      ]
     },
     "execution_count": 23,
     "metadata": {},
     "output_type": "execute_result"
    }
   ],
   "source": [
    "persons[1].name"
   ]
  },
  {
   "cell_type": "code",
   "execution_count": 24,
   "metadata": {
    "ExecuteTime": {
     "end_time": "2019-09-23T18:50:20.420521Z",
     "start_time": "2019-09-23T18:50:20.412171Z"
    }
   },
   "outputs": [
    {
     "data": {
      "text/plain": [
       "[Resource(_last_action=None, _validated=False, _synchronized=False, _store_metadata=None, type='Person', name='Jane Doe', email='jane.doe@epfl.ch'),\n",
       " Resource(_last_action=None, _validated=False, _synchronized=False, _store_metadata=None, type='Person', name='John Smith')]"
      ]
     },
     "execution_count": 24,
     "metadata": {},
     "output_type": "execute_result"
    }
   ],
   "source": [
    "persons"
   ]
  },
  {
   "cell_type": "code",
   "execution_count": 25,
   "metadata": {
    "ExecuteTime": {
     "end_time": "2019-09-23T18:50:20.438058Z",
     "start_time": "2019-09-23T18:50:20.428766Z"
    }
   },
   "outputs": [
    {
     "name": "stdout",
     "output_type": "stream",
     "text": [
      "[\n",
      "    {\n",
      "        _last_action: null\n",
      "        _validated: false\n",
      "        _synchronized: false\n",
      "        _store_metadata: null\n",
      "        type: Person\n",
      "        name: Jane Doe\n",
      "        email: jane.doe@epfl.ch\n",
      "    }\n",
      "    {\n",
      "        _last_action: null\n",
      "        _validated: false\n",
      "        _synchronized: false\n",
      "        _store_metadata: null\n",
      "        type: Person\n",
      "        name: John Smith\n",
      "    }\n",
      "]\n"
     ]
    }
   ],
   "source": [
    "print(persons)"
   ]
  },
  {
   "cell_type": "markdown",
   "metadata": {},
   "source": [
    "### Transforming"
   ]
  },
  {
   "cell_type": "markdown",
   "metadata": {},
   "source": [
    "**Mapping**"
   ]
  },
  {
   "cell_type": "code",
   "execution_count": 26,
   "metadata": {},
   "outputs": [],
   "source": [
    "from kgforge.specializations.mappings.dictionaries import DictionaryMapping\n",
    "from kgforge.specializations.mappers.dictionaries import DictionaryMapper"
   ]
  },
  {
   "cell_type": "code",
   "execution_count": 27,
   "metadata": {},
   "outputs": [],
   "source": [
    "# FIXME Example for data from a directory and a file.\n",
    "data = [\n",
    "    { \"inventor\": \"Albert Einstein\" },\n",
    "    { \"inventor\": \"Peter Higgs\" },\n",
    "]"
   ]
  },
  {
   "cell_type": "code",
   "execution_count": 28,
   "metadata": {},
   "outputs": [
    {
     "name": "stdout",
     "output_type": "stream",
     "text": [
      "{\n",
      "    type: Action\n",
      "    agent:\n",
      "    {\n",
      "        type: Person\n",
      "        name: hasattr\n",
      "    }\n",
      "}\n"
     ]
    }
   ],
   "source": [
    "forge.modeling.template(\"Action\")"
   ]
  },
  {
   "cell_type": "code",
   "execution_count": 29,
   "metadata": {},
   "outputs": [],
   "source": [
    "mapping = DictionaryMapping(\"\"\"\n",
    "    type: Action\n",
    "    agent:\n",
    "    {\n",
    "        type: Person\n",
    "        name: x.inventor\n",
    "    }\n",
    "\"\"\")"
   ]
  },
  {
   "cell_type": "code",
   "execution_count": 30,
   "metadata": {},
   "outputs": [],
   "source": [
    "mapped_one = forge.transforming.map(data[0], DictionaryMapper, mapping)"
   ]
  },
  {
   "cell_type": "code",
   "execution_count": 31,
   "metadata": {},
   "outputs": [
    {
     "data": {
      "text/plain": [
       "'Albert Einstein'"
      ]
     },
     "execution_count": 31,
     "metadata": {},
     "output_type": "execute_result"
    }
   ],
   "source": [
    "mapped_one.agent.name"
   ]
  },
  {
   "cell_type": "code",
   "execution_count": 32,
   "metadata": {},
   "outputs": [],
   "source": [
    "mapped_many = forge.transforming.map(data, DictionaryMapper, mapping)"
   ]
  },
  {
   "cell_type": "code",
   "execution_count": 33,
   "metadata": {},
   "outputs": [
    {
     "data": {
      "text/plain": [
       "2"
      ]
     },
     "execution_count": 33,
     "metadata": {},
     "output_type": "execute_result"
    }
   ],
   "source": [
    "len(mapped_many)"
   ]
  },
  {
   "cell_type": "code",
   "execution_count": 34,
   "metadata": {},
   "outputs": [
    {
     "data": {
      "text/plain": [
       "'Peter Higgs'"
      ]
     },
     "execution_count": 34,
     "metadata": {},
     "output_type": "execute_result"
    }
   ],
   "source": [
    "mapped_many[1].agent.name"
   ]
  },
  {
   "cell_type": "markdown",
   "metadata": {},
   "source": [
    "**Mapping (management)**"
   ]
  },
  {
   "cell_type": "code",
   "execution_count": 35,
   "metadata": {},
   "outputs": [],
   "source": [
    "mapping.save(\"mapping.hjson\")"
   ]
  },
  {
   "cell_type": "code",
   "execution_count": 36,
   "metadata": {},
   "outputs": [
    {
     "name": "stdout",
     "output_type": "stream",
     "text": [
      "{\r\n",
      "    type: Action\r\n",
      "    agent:\r\n",
      "    {\r\n",
      "        type: Person\r\n",
      "        name: x.inventor\r\n",
      "    }\r\n",
      "}"
     ]
    }
   ],
   "source": [
    "cat mapping.hjson"
   ]
  },
  {
   "cell_type": "code",
   "execution_count": 37,
   "metadata": {},
   "outputs": [],
   "source": [
    "mapping_loaded = DictionaryMapping.load(\"mapping.hjson\")"
   ]
  },
  {
   "cell_type": "markdown",
   "metadata": {},
   "source": [
    "**Reshaping**"
   ]
  },
  {
   "cell_type": "code",
   "execution_count": 103,
   "metadata": {},
   "outputs": [
    {
     "name": "stdout",
     "output_type": "stream",
     "text": [
      "{\n",
      "    _last_action:\n",
      "    {\n",
      "        operation: _tag_one\n",
      "        succeeded: false\n",
      "        error: resource not synchronized\n",
      "    }\n",
      "    _validated: false\n",
      "    _synchronized: false\n",
      "    _store_metadata:\n",
      "    {\n",
      "        version: 1\n",
      "        deprecated: false\n",
      "    }\n",
      "    type: Person\n",
      "    id: 0843e0a5-6ca3-4ac8-be4f-8b5fe5f8a449\n",
      "    name: Jane Doe\n",
      "    email: jane.doe@epfl.ch\n",
      "}\n"
     ]
    }
   ],
   "source": [
    "print(jane)"
   ]
  },
  {
   "cell_type": "code",
   "execution_count": 105,
   "metadata": {},
   "outputs": [
    {
     "data": {
      "text/plain": [
       "Resource(_last_action=None, _validated=False, _synchronized=False, _store_metadata=None, type='Person', id='0843e0a5-6ca3-4ac8-be4f-8b5fe5f8a449')"
      ]
     },
     "execution_count": 105,
     "metadata": {},
     "output_type": "execute_result"
    }
   ],
   "source": [
    "forge.transforming.reshape(jane, keep=[\"type\", \"id\"])"
   ]
  },
  {
   "cell_type": "code",
   "execution_count": 106,
   "metadata": {},
   "outputs": [
    {
     "name": "stdout",
     "output_type": "stream",
     "text": [
      "{\n",
      "    _last_action:\n",
      "    {\n",
      "        operation: _register\n",
      "        succeeded: true\n",
      "        error: null\n",
      "    }\n",
      "    _validated: false\n",
      "    _synchronized: true\n",
      "    _store_metadata:\n",
      "    {\n",
      "        version: 2\n",
      "        deprecated: false\n",
      "    }\n",
      "    type: Action\n",
      "    id: a7f84905-5090-4066-9a6f-b7cf41320598\n",
      "    agent:\n",
      "    {\n",
      "        _last_action:\n",
      "        {\n",
      "            operation: _deprecate_one\n",
      "            succeeded: true\n",
      "            error: null\n",
      "        }\n",
      "        _validated: false\n",
      "        _synchronized: true\n",
      "        _store_metadata:\n",
      "        {\n",
      "            version: 2\n",
      "            deprecated: true\n",
      "        }\n",
      "        type: Person\n",
      "        id: 751d2e2a-7e7f-43cf-9538-481f89ff852d\n",
      "        name: John Smith\n",
      "        email: john.smith@epfl.ch\n",
      "    }\n",
      "}\n"
     ]
    }
   ],
   "source": [
    "print(action)"
   ]
  },
  {
   "cell_type": "code",
   "execution_count": 108,
   "metadata": {},
   "outputs": [
    {
     "name": "stdout",
     "output_type": "stream",
     "text": [
      "{\n",
      "    _last_action: null\n",
      "    _validated: false\n",
      "    _synchronized: false\n",
      "    _store_metadata: null\n",
      "    type: Action\n",
      "    id: a7f84905-5090-4066-9a6f-b7cf41320598\n",
      "    agent:\n",
      "    {\n",
      "        _last_action:\n",
      "        {\n",
      "            operation: _deprecate_one\n",
      "            succeeded: true\n",
      "            error: null\n",
      "        }\n",
      "        _validated: false\n",
      "        _synchronized: true\n",
      "        _store_metadata:\n",
      "        {\n",
      "            version: 2\n",
      "            deprecated: true\n",
      "        }\n",
      "        type: Person\n",
      "        id: 751d2e2a-7e7f-43cf-9538-481f89ff852d\n",
      "        name: John Smith\n",
      "        email: john.smith@epfl.ch\n",
      "    }\n",
      "}\n"
     ]
    }
   ],
   "source": [
    "print(forge.transforming.reshape(action, keep=[\"type\", \"id\", \"agent.name\"]))"
   ]
  },
  {
   "cell_type": "markdown",
   "metadata": {},
   "source": [
    "**Conversion (JSON)**"
   ]
  },
  {
   "cell_type": "code",
   "execution_count": 38,
   "metadata": {},
   "outputs": [],
   "source": [
    "# FIXME Implement as_jsonld().\n",
    "# forge.transforming.as_json(jane)"
   ]
  },
  {
   "cell_type": "code",
   "execution_count": 39,
   "metadata": {},
   "outputs": [],
   "source": [
    "# FIXME Implement as_jsonld().\n",
    "# forge.transforming.as_json(jane, expanded=True)"
   ]
  },
  {
   "cell_type": "markdown",
   "metadata": {},
   "source": [
    "**Conversion (JSON-LD)**"
   ]
  },
  {
   "cell_type": "code",
   "execution_count": 40,
   "metadata": {},
   "outputs": [],
   "source": [
    "# FIXME Implement.\n",
    "# forge.transforming.as_jsonld(jane)"
   ]
  },
  {
   "cell_type": "code",
   "execution_count": 41,
   "metadata": {},
   "outputs": [],
   "source": [
    "# FIXME Implement.\n",
    "# forge.transforming.as_jsonld(jane, compacted=False)"
   ]
  },
  {
   "cell_type": "markdown",
   "metadata": {},
   "source": [
    "**Conversion (Triples)**"
   ]
  },
  {
   "cell_type": "code",
   "execution_count": 42,
   "metadata": {},
   "outputs": [],
   "source": [
    "# FIXME Implement.\n",
    "# forge.transforming.as_triples(jane)"
   ]
  },
  {
   "cell_type": "markdown",
   "metadata": {},
   "source": [
    "**Conversion (DataFrame)**"
   ]
  },
  {
   "cell_type": "code",
   "execution_count": 43,
   "metadata": {},
   "outputs": [],
   "source": [
    "# FIXME Implement.\n",
    "# forge.transforming.as_dataframe(jane)"
   ]
  },
  {
   "cell_type": "markdown",
   "metadata": {},
   "source": [
    "### Modeling"
   ]
  },
  {
   "cell_type": "markdown",
   "metadata": {},
   "source": [
    "**Prefixes**"
   ]
  },
  {
   "cell_type": "code",
   "execution_count": 44,
   "metadata": {
    "ExecuteTime": {
     "end_time": "2019-09-23T18:50:20.455574Z",
     "start_time": "2019-09-23T18:50:20.443717Z"
    }
   },
   "outputs": [
    {
     "name": "stdout",
     "output_type": "stream",
     "text": [
      "{\n",
      "    \"rdf\": \"http://www.w3.org/1999/02/22-rdf-syntax-ns#\",\n",
      "    \"schema\": \"http://schema.org/\"\n",
      "}\n"
     ]
    }
   ],
   "source": [
    "pp(forge.modeling.prefixes())"
   ]
  },
  {
   "cell_type": "markdown",
   "metadata": {},
   "source": [
    "**Types**"
   ]
  },
  {
   "cell_type": "code",
   "execution_count": 45,
   "metadata": {
    "ExecuteTime": {
     "end_time": "2019-09-23T18:50:20.469871Z",
     "start_time": "2019-09-23T18:50:20.460504Z"
    }
   },
   "outputs": [
    {
     "data": {
      "text/plain": [
       "['Person', 'Action']"
      ]
     },
     "execution_count": 45,
     "metadata": {},
     "output_type": "execute_result"
    }
   ],
   "source": [
    "forge.modeling.types()"
   ]
  },
  {
   "cell_type": "markdown",
   "metadata": {},
   "source": [
    "**Templates**"
   ]
  },
  {
   "cell_type": "code",
   "execution_count": 46,
   "metadata": {
    "ExecuteTime": {
     "end_time": "2019-09-23T18:50:20.482501Z",
     "start_time": "2019-09-23T18:50:20.473769Z"
    }
   },
   "outputs": [
    {
     "name": "stdout",
     "output_type": "stream",
     "text": [
      "{\n",
      "    type: Person\n",
      "    name: hasattr\n",
      "}\n"
     ]
    }
   ],
   "source": [
    "forge.modeling.template(\"Person\")"
   ]
  },
  {
   "cell_type": "code",
   "execution_count": 47,
   "metadata": {},
   "outputs": [
    {
     "name": "stdout",
     "output_type": "stream",
     "text": [
      "{\n",
      "    type: Action\n",
      "    agent:\n",
      "    {\n",
      "        type: Person\n",
      "        name: hasattr\n",
      "    }\n",
      "}\n"
     ]
    }
   ],
   "source": [
    "forge.modeling.template(\"Action\")"
   ]
  },
  {
   "cell_type": "code",
   "execution_count": 48,
   "metadata": {
    "ExecuteTime": {
     "end_time": "2019-09-23T18:50:20.704970Z",
     "start_time": "2019-09-23T18:50:20.494904Z"
    }
   },
   "outputs": [
    {
     "name": "stdout",
     "output_type": "stream",
     "text": [
      "DemoModel is not supporting template() with only_required=True\n",
      "None\n"
     ]
    }
   ],
   "source": [
    "forge.modeling.template(\"Person\", only_required=True)"
   ]
  },
  {
   "cell_type": "markdown",
   "metadata": {
    "ExecuteTime": {
     "end_time": "2019-09-23T14:43:14.465381Z",
     "start_time": "2019-09-23T14:43:14.455846Z"
    }
   },
   "source": [
    "**Validation**"
   ]
  },
  {
   "cell_type": "code",
   "execution_count": 49,
   "metadata": {
    "ExecuteTime": {
     "end_time": "2019-09-23T18:50:20.716542Z",
     "start_time": "2019-09-23T18:50:20.708109Z"
    }
   },
   "outputs": [
    {
     "name": "stdout",
     "output_type": "stream",
     "text": [
      "<action> _validate\n",
      "<succeeded> True\n"
     ]
    }
   ],
   "source": [
    "forge.modeling.validate(john)"
   ]
  },
  {
   "cell_type": "code",
   "execution_count": 50,
   "metadata": {
    "ExecuteTime": {
     "end_time": "2019-09-23T18:50:20.734693Z",
     "start_time": "2019-09-23T18:50:20.718924Z"
    }
   },
   "outputs": [
    {
     "data": {
      "text/plain": [
       "Action(operation='_validate', succeeded=True, error=None)"
      ]
     },
     "execution_count": 50,
     "metadata": {},
     "output_type": "execute_result"
    }
   ],
   "source": [
    "john._last_action"
   ]
  },
  {
   "cell_type": "code",
   "execution_count": 51,
   "metadata": {
    "ExecuteTime": {
     "end_time": "2019-09-23T18:50:20.749126Z",
     "start_time": "2019-09-23T18:50:20.739075Z"
    }
   },
   "outputs": [
    {
     "data": {
      "text/plain": [
       "True"
      ]
     },
     "execution_count": 51,
     "metadata": {},
     "output_type": "execute_result"
    }
   ],
   "source": [
    "john._validated"
   ]
  },
  {
   "cell_type": "code",
   "execution_count": 52,
   "metadata": {
    "ExecuteTime": {
     "end_time": "2019-09-23T18:50:20.787796Z",
     "start_time": "2019-09-23T18:50:20.766286Z"
    }
   },
   "outputs": [],
   "source": [
    "john.email = \"john.smith@epfl.ch\""
   ]
  },
  {
   "cell_type": "code",
   "execution_count": 53,
   "metadata": {
    "ExecuteTime": {
     "end_time": "2019-09-23T18:50:20.832020Z",
     "start_time": "2019-09-23T18:50:20.811928Z"
    }
   },
   "outputs": [
    {
     "data": {
      "text/plain": [
       "False"
      ]
     },
     "execution_count": 53,
     "metadata": {},
     "output_type": "execute_result"
    }
   ],
   "source": [
    "john._validated"
   ]
  },
  {
   "cell_type": "code",
   "execution_count": 54,
   "metadata": {
    "ExecuteTime": {
     "end_time": "2019-09-23T18:50:20.861763Z",
     "start_time": "2019-09-23T18:50:20.837913Z"
    }
   },
   "outputs": [
    {
     "name": "stdout",
     "output_type": "stream",
     "text": [
      "<count> 2\n",
      "<action> _validate\n",
      "<succeeded> True\n"
     ]
    }
   ],
   "source": [
    "forge.modeling.validate(persons)"
   ]
  },
  {
   "cell_type": "code",
   "execution_count": 55,
   "metadata": {
    "ExecuteTime": {
     "end_time": "2019-09-23T18:50:20.894328Z",
     "start_time": "2019-09-23T18:50:20.871813Z"
    }
   },
   "outputs": [
    {
     "data": {
      "text/plain": [
       "True"
      ]
     },
     "execution_count": 55,
     "metadata": {},
     "output_type": "execute_result"
    }
   ],
   "source": [
    "jane._validated"
   ]
  },
  {
   "cell_type": "markdown",
   "metadata": {},
   "source": [
    "**Validation (error)**"
   ]
  },
  {
   "cell_type": "code",
   "execution_count": 56,
   "metadata": {
    "ExecuteTime": {
     "end_time": "2019-09-23T18:50:20.917767Z",
     "start_time": "2019-09-23T18:50:20.902559Z"
    }
   },
   "outputs": [],
   "source": [
    "mistake = Resource(type=\"Person\")"
   ]
  },
  {
   "cell_type": "code",
   "execution_count": 57,
   "metadata": {
    "ExecuteTime": {
     "end_time": "2019-09-23T18:50:20.939437Z",
     "start_time": "2019-09-23T18:50:20.924469Z"
    }
   },
   "outputs": [
    {
     "name": "stdout",
     "output_type": "stream",
     "text": [
      "<action> _validate\n",
      "<succeeded> False\n",
      "<error> name is missing\n"
     ]
    }
   ],
   "source": [
    "forge.modeling.validate(mistake)"
   ]
  },
  {
   "cell_type": "code",
   "execution_count": 58,
   "metadata": {
    "ExecuteTime": {
     "end_time": "2019-09-23T18:50:20.986359Z",
     "start_time": "2019-09-23T18:50:20.948705Z"
    }
   },
   "outputs": [
    {
     "data": {
      "text/plain": [
       "Action(operation='_validate', succeeded=False, error='name is missing')"
      ]
     },
     "execution_count": 58,
     "metadata": {},
     "output_type": "execute_result"
    }
   ],
   "source": [
    "mistake._last_action"
   ]
  },
  {
   "cell_type": "code",
   "execution_count": 59,
   "metadata": {
    "ExecuteTime": {
     "end_time": "2019-09-23T18:50:21.016505Z",
     "start_time": "2019-09-23T18:50:20.998401Z"
    }
   },
   "outputs": [
    {
     "data": {
      "text/plain": [
       "False"
      ]
     },
     "execution_count": 59,
     "metadata": {},
     "output_type": "execute_result"
    }
   ],
   "source": [
    "mistake._validated"
   ]
  },
  {
   "cell_type": "markdown",
   "metadata": {},
   "source": [
    "### Storing"
   ]
  },
  {
   "cell_type": "markdown",
   "metadata": {},
   "source": [
    "**Registration**"
   ]
  },
  {
   "cell_type": "code",
   "execution_count": 60,
   "metadata": {
    "ExecuteTime": {
     "end_time": "2019-09-23T18:50:21.048776Z",
     "start_time": "2019-09-23T18:50:21.037127Z"
    }
   },
   "outputs": [
    {
     "name": "stdout",
     "output_type": "stream",
     "text": [
      "<action> _register\n",
      "<succeeded> True\n"
     ]
    }
   ],
   "source": [
    "forge.storing.register(action)"
   ]
  },
  {
   "cell_type": "code",
   "execution_count": 61,
   "metadata": {
    "ExecuteTime": {
     "end_time": "2019-09-23T18:50:21.074512Z",
     "start_time": "2019-09-23T18:50:21.061121Z"
    }
   },
   "outputs": [
    {
     "data": {
      "text/plain": [
       "{'version': 1, 'deprecated': False}"
      ]
     },
     "execution_count": 61,
     "metadata": {},
     "output_type": "execute_result"
    }
   ],
   "source": [
    "action._store_metadata"
   ]
  },
  {
   "cell_type": "code",
   "execution_count": 62,
   "metadata": {
    "ExecuteTime": {
     "end_time": "2019-09-23T18:50:21.086424Z",
     "start_time": "2019-09-23T18:50:21.078142Z"
    }
   },
   "outputs": [
    {
     "data": {
      "text/plain": [
       "Action(operation='_register', succeeded=True, error=None)"
      ]
     },
     "execution_count": 62,
     "metadata": {},
     "output_type": "execute_result"
    }
   ],
   "source": [
    "action._last_action"
   ]
  },
  {
   "cell_type": "code",
   "execution_count": 63,
   "metadata": {
    "ExecuteTime": {
     "end_time": "2019-09-23T18:50:21.101282Z",
     "start_time": "2019-09-23T18:50:21.090545Z"
    }
   },
   "outputs": [
    {
     "data": {
      "text/plain": [
       "True"
      ]
     },
     "execution_count": 63,
     "metadata": {},
     "output_type": "execute_result"
    }
   ],
   "source": [
    "action._synchronized"
   ]
  },
  {
   "cell_type": "code",
   "execution_count": 64,
   "metadata": {
    "ExecuteTime": {
     "end_time": "2019-09-23T18:50:21.109091Z",
     "start_time": "2019-09-23T18:50:21.105159Z"
    }
   },
   "outputs": [],
   "source": [
    "action.agent = john"
   ]
  },
  {
   "cell_type": "code",
   "execution_count": 65,
   "metadata": {
    "ExecuteTime": {
     "end_time": "2019-09-23T18:50:21.121071Z",
     "start_time": "2019-09-23T18:50:21.112867Z"
    }
   },
   "outputs": [
    {
     "data": {
      "text/plain": [
       "False"
      ]
     },
     "execution_count": 65,
     "metadata": {},
     "output_type": "execute_result"
    }
   ],
   "source": [
    "action._synchronized"
   ]
  },
  {
   "cell_type": "markdown",
   "metadata": {},
   "source": [
    "**Registration (error)**"
   ]
  },
  {
   "cell_type": "code",
   "execution_count": 66,
   "metadata": {
    "ExecuteTime": {
     "end_time": "2019-09-23T18:50:21.132160Z",
     "start_time": "2019-09-23T18:50:21.123851Z"
    }
   },
   "outputs": [
    {
     "name": "stdout",
     "output_type": "stream",
     "text": [
      "<action> _register\n",
      "<succeeded> True\n"
     ]
    }
   ],
   "source": [
    "forge.storing.register(jane)"
   ]
  },
  {
   "cell_type": "code",
   "execution_count": 67,
   "metadata": {
    "ExecuteTime": {
     "end_time": "2019-09-23T18:50:21.141175Z",
     "start_time": "2019-09-23T18:50:21.134967Z"
    }
   },
   "outputs": [
    {
     "name": "stdout",
     "output_type": "stream",
     "text": [
      "<count> 1\n",
      "<action> _register\n",
      "<succeeded> False\n",
      "<error> resource already exists\n",
      "\n",
      "<count> 1\n",
      "<action> _register\n",
      "<succeeded> True\n"
     ]
    }
   ],
   "source": [
    "forge.storing.register(persons)"
   ]
  },
  {
   "cell_type": "code",
   "execution_count": 68,
   "metadata": {
    "ExecuteTime": {
     "end_time": "2019-09-23T18:50:21.150719Z",
     "start_time": "2019-09-23T18:50:21.143812Z"
    }
   },
   "outputs": [
    {
     "data": {
      "text/plain": [
       "False"
      ]
     },
     "execution_count": 68,
     "metadata": {},
     "output_type": "execute_result"
    }
   ],
   "source": [
    "jane._synchronized"
   ]
  },
  {
   "cell_type": "code",
   "execution_count": 69,
   "metadata": {
    "ExecuteTime": {
     "end_time": "2019-09-23T18:50:21.159904Z",
     "start_time": "2019-09-23T18:50:21.153635Z"
    }
   },
   "outputs": [
    {
     "data": {
      "text/plain": [
       "True"
      ]
     },
     "execution_count": 69,
     "metadata": {},
     "output_type": "execute_result"
    }
   ],
   "source": [
    "john._synchronized"
   ]
  },
  {
   "cell_type": "markdown",
   "metadata": {},
   "source": [
    "**Update**"
   ]
  },
  {
   "cell_type": "code",
   "execution_count": 70,
   "metadata": {
    "ExecuteTime": {
     "end_time": "2019-09-23T18:50:21.169691Z",
     "start_time": "2019-09-23T18:50:21.162922Z"
    }
   },
   "outputs": [
    {
     "data": {
      "text/plain": [
       "False"
      ]
     },
     "execution_count": 70,
     "metadata": {},
     "output_type": "execute_result"
    }
   ],
   "source": [
    "action._synchronized"
   ]
  },
  {
   "cell_type": "code",
   "execution_count": 71,
   "metadata": {
    "ExecuteTime": {
     "end_time": "2019-09-23T18:50:21.179602Z",
     "start_time": "2019-09-23T18:50:21.172565Z"
    }
   },
   "outputs": [
    {
     "data": {
      "text/plain": [
       "1"
      ]
     },
     "execution_count": 71,
     "metadata": {},
     "output_type": "execute_result"
    }
   ],
   "source": [
    "action._store_metadata.version"
   ]
  },
  {
   "cell_type": "code",
   "execution_count": 72,
   "metadata": {
    "ExecuteTime": {
     "end_time": "2019-09-23T18:50:21.190111Z",
     "start_time": "2019-09-23T18:50:21.182709Z"
    }
   },
   "outputs": [
    {
     "name": "stdout",
     "output_type": "stream",
     "text": [
      "<action> _register\n",
      "<succeeded> True\n"
     ]
    }
   ],
   "source": [
    "forge.storing.update(action)"
   ]
  },
  {
   "cell_type": "code",
   "execution_count": 73,
   "metadata": {
    "ExecuteTime": {
     "end_time": "2019-09-23T18:50:21.199561Z",
     "start_time": "2019-09-23T18:50:21.192465Z"
    }
   },
   "outputs": [
    {
     "data": {
      "text/plain": [
       "True"
      ]
     },
     "execution_count": 73,
     "metadata": {},
     "output_type": "execute_result"
    }
   ],
   "source": [
    "action._synchronized"
   ]
  },
  {
   "cell_type": "code",
   "execution_count": 74,
   "metadata": {
    "ExecuteTime": {
     "end_time": "2019-09-23T18:50:21.217024Z",
     "start_time": "2019-09-23T18:50:21.208547Z"
    }
   },
   "outputs": [
    {
     "data": {
      "text/plain": [
       "2"
      ]
     },
     "execution_count": 74,
     "metadata": {},
     "output_type": "execute_result"
    }
   ],
   "source": [
    "action._store_metadata.version"
   ]
  },
  {
   "cell_type": "markdown",
   "metadata": {
    "ExecuteTime": {
     "end_time": "2019-09-23T15:42:21.191590Z",
     "start_time": "2019-09-23T15:42:21.184256Z"
    }
   },
   "source": [
    "**Tagging**"
   ]
  },
  {
   "cell_type": "code",
   "execution_count": 75,
   "metadata": {
    "ExecuteTime": {
     "end_time": "2019-09-23T18:50:21.227051Z",
     "start_time": "2019-09-23T18:50:21.220263Z"
    }
   },
   "outputs": [
    {
     "data": {
      "text/plain": [
       "1"
      ]
     },
     "execution_count": 75,
     "metadata": {},
     "output_type": "execute_result"
    }
   ],
   "source": [
    "john._store_metadata.version"
   ]
  },
  {
   "cell_type": "code",
   "execution_count": 76,
   "metadata": {
    "ExecuteTime": {
     "end_time": "2019-09-23T18:50:21.235417Z",
     "start_time": "2019-09-23T18:50:21.229695Z"
    }
   },
   "outputs": [
    {
     "data": {
      "text/plain": [
       "True"
      ]
     },
     "execution_count": 76,
     "metadata": {},
     "output_type": "execute_result"
    }
   ],
   "source": [
    "john._synchronized"
   ]
  },
  {
   "cell_type": "code",
   "execution_count": 77,
   "metadata": {
    "ExecuteTime": {
     "end_time": "2019-09-23T18:50:21.244576Z",
     "start_time": "2019-09-23T18:50:21.238277Z"
    }
   },
   "outputs": [
    {
     "name": "stdout",
     "output_type": "stream",
     "text": [
      "<action> _tag_one\n",
      "<succeeded> True\n"
     ]
    }
   ],
   "source": [
    "forge.storing.tag(john, \"v1\")"
   ]
  },
  {
   "cell_type": "markdown",
   "metadata": {
    "ExecuteTime": {
     "end_time": "2019-09-23T15:56:05.768688Z",
     "start_time": "2019-09-23T15:56:05.760183Z"
    }
   },
   "source": [
    "**Tagging (error)**"
   ]
  },
  {
   "cell_type": "code",
   "execution_count": 78,
   "metadata": {
    "ExecuteTime": {
     "end_time": "2019-09-23T18:50:21.255080Z",
     "start_time": "2019-09-23T18:50:21.248873Z"
    }
   },
   "outputs": [
    {
     "data": {
      "text/plain": [
       "False"
      ]
     },
     "execution_count": 78,
     "metadata": {},
     "output_type": "execute_result"
    }
   ],
   "source": [
    "jane._synchronized"
   ]
  },
  {
   "cell_type": "code",
   "execution_count": 79,
   "metadata": {
    "ExecuteTime": {
     "end_time": "2019-09-23T18:50:21.262122Z",
     "start_time": "2019-09-23T18:50:21.257592Z"
    }
   },
   "outputs": [
    {
     "name": "stdout",
     "output_type": "stream",
     "text": [
      "<count> 1\n",
      "<action> _tag_one\n",
      "<succeeded> False\n",
      "<error> resource not synchronized\n",
      "\n",
      "<count> 1\n",
      "<action> _tag_one\n",
      "<succeeded> False\n",
      "<error> resource version already tagged\n"
     ]
    }
   ],
   "source": [
    "forge.storing.tag(persons, \"v1\")"
   ]
  },
  {
   "cell_type": "markdown",
   "metadata": {},
   "source": [
    "**Deprecation**"
   ]
  },
  {
   "cell_type": "code",
   "execution_count": 80,
   "metadata": {
    "ExecuteTime": {
     "end_time": "2019-09-23T18:50:21.276769Z",
     "start_time": "2019-09-23T18:50:21.266848Z"
    }
   },
   "outputs": [
    {
     "data": {
      "text/plain": [
       "{'version': 1, 'deprecated': False}"
      ]
     },
     "execution_count": 80,
     "metadata": {},
     "output_type": "execute_result"
    }
   ],
   "source": [
    "john._store_metadata"
   ]
  },
  {
   "cell_type": "code",
   "execution_count": 81,
   "metadata": {
    "ExecuteTime": {
     "end_time": "2019-09-23T18:50:21.286647Z",
     "start_time": "2019-09-23T18:50:21.279510Z"
    }
   },
   "outputs": [
    {
     "name": "stdout",
     "output_type": "stream",
     "text": [
      "<action> _deprecate_one\n",
      "<succeeded> True\n"
     ]
    }
   ],
   "source": [
    "forge.storing.deprecate(john)"
   ]
  },
  {
   "cell_type": "code",
   "execution_count": 82,
   "metadata": {
    "ExecuteTime": {
     "end_time": "2019-09-23T18:50:21.297768Z",
     "start_time": "2019-09-23T18:50:21.290504Z"
    }
   },
   "outputs": [
    {
     "data": {
      "text/plain": [
       "{'version': 2, 'deprecated': True}"
      ]
     },
     "execution_count": 82,
     "metadata": {},
     "output_type": "execute_result"
    }
   ],
   "source": [
    "john._store_metadata"
   ]
  },
  {
   "cell_type": "markdown",
   "metadata": {},
   "source": [
    "### Querying"
   ]
  },
  {
   "cell_type": "markdown",
   "metadata": {},
   "source": [
    "**Retrieval**"
   ]
  },
  {
   "cell_type": "code",
   "execution_count": 83,
   "metadata": {},
   "outputs": [],
   "source": [
    "# FIXME Conversion of nested resources."
   ]
  },
  {
   "cell_type": "code",
   "execution_count": 84,
   "metadata": {
    "ExecuteTime": {
     "end_time": "2019-09-23T18:50:21.305941Z",
     "start_time": "2019-09-23T18:50:21.300670Z"
    }
   },
   "outputs": [],
   "source": [
    "john_vlatest = forge.querying.retrieve(john.id)"
   ]
  },
  {
   "cell_type": "code",
   "execution_count": 85,
   "metadata": {
    "ExecuteTime": {
     "end_time": "2019-09-23T18:50:21.317601Z",
     "start_time": "2019-09-23T18:50:21.310418Z"
    }
   },
   "outputs": [
    {
     "data": {
      "text/plain": [
       "2"
      ]
     },
     "execution_count": 85,
     "metadata": {},
     "output_type": "execute_result"
    }
   ],
   "source": [
    "john_vlatest._store_metadata.version"
   ]
  },
  {
   "cell_type": "code",
   "execution_count": 86,
   "metadata": {
    "ExecuteTime": {
     "end_time": "2019-09-23T18:50:21.332678Z",
     "start_time": "2019-09-23T18:50:21.322025Z"
    }
   },
   "outputs": [],
   "source": [
    "john_v1 = forge.querying.retrieve(john.id, version=1)"
   ]
  },
  {
   "cell_type": "code",
   "execution_count": 87,
   "metadata": {
    "ExecuteTime": {
     "end_time": "2019-09-23T18:50:21.351328Z",
     "start_time": "2019-09-23T18:50:21.336857Z"
    }
   },
   "outputs": [
    {
     "data": {
      "text/plain": [
       "1"
      ]
     },
     "execution_count": 87,
     "metadata": {},
     "output_type": "execute_result"
    }
   ],
   "source": [
    "john_v1._store_metadata.version"
   ]
  },
  {
   "cell_type": "code",
   "execution_count": 88,
   "metadata": {
    "ExecuteTime": {
     "end_time": "2019-09-23T18:50:21.370051Z",
     "start_time": "2019-09-23T18:50:21.363782Z"
    }
   },
   "outputs": [],
   "source": [
    "john_vtagged = forge.querying.retrieve(john.id, version=\"v1\")"
   ]
  },
  {
   "cell_type": "code",
   "execution_count": 89,
   "metadata": {
    "ExecuteTime": {
     "end_time": "2019-09-23T18:50:21.379911Z",
     "start_time": "2019-09-23T18:50:21.373539Z"
    }
   },
   "outputs": [
    {
     "data": {
      "text/plain": [
       "1"
      ]
     },
     "execution_count": 89,
     "metadata": {},
     "output_type": "execute_result"
    }
   ],
   "source": [
    "john_vtagged._store_metadata.version"
   ]
  },
  {
   "cell_type": "markdown",
   "metadata": {},
   "source": [
    "**Retrieval (error)**"
   ]
  },
  {
   "cell_type": "code",
   "execution_count": 90,
   "metadata": {},
   "outputs": [
    {
     "name": "stdout",
     "output_type": "stream",
     "text": [
      "<action> retrieve\n",
      "<error> resource not found\n",
      "<args> (<kgforge.specializations.stores.demo_store.DemoStore object at 0x117f7bf28>, '751d2e2a-7e7f-43cf-9538-481f89ff852d', 3)\n"
     ]
    }
   ],
   "source": [
    "forge.querying.retrieve(john.id, version=3)"
   ]
  },
  {
   "cell_type": "markdown",
   "metadata": {},
   "source": [
    "**Searching**"
   ]
  },
  {
   "cell_type": "code",
   "execution_count": 91,
   "metadata": {},
   "outputs": [],
   "source": [
    "action_bis = Resource(type=\"Action\", agent=jane)"
   ]
  },
  {
   "cell_type": "code",
   "execution_count": 92,
   "metadata": {},
   "outputs": [
    {
     "name": "stdout",
     "output_type": "stream",
     "text": [
      "<action> _register\n",
      "<succeeded> True\n"
     ]
    }
   ],
   "source": [
    "forge.storing.register(action_bis)"
   ]
  },
  {
   "cell_type": "code",
   "execution_count": 93,
   "metadata": {},
   "outputs": [],
   "source": [
    "p = forge.modeling.paths(\"Action\")"
   ]
  },
  {
   "cell_type": "code",
   "execution_count": 94,
   "metadata": {},
   "outputs": [],
   "source": [
    "results = forge.querying.search(p.type == \"Action\")"
   ]
  },
  {
   "cell_type": "code",
   "execution_count": 95,
   "metadata": {},
   "outputs": [
    {
     "data": {
      "text/plain": [
       "2"
      ]
     },
     "execution_count": 95,
     "metadata": {},
     "output_type": "execute_result"
    }
   ],
   "source": [
    "len(results)"
   ]
  },
  {
   "cell_type": "code",
   "execution_count": 96,
   "metadata": {},
   "outputs": [],
   "source": [
    "# FIXME Implement.\n",
    "# forge.transforming.as_dataframe(results, store_metadata=True)"
   ]
  },
  {
   "cell_type": "code",
   "execution_count": 97,
   "metadata": {},
   "outputs": [],
   "source": [
    "results_bis = forge.querying.search(p.type == \"Action\",\n",
    "                                    p.agent.name == \"John Smith\")"
   ]
  },
  {
   "cell_type": "code",
   "execution_count": 98,
   "metadata": {},
   "outputs": [
    {
     "data": {
      "text/plain": [
       "1"
      ]
     },
     "execution_count": 98,
     "metadata": {},
     "output_type": "execute_result"
    }
   ],
   "source": [
    "len(results_bis)"
   ]
  },
  {
   "cell_type": "code",
   "execution_count": 99,
   "metadata": {},
   "outputs": [
    {
     "name": "stdout",
     "output_type": "stream",
     "text": [
      "{\n",
      "    _last_action: null\n",
      "    _validated: false\n",
      "    _synchronized: true\n",
      "    _store_metadata:\n",
      "    {\n",
      "        version: 2\n",
      "        deprecated: false\n",
      "    }\n",
      "    type: Action\n",
      "    id: a7f84905-5090-4066-9a6f-b7cf41320598\n",
      "    agent:\n",
      "    {\n",
      "        type: Person\n",
      "        id: 751d2e2a-7e7f-43cf-9538-481f89ff852d\n",
      "        name: John Smith\n",
      "        email: john.smith@epfl.ch\n",
      "    }\n",
      "}\n"
     ]
    }
   ],
   "source": [
    "# FIXME Conversion of nested resources.\n",
    "print(results_bis[0])"
   ]
  },
  {
   "cell_type": "markdown",
   "metadata": {},
   "source": [
    "**SPARQL**"
   ]
  },
  {
   "cell_type": "code",
   "execution_count": 100,
   "metadata": {},
   "outputs": [
    {
     "name": "stdout",
     "output_type": "stream",
     "text": [
      "DemoStore is not supporting sparql()\n"
     ]
    }
   ],
   "source": [
    "# FIXME Example.\n",
    "forge.querying.sparql(\"\"\"\n",
    "    SELECT ?x, ?name\n",
    "    WHERE\n",
    "    {\n",
    "        ?x type \"Action\" .\n",
    "        ?x agent ?name\n",
    "    }\n",
    "\"\"\")"
   ]
  },
  {
   "cell_type": "markdown",
   "metadata": {},
   "source": [
    "**Downloading**"
   ]
  },
  {
   "cell_type": "code",
   "execution_count": 101,
   "metadata": {},
   "outputs": [
    {
     "name": "stdout",
     "output_type": "stream",
     "text": [
      "DemoStore is not supporting download()\n"
     ]
    }
   ],
   "source": [
    "# FIXME Example.\n",
    "forge.querying.download(action, \"distribution.contentUrl\", \"./downloaded/\")"
   ]
  },
  {
   "cell_type": "code",
   "execution_count": null,
   "metadata": {},
   "outputs": [],
   "source": []
  }
 ],
 "metadata": {
  "kernelspec": {
   "display_name": "Python 3",
   "language": "python",
   "name": "python3"
  },
  "language_info": {
   "codemirror_mode": {
    "name": "ipython",
    "version": 3
   },
   "file_extension": ".py",
   "mimetype": "text/x-python",
   "name": "python",
   "nbconvert_exporter": "python",
   "pygments_lexer": "ipython3",
   "version": "3.6.9"
  }
 },
 "nbformat": 4,
 "nbformat_minor": 2
}
